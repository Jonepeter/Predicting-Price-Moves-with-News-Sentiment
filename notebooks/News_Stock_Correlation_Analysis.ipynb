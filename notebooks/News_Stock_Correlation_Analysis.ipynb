{
 "cells": [
  {
   "cell_type": "markdown",
   "id": "72e661e4",
   "metadata": {},
   "source": [
    "## **Task 3: Correlation between news and stock movement**\n",
    "\n",
    "- Date Alignment: Ensure that both datasets (news and stock prices) are aligned by dates. This might involve normalizing timestamps.\n",
    "- Sentiment Analysis: Conduct sentiment analysis on news headlines to quantify the tone of each article (positive, negative, neutral).Tools: Use Python libraries like nltk, TextBlob for sentiment analysis.\n",
    "- Analysis:\n",
    "  - Calculate Daily Stock Returns: Compute the percentage change in daily closing prices to represent stock movements.\n",
    "  - Correlation Analysis: Use statistical methods to test the correlation between daily news sentiment scores and stock returns."
   ]
  },
  {
   "cell_type": "code",
   "execution_count": 1,
   "id": "48e66078",
   "metadata": {},
   "outputs": [],
   "source": [
    "import os \n",
    "import sys\n",
    "\n",
    "sys_path = os.path.abspath(\"..\")\n",
    "if sys_path not in sys.path:\n",
    "    sys.path.append(sys_path)\n",
    "\n",
    "%load_ext autoreload\n",
    "%autoreload 2"
   ]
  },
  {
   "cell_type": "code",
   "execution_count": 2,
   "id": "a5876516",
   "metadata": {},
   "outputs": [
    {
     "name": "stdout",
     "output_type": "stream",
     "text": [
      "Local punkt tokenizer found.\n"
     ]
    }
   ],
   "source": [
    "from scripts.News_Stock_Correlation_Util import NewsStockCorrelationAnalyzer"
   ]
  },
  {
   "cell_type": "code",
   "execution_count": 3,
   "id": "ba5312bc",
   "metadata": {},
   "outputs": [],
   "source": [
    "# creating instance using NewsStockCorrelationAnalyzer class\n",
    "analysis = NewsStockCorrelationAnalyzer()"
   ]
  },
  {
   "cell_type": "markdown",
   "id": "4575232e",
   "metadata": {},
   "source": [
    "#### loading financial news data "
   ]
  },
  {
   "cell_type": "code",
   "execution_count": 4,
   "id": "8ae0f9be",
   "metadata": {},
   "outputs": [
    {
     "name": "stdout",
     "output_type": "stream",
     "text": [
      "----------------Loading FNSPID data from ../data/raw_analyst_ratings.csv------------\n"
     ]
    },
    {
     "data": {
      "application/vnd.microsoft.datawrangler.viewer.v0+json": {
       "columns": [
        {
         "name": "index",
         "rawType": "int64",
         "type": "integer"
        },
        {
         "name": "Unnamed: 0",
         "rawType": "int64",
         "type": "integer"
        },
        {
         "name": "headline",
         "rawType": "object",
         "type": "string"
        },
        {
         "name": "url",
         "rawType": "object",
         "type": "string"
        },
        {
         "name": "publisher",
         "rawType": "object",
         "type": "string"
        },
        {
         "name": "date",
         "rawType": "datetime64[ns, UTC-04:00]",
         "type": "unknown"
        },
        {
         "name": "stock",
         "rawType": "object",
         "type": "string"
        }
       ],
       "ref": "b5e85f5e-bc4d-4521-9a9a-685e7e4681f3",
       "rows": [
        [
         "0",
         "0",
         "Stocks That Hit 52-Week Highs On Friday",
         "https://www.benzinga.com/news/20/06/16190091/stocks-that-hit-52-week-highs-on-friday",
         "Benzinga Insights",
         "2020-06-05 10:30:54-04:00",
         "A"
        ],
        [
         "1",
         "1",
         "Stocks That Hit 52-Week Highs On Wednesday",
         "https://www.benzinga.com/news/20/06/16170189/stocks-that-hit-52-week-highs-on-wednesday",
         "Benzinga Insights",
         "2020-06-03 10:45:20-04:00",
         "A"
        ],
        [
         "2",
         "2",
         "71 Biggest Movers From Friday",
         "https://www.benzinga.com/news/20/05/16103463/71-biggest-movers-from-friday",
         "Lisa Levin",
         "2020-05-26 04:30:07-04:00",
         "A"
        ],
        [
         "3",
         "3",
         "46 Stocks Moving In Friday's Mid-Day Session",
         "https://www.benzinga.com/news/20/05/16095921/46-stocks-moving-in-fridays-mid-day-session",
         "Lisa Levin",
         "2020-05-22 12:45:06-04:00",
         "A"
        ],
        [
         "4",
         "4",
         "B of A Securities Maintains Neutral on Agilent Technologies, Raises Price Target to $88",
         "https://www.benzinga.com/news/20/05/16095304/b-of-a-securities-maintains-neutral-on-agilent-technologies-raises-price-target-to-88",
         "Vick Meyer",
         "2020-05-22 11:38:59-04:00",
         "A"
        ],
        [
         "5",
         "5",
         "CFRA Maintains Hold on Agilent Technologies, Lowers Price Target to $85",
         "https://www.benzinga.com/news/20/05/16095163/cfra-maintains-hold-on-agilent-technologies-lowers-price-target-to-85",
         "vishwanath@benzinga.com",
         "2020-05-22 11:23:25-04:00",
         "A"
        ],
        [
         "6",
         "6",
         "UBS Maintains Neutral on Agilent Technologies, Raises Price Target to $87",
         "https://www.benzinga.com/news/20/05/16094027/ubs-maintains-neutral-on-agilent-technologies-raises-price-target-to-87",
         "vishwanath@benzinga.com",
         "2020-05-22 09:36:20-04:00",
         "A"
        ],
        [
         "7",
         "7",
         "Agilent Technologies shares are trading higher after the company reported better-than-expected Q2 EPS and sales results.",
         "https://www.benzinga.com/wiim/20/05/16093805/agilent-technologies-shares-are-trading-higher-after-the-company-reported-better-than-expected-q2-ep",
         "Benzinga Newsdesk",
         "2020-05-22 09:07:04-04:00",
         "A"
        ],
        [
         "8",
         "8",
         "Wells Fargo Maintains Overweight on Agilent Technologies, Raises Price Target to $95",
         "https://www.benzinga.com/news/20/05/16093505/wells-fargo-maintains-overweight-on-agilent-technologies-raises-price-target-to-95",
         "vishwanath@benzinga.com",
         "2020-05-22 08:37:59-04:00",
         "A"
        ],
        [
         "9",
         "9",
         "10 Biggest Price Target Changes For Friday",
         "https://www.benzinga.com/analyst-ratings/price-target/20/05/16093262/10-biggest-price-target-changes-for-friday",
         "Lisa Levin",
         "2020-05-22 08:06:17-04:00",
         "A"
        ],
        [
         "10",
         "10",
         "30 Stocks Moving in Friday's Pre-Market Session",
         "https://www.benzinga.com/news/20/05/16092879/30-stocks-moving-in-fridays-pre-market-session",
         "Lisa Levin",
         "2020-05-22 00:00:00-04:00",
         "A"
        ],
        [
         "11",
         "11",
         "SVB Leerink Maintains Outperform on Agilent Technologies, Raises Price Target to $95",
         "https://www.benzinga.com/news/20/05/16092270/svb-leerink-maintains-outperform-on-agilent-technologies-raises-price-target-to-95",
         "vishwanath@benzinga.com",
         "2020-05-22 00:00:00-04:00",
         "A"
        ],
        [
         "12",
         "12",
         "8 Stocks Moving In Thursday's After-Hours Session",
         "https://www.benzinga.com/news/20/05/16089803/8-stocks-moving-in-thursdays-after-hours-session",
         "Tyree Gorges",
         "2020-05-21 00:00:00-04:00",
         "A"
        ],
        [
         "13",
         "13",
         "Agilent Technologies shares are trading higher after the company reported better-than-expected Q2 EPS and sales results.",
         "https://www.benzinga.com/wiim/20/05/16089218/agilent-technologies-shares-are-trading-higher-after-the-company-reported-better-than-expected-q2-ep",
         "Benzinga Newsdesk",
         "2020-05-21 00:00:00-04:00",
         "A"
        ],
        [
         "14",
         "14",
         "Agilent Technologies Q2 Adj. EPS $0.71 Beats $0.61 Estimate, Sales $1.24B Beat $1.21B Estimate",
         "https://www.benzinga.com/news/earnings/20/05/16088886/agilent-technologies-q2-adj-eps-0-71-beats-0-61-estimate-sales-1-24b-beat-1-21b-estimate",
         "Benzinga Newsdesk",
         "2020-05-21 00:00:00-04:00",
         "A"
        ],
        [
         "15",
         "15",
         "Earnings Scheduled For May 21, 2020",
         "https://www.benzinga.com/news/earnings/20/05/16082427/earnings-scheduled-for-may-21-2020",
         "Lisa Levin",
         "2020-05-21 00:00:00-04:00",
         "A"
        ],
        [
         "16",
         "16",
         "Agilent Technologies Receives FDA Approval for PD-L1 as a Companion Diagnostic",
         "https://www.benzinga.com/news/20/05/16054223/agilent-technologies-receives-fda-approval-for-pd-l1-as-a-companion-diagnostic",
         "Luke J Jacobi",
         "2020-05-18 00:00:00-04:00",
         "A"
        ],
        [
         "17",
         "17",
         "Q1 13F Roundup: How Buffett, Einhorn, Ackman And Others Adjusted Their Portfolios",
         "https://www.benzinga.com/news/20/05/16051311/q1-13f-roundup-how-buffett-einhorn-ackman-and-others-adjusted-their-portfolios",
         "Wayne Duggan",
         "2020-05-16 00:00:00-04:00",
         "A"
        ],
        [
         "18",
         "18",
         "Pershing Square 13F Shows Fund Raises Stake In Agilent Technologies To 12,626,593 Shares",
         "https://www.benzinga.com/general/hedge-funds/20/05/16048806/pershing-square-13f-shows-fund-raises-stake-in-agilent-technologies-to-12-626-593-shares",
         "Benzinga Newsdesk",
         "2020-05-15 00:00:00-04:00",
         "A"
        ],
        [
         "19",
         "19",
         "How Bill Ackman Successfully Navigated Coronavirus Market Volatility",
         "https://www.benzinga.com/general/education/20/05/15979110/how-bill-ackman-successfully-navigated-coronavirus-market-volatility",
         "Wayne Duggan",
         "2020-05-08 00:00:00-04:00",
         "A"
        ],
        [
         "20",
         "20",
         "Shares of several healthcare companies are trading higher amid positive investor sentiment as some US states begin to reopen their economies and as oil prices gain for the session.",
         "https://www.benzinga.com/wiim/20/05/15957697/shares-of-several-healthcare-companies-are-trading-higher-amid-positive-investor-sentiment-as-some-u",
         "Benzinga Newsdesk",
         "2020-05-05 00:00:00-04:00",
         "A"
        ],
        [
         "21",
         "21",
         "Shares of several healthcare companies are trading lower as markets dip following recent strength. Markets have sold off as investors weigh recent earnings and amid concerns of renewed US-China trade frictions.",
         "https://www.benzinga.com/20/05/15935673/shares-of-several-healthcare-companies-are-trading-lower-as-markets-dip-following-recent-strength-ma",
         "Benzinga Newsdesk",
         "2020-05-01 00:00:00-04:00",
         "A"
        ],
        [
         "22",
         "22",
         "UBS Maintains Neutral on Agilent Technologies, Lowers Price Target to $84",
         "https://www.benzinga.com/news/20/04/15897306/ubs-maintains-neutral-on-agilent-technologies-lowers-price-target-to-84",
         "vishwanath@benzinga.com",
         "2020-04-28 00:00:00-04:00",
         "A"
        ],
        [
         "23",
         "23",
         "Agilent Reports FDA Approval For PD-L1 Companion Diagnostic On Dako Omni",
         "https://www.benzinga.com/news/20/04/15864339/agilent-reports-fda-approval-for-pd-l1-companion-diagnostic-on-dako-omni",
         "Benzinga Newsdesk",
         "2020-04-23 00:00:00-04:00",
         "A"
        ],
        [
         "24",
         "24",
         "Agilent Reports Has Become Top-Level Sponsor Of My Green Lab",
         "https://www.benzinga.com/news/20/04/15855436/agilent-reports-has-become-top-level-sponsor-of-my-green-lab",
         "Benzinga Newsdesk",
         "2020-04-22 00:00:00-04:00",
         "A"
        ],
        [
         "25",
         "25",
         "Agilent Withdraws Q2 And FY20 Guidance",
         "https://www.benzinga.com/news/20/04/15796369/agilent-withdraws-q2-and-fy20-guidance",
         "Benzinga Newsdesk",
         "2020-04-14 00:00:00-04:00",
         "A"
        ],
        [
         "26",
         "26",
         "Shares of several companies in the auto dealer space are trading higher amid positive market sentiment. Speculation some coronavirus hotspots leveling off has raised hopes of a return to economic activity, which could mean a rebound in consumer spending.",
         "https://www.benzinga.com/wiim/20/04/15769071/shares-of-several-companies-in-the-auto-dealer-space-are-trading-higher-amid-positive-market-sentime",
         "Benzinga Newsdesk",
         "2020-04-08 00:00:00-04:00",
         "A"
        ],
        [
         "27",
         "27",
         "Shares of several healthcare companies are trading higher as markets gain amid optimism that coronavirus cases in several US hotspots may be peaking. A sooner peak could mean a sooner return to economic activity.",
         "https://www.benzinga.com/wiim/20/04/15748126/shares-of-several-healthcare-companies-are-trading-higher-as-markets-gain-amid-optimism-that-coronav",
         "Benzinga Newsdesk",
         "2020-04-06 00:00:00-04:00",
         "A"
        ],
        [
         "28",
         "28",
         "Stifel Maintains Hold on Agilent Technologies, Lowers Price Target to $73",
         "https://www.benzinga.com/news/20/04/15728603/stifel-maintains-hold-on-agilent-technologies-lowers-price-target-to-73",
         "Vick Meyer",
         "2020-04-02 00:00:00-04:00",
         "A"
        ],
        [
         "29",
         "29",
         "Shares of several healthcare companies are trading lower amid market weakness as growing coronavirus concerns in the US weigh on equities.",
         "https://www.benzinga.com/wiim/20/04/15717065/shares-of-several-healthcare-companies-are-trading-lower-amid-market-weakness-as-growing-coronavirus",
         "Benzinga Newsdesk",
         "2020-04-01 00:00:00-04:00",
         "A"
        ],
        [
         "30",
         "30",
         "Int'l. Air Transport Authority Chief Economist Sees Consolidation In Airline Sector As Some Airlines Fail, Calls Signs In Chinese Domestic Market 'Encouraging,' Load Factors Are About 60%",
         "https://www.benzinga.com/news/20/03/15705690/intl-air-transport-authority-chief-economist-sees-consolidation-in-airline-sector-as-some-airlines-f",
         "Benzinga Newsdesk",
         "2020-03-31 00:00:00-04:00",
         "A"
        ],
        [
         "31",
         "31",
         "Wells Fargo Maintains Overweight on Agilent Technologies, Lowers Price Target to $82",
         "https://www.benzinga.com/news/20/03/15695415/wells-fargo-maintains-overweight-on-agilent-technologies-lowers-price-target-to-82",
         "Vick Meyer",
         "2020-03-30 00:00:00-04:00",
         "A"
        ],
        [
         "32",
         "32",
         "Shares of several technology companies are trading higher as equities continue to rise following last week's rebound amid US stimulus measures.",
         "https://www.benzinga.com/wiim/20/03/15695372/shares-of-several-technology-companies-are-trading-higher-as-equities-continue-to-rise-following-las",
         "Benzinga Newsdesk",
         "2020-03-30 00:00:00-04:00",
         "A"
        ],
        [
         "33",
         "33",
         "Shares of several healthcare companies are trading lower, selling off from this week's strength. While the US stimulus package boosted economic optimism, demand concerns still exist amid the coronavirus outbreak.",
         "https://www.benzinga.com/wiim/20/03/15683827/shares-of-several-healthcare-companies-are-trading-lower-selling-off-from-this-weeks-strength-while",
         "Benzinga Newsdesk",
         "2020-03-27 00:00:00-04:00",
         "A"
        ],
        [
         "34",
         "34",
         "Shares of several healthcare companies are trading higher following Senate passage of a $2 trillion economic stimulus package, which has lifted stocks across sectors.",
         "https://www.benzinga.com/wiim/20/03/15674560/shares-of-several-healthcare-companies-are-trading-higher-following-senate-passage-of-a-2-trillion-e",
         "Benzinga Newsdesk",
         "2020-03-26 00:00:00-04:00",
         "A"
        ],
        [
         "35",
         "35",
         "Barclays Maintains Equal-Weight on Agilent Technologies, Lowers Price Target to $76",
         "https://www.benzinga.com/news/20/03/15673665/barclays-maintains-equal-weight-on-agilent-technologies-lowers-price-target-to-76",
         "Vick Meyer",
         "2020-03-26 00:00:00-04:00",
         "A"
        ],
        [
         "36",
         "36",
         "Ariel Chairman John Rogers Thinks Current Market Is 'Once In A Lifetime Opportunity To Buy Stocks'",
         "https://www.benzinga.com/news/20/03/15668620/ariel-chairman-john-rogers-thinks-current-market-is-once-in-a-lifetime-opportunity-to-buy-stocks",
         "Shivdeep Dhaliwal",
         "2020-03-26 00:00:00-04:00",
         "A"
        ],
        [
         "37",
         "37",
         "Citigroup Maintains Neutral on Agilent Technologies, Lowers Price Target to $75",
         "https://www.benzinga.com/news/20/03/15615851/citigroup-maintains-neutral-on-agilent-technologies-lowers-price-target-to-75",
         "Vick Meyer",
         "2020-03-20 00:00:00-04:00",
         "A"
        ],
        [
         "38",
         "38",
         "Stocks That Hit 52-Week Lows On Monday",
         "https://www.benzinga.com/news/20/03/15560273/stocks-that-hit-52-week-lows-on-monday",
         "Benzinga Newsdesk",
         "2020-03-16 00:00:00-04:00",
         "A"
        ],
        [
         "39",
         "39",
         "Shares of several healthcare companies are trading lower in sympathy with the overall market on continued downward momentum caused by the coronavirus. The virus has had a negative impact on the global economy.",
         "https://www.benzinga.com/wiim/20/03/15558425/shares-of-several-healthcare-companies-are-trading-lower-in-sympathy-with-the-overall-market-on-cont",
         "Benzinga Newsdesk",
         "2020-03-16 00:00:00-04:00",
         "A"
        ],
        [
         "40",
         "40",
         "Shares of several basic materials companies are trading higher, rebounding following Thursday's crash. The sector has been volatile amid the coronavirus outbreak, which has disrupted economic activity. NOTE: While markets rebound, virus fears persist.",
         "https://www.benzinga.com/wiim/20/03/15546085/shares-of-several-basic-materials-companies-are-trading-higher-rebounding-following-thursdays-crash",
         "Benzinga Newsdesk",
         "2020-03-13 00:00:00-04:00",
         "A"
        ],
        [
         "41",
         "41",
         "Stocks That Hit 52-Week Lows On Thursday",
         "https://www.benzinga.com/news/20/03/15538835/stocks-that-hit-52-week-lows-on-thursday",
         "Lisa Levin",
         "2020-03-12 00:00:00-04:00",
         "A"
        ],
        [
         "42",
         "42",
         "Shares of several coronavirus-related companies including vaccine makers, protective apparel manufacturers and emergency medical suppliers are trading higher as the coronavirus continues to spread globally.",
         "https://www.benzinga.com/wiim/20/03/15528213/shares-of-several-coronavirus-related-companies-including-vaccine-makers-protective-apparel-manufact",
         "luke@benzinga.com",
         "2020-03-11 00:00:00-04:00",
         "A"
        ],
        [
         "43",
         "43",
         "Agilent Technologies Inc Says In January 2020, Net Revenue Was Negatively Impacted Due To The Public Health Crisis In China; Says In Jan 2020, Net Revenue Negatively Impacted Also Due To Extension Of Lunar New Year Resulting In Fewer Selling Days In Month",
         "https://www.benzinga.com/news/20/03/15472189/agilent-technologies-inc-says-in-january-2020-net-revenue-was-negatively-impacted-due-to-the-public",
         "luke@benzinga.com",
         "2020-03-03 00:00:00-04:00",
         "A"
        ],
        [
         "44",
         "44",
         "Shares of several healthcare companies are trading higher in sympathy with the overall market as it rebounds from a selloff caused by coronavirus fears.",
         "https://www.benzinga.com/wiim/20/03/15456786/shares-of-several-healthcare-companies-are-trading-higher-in-sympathy-with-the-overall-market-as-it",
         "Benzinga Newsdesk",
         "2020-03-02 00:00:00-04:00",
         "A"
        ],
        [
         "45",
         "45",
         "Benzinga's Top Upgrades, Downgrades For February 24, 2020",
         "https://www.benzinga.com/analyst-ratings/upgrades/20/02/15393664/benzingas-top-upgrades-downgrades-for-february-24-2020",
         "Lisa Levin",
         "2020-02-24 00:00:00-04:00",
         "A"
        ],
        [
         "46",
         "46",
         "Shares of several software companies are trading lower as the coronavirus cases surge outside of China. NOTE: The virus has raised fear of a global economic slowdown.",
         "https://www.benzinga.com/wiim/20/02/15392140/shares-of-several-software-companies-are-trading-lower-as-the-coronavirus-cases-surge-outside-of-chi",
         "Benzinga Newsdesk",
         "2020-02-24 00:00:00-04:00",
         "A"
        ],
        [
         "47",
         "47",
         "Needham Downgrades Agilent Technologies to Hold, Announces $85 Price Target",
         "https://www.benzinga.com/news/20/02/15391251/needham-downgrades-agilent-technologies-to-hold-announces-85-price-target",
         "Vick Meyer",
         "2020-02-24 00:00:00-04:00",
         "A"
        ],
        [
         "48",
         "48",
         "UBS Maintains Neutral on Agilent Technologies, Raises Price Target to $90",
         "https://www.benzinga.com/news/20/02/15363071/ubs-maintains-neutral-on-agilent-technologies-raises-price-target-to-90",
         "Vick Meyer",
         "2020-02-19 00:00:00-04:00",
         "A"
        ],
        [
         "49",
         "49",
         "12 Stocks Moving In Tuesday's After-Hours Session",
         "https://www.benzinga.com/news/20/02/15359453/12-stocks-moving-in-tuesdays-after-hours-session",
         "Tyree Gorges",
         "2020-02-18 00:00:00-04:00",
         "A"
        ]
       ],
       "shape": {
        "columns": 6,
        "rows": 1407328
       }
      },
      "text/html": [
       "<div>\n",
       "<style scoped>\n",
       "    .dataframe tbody tr th:only-of-type {\n",
       "        vertical-align: middle;\n",
       "    }\n",
       "\n",
       "    .dataframe tbody tr th {\n",
       "        vertical-align: top;\n",
       "    }\n",
       "\n",
       "    .dataframe thead th {\n",
       "        text-align: right;\n",
       "    }\n",
       "</style>\n",
       "<table border=\"1\" class=\"dataframe\">\n",
       "  <thead>\n",
       "    <tr style=\"text-align: right;\">\n",
       "      <th></th>\n",
       "      <th>Unnamed: 0</th>\n",
       "      <th>headline</th>\n",
       "      <th>url</th>\n",
       "      <th>publisher</th>\n",
       "      <th>date</th>\n",
       "      <th>stock</th>\n",
       "    </tr>\n",
       "  </thead>\n",
       "  <tbody>\n",
       "    <tr>\n",
       "      <th>0</th>\n",
       "      <td>0</td>\n",
       "      <td>Stocks That Hit 52-Week Highs On Friday</td>\n",
       "      <td>https://www.benzinga.com/news/20/06/16190091/s...</td>\n",
       "      <td>Benzinga Insights</td>\n",
       "      <td>2020-06-05 10:30:54-04:00</td>\n",
       "      <td>A</td>\n",
       "    </tr>\n",
       "    <tr>\n",
       "      <th>1</th>\n",
       "      <td>1</td>\n",
       "      <td>Stocks That Hit 52-Week Highs On Wednesday</td>\n",
       "      <td>https://www.benzinga.com/news/20/06/16170189/s...</td>\n",
       "      <td>Benzinga Insights</td>\n",
       "      <td>2020-06-03 10:45:20-04:00</td>\n",
       "      <td>A</td>\n",
       "    </tr>\n",
       "    <tr>\n",
       "      <th>2</th>\n",
       "      <td>2</td>\n",
       "      <td>71 Biggest Movers From Friday</td>\n",
       "      <td>https://www.benzinga.com/news/20/05/16103463/7...</td>\n",
       "      <td>Lisa Levin</td>\n",
       "      <td>2020-05-26 04:30:07-04:00</td>\n",
       "      <td>A</td>\n",
       "    </tr>\n",
       "    <tr>\n",
       "      <th>3</th>\n",
       "      <td>3</td>\n",
       "      <td>46 Stocks Moving In Friday's Mid-Day Session</td>\n",
       "      <td>https://www.benzinga.com/news/20/05/16095921/4...</td>\n",
       "      <td>Lisa Levin</td>\n",
       "      <td>2020-05-22 12:45:06-04:00</td>\n",
       "      <td>A</td>\n",
       "    </tr>\n",
       "    <tr>\n",
       "      <th>4</th>\n",
       "      <td>4</td>\n",
       "      <td>B of A Securities Maintains Neutral on Agilent...</td>\n",
       "      <td>https://www.benzinga.com/news/20/05/16095304/b...</td>\n",
       "      <td>Vick Meyer</td>\n",
       "      <td>2020-05-22 11:38:59-04:00</td>\n",
       "      <td>A</td>\n",
       "    </tr>\n",
       "    <tr>\n",
       "      <th>...</th>\n",
       "      <td>...</td>\n",
       "      <td>...</td>\n",
       "      <td>...</td>\n",
       "      <td>...</td>\n",
       "      <td>...</td>\n",
       "      <td>...</td>\n",
       "    </tr>\n",
       "    <tr>\n",
       "      <th>1407323</th>\n",
       "      <td>1413844</td>\n",
       "      <td>Top Narrow Based Indexes For August 29</td>\n",
       "      <td>https://www.benzinga.com/news/11/08/1888782/to...</td>\n",
       "      <td>Monica Gerson</td>\n",
       "      <td>2011-08-29 00:00:00-04:00</td>\n",
       "      <td>ZX</td>\n",
       "    </tr>\n",
       "    <tr>\n",
       "      <th>1407324</th>\n",
       "      <td>1413845</td>\n",
       "      <td>Recap: Wednesday's Top Percentage Gainers and ...</td>\n",
       "      <td>https://www.benzinga.com/news/earnings/11/06/1...</td>\n",
       "      <td>Benjamin Lee</td>\n",
       "      <td>2011-06-22 00:00:00-04:00</td>\n",
       "      <td>ZX</td>\n",
       "    </tr>\n",
       "    <tr>\n",
       "      <th>1407325</th>\n",
       "      <td>1413846</td>\n",
       "      <td>UPDATE: Oppenheimer Color on China Zenix Auto ...</td>\n",
       "      <td>https://www.benzinga.com/analyst-ratings/analy...</td>\n",
       "      <td>BenzingaStaffL</td>\n",
       "      <td>2011-06-21 00:00:00-04:00</td>\n",
       "      <td>ZX</td>\n",
       "    </tr>\n",
       "    <tr>\n",
       "      <th>1407326</th>\n",
       "      <td>1413847</td>\n",
       "      <td>Oppenheimer Initiates China Zenix At Outperfor...</td>\n",
       "      <td>https://www.benzinga.com/analyst-ratings/price...</td>\n",
       "      <td>Joe Young</td>\n",
       "      <td>2011-06-21 00:00:00-04:00</td>\n",
       "      <td>ZX</td>\n",
       "    </tr>\n",
       "    <tr>\n",
       "      <th>1407327</th>\n",
       "      <td>1413848</td>\n",
       "      <td>China Zenix Auto International Opens For Tradi...</td>\n",
       "      <td>https://www.benzinga.com/news/ipos/11/05/10789...</td>\n",
       "      <td>Allie Wickman</td>\n",
       "      <td>2011-05-12 00:00:00-04:00</td>\n",
       "      <td>ZX</td>\n",
       "    </tr>\n",
       "  </tbody>\n",
       "</table>\n",
       "<p>1407328 rows × 6 columns</p>\n",
       "</div>"
      ],
      "text/plain": [
       "         Unnamed: 0                                           headline  \\\n",
       "0                 0            Stocks That Hit 52-Week Highs On Friday   \n",
       "1                 1         Stocks That Hit 52-Week Highs On Wednesday   \n",
       "2                 2                      71 Biggest Movers From Friday   \n",
       "3                 3       46 Stocks Moving In Friday's Mid-Day Session   \n",
       "4                 4  B of A Securities Maintains Neutral on Agilent...   \n",
       "...             ...                                                ...   \n",
       "1407323     1413844             Top Narrow Based Indexes For August 29   \n",
       "1407324     1413845  Recap: Wednesday's Top Percentage Gainers and ...   \n",
       "1407325     1413846  UPDATE: Oppenheimer Color on China Zenix Auto ...   \n",
       "1407326     1413847  Oppenheimer Initiates China Zenix At Outperfor...   \n",
       "1407327     1413848  China Zenix Auto International Opens For Tradi...   \n",
       "\n",
       "                                                       url          publisher  \\\n",
       "0        https://www.benzinga.com/news/20/06/16190091/s...  Benzinga Insights   \n",
       "1        https://www.benzinga.com/news/20/06/16170189/s...  Benzinga Insights   \n",
       "2        https://www.benzinga.com/news/20/05/16103463/7...         Lisa Levin   \n",
       "3        https://www.benzinga.com/news/20/05/16095921/4...         Lisa Levin   \n",
       "4        https://www.benzinga.com/news/20/05/16095304/b...         Vick Meyer   \n",
       "...                                                    ...                ...   \n",
       "1407323  https://www.benzinga.com/news/11/08/1888782/to...      Monica Gerson   \n",
       "1407324  https://www.benzinga.com/news/earnings/11/06/1...       Benjamin Lee   \n",
       "1407325  https://www.benzinga.com/analyst-ratings/analy...     BenzingaStaffL   \n",
       "1407326  https://www.benzinga.com/analyst-ratings/price...          Joe Young   \n",
       "1407327  https://www.benzinga.com/news/ipos/11/05/10789...      Allie Wickman   \n",
       "\n",
       "                             date stock  \n",
       "0       2020-06-05 10:30:54-04:00     A  \n",
       "1       2020-06-03 10:45:20-04:00     A  \n",
       "2       2020-05-26 04:30:07-04:00     A  \n",
       "3       2020-05-22 12:45:06-04:00     A  \n",
       "4       2020-05-22 11:38:59-04:00     A  \n",
       "...                           ...   ...  \n",
       "1407323 2011-08-29 00:00:00-04:00    ZX  \n",
       "1407324 2011-06-22 00:00:00-04:00    ZX  \n",
       "1407325 2011-06-21 00:00:00-04:00    ZX  \n",
       "1407326 2011-06-21 00:00:00-04:00    ZX  \n",
       "1407327 2011-05-12 00:00:00-04:00    ZX  \n",
       "\n",
       "[1407328 rows x 6 columns]"
      ]
     },
     "execution_count": 4,
     "metadata": {},
     "output_type": "execute_result"
    }
   ],
   "source": [
    "# reading financial news data \n",
    "news_data = analysis.load_news_data('../data/raw_analyst_ratings.csv')\n",
    "news_data"
   ]
  },
  {
   "cell_type": "code",
   "execution_count": null,
   "id": "b6718af3",
   "metadata": {},
   "outputs": [
    {
     "data": {
      "application/vnd.microsoft.datawrangler.viewer.v0+json": {
       "columns": [
        {
         "name": "index",
         "rawType": "int64",
         "type": "integer"
        },
        {
         "name": "date",
         "rawType": "datetime64[ns, UTC-04:00]",
         "type": "unknown"
        },
        {
         "name": "headline",
         "rawType": "object",
         "type": "unknown"
        }
       ],
       "ref": "5db616dd-55a0-4d2f-916a-090a229f0ec0",
       "rows": [
        [
         "0",
         "2009-02-14 00:00:00-04:00",
         "['How Treasuries and ETFs Work']"
        ],
        [
         "1",
         "2009-04-27 00:00:00-04:00",
         "['Update on the Luxury Sector: 2nd Quarter 2009', 'Update on the Luxury Sector: 2nd Quarter 2009']"
        ],
        [
         "2",
         "2009-04-29 00:00:00-04:00",
         "['Going Against the Herd']"
        ],
        [
         "3",
         "2009-05-22 00:00:00-04:00",
         "['Charles Sizemore Radio Interview Saturday Morning']"
        ],
        [
         "4",
         "2009-05-27 00:00:00-04:00",
         "['MRM a $15-$20+ stock - FIT new information - JVA 58% super-trades winner', 'JVA perks to 39% gain, SMCG ready, MRM to continue', 'JVA perks to 39% gain, SMCG ready, MRM to continue', 'MRM a $15-$20+ stock - FIT new information - JVA 58% super-trades winner', 'JVA perks to 39% gain, SMCG ready, MRM to continue', 'MRM a $15-$20+ stock - FIT new information - JVA 58% super-trades winner']"
        ],
        [
         "5",
         "2009-05-29 00:00:00-04:00",
         "['In $7.60 UTA - New Chinese Listing - Travel Stock', 'In $7.60 UTA - New Chinese Listing - Travel Stock']"
        ],
        [
         "6",
         "2009-05-30 00:00:00-04:00",
         "['Saturday super-trades - SMCG 35% gainer so far - MRM to Continue - UTA New', 'Saturday super-trades - SMCG 35% gainer so far - MRM to Continue - UTA New', 'Saturday super-trades - SMCG 35% gainer so far - MRM to Continue - UTA New']"
        ],
        [
         "7",
         "2009-06-01 00:00:00-04:00",
         "['super-trades - Two 52 week highs and others about to join them', 'super-trades - Two 52 week highs and others about to join them', 'super-trades - Two 52 week highs and others about to join them', 'super-trades - Two 52 week highs and others about to join them', \"A Contrarian's Dream Scenario\"]"
        ],
        [
         "8",
         "2009-06-02 00:00:00-04:00",
         "['in EVK $1.85 - Unkown China Retailer 2m Float', 'in EVK $1.85 - Unkown China Retailer 2m Float']"
        ],
        [
         "9",
         "2009-06-05 00:00:00-04:00",
         "['Last 3 picks all took off this week 67%,62%,30% gainers', 'Is this the Next EFUT? - From the Person who called the First One', 'Is this the Next EFUT? - From the Person who called the First One', 'Last 3 picks all took off this week 67%,62%,30% gainers', 'Is this the Next EFUT? - From the Person who called the First One', 'Is this the Next EFUT? - From the Person who called the First One']"
        ],
        [
         "10",
         "2009-06-08 00:00:00-04:00",
         "['105% Gainer , 50% Gainer and a New, Exciting Stock', '105% Gainer , 50% Gainer and a New, Exciting Stock', '105% Gainer , 50% Gainer and a New, Exciting Stock']"
        ],
        [
         "11",
         "2009-06-09 00:00:00-04:00",
         "['SKBO.OB Also has Swine Disease Expertise', 'SKBO.OB Also has Swine Disease Expertise', 'SKBO.OB vs. ADY - Compare These Two China Growth Stocks', 'SKBO.OB Also has Swine Disease Expertise', 'SKBO.OB vs. ADY - Compare These Two China Growth Stocks', 'SKBO.OB Also has Swine Disease Expertise', 'SKBO.OB Also has Swine Disease Expertise']"
        ],
        [
         "12",
         "2009-06-15 00:00:00-04:00",
         "['super-trades Momentum Continues With Staying Power', 'super-trades Momentum Continues With Staying Power', 'In AIM $4.20']"
        ],
        [
         "13",
         "2009-06-16 00:00:00-04:00",
         "['RINO.OB - Amazing Growth - Compare to Coming DGW IPO', 'AIM Great News the Day After Great Earnings', 'AIM Great News the Day After Great Earnings']"
        ],
        [
         "14",
         "2009-06-19 00:00:00-04:00",
         "[\"Review of 3 Chinese IPO's- Week of June 22nd\", \"Review of 3 Chinese IPO's- Week of June 22nd\", \"Review of 3 Chinese IPO's- Week of June 22nd\", \"Review of 3 Chinese IPO's- Week of June 22nd\", \"Review of 3 Chinese IPO's- Week of June 22nd\"]"
        ],
        [
         "15",
         "2009-06-22 00:00:00-04:00",
         "[\"guest post - Best Buy's been a 'best buy'\"]"
        ],
        [
         "16",
         "2009-06-28 00:00:00-04:00",
         "['Skystar on the NASDAQ with Huge EPS and Low Float', 'Skystar on the NASDAQ with Huge EPS and Low Float']"
        ],
        [
         "17",
         "2009-06-30 00:00:00-04:00",
         "['SKBI at Higher End of Range - Free to Scream', 'SKBI at Higher End of Range - Free to Scream', 'SKBI at Higher End of Range - Free to Scream']"
        ],
        [
         "18",
         "2009-07-07 00:00:00-04:00",
         "['market update', 'SRS']"
        ],
        [
         "19",
         "2009-07-08 00:00:00-04:00",
         "['SPY', 'SPY']"
        ],
        [
         "20",
         "2009-07-10 00:00:00-04:00",
         "['SUN']"
        ],
        [
         "21",
         "2009-07-14 00:00:00-04:00",
         "['Skystar Bio-Pharmaceutical Announces Expansion Plans and Growth Expectations', 'Skystar Bio-Pharmaceutical Announces Expansion Plans and Growth Expectations', 'Skystar Bio-Pharmaceutical Announces Expansion Plans and Growth Expectations']"
        ],
        [
         "22",
         "2009-07-15 00:00:00-04:00",
         "['the pricing of stocks', 'SUN']"
        ],
        [
         "23",
         "2009-07-16 00:00:00-04:00",
         "[\"Another must watch: Glenn Beck explains the Goldman/Federal Gov't connection\"]"
        ],
        [
         "24",
         "2009-07-17 00:00:00-04:00",
         "['WNR']"
        ],
        [
         "25",
         "2009-07-21 00:00:00-04:00",
         "['market barometer', 'Accurate Research Results in 4 super-trades.com winners', 'Accurate Research Results in 4 super-trades.com winners', 'Accurate Research Results in 4 super-trades.com winners', 'Skystar to Ring NASDAQ Opening Bell on July 22', 'Skystar to Ring NASDAQ Opening Bell on July 22', 'Accurate Research Results in 4 super-trades.com winners']"
        ],
        [
         "26",
         "2009-07-24 00:00:00-04:00",
         "['QID']"
        ],
        [
         "27",
         "2009-07-27 00:00:00-04:00",
         "['Market Pulse Announces Its Hot Stock Alerts for Monday, July 27, 2009: CSEV, ACAD, CHINA, BRCM', 'Webcast Alert: Agnico Eagle Mines Limited Second Quarter 2009 Results and Webcast Conference Call', 'American River Bankshares Reports Second Quarter 2009 Financial Results', 'Catherine Matthes Joins Solae as Senior Director of New Business Development', 'Market Pulse Announces Its Hot Stock Alerts for Monday, July 27, 2009: CSEV, ACAD, CHINA, BRCM', 'Incentra Deploys Suite of Callidus On-Demand Solutions for Sales and Employee Performance Management', 'VeriSilicon Delivers Chip Designs on Time and at Lower Cost With Cadence InCyte Chip Estimator', 'Cadence Announces That STMicroelectronics Adopts Encounter Signoff Solutions for Designs From 65 to 32 Nanometers', 'LG Electronics Adopts Cadence Conformal Technology for Improved Engineering Design Management, Faster Time to Market', 'Cadence Validates ARM Optimized Libraries for 45nm SOI Process', 'Integrated Clean Air Solutions for Industries Around the World, by CECO Environmental, a Feature of \"Industry Today\" on Industrialinfo.com', '\"Stock Alerts\" Capitalize on Volatile Markets With 95%+ Profitable Trades', 'Con-way Inc. Sends a Record 89 Drivers to National Truck Driving Championships', 'Wall Street News Alert: Stock Alert: GSAE -- July 27, 2009', 'Cott Reports Second Quarter 2009 Results', 'Danaos Corporation Reports Second Quarter and Half Year Results for the Period Ended June 30, 2009', 'Dime Community Bancshares Reports Earnings for the Quarter Ended June 30, 2009', 'Catherine Matthes Joins Solae as Senior Director of New Business Development', 'DineEquity, Inc. Appoints Randi Val Morrison as Secretary & General Counsel', 'Randgold Resources Announces Q2 Results', 'Hansen Medical Announces 2009 Second Quarter Conference Call', 'Hydrogenics Shareholders Approve Plan of Arrangement in Connection with Non-Dilutive Financing Transaction', 'IAMGOLD Provides Second Quarter Exploration Update', \"Intersil's New High-ESD, Ultra-Low Voltage, USB 2.0 High-Speed Multiplexer in Tiny Package Offers Unparalleled Performance and Flexibility in Portable Devices\", \"Intersil's New High-ESD, Ultra-Low Voltage, USB 2.0 High-Speed Multiplexer in Tiny Package Offers Unparalleled Performance and Flexibility in Portable Devices\", 'The Ayers Group Offers Platinum Services for C-Level and Senior Executives', 'Virgin Mobile USA Asks Music Fans to \"Book the Band\" for the 2009 Virgin Mobile FreeFest', 'Lakeland Industries to Present at Jesup & Lamont Annual Growth Stock Conference', 'Limelight Networks(R) Introduces New Mobility and Monetization Services', 'Wall Street News Alert: Stocks This Morning: Green Star Alternative Energy -- July 27, 2009', 'Pride International Awarded One Year Contract for Deepwater Semisubmersible Rig Pride South Pacific', 'NBT Bancorp Inc. Announces Second Quarter Earnings of $0.34 per Share; Declares Cash Dividend', 'Navios Maritime Partners L.P. Declares a Cash Distribution of $0.40 per Unit and Announces the Date for the Release of Second Quarter 2009 Results, Conference Call and Webcast', 'Navios Maritime Partners L.P. Declares a Cash Distribution of $0.40 per Unit and Announces the Date for the Release of Second Quarter 2009 Results, Conference Call and Webcast', 'NetApp to Lead Industry Discussions Around Enterprise Solid-State Deployments in August 2009', 'Minsheng Financial Leasing Co., Ltd -- PRC Signs License and Services Contract With NetSol Technologies', 'Liraglutide Lowered Blood Sugar and Weight in African Americans With Type 2 Diabetes, Phase 3 Data Showed', 'Olin Announces Second Quarter 2009 Earnings', 'Oak Valley Community Bank Announces Promotions', 'THUMS Long Beach Completes Construction of $40 Million Amine Gas Plant, an Industrial Info News Alert', 'PG&E Contracts With Sempra Generation for More Solar Power', \"Progress DataDirect's Data Integration Suite Facilitates EU SAD Harmonisation Compliance\", 'Paramount Gold and Silver Corp. Provides Update on Business Combination', \"EchoStar's ViP-TV to Deliver Video Transport Service to Virginia-Based IPTV Provider\", 'EchoStar Corporation Announces Conference Call for Second Quarter 2009 Financial Results', 'SciClone Pharmaceuticals Expands Portfolio by Licensing Ondansetron RapidFilm(TM) for Chinese Market', 'SFL - Sale of a single-hull VLCC', 'ShoreTel Surpasses 10,000 Enterprise Customers', 'Federman & Sherwood Announces That a Securities Class Action Lawsuit Has Been Filed Against Skilled Healthcare Group, Inc. (NYSE: SKH)', 'PG&E Contracts With Sempra Generation for More Solar Power', 'Wall Street News Alert: Hot Stock to Watch for Monday: PCAI -- July 27, 2009', 'VeriSign SSL Certificates Soar Past 4 Million Mark', 'The W. P. Carey Group Completes First Sale-Leaseback in Hungary', 'Windrace International Company Limited Enters Into Definitive Investment Agreement With Leading Private Equity Fund']"
        ],
        [
         "28",
         "2009-07-30 00:00:00-04:00",
         "['The Gold/Silver Ratio From 1300 to 1900...And Now']"
        ],
        [
         "29",
         "2009-08-01 00:00:00-04:00",
         "['China: Redistribution of Wealth Has Begun']"
        ],
        [
         "30",
         "2009-08-03 00:00:00-04:00",
         "['The Exact Figure of Debts in Europe and the USA']"
        ],
        [
         "31",
         "2009-08-04 00:00:00-04:00",
         "[\"A Simulation of China's 2,$$$,$$$,$$$,$$$ Diversification/Writedown\", \"A Simulation of China's 2,$$$,$$$,$$$,$$$ Diversification/Writedown\", '13 Stock Ideas Blogged in 2009. Average Gain 96% in 33 Days', '13 Stock Ideas Blogged in 2009. Average Gain 96% in 33 Days', \"A Simulation of China's 2,$$$,$$$,$$$,$$$ Diversification/Writedown\", '13 Stock Ideas Blogged in 2009. Average Gain 96% in 33 Days', '13 Stock Ideas Blogged in 2009. Average Gain 96% in 33 Days']"
        ],
        [
         "32",
         "2009-08-06 00:00:00-04:00",
         "['Fairborne Energy Ltd. Announces 2009 Second Quarter Financial and Operating Results', 'Connecticut Shop To Earn Shares Eco Friendly Business Venture', 'Brampton Brick Reports Results for the Second Quarter Ended June 30, 2009', 'Pengrowth Energy Trust Announces Second Quarter 2009 Results', 'Supertel Hospitality Reports 2009 Second Quarter Results', 'GLG Life Tech Corporation to Announce Second Quarter Results on August 11, 2009', 'SRS Class Action Lawsuit filed 08/05/2009', 'Pengrowth Energy Trust Announces Second Quarter 2009 Results', 'Brampton Brick Reports Results for the Second Quarter Ended June 30, 2009', 'Supertel Hospitality Reports 2009 Second Quarter Results', 'Graffiti Entertainment Opens European Office in London', 'Fairborne Energy Ltd. Announces 2009 Second Quarter Financial and Operating Results', 'Brampton Brick Reports Results for the Second Quarter Ended June 30, 2009', 'Pengrowth Energy Trust Announces Second Quarter 2009 Results', 'Fairborne Energy Ltd. Announces 2009 Second Quarter Financial and Operating Results', 'Pengrowth Energy Trust Announces Second Quarter 2009 Results', 'Pure Energy Services Ltd. Announces Sale of Fracturing Division', 'Fairborne Energy Ltd. Announces 2009 Second Quarter Financial and Operating Results', 'Apogee Announces Private Placement Financing and Sale of La Solucion Property', 'Graffiti Entertainment Opens European Office in London', \"TransAlta responds to Directors' Circular filed by Canadian Hydro Developers\", 'Connecticut Shop To Earn Shares Eco Friendly Business Venture', 'SRS Class Action Lawsuit filed 08/05/2009', 'Supertel Hospitality Reports 2009 Second Quarter Results', 'Fairborne Energy Ltd. Announces 2009 Second Quarter Financial and Operating Results', 'Pengrowth Energy Trust Announces Second Quarter 2009 Results', 'Supertel Hospitality Reports 2009 Second Quarter Results', 'Fairborne Energy Ltd. Announces 2009 Second Quarter Financial and Operating Results', 'Pengrowth Energy Trust Announces Second Quarter 2009 Results', 'Pengrowth Energy Trust Announces Second Quarter 2009 Results', 'GLG Life Tech Corporation to Announce Second Quarter Results on August 11, 2009', 'SRS Class Action Lawsuit filed 08/05/2009', 'Pengrowth Energy Trust Announces Second Quarter 2009 Results', 'SRS Class Action Lawsuit filed 08/05/2009', 'Pengrowth Energy Trust Announces Second Quarter 2009 Results', 'SRS Class Action Lawsuit filed 08/05/2009', 'Fairborne Energy Ltd. Announces 2009 Second Quarter Financial and Operating Results', 'GLG Life Tech Corporation to Announce Second Quarter Results on August 11, 2009', \"crisis takes it's toll on Manulife's dividend\", 'Supertel Hospitality Reports 2009 Second Quarter Results', 'Pengrowth Energy Trust Announces Second Quarter 2009 Results', 'Pengrowth Energy Trust Announces Second Quarter 2009 Results', 'Supertel Hospitality Reports 2009 Second Quarter Results', 'Pengrowth Energy Trust Announces Second Quarter 2009 Results', 'Fairborne Energy Ltd. Announces 2009 Second Quarter Financial and Operating Results', 'GLG Life Tech Corporation to Announce Second Quarter Results on August 11, 2009', 'Supertel Hospitality Reports 2009 Second Quarter Results', \"TransAlta responds to Directors' Circular filed by Canadian Hydro Developers\", 'Univest Corporation of Pennsylvania Announces Pricing of Common Stock Offering']"
        ],
        [
         "33",
         "2009-08-07 00:00:00-04:00",
         "['WesternZagros Announces 2009 Second Quarter Results', 'Constellation Software Inc. Acquisition of Compusource', 'OneMove(TM) Records its Best Month Ever in July', 'Seacliff Announces Timing of Second Quarter 2009 Financial Results Release, Conference Call and Webcast', 'City of Irondale Sues Trinity Medical Center and Daniel Corporation: Suit Asks Court to Force Trinity to Honor Contract to Build Hospital in Irondale', 'Hastings Entertainment Incorporated: Characters of Every Description Begin Training for Aug. 16 Mascot Derby at Hastings Racecourse', 'Government of Canada Helps Merritt Youth Prepare for Jobs', 'Golconda Provides Update', 'TSX Venture Exchange Closing Summary for August 7, 2009', 'North American Energy Partners Inc. Files Preliminary Short Form Base Shelf Prospectus for Common Shares Offering', 'Spectrum Brands Reports Third Quarter 2009 Financial Results', 'C.A. Bancorp Inc. Reports Second Quarter 2009 Financial Results', 'International Kid-Pop Sensations The Wiggles to Release the First Ever \"Best of\" on September 1, 2009!!!', 'Sure to Please, Wellness International Network Introduces a Vibrant, New Look of Sure2Endure', 'Ifinix Corp. Opens Window of Opportunity', 'Salary.com(TM) to Present at the 29th Annual Canaccord Adams Global Growth Conference', 'Transaction in Own Shares', 'Governments of Canada and Newfoundland and Labrador Help Unemployed Workers in Fortune Area', 'Jilin Jien and Goldbrook Conference Call and Webcast Now Available for Replay', 'Lloyd Axworthy & Jean-Louis Roy to Co-Chair CCAfrica\\'s: \"The New Africa\" Conference', 'Izard Nobel LLP Announces Class Action Lawsuit Against Conseco, Inc.', 'Star Bulk Announces Date for the Release of Second Quarter 2009 Results, Conference Call and Webcast', 'Dundee Corporation Declares Quarterly First Preference Shares, Series 1 Dividend', 'Novo Nordisk A/S - Transaction in Own Shares', 'Less Than 1000 Tickets Remain for the 97th Grey Cup Championship Game', 'Yorbeau Continues Drilling With Two Rigs', 'BC Safety Council: Ban Cell Phones While Driving', 'Con Edison Requests $172 Million in Smart Grid Stimulus Funding', 'Sidense to Present at Silicon Valley Flash Memory Summit', 'Reminder: United Church General Council Meets in Kelowna August 9-15', 'Update: Bernstein Litowitz Berger & Grossmann LLP and Milberg LLP Announce the Filing of a Stockholder Derivative Action on Behalf of the Ryland Group, Inc. Alleging Breaches of Fiduciary Duties by Directors', 'Novo Nordisk A/S - Transaction in Own Shares', 'Cinedigm Digital Cinema Corp. First Quarter Earnings Conference Call Notification', 'Shoreline Energy Fund Completes Acquisition of Hyperion Exploration Inc.', 'Wereldhave NV announces Half Yearly Report', 'Galapagos reports revenue growth and improved net result in 1H 2009', 'Leatt Corp. Projects Decrease in Gross Sales for Fiscal Quarter Ending June 30, 2009', 'Palladon Ventures Ltd.-Filing of Annual Financial Statements', \"Santander Announces Results of Exchange Offers for Certain of the Group's Outstanding US$ Tier 1 Preferred Securities and Upper Tier 2 Debt Securities\", 'Delta Uranium Extends Incinerator Road Uranium Mineralization at Deer Lake, Newfoundland', 'GreenMan Technologies Fiscal 2009 Third Quarter Financial Release and Conference Call Alert', 'Klondike Silver Completes Underground Drilling in Wonderful Mine', \"Drilling at Alexandria's Siscoe East Property Intersects 43.67 g/t Au over 1.9 m\", 'Central Vermont Reports Second Quarter Earnings', 'Retransmission: Underworld Intersects 2.47 g/t Au over 63.0 Meters at White Gold Property', 'Caza Oil & Gas Announces Second Quarter Results', 'SaleSpider.com Enhances Site for a More User Friendly Experience', 'ERA Ecosystem Restoration Associates, Inc.: \"Guide to Carbon Offsets for Canadian Businesses and Consumers\" by the David Suzuki Foundation and Pembina Institute Is Both Deficient and Biased', 'Molecular Insight Pharmaceuticals, Inc. Advances Azedra Program Into Pivotal Phase 2 Therapeutic Trial in Neuroendocrine Cancer Patients', 'Canadian Pork Industry Pushes Ahead on National Swine Traceability System', 'British Columbia Securities Commission: Commission Panel Finds Four BC Residents Committed Fraud in Ponzi Scheme', 'Kivalliq Announces Non-Brokered Flow-Through Private Placement', 'NewMarket Technology, Inc. Announces Launch of $30 Million Service Contract in China', 'China Crescent Enterprises, Inc. Launches $30 Million Service Contract', 'NuMobile, Inc. Announces 3-Year Contract to Provide Mobile Internet Services in Southeast Asia', \"ALDA's T36(R) Antiseptic Hand Sanitizer Kills 2009 H1N1 Flu (Swine Flu) Virus in 15 Seconds\", 'Bosch, DEUTZ, and Eberspächer Explore Possibility of Joint Activities in Non-Road Exhaust-Gas Technology', 'Richmont Mines Defines Reserves at its Francoeur Gold Project and Plans Production at an Annual Rate of 35,000 Ounces Starting in 2011', 'Bowne & Co., Inc. Announces Pricing of Its Common Stock Offering', 'Alexis Confirms 156% Increased Reserves at Lac Herbin Gold Mine', 'Ember Resources Inc. Reports Second Quarter 2009 Results', 'SAS Announces the Completion of a Mineral Resource Estimate on the Hislop Project', 'Denison Announces NI 43-101 Resource Estimates for Its EZ1 and EZ2 Deposits', 'Jilin Jien and Goldbrook Conference Call Advisory', 'Amica Mature Lifestyles Announces Year End Results for Fiscal 2009', 'Brookfield Asset Management Announces 2009 Second Quarter Results', 'Vantex Resources/Galloway: 36 Meters at 1.042 g/t Au', 'Allied Nevada Reports Second Quarter 2009 Financial Results', 'Canadian Real Estate Investment Trust Announces Second Quarter 2009 Results', 'AnalystChoice.com Brings You the Best Complimentary Research Report on RCII, FEED, ITRI, JACK, LINE and CYCL', 'WallStSense.com Fundamental & Technical Coverage of ADPT, JOSB, MENT, BPOP, MXIM and CWTR', 'U.K. Smart Grids Get Incentive Jolt, an Industrial Info News Alert', 'Quest Capital Reports Second Quarter 2009 Results', 'Chembio Reports Second Quarter 2009 Results', 'Brookfield Real Estate Services Fund Announces Second Quarter Results and Monthly Cash Distribution', 'American Ecology to Present at Canaccord Adams Annual Global Growth Conference on August 13', 'Boston Pizza Royalties Income Fund and Boston Pizza International Inc. Announce Second Quarter Results and July Distribution to Unitholders', '8/7, MoneyTV with Donald Baillargeon', 'Nordic American Tanker Shipping Ltd. (NYSE: NAT) - Announces Dividend for the 48th Consecutive Quarter - the 2nd Quarter Report of 2009. No Change to Dividend Policy.', 'Zecotek Re-Engages CHF Investor Relations', 'Less Than 1000 Tickets Remain for the 97th Grey Cup Championship Game', 'New information regarding RhuDex(TM)', 'BWI Holdings, Inc. -- Corporate Update', 'TheFortuneFinancial.com Free Market Research on BIG, PBI, AB, SCG, MRX and TIE', 'Amica Mature Lifestyles Announces Year End Results for Fiscal 2009', 'RothmanResearch.com Stock Review for BMC, ED, IM, NM, NXY and ACM', 'WallStSense.com Fundamental & Technical Coverage of ADPT, JOSB, MENT, BPOP, MXIM and CWTR', 'Black Art Beer Announces Financial Projections', 'DAY SOFTWARE ELECTS BARRY BYCOFF AS NEW CHAIRMAN', 'AMG subsidiary Timminco increases silicon metal production', 'New information regarding RhuDex(TM)', 'TheFortuneFinancial.com Free Market Research on SONS, BLUD, LKQX, CSUN, NIHD and AGEN', 'TSX Venture Exchange Closing Summary for August 7, 2009', 'Sidense to Present at Silicon Valley Flash Memory Summit', 'GreenMan Technologies Fiscal 2009 Third Quarter Financial Release and Conference Call Alert', 'Ember Resources Inc. Reports Second Quarter 2009 Results', 'WebTech Wireless Inc. Announces Definitive Agreement to Acquire Grey Island Systems International Inc.', 'DDS Wireless Reports Second Quarter 2009 Financial Results', '8/7, MoneyTV with Donald Baillargeon', 'Allied Nevada Reports Second Quarter 2009 Financial Results', 'Advanced Proteome Therapeutics Corporation Enters Into Investor Relations Agreement', \"ALDA's T36(R) Antiseptic Hand Sanitizer Kills 2009 H1N1 Flu (Swine Flu) Virus in 15 Seconds\", 'Houlihan Lokey Investment Bank Taps Venice Consulting Group for Development of New Worldwide Corporate Site', 'TheFortuneFinancial.com Free Market Research on BSX, ARW, CVG, WY, TS and CRL', 'Board Changes, Transfer of Loan Note and Shares', 'Canadian Pork Industry Pushes Ahead on National Swine Traceability System', 'Amalgamated Transit Union (ATU) repeats the need to protect workers', 'Avid to Present at the Canaccord Adams 29th Annual Global Growth Conference', 'ParagonReport.com Complimentary Market Update on JPMorgan Chase & Co. (NYSE: JPM), PMI Group Inc. (NYSE: PMI), Berkshire Hathaway Inc. (NYSE: BRK- A), and American Express Company (NYSE: AXP)', 'Petro Vista Closes Balance of C$2,200,000 Private Placement', 'Hastings Entertainment Incorporated: Characters of Every Description Begin Training for Aug. 16 Mascot Derby at Hastings Racecourse', 'Golconda Provides Update', 'Seacliff Construction Declares Dividend Payment', 'Ifinix Corp. Opens Window of Opportunity', 'Transaction in Own Shares', 'Tekmira Pharmaceuticals Conference Call Advisory; Second Quarter 2009 Operating Results and Corporate Update', 'Novo Nordisk A/S - Transaction in Own Shares', 'Less Than 1000 Tickets Remain for the 97th Grey Cup Championship Game', 'Robert Goluch Appointed to the Competition Tribunal', 'The Pretenders\\' Summer Tour Just Got Tastier-gardein(TM) Sponsors \"Talk of the Town Grill-Outs\" for Fans in Five Cities Across the U.S.A. and Canada', 'Novo Nordisk A/S - Transaction in Own Shares', 'The Mighty Servant 3 Rejoins Dockwise Fleet', 'AMG subsidiary Timminco increases silicon metal production', 'Galapagos reports revenue growth and improved net result in 1H 2009', 'DFO Should not close Fraser River to Sport Fishing', 'Appointment to the Canadian Museum of Civilization Board of Trustees', 'Retransmission: Underworld Intersects 2.47 g/t Au over 63.0 Meters at White Gold Property', 'Minister Paradis Announces Appointments to Defence Construction Canada', 'British Columbia Securities Commission: Commission Panel Finds Four BC Residents Committed Fraud in Ponzi Scheme', 'ICOP Digital Provides Guidance for Exercising Its Class B Warrant, \"ICOPZ\"', 'Richmont Mines Defines Reserves at its Francoeur Gold Project and Plans Production at an Annual Rate of 35,000 Ounces Starting in 2011', 'Alexis Confirms 156% Increased Reserves at Lac Herbin Gold Mine', 'Celsius Now Sold at Fred Meyer Stores', 'InnVest REIT Reports Second Quarter Results', 'Brookfield Asset Management Announces 2009 Second Quarter Results', 'OneMove(TM) Records its Best Month Ever in July', 'Seacliff Announces Timing of Second Quarter 2009 Financial Results Release, Conference Call and Webcast', 'Hastings Entertainment Incorporated: Characters of Every Description Begin Training for Aug. 16 Mascot Derby at Hastings Racecourse', 'Minister Kenney Announces Citizenship Judge Appointments and Reappointments', 'BC Safety Council: Ban Cell Phones While Driving', 'Klondike Silver Completes Underground Drilling in Wonderful Mine', 'DFO Should not close Fraser River to Sport Fishing', 'Media Advisory/REMINDER: Human Resources and Skills Development Canada', 'Amica Mature Lifestyles Announces Year End Results for Fiscal 2009', 'WallStSense.com Fundamental & Technical Coverage of BCR, ITW, PXP, CTB, NYX and PXD', 'TheFortuneFinancial.com Free Market Research on BIG, PBI, AB, SCG, MRX and TIE', 'AnalystChoice.com Brings You the Best Complimentary Research Report on BLL, PMI, RDC, STZ, WNR and TGB', 'Garage Sale Tips From the Pros', 'Bonavista Energy Trust Announces Closing of Bought Deal Financing', 'AnalystChoice.com Brings You the Best Complimentary Research Report on BMO, CVH, NYB, SLT, TOT and SNDA', 'Boston Pizza Royalties Income Fund and Boston Pizza International Inc. Announce Second Quarter Results and July Distribution to Unitholders', 'WallStSense.com Fundamental & Technical Coverage of ADPT, JOSB, MENT, BPOP, MXIM and CWTR', 'TheFortuneFinancial.com Free Market Research on BSX, ARW, CVG, WY, TS and CRL', 'Constellation Software Inc. Acquisition of Compusource', 'Bonds.com Provides 2nd Quarter Results Across Key Business Metrics', 'First National Bank of Northern California Reports a Second Quarter 2009 Loss of $0.06 per Diluted Share', 'U.S. Soccer and Digitaria Launch Revamped Web Site at ussoccer.com', 'Marani Brands, Inc. Announces Return of Founder Margrit Eyraud as President, CEO and Director', 'BioCentric Energy Develops Improved Processing Formula Accelerating Algae Growth', 'Paragon Steel Looks at Life Without a Compass', 'CDM at WesternU Gets Provisional Approval', 'LA REIT, INC. Executes Engagement Letter With AJ. Robbins PC, Certified Public Accountants, and Commences Audit', 'Sidense to Present at Silicon Valley Flash Memory Summit', 'BrightTALK Hosts Data and Privacy in Web 2.0 Summit', 'Leatt Corp. Projects Decrease in Gross Sales for Fiscal Quarter Ending June 30, 2009', 'Long Beach Marijuana Dispensary to Give Away Free Medical Marijuana on Grand Opening', 'Overhill Farms Reports Revenues of $54.5 Million, Net Income of $2.6 Million, for Third Quarter', 'Houlihan Lokey Investment Bank Taps Venice Consulting Group for Development of New Worldwide Corporate Site', 'Century Aluminum Announces Equity Investment Impairment', 'BookRenter.Com Makes Education More Affordable With Online Textbook Rentals', 'WorldVest Expands Its Asian Business Division', 'Councilmember Bernard Parks to Appear With Hall of Fame Quarterback Warren Moon', 'Trial Findings for Vicor Technologies PD2i Vital Sign Diagnostic to Be Presented at the ATACCC 2009 Conference', 'American TonerServ to Report 2009 Second-Quarter Financial Results and Host Conference Call on Thusday, August 13, 2009', 'Former Pacer, Reggie Miller Faces Petition for TRO by New York Socialite Alex von Furstenberg According to HollywoodStreetKing.com', 'Symantec and LifeLock, Inc. Join Forces to Help Protect Consumers Online and Offline', 'Finisar Corporation Announces Preliminary Results of Its Exchange Offers for Its Outstanding Convertible Subordinated Notes', 'PriceSmart Announces July Sales', 'Websense Secure Web Gateway Awarded Product Innovation of the Year by Analyst Firm Frost & Sullivan', 'Major Sales & Marketing Agreement Grants Anything Trucker Exclusive Rights to Sell NavStar Technologies Products in US Market With Potential of $30M in Revenues', 'Six Wines, Six Medals -- a Shining Start for the New Russian River Vineyards', '8/7, MoneyTV with Donald Baillargeon', 'Muscle Flex Inc. Applies for Trademark Registration With the USPTO for The BUDDY Tablet Caddy(TM), Completes Registration of the Muscle Flex(R) and Extreme Machine(R) as Registered Trademarks and Files for Additional Trademarks for Muscle Flex(R)', 'Call Genie Reports Second Quarter 2009 Financial Results', 'InnVest REIT Reports Second Quarter Results', 'BioResonance-alternative medicine that relieves arthritis pain', 'WesternZagros Announces 2009 Second Quarter Results', 'Caza Oil & Gas Announces Second Quarter Results', 'Amica Mature Lifestyles Announces Year End Results for Fiscal 2009', 'Allied Nevada Reports Second Quarter 2009 Financial Results', 'Ember Resources Inc. Reports Second Quarter 2009 Results', 'AnalystChoice.com Brings You the Best Complimentary Research Report on BNI, MTG, PDE, CCL, PWR and NXG', 'CanElson Announces Second Quarter Financial Results', 'Petro Vista Closes Balance of C$2,200,000 Private Placement', 'Constellation Software Inc. Acquisition of Compusource', 'OneMove(TM) Records its Best Month Ever in July', 'Options Media Announces New Email Communication Product', 'City of Irondale Sues Trinity Medical Center and Daniel Corporation: Suit Asks Court to Force Trinity to Honor Contract to Build Hospital in Irondale', 'Argus Metals Corp.: Amendment to News Release', 'Palladon Ventures Ltd.-New Iron Mountain Project Resource Estimate', 'TSX Venture Exchange Closing Summary for August 7, 2009', 'Rio Cristal Zinc Announces Name Change to Rio Cristal Resources', 'CIB Marine Bancshares, Inc. Announces Second Quarter Results', 'First National Bank of Northern California Reports a Second Quarter 2009 Loss of $0.06 per Diluted Share', 'U.S. Century Bank Participates in TARP', 'Ifinix Corp. Opens Window of Opportunity', 'Transaction in Own Shares', 'Aquvee, Inc. Calls Off Acquisition by Steadfast and Banx & Green', 'Shattered Glass Records Announces Signing of Sally Thieves', \"CME Applauds Premiers' Call for More Open Procurement Markets\", 'LIVESTRONG(R) Global Cancer Campaign Announces Unprecedented Commitments in Palliative Care From Georgia, Romania, Sierra Leone, Uganda and the United States', 'La Mancha Posts Record Quarterly Net Earnings as Gold Production Rises 47%', 'Yorbeau Continues Drilling With Two Rigs', 'Extenway Solutions Inc. Announces Filing of Financial Statements', 'Avid to Present at the Canaccord Adams 29th Annual Global Growth Conference', 'DAY SOFTWARE ELECTS BARRY BYCOFF AS NEW CHAIRMAN', 'Galapagos reports revenue growth and improved net result in 1H 2009', 'Leatt Corp. Projects Decrease in Gross Sales for Fiscal Quarter Ending June 30, 2009', 'Antisoma announces discontinuation of development of AS1402', 'New information regarding RhuDex(TM)', 'PPJ Enterprise Announces Its Comeback', 'BioResonance-alternative medicine that relieves arthritis pain', 'Next Generation in Wireless Printing: PrinterOn-Ricoh Announce Global Partnership', 'Atlantis Technology Group Subsidiary Global Online Television Introduces GO-V-Phone / IPTV VOIP Video Phone Service', 'Central Vermont Reports Second Quarter Earnings', 'Calibre Grants Stock Options', 'Beyond Commerce Supports the Home of Life Community Development Corporation in an Effort to Develop Job Readiness Skills for Inner-City Chicago Youth', 'Yellow Pages Market Not on the Brink of Collapse Despite Recent Bankruptcies, Simba Webinar Reveals; YP Executives Encourage Exploration of New Media Tools', 'ERA Ecosystem Restoration Associates, Inc.: \"Guide to Carbon Offsets for Canadian Businesses and Consumers\" by the David Suzuki Foundation and Pembina Institute Is Both Deficient and Biased', 'Rye Patch Gold Completes Private Placement', 'Minister Paradis Announces Appointments to Defence Construction Canada', 'Kivalliq Announces Non-Brokered Flow-Through Private Placement', 'BookRenter.Com Makes Education More Affordable With Online Textbook Rentals', 'WorldVest Expands Its Asian Business Division', 'NewMarket Technology, Inc. Announces Launch of $30 Million Service Contract in China', \"ALDA's T36(R) Antiseptic Hand Sanitizer Kills 2009 H1N1 Flu (Swine Flu) Virus in 15 Seconds\", 'Ember Resources Inc. Reports Second Quarter 2009 Results', 'SAS Announces the Completion of a Mineral Resource Estimate on the Hislop Project', 'Amica Mature Lifestyles Announces Year End Results for Fiscal 2009', 'Astralux Power Systems Introduces SolarCare(TM) Program', 'Jilin Jien and Goldbrook Announce Intention to Make All-Cash Bid for Canadian Royalties', 'Symantec and LifeLock, Inc. Join Forces to Help Protect Consumers Online and Offline', 'Colorado Goldfields Updates Shareholders on 2009 Drilling Program, Shareholder Conference Call, Acquisitions, and CFO Compensation', 'WebTech Wireless Inc. Announces Definitive Agreement to Acquire Grey Island Systems International Inc.', 'DDS Wireless Reports Second Quarter 2009 Financial Results', \"Dave Sawyer From Microsoft and Bob Nolan From Raxco Software to Be Featured on Let's Talk Computers (R)\", 'The Keg Royalties Income Fund Announces Quarterly Sales Results', 'Media Advisory/REMINDER: Transport Canada', 'Quest Capital Reports Second Quarter 2009 Results', 'Major Sales & Marketing Agreement Grants Anything Trucker Exclusive Rights to Sell NavStar Technologies Products in US Market With Potential of $30M in Revenues', 'The Truth About Charity Compensation', '8/7, MoneyTV with Donald Baillargeon', 'Muscle Flex Inc. Applies for Trademark Registration With the USPTO for The BUDDY Tablet Caddy(TM), Completes Registration of the Muscle Flex(R) and Extreme Machine(R) as Registered Trademarks and Files for Additional Trademarks for Muscle Flex(R)', 'Zecotek Re-Engages CHF Investor Relations', 'New Gold Assays at Sand Brook Gold Project', 'Canada Details Premier Annual Northern Sovereignty Operation', 'Chemaphor and Elanco End Relationship', 'Yorbeau Continues Drilling With Two Rigs', 'CIB Marine Bancshares, Inc. Announces Second Quarter Results', \"Georgetti Says Recession Far From Over for Canada's Unemployed: CLC President Asks Premiers to Champion EI Reform\", \"CME Applauds Premiers' Call for More Open Procurement Markets\", \"Creston's Application for Leave to Appeal Is Denied\", 'DAY SOFTWARE ELECTS BARRY BYCOFF AS NEW CHAIRMAN', 'CanAsia Financial Inc. Announces Proposed Private Placement', 'Shalov Stone Bonner & Rocco LLP Announces Class Action Against Conseco Inc.', 'Izard Nobel LLP Announces Class Action Lawsuit Against Conseco, Inc.', 'BioCentric Energy Develops Improved Processing Formula Accelerating Algae Growth', 'Delta Uranium Extends Incinerator Road Uranium Mineralization at Deer Lake, Newfoundland', '8/7, MoneyTV with Donald Baillargeon', 'Klondike Silver Completes Underground Drilling in Wonderful Mine', 'Canada Details Premier Annual Northern Sovereignty Operation', 'Pinnacle Airlines Corp. Announces 2009 Second Quarter Earnings', 'RothmanResearch.com Stock Review for NAL, PSE, CPE, HBI, OMC and NI', 'TSX Venture Exchange Closing Summary for August 7, 2009', 'WallStSense.com Fundamental & Technical Coverage of BCR, ITW, PXP, CTB, NYX and PXD', 'TheFortuneFinancial.com Free Market Research on BSX, ARW, CVG, WY, TS and CRL', 'TheFortuneFinancial.com Free Market Research on SONS, BLUD, LKQX, CSUN, NIHD and AGEN', \"Zenergy International, Inc. Announces Appointment of Notable Green Sector Authority, Dr. Gurminder Singh, to the Company's Board of Advisors\", 'WallStSense.com Fundamental & Technical Coverage of UN, CVD, XTO, SHO, ZION and PCBC', 'TheFortuneFinancial.com Free Market Research on BSX, ARW, CVG, WY, TS and CRL', 'Corrections of America gets a new facility', 'Corrections of America gets a new facility', 'Corrections Corporation of America Announces Loss of Contract With the State of Alaska', 'TheFortuneFinancial.com Free Market Research on CXW, VIA-B, XCO, TLAB, ZRAN and WFSL', \"Hipso Multimedia, Inc.'s (HPSO) Subsidiary, Valtech Communications, Signs Letter of Intent to Purchase 50% Interest in Clovys Communications, Inc.\", \"Goldbrook-Jilin Jien Nickel Cash Offer For Canadian Royalties Bodes Well For Apella's Goldbrook Holdings\", 'Garage Sale Tips From the Pros', 'Yorbeau Continues Drilling With Two Rigs', 'Robert Goluch Appointed to the Competition Tribunal', 'Cinedigm Digital Cinema Corp. First Quarter Earnings Conference Call Notification', 'Galapagos reports revenue growth and improved net result in 1H 2009', 'Jourdan Resources inc. Hires Focus Relations Inc.', 'Delta Uranium Extends Incinerator Road Uranium Mineralization at Deer Lake, Newfoundland', 'Inspiration Mining Corporation: Election of New Directors', 'Central Vermont Reports Second Quarter Earnings', 'Molecular Insight Pharmaceuticals, Inc. Advances Azedra Program Into Pivotal Phase 2 Therapeutic Trial in Neuroendocrine Cancer Patients', \"ALDA's T36(R) Antiseptic Hand Sanitizer Kills 2009 H1N1 Flu (Swine Flu) Virus in 15 Seconds\", 'Richmont Mines Defines Reserves at its Francoeur Gold Project and Plans Production at an Annual Rate of 35,000 Ounces Starting in 2011', 'Denison Announces NI 43-101 Resource Estimates for Its EZ1 and EZ2 Deposits', 'Trial Findings for Vicor Technologies PD2i Vital Sign Diagnostic to Be Presented at the ATACCC 2009 Conference', 'Auto-Lab Complete Car Care Centers Adds New Sterling Heights Location to Michigan', 'CDM at WesternU Gets Provisional Approval', 'WesternZagros Announces 2009 Second Quarter Results', 'CDM at WesternU Gets Provisional Approval', 'DDS Wireless Reports Second Quarter 2009 Financial Results', 'Kinbauri Provides Update on Strategic Alternatives', 'Information Update: Health Canada Reminds Consumers About the Risks of Buying Drugs Online', 'BrightTALK Hosts Data and Privacy in Web 2.0 Summit', 'Denison Announces NI 43-101 Resource Estimates for Its EZ1 and EZ2 Deposits', 'TSX Venture Exchange Daily Bulletins for August 7, 2009', 'Katanga Announces Second Quarter Results', 'U.S. Century Bank Participates in TARP', 'Media Advisory: Canadian Heritage', 'Jilin Jien and Goldbrook Conference Call and Webcast Now Available for Replay', 'BitDefender Offers Image Theft Prevention Tips', 'Aetna Health Plans in North Carolina Now on GoHealthInsurance \"E-Application\" Platform', 'DAY SOFTWARE ELECTS BARRY BYCOFF AS NEW CHAIRMAN', 'Klondike Silver Completes Underground Drilling in Wonderful Mine', 'Presstek Announces International Trade Commission Victory in Patent Infringement Case Against VIM Technologies', 'Beyond Commerce Supports the Home of Life Community Development Corporation in an Effort to Develop Job Readiness Skills for Inner-City Chicago Youth', 'ERA Ecosystem Restoration Associates, Inc.: \"Guide to Carbon Offsets for Canadian Businesses and Consumers\" by the David Suzuki Foundation and Pembina Institute Is Both Deficient and Biased', 'NewMarket Technology, Inc. Announces Launch of $30 Million Service Contract in China', 'China Crescent Enterprises, Inc. Launches $30 Million Service Contract', 'National Automation Services, Inc. Files Form 10', 'Allied Nevada Reports Second Quarter 2009 Financial Results', 'Ember Resources Inc. Reports Second Quarter 2009 Results', 'American Ecology to Present at Canaccord Adams Annual Global Growth Conference on August 13', 'Con Edison Requests $172 Million in Smart Grid Stimulus Funding', 'RothmanResearch.com Stock Review for BMC, ED, IM, NM, NXY and ACM', 'Sidense to Present at Silicon Valley Flash Memory Summit', 'Canadian Securities Regulators Outline Requirements for Exempt Market Dealers', 'Louisiana Schools Exceed Student Achievement Goals With Help of TargetTeach', 'Central Vermont Reports Second Quarter Earnings', 'Pinnacle Airlines Corp. Announces 2009 Second Quarter Earnings', 'Nordic American Tanker Shipping Ltd. (NYSE: NAT) - Announces Dividend for the 48th Consecutive Quarter - the 2nd Quarter Report of 2009. No Change to Dividend Policy.', 'Options Media Announces New Email Communication Product', 'International Kid-Pop Sensations The Wiggles to Release the First Ever \"Best of\" on September 1, 2009!!!', 'TSX Venture Exchange Closing Summary for August 7, 2009', 'Chembio Reports Second Quarter 2009 Results', 'TSX Venture Exchange Closing Summary for August 7, 2009', 'InnVest REIT Reports Second Quarter Results', 'Options Media Announces New Email Communication Product', 'Bonds.com Provides 2nd Quarter Results Across Key Business Metrics', 'Black Art Beer Announces Financial Projections', 'U.S. Century Bank Participates in TARP', 'Universal Insurance Holdings, Inc. Reports Second-Quarter 2009 Financial Results', 'Atlantis Technology Group Subsidiary Global Online Television Introduces GO-V-Phone / IPTV VOIP Video Phone Service', 'Sanswire Corp. Moves to OTC Bulletin Board From Pink Sheets', 'Trial Findings for Vicor Technologies PD2i Vital Sign Diagnostic to Be Presented at the ATACCC 2009 Conference', 'Celsius Now Sold at Fred Meyer Stores', 'First National Bank of Northern California Reports a Second Quarter 2009 Loss of $0.06 per Diluted Share', 'Finisar Corporation Announces Preliminary Results of Its Exchange Offers for Its Outstanding Convertible Subordinated Notes', 'RenoWorks Announces Formal Agreement With a Large Software Publisher to Utilize Newly Developed Consumer Visualization Software', 'Sun Valley Gold LLC: Control and Direction Over Common Shares and Warrants of Rye Patch Gold Corp.', 'BC Safety Council: Ban Cell Phones While Driving', 'NUFCOR URANIUM LIMITED REPORTS NET ASSET VALUE AND ADJUSTED NET ASSET VALUE AT 31 July 2009', 'Kivalliq Announces Non-Brokered Flow-Through Private Placement', 'Benvest New Look Income Fund Releases Its Results for the Second Quarter of 2009', 'New Gold Assays at Sand Brook Gold Project', 'WesternZagros Announces 2009 Second Quarter Results', 'Katanga Announces Second Quarter Results', 'Transaction in Own Shares', 'La Mancha Posts Record Quarterly Net Earnings as Gold Production Rises 47%', 'Galapagos reports revenue growth and improved net result in 1H 2009', 'Long Beach Marijuana Dispensary to Give Away Free Medical Marijuana on Grand Opening', 'Caza Oil & Gas Announces Second Quarter Results', \"ALDA's T36(R) Antiseptic Hand Sanitizer Kills 2009 H1N1 Flu (Swine Flu) Virus in 15 Seconds\", 'Nordic American Tanker Shipping Ltd. (NYSE: NAT) - Announces Dividend for the 48th Consecutive Quarter - the 2nd Quarter Report of 2009. No Change to Dividend Policy.', 'TSX Venture Exchange Closing Summary for August 7, 2009', 'WebTech Wireless Inc. Announces Definitive Agreement to Acquire Grey Island Systems International Inc.', 'La Mancha Posts Record Quarterly Net Earnings as Gold Production Rises 47%', 'Allied Nevada Reports Second Quarter 2009 Financial Results', 'The Pretenders\\' Summer Tour Just Got Tastier-gardein(TM) Sponsors \"Talk of the Town Grill-Outs\" for Fans in Five Cities Across the U.S.A. and Canada', 'Paragon Steel Looks at Life Without a Compass', 'BC Safety Council: Ban Cell Phones While Driving', 'LG Puts Bliss in the Palm of Your Hand', 'WebTech Wireless Inc. Announces Definitive Agreement to Acquire Grey Island Systems International Inc.', 'Galapagos reports revenue growth and improved net result in 1H 2009', \"Hasbro's Re-Imagined BOP-IT! Game to Debut at Teen Choice 2009\", 'RothmanResearch.com Stock Review for NAL, PSE, CPE, HBI, OMC and NI', 'HRRN Comments on Stock Price and Updates Shareholders on Business Development', 'Houlihan Lokey Investment Bank Taps Venice Consulting Group for Development of New Worldwide Corporate Site', 'WorldVest Expands Its Asian Business Division', 'New Central Bank Gold Sales Agreement Cuts Back on Sales', 'Mega Uranium Ltd.: No Objection Received From the Foreign Investment Review Board for JAURD/ITOCHU Investment in the Lake Maitland Uranium Mine Development in Western Australia', 'LIVESTRONG(R) Global Cancer Campaign Announces Unprecedented Commitments in Palliative Care From Georgia, Romania, Sierra Leone, Uganda and the United States', 'Bosch, DEUTZ, and Eberspächer Explore Possibility of Joint Activities in Non-Road Exhaust-Gas Technology', 'RothmanResearch.com Stock Review for BMC, ED, IM, NM, NXY and ACM', 'Options Media Announces New Email Communication Product', 'BitDefender Offers Image Theft Prevention Tips', 'Sidense to Present at Silicon Valley Flash Memory Summit', 'Spectrum Brands Reports Third Quarter 2009 Financial Results', 'Advanced Proteome Therapeutics Corporation Enters Into Investor Relations Agreement', 'La Mancha Posts Record Quarterly Net Earnings as Gold Production Rises 47%', 'Pinnacle Airlines Corp. Announces 2009 Second Quarter Earnings', 'The Truth About Charity Compensation', 'RothmanResearch.com Stock Review for CRA, HOTT, ISIS, LLTC, NWSA and NUAN', 'U.S. Soccer and Digitaria Launch Revamped Web Site at ussoccer.com', 'DAY SOFTWARE ELECTS BARRY BYCOFF AS NEW CHAIRMAN', 'BrightTALK Hosts Data and Privacy in Web 2.0 Summit', 'WNS Addresses Market Rumors', 'Study: Enterprises Can Slash 88 Percent Off Application Preparation Time for Microsoft App-V Deployments', 'Presstek Announces International Trade Commission Victory in Patent Infringement Case Against VIM Technologies', 'AnalystChoice.com Brings You the Best Complimentary Research Report on RCII, FEED, ITRI, JACK, LINE and CYCL', 'WallStSense.com Fundamental & Technical Coverage of BCR, ITW, PXP, CTB, NYX and PXD', 'AnalystChoice.com Brings You the Best Complimentary Research Report on RCII, FEED, ITRI, JACK, LINE and CYCL', 'Jourdan Resources inc. Hires Focus Relations Inc.', 'CIB Marine Bancshares, Inc. Announces Second Quarter Results', \"Creston's Application for Leave to Appeal Is Denied\", \"Zenergy International, Inc. Announces Appointment of Notable Green Sector Authority, Dr. Gurminder Singh, to the Company's Board of Advisors\", 'Spectrum Brands Reports Third Quarter 2009 Financial Results', 'Dorman Products, Inc., Supplier of Automotive Replacement Parts, Announces Window Regulator and Window Lift Motor Digital Catalog', 'Universal Insurance Holdings, Inc. Reports Second-Quarter 2009 Financial Results', 'Transaction in Own Shares', 'Star Bulk Announces Date for the Release of Second Quarter 2009 Results, Conference Call and Webcast', 'Novo Nordisk A/S - Transaction in Own Shares', 'Galapagos reports revenue growth and improved net result in 1H 2009', 'Overhill Farms Reports Revenues of $54.5 Million, Net Income of $2.6 Million, for Third Quarter', 'HKN Announces Small Net Loss for the Second Quarter 2009 and New Investment Opportunity', 'Rule 8.3 (Brixton Plc)', 'Century Aluminum Announces Equity Investment Impairment', 'Retransmission: Underworld Intersects 2.47 g/t Au over 63.0 Meters at White Gold Property', 'Trial Findings for Vicor Technologies PD2i Vital Sign Diagnostic to Be Presented at the ATACCC 2009 Conference', 'Former Pacer, Reggie Miller Faces Petition for TRO by New York Socialite Alex von Furstenberg According to HollywoodStreetKing.com', 'Colorado Goldfields Updates Shareholders on 2009 Drilling Program, Shareholder Conference Call, Acquisitions, and CFO Compensation', 'PriceSmart Announces July Sales', 'Allied Nevada Reports Second Quarter 2009 Financial Results', 'Treaty Energy Corporation Announces LOI to Enter Into an Oil and Gas Joint Venture', 'Nordic American Tanker Shipping Ltd. (NYSE: NAT) - Announces Dividend for the 48th Consecutive Quarter - the 2nd Quarter Report of 2009. No Change to Dividend Policy.', 'WesternZagros Announces 2009 Second Quarter Results', 'Yellow Pages Income Fund Appoints J. Heidi Roizen to its Board of Trustees', 'Sun Valley Gold LLC: Control and Direction Over Common Shares and Warrants of Rye Patch Gold Corp.', 'Minister Kenney Announces Citizenship Judge Appointments and Reappointments', 'Yorbeau Continues Drilling With Two Rigs', 'The Designer of the Jacques Cartier Bridge Commemorated', 'BrightTALK Hosts Data and Privacy in Web 2.0 Summit', 'Molecular Insight Pharmaceuticals, Inc. Advances Azedra Program Into Pivotal Phase 2 Therapeutic Trial in Neuroendocrine Cancer Patients', 'Metalex Announces Up to C$30 Million Flow-Through Share and Unit Financing', 'RothmanResearch.com Stock Review for NAL, PSE, CPE, HBI, OMC and NI', 'Brookfield Real Estate Services Fund Announces Second Quarter Results and Monthly Cash Distribution', 'TheFortuneFinancial.com Free Market Research on BIG, PBI, AB, SCG, MRX and TIE', 'Palladon Ventures Ltd.-New Iron Mountain Project Resource Estimate', 'Palladon Ventures Ltd.-Filing of Annual Financial Statements', 'Houlihan Lokey Investment Bank Taps Venice Consulting Group for Development of New Worldwide Corporate Site', 'LG Puts Bliss in the Palm of Your Hand', 'AnalystChoice.com Brings You the Best Complimentary Research Report on RCII, FEED, ITRI, JACK, LINE and CYCL', 'Action Football Extreme (AFX) Announces a Partnership With Network Foundation Technologies (NiFTy)', 'Minister Kenney Announces Appointments and Reappointment to the Immigration and Refugee Board of Canada', 'Minister Kenney Announces Appointments and Reappointment to the Immigration and Refugee Board of Canada', 'RothmanResearch.com Stock Review for CRA, HOTT, ISIS, LLTC, NWSA and NUAN', 'Paragon Steel Looks at Life Without a Compass', 'Smith & Nephew Plc Announces Director/PDMR Shareholding', 'Benvest New Look Income Fund Releases Its Results for the Second Quarter of 2009', 'Sure to Please, Wellness International Network Introduces a Vibrant, New Look of Sure2Endure', 'Minister Kenney Announces Citizenship Judge Appointments and Reappointments', 'Robert Goluch Appointed to the Competition Tribunal', 'Media Advisory: Minister of Justice to Address the Canadian Association of Chiefs of Police', 'Information Update: Health Canada Reminds Consumers About the Risks of Buying Drugs Online', 'Galapagos reports revenue growth and improved net result in 1H 2009', 'Houlihan Lokey Investment Bank Taps Venice Consulting Group for Development of New Worldwide Corporate Site', 'Atlantis Technology Group Subsidiary Global Online Television Introduces GO-V-Phone / IPTV VOIP Video Phone Service', 'Retransmission: Underworld Intersects 2.47 g/t Au over 63.0 Meters at White Gold Property', 'ERA Ecosystem Restoration Associates, Inc.: \"Guide to Carbon Offsets for Canadian Businesses and Consumers\" by the David Suzuki Foundation and Pembina Institute Is Both Deficient and Biased', 'ICOP Digital Provides Guidance for Exercising Its Class B Warrant, \"ICOPZ\"', 'Richmont Mines Defines Reserves at its Francoeur Gold Project and Plans Production at an Annual Rate of 35,000 Ounces Starting in 2011', 'Alexis Confirms 156% Increased Reserves at Lac Herbin Gold Mine', 'Denison Announces NI 43-101 Resource Estimates for Its EZ1 and EZ2 Deposits', 'Salary.com(TM) to Present at the 29th Annual Canaccord Adams Global Growth Conference', 'Aquvee, Inc. Calls Off Acquisition by Steadfast and Banx & Green', 'Avid to Present at the Canaccord Adams 29th Annual Global Growth Conference', 'Antisoma announces discontinuation of development of AS1402', \"Hasbro's Re-Imagined BOP-IT! Game to Debut at Teen Choice 2009\", 'Charlesbank Completes $220 Million Acquisition of Natural Gas Assets', 'Molecular Insight Pharmaceuticals, Inc. Advances Azedra Program Into Pivotal Phase 2 Therapeutic Trial in Neuroendocrine Cancer Patients', 'TSX Venture Exchange Closing Summary for August 7, 2009', 'WesternZagros Announces 2009 Second Quarter Results', 'Synergex Announces Release Date of Second Quarter Financial Results', 'C.A. Bancorp Inc. Reports Second Quarter 2009 Financial Results', 'Extenway Solutions Inc. Announces Filing of Financial Statements', 'Caza Oil & Gas Announces Second Quarter Results', 'Call Genie Reports Second Quarter 2009 Financial Results', 'Amica Mature Lifestyles Announces Year End Results for Fiscal 2009', 'Brookfield Asset Management Announces 2009 Second Quarter Results', 'Canadian Real Estate Investment Trust Announces Second Quarter 2009 Results', 'Media Advisory: Canadian Heritage', 'Colorado Goldfields Updates Shareholders on 2009 Drilling Program, Shareholder Conference Call, Acquisitions, and CFO Compensation', 'WallStSense.com Fundamental & Technical Coverage of ADPT, JOSB, MENT, BPOP, MXIM and CWTR', 'AnalystChoice.com Brings You the Best Complimentary Research Report on BNI, MTG, PDE, CCL, PWR and NXG', 'Quest Capital Reports Second Quarter 2009 Results', 'ParagonReport.com Complimentary Market Update on Alumina Ltd. (NYSE: AWC), CSB Corporation (NYSE: CBS), Merck & Co. Inc. (NYSE: MRK) and NVIDIA Corporation (NASDAQ: NVDA)', 'Commercial Solutions Announces Third Quarter 2009 Sales', 'Brookfield Real Estate Services Fund Announces Second Quarter Results and Monthly Cash Distribution', 'AnalystChoice.com Brings You the Best Complimentary Research Report on BNI, MTG, PDE, CCL, PWR and NXG', 'WallStSense.com Fundamental & Technical Coverage of ADPT, JOSB, MENT, BPOP, MXIM and CWTR', 'Nordic American Tanker Shipping Ltd. (NYSE: NAT) - Announces Dividend for the 48th Consecutive Quarter - the 2nd Quarter Report of 2009. No Change to Dividend Policy.', 'NUFCOR URANIUM LIMITED REPORTS NET ASSET VALUE AND ADJUSTED NET ASSET VALUE AT 31 July 2009', \"Window World Raises $290,000 for St. Jude Children's Hospital With Motorsports Art and Memorabilia Auction\", 'NuMobile, Inc. Announces 3-Year Contract to Provide Mobile Internet Services in Southeast Asia', 'The Keg Royalties Income Fund Announces Quarterly Sales Results', 'Palladon Ventures Ltd.-New Iron Mountain Project Resource Estimate', 'Canadian Securities Regulators Outline Requirements for Exempt Market Dealers', 'Delta Uranium Extends Incinerator Road Uranium Mineralization at Deer Lake, Newfoundland', 'Terraco Signs Agreement to Option Bonanza Property', \"Drilling at Alexandria's Siscoe East Property Intersects 43.67 g/t Au over 1.9 m\", 'Retransmission: Underworld Intersects 2.47 g/t Au over 63.0 Meters at White Gold Property', 'Richmont Mines Defines Reserves at its Francoeur Gold Project and Plans Production at an Annual Rate of 35,000 Ounces Starting in 2011', 'Alexis Confirms 156% Increased Reserves at Lac Herbin Gold Mine', 'SAS Announces the Completion of a Mineral Resource Estimate on the Hislop Project', 'Denison Announces NI 43-101 Resource Estimates for Its EZ1 and EZ2 Deposits', 'RothmanResearch.com Stock Review for NAL, PSE, CPE, HBI, OMC and NI', 'Cinedigm Digital Cinema Corp. First Quarter Earnings Conference Call Notification', 'New Island Not Proceeding With the Nugget Pond Acquisition', 'Transport Canada: Re-appointment to Marine Atlantic Inc.', 'RothmanResearch.com Stock Review for BMC, ED, IM, NM, NXY and ACM', 'North American Energy Partners Inc. Files Preliminary Short Form Base Shelf Prospectus for Common Shares Offering', 'RothmanResearch.com Stock Review for PIR, RDN, NOC, SCI, PAG and NHP', 'TSX Venture Exchange Closing Summary for August 7, 2009', 'WallStSense.com Fundamental & Technical Coverage of AYE, CDE, HBC, OC, NOV and OI', 'First National Bank of Northern California Reports a Second Quarter 2009 Loss of $0.06 per Diluted Share', 'Richmont Mines Defines Reserves at its Francoeur Gold Project and Plans Production at an Annual Rate of 35,000 Ounces Starting in 2011', 'Alexis Confirms 156% Increased Reserves at Lac Herbin Gold Mine', \"Goldbrook-Jilin Jien Nickel Cash Offer For Canadian Royalties Bodes Well For Apella's Goldbrook Holdings\", 'RothmanResearch.com Stock Review for CRA, HOTT, ISIS, LLTC, NWSA and NUAN', 'Transaction in Own Shares', 'Novo Nordisk A/S - Transaction in Own Shares', 'Novo Nordisk A/S - Transaction in Own Shares', 'RothmanResearch.com Stock Review for CRA, HOTT, ISIS, LLTC, NWSA and NUAN', 'WallStSense.com Fundamental & Technical Coverage of AYE, CDE, HBC, OC, NOV and OI', 'WallStSense.com Fundamental & Technical Coverage of AYE, CDE, HBC, OC, NOV and OI', 'RothmanResearch.com Stock Review for NAL, PSE, CPE, HBI, OMC and NI', 'RothmanResearch.com Stock Review for PIR, RDN, NOC, SCI, PAG and NHP', 'TheFortuneFinancial.com Free Market Research on BIG, PBI, AB, SCG, MRX and TIE', 'BrightTALK Hosts Data and Privacy in Web 2.0 Summit', 'American TonerServ to Report 2009 Second-Quarter Financial Results and Host Conference Call on Thusday, August 13, 2009', 'Canadian Securities Regulators Outline Requirements for Exempt Market Dealers', 'La Mancha Posts Record Quarterly Net Earnings as Gold Production Rises 47%', 'Amica Mature Lifestyles Announces Year End Results for Fiscal 2009', 'RothmanResearch.com Stock Review for PIR, RDN, NOC, SCI, PAG and NHP', 'TSX Venture Exchange Daily Bulletins for August 7, 2009', 'New Gold Assays at Sand Brook Gold Project', 'DAY SOFTWARE ELECTS BARRY BYCOFF AS NEW CHAIRMAN', 'AnalystChoice.com Brings You the Best Complimentary Research Report on BNI, MTG, PDE, CCL, PWR and NXG', 'WallStSense.com Fundamental & Technical Coverage of BCR, ITW, PXP, CTB, NYX and PXD', 'CIB Marine Bancshares, Inc. Announces Second Quarter Results', 'Spectrum Brands Reports Third Quarter 2009 Financial Results', 'Universal Insurance Holdings, Inc. Reports Second-Quarter 2009 Financial Results', 'Marani Brands, Inc. Announces Return of Founder Margrit Eyraud as President, CEO and Director', 'Media Advisory: Minister of Justice to Address the Canadian Association of Chiefs of Police', 'Overhill Farms Reports Revenues of $54.5 Million, Net Income of $2.6 Million, for Third Quarter', 'Central Vermont Reports Second Quarter Earnings', 'Century Aluminum Announces Equity Investment Impairment', 'Ember Resources Inc. Reports Second Quarter 2009 Results', 'Pinnacle Airlines Corp. Announces 2009 Second Quarter Earnings', 'Allied Nevada Reports Second Quarter 2009 Financial Results', \"Hipso Multimedia, Inc.'s (HPSO) Subsidiary, Valtech Communications, Signs Letter of Intent to Purchase 50% Interest in Clovys Communications, Inc.\", 'Sure to Please, Wellness International Network Introduces a Vibrant, New Look of Sure2Endure', \"Media Advisory: Canada's Economic Action Plan at Work for Canada's National Historic Sites\", 'Shattered Glass Records Announces Signing of Sally Thieves', 'Information Update: Health Canada Reminds Consumers About the Risks of Buying Drugs Online', 'Update: Bernstein Litowitz Berger & Grossmann LLP and Milberg LLP Announce the Filing of a Stockholder Derivative Action on Behalf of the Ryland Group, Inc. Alleging Breaches of Fiduciary Duties by Directors', 'Galapagos reports revenue growth and improved net result in 1H 2009', 'RHJ International: Asahi Tec Corporation Issues Notice of Consolidated Results for First Quarter of Fiscal Year Ended March 31, 2010', 'ART Advanced Research Technologies Announces Second Quarter 2009 Financial Results Conference Call', 'Next Generation in Wireless Printing: PrinterOn-Ricoh Announce Global Partnership', 'Presstek Announces International Trade Commission Victory in Patent Infringement Case Against VIM Technologies', 'Beyond Commerce Supports the Home of Life Community Development Corporation in an Effort to Develop Job Readiness Skills for Inner-City Chicago Youth', 'Yellow Pages Market Not on the Brink of Collapse Despite Recent Bankruptcies, Simba Webinar Reveals; YP Executives Encourage Exploration of New Media Tools', \"ALDA's T36(R) Antiseptic Hand Sanitizer Kills 2009 H1N1 Flu (Swine Flu) Virus in 15 Seconds\", 'Richmont Mines Defines Reserves at its Francoeur Gold Project and Plans Production at an Annual Rate of 35,000 Ounces Starting in 2011', 'SAS Announces the Completion of a Mineral Resource Estimate on the Hislop Project', 'Astralux Power Systems Introduces SolarCare(TM) Program', 'Finisar Corporation Announces Preliminary Results of Its Exchange Offers for Its Outstanding Convertible Subordinated Notes', 'InnVest REIT Reports Second Quarter Results', 'Chembio Reports Second Quarter 2009 Results', 'Nordic American Tanker Shipping Ltd. (NYSE: NAT) - Announces Dividend for the 48th Consecutive Quarter - the 2nd Quarter Report of 2009. No Change to Dividend Policy.', 'Bonavista Energy Trust Announces Closing of Bought Deal Financing', 'AnalystChoice.com Brings You the Best Complimentary Research Report on RCII, FEED, ITRI, JACK, LINE and CYCL', 'AnalystChoice.com Brings You the Best Complimentary Research Report on BLL, PMI, RDC, STZ, WNR and TGB', 'RothmanResearch.com Stock Review for PIR, RDN, NOC, SCI, PAG and NHP', 'Richmont Mines Defines Reserves at its Francoeur Gold Project and Plans Production at an Annual Rate of 35,000 Ounces Starting in 2011', 'TSX Venture Exchange Daily Bulletins for August 7, 2009', 'Brookfield Real Estate Services Fund Announces Second Quarter Results and Monthly Cash Distribution', 'Rye Patch Gold Completes Private Placement', 'Treaty Energy Corporation Announces LOI to Enter Into an Oil and Gas Joint Venture', 'Star Bulk Announces Date for the Release of Second Quarter 2009 Results, Conference Call and Webcast', 'La Mancha Posts Record Quarterly Net Earnings as Gold Production Rises 47%', 'DDS Wireless Reports Second Quarter 2009 Financial Results', 'WallStSense.com Fundamental & Technical Coverage of UN, CVD, XTO, SHO, ZION and PCBC', 'SaleSpider.com Enhances Site for a More User Friendly Experience', 'Canada Increases Humanitarian Aid to Sri Lanka', 'New VSAT Satellite Internet Services From TS2 Satellite Technologies', 'AnalystChoice.com Brings You the Best Complimentary Research Report on BLL, PMI, RDC, STZ, WNR and TGB', 'Sun Valley Gold LLC: Control and Direction Over Common Shares and Warrants of Rye Patch Gold Corp.', 'TSX Venture Exchange Daily Bulletins for August 7, 2009', 'Symantec and LifeLock, Inc. Join Forces to Help Protect Consumers Online and Offline', 'Synergex Announces Release Date of Second Quarter Financial Results', 'Bonavista Energy Trust Announces Closing of Bought Deal Financing', 'Terraco Signs Agreement to Option Bonanza Property', 'Terraco Signs Agreement to Option Bonanza Property', 'Yellow Pages Income Fund Appoints J. Heidi Roizen to its Board of Trustees', 'TSX Venture Exchange Daily Bulletins for August 7, 2009', 'OneMove(TM) Records its Best Month Ever in July', 'Yellow Pages Income Fund Appoints J. Heidi Roizen to its Board of Trustees', 'The Pretenders\\' Summer Tour Just Got Tastier-gardein(TM) Sponsors \"Talk of the Town Grill-Outs\" for Fans in Five Cities Across the U.S.A. and Canada', 'Next Generation in Wireless Printing: PrinterOn-Ricoh Announce Global Partnership', 'Amica Mature Lifestyles Announces Year End Results for Fiscal 2009', 'AnalystChoice.com Brings You the Best Complimentary Research Report on BMO, CVH, NYB, SLT, TOT and SNDA', 'TheFortuneFinancial.com Free Market Research on BSX, ARW, CVG, WY, TS and CRL', 'Media Advisory/REMINDER: Transport Canada', 'Hastings Entertainment Incorporated: Characters of Every Description Begin Training for Aug. 16 Mascot Derby at Hastings Racecourse', \"Hipso Multimedia, Inc.'s (HPSO) Subsidiary, Valtech Communications, Signs Letter of Intent to Purchase 50% Interest in Clovys Communications, Inc.\", 'International Kid-Pop Sensations The Wiggles to Release the First Ever \"Best of\" on September 1, 2009!!!', 'LG Puts Bliss in the Palm of Your Hand', 'Atlantis Technology Group Subsidiary Global Online Television Introduces GO-V-Phone / IPTV VOIP Video Phone Service', 'Action Football Extreme (AFX) Announces a Partnership With Network Foundation Technologies (NiFTy)', 'Finisar Corporation Announces Preliminary Results of Its Exchange Offers for Its Outstanding Convertible Subordinated Notes', 'Homeowners Get a Bailout From High Utility Bills', '8/7, MoneyTV with Donald Baillargeon', 'Muscle Flex Inc. Applies for Trademark Registration With the USPTO for The BUDDY Tablet Caddy(TM), Completes Registration of the Muscle Flex(R) and Extreme Machine(R) as Registered Trademarks and Files for Additional Trademarks for Muscle Flex(R)', 'Constellation Software Inc. Acquisition of Compusource', 'Sure to Please, Wellness International Network Introduces a Vibrant, New Look of Sure2Endure', 'Shattered Glass Records Announces Signing of Sally Thieves', 'LIVESTRONG(R) Global Cancer Campaign Announces Unprecedented Commitments in Palliative Care From Georgia, Romania, Sierra Leone, Uganda and the United States', 'HKN Announces Small Net Loss for the Second Quarter 2009 and New Investment Opportunity', 'Bederra Corporation Shareholder and Business Update', 'NewMarket Technology, Inc. Announces Launch of $30 Million Service Contract in China', 'China Crescent Enterprises, Inc. Launches $30 Million Service Contract', 'Treaty Energy Corporation Announces LOI to Enter Into an Oil and Gas Joint Venture', 'New Central Bank Gold Sales Agreement Cuts Back on Sales', 'Advanced Proteome Therapeutics Corporation Enters Into Investor Relations Agreement', 'Rule 8.3 (Anglo American Plc)', 'Terraco Signs Agreement to Option Bonanza Property', 'Universal Insurance Holdings, Inc. Reports Second-Quarter 2009 Financial Results', 'Argus Metals Corp.: Amendment to News Release', 'TheFortuneFinancial.com Free Market Research on CXW, VIA-B, XCO, TLAB, ZRAN and WFSL', 'New VSAT Satellite Internet Services From TS2 Satellite Technologies', 'New VSAT Satellite Internet Services From TS2 Satellite Technologies', 'Sure to Please, Wellness International Network Introduces a Vibrant, New Look of Sure2Endure', 'RenoWorks Announces Formal Agreement With a Large Software Publisher to Utilize Newly Developed Consumer Visualization Software', 'AnalystChoice.com Brings You the Best Complimentary Research Report on BLL, PMI, RDC, STZ, WNR and TGB', 'WNS Addresses Market Rumors', 'TheFortuneFinancial.com Free Market Research on CXW, VIA-B, XCO, TLAB, ZRAN and WFSL', 'TSX Venture Exchange Daily Bulletins for August 7, 2009', 'WallStSense.com Fundamental & Technical Coverage of UN, CVD, XTO, SHO, ZION and PCBC']"
        ],
        [
         "34",
         "2009-08-08 00:00:00-04:00",
         "['Rosen Law Firm Announces Class Action Lawsuit Against Repros Therapeutics Inc. -- RPRX', 'Rosen Law Firm Announces Class Action Lawsuit Against Repros Therapeutics Inc. -- RPRX', 'CelLynx Discusses Its 5BARz Sales and Marketing Strategy', 'Rosen Law Firm Announces Class Action Lawsuit Against Repros Therapeutics Inc. -- RPRX', 'CelLynx Discusses Its 5BARz Sales and Marketing Strategy', 'Rosen Law Firm Announces Class Action Lawsuit Against Repros Therapeutics Inc. -- RPRX', \"Turbine Fire Contained and Under Investigation at Transalta's Kent Hills Wind Farm\"]"
        ],
        [
         "35",
         "2009-08-09 00:00:00-04:00",
         "['Optichron(R) Second-Generation Digital Pre-Distortion Processor Provides Wide-Band, Class 1 Performance for Multi-Protocol Basestations', 'Research Finds PCI DSS Awareness High Among Small Merchants, Lack of Understanding Remains Huge Hurdle', 'Abdul Latif Jameel Engages Sierra Atlantic IT Services to Boost \"Delight\" and Enable 360 Degree View of Customers', 'Marengo Mining Limited: Investor Presentation (Resources Rising Stars) 10-14 August 2009', 'Nexenta Systems Demonstrates Continued Momentum - Announces Significant Expansion to Worldwide Channel Partnerships', 'Nexenta Systems Demonstrates Continued Momentum - Announces Significant Expansion to Worldwide Channel Partnerships', 'PBoC Will Keep Lending at High Levels - China in a Bubble?', 'Learn How to Get the Best Health Insurance Value in an Economic Recession at the GoHealthInsurance Information Center', 'Optichron(R) Second-Generation Digital Pre-Distortion Processor Provides Wide-Band, Class 1 Performance for Multi-Protocol Basestations', 'Abdul Latif Jameel Engages Sierra Atlantic IT Services to Boost \"Delight\" and Enable 360 Degree View of Customers', 'Marengo Mining Limited: Investor Presentation (Resources Rising Stars) 10-14 August 2009', 'Optichron(R) Second-Generation Digital Pre-Distortion Processor Provides Wide-Band, Class 1 Performance for Multi-Protocol Basestations', 'Nexenta Systems Demonstrates Continued Momentum - Announces Significant Expansion to Worldwide Channel Partnerships', 'Nexenta Systems Demonstrates Continued Momentum - Announces Significant Expansion to Worldwide Channel Partnerships', 'Nexenta Systems Demonstrates Continued Momentum - Announces Significant Expansion to Worldwide Channel Partnerships', 'Nexenta Systems Demonstrates Continued Momentum - Announces Significant Expansion to Worldwide Channel Partnerships', 'Optichron(R) Second-Generation Digital Pre-Distortion Processor Provides Wide-Band, Class 1 Performance for Multi-Protocol Basestations', 'Optichron(R) Second-Generation Digital Pre-Distortion Processor Provides Wide-Band, Class 1 Performance for Multi-Protocol Basestations', 'Enseco Energy Services Corp. Announces Private Placement', 'A Tour of Baghdad, Sorry, Detroit', 'Nexenta Systems Demonstrates Continued Momentum - Announces Significant Expansion to Worldwide Channel Partnerships', 'Nexenta Systems Demonstrates Continued Momentum - Announces Significant Expansion to Worldwide Channel Partnerships', 'Abdul Latif Jameel Engages Sierra Atlantic IT Services to Boost \"Delight\" and Enable 360 Degree View of Customers', 'Nexenta Systems Demonstrates Continued Momentum - Announces Significant Expansion to Worldwide Channel Partnerships', 'Nexenta Systems Demonstrates Continued Momentum - Announces Significant Expansion to Worldwide Channel Partnerships', 'A Tour of Baghdad, Sorry, Detroit', 'Minister of Justice Announces Winner of the 2009 National Youth Justice Policing Award', 'Media Advisory/REMINDER: Minister of Justice to Address the Canadian Association of Chiefs of Police', 'Research Finds PCI DSS Awareness High Among Small Merchants, Lack of Understanding Remains Huge Hurdle', 'Minister of Justice Announces Winner of the 2009 National Youth Justice Policing Award', 'Media Advisory/REMINDER: Minister of Justice to Address the Canadian Association of Chiefs of Police', 'Abdul Latif Jameel Engages Sierra Atlantic IT Services to Boost \"Delight\" and Enable 360 Degree View of Customers', 'Optichron(R) Second-Generation Digital Pre-Distortion Processor Provides Wide-Band, Class 1 Performance for Multi-Protocol Basestations', \"China's Silver Bulls Are on the Loose\", 'Optichron(R) Second-Generation Digital Pre-Distortion Processor Provides Wide-Band, Class 1 Performance for Multi-Protocol Basestations']"
        ],
        [
         "36",
         "2009-08-10 00:00:00-04:00",
         "['ERHC Energy Inc. Reports Third Quarter 2009 Financial Results', 'Natural Health Trends Announces Second Quarter 2009 Results and Early Redemption of Convertible Debentures', 'Zedi Inc. Announces Second Quarter 2009 Financial Results', 'Lithium One Reports Initial Drill Results for Its James Bay Lithium Project and Expands Drill Program to 11,000m', 'Van Duzer Vineyards Releases 2007 Estate Pinot Noir and 2008 Estate Pinot Gris', 'IIROC: Cease Trade Order, Real Time Measurements Inc.', 'Update: Bob Evans Builds a Whole New Home of Homestyle in Xenia', '\"The Beautiful Beatles\" Presented by the Aureole Trio', '\"The Beautiful Beatles\" Presented by the Aureole Trio', 'Allied Properties Real Estate Investment Trust Announces Strong Second-Quarter Results', 'Savanna Energy Services Corp. Announces Q2 2009 Results', 'Dyer & Berens LLP Files Class Action Lawsuit on Behalf of Investors Who Purchased Flotek Industries, Inc. Common Stock Between 5/8/07 and 1/23/08; Announces Upcoming Investor Deadline -- FTK', 'ePlus Reports First Quarter Fiscal 2010 Results', 'Terra Firma Closes Private Placement and Announces Extension of Restigouche Property Agreement', 'Golden Star Reports Record Quarterly Gold Sales and Financial Results for Second Quarter 2009', 'Dundee Corporation Reports Second Quarter 2009 Results', 'Veramark Reports Second Quarter 2009 Results', 'First Quantum Minerals Reports Operational and Financial Results for the Three and Six Months Ended June 30, 2009', 'Gulfside Minerals Ltd.: Onjuul Coal Project Acquisition', 'EV Energy Partners Announces Second Quarter 2009 Results and Additional Commodity Price Hedges', 'EV Energy Partners Announces Second Quarter 2009 Results and Additional Commodity Price Hedges', 'BluMont Capital Corporation Completes Fund Mergers', 'Schawk Announces Second-Quarter and First-Six Months 2009 Results', 'Schawk Announces Second-Quarter and First-Six Months 2009 Results', 'Allon Therapeutics Releases Second Quarter Operating Results', 'BioteQ Reports Second Quarter Operating and Financial Results', 'CPP Investment Board Commits up to US$250 Million to Brazilian Commercial Properties Joint Venture', 'TSX Venture Exchange Closing Summary for August 10, 2009', 'Troymet Updates Activities', 'TSX Venture Exchange Daily Bulletins for August 10, 2009', 'Governor General to Participate in the Grand Rassemblement Jeunesse 2009 as Part of the Congres Mondial Acadien', 'H.O.G.(R) Rallies With Big Rock to Raise Funds for Local Arts Charity', 'TIBCO Software to Present at the 11th Annual Pacific Crest Technology Leadership Forum', 'Prime Restaurants Royalty Income Fund Announces Second Quarter 2009 Results', 'PRIMUS Telecommunications to Report Second Quarter 2009 Results on August 13, 2009', 'Goldcorp Acquires Investment in Osisko', 'Centrue Financial Corporation Announces Second Quarter 2009 Results', 'Fortress Paper Announces Second Quarter 2009 Results', 'Assisted Living Concepts, Inc. Announces 2009 Second Quarter Results, Strong Margins, and Upward Occupancy Trend', 'Wave Q2 Revenues Rose 142% to $4.8 Million and Its Q2 Net Loss Declined to $344,000 From a Net Loss of $5.6 Million', 'Willbros to Present at The EnerCom 2009 Oil & Gas Conference', 'VMware to Acquire SpringSource', 'VMware to Acquire SpringSource', 'HQ Sustainable Maritime Reports Second Quarter Results', 'CBG Commences 2009 Committee Bay Exploration Program', 'FX Energy Reports Second Quarter Income; Non-Cash Items Dominate Quarter Results', 'Atlantic Wind & Solar Inc. Signs Landmark MOU With Centripetal Dynamics, Inc. to Advance Wind Power Business Partnership', 'Gulfside Announces Non-Brokered Private Placement', 'Barracuda Networks Launches CudaTel -- New VoIP PBX Based on the Open Source FreeSWITCH Project', 'Fruitful Canada-Quebec Partnership: Maison Saint-Gabriel Expansion in Montreal Allocated $5.3 million in Funding', 'Bob Evans Builds a Whole New Home of Homestyle in Xenia', 'Registered Retirement Income Funds: \"Canadians Can Claim the Deductions for Which They Are Entitled,\" Says Minister Blackburn', 'Izard Nobel LLP Announces Class Action Lawsuit Against Flotek Industries, Inc.', 'Kendall Law Group Announces Securities Class Action Against Conseco Inc.', 'PEO Obtains Order Against Toronto Man and His Company', 'Thirty-Five-Year Hospitality Professional Appointed President of Days Inn', 'Woodward Sells Fuel and Pneumatics Product Line to TransDigm Inc.', 'Dundee Corporation Announces Appointment of Directors', \"BioCentric Energy Confirms Significant Short Position of Company's Common Stock\", 'Fans Proclaim Love for Quiznos(R) in Bold and Daring Ways', 'Attitudes to Software-as-a-Service Are Driven by Experience', 'Kendall Law Group Announces Securities Class Action Against Flotek Industries, Inc.', 'Synodon Closes First Tranche of Private Placement', \"GlobeStar Mining's Conference Call for Investors on August 13, 2009\", 'Kwanmukan International Society Announces Death of Great Grandmaster Hanshi George E. Anderson', 'Jobs2Web Continues to Succeed in the Interactive Recruitment Market', 'Celstream Raises the Bar for Innovation and Efficiency With the Launch of Its Services Package for Product Development', 'MTI Global Inc. Q2 Results Conference Call and Webcast Invitation', 'MaxLinear Enters Cable TV Market With New Ultra Low Power Silicon Tuner Family', 'ACT Litigation Certified as Compliant With E.U., Switzerland Safe Harbor Frameworks', 'GameTime and Hasbro Help West Point Install Inclusive Boundless Playground', 'GameTime and Hasbro Help West Point Install Inclusive Boundless Playground', \"Eastern Michigan's Education Professors Direct Program to Assist High-Risk Teen Parents\", \"Eastern Michigan's Education Professors Direct Program to Assist High-Risk Teen Parents\", '(OTC: MNDP) Contract With Warner Brothers Successful', 'Inter Pipeline Fund Provides Update on Corridor Pipeline Capacity Expansion Project', \"Media Advisory: CAE's FY2009 annual and special meeting of shareholders and FY2010 first quarter financial results and conference call\", 'Messina Minerals Inc. Prospecting Results at Haven Steady, NL', \"Aberdeen Leads the Market as the First Research Firm to Offer Reports on Amazon's Kindle\", 'Governments of Canada and Newfoundland and Labrador Help People With Developmental Disabilities Prepare for Jobs in the Baie Verte Area', \"Vishay's New SkyFET(R) Monolithic Power MOSFET and Schottky Diode Achieves 3 Milliohms On-Resistance in SO-8 With TrenchFET(R) Gen III Technology\", 'Governments of Canada and Newfoundland and Labrador Help People with Developmental Disabilities Prepare for Jobs in Mount Pearl', 'Government of Canada Helps Grande Prairie Youth Prepare for Jobs', 'WCSB Oil & Gas Royalty Income 2009 Limited Partnership-$18,798,400 Raised to Date', 'The Canada Revenue Agency Revokes the Charitable Status of Funds for Canada Foundation', 'City Inn Launches New Hotel in Leeds', 'Pride International, Inc. Announces Management Changes', 'Unico, Inc. Announces Additional Improvements to the Deer Trail Mill and Processing Facility for Improved Recovery of Gold', 'Unico, Inc. Announces Additional Improvements to the Deer Trail Mill and Processing Facility for Improved Recovery of Gold', 'The Canada Revenue Agency Revokes the Charitable Status of Jesus El Buen Pastor Spanish Pentecostal Church of Toronto', 'Castle Resources Begins New Drill Program at the Elmtree Gold Project', 'Finally, Online Video Ads Customized On-the-Fly to Viewer Demographics and Behavior', 'Aerosim, the #1 Desktop Simulation Training Provider in the World for Glass and Automation, Expands Globally With New Offices', 'Second Camelot Films(R) Slate Earmarked for the United Kingdom', 'Staccato Gold Provides Update on Summer Program at Flagship South Eureka Property', 'Mega Uranium Ltd.: Discovery of Uranium-Bearing Palaeochannel in Western Australia', 'GoldTrain Announces Start of Field Program on the Missinabie Gold Project and Extension of Warrants', 'Media Advisory: Aurora Flight Sciences to Reveal Details of New Product', 'Golden Hope Mines Limited: Exploration Program Update Timmins Gold Deposit', 'The Zweig Total Return Fund, Inc. Discloses Sources of Distribution - Section 19A Notice', \"SE Solutions' Zhenia Klevitsky Honored With 2009 Rising Star Award\", 'American Oil & Gas Reports 2nd Quarter 2009 Results', 'Nortel Reports Financial Results for the Second Quarter 2009', 'United Reef Announces Appointment of New Director', 'What Every Student -- and Parent -- Should Know When Buying a Laptop for College', 'Thorium Power Reports Second Quarter 2009 Financial Results and Provides Business Update', 'Nortel Announces Board of Directors, Management Team and Organizational Changes', 'iBooster Cellular Amplifier for the iPhone and Curve Is Now Shipping From Wilson Electronics', 'Andean Resources Ltd.: Step-Out Drilling Extends Bajo Negro Vein by Another 125 Metres', 'International Millennium Announces Private Placement', 'Iberian Receives Permanent Aguas Tenidas Permit', 'Great Plains Confirms Light Oil Success at Crossfire', 'Canadian Shield Shareholders Approve Amendment to Stock Option Plan', 'Leatt Corporation Opens Branch New Zealand', 'Fortress Technologies Delivers Tactical On-the-Move Connectivity With Launch of Six New Products', 'Letter of Intent to Combine Kristina Capital Corp. and Black Marlin Energy Ltd.', 'Mano River Resources Inc.: Mining Licence Granted for New Liberty Gold Project in Liberia', 'PC Gold Opens Up Pickle Crow With Discovery of Gold in Confederation Rocks; Drills Thick Temiskaming-Like Conglomerate Sequence', 'Indicator Minerals Closes $925,000 Private Placement', 'Fortinet Files for Initial Public Offering', 'BWI Holdings, Inc.: Virgin Music Festival Chooses Budget Waste', 'Gold Canyon Reviews Springpole Gold Project', 'PennySaverUSA.com Releases First-Ever Music Video \"SaverTime\" Inspired by MC Hammer as a Tribute to the Power of PennySaver Deals', 'Hong Kong Highpower Technology Reports Second Quarter 2009 Financial Results', 'Australian Solomons Gold Limited Gold Ridge Update', 'Shear and Stornoway Option Chesterfield Inlet Claims, Nunavut', 'CORRECTION FROM SOURCE: IPL Inc. Will Hold a Conference Call to Discuss its Third Quarter Results', 'Skystar Bio-Pharmaceuticals to Report Second Quarter 2009 Financial Results', 'Composite Technology to Host Conference Call to Discuss June Quarter Results', 'BioExx Adds Protein Specialist to Advisory Board', 'SeQent Is \"Connected With Kepware\"', 'New \"Transformer(TM)\" for iPod/iPhone and \"Transformer SE(TM)\" From Clickfree(TM) Turn Unused iPod/iPhone Capacity Into Hassle Free Backup Solution', 'Enterra Energy Trust Notice of Second Quarter 2009 Results, Conference Call and Webcast Details', 'Sterling Shoes Income Fund Announces Second Quarter 2009 Results', 'Global Ship Lease Reports Results for the Second Quarter of 2009', 'GeoMet Announces Financial and Operating Results for the Quarter Ended June 30, 2009', 'AVI BioPharma Announces Second Quarter 2009 Financial Results & Corporate Highlights', 'Three Covario Clients Nominated for Search Marketing Excellence in 2009 Search Engine Watch Awards', 'Mindspeed(R) Adopts Rights Agreement Designed to Help Preserve the Value of Net Operating Losses', 'Golden Minerals Reports Second Quarter 2009 Results', 'Skystar Bio-Pharmaceuticals to Report Second Quarter 2009 Financial Results and Host Conference Call on Friday, August 14, 2009', 'Quicksilver Resources Reports Second-Quarter 2009 Results', 'HE-5 Resources Corp., Announces Management Holding Meetings All Week, to Finalize Acquisitions', 'Quicksilver Gas Services Reports Second-Quarter 2009 Results', 'Virgin Mobile USA Reports $98 Million in Adjusted EBITDA Excluding Transition and Restructuring Expenses(1) for the First Six Months of 2009', 'Molecular Insight Pharmaceuticals, Inc. Announces Second Quarter 2009 Financial and Operational Results', 'Jilin Jien and Goldbrook Formally Commence All-Cash Bid for Canadian Royalties', 'VLCCF - Notification of date of release Q2 2009 results', 'Biota Holdings Announces Successful Phase III Asian Clinical Trials of Its Second Generation Flu Treatment', 'Muscle Flex Inc. Completes Its \"Generation One\" Websites and Begins Development of Its \"Generation Two\" Websites and Describes Its \"Drive to the Internet\" Strategy', 'Van der Moolen Holding requests surseance', 'Lithium One Reports Initial Drill Results for Its James Bay Lithium Project and Expands Drill Program to 11,000m', 'Breaking News: China Armco Metals - August 10, 2009', 'Andean Resources Ltd.: Step-Out Drilling Extends Bajo Negro Vein by Another 125 Metres', 'PC Gold Opens Up Pickle Crow With Discovery of Gold in Confederation Rocks; Drills Thick Temiskaming-Like Conglomerate Sequence', 'Ahead of the Bell: China Armco Metals - August 10, 2009', 'Ahead of the Bell: China Armco Metals - August 10, 2009', 'TheFortuneFinancial.com Free Market Research on ALU, EAT, SGY, WDR, AAN and BQI', 'AAON Reports Second Quarter Results', \"Destiny Resource Services Corp. Announces Q2'09 Results\", 'BWI Holdings, Inc.: Virgin Music Festival Chooses Budget Waste', '(OTC: MNDP) Contract With Warner Brothers Successful', 'Disclosure of Short Position', 'HQ Sustainable Maritime Reports Second Quarter Results', 'RothmanResearch.com Stock Review for AMAT, CME, CEDC, SHLD, WCRX and ACXM', 'AnalystChoice.com Brings You the Best Complimentary Research Report on AEL, DE, SY, CNB, HLF and TRN', 'Route1 Demonstrates MobiKEY Fusion for Government and Military at GSA', 'Permabit Announces Cloud Storage Solution for Service Providers', 'BenchmarkJournal.com Free Analyst Review for AF, CCI, SGR, ICE, HAL and ARA', 'AnalystChoice.com Brings You the Best Complimentary Research Report on AFFX, DNDN, EWBC, FINL, EMKR and BIDU', 'WallStSense.com Fundamental & Technical Coverage of CBL, GE, FOE, HES, AFG and HSC', 'Composite Technology Signs Agreement to Sell Turbine Business to DSME', 'Composite Technology to Host Conference Call to Discuss June Quarter Results', 'TheFortuneFinancial.com Free Market Research on FWLT, AAPL, CATY, FULT, CTRP and AGCO', \"Infineon's Wireline Division Will Become LANTIQ\", 'TheFortuneFinancial.com Free Market Research on FWLT, AAPL, CATY, FULT, CTRP and AGCO', 'RothmanResearch.com Stock Review for AGO, CAL, HRS, ABV, DPL and HUM', 'TSX Venture Exchange Closing Summary for August 10, 2009', \"Mike Busniuk Returns as Assistant Coach of AHL's Binghamton Senators\", 'AnalystChoice.com Brings You the Best Complimentary Research Report on AIB, BKC, HRB, FLS, KO and RRD', 'TSX Venture Exchange Closing Summary for August 10, 2009', 'RothmanResearch.com Stock Review for CPN, ALK, RT, BMS, PPS and CIG', 'Canadian Shield Shareholders Approve Amendment to Stock Option Plan', 'TheFortuneFinancial.com Free Market Research on ALU, EAT, SGY, WDR, AAN and BQI', 'Veramark Reports Second Quarter 2009 Results', 'PRIMUS Telecommunications to Report Second Quarter 2009 Results on August 13, 2009', 'Media Advisory: Health Canada', 'Thorium Power Reports Second Quarter 2009 Financial Results and Provides Business Update', 'CORRECTION FROM SOURCE: IPL Inc. Will Hold a Conference Call to Discuss its Third Quarter Results', 'Spider Resources Inc. Announces Completion of Flow-Through Private Placement with the MineralFields Group', 'CORRECTION FROM SOURCE: IPL Inc. Will Hold a Conference Call to Discuss its Third Quarter Results', 'Great Plains Confirms Light Oil Success at Crossfire', 'Tektronix Showcases New and Enhanced Products at IBC 2009', 'Canadian Shield Shareholders Approve Amendment to Stock Option Plan', 'AltaGas Utility Group Inc. Announces Record First Half 2009 Results and a Quarterly Dividend of $0.05 Per Share', 'Issue of commercial paper', 'Golden Minerals Reports Second Quarter 2009 Results', 'Asure Software Announces Receipt of Nasdaq Staff Determination Letter', 'Mega Uranium Ltd.: Discovery of Uranium-Bearing Palaeochannel in Western Australia', 'Andean Resources Ltd.: Step-Out Drilling Extends Bajo Negro Vein by Another 125 Metres', 'Biota Holdings Announces Successful Phase III Asian Clinical Trials of Its Second Generation Flu Treatment', 'Troy Declares 10th Consecutive Fully Franked Dividend', 'WallStSense.com Fundamental & Technical Coverage of ABAT, BPFH, ATHN, DPTR, AMMD and CMED', 'ParagonReport.com Complimentary Market Update on Freddie Mac (NYSE: FRE), Best Buy Co. Inc. (NYSE: BBY), American Express Company (NYSE: AXP), and Merck & Co. Inc. (NYSE: MRK)', 'TSX Venture Exchange Daily Bulletins for August 10, 2009', 'Prime Restaurants Royalty Income Fund Announces Second Quarter 2009 Results', 'Centrue Financial Corporation Announces Second Quarter 2009 Results', 'Assisted Living Concepts, Inc. Announces 2009 Second Quarter Results, Strong Margins, and Upward Occupancy Trend', 'Wave Q2 Revenues Rose 142% to $4.8 Million and Its Q2 Net Loss Declined to $344,000 From a Net Loss of $5.6 Million', 'Uragold Bay Receives Conditional Approval for the Ice Age Gold Properties Acquisition, Subject to Modification of the Terms of the Agreement', \"Mike Busniuk Returns as Assistant Coach of AHL's Binghamton Senators\", 'MaxLinear Enters Cable TV Market With New Ultra Low Power Silicon Tuner Family', 'WCSB Oil & Gas Royalty Income 2009 Limited Partnership-$18,798,400 Raised to Date', \"Standard & Poor's Ratings Service Revises Bowne's Outlook to Positive on Common Stock Issuance\", 'Nortel Reports Financial Results for the Second Quarter 2009', 'United Reef Announces Appointment of New Director', 'Brookmount Gets a Favorable Independent 43-101 Technical Report on Its Mercedes 100 Polymetallic Property Located in Junín, Peru', 'Letter of Intent to Combine Kristina Capital Corp. and Black Marlin Energy Ltd.', 'Fremont Michigan InsuraCorp, Inc. Reports Earnings for Second Quarter 2009 & Announces Quarterly Cash Dividend', 'Celsius to Be Available at Wegmans Food Markets', \"God's Lake Resources Inc. Announces Commencement of Stock Trading\", 'Global Ship Lease Reports Results for the Second Quarter of 2009', 'Virgin Mobile USA Reports $98 Million in Adjusted EBITDA Excluding Transition and Restructuring Expenses(1) for the First Six Months of 2009', 'Corix Acquires Fairbanks Sewer & Water Inc.', 'Biota Holdings Announces Successful Phase III Asian Clinical Trials of Its Second Generation Flu Treatment', 'Bioanalytical Systems, Inc. Reports Financial Results Through Nine Months of Fiscal 2009', 'TSX Venture Exchange Daily Bulletins for August 10, 2009', 'CUPE BC: Paramedics in Campbell River Rock On!', 'Corix Acquires Fairbanks Sewer & Water Inc.', \"Canada's Economic Action Plan Delivers Timely Funding to Entrepreneurs Through the Business Development Bank of Canada\", 'Franklin Resources, Inc. Announces Month-End Assets Under Management', 'Canadian Royalties Responds to Announcement by Goldbrook and Jilin Jien', 'WallStSense.com Fundamental & Technical Coverage of CPT, SKT, BGC, HTS, RS and CCC', 'Hana Mining Ltd. Announces the Formation of an Advisory Board to Further Support Development of Its Exciting Copper-Silver Resource (Ghanzi Project) in Botswana', 'LTLprints Launches Big Wall Graphics From Leading Artists + Designers', 'LTLprints Launches Big Wall Graphics From Leading Artists + Designers', 'TheFortuneFinancial.com Free Market Research on GES, BKE, SPN, CZZ, FAX and GD', 'WCSB Oil & Gas Royalty Income 2009 Limited Partnership-$18,798,400 Raised to Date', 'RothmanResearch.com Stock Review for CPN, ALK, RT, BMS, PPS and CIG', 'Update: Bob Evans Builds a Whole New Home of Homestyle in Xenia', 'Bob Evans Builds a Whole New Home of Homestyle in Xenia', 'WallStSense.com Fundamental & Technical Coverage of ABAT, BPFH, ATHN, DPTR, AMMD and CMED', 'WallStSense.com Fundamental & Technical Coverage of KRC, SOA, BR, TE, UPL and HST', 'Andean Resources Ltd.: Step-Out Drilling Extends Bajo Negro Vein by Another 125 Metres', 'Defrag: Don\\'t Be \"Penny Wise and Pound Foolish\"', 'Long Beach Marijuana Dispensary Now Opens at 7:00am Weekdays', 'Long Beach Marijuana Dispensary Now Opens at 7:00am Weekdays', 'TIBCO Software to Present at the 11th Annual Pacific Crest Technology Leadership Forum', 'Franklin Resources, Inc. Announces Month-End Assets Under Management', 'VMware to Acquire SpringSource', 'VMware to Acquire SpringSource', 'Composite Technology Signs Agreement to Sell Turbine Business to DSME', 'CNS Response Provides Update Regarding Former CEO', 'Barracuda Networks Launches CudaTel -- New VoIP PBX Based on the Open Source FreeSWITCH Project', 'Declining Number of Home Listings in July Evidence U.S. Housing Market Continues to Stabilize According to ZipRealty', \"BioCentric Energy Confirms Significant Short Position of Company's Common Stock\", 'Fans Proclaim Love for Quiznos(R) in Bold and Daring Ways', \"TCW Named One of the 'Best Places to Work' for the Second Year in a Row\", 'Sempra Energy Foundation Sets $1 Million Environmental Challenge for Southern California', 'MaxLinear Enters Cable TV Market With New Ultra Low Power Silicon Tuner Family', 'McKinley Reserve Media Group Launches \"24 in the O.C.\"', 'NSBN LLP Recognized Among the \"Best Places to Work in LA\" by the Los Angeles Business Journal for Third Consecutive Year', 'ACT Litigation Certified as Compliant With E.U., Switzerland Safe Harbor Frameworks', 'ZAP Secures Up to $25 Million in New Financing', 'Former SEC Chairman Christopher Cox Joins Extraordinary Speaker Lineup for ACG Los Angeles Annual Business Conference', 'Unico, Inc. Announces Additional Improvements to the Deer Trail Mill and Processing Facility for Improved Recovery of Gold', 'Unico, Inc. Announces Additional Improvements to the Deer Trail Mill and Processing Facility for Improved Recovery of Gold', 'Zultys and CyberData Team to Expand Portfolio of SIP Physical Facility Entry Systems and Broad Paging Systems', 'Finally, Online Video Ads Customized On-the-Fly to Viewer Demographics and Behavior', 'Potrero Media Responds to Client Demand in Auto Insurance Category', '\"Stock Alert\" Traders Rejoice With Over 95% Perfect Stock Trades Over 7+ Years', 'San Joaquin Community Hospital Selects Skytron, Powered by Awarepoint, for Their RTLS Enterprise-Wide Asset Tracking Solution', 'Second Camelot Films(R) Slate Earmarked for the United Kingdom', 'WorldVest to Launch Banco WorldVest International', 'WorldVest to Launch Banco WorldVest International', 'Canadian Royalties Responds to Announcement by Goldbrook and Jilin Jien', 'Global4PL Supply Chain Services Has Selected the Law Offices of Greene, Chauvel, Descalso & Minoletti to Provide Legal Services to Its Clients', 'Global4PL Supply Chain Services Has Selected the Law Offices of Greene, Chauvel, Descalso & Minoletti to Provide Legal Services to Its Clients', 'Ethos Retains Strategic Growth International, Inc. as Global Investor-Relations Advisor', 'Hana Mining Ltd. Announces the Formation of an Advisory Board to Further Support Development of Its Exciting Copper-Silver Resource (Ghanzi Project) in Botswana', 'Riverbed Extends Scale and Flexibility for Managed Service Providers by Virtualizing Central Management Console', 'Procera Networks Quickly Becoming the Network Management Solution of Choice in Higher Education', 'HemaCare Reports Increase in Second Quarter Profit on Record Revenue', 'ISC, Afilias and Neustar Bring Secure DNS One Step Closer', 'Fortinet Files for Initial Public Offering', 'Seven Arts Pictures Signs Deal With Showtime to Exhibit \"NOISE,\" a Seven Arts Film Starring Tim Robbins and Bridget Moynahan', 'MetricStream Continues Strong Growth Trend in First Half of 2009', 'PennySaverUSA.com Releases First-Ever Music Video \"SaverTime\" Inspired by MC Hammer as a Tribute to the Power of PennySaver Deals', 'Provision Interactive to Ignite Ad Sales With LocalAdLink', 'Hong Kong Highpower Technology Reports Second Quarter 2009 Financial Results', 'Sky Road and Marketcetera Release Hosted Trading Solution for Cross-Asset Portfolio Management', 'Insurance Educational Association Enables Working Professionals to Go Back to School With Fall Semester Curriculum', 'Baptist Health System Installs Seven z.one Ultrasound Systems From ZONARE Medical Systems', 'U.S. Army Engineer Research and Development Center to Deploy AtHoc IWSAlerts for Organization-Wide Emergency Notification', 'New Data Shows That Economy and Higher Reverse Mortgage Limits Are Driving Seniors to Seek More Immediate Cash Benefits', 'Composite Technology to Host Conference Call to Discuss June Quarter Results', \"Health Insurance Buyer's Guide: eHealthInsurance Publishes New Consumer Resource\", 'REMINDER: Cisco Announces Upcoming Schedule of Events With the Financial Community', 'REMINDER: Cisco Announces Upcoming Schedule of Events With the Financial Community', 'Cubic to Showcase Data Links for Unmanned Systems at AUVSI', 'Oracle Validated Integrations Continue to Provide Value to Partners and Customers', \"Leading Analyst Firm Places Oracle in Leader's Quadrant for Sales Force Automation\", 'Oracle Validated Integrations Continue to Provide Value to Partners and Customers', 'Oracle Validated Integrations Continue to Provide Value to Partners and Customers', 'REMINDER: Cisco Announces Upcoming Schedule of Events With the Financial Community', \"Oracle Integrates Oracle's Value Chain Planning Applications With Oracle's JD Edwards EnterpriseOne\", 'Veteran Employee Benefits Executive Vicki Cullen Joins ClearPoint as VP to Service Portland, Oregon-Area Accounts', 'Mindspeed(R) Adopts Rights Agreement Designed to Help Preserve the Value of Net Operating Losses', 'Cypress Bioscience Announces Second Quarter 2009 Financial Results', 'MyShape(R) Revolutionizes Online Shopping With \"Me\" Commerce(TM)', 'Hong Kong Highpower Technology Reports Second Quarter 2009 Financial Results', 'Muscle Flex Inc. Completes Its \"Generation One\" Websites and Begins Development of Its \"Generation Two\" Websites and Describes Its \"Drive to the Internet\" Strategy', \"Infineon's Wireline Division Will Become LANTIQ\", 'Route1 Demonstrates MobiKEY Fusion for Government and Military at GSA', \"Media Advisory: CAE's FY2009 annual and special meeting of shareholders and FY2010 first quarter financial results and conference call\", 'Declining Number of Home Listings in July Evidence U.S. Housing Market Continues to Stabilize According to ZipRealty', 'CORRECTION FROM SOURCE: IPL Inc. Will Hold a Conference Call to Discuss its Third Quarter Results', 'Natural Health Trends Announces Second Quarter 2009 Results and Early Redemption of Convertible Debentures', 'Savanna Energy Services Corp. Announces Q2 2009 Results', 'Golden Star Reports Record Quarterly Gold Sales and Financial Results for Second Quarter 2009', 'TSX Venture Exchange Daily Bulletins for August 10, 2009', 'HQ Sustainable Maritime Reports Second Quarter Results', 'American Oil & Gas Reports 2nd Quarter 2009 Results', \"Destiny Resource Services Corp. Announces Q2'09 Results\", 'AltaGas Utility Group Inc. Announces Record First Half 2009 Results and a Quarterly Dividend of $0.05 Per Share', 'Sterling Shoes Income Fund Announces Second Quarter 2009 Results', 'Global Ship Lease Reports Results for the Second Quarter of 2009', 'GeoMet Announces Financial and Operating Results for the Quarter Ended June 30, 2009', 'Quicksilver Resources Reports Second-Quarter 2009 Results', 'Quicksilver Gas Services Reports Second-Quarter 2009 Results', 'Molecular Insight Pharmaceuticals, Inc. Announces Second Quarter 2009 Financial and Operational Results', 'TheFortuneFinancial.com Free Market Research on FWLT, AAPL, CATY, FULT, CTRP and AGCO', 'CBG Commences 2009 Committee Bay Exploration Program', 'CBG Commences 2009 Committee Bay Exploration Program', 'WallStSense.com Fundamental & Technical Coverage of CPT, SKT, BGC, HTS, RS and CCC', 'BenchmarkJournal.com Free Analyst Review for AF, CCI, SGR, ICE, HAL and ARA', 'Cameco Reports No Material Change in Centerra Gold Divestiture', 'CustomerCentric Selling(R) Helps Decision Dynamics Technology Produce Record Revenue Through Facilitating Greater Value for Customers', 'Atlantic Wind & Solar Inc. Signs Landmark MOU With Centripetal Dynamics, Inc. to Advance Wind Power Business Partnership', 'TSX Venture Exchange Daily Bulletins for August 10, 2009', 'Telestone Engages QC CPA Group LLC as New Independent Auditor', 'Zedi Inc. Announces Second Quarter 2009 Financial Results', 'Lithium One Reports Initial Drill Results for Its James Bay Lithium Project and Expands Drill Program to 11,000m', 'C2 Global Technologies Inc. Reports 2009 Second Quarter Results', 'Brainhunter Releases Results for June Quarter', 'Update: Bob Evans Builds a Whole New Home of Homestyle in Xenia', 'Allied Properties Real Estate Investment Trust Announces Strong Second-Quarter Results', 'Copernic Inc. Announces 2009 Second Quarter Results', 'Brigham Exploration Announces Approximately 2,154 BOEPD Bakken Well', 'Pan American Silver Receives Company of the Year Awards in Both Peru and Argentina', 'Golden Star Reports Record Quarterly Gold Sales and Financial Results for Second Quarter 2009', 'Epygi\\'s \"Partnering for Success: How to Increase Revenue With the Right Solution\" Seminars Will Appear in Five Cities for Resellers to Attend', 'Allon Therapeutics Releases Second Quarter Operating Results', 'BioteQ Reports Second Quarter Operating and Financial Results', 'BCGold Corp. Completes $1.0 Million Private Placement Financing', 'Troymet Updates Activities', 'Phase Separation Solutions Expands License to Cover China', 'Middle School Mathematics Education Pilot Project Launched in Pinellas County, Florida', 'Middle School Mathematics Education Pilot Project Launched in Pinellas County, Florida', 'Globalive Wireless Harnesses the Power of Conversation With WIND Mobile', 'Prime Restaurants Royalty Income Fund Announces Second Quarter 2009 Results', 'Sage Announces Closing of Merger With Consolidated Puma Mineral Resources Corp.', 'Centrue Financial Corporation Announces Second Quarter 2009 Results', 'Wave Q2 Revenues Rose 142% to $4.8 Million and Its Q2 Net Loss Declined to $344,000 From a Net Loss of $5.6 Million', 'HQ Sustainable Maritime Reports Second Quarter Results', 'CBG Commences 2009 Committee Bay Exploration Program', 'Composite Technology Signs Agreement to Sell Turbine Business to DSME', 'Cadan Resources Corporation: $2,500,000 Non-Brokered Private Placement Completed', 'CNS Response Provides Update Regarding Former CEO', 'Barracuda Networks Launches CudaTel -- New VoIP PBX Based on the Open Source FreeSWITCH Project', 'Xemplar Intersects U3O8 Mineralization Over 18 Metres at Aluriesfontien', 'Bob Evans Builds a Whole New Home of Homestyle in Xenia', 'Uragold Bay Receives Conditional Approval for the Ice Age Gold Properties Acquisition, Subject to Modification of the Terms of the Agreement', 'National Tutoring Service WyzAnt Boasts New Blog and Addition of Tutoring Articles', 'LTLprints Launches Big Wall Graphics From Leading Artists + Designers', 'LTLprints Launches Big Wall Graphics From Leading Artists + Designers', 'Laurentian Goldfields Ltd. Announces Closing of C$1,480,419 Non-Brokered Private Placement', 'AppAssure Software Unveils FREE MailRetriever Lite Message Recovery Tool for Microsoft Exchange Admins', 'Reeg Allen Joins RE2, Inc. as Director of Business Development', 'Jobs2Web Continues to Succeed in the Interactive Recruitment Market', 'Wavefront Technology Solutions Inc.: Successful Powerwave Results Propel Third CO2 Flood', 'Northern Chemical Selects Zion & Zion as Marketing Agency', 'MTI Global Inc. Q2 Results Conference Call and Webcast Invitation', 'Grizzly Engages Osprey Capital Partners to Finance Advancement of Potash Properties', 'McKinley Reserve Media Group Launches \"24 in the O.C.\"', 'Chuck Bennett Rejoins IMG', 'Chuck Bennett Rejoins IMG', 'ACT Litigation Certified as Compliant With E.U., Switzerland Safe Harbor Frameworks', 'Argenta Announces Glenn Van Doorne as New Director', 'ZAP Secures Up to $25 Million in New Financing', 'OPTIMIZERx Corp. Announces the Addition of WebMD Co-Founder and Former President as Advisor', \"Aberdeen Leads the Market as the First Research Firm to Offer Reports on Amazon's Kindle\", 'Corporate Computer Solutions Partners With Zecurion to Deliver World-Class Insider Threat Protection', 'Former SEC Chairman Christopher Cox Joins Extraordinary Speaker Lineup for ACG Los Angeles Annual Business Conference', 'Imaginatik Secures $2.6m Growth Funding', 'WCSB Oil & Gas Royalty Income 2009 Limited Partnership-$18,798,400 Raised to Date', 'Ur-Energy Begins Geophysical Surveying at Screech Lake Project', \"Southwest Wire Rope LP Joins Field ID Safety Network and Selects N4 Systems' Field ID to Automate Certification Process\", 'Vigil Health Solutions Achieves Second Profitable Quarter', 'BioElectronics Receives Nationwide CBS News Coverage', 'Castle Resources Begins New Drill Program at the Elmtree Gold Project', 'Zultys and CyberData Team to Expand Portfolio of SIP Physical Facility Entry Systems and Broad Paging Systems', 'Finally, Online Video Ads Customized On-the-Fly to Viewer Demographics and Behavior', 'Health Systems International Expands Technology Infrastructure and Technology Applications Through Acquisition of @Global', 'IE Discovery Announces Second Annual Electronic Discovery Symposium for Government Agencies', 'San Joaquin Community Hospital Selects Skytron, Powered by Awarepoint, for Their RTLS Enterprise-Wide Asset Tracking Solution', 'Staccato Gold Provides Update on Summer Program at Flagship South Eureka Property', 'Media Advisory: Aurora Flight Sciences to Reveal Details of New Product', 'Wall Street News Alert: Investment Alert: OMCY - August 10, 2009', 'Breaking News: China Armco Metals - August 10, 2009', 'WorldVest to Launch Banco WorldVest International', 'WorldVest to Launch Banco WorldVest International', \"SE Solutions' Zhenia Klevitsky Honored With 2009 Rising Star Award\", 'American Oil & Gas Reports 2nd Quarter 2009 Results', 'Spider Resources Inc. Announces Completion of Flow-Through Private Placement with the MineralFields Group', 'Method123 Ltd: How to Get the Most From Suppliers', 'Route1 Demonstrates MobiKEY Fusion for Government and Military at GSA', 'South American Silver Corp. Defines New Silver-Lead-Zinc Target and Plans August Drilling at the Malku Khota Silver-Indium Project', 'Nortel Announces Board of Directors, Management Team and Organizational Changes', 'International Millennium Announces Private Placement', 'Tombstone Exploration Corporation Renews Six Exploration Permits on 3,025 Acres With Arizona State Land Department', 'Provision Interactive to Ignite Ad Sales With LocalAdLink', 'Ahead of the Bell: China Armco Metals - August 10, 2009', 'Ahead of the Bell: China Armco Metals - August 10, 2009', \"Wall Street News Alert: Monday's Stock in Focus: Omnicity Corp - August 10, 2009\", 'Artfest International, Inc. Subsidiary Charity Sports Distributor Signs Agreement With Leading Technology Solutions Provider for Nonprofit Organizations', 'Artfest International, Inc. Subsidiary Charity Sports Distributor Signs Agreement With Leading Technology Solutions Provider for Nonprofit Organizations', 'Sky Road and Marketcetera Release Hosted Trading Solution for Cross-Asset Portfolio Management', \"Platinex's Ring of Fire Update\", 'Shear and Stornoway Option Chesterfield Inlet Claims, Nunavut', 'East Asia Minerals Encounters 4.31 g/t Gold Over 51 Metres in Wider Interval of 2.25 g/t Gold Over 142.9 Metres From Diamond Drilling at Miwah', 'Fremont Michigan InsuraCorp, Inc. Reports Earnings for Second Quarter 2009 & Announces Quarterly Cash Dividend', 'Permabit Announces Cloud Storage Solution for Service Providers', 'Insurance Educational Association Enables Working Professionals to Go Back to School With Fall Semester Curriculum', 'Fortuna Announces Second Quarter 2009 Results Conference Call', 'Stornoway and Shear Option Chesterfield Inlet Claims, Nunavut', 'AltaGas Utility Group Inc. Announces Record First Half 2009 Results and a Quarterly Dividend of $0.05 Per Share', 'New Data Shows That Economy and Higher Reverse Mortgage Limits Are Driving Seniors to Seek More Immediate Cash Benefits', 'BioExx Adds Protein Specialist to Advisory Board', \"Health Insurance Buyer's Guide: eHealthInsurance Publishes New Consumer Resource\", 'New \"Transformer(TM)\" for iPod/iPhone and \"Transformer SE(TM)\" From Clickfree(TM) Turn Unused iPod/iPhone Capacity Into Hassle Free Backup Solution', \"Sunergy Announces Kerry Bjornson, CEO Joins Company's Advisory Board\", 'Ipitomi Selects VOSS to Manage Voice Network', \"Warnex and Rosetta Genomics Announce Exclusive Distribution Agreement for Rosetta's microRNA-Based Assays in Canada\", 'INV Reports Q2/2009 Results and Provides Operational Update', 'AAON Reports Second Quarter Results', 'Cypress Bioscience Announces Second Quarter 2009 Financial Results', 'Corix Acquires Fairbanks Sewer & Water Inc.', 'Jilin Jien and Goldbrook Formally Commence All-Cash Bid for Canadian Royalties', 'AVEC Applies for Government Grants for Joint Ownership of Engine Production Facility in USA', 'Muscle Flex Inc. Completes Its \"Generation One\" Websites and Begins Development of Its \"Generation Two\" Websites and Describes Its \"Drive to the Internet\" Strategy', 'New CEO at Vertex to Lead Growth Strategy', \"Infineon's Wireline Division Will Become LANTIQ\", 'Troy Declares 10th Consecutive Fully Franked Dividend', 'Business Update: Chemaphor Developing a Food Animal and Companion Animal Product Platform', 'BenchmarkJournal.com Free Analyst Review for GCA, CVX, CHT, SJM, GLW and WTSLA', 'BNP Paribas Corporate and Investment Banking Creates Insurance Solutions Group for the Americas', 'BNP Paribas Corporate and Investment Banking Creates Insurance Solutions Group for the Americas', 'RothmanResearch.com Stock Review for CPN, ALK, RT, BMS, PPS and CIG', 'Global Ship Lease Reports Results for the Second Quarter of 2009', 'Riverbed Extends Scale and Flexibility for Managed Service Providers by Virtualizing Central Management Console', 'RothmanResearch.com Stock Review for AMAT, CME, CEDC, SHLD, WCRX and ACXM', 'Leading Analyst Firm Positions Sitecore in the Visionaries Quadrant in Web Content Management Magic Quadrant Report', 'Kendall Law Group Announces Securities Class Action Against Conseco Inc.', 'CNS Response Provides Update Regarding Former CEO', 'iBooster Cellular Amplifier for the iPhone and Curve Is Now Shipping From Wilson Electronics', \"Grey Island's NextBus Announces $7.9M Software and Equipment Maintenance Service Agreement with San Francisco\", 'A Cut Above: CableOrganizer.com Now Offering More Than 500 Cable and Wire Strippers, Crimpers and Cutters From Its Online Catalog', 'CBG Commences 2009 Committee Bay Exploration Program', 'Così, Inc. Reports 2009 Second Quarter Results', 'Telestone Engages QC CPA Group LLC as New Independent Auditor', 'NSBN LLP Recognized Among the \"Best Places to Work in LA\" by the Los Angeles Business Journal for Third Consecutive Year', 'MaxLinear Enters Cable TV Market With New Ultra Low Power Silicon Tuner Family', 'RothmanResearch.com Stock Review for CPN, ALK, RT, BMS, PPS and CIG', 'WallStSense.com Fundamental & Technical Coverage of CPT, SKT, BGC, HTS, RS and CCC', 'Insurance Educational Association Enables Working Professionals to Go Back to School With Fall Semester Curriculum', \"Wall Street News Alert: Monday's Stock in Focus: Omnicity Corp - August 10, 2009\", 'Fortinet Files for Initial Public Offering', 'Biota Holdings Announces Successful Phase III Asian Clinical Trials of Its Second Generation Flu Treatment', 'Artfest International, Inc. Subsidiary Charity Sports Distributor Signs Agreement With Leading Technology Solutions Provider for Nonprofit Organizations', 'Artfest International, Inc. Subsidiary Charity Sports Distributor Signs Agreement With Leading Technology Solutions Provider for Nonprofit Organizations', 'SeQent Is \"Connected With Kepware\"', 'Cubic to Showcase Data Links for Unmanned Systems at AUVSI', 'Cortez Resources Enters Into Definitive Agreement With Seabridge Gold Inc. for Acquisition of Mineral Properties in Nevada', \"Kodiak Options CanAlaska's McTavish Uranium Project, Consolidating Large Land Position in the Athabasca Basin\", 'TheFortuneFinancial.com Free Market Research on GES, BKE, SPN, CZZ, FAX and GD', 'IIROC: Cease Trade Order, Real Time Measurements Inc.', 'Brigham Exploration Announces Approximately 2,154 BOEPD Bakken Well', 'Ryder Announces Debt Tender Offer', 'First Quantum Minerals Reports Operational and Financial Results for the Three and Six Months Ended June 30, 2009', 'Congresswoman Betty Sutton Challenges Department of Defense to Address the Impact of Corrosion on Troop Readiness and Safety', 'TSX Venture Exchange Closing Summary for August 10, 2009', 'Troymet Updates Activities', 'Middle School Mathematics Education Pilot Project Launched in Pinellas County, Florida', 'Middle School Mathematics Education Pilot Project Launched in Pinellas County, Florida', 'TSX Venture Exchange Daily Bulletins for August 10, 2009', 'Declining Number of Home Listings in July Evidence U.S. Housing Market Continues to Stabilize According to ZipRealty', 'Wavefront Technology Solutions Inc.: Successful Powerwave Results Propel Third CO2 Flood', \"Aberdeen Leads the Market as the First Research Firm to Offer Reports on Amazon's Kindle\", 'Goldcorp Declares Eight Monthly Dividend Payment for 2009', 'IE Discovery Announces Second Annual Electronic Discovery Symposium for Government Agencies', 'GoldTrain Announces Start of Field Program on the Missinabie Gold Project and Extension of Warrants', \"SE Solutions' Zhenia Klevitsky Honored With 2009 Rising Star Award\", 'Kaminak Commences Exploration Program on the \"TBN\" Platinum-Palladium Property, Thunder Bay Area, NW Ontario', 'Gold Canyon Reviews Springpole Gold Project', \"iLearn Improves Student Test Scores With Customized Connection to American Fiber Systems' Atlanta Network\", 'Cubic to Showcase Data Links for Unmanned Systems at AUVSI', 'Sterling Shoes Income Fund Announces Second Quarter 2009 Results', 'AVI BioPharma Announces Second Quarter 2009 Financial Results & Corporate Highlights', 'Molecular Insight Pharmaceuticals, Inc. Announces Second Quarter 2009 Financial and Operational Results', 'Orrick, Herrington & Sutcliffe (Europe) LLP', 'Veramark Reports Second Quarter 2009 Results', 'First Quantum Minerals Reports Operational and Financial Results for the Three and Six Months Ended June 30, 2009', 'Global Ship Lease Reports Results for the Second Quarter of 2009', 'Enterra Energy Trust Notice of Second Quarter 2009 Results, Conference Call and Webcast Details', 'Sterling Shoes Income Fund Announces Second Quarter 2009 Results', 'BNP Paribas Corporate and Investment Banking Creates Insurance Solutions Group for the Americas', 'BNP Paribas Corporate and Investment Banking Creates Insurance Solutions Group for the Americas', 'American Oil & Gas Reports 2nd Quarter 2009 Results', 'Midex Gold Corp Update: 5 for 1 Forward Split', 'AnalystChoice.com Brings You the Best Complimentary Research Report on AEL, DE, SY, CNB, HLF and TRN', 'Leading Analyst Firm Positions Sitecore in the Visionaries Quadrant in Web Content Management Magic Quadrant Report', 'AppAssure Software Unveils FREE MailRetriever Lite Message Recovery Tool for Microsoft Exchange Admins', 'TheFortuneFinancial.com Free Market Research on BVF, TTI, WTI, DRC, VRTX and SBIB', 'DryShips Announces It Has Reached Agreement With West LB on Waiver Terms for $71 Million of Debt', 'Tektronix Showcases New and Enhanced Products at IBC 2009', 'enableTV Releases DV-TIDE 2.0, a PC-Based Headend Solution for VOD, Guide, and Application Testing', 'Four Winds Casino Resort Unveils New Smoke-Free Slot Room', 'Coach Canada: Media Alert-Wednesday, August 12th 2009 9:30 a.m.-10:30 a.m.', 'MyStudio(R) and The Comedy Store Partner for New Comedy Contest', 'Lithium One Reports Initial Drill Results for Its James Bay Lithium Project and Expands Drill Program to 11,000m', 'TSX Venture Exchange Closing Summary for August 10, 2009', 'CORRECTION FROM SOURCE/Media Advisory: Health Canada', 'TransCanada Begins Construction of $500 Million Facility in Coolidge', 'IIROC: Resume, Cascadero Copper Corp.', 'Kwanmukan International Society Announces Death of Great Grandmaster Hanshi George E. Anderson', 'Media Advisory: Health Canada', \"Media Advisory: CAE's FY2009 annual and special meeting of shareholders and FY2010 first quarter financial results and conference call\", 'Pizza Patrón Opens Unique New Store in Dallas', 'City Inn Launches New Hotel in Leeds', 'IIROC: Halt, Cascadero Cooper Corp.', 'Community Partnership for Homeless Facilitates Culture of Change for Cities Struggling With Homelessness', 'Media Advisory: Aurora Flight Sciences to Reveal Details of New Product', 'CustomerCentric Selling(R) Helps Decision Dynamics Technology Produce Record Revenue Through Facilitating Greater Value for Customers', 'Tektronix Showcases New and Enhanced Products at IBC 2009', 'Fremont Michigan InsuraCorp, Inc. Reports Earnings for Second Quarter 2009 & Announces Quarterly Cash Dividend', 'Oracle Validated Integrations Continue to Provide Value to Partners and Customers', 'Oracle Validated Integrations Continue to Provide Value to Partners and Customers', 'Oracle Validated Integrations Continue to Provide Value to Partners and Customers', 'A Cut Above: CableOrganizer.com Now Offering More Than 500 Cable and Wire Strippers, Crimpers and Cutters From Its Online Catalog', 'A Cut Above: CableOrganizer.com Now Offering More Than 500 Cable and Wire Strippers, Crimpers and Cutters From Its Online Catalog', 'A Cut Above: CableOrganizer.com Now Offering More Than 500 Cable and Wire Strippers, Crimpers and Cutters From Its Online Catalog', 'A Cut Above: CableOrganizer.com Now Offering More Than 500 Cable and Wire Strippers, Crimpers and Cutters From Its Online Catalog', 'Quicksilver Resources Reports Second-Quarter 2009 Results', 'Molecular Insight Pharmaceuticals, Inc. Announces Second Quarter 2009 Financial and Operational Results', 'TheFortuneFinancial.com Free Market Research on ALU, EAT, SGY, WDR, AAN and BQI', 'Baptist Health System Installs Seven z.one Ultrasound Systems From ZONARE Medical Systems', 'Nortel Reports Financial Results for the Second Quarter 2009', 'Nortel Announces Board of Directors, Management Team and Organizational Changes', \"Canada's Economic Action Plan Delivers Timely Funding to Entrepreneurs Through the Business Development Bank of Canada\", 'Cash Strapped Essex Fire Authority Says It Has So Little Cash It Needs to Cut Frontline Firefighters-But Wants a Helicopter!', \"Health Insurance Buyer's Guide: eHealthInsurance Publishes New Consumer Resource\", 'Leading Analyst Firm Positions Sitecore in the Visionaries Quadrant in Web Content Management Magic Quadrant Report', '(OTC: MNDP) Contract With Warner Brothers Successful', 'Enterra Energy Trust Notice of Second Quarter 2009 Results, Conference Call and Webcast Details', 'Kitimat LNG Inks MOU with Apache Corporation', 'First Quantum Minerals Reports Operational and Financial Results for the Three and Six Months Ended June 30, 2009', 'Fortress Paper Announces Second Quarter 2009 Results', 'Virgin Mobile USA Reports $98 Million in Adjusted EBITDA Excluding Transition and Restructuring Expenses(1) for the First Six Months of 2009', 'TSX Venture Exchange Closing Summary for August 10, 2009', 'enableTV Releases DV-TIDE 2.0, a PC-Based Headend Solution for VOD, Guide, and Application Testing', 'enableTV Launches cablewidget Platform', 'enableTV Launches cablewidget Platform', 'HQ Sustainable Maritime Reports Second Quarter Results', 'ZAP Secures Up to $25 Million in New Financing', 'The Medicines Company Responds to Incorrect News Reports', 'EV Energy Partners Announces Second Quarter 2009 Results and Additional Commodity Price Hedges', 'EV Energy Partners Announces Second Quarter 2009 Results and Additional Commodity Price Hedges', 'EV Energy Partners Announces Second Quarter 2009 Results and Additional Commodity Price Hedges', 'EV Energy Partners Announces Second Quarter 2009 Results and Additional Commodity Price Hedges', 'TSX Venture Exchange Closing Summary for August 10, 2009', 'AnalystChoice.com Brings You the Best Complimentary Research Report on AFFX, DNDN, EWBC, FINL, EMKR and BIDU', 'Canadian Shield Shareholders Approve Amendment to Stock Option Plan', 'TheFortuneFinancial.com Free Market Research on GES, BKE, SPN, CZZ, FAX and GD', 'Ahead of the Bell: China Armco Metals - August 10, 2009', 'Ahead of the Bell: China Armco Metals - August 10, 2009', 'AnalystChoice.com Brings You the Best Complimentary Research Report on AFFX, DNDN, EWBC, FINL, EMKR and BIDU', 'Ryder Announces Debt Tender Offer', 'Middle School Mathematics Education Pilot Project Launched in Pinellas County, Florida', 'Middle School Mathematics Education Pilot Project Launched in Pinellas County, Florida', 'Atlantic Wind & Solar Inc. Signs Landmark MOU With Centripetal Dynamics, Inc. to Advance Wind Power Business Partnership', 'Fans Proclaim Love for Quiznos(R) in Bold and Daring Ways', 'New Social Networking Site Encourages Writers to Communicate, Write and Earn', 'Community Partnership for Homeless Facilitates Culture of Change for Cities Struggling With Homelessness', 'Wall Street News Alert: Investment Alert: OMCY - August 10, 2009', 'Breaking News: China Armco Metals - August 10, 2009', 'Ahead of the Bell: China Armco Metals - August 10, 2009', 'Ahead of the Bell: China Armco Metals - August 10, 2009', \"Wall Street News Alert: Monday's Stock in Focus: Omnicity Corp - August 10, 2009\", 'Dynamic Response Group Subsidiary Medico Express, Inc. Receives Medicare Reimbursement Approval', 'Celsius to Be Available at Wegmans Food Markets', 'A Cut Above: CableOrganizer.com Now Offering More Than 500 Cable and Wire Strippers, Crimpers and Cutters From Its Online Catalog', 'A Cut Above: CableOrganizer.com Now Offering More Than 500 Cable and Wire Strippers, Crimpers and Cutters From Its Online Catalog', 'A Cut Above: CableOrganizer.com Now Offering More Than 500 Cable and Wire Strippers, Crimpers and Cutters From Its Online Catalog', 'A Cut Above: CableOrganizer.com Now Offering More Than 500 Cable and Wire Strippers, Crimpers and Cutters From Its Online Catalog', 'AnalystChoice.com Brings You the Best Complimentary Research Report on PKD, VIV, FLR, HXL, SOLR and RVBD', 'AnalystChoice.com Brings You the Best Complimentary Research Report on AIB, BKC, HRB, FLS, KO and RRD', 'Aerosim, the #1 Desktop Simulation Training Provider in the World for Glass and Automation, Expands Globally With New Offices', 'WallStSense.com Fundamental & Technical Coverage of CBL, GE, FOE, HES, AFG and HSC', 'White Pine Resources Inc. Announces Private Placement Financing', 'Spider Resources Inc. Announces Completion of Flow-Through Private Placement with the MineralFields Group', \"Destiny Resource Services Corp. Announces Q2'09 Results\", 'Global Ship Lease Reports Results for the Second Quarter of 2009', 'Cash Strapped Essex Fire Authority Says It Has So Little Cash It Needs to Cut Frontline Firefighters-But Wants a Helicopter!', 'Wall Street News Alert: Investment Alert: OMCY - August 10, 2009', 'Breaking News: China Armco Metals - August 10, 2009', 'Ahead of the Bell: China Armco Metals - August 10, 2009', 'Ahead of the Bell: China Armco Metals - August 10, 2009', \"Wall Street News Alert: Monday's Stock in Focus: Omnicity Corp - August 10, 2009\", 'BCGold Corp. Completes $1.0 Million Private Placement Financing', 'White Pine Resources Inc. Announces Private Placement Financing', 'Dyer & Berens LLP Files Class Action Lawsuit on Behalf of Investors Who Purchased Flotek Industries, Inc. Common Stock Between 5/8/07 and 1/23/08; Announces Upcoming Investor Deadline -- FTK', 'Federman & Sherwood Announces That a Securities Class Action Lawsuit Has Been Filed Against Flotek Industries, Inc. (NYSE: FTK)', 'Izard Nobel LLP Announces Class Action Lawsuit Against Flotek Industries, Inc.', 'Kendall Law Group Announces Securities Class Action Against Flotek Industries, Inc.', 'TheFortuneFinancial.com Free Market Research on FWLT, AAPL, CATY, FULT, CTRP and AGCO', 'Prime Restaurants Royalty Income Fund Announces Second Quarter 2009 Results', 'ePlus Reports First Quarter Fiscal 2010 Results', 'First Quantum Minerals Declares an Interim Dividend of CDN $0.08 Per Share', 'First Quantum Minerals Reports Operational and Financial Results for the Three and Six Months Ended June 30, 2009', 'BioteQ Reports Second Quarter Operating and Financial Results', 'H.O.G.(R) Rallies With Big Rock to Raise Funds for Local Arts Charity', \"TCW Named One of the 'Best Places to Work' for the Second Year in a Row\", 'GameTime and Hasbro Help West Point Install Inclusive Boundless Playground', 'GameTime and Hasbro Help West Point Install Inclusive Boundless Playground', 'Fremont Michigan InsuraCorp, Inc. Reports Earnings for Second Quarter 2009 & Announces Quarterly Cash Dividend', 'Sterling Shoes Income Fund Announces Second Quarter 2009 Results', 'AVI BioPharma Announces Second Quarter 2009 Financial Results & Corporate Highlights', 'Golden Minerals Reports Second Quarter 2009 Results', 'Quicksilver Resources Reports Second-Quarter 2009 Results', 'Molecular Insight Pharmaceuticals, Inc. Announces Second Quarter 2009 Financial and Operational Results', 'IIROC: Resumption; Gammon Gold', 'IIROC: Halt, Gammon Gold Inc.', 'Kitimat LNG Inks MOU with Apache Corporation', 'Disclosure of Short Position', 'BenchmarkJournal.com Free Analyst Review for GCA, CVX, CHT, SJM, GLW and WTSLA', 'AltaGas Utility Group Inc. Announces Record First Half 2009 Results and a Quarterly Dividend of $0.05 Per Share', 'TheFortuneFinancial.com Free Market Research on GES, BKE, SPN, CZZ, FAX and GD', 'TSX Venture Exchange Closing Summary for August 10, 2009', \"Grey Island's NextBus Announces $7.9M Software and Equipment Maintenance Service Agreement with San Francisco\", 'AVI BioPharma Announces Second Quarter 2009 Financial Results & Corporate Highlights', 'TSX Venture Exchange Daily Bulletins for August 10, 2009', 'Midex Gold Corp Update: 5 for 1 Forward Split', 'Green Plains Renewable Energy, Inc. Announces Second Quarter 2009 Financial Results', 'Fans Proclaim Love for Quiznos(R) in Bold and Daring Ways', 'iBooster Cellular Amplifier for the iPhone and Curve Is Now Shipping From Wilson Electronics', 'Tektronix Showcases New and Enhanced Products at IBC 2009', \"Grey Island's NextBus Announces $7.9M Software and Equipment Maintenance Service Agreement with San Francisco\", 'MetricStream Continues Strong Growth Trend in First Half of 2009', 'Global Ship Lease Reports Results for the Second Quarter of 2009', 'Golden Star Reports Record Quarterly Gold Sales and Financial Results for Second Quarter 2009', 'A Cut Above: CableOrganizer.com Now Offering More Than 500 Cable and Wire Strippers, Crimpers and Cutters From Its Online Catalog', 'A Cut Above: CableOrganizer.com Now Offering More Than 500 Cable and Wire Strippers, Crimpers and Cutters From Its Online Catalog', 'A Cut Above: CableOrganizer.com Now Offering More Than 500 Cable and Wire Strippers, Crimpers and Cutters From Its Online Catalog', 'A Cut Above: CableOrganizer.com Now Offering More Than 500 Cable and Wire Strippers, Crimpers and Cutters From Its Online Catalog', 'BenchmarkJournal.com Free Analyst Review for AF, CCI, SGR, ICE, HAL and ARA', 'Sennheiser Brings Superior Sound and Guerilla Marketing to Seattle as Groundbreaking Campaign Makes Final U.S. Stop', \"Air Cooler PLUS Succeeds as One of Summer's Hot-Selling Products\", 'Tektronix Showcases New and Enhanced Products at IBC 2009', 'Seven Arts Pictures Signs Deal With Showtime to Exhibit \"NOISE,\" a Seven Arts Film Starring Tim Robbins and Bridget Moynahan', 'MyStudio(R) and The Comedy Store Partner for New Comedy Contest', 'HE-5 Resources Corp., Announces Management Holding Meetings All Week, to Finalize Acquisitions', \"Aberdeen Leads the Market as the First Research Firm to Offer Reports on Amazon's Kindle\", 'PennySaverUSA.com Releases First-Ever Music Video \"SaverTime\" Inspired by MC Hammer as a Tribute to the Power of PennySaver Deals', 'ParagonReport.com Complimentary Market Update on JPMorgan Chase & Co. (NYSE: JPM), Rio Tinto plc (NYSE: RTP), and Hartford Financial Services Group Inc. (NYSE: HIG)', 'Wall Street News Alert: Investment Alert: OMCY - August 10, 2009', 'TSX Venture Exchange Daily Bulletins for August 10, 2009', 'Finally, Online Video Ads Customized On-the-Fly to Viewer Demographics and Behavior', \"Ocarina Networks' Award Winning Content-Aware Compression and Dedupe Solution for Online Storage to Be Resold by HP\", 'Hong Kong Highpower Technology Reports Second Quarter 2009 Financial Results', 'Hong Kong Highpower Technology Reports Second Quarter 2009 Financial Results', 'RothmanResearch.com Stock Review for AGO, CAL, HRS, ABV, DPL and HUM', 'Woodward Sells Fuel and Pneumatics Product Line to TransDigm Inc.', 'WallStSense.com Fundamental & Technical Coverage of CBL, GE, FOE, HES, AFG and HSC', 'WallStSense.com Fundamental & Technical Coverage of CPT, SKT, BGC, HTS, RS and CCC', 'RothmanResearch.com Stock Review for AGO, CAL, HRS, ABV, DPL and HUM', 'AnalystChoice.com Brings You the Best Complimentary Research Report on PKD, VIV, FLR, HXL, SOLR and RVBD', 'BenchmarkJournal.com Free Analyst Review for BARE, IACI, AVII, ICON, SLAB and CRBC', 'Uragold Bay Receives Conditional Approval for the Ice Age Gold Properties Acquisition, Subject to Modification of the Terms of the Agreement', 'Celstream Raises the Bar for Innovation and Efficiency With the Launch of Its Services Package for Product Development', 'BenchmarkJournal.com Free Analyst Review for AF, CCI, SGR, ICE, HAL and ARA', 'BenchmarkJournal.com Free Analyst Review for BARE, IACI, AVII, ICON, SLAB and CRBC', \"Vishay's New SkyFET(R) Monolithic Power MOSFET and Schottky Diode Achieves 3 Milliohms On-Resistance in SO-8 With TrenchFET(R) Gen III Technology\", 'AltaGas Utility Group Inc. Announces Record First Half 2009 Results and a Quarterly Dividend of $0.05 Per Share', 'Biota Holdings Announces Successful Phase III Asian Clinical Trials of Its Second Generation Flu Treatment', 'Barracuda Networks Launches CudaTel -- New VoIP PBX Based on the Open Source FreeSWITCH Project', \"School's Out and Your Kids Are Online: Do You Know What They've Been Searching for This Summer?\", \"Flow Goes Live With Voice Service in Grenada Using Cedar Point Communications' SAFARI C3\", 'AVI BioPharma Announces Second Quarter 2009 Financial Results & Corporate Highlights', '(OTC: MNDP) Contract With Warner Brothers Successful', 'Epygi\\'s \"Partnering for Success: How to Increase Revenue With the Right Solution\" Seminars Will Appear in Five Cities for Resellers to Attend', 'TSX Venture Exchange Daily Bulletins for August 10, 2009', 'Globalive Wireless Harnesses the Power of Conversation With WIND Mobile', \"Flow Goes Live With Voice Service in Grenada Using Cedar Point Communications' SAFARI C3\", 'Castle Resources Begins New Drill Program at the Elmtree Gold Project', 'Zultys and CyberData Team to Expand Portfolio of SIP Physical Facility Entry Systems and Broad Paging Systems', 'PC Gold Opens Up Pickle Crow With Discovery of Gold in Confederation Rocks; Drills Thick Temiskaming-Like Conglomerate Sequence', 'Tektronix Showcases New and Enhanced Products at IBC 2009', 'U.S. Army Engineer Research and Development Center to Deploy AtHoc IWSAlerts for Organization-Wide Emergency Notification', 'Ipitomi Selects VOSS to Manage Voice Network', \"Warnex and Rosetta Genomics Announce Exclusive Distribution Agreement for Rosetta's microRNA-Based Assays in Canada\", 'Mindspeed(R) Adopts Rights Agreement Designed to Help Preserve the Value of Net Operating Losses', \"Infineon's Wireline Division Will Become LANTIQ\", 'Conax Maintains Leading Edge in Latin American Security Market for Digital TV', 'RothmanResearch.com Stock Review for SPF, TDW, BRE, WMS, IPI and GR', 'Sage Announces Closing of Merger With Consolidated Puma Mineral Resources Corp.', 'Unico, Inc. Announces Additional Improvements to the Deer Trail Mill and Processing Facility for Improved Recovery of Gold', 'Unico, Inc. Announces Additional Improvements to the Deer Trail Mill and Processing Facility for Improved Recovery of Gold', 'Canadian Shield Shareholders Approve Amendment to Stock Option Plan', 'Defrag: Don\\'t Be \"Penny Wise and Pound Foolish\"', 'Brainhunter Releases Results for June Quarter', 'ePlus Reports First Quarter Fiscal 2010 Results', 'Wave Q2 Revenues Rose 142% to $4.8 Million and Its Q2 Net Loss Declined to $344,000 From a Net Loss of $5.6 Million', 'VMware to Acquire SpringSource', 'VMware to Acquire SpringSource', 'China Career Builder Corp. Plans to Filing Pink Sheets Current Information', 'People First Services Announces Simple, Affordable, Do-It-Yourself Mortgage Qualification and Modification Tool', 'People First Services Announces Simple, Affordable, Do-It-Yourself Mortgage Qualification and Modification Tool', 'Pari Mutuel Urbain Bets on TIBCO Integration and Messaging Software for Real-Time Information Exchange', 'AppAssure Software Unveils FREE MailRetriever Lite Message Recovery Tool for Microsoft Exchange Admins', 'OPTIMIZERx Corp. Announces the Addition of WebMD Co-Founder and Former President as Advisor', 'Corporate Computer Solutions Partners With Zecurion to Deliver World-Class Insider Threat Protection', 'IE Discovery Announces Second Annual Electronic Discovery Symposium for Government Agencies', \"SE Solutions' Zhenia Klevitsky Honored With 2009 Rising Star Award\", 'West Liberty Foods Turns to Imprivata OneSign to Address Critical Password Management and Security Challenges', 'Progress DataDirect Launches Summer School Program for Software Developers and Architects', 'Riverbed Extends Scale and Flexibility for Managed Service Providers by Virtualizing Central Management Console', 'InfoPrint Teams With Sinclair Oil to Deploy TransPromo in a Business-to-Business Environment', 'Procera Networks Quickly Becoming the Network Management Solution of Choice in Higher Education', 'm62 Highlights the Importance of Effective Titles', 'Specsavers Group Enhances Visibility Into Financial Performance and Supports Rapid Growth With Open-Source Software From Adaptive Planning', 'Oracle Validated Integrations Continue to Provide Value to Partners and Customers', 'Oracle Validated Integrations Continue to Provide Value to Partners and Customers', 'Oracle Validated Integrations Continue to Provide Value to Partners and Customers', 'Proofpoint Survey Says: State of Economy Leads to Increased Data Loss Risk for Large Companies', 'StrongMail Webinar to Show How Socialized Email Marketing Can Motivate Customers to Build Your Brand', 'AEP Networks Opens New Office in Australia', 'Ipitomi Selects VOSS to Manage Voice Network', 'TeleVox Celebrates Sixth Consecutive Year in Healthcare Informatics 100', 'Virgin Mobile USA Reports $98 Million in Adjusted EBITDA Excluding Transition and Restructuring Expenses(1) for the First Six Months of 2009', 'Avocent Unveils Major Upgrade to Effectively Manage the Service Desk', 'New CEO at Vertex to Lead Growth Strategy', 'Zultys and CyberData Team to Expand Portfolio of SIP Physical Facility Entry Systems and Broad Paging Systems', 'BDI Pharma, Inc. Continues Growth Regardless of Market Volatility', 'AltaGas Utility Group Inc. Announces Record First Half 2009 Results and a Quarterly Dividend of $0.05 Per Share', 'Fortinet Files for Initial Public Offering', 'TSX Venture Exchange Daily Bulletins for August 10, 2009', 'IIROC: Halt, Jourdan Res Inc.', 'Natural Health Trends Announces Second Quarter 2009 Results and Early Redemption of Convertible Debentures', 'Kinross Announces Investment in BCGold Corp.', 'C2 Global Technologies Inc. Reports 2009 Second Quarter Results', 'ePlus Reports First Quarter Fiscal 2010 Results', 'Ezenia! Inc. Announces 2009 Second Quarter Financial Results', 'Ezenia! Inc. Announces 2009 Second Quarter Financial Results', 'Golden Star Reports Record Quarterly Gold Sales and Financial Results for Second Quarter 2009', 'Green Plains Renewable Energy, Inc. Announces Second Quarter 2009 Financial Results', \"American Petro-Hunter's Sacramento Gas Project Commences Seismic Shoot\", \"American Petro-Hunter's Sacramento Gas Project Commences Seismic Shoot\", 'Middle School Mathematics Education Pilot Project Launched in Pinellas County, Florida', 'Metalico Announces $25 Million Stock Offering', 'Franklin Resources, Inc. Announces Month-End Assets Under Management', 'Wave Q2 Revenues Rose 142% to $4.8 Million and Its Q2 Net Loss Declined to $344,000 From a Net Loss of $5.6 Million', 'Composite Technology Signs Agreement to Sell Turbine Business to DSME', 'CNS Response Provides Update Regarding Former CEO', 'Woodward Sells Fuel and Pneumatics Product Line to TransDigm Inc.', 'ZAP Secures Up to $25 Million in New Financing', 'Ur-Energy Begins Geophysical Surveying at Screech Lake Project', 'Pride International, Inc. Announces Management Changes', 'Wall Street News Alert: Investment Alert: OMCY - August 10, 2009', 'WorldVest to Launch Banco WorldVest International', 'WorldVest to Launch Banco WorldVest International', 'Nortel Reports Financial Results for the Second Quarter 2009', 'Nortel Announces Board of Directors, Management Team and Organizational Changes', \"Wall Street News Alert: Monday's Stock in Focus: Omnicity Corp - August 10, 2009\", 'Fremont Michigan InsuraCorp, Inc. Reports Earnings for Second Quarter 2009 & Announces Quarterly Cash Dividend', 'Composite Technology to Host Conference Call to Discuss June Quarter Results', \"Sunergy Announces Kerry Bjornson, CEO Joins Company's Advisory Board\", 'Mindspeed(R) Adopts Rights Agreement Designed to Help Preserve the Value of Net Operating Losses', 'Golden Minerals Reports Second Quarter 2009 Results', 'Cypress Bioscience Announces Second Quarter 2009 Financial Results', 'Avocent Unveils Major Upgrade to Effectively Manage the Service Desk', 'Kinross Announces Investment in BCGold Corp.', 'AnalystChoice.com Brings You the Best Complimentary Research Report on AIB, BKC, HRB, FLS, KO and RRD', 'WallStSense.com Fundamental & Technical Coverage of KRC, SOA, BR, TE, UPL and HST', 'C2 Global Technologies Inc. Reports 2009 Second Quarter Results', 'Dundee Corporation Reports Second Quarter 2009 Results', 'Gulfside Minerals Ltd.: Onjuul Coal Project Acquisition', 'EV Energy Partners Announces Second Quarter 2009 Results and Additional Commodity Price Hedges', 'EV Energy Partners Announces Second Quarter 2009 Results and Additional Commodity Price Hedges', 'TSX Venture Exchange Daily Bulletins for August 10, 2009', 'Gulfside Announces Non-Brokered Private Placement', 'Barracuda Networks Launches CudaTel -- New VoIP PBX Based on the Open Source FreeSWITCH Project', 'ZAP Secures Up to $25 Million in New Financing', 'WCSB Oil & Gas Royalty Income 2009 Limited Partnership-$18,798,400 Raised to Date', 'Pride International, Inc. Announces Management Changes', 'Letter of Intent to Combine Kristina Capital Corp. and Black Marlin Energy Ltd.', 'Golden Minerals Reports Second Quarter 2009 Results', 'Quicksilver Resources Reports Second-Quarter 2009 Results', 'Virgin Mobile USA Reports $98 Million in Adjusted EBITDA Excluding Transition and Restructuring Expenses(1) for the First Six Months of 2009', 'Molecular Insight Pharmaceuticals, Inc. Announces Second Quarter 2009 Financial and Operational Results', 'Media Advisory: Government of Canada to Announce Investment in Local Company That Will Benefit Vineyard Wine Production', 'Governments of Canada and Newfoundland and Labrador Help People With Developmental Disabilities Prepare for Jobs in the Baie Verte Area', 'TSX Venture Exchange Daily Bulletins for August 10, 2009', 'Wave Q2 Revenues Rose 142% to $4.8 Million and Its Q2 Net Loss Declined to $344,000 From a Net Loss of $5.6 Million', 'Leader Energy Services Share Consolidation and Symbol Change', 'Nortel Reports Financial Results for the Second Quarter 2009', 'Nortel Announces Board of Directors, Management Team and Organizational Changes', 'Laurentian Goldfields Ltd. Announces Closing of C$1,480,419 Non-Brokered Private Placement', 'Van Duzer Vineyards Releases 2007 Estate Pinot Noir and 2008 Estate Pinot Gris', 'Dundee Corporation Announces Appointment of Directors', 'Golden Star Reports Record Quarterly Gold Sales and Financial Results for Second Quarter 2009', '\"Stock Alert\" Traders Rejoice With Over 95% Perfect Stock Trades Over 7+ Years', \"Destiny Resource Services Corp. Announces Q2'09 Results\", 'Lithium One Reports Initial Drill Results for Its James Bay Lithium Project and Expands Drill Program to 11,000m', 'CBG Commences 2009 Committee Bay Exploration Program', 'Canadian Hydro to Hold Second Quarter 2009 Results Conference Call and Webcast on Friday, August 14', 'Uragold Bay Receives Conditional Approval for the Ice Age Gold Properties Acquisition, Subject to Modification of the Terms of the Agreement', 'Governor General to Present the Caring Canadian Award to Six Volunteers From New Brunswick', 'People First Services Announces Simple, Affordable, Do-It-Yourself Mortgage Qualification and Modification Tool', 'People First Services Announces Simple, Affordable, Do-It-Yourself Mortgage Qualification and Modification Tool', 'Laurentian Goldfields Ltd. Announces Closing of C$1,480,419 Non-Brokered Private Placement', 'Former SEC Chairman Christopher Cox Joins Extraordinary Speaker Lineup for ACG Los Angeles Annual Business Conference', 'WCSB Oil & Gas Royalty Income 2009 Limited Partnership-$18,798,400 Raised to Date', 'San Joaquin Community Hospital Selects Skytron, Powered by Awarepoint, for Their RTLS Enterprise-Wide Asset Tracking Solution', 'Staccato Gold Provides Update on Summer Program at Flagship South Eureka Property', 'Brookmount Gets a Favorable Independent 43-101 Technical Report on Its Mercedes 100 Polymetallic Property Located in Junín, Peru', 'PC Gold Opens Up Pickle Crow With Discovery of Gold in Confederation Rocks; Drills Thick Temiskaming-Like Conglomerate Sequence', 'Hana Mining Ltd. Announces the Formation of an Advisory Board to Further Support Development of Its Exciting Copper-Silver Resource (Ghanzi Project) in Botswana', 'BenchmarkJournal.com Free Analyst Review for GCA, CVX, CHT, SJM, GLW and WTSLA', 'Golden Minerals Reports Second Quarter 2009 Results', 'Molecular Insight Pharmaceuticals, Inc. Announces Second Quarter 2009 Financial and Operational Results', 'Metalico Announces $25 Million Stock Offering', 'Wave Q2 Revenues Rose 142% to $4.8 Million and Its Q2 Net Loss Declined to $344,000 From a Net Loss of $5.6 Million', 'This Week\\'s Webcast From Veritude Examines \"The New Normal: Recession Response and Workforce Planning\"', 'Argos Implements Reflexis Task Manager Across 700 Stores in 15 Weeks', 'Taggies(TM) Expands National Reach for Tags of Love Charitable Giving Program in 2010', \"Aberdeen Leads the Market as the First Research Firm to Offer Reports on Amazon's Kindle\", 'Imaginatik Secures $2.6m Growth Funding', 'Winchester Systems Announces Cross Licensing Agreement With Crossroads Systems', 'Blue Fang Games Launches Its First iPhone Game', 'Media Advisory: Aurora Flight Sciences to Reveal Details of New Product', 'West Liberty Foods Turns to Imprivata OneSign to Address Critical Password Management and Security Challenges', 'Progress DataDirect Launches Summer School Program for Software Developers and Architects', 'Permabit Announces Cloud Storage Solution for Service Providers', 'REMINDER: Cisco Announces Upcoming Schedule of Events With the Financial Community', 'REMINDER: Cisco Announces Upcoming Schedule of Events With the Financial Community', 'Club Med Taps SHIFT Communications as PR Agency of Record', 'Molecular Insight Pharmaceuticals, Inc. Announces Second Quarter 2009 Financial and Operational Results', 'Disclosure of Short Position', 'Zedi Inc. Announces Second Quarter 2009 Financial Results', 'Allied Properties Real Estate Investment Trust Announces Strong Second-Quarter Results', 'BioteQ Reports Second Quarter Operating and Financial Results', 'Hanfeng to Release Audited Results for Six Month Transition Period on September 9, 2009', 'Prime Restaurants Royalty Income Fund Announces Second Quarter 2009 Results', 'New Book \"Short Stay Management of Chest Pain\" Is Available on the Society of Chest Pain Centers Website', 'Debit Card Spending Exceeded Credit Card Spending for the First Time Ever in Q1', 'New Report Analyzes the Latest Trends in Mobile Banking', 'Attitudes to Software-as-a-Service Are Driven by Experience', 'BioElectronics Receives Nationwide CBS News Coverage', \"Destiny Resource Services Corp. Announces Q2'09 Results\", 'Hana Mining Ltd. Announces the Formation of an Advisory Board to Further Support Development of Its Exciting Copper-Silver Resource (Ghanzi Project) in Botswana', 'AltaGas Utility Group Inc. Announces Record First Half 2009 Results and a Quarterly Dividend of $0.05 Per Share', 'INV Reports Q2/2009 Results and Provides Operational Update', 'The Medicines Company Responds to Incorrect News Reports', 'Metalico Announces $25 Million Stock Offering', 'Nortel Reports Financial Results for the Second Quarter 2009', 'Winchester Systems Announces Cross Licensing Agreement With Crossroads Systems', 'Centrue Financial Corporation Announces Second Quarter 2009 Results', 'ParagonReport.com Complimentary Market Update on Freddie Mac (NYSE: FRE), Best Buy Co. Inc. (NYSE: BBY), American Express Company (NYSE: AXP), and Merck & Co. Inc. (NYSE: MRK)', 'The Zweig Total Return Fund, Inc. Discloses Sources of Distribution - Section 19A Notice', 'Tonbridge Power Executes Detailed Termsheet With Western Area Power Administration', 'Composite Technology Signs Agreement to Sell Turbine Business to DSME', 'Canadian Hydro to Hold Second Quarter 2009 Results Conference Call and Webcast on Friday, August 14', 'Composite Technology to Host Conference Call to Discuss June Quarter Results', 'BluMont Capital Corporation Completes Fund Mergers', 'The Zweig Total Return Fund, Inc. Discloses Sources of Distribution - Section 19A Notice', 'Nortel Announces Board of Directors, Management Team and Organizational Changes', 'Southern Community Receives Local and International Honors', 'Green Plains Renewable Energy, Inc. Announces Second Quarter 2009 Financial Results', 'Sennheiser Brings Superior Sound and Guerilla Marketing to Seattle as Groundbreaking Campaign Makes Final U.S. Stop', 'White Pine Resources Inc. Announces Private Placement Financing', 'Spider Resources Inc. Announces Completion of Flow-Through Private Placement with the MineralFields Group', 'Club Med Taps SHIFT Communications as PR Agency of Record', 'Gulfside Minerals Ltd.: Onjuul Coal Project Acquisition', 'CBG Commences 2009 Committee Bay Exploration Program', 'Gulfside Announces Non-Brokered Private Placement', 'Uragold Bay Receives Conditional Approval for the Ice Age Gold Properties Acquisition, Subject to Modification of the Terms of the Agreement', 'Castle Resources Begins New Drill Program at the Elmtree Gold Project', 'United Reef Announces Appointment of New Director', 'South American Silver Corp. Defines New Silver-Lead-Zinc Target and Plans August Drilling at the Malku Khota Silver-Indium Project', 'Brookmount Gets a Favorable Independent 43-101 Technical Report on Its Mercedes 100 Polymetallic Property Located in Junín, Peru', 'Shear and Stornoway Option Chesterfield Inlet Claims, Nunavut', 'East Asia Minerals Encounters 4.31 g/t Gold Over 51 Metres in Wider Interval of 2.25 g/t Gold Over 142.9 Metres From Diamond Drilling at Miwah', 'Stornoway and Shear Option Chesterfield Inlet Claims, Nunavut', 'Metalico Announces $25 Million Stock Offering', 'Worldwide Food Services (EREI) Update', 'Thirty-Five-Year Hospitality Professional Appointed President of Days Inn', 'Kent Financial Services Announces Second Quarter Results', 'Corporate Computer Solutions Partners With Zecurion to Deliver World-Class Insider Threat Protection', 'AEP Networks Opens New Office in Australia', 'The Medicines Company Responds to Incorrect News Reports', 'Virgin Mobile USA Reports $98 Million in Adjusted EBITDA Excluding Transition and Restructuring Expenses(1) for the First Six Months of 2009', 'Troy Declares 10th Consecutive Fully Franked Dividend', 'Centrue Financial Corporation Announces Second Quarter 2009 Results', 'Nortel Reports Financial Results for the Second Quarter 2009', 'Nortel Announces Board of Directors, Management Team and Organizational Changes', 'Nortel Reports Financial Results for the Second Quarter 2009', 'Nortel Announces Board of Directors, Management Team and Organizational Changes', 'Issue of commercial paper', 'Solanex Management Inc. Signs Letter of Intent to Acquire Waste to Energy Technology', 'INV Reports Q2/2009 Results and Provides Operational Update', 'TSX Venture Exchange Daily Bulletins for August 10, 2009', 'ISC, Afilias and Neustar Bring Secure DNS One Step Closer', 'RPT Teams Up With Kennecott to Explore Its Dorion Block', 'Baptist Health System Installs Seven z.one Ultrasound Systems From ZONARE Medical Systems', 'McKinley Reserve Media Group Launches \"24 in the O.C.\"', 'Finally, Online Video Ads Customized On-the-Fly to Viewer Demographics and Behavior', 'Pan American Silver Receives Company of the Year Awards in Both Peru and Argentina', 'McKinley Reserve Media Group Launches \"24 in the O.C.\"', 'TIBCO Software to Present at the 11th Annual Pacific Crest Technology Leadership Forum', 'PEO Obtains Order Against Toronto Man and His Company', 'Savanna Energy Services Corp. Announces Q2 2009 Results', 'ePlus Reports First Quarter Fiscal 2010 Results', 'HQ Sustainable Maritime Reports Second Quarter Results', \"Oracle Integrates Oracle's Value Chain Planning Applications With Oracle's JD Edwards EnterpriseOne\", 'AnalystChoice.com Brings You the Best Complimentary Research Report on PKD, VIV, FLR, HXL, SOLR and RVBD', 'ePlus Reports First Quarter Fiscal 2010 Results', \"Air Cooler PLUS Succeeds as One of Summer's Hot-Selling Products\", 'AVI BioPharma Announces Second Quarter 2009 Financial Results & Corporate Highlights', \"Health Insurance Buyer's Guide: eHealthInsurance Publishes New Consumer Resource\", 'RothmanResearch.com Stock Review for CPN, ALK, RT, BMS, PPS and CIG', 'Progress DataDirect Launches Summer School Program for Software Developers and Architects', 'TSX Venture Exchange Daily Bulletins for August 10, 2009', \"Warnex and Rosetta Genomics Announce Exclusive Distribution Agreement for Rosetta's microRNA-Based Assays in Canada\", 'VMware to Acquire SpringSource', 'VMware to Acquire SpringSource', 'REMINDER: Cisco Announces Upcoming Schedule of Events With the Financial Community', 'REMINDER: Cisco Announces Upcoming Schedule of Events With the Financial Community', 'REMINDER: Cisco Announces Upcoming Schedule of Events With the Financial Community', 'Proofpoint Survey Says: State of Economy Leads to Increased Data Loss Risk for Large Companies', 'StrongMail Webinar to Show How Socialized Email Marketing Can Motivate Customers to Build Your Brand', 'C2 Global Technologies Inc. Reports 2009 Second Quarter Results', 'ePlus Reports First Quarter Fiscal 2010 Results', 'Golden Star Reports Record Quarterly Gold Sales and Financial Results for Second Quarter 2009', 'EV Energy Partners Announces Second Quarter 2009 Results and Additional Commodity Price Hedges', 'EV Energy Partners Announces Second Quarter 2009 Results and Additional Commodity Price Hedges', \"American Petro-Hunter's Sacramento Gas Project Commences Seismic Shoot\", \"American Petro-Hunter's Sacramento Gas Project Commences Seismic Shoot\", 'Franklin Resources, Inc. Announces Month-End Assets Under Management', 'VMware to Acquire SpringSource', 'VMware to Acquire SpringSource', 'Composite Technology Signs Agreement to Sell Turbine Business to DSME', 'Woodward Sells Fuel and Pneumatics Product Line to TransDigm Inc.', 'ZAP Secures Up to $25 Million in New Financing', 'Nortel Reports Financial Results for the Second Quarter 2009', \"Destiny Resource Services Corp. Announces Q2'09 Results\", 'Nortel Announces Board of Directors, Management Team and Organizational Changes', 'Riverbed Extends Scale and Flexibility for Managed Service Providers by Virtualizing Central Management Console', 'Composite Technology to Host Conference Call to Discuss June Quarter Results', 'StrongMail Webinar to Show How Socialized Email Marketing Can Motivate Customers to Build Your Brand', 'Mindspeed(R) Adopts Rights Agreement Designed to Help Preserve the Value of Net Operating Losses', 'The Medicines Company Responds to Incorrect News Reports', 'Cypress Bioscience Announces Second Quarter 2009 Financial Results', 'EchoStar Reports Second Quarter 2009 Financial Results', 'Terra Firma Closes Private Placement and Announces Extension of Restigouche Property Agreement', 'Ryder Announces Debt Tender Offer', \"American Petro-Hunter's Sacramento Gas Project Commences Seismic Shoot\", \"American Petro-Hunter's Sacramento Gas Project Commences Seismic Shoot\", 'Middle School Mathematics Education Pilot Project Launched in Pinellas County, Florida', 'Middle School Mathematics Education Pilot Project Launched in Pinellas County, Florida', 'H.O.G.(R) Rallies With Big Rock to Raise Funds for Local Arts Charity', 'Prime Restaurants Royalty Income Fund Announces Second Quarter 2009 Results', 'Wave Q2 Revenues Rose 142% to $4.8 Million and Its Q2 Net Loss Declined to $344,000 From a Net Loss of $5.6 Million', 'Atlantic Wind & Solar Inc. Signs Landmark MOU With Centripetal Dynamics, Inc. to Advance Wind Power Business Partnership', 'Canadian Hydro to Hold Second Quarter 2009 Results Conference Call and Webcast on Friday, August 14', 'Governor General to Present the Caring Canadian Award to Six Volunteers From New Brunswick', 'Celstream Raises the Bar for Innovation and Efficiency With the Launch of Its Services Package for Product Development', 'Pride International, Inc. Announces Management Changes', \"Canada's Economic Action Plan Invests in Heritage Infrastructure at John R. Booth Residence National Historic Site\", 'Vigil Health Solutions Achieves Second Profitable Quarter', 'DispersinB(R) Topical Wound Gel Manufacturing Completed', 'IE Discovery Announces Second Annual Electronic Discovery Symposium for Government Agencies', 'Spider Resources Inc. Announces Completion of Flow-Through Private Placement with the MineralFields Group', 'Nortel Reports Financial Results for the Second Quarter 2009', 'Route1 Demonstrates MobiKEY Fusion for Government and Military at GSA', \"Destiny Resource Services Corp. Announces Q2'09 Results\", 'Nortel Announces Board of Directors, Management Team and Organizational Changes', 'Canadian Shield Shareholders Approve Amendment to Stock Option Plan', \"Platinex's Ring of Fire Update\", 'AnalystChoice.com Brings You the Best Complimentary Research Report on AIB, BKC, HRB, FLS, KO and RRD', 'BioExx Adds Protein Specialist to Advisory Board', 'AVI BioPharma Announces Second Quarter 2009 Financial Results & Corporate Highlights', 'A Cut Above: CableOrganizer.com Now Offering More Than 500 Cable and Wire Strippers, Crimpers and Cutters From Its Online Catalog', 'A Cut Above: CableOrganizer.com Now Offering More Than 500 Cable and Wire Strippers, Crimpers and Cutters From Its Online Catalog', 'A Cut Above: CableOrganizer.com Now Offering More Than 500 Cable and Wire Strippers, Crimpers and Cutters From Its Online Catalog', 'A Cut Above: CableOrganizer.com Now Offering More Than 500 Cable and Wire Strippers, Crimpers and Cutters From Its Online Catalog', 'Van der Moolen Holding requests surseance', '(OTC: MNDP) Contract With Warner Brothers Successful', 'Fortinet Files for Initial Public Offering', 'Composite Technology Signs Agreement to Sell Turbine Business to DSME', 'First Quantum Minerals Reports Operational and Financial Results for the Three and Six Months Ended June 30, 2009', \"BioCentric Energy Confirms Significant Short Position of Company's Common Stock\", 'MaxLinear Enters Cable TV Market With New Ultra Low Power Silicon Tuner Family', 'Pizza Patrón Opens Unique New Store in Dallas', 'TSX Venture Exchange Daily Bulletins for August 10, 2009', 'TSX Venture Exchange Daily Bulletins for August 10, 2009', 'Federman & Sherwood Announces That a Securities Class Action Lawsuit Has Been Filed Against Repros Therapeutics Inc. (NASDAQ: RPRX)', 'AnalystChoice.com Brings You the Best Complimentary Research Report on AIB, BKC, HRB, FLS, KO and RRD', 'RothmanResearch.com Stock Review for CPN, ALK, RT, BMS, PPS and CIG', 'Baptist Health System Installs Seven z.one Ultrasound Systems From ZONARE Medical Systems', 'Riverbed Extends Scale and Flexibility for Managed Service Providers by Virtualizing Central Management Console', 'AnalystChoice.com Brings You the Best Complimentary Research Report on PKD, VIV, FLR, HXL, SOLR and RVBD', 'EchoStar Reports Second Quarter 2009 Financial Results', 'CustomerCentric Selling(R) Helps Decision Dynamics Technology Produce Record Revenue Through Facilitating Greater Value for Customers', 'Issue of commercial paper', 'TheFortuneFinancial.com Free Market Research on ALU, EAT, SGY, WDR, AAN and BQI', 'RothmanResearch.com Stock Review for AMAT, CME, CEDC, SHLD, WCRX and ACXM', \"BioCentric Energy Confirms Significant Short Position of Company's Common Stock\", 'BenchmarkJournal.com Free Analyst Review for GCA, CVX, CHT, SJM, GLW and WTSLA', 'Skystar Bio-Pharmaceuticals to Report Second Quarter 2009 Financial Results and Host Conference Call on Friday, August 14, 2009', 'WallStSense.com Fundamental & Technical Coverage of CPT, SKT, BGC, HTS, RS and CCC', 'Seven Arts Pictures Signs Deal With Showtime to Exhibit \"NOISE,\" a Seven Arts Film Starring Tim Robbins and Bridget Moynahan', \"Vishay's New SkyFET(R) Monolithic Power MOSFET and Schottky Diode Achieves 3 Milliohms On-Resistance in SO-8 With TrenchFET(R) Gen III Technology\", 'Molecular Insight Pharmaceuticals, Inc. Announces Second Quarter 2009 Financial and Operational Results', 'RothmanResearch.com Stock Review for SPF, TDW, BRE, WMS, IPI and GR', 'Middle School Mathematics Education Pilot Project Launched in Pinellas County, Florida', 'Wave Q2 Revenues Rose 142% to $4.8 Million and Its Q2 Net Loss Declined to $344,000 From a Net Loss of $5.6 Million', 'Sterling Shoes Income Fund Announces Second Quarter 2009 Results', 'Route1 Demonstrates MobiKEY Fusion for Government and Military at GSA', 'AEP Networks Opens New Office in Australia', 'Sandspring Resources Ltd. Announces Extension to Qualifying Transaction Deadline Date', 'Middle School Mathematics Education Pilot Project Launched in Pinellas County, Florida', 'Middle School Mathematics Education Pilot Project Launched in Pinellas County, Florida', 'Shear and Stornoway Option Chesterfield Inlet Claims, Nunavut', \"School's Out and Your Kids Are Online: Do You Know What They've Been Searching for This Summer?\", 'First Quantum Minerals Reports Operational and Financial Results for the Three and Six Months Ended June 30, 2009', 'Riverbed Extends Scale and Flexibility for Managed Service Providers by Virtualizing Central Management Console', 'Disclosure of Short Position', 'RothmanResearch.com Stock Review for SPF, TDW, BRE, WMS, IPI and GR', 'WallStSense.com Fundamental & Technical Coverage of KRC, SOA, BR, TE, UPL and HST', 'TSX Venture Exchange Daily Bulletins for August 10, 2009', 'Allon Therapeutics Releases Second Quarter Operating Results', 'H.O.G.(R) Rallies With Big Rock to Raise Funds for Local Arts Charity', 'Vigil Health Solutions Achieves Second Profitable Quarter', 'BioExx Adds Protein Specialist to Advisory Board', 'New \"Transformer(TM)\" for iPod/iPhone and \"Transformer SE(TM)\" From Clickfree(TM) Turn Unused iPod/iPhone Capacity Into Hassle Free Backup Solution', \"Warnex and Rosetta Genomics Announce Exclusive Distribution Agreement for Rosetta's microRNA-Based Assays in Canada\", 'Disclosure of Short Position', 'AnalystChoice.com Brings You the Best Complimentary Research Report on AEL, DE, SY, CNB, HLF and TRN', 'TransCanada Begins Construction of $500 Million Facility in Coolidge', 'Centrue Financial Corporation Announces Second Quarter 2009 Results', 'enableTV Launches cablewidget Platform', 'enableTV Launches cablewidget Platform', 'MaxLinear Enters Cable TV Market With New Ultra Low Power Silicon Tuner Family', 'MyStudio(R) and The Comedy Store Partner for New Comedy Contest', 'Three Covario Clients Nominated for Search Marketing Excellence in 2009 Search Engine Watch Awards', 'EchoStar Reports Second Quarter 2009 Financial Results', 'Muscle Flex Inc. Completes Its \"Generation One\" Websites and Begins Development of Its \"Generation Two\" Websites and Describes Its \"Drive to the Internet\" Strategy', 'Conax Maintains Leading Edge in Latin American Security Market for Digital TV', 'ERHC Energy Inc. Reports Third Quarter 2009 Financial Results', 'Asure Software Announces Receipt of Nasdaq Staff Determination Letter', 'Natural Health Trends Announces Second Quarter 2009 Results and Early Redemption of Convertible Debentures', 'Brigham Exploration Announces Approximately 2,154 BOEPD Bakken Well', 'Epygi\\'s \"Partnering for Success: How to Increase Revenue With the Right Solution\" Seminars Will Appear in Five Cities for Resellers to Attend', 'EV Energy Partners Announces Second Quarter 2009 Results and Additional Commodity Price Hedges', 'EV Energy Partners Announces Second Quarter 2009 Results and Additional Commodity Price Hedges', 'Willbros to Present at The EnerCom 2009 Oil & Gas Conference', 'Kendall Law Group Announces Securities Class Action Against Conseco Inc.', 'Kendall Law Group Announces Securities Class Action Against Flotek Industries, Inc.', 'PDATrade Inc. and EXX.com, LLC Announce Joint Venture', 'Pizza Patrón Opens Unique New Store in Dallas', 'Pride International, Inc. Announces Management Changes', 'IE Discovery Announces Second Annual Electronic Discovery Symposium for Government Agencies', 'Clickbooth Eliminates Suppression List Abuse and Experiences Business Growth by Selecting Compliance Partner UnsubCentral', 'Cobra Oil & Gas Announces Clarifying Press Release', 'Artfest International, Inc. Subsidiary Charity Sports Distributor Signs Agreement With Leading Technology Solutions Provider for Nonprofit Organizations', 'Artfest International, Inc. Subsidiary Charity Sports Distributor Signs Agreement With Leading Technology Solutions Provider for Nonprofit Organizations', 'GeoMet Announces Financial and Operating Results for the Quarter Ended June 30, 2009', 'TechLine Snap Track -- Cable Management & Protection in a Snap, a Feature of \"Industry Today\" on Industrialinfo.com', 'Quicksilver Resources Reports Second-Quarter 2009 Results', 'Quicksilver Gas Services Reports Second-Quarter 2009 Results', 'TSX Venture Exchange Daily Bulletins for August 10, 2009', '\"Stock Alert\" Traders Rejoice With Over 95% Perfect Stock Trades Over 7+ Years', 'MetricStream Continues Strong Growth Trend in First Half of 2009', 'Ur-Energy Begins Geophysical Surveying at Screech Lake Project', '\"Stock Alert\" Traders Rejoice With Over 95% Perfect Stock Trades Over 7+ Years', 'What Every Student -- and Parent -- Should Know When Buying a Laptop for College', 'New \"Transformer(TM)\" for iPod/iPhone and \"Transformer SE(TM)\" From Clickfree(TM) Turn Unused iPod/iPhone Capacity Into Hassle Free Backup Solution', 'First Quantum Minerals Reports Operational and Financial Results for the Three and Six Months Ended June 30, 2009', 'Gulfside Minerals Ltd.: Onjuul Coal Project Acquisition', 'TSX Venture Exchange Daily Bulletins for August 10, 2009', 'Solanex Management Inc. Signs Letter of Intent to Acquire Waste to Energy Technology', 'Tonbridge Power Executes Detailed Termsheet With Western Area Power Administration', 'Rule 8.3 Anglo American Plc', 'WorldVest to Launch Banco WorldVest International', 'WorldVest to Launch Banco WorldVest International', \"Destiny Resource Services Corp. Announces Q2'09 Results\", 'Hong Kong Highpower Technology Reports Second Quarter 2009 Financial Results', 'Hong Kong Highpower Technology Reports Second Quarter 2009 Financial Results', 'TSX Venture Exchange Daily Bulletins for August 10, 2009', 'AltaGas Utility Group Inc. Announces Record First Half 2009 Results and a Quarterly Dividend of $0.05 Per Share', 'AnalystChoice.com Brings You the Best Complimentary Research Report on PKD, VIV, FLR, HXL, SOLR and RVBD', 'TSX Venture Exchange Closing Summary for August 10, 2009', 'VMware to Acquire SpringSource', 'VMware to Acquire SpringSource', 'enableTV Releases DV-TIDE 2.0, a PC-Based Headend Solution for VOD, Guide, and Application Testing', \"BioCentric Energy Confirms Significant Short Position of Company's Common Stock\", 'TheFortuneFinancial.com Free Market Research on BVF, TTI, WTI, DRC, VRTX and SBIB', \"Vishay's New SkyFET(R) Monolithic Power MOSFET and Schottky Diode Achieves 3 Milliohms On-Resistance in SO-8 With TrenchFET(R) Gen III Technology\", 'Wave Q2 Revenues Rose 142% to $4.8 Million and Its Q2 Net Loss Declined to $344,000 From a Net Loss of $5.6 Million', 'TheFortuneFinancial.com Free Market Research on ALU, EAT, SGY, WDR, AAN and BQI', 'Willbros to Present at The EnerCom 2009 Oil & Gas Conference', 'Celstream Raises the Bar for Innovation and Efficiency With the Launch of Its Services Package for Product Development', 'RothmanResearch.com Stock Review for SPF, TDW, BRE, WMS, IPI and GR', 'Thirty-Five-Year Hospitality Professional Appointed President of Days Inn', 'IIROC: Cease Trade Order, Real Time Measurements Inc.', 'TSX Venture Exchange Daily Bulletins for August 10, 2009', \"Today's Generations Redefining Comfort Food\", '(OTC: MNDP) Contract With Warner Brothers Successful', 'The Zweig Total Return Fund, Inc. Discloses Sources of Distribution - Section 19A Notice']"
        ],
        [
         "37",
         "2009-08-11 00:00:00-04:00",
         "['Essential Energy Services Trust Announces Second Quarter 2009 Results and Quarterly Distribution', 'North American Palladium Announces Second Quarter 2009 Results', 'Softchoice Reports Strong Second-Quarter Net Earnings', 'Norex Reports 2009 Second Quarter Results', 'Pan American Silver Posts Record Silver and Gold Production in the Second Quarter', 'Enerflex Reports Second Quarter 2009 Financial Results and Announces Third Quarter 2009 Distributions', 'Straight No Chaser Announces 50-City Fall Tour; New Holiday Album, \"CHRISTMAS CHEERS,\" in the Works; \"SIX PACK\" EP Available Now', 'Straight No Chaser Announces 50-City Fall Tour; New Holiday Album, \"CHRISTMAS CHEERS,\" in the Works; \"SIX PACK\" EP Available Now', 'Pan American Silver Posts Record Silver and Gold Production in the Second Quarter', 'Pan American Silver Posts Record Silver and Gold Production in the Second Quarter', 'Norex Reports 2009 Second Quarter Results', 'Straight No Chaser Announces 50-City Fall Tour; New Holiday Album, \"CHRISTMAS CHEERS,\" in the Works; \"SIX PACK\" EP Available Now', 'Finisar Corporation Announces Final Results of Its Exchange Offers for Its Outstanding Convertible Subordinated Notes', 'Straight No Chaser Announces 50-City Fall Tour; New Holiday Album, \"CHRISTMAS CHEERS,\" in the Works; \"SIX PACK\" EP Available Now', 'Enerflex Reports Second Quarter 2009 Financial Results and Announces Third Quarter 2009 Distributions', 'Essential Energy Services Trust Announces Second Quarter 2009 Results and Quarterly Distribution', 'Enerflex Reports Second Quarter 2009 Financial Results and Announces Third Quarter 2009 Distributions', 'Finisar Corporation Announces Final Results of Its Exchange Offers for Its Outstanding Convertible Subordinated Notes', 'Pan American Silver Posts Record Silver and Gold Production in the Second Quarter', 'Enerflex Reports Second Quarter 2009 Financial Results and Announces Third Quarter 2009 Distributions', 'Pan American Silver Posts Record Silver and Gold Production in the Second Quarter', 'Pan American Silver Posts Record Silver and Gold Production in the Second Quarter', 'Pan American Silver Posts Record Silver and Gold Production in the Second Quarter', 'Pan American Silver Posts Record Silver and Gold Production in the Second Quarter', 'HE-5 RESOURCES CORP., Announces Extending of the Record Date of (Previously-Announced) 2 For 1 Split and Mandatory Share Exchange, Until Monday August 17th 4:00pm ET, ...', 'Essential Energy Services Trust Announces Second Quarter 2009 Results and Quarterly Distribution', 'Softchoice Reports Strong Second-Quarter Net Earnings', 'Straight No Chaser Announces 50-City Fall Tour; New Holiday Album, \"CHRISTMAS CHEERS,\" in the Works; \"SIX PACK\" EP Available Now', 'Pan American Silver Posts Record Silver and Gold Production in the Second Quarter', 'Straight No Chaser Announces 50-City Fall Tour; New Holiday Album, \"CHRISTMAS CHEERS,\" in the Works; \"SIX PACK\" EP Available Now', 'Enerflex Reports Second Quarter 2009 Financial Results and Announces Third Quarter 2009 Distributions', 'Straight No Chaser Announces 50-City Fall Tour; New Holiday Album, \"CHRISTMAS CHEERS,\" in the Works; \"SIX PACK\" EP Available Now', 'Straight No Chaser Announces 50-City Fall Tour; New Holiday Album, \"CHRISTMAS CHEERS,\" in the Works; \"SIX PACK\" EP Available Now', 'Pan American Silver Posts Record Silver and Gold Production in the Second Quarter', 'Pan American Silver Posts Record Silver and Gold Production in the Second Quarter', 'North American Palladium Announces Second Quarter 2009 Results', 'Straight No Chaser Announces 50-City Fall Tour; New Holiday Album, \"CHRISTMAS CHEERS,\" in the Works; \"SIX PACK\" EP Available Now', \"PetSmart Charities(R) Sends Emergency Relief Waggin'(R) Vehicle to Alleged Puppy Mill in Texas\", 'Perfect Fry Corporation-Corporate Update', 'Straight No Chaser Announces 50-City Fall Tour; New Holiday Album, \"CHRISTMAS CHEERS,\" in the Works; \"SIX PACK\" EP Available Now', 'Pan American Silver Posts Record Silver and Gold Production in the Second Quarter', 'Finisar Corporation Announces Final Results of Its Exchange Offers for Its Outstanding Convertible Subordinated Notes', 'Softchoice Reports Strong Second-Quarter Net Earnings', 'Pan American Silver Posts Record Silver and Gold Production in the Second Quarter', 'Finisar Corporation Announces Final Results of Its Exchange Offers for Its Outstanding Convertible Subordinated Notes', 'August FOMC Statement Will Not See Much Economic Improvement', 'Softchoice Reports Strong Second-Quarter Net Earnings', 'Softchoice Reports Strong Second-Quarter Net Earnings']"
        ],
        [
         "38",
         "2009-08-12 00:00:00-04:00",
         "['Birchcliff Energy Ltd. Announces Second Quarter Financial Results, and Continued Success With Its Montney/Doig Natural Gas Resource Play', 'Solium Capital Inc. Releases 2009 Second Quarter Results', 'Silver Standard Announces Exercise of Over-Allotment Option', 'Western Areas Option to Acquire BioHeap Leaching Technology', 'Western Areas Commits to Major Expansion at Forrestania', 'SP Acquisition Holdings and Frontier Financial Schedule Conference Call for Investors', 'Crescent Gold Limited: Request for Trading Halt', 'Eldorado Gold Corporation: New Gold Zone Identified at Tanjianshan', 'Pure Energy Services Ltd. Announces Results for the Second Quarter Ended June 30, 2009', 'MTI Global Reports 2009 Second Quarter Results', 'GlobeStar Reports Second Quarter 2009 Results', 'Apollo Investment Corporation Prices Public Offering of Common Stock', 'Carlaw Capital II Corp. Announces Completion of Qualifying Transaction With TrueContext Corporation', 'Rock Energy Inc. Announces Its Financial and Operational Results for the Period Ended June 30, 2009', 'Churchill Announces Second Quarter 2009 Results', 'Bronco Announces Second Quarter Results and Operations Update', 'Desmarais Provides Further Operations Update', 'Insignia Energy Ltd. Announces Its 2009 2nd Quarter Results and Provides Second Half 2009 Guidance', 'ML Macadamia Orchards, L.P. Reports 2nd Quarter 2009 Earnings', 'TSX Venture Exchange Daily Bulletins for August 12, 2009', 'Xebec Announces 2009 Second Quarter Financial Results', 'Zargon Energy Trust Announces 2009 Second Quarter Results', 'Denison Mines Corp. Reports Second Quarter Earnings', 'Harvest Announces Closing of Pegasus Oil & Gas Inc. Acquisition', 'Ace Reports Results of Operations for the Second Quarter of 2009', 'Goldeye Announces Completion of $281,000 Private Placement', 'Imperial Capital Advises Cinedigm on Its Recapitalization and $75 Million Financing With Sageview Capital', 'Kinross Doubles Revenue and Operating Earnings in Q2', 'ShopNBC Second Quarter 2009 Earnings Release and Conference Call Notice', \"CORRECTION FROM SOURCE/Government of Canada Invests in Calgary's GlobalFest\", 'AirBoss Announces 2nd Quarter 2009 Results', 'Peyto Energy Trust Announces Second Quarter 2009 Results', 'New Global Ventures International Inc. Announces Terms of Transaction with Comanche Clean Energy Corporation', 'Freehold Royalty Trust Announces 2009 Second Quarter Results and 20% Increase in Monthly Distributions', 'Bowne & Co., Inc. Announces Closing of Its Common Stock Offering', 'American Defense Systems Reports Record Second Quarter 2009 Financial Results', 'Birchcliff Energy Ltd. Announces Second Quarter Financial Results, and Continued Success With Its Montney/Doig Natural Gas Resource Play', 'PetSmart, Inc. to Host Second Quarter 2009 Earnings Conference Call', \"Given Imaging Announces Results of 2009 Annual Shareholders' Meeting\", 'Black Diamond Income Fund Announces Intention to Convert to a Dividend Paying Corporation', 'Black Diamond Income Fund Reports Results for the Second Quarter Ended June 30, 2009', 'Onex Reports Second Quarter 2009 Results', 'Menu Foods Income Fund Announces 2009 Second Quarter Results', 'Ressources Minieres Pro-Or Inc.: Private Placement of $500,000', 'A&D Weighing Indicators Receive Legal for Trade Approval in Canada', 'Somerset Entertainment Income Fund Reports Results for Second Quarter of 2009', 'StarInvest Postpones Closing of EXX.com Acquisition', 'Author T.S. Wiley to Give Free Lecture About Menopause and Andropause at Ghost Ranch - Santa Fe', 'E1 Music to Release \"Karaoke With Your Favorite Principal Dennis Haskins A.K.A. \\'Mr. Belding\\'\" CD/DVD Set on September 1, 2009', \"Infonetics Research: New survey names carriers' biggest IP/Ethernet backhaul challenges\", 'Judicial Watch Uncovers Documents From Treasury Department Related to AIG Bailout', 'Endless Vacation Rentals(R) Receives Award for Its YourFatChance.com Vacation Contest', 'Government of Canada Invests in Summer Sports and Contributes to the 2009 ICF Canoe Sprint World Championships', \"Production Designer Rick Carter to Receive Hollywood Film Festival's Hollywood Production Designer of the Year Award at Festival's 13th Annual Hollywood Awards Presentation, Oct. 26\", 'Unilife Commences US Production of Unitract 1mL Syringes', 'Ur-Energy Identifies New Exploration Targets With Potential for Additional 24-28 Million Pounds U3O8 in the Lost Creek Area', 'CORRECTION FROM SOURCE: Enerflex Reports Second Quarter 2009 Financial Results and Announces Third Quarter 2009 Distributions', 'Onex Sells Partial Stake in Emergency Medical Services for 6 Times Cost', 'Finning Announces Second Quarter Results', 'Red Hawk Casino Awards More Than $5.2 Million in Jackpots During July', 'Traveling Vietnam Wall Comes to Westlake Village', 'APICS The Association for Operations Management and the University of North Carolina Wilmington Release \"Operations Management Employment Outlook\": 12-Month Hiring Outlook Strong', 'Hammond Power Solutions Inc. Statement of Claim Settlement', 'CONCERT.TV, Another Planet Entertainment and Superfly Presents Merge Forces to Promote Outside Lands Music & Arts Festival', 'Morneau Sobeco Announces Positive Second Quarter Results', 'Arketi Launches BtoB Technology Marketing Thought Leadership Series With Webinar on Business-to-Business Positioning', 'Pediment Gold Reports Positive Bench Sample Results From La Colorada, Mexico', \"Columbia Sportswear Invites Consumers to Shop and Experience the 'Greater Outdoors' at Columbia.com\", 'Government of Canada Provides Additional Support to Displaced Civilians in Pakistan', 'WorldVest Announces Brazilian Strategic Financial Partnership', 'Novus Gold Discovers Gold-Copper Zone Outlined in Its Dominican Republic Property', 'International Drug & Explosives Detection Firm IDenta Corp. Releases Statement Updating Details About US Department of Defense Testing of the IDenta-Alert Explosive Detectors', 'Binswanger Myre Pageau Brokers Major Sale in Saint Augustin, Quebec, Canada', 'Ingate Systems Announces Speakers, Schedule for SIP Trunk Seminars at ITEXPO West 2009', 'Golden Predator Acquires Mineral Hill Alkalic Gold Property, Crook County, Wyoming', 'Treasury Metals Confirms High-Grade Gold Within +3 Kilometre Alteration Corridor, Northeast of the Thunder Lake Gold Deposit', 'Internationally Acclaimed Author T.S. Wiley to Lecture on Menopause and Andropause at Sheraton Westport Chalet Hotel in St. Louis', 'SouthGobi Energy Resources Receives Mining Licence For Tsaagan Tolgoi Coal Deposit', 'First Majestic Silver Corp.: Non-Brokered Private Placement and Debt Settlement', 'Coach Canada: Travel the New Megabus Double-Decker Coach Toronto to Montreal From $1', '2nd Quarter Existing-Home Sales Rise in Most States, Helped by Affordable Metro Prices', 'Unico, Inc. Announces the Posting of a New Photo Gallery Showing Additional Improvements to the Deer Trail Mill and Processing Facility for the Recovery of Gold', 'Targeted Genetics Corporation Reports Second Quarter 2009 Financial Results and Provides Business Updates', 'Peyto Energy Trust Announces Second Quarter 2009 Results', 'Ingate Systems Announces Speakers, Schedule for SIP Trunk Seminars at ITEXPO West 2009', 'Ace Reports Results of Operations for the Second Quarter of 2009', 'TSX Venture Exchange Daily Bulletins for August 12, 2009', 'TSX Venture Exchange Closing Summary for August 12, 2009', 'Alliance Financing Group Announces Temporary Cease Trade Order', 'New Global Ventures International Inc. Announces Terms of Transaction with Comanche Clean Energy Corporation', 'TSX Venture Exchange Daily Bulletins for August 12, 2009', 'TSX Venture Exchange Daily Bulletins for August 12, 2009', \"Production Designer Rick Carter to Receive Hollywood Film Festival's Hollywood Production Designer of the Year Award at Festival's 13th Annual Hollywood Awards Presentation, Oct. 26\", 'Apollo Investment Corporation Prices Public Offering of Common Stock', 'A&D Weighing Indicators Receive Legal for Trade Approval in Canada', 'IIROC: Resumption; Brookfield Properties', 'Northern Star to Close Subscription Receipt Financing and Enters Into Off-Take Agreement', 'Allied Nevada Reports Continued Positive Metallurgical Results for Oxide and Sulfide Mineralization', 'Western Areas Option to Acquire BioHeap Leaching Technology', 'Crescent Gold Limited: Request for Trading Halt', 'Unilife Commences US Production of Unitract 1mL Syringes', 'TSX Venture Exchange Daily Bulletins for August 12, 2009', 'Eldorado Gold Corporation: New Gold Zone Identified at Tanjianshan', 'TSX Venture Exchange Daily Bulletins for August 12, 2009', 'Zargon Energy Trust Announces 2009 Second Quarter Results', 'Denison Mines Corp. Reports Second Quarter Earnings', 'Harvest Announces Closing of Pegasus Oil & Gas Inc. Acquisition', 'Ace Reports Results of Operations for the Second Quarter of 2009', 'E1 Entertainment Is #1 on the Billboard Independent Chart With Dorrough\\'s Debut Album, \"Dorrough Music\"', 'Kinross Doubles Revenue and Operating Earnings in Q2', 'New Global Ventures International Inc. Announces Terms of Transaction with Comanche Clean Energy Corporation', 'Targeted Genetics Corporation Reports Second Quarter 2009 Financial Results and Provides Business Updates', 'Menu Foods Income Fund Announces 2009 Second Quarter Results', 'Somerset Entertainment Income Fund Reports Results for Second Quarter of 2009', 'Government of British Columbia: Huge Industry Interest in Oil and Gas Royalty Program', 'Finning Announces Second Quarter Results', 'Cornerstone Completes Sale of La Plata Interest', 'ZAP Names Priscilla M. Lu, PhD to Its Board of Directors', 'SouthGobi Energy Resources Receives Mining Licence For Tsaagan Tolgoi Coal Deposit', 'Xebec Announces 2009 Second Quarter Financial Results', 'Goldeye Announces Completion of $281,000 Private Placement', 'Government of British Columbia: Huge Industry Interest in Oil and Gas Royalty Program', 'Water-Stocks.com Reports on Opportunity for Remediating Oil-Contaminated Water', 'Apollo Investment Corporation Prices Public Offering of Common Stock', 'Osisko Mining Corporation Enters Into a Bought Deal Agreement for Gross Proceeds of C$130,025,000', 'AirBoss Announces 2nd Quarter 2009 Results', 'FanSnap(R) Secures $5 Million in Funding', 'WiFi Wireless, Inc. Releases 2009 Second Quarter Report', 'ReachLocal Ranks No. 39 on the Inc. Magazine 2009 List of Fastest-Growing Private Companies in America', 'Insignia Energy Ltd. Announces Its 2009 2nd Quarter Results and Provides Second Half 2009 Guidance', 'Paramore Announce Fall Headline Tour; North American Trek to Be Presented by Paramore.net, Fueled by Cisco Eos; The \"Paramore\" Tour Celebrates Release of Grammy-Nominated Band\\'s Third Album; \"Ignorance\" Is a Top 10 Alternative Hit Out of the Box, With Vid', 'Imperial Capital Advises Cinedigm on Its Recapitalization and $75 Million Financing With Sageview Capital', 'Procera Networks Announces Second Quarter 2009 Results', 'A&D Weighing Indicators Receive Legal for Trade Approval in Canada', 'Author T.S. Wiley to Give Free Lecture About Menopause and Andropause at Ghost Ranch - Santa Fe', \"Infonetics Research: New survey names carriers' biggest IP/Ethernet backhaul challenges\", 'New PR Secrets for Pitching Business Desks: New Bulldog Reporter Conference Reveals How to Work With Top Business Reporters in the New Economy', 'Warner Music Group & Cisco Announce Strategic Agreement to Deliver Social Entertainment Experiences to Online Audiences', \"Runner's World Launches First iPhone Application Sponsored by Nike\", \"First 5 California to Make Announcement Regarding Children's Health Care\", \"Significant Client Base Growth and New Products Mark Coveo's 2009 Second Quarter\", \"Production Designer Rick Carter to Receive Hollywood Film Festival's Hollywood Production Designer of the Year Award at Festival's 13th Annual Hollywood Awards Presentation, Oct. 26\", 'Red Hawk Casino Awards More Than $5.2 Million in Jackpots During July', 'Traveling Vietnam Wall Comes to Westlake Village', 'CONCERT.TV, Another Planet Entertainment and Superfly Presents Merge Forces to Promote Outside Lands Music & Arts Festival', \"San Jose Porcelain Veneers Expert The Zeidler Dental Group Endorsed by KRTY 95.3's Gary Scott Thomas\", 'Fully Automatic Defrag Crucial to System Reliability', 'Canadian National Stock Exchange-New Listing-Worldwide Promotional Management Inc. (WRL)', 'ZAP Names Priscilla M. Lu, PhD to Its Board of Directors', 'WorldVest Announces Brazilian Strategic Financial Partnership', 'Tours4Fun Announces \"Best of Summer\" Travel Photo Contest', 'Mitratech Expands Insurance Claims Litigation Solution Framework', 'RFaxis Secures Zigbee and WLAN Design Wins', 'Remedy Interactive Enables Organizations to Jump-Start and Automate Office Injury Prevention With iMitigate', 'Internationally Acclaimed Author T.S. Wiley to Lecture on Menopause and Andropause at Sheraton Westport Chalet Hotel in St. Louis', 'MyECheck Signs Small Business Network (SBN) to Its Patented Check 21 Payment Processing Electronic Transaction Software', 'Unico, Inc. Announces the Posting of a New Photo Gallery Showing Additional Improvements to the Deer Trail Mill and Processing Facility for the Recovery of Gold', 'APICS The Association for Operations Management and the University of North Carolina Wilmington Release \"Operations Management Employment Outlook\": 12-Month Hiring Outlook Strong', 'TSX Venture Exchange Daily Bulletins for August 12, 2009', 'Birchcliff Energy Ltd. Announces Second Quarter Financial Results, and Continued Success With Its Montney/Doig Natural Gas Resource Play', 'Ainsworth Financial Results for the Second Quarter of 2009', 'Xebec Announces 2009 Second Quarter Financial Results', 'Zargon Energy Trust Announces 2009 Second Quarter Results', 'Denison Mines Corp. Reports Second Quarter Earnings', 'American Defense Systems Reports Record Second Quarter 2009 Financial Results', 'Birchcliff Energy Ltd. Announces Second Quarter Financial Results, and Continued Success With Its Montney/Doig Natural Gas Resource Play', 'Carlaw Capital II Corp. Announces Completion of Qualifying Transaction With TrueContext Corporation', 'CORRECTION FROM SOURCE: Enerflex Reports Second Quarter 2009 Financial Results and Announces Third Quarter 2009 Distributions', 'Pure Energy Services Ltd. Announces Results for the Second Quarter Ended June 30, 2009', 'OPINION: Integrated CO2 Network-Alberta CCS Development Council Got it Right. By Eric Beynon', 'Akorri Continues Market Leadership and Major Growth in First Half of 2009', 'Kinross Doubles Revenue and Operating Earnings in Q2', 'CanAsia Financial Inc. Announces Loan to Classet Holdings Inc., Amendment to Agreement in Principle and Lift of Trading Halt', 'TSX Venture Exchange Daily Bulletins for August 12, 2009', \"Columbia Sportswear Invites Consumers to Shop and Experience the 'Greater Outdoors' at Columbia.com\", 'GlobeStar Reports Second Quarter 2009 Results', 'Insignia Energy Ltd. Announces Its 2009 2nd Quarter Results and Provides Second Half 2009 Guidance', 'New Global Ventures International Inc. Announces Terms of Transaction with Comanche Clean Energy Corporation', 'Akorri Continues Market Leadership and Major Growth in First Half of 2009', 'Coach Canada: Travel the New Megabus Double-Decker Coach Toronto to Montreal From $1', 'American Defense Systems Reports Record Second Quarter 2009 Financial Results', 'Apollo Investment Corporation Prices Public Offering of Common Stock', 'TSX Venture Exchange Daily Bulletins for August 12, 2009', 'Western Areas Option to Acquire BioHeap Leaching Technology', 'Western Areas Commits to Major Expansion at Forrestania', 'Eldorado Gold Corporation: New Gold Zone Identified at Tanjianshan', 'Churchill Announces Second Quarter 2009 Results', 'Zargon Energy Trust Announces 2009 Second Quarter Results', 'Compass Group, Inc. Changes Brand Name to Compass Clinical Consulting', 'Ace Reports Results of Operations for the Second Quarter of 2009', 'Imperial Capital Advises Cinedigm on Its Recapitalization and $75 Million Financing With Sageview Capital', 'Pethealth Inc. Announces Record Quarterly Net Income of $1,675,000 and Its Full Results for the Quarter and Six Months Ended June 30, 2009', 'SmithGroup Awarded Redesign of 1440 New York Avenue', 'Aurora Launches Development of Optionally Piloted Vehicle Based on the DA42M', \"Significant Client Base Growth and New Products Mark Coveo's 2009 Second Quarter\", 'Traveling Vietnam Wall Comes to Westlake Village', 'APICS The Association for Operations Management and the University of North Carolina Wilmington Release \"Operations Management Employment Outlook\": 12-Month Hiring Outlook Strong', 'CONCERT.TV, Another Planet Entertainment and Superfly Presents Merge Forces to Promote Outside Lands Music & Arts Festival', 'ZAP Names Priscilla M. Lu, PhD to Its Board of Directors', 'Muhammad Yunus Awarded Presidential Medal of Freedom', 'Ingate Systems Announces Speakers, Schedule for SIP Trunk Seminars at ITEXPO West 2009', 'Wavefront Technology Solutions Inc.: Fort Worth Based Operator Implements Powerwave to Improve Injection Performance in Permian Basin', 'Birchcliff Energy Ltd. Announces Second Quarter Financial Results, and Continued Success With Its Montney/Doig Natural Gas Resource Play', 'Denison Mines Corp. Reports Second Quarter Earnings', 'Birchcliff Energy Ltd. Announces Second Quarter Financial Results, and Continued Success With Its Montney/Doig Natural Gas Resource Play', 'Birchcliff Energy Ltd. Announces Second Quarter Financial Results, and Continued Success With Its Montney/Doig Natural Gas Resource Play', 'Kinross Doubles Revenue and Operating Earnings in Q2', 'Birchcliff Energy Ltd. Announces Second Quarter Financial Results, and Continued Success With Its Montney/Doig Natural Gas Resource Play', 'ShopNBC Second Quarter 2009 Earnings Release and Conference Call Notice', 'CONCERT.TV, Another Planet Entertainment and Superfly Presents Merge Forces to Promote Outside Lands Music & Arts Festival', 'Denison Mines Corp. Reports Second Quarter Earnings', 'Paramore Announce Fall Headline Tour; North American Trek to Be Presented by Paramore.net, Fueled by Cisco Eos; The \"Paramore\" Tour Celebrates Release of Grammy-Nominated Band\\'s Third Album; \"Ignorance\" Is a Top 10 Alternative Hit Out of the Box, With Vid', \"CORRECTION FROM SOURCE/Government of Canada Invests in Calgary's GlobalFest\", \"Government of Canada Invests in Calgary's GlobalFest\", 'E1 Music to Release \"Karaoke With Your Favorite Principal Dennis Haskins A.K.A. \\'Mr. Belding\\'\" CD/DVD Set on September 1, 2009', 'Coach Canada: Travel the New Megabus Double-Decker Coach Toronto to Montreal From $1', 'Allied Nevada Reports Continued Positive Metallurgical Results for Oxide and Sulfide Mineralization', 'Denison Mines Corp. Reports Second Quarter Earnings', 'TSX Venture Exchange Closing Summary for August 12, 2009', 'Ace Reports Results of Operations for the Second Quarter of 2009', 'Kinross Doubles Revenue and Operating Earnings in Q2', 'Thallion Announces Changes to its Board of Directors and Issuance of Stock Options', 'Nemaska Exploration Signs an Option to Purchase the Lac Levac and Lac des Montagnes Properties From Golden Goose Resources', \"Columbia Sportswear Invites Consumers to Shop and Experience the 'Greater Outdoors' at Columbia.com\", 'Ecometals Announces Progress on Permits and Planning for Drilling Rio Zarza Gold Project Ecuador', 'Birchcliff Energy Ltd. Announces Second Quarter Financial Results, and Continued Success With Its Montney/Doig Natural Gas Resource Play', 'TSX Venture Exchange Daily Bulletins for August 12, 2009', 'Birchcliff Energy Ltd. Announces Second Quarter Financial Results, and Continued Success With Its Montney/Doig Natural Gas Resource Play', 'International Drug & Explosives Detection Firm IDenta Corp. Releases Statement Updating Details About US Department of Defense Testing of the IDenta-Alert Explosive Detectors', 'CORRECTION FROM SOURCE: Enerflex Reports Second Quarter 2009 Financial Results and Announces Third Quarter 2009 Distributions', 'Eldorado Gold Corporation: New Gold Zone Identified at Tanjianshan', 'Kinross Doubles Revenue and Operating Earnings in Q2', 'Ecometals Announces Progress on Permits and Planning for Drilling Rio Zarza Gold Project Ecuador', 'SouthGobi Energy Resources Receives Mining Licence For Tsaagan Tolgoi Coal Deposit', 'MyECheck Signs Small Business Network (SBN) to Its Patented Check 21 Payment Processing Electronic Transaction Software', 'Expense Management Network Guarantees $10,000 in Cost Reductions to Health Care Facilities', 'EnergySolutions Ranked #1 \"All Environmental Firm\" by Engineering News Record', 'Pethealth Inc. Announces Record Quarterly Net Income of $1,675,000 and Its Full Results for the Quarter and Six Months Ended June 30, 2009', 'Finning Announces Second Quarter Results', 'E1 Entertainment Is #1 on the Billboard Independent Chart With Dorrough\\'s Debut Album, \"Dorrough Music\"', 'E1 Music to Release \"Karaoke With Your Favorite Principal Dennis Haskins A.K.A. \\'Mr. Belding\\'\" CD/DVD Set on September 1, 2009', 'TSX Venture Exchange Closing Summary for August 12, 2009', 'TSX Venture Exchange Closing Summary for August 12, 2009', 'Golden Predator Acquires Mineral Hill Alkalic Gold Property, Crook County, Wyoming', 'Endless Vacation Rentals(R) Receives Award for Its YourFatChance.com Vacation Contest', 'Kinross Doubles Revenue and Operating Earnings in Q2', 'Star Bulk Carriers Corp. Reports Financial Results for the Second Quarter and First Half 2009', 'Paramore Announce Fall Headline Tour; North American Trek to Be Presented by Paramore.net, Fueled by Cisco Eos; The \"Paramore\" Tour Celebrates Release of Grammy-Nominated Band\\'s Third Album; \"Ignorance\" Is a Top 10 Alternative Hit Out of the Box, With Vid', 'USAPL Powerlifter Champion Mike Bridges Wins 5th Pan-Am World Title and Breaks World Records, Squat at 804 Lbs', 'Sell My Timeshare NOW Makes Prestigious Inc. 5000 List for Second Consecutive Year', 'Florida Tile Announces New Product Launch: Formations', \"Global Bullion Exchange Announces Partnership With Campany's Hilltop Mines\", 'Fusion Voicemail Plus Tops More Than 250,000 Downloads in Android; Visual Voicemail App Ranks Within Top 50 on Android Market', 'Florida Public Utilities Announces Results for the Second Quarter of 2009', 'Florida Public Utilities Company Announces Quarterly Dividend', 'China Direct Industries Announces Conference Call to Discuss Financial Results for the Second Quarter Ended June 30, 2009', \"Atlantis Technology Group's Subsidiary Global Online Television Announces Projected Sales Revenues Over $50 Million\", 'First Marblehead to Release Fourth Quarter and Fiscal 2009 Financial Results on August 17, 2009', 'Ressources Minieres Pro-Or Inc.: Private Placement of $500,000', 'Birchcliff Energy Ltd. Announces Second Quarter Financial Results, and Continued Success With Its Montney/Doig Natural Gas Resource Play', 'Northern Star to Close Subscription Receipt Financing and Enters Into Off-Take Agreement', 'Zargon Energy Trust Announces 2009 Second Quarter Results', 'URSA Major Minerals and Sagamok Anishnawbek First Nation Sign Impacts and Benefits Agreement for Shakespeare Project', 'Birchcliff Energy Ltd. Announces Second Quarter Financial Results, and Continued Success With Its Montney/Doig Natural Gas Resource Play', 'Colabor Income Fund Announces August 1, 2009 to August 24, 2009 Distribution', 'Osisko Mining Corporation Enters Into a Bought Deal Agreement for Gross Proceeds of C$130,025,000', \"Infonetics Research: New survey names carriers' biggest IP/Ethernet backhaul challenges\", 'Quetzal Energy Ltd. Announces Non Participation by Petrolatina Energy PLC in Atzam #3 Drilling Program and Drilling of Atzam #3 Update', 'CORRECTION FROM SOURCE: Enerflex Reports Second Quarter 2009 Financial Results and Announces Third Quarter 2009 Distributions', 'Morneau Sobeco Announces Positive Second Quarter Results', 'White Pine Resources Inc. Announces Private Placement Financing Increase', 'Unemployed Workers to bring a Message to Diane Finley: Fix EI Now', 'Trueclaim Exploration Inc. Closes $1.29 Million Financing', 'Fusion Voicemail Plus Tops More Than 250,000 Downloads in Android; Visual Voicemail App Ranks Within Top 50 on Android Market', 'White Pine Resources Inc. Announces Private Placement Financing Increase', 'Birchcliff Energy Ltd. Announces Second Quarter Financial Results, and Continued Success With Its Montney/Doig Natural Gas Resource Play', 'Grey Horse Reports Second Quarter 2009 Results', 'Zargon Energy Trust Announces 2009 Second Quarter Results', 'Peyto Energy Trust Announces Second Quarter 2009 Results', 'Star Bulk Carriers Corp. Reports Financial Results for the Second Quarter and First Half 2009', 'Birchcliff Energy Ltd. Announces Second Quarter Financial Results, and Continued Success With Its Montney/Doig Natural Gas Resource Play', 'Red Hawk Casino Awards More Than $5.2 Million in Jackpots During July', 'Nova Uranium Proposes Corporate Name Change and New Acquisition Mandate', 'Government of British Columbia: Huge Industry Interest in Oil and Gas Royalty Program', \"Global Bullion Exchange Announces Partnership With Campany's Hilltop Mines\", 'Eldorado Gold Corporation: New Gold Zone Identified at Tanjianshan', 'TSX Venture Exchange Daily Bulletins for August 12, 2009', 'Cancor Mines Inc. Completes Independent NI 43-101 Report for North Tirek Gold Project in Hoggar, Algeria', 'Gold Resource Corporation Receives Federal Open Pit Permit to Mine at Its El Aguila Project', 'Coach Canada: Travel the New Megabus Double-Decker Coach Toronto to Montreal From $1', 'TSX Venture Exchange Daily Bulletins for August 12, 2009', 'Targeted Genetics Corporation Reports Second Quarter 2009 Financial Results and Provides Business Updates', 'HE-5 RESOURCES CORP., Management Provides Updates to Shareholders and Further Information and Precisions on the 2 For 1 Split and Mandatory Share Exchange', 'ML Macadamia Orchards, L.P. Reports 2nd Quarter 2009 Earnings', 'Akorri Continues Market Leadership and Major Growth in First Half of 2009', 'Harvest Announces Closing of Pegasus Oil & Gas Inc. Acquisition', 'Hammond Power Solutions Inc. Statement of Claim Settlement', 'A Detailed Overview of CEE Bank Players', 'Hydrogenics Announces Filing of Revised Consolidated Financial Statements for the Year Ended December 31, 2008', 'Government of Canada Invests in Summer Sports and Contributes to the 2009 ICF Canoe Sprint World Championships', 'Onex Reports Second Quarter 2009 Results', 'Traveling Vietnam Wall Comes to Westlake Village', 'Nortel Celebrates Six-Month Countdown to the Vancouver 2010 Winter Olympic Games', 'GlobeStar Reports Second Quarter 2009 Results', \"Infonetics Research: New survey names carriers' biggest IP/Ethernet backhaul challenges\", \"Significant Client Base Growth and New Products Mark Coveo's 2009 Second Quarter\", 'Ingate Systems Announces Speakers, Schedule for SIP Trunk Seminars at ITEXPO West 2009', 'Seabridge Gold Expands Land Position at KSM Project', 'Unico, Inc. Announces the Posting of a New Photo Gallery Showing Additional Improvements to the Deer Trail Mill and Processing Facility for the Recovery of Gold', 'Denison Mines Corp. Reports Second Quarter Earnings', 'Ur-Energy Identifies New Exploration Targets With Potential for Additional 24-28 Million Pounds U3O8 in the Lost Creek Area', \"China Career Builder Corp's Subsidiary Asian Career Company Ltd. Signed an Executive Search Service Agreement With Yun Tin International Group Ltd of China\", 'Essex Fire Talks Aimed at Resolving the Dispute Over Frontline Cuts Resume Today (Thursday 13th August) at 2 pm', 'Fortress International Group, Inc. Receives Nasdaq Extension Notice to Regain Compliance With Majority of Independent Directors Rule', \"Significant Client Base Growth and New Products Mark Coveo's 2009 Second Quarter\", 'Akorri Continues Market Leadership and Major Growth in First Half of 2009', 'Rocky Mountain Sustainable Enterprises Signs Biodiesel Fuel Supply Agreement With Gray Oil Co, Inc.', 'Gold Resource Corporation Receives Federal Open Pit Permit to Mine at Its El Aguila Project', 'Nortel Pursues Sea of Opportunity With Submarine Network Solutions for Undersea Networks', 'Southern Cross and Nortel Achieve 8,000km 40G Milestone on Submarine Cable', 'Olin to Pursue Registered Debt Offering', 'Allied Nevada Reports Continued Positive Metallurgical Results for Oxide and Sulfide Mineralization', 'Nortel Celebrates Six-Month Countdown to the Vancouver 2010 Winter Olympic Games', 'ML Macadamia Orchards, L.P. Reports 2nd Quarter 2009 Earnings', 'Zargon Energy Trust Announces 2009 Second Quarter Results', 'Congoleum Corporation Reports Second Quarter Results', 'Ace Reports Results of Operations for the Second Quarter of 2009', 'Kinross Declares Dividend Increase', 'Kinross Doubles Revenue and Operating Earnings in Q2', 'Nexen Announces Agreement to Purchase Convertible Subordinated Debentures from Canexus', 'American Defense Systems Reports Record Second Quarter 2009 Financial Results', 'U-Store-It Trust Announces Commencement of Public Offering of Common Shares', 'Procera Networks Announces Second Quarter 2009 Results', 'Menu Foods Income Fund Announces 2009 Second Quarter Results', 'Linear Gold Corp. Announces Resignation of a Director', \"Houghton Mifflin Harcourt's Partners for Literacy Program Provides Deep Discounts for Organizations Looking to Donate Children's Books\", 'Florida Public Utilities Announces Results for the Second Quarter of 2009', 'WorldVest Announces Brazilian Strategic Financial Partnership', 'Kinross Declares Dividend Increase', 'Kinross Doubles Revenue and Operating Earnings in Q2', 'Seabridge Gold Expands Land Position at KSM Project', 'Olin to Pursue Registered Debt Offering', 'Apollo Investment Corporation Prices Public Offering of Common Stock', 'ML Macadamia Orchards, L.P. Reports 2nd Quarter 2009 Earnings', 'Zargon Energy Trust Announces 2009 Second Quarter Results', 'Imperial Capital Advises Cinedigm on Its Recapitalization and $75 Million Financing With Sageview Capital', 'Kinross Doubles Revenue and Operating Earnings in Q2', 'Onex Reports Second Quarter 2009 Results', 'Pethealth Inc. Announces Record Quarterly Net Income of $1,675,000 and Its Full Results for the Quarter and Six Months Ended June 30, 2009', \"Global Bullion Exchange Announces Partnership With Campany's Hilltop Mines\", 'Red Hawk Casino Awards More Than $5.2 Million in Jackpots During July', 'AIC Announces Sub-Advisory Arrangement With Manulife', 'Pyng Growth LLC Acquires Securities of Pyng Medical Corp.', 'Paulson Capital Corp. Reports Profit for Second Quarter 2009', \"Global Bullion Exchange Announces Partnership With Campany's Hilltop Mines\", 'Zargon Energy Trust Announces 2009 Second Quarter Results', 'Denison Mines Corp. Reports Second Quarter Earnings', 'American Defense Systems Reports Record Second Quarter 2009 Financial Results', 'GlobeStar Reports Second Quarter 2009 Results', 'Insignia Energy Ltd. Announces Its 2009 2nd Quarter Results and Provides Second Half 2009 Guidance', 'TSX Venture Exchange Daily Bulletins for August 12, 2009', 'Denison Mines Corp. Reports Second Quarter Earnings', 'Imperial Capital Advises Cinedigm on Its Recapitalization and $75 Million Financing With Sageview Capital', 'New Global Ventures International Inc. Announces Terms of Transaction with Comanche Clean Energy Corporation', \"ParagonReport.com Complimentary Market Analysis on Fannie Mae (NYSE: FNM), Citigroup Inc. (NYSE: C), CIT Group Inc (NYSE: CIT), and Macy's (NYSE: M)\", \"This Fall, It's a 'Season of Personal Discovery' at the Fairmont Scottsdale\", 'Author T.S. Wiley to Give Free Lecture About Menopause and Andropause at Ghost Ranch - Santa Fe', 'Red Hawk Casino Awards More Than $5.2 Million in Jackpots During July', 'ZAP Names Priscilla M. Lu, PhD to Its Board of Directors', 'Treasury Metals Confirms High-Grade Gold Within +3 Kilometre Alteration Corridor, Northeast of the Thunder Lake Gold Deposit', 'FanSnap(R) Secures $5 Million in Funding', 'Paramore Announce Fall Headline Tour; North American Trek to Be Presented by Paramore.net, Fueled by Cisco Eos; The \"Paramore\" Tour Celebrates Release of Grammy-Nominated Band\\'s Third Album; \"Ignorance\" Is a Top 10 Alternative Hit Out of the Box, With Vid', 'First Marblehead to Release Fourth Quarter and Fiscal 2009 Financial Results on August 17, 2009', 'Aurora Launches Development of Optionally Piloted Vehicle Based on the DA42M', 'USAPL Powerlifter Champion Mike Bridges Wins 5th Pan-Am World Title and Breaks World Records, Squat at 804 Lbs', 'Sell My Timeshare NOW Makes Prestigious Inc. 5000 List for Second Consecutive Year', 'Akorri Continues Market Leadership and Major Growth in First Half of 2009', \"Houghton Mifflin Harcourt's Partners for Literacy Program Provides Deep Discounts for Organizations Looking to Donate Children's Books\", \"Home Instead Senior Care of Massachusetts Shares Talking Tips for Seniors & Families on When It's Time to Stop Driving\", 'JavaScript and PHP Use Growing in Open Source, Says Black Duck Software', 'American Defense Systems Reports Record Second Quarter 2009 Financial Results', 'Nemaska Exploration Signs an Option to Purchase the Lac Levac and Lac des Montagnes Properties From Golden Goose Resources', 'Birchcliff Energy Ltd. Announces Second Quarter Financial Results, and Continued Success With Its Montney/Doig Natural Gas Resource Play', 'Pure Energy Services Ltd. Announces Results for the Second Quarter Ended June 30, 2009', 'Grey Horse Reports Second Quarter 2009 Results', 'South American Silver Corp. Files Second Quarter 2009 Financial Statements', 'Fortress International Group, Inc. Receives Nasdaq Extension Notice to Regain Compliance With Majority of Independent Directors Rule', 'Rock Energy Inc. Announces Its Financial and Operational Results for the Period Ended June 30, 2009', 'NeuLion Reports Q2 2009 Results', 'Zargon Energy Trust Announces 2009 Second Quarter Results', 'Denison Mines Corp. Reports Second Quarter Earnings', 'Compass Group, Inc. Changes Brand Name to Compass Clinical Consulting', 'Freehold Royalty Trust Announces 2009 Second Quarter Results and 20% Increase in Monthly Distributions', 'Birchcliff Energy Ltd. Announces Second Quarter Financial Results, and Continued Success With Its Montney/Doig Natural Gas Resource Play', 'Finning Announces Second Quarter Results', 'Morneau Sobeco Announces Positive Second Quarter Results', 'Peyto Energy Trust Announces Second Quarter 2009 Results', 'Black Diamond Income Fund Reports Results for the Second Quarter Ended June 30, 2009', 'New PR Secrets for Pitching Business Desks: New Bulldog Reporter Conference Reveals How to Work With Top Business Reporters in the New Economy', 'CORRECTION FROM SOURCE: Enerflex Reports Second Quarter 2009 Financial Results and Announces Third Quarter 2009 Distributions', 'New Global Ventures International Inc. Announces Terms of Transaction with Comanche Clean Energy Corporation', 'Kinross Doubles Revenue and Operating Earnings in Q2', 'Olin to Pursue Registered Debt Offering', 'Paramore Announce Fall Headline Tour; North American Trek to Be Presented by Paramore.net, Fueled by Cisco Eos; The \"Paramore\" Tour Celebrates Release of Grammy-Nominated Band\\'s Third Album; \"Ignorance\" Is a Top 10 Alternative Hit Out of the Box, With Vid', 'Nortel Pursues Sea of Opportunity With Submarine Network Solutions for Undersea Networks', '2nd Quarter Existing-Home Sales Rise in Most States, Helped by Affordable Metro Prices', \"Infonetics Research: New survey names carriers' biggest IP/Ethernet backhaul challenges\", 'IIROC: Resumption; Nexia Biotechnologies Ltd.', 'Drug Information Provided by Pharma Companies Often Too Complex, According to New Report by Cutting Edge Information', 'Expense Management Network Guarantees $10,000 in Cost Reductions to Health Care Facilities', 'Northern Star to Close Subscription Receipt Financing and Enters Into Off-Take Agreement', 'URSA Major Minerals and Sagamok Anishnawbek First Nation Sign Impacts and Benefits Agreement for Shakespeare Project', 'Government of British Columbia: Huge Industry Interest in Oil and Gas Royalty Program', 'Quetzal Energy Ltd. Announces Non Participation by Petrolatina Energy PLC in Atzam #3 Drilling Program and Drilling of Atzam #3 Update', 'Morneau Sobeco Announces Positive Second Quarter Results', 'White Pine Resources Inc. Announces Private Placement Financing Increase', 'Aurora Launches Development of Optionally Piloted Vehicle Based on the DA42M', 'GlobeStar Reports Second Quarter 2009 Results', 'Seabridge Gold Expands Land Position at KSM Project', 'Vena Resources Reports 2009 Second Quarter Financial Results', 'Denison Mines Corp. Reports Second Quarter Earnings', 'Goldeye Announces Completion of $281,000 Private Placement', 'Teras Enters Into Confidentiality and Standstill Agreement', 'Ur-Energy Identifies New Exploration Targets With Potential for Additional 24-28 Million Pounds U3O8 in the Lost Creek Area', 'Cancor Mines Inc. Completes Independent NI 43-101 Report for North Tirek Gold Project in Hoggar, Algeria', 'Pediment Gold Reports Positive Bench Sample Results From La Colorada, Mexico', 'Treasury Metals Confirms High-Grade Gold Within +3 Kilometre Alteration Corridor, Northeast of the Thunder Lake Gold Deposit', 'SouthGobi Energy Resources Receives Mining Licence For Tsaagan Tolgoi Coal Deposit', 'Paramore Announce Fall Headline Tour; North American Trek to Be Presented by Paramore.net, Fueled by Cisco Eos; The \"Paramore\" Tour Celebrates Release of Grammy-Nominated Band\\'s Third Album; \"Ignorance\" Is a Top 10 Alternative Hit Out of the Box, With Vid', 'Sundance Vacations Honored as One of the Fastest-Growing Private Companies in America', 'Congoleum Corporation Reports Second Quarter Results', 'Imperial Capital Advises Cinedigm on Its Recapitalization and $75 Million Financing With Sageview Capital', 'Endless Vacation Rentals(R) Receives Award for Its YourFatChance.com Vacation Contest', 'Network 1 Financial Group, Inc. Changes Name and Symbol', 'CyberShift to Discuss Role of Expense Management Automation to Detect Fraud at Upcoming NBTA Conference', 'Looking to Recession Proof Your Career? Education Is Key to Securing Your Future', 'TSX Venture Exchange Closing Summary for August 12, 2009', 'Sell My Timeshare NOW Makes Prestigious Inc. 5000 List for Second Consecutive Year', 'Northern Star to Close Subscription Receipt Financing and Enters Into Off-Take Agreement', 'Savant Receives Regulatory Approval of Grant of Option to Selwyn on Vinata Property in Mexico and Begins Exploration of Property', 'Seabridge Gold Expands Land Position at KSM Project', 'TSX Venture Exchange Daily Bulletins for August 12, 2009', 'Nemaska Exploration Signs an Option to Purchase the Lac Levac and Lac des Montagnes Properties From Golden Goose Resources', 'Olin to Pursue Registered Debt Offering', 'Southern Cross and Nortel Achieve 8,000km 40G Milestone on Submarine Cable', 'IIROC: Halt; Petrolifera Patroleum Ltd', 'SP Acquisition Holdings and Frontier Financial Schedule Conference Call for Investors', 'Ainsworth Financial Results for the Second Quarter of 2009', 'New PR Secrets for Pitching Business Desks: New Bulldog Reporter Conference Reveals How to Work With Top Business Reporters in the New Economy', 'TSX Venture Exchange Daily Bulletins for August 12, 2009', 'Zargon Energy Trust Announces 2009 Second Quarter Results', 'PetSmart, Inc. to Host Second Quarter 2009 Earnings Conference Call', 'Peyto Energy Trust Announces Second Quarter 2009 Results', 'TSX Venture Exchange Closing Summary for August 12, 2009', 'New Evidence That the \"Lipstick Effect\" Is at Work in This Recession, According to Unity Marketing', 'PNI Digital Media Sets Record Q3 Revenue with Record Transactions Processed', 'Tranzeo and TRG Produce First 2.3GHz WiMAX Solution for the Indonesian Market', 'Western Areas Commits to Major Expansion at Forrestania', 'Nortel Pursues Sea of Opportunity With Submarine Network Solutions for Undersea Networks', 'Southern Cross and Nortel Achieve 8,000km 40G Milestone on Submarine Cable', 'Allied Nevada Reports Continued Positive Metallurgical Results for Oxide and Sulfide Mineralization', 'Nortel Celebrates Six-Month Countdown to the Vancouver 2010 Winter Olympic Games', 'ML Macadamia Orchards, L.P. Reports 2nd Quarter 2009 Earnings', 'American Defense Systems Reports Record Second Quarter 2009 Financial Results', 'U-Store-It Trust Announces Commencement of Public Offering of Common Shares', 'Targeted Genetics Corporation Reports Second Quarter 2009 Financial Results and Provides Business Updates', \"This Fall, It's a 'Season of Personal Discovery' at the Fairmont Scottsdale\", 'Florida Public Utilities Announces Results for the Second Quarter of 2009', 'Golden Century Signs Letter of Intent With JinXin Copper', 'TSX Venture Exchange Closing Summary for August 12, 2009', 'Kinross Doubles Revenue and Operating Earnings in Q2', 'AirBoss Announces 2nd Quarter 2009 Results', 'Thallion Announces Changes to its Board of Directors and Issuance of Stock Options', \"Given Imaging Announces Results of 2009 Annual Shareholders' Meeting\", 'PNI Digital Media Sets Record Q3 Revenue with Record Transactions Processed', 'Procera Networks Announces Second Quarter 2009 Results', 'Warner Music Group & Cisco Announce Strategic Agreement to Deliver Social Entertainment Experiences to Online Audiences', 'Trueclaim Exploration Inc. Closes $1.29 Million Financing', 'Red Hawk Casino Awards More Than $5.2 Million in Jackpots During July', 'Fully Automatic Defrag Crucial to System Reliability', 'Pyng Medical Announces Closing of Private Placement', 'Apollo Investment Corporation Prices Public Offering of Common Stock', 'Endless Vacation Rentals(R) Receives Award for Its YourFatChance.com Vacation Contest', 'Golden Predator Acquires Mineral Hill Alkalic Gold Property, Crook County, Wyoming', 'RFaxis Secures Zigbee and WLAN Design Wins', 'TSX Venture Exchange Daily Bulletins for August 12, 2009', \"Given Imaging Announces Results of 2009 Annual Shareholders' Meeting\", 'Star Bulk Carriers Corp. Reports Financial Results for the Second Quarter and First Half 2009', 'WiFi Wireless, Inc. Releases 2009 Second Quarter Report', 'TSX Venture Exchange Closing Summary for August 12, 2009', 'TSX Venture Exchange Daily Bulletins for August 12, 2009', 'FanSnap(R) Secures $5 Million in Funding', 'Ace Reports Results of Operations for the Second Quarter of 2009', 'Endless Vacation Rentals(R) Receives Award for Its YourFatChance.com Vacation Contest', 'TSX Venture Exchange Daily Bulletins for August 12, 2009', 'Ecometals Announces Progress on Permits and Planning for Drilling Rio Zarza Gold Project Ecuador', 'Approximately 1,600 Acres of Illinois Farmland Set for Sept. 10 Auctions', 'Government of Canada Invests in Summer Sports and Contributes to the 2009 ICF Canoe Sprint World Championships', 'Silver Standard Announces Exercise of Over-Allotment Option', 'Teck Announces Possible Andacollo Permitting Delay', \"Significant Client Base Growth and New Products Mark Coveo's 2009 Second Quarter\", 'Targeted Genetics Corporation Reports Second Quarter 2009 Financial Results and Provides Business Updates', \"This Fall, It's a 'Season of Personal Discovery' at the Fairmont Scottsdale\", 'NeuLion Reports Q2 2009 Results', 'ShopNBC Second Quarter 2009 Earnings Release and Conference Call Notice', 'Pittsburgh Steelers at Heinz Field Seek Fans to Film Public Service Announcement', 'CONCERT.TV, Another Planet Entertainment and Superfly Presents Merge Forces to Promote Outside Lands Music & Arts Festival', \"Atlantis Technology Group's Subsidiary Global Online Television Announces Projected Sales Revenues Over $50 Million\", 'StarInvest Postpones Closing of EXX.com Acquisition', 'TSX Venture Exchange Daily Bulletins for August 12, 2009', 'Silver Standard Announces Exercise of Over-Allotment Option', 'New Global Ventures International Inc. Announces Terms of Transaction with Comanche Clean Energy Corporation', 'Ur-Energy Identifies New Exploration Targets With Potential for Additional 24-28 Million Pounds U3O8 in the Lost Creek Area', 'Birchcliff Energy Ltd. Announces Second Quarter Financial Results, and Continued Success With Its Montney/Doig Natural Gas Resource Play', 'Birchcliff Energy Ltd. Announces Second Quarter Financial Results, and Continued Success With Its Montney/Doig Natural Gas Resource Play', 'Endless Vacation Rentals(R) Receives Award for Its YourFatChance.com Vacation Contest', 'Finning Announces Second Quarter Results', 'Dockwise Secures USD 27 million in near-term contract awards', 'Golden Predator Acquires Mineral Hill Alkalic Gold Property, Crook County, Wyoming', 'Rule 8.3 (Anglo American Plc)', 'Univest Corporation of Pennsylvania Completes Common Stock Offering', 'Endless Vacation Rentals(R) Receives Award for Its YourFatChance.com Vacation Contest', 'OhMiBod Partners With Hinder to Create Exclusive Band-Themed Vibrator', 'Ingate Systems Announces Speakers, Schedule for SIP Trunk Seminars at ITEXPO West 2009', 'TSX Venture Exchange Closing Summary for August 12, 2009', 'CONCERT.TV, Another Planet Entertainment and Superfly Presents Merge Forces to Promote Outside Lands Music & Arts Festival', 'WEX Reports First Quarter Results', 'Denison Mines Corp. Reports Second Quarter Earnings', 'USAPL Powerlifter Champion Mike Bridges Wins 5th Pan-Am World Title and Breaks World Records, Squat at 804 Lbs', 'Synergx Systems Inc. Receives Nasdaq Delisting Notification', 'Endless Vacation Rentals(R) Receives Award for Its YourFatChance.com Vacation Contest', 'TSX Venture Exchange Daily Bulletins for August 12, 2009']"
        ],
        [
         "39",
         "2009-08-13 00:00:00-04:00",
         "['Fully Automatic Defrag Curtails Unnecessary Hardware Expenditures', 'Bravo Reports Progress at Homestake Ridge', 'Infonetics Research: Security SaaS survey shows McAfee, ScanSafe, Qualys lead in brand awareness', 'Flycell Delivers Mobile Sports Alerts to Fans Across America', 'Turn Your Photos Into Posters. What You Need to Know to Make Beautiful Lasting Memories-Posterjack.ca', \"The Marion Group Announces the Release of Total Safety's 2009-2010 Products and Services Catalog\", \"oDesk's July Results: $65 Million Worth of Job Opportunities\", 'Golden Predator Raises $2,700,000', 'Orsu Metals Corporation Announces Interim Results for the Period Ended 30 June 2009', 'Players Can Win 1,000,000 Wyndham Rewards(R) Points in the Hole-in-One Challenge at 2009 Wyndham Championship', 'Players Can Win 1,000,000 Wyndham Rewards(R) Points in the Hole-in-One Challenge at 2009 Wyndham Championship', 'KIT digital Prices $27.7 Million Public Offering of Common Stock', 'Fairfax Increases Senior Notes Offering to Cdn $400 Million', 'Alturas Signs Agreement With Buenaventura on its Ccaccapaqui Gold-Silver Project in Peru', 'Orex Exploration Inc.: Update From the Goldboro Project, Nova Scotia', 'Orbite Closes its $200,000 Flow-Through Private Placement to Further the Geological Findings at Grande-Vallee', 'Cheyenne Regional Medical Center to Save $400,000 With New Medline Prime Vendor Supply Agreement', 'Crew Gold Corporation Conference Call Details for Financial Results for Quarter and Six Months Ended June 30, 2009', 'MDN Inc.: Net Income of $1,153,330 or $0.012 Per Share', 'Bullfights in Spain: “No mas,” for lack of funding', 'Star Analytics Earns Industry Praise for New Version of the Star Finance Command Center', 'Arsenal Energy Releases Q2 Results', 'Governments of Canada and Newfoundland and Labrador Support Workers Affected by Economic Downturn', \"Datamax-O'Neil's New E-Class Mark II Raises the Industry Standard for Desktop Barcode Printers\", 'Correction: Coalition Urges World-Class Water Strategy for Ontario', 'Government of Canada Takes Action to Help Canadians and Families Maintain a Healthy Lifestyle', 'Coalition Urges Ontarians to Support Development of a World-Class Wa', 'Bakhu Holdings Corp. Announces Memorandum of Understanding With Chinese Solar Manufacturer', \"Kaminak Reports New Gold Occurrences From Yukon's White District: Trenching on the Coffee Property Yields 2.30 g/t Au Over 21.0m\", 'Golden Living Receives 60 Prestigious AHCA/NCAL Quality Awards in 2009', 'NewMarket Technology, Inc. Recognized for Record Revenue Growth as Compiled by Deloitte for the Titan Fast Tech Awards', 'China Crescent Enterprises, Inc. Previews Favorable 2nd Quarter Net Income Surprise in Webcast Presentation on Recent Expansion Into Africa With YTD Financial Report Card', 'Lake Victoria Mining Company: 15 Additional Gold Tailing Piles Average 3.03 Grams per Metric Ton', 'Yellow Pages Companies Launch www.yellowpagesoptout.com to Help Consumers Select Which Directories They Receive', 'Alternative Fuel Technologies Awaiting Technical Review Process on Phase II Proposal', 'NuMobile, Inc. Launches Service in Singapore to Deliver Wireless Internet to Business Travelers and Releases Exclusive Webcast to Review YTD Sales', 'MOSAID Technologies (TSX:MSD) to Release First Quarter Fiscal 2010 Results on August 27, 2009', 'Endeavour Silver Reports Financial and Operating Results for Q2, 2009; Silver Production Up 13%, Cash Costs Down 28% Compared to Q2, 2008', \"Great Plains' Quarter-Ended June 30 2009 Reflects Increased Cash Flow and Production Potential\", 'Tethys Petroleum Limited: Contract Extension for Akkulka and Drilling Update', 'Central Fund of Canada Limited Closes U.S.$131,376,000 Class A Share Issue', 'North Atlantic Revises Terms of Proposed Equity Private Placement', 'Media Advisory: Canadian Heritage', 'Take Notes in Style With Personalized Notebooks', 'Quadra Mining Ltd. Announces 2009 Second Quarter Financial Results', 'Golden Tag Resources Gives ECU Silver Mining Inc. Demand Notice to Cease Unauthorized Removal of Stockpile Material on the San Diego Joint Venture Property', 'New TOEFL(R) Website Designed to Help Students Succeed', 'Crosshair Announces Initial Uranium Resource at Bootheel', 'Nexstar Energy Provides Operations and Corporate Update', 'Mundoro Q2 2009 Financial Results', 'Stella-Jones Reports Solid Second Quarter Results', 'Quest Commences Diamond Drilling at the Strange Lake Rare Earth Project, Northeastern Quebec', 'Arrow DWA Balanced Fund (DWAFX) Reaches New Milestone', 'Emazing Interactive, Inc. Announces Corporate Name Change to ChinaNet Online Holdings, Inc.', 'Allied Nevada: Hycroft Vortex Zone Drilling Returns 55 Feet of 16.85 g/t Gold Equivalent', 'Yadkin Valley Financial Corporation Announces Date for Second Quarter 2009 Financial Results and Conference Call', 'EducationDynamics Announces Appointment of Douglas B. Smith to Chief Financial Officer', \"PharmaGap Advised by U.S. National Cancer Institute of Positive Results of Testing for the Company's Lead Cancer Drug GAP-107B8\", 'New Survey Shows 81 Percent of US Adults Willing to \"Opt-In\" to Receive the White Pages Phone Book to Save the Environment and Tax Dollars', 'KIT digital to Move to NASDAQ Global Market Exchange Today, August 13, 2009, Under the Symbol \"KITD\"', 'Wenzel Downhole Tools Ltd Announces Second Quarter Results for 2009', 'IPL Reports its Results for the Third Quarter of Fiscal 2009', 'First Capital Payments Selects PCI Compliance Provider ControlScan for Their Small Merchant Portfolio', \"MRG's Global OTT Report Shows Internet Video Services Exceeding $11 Billion in 2012, and Internet Set-Top Boxes (ISTBs) Reaching Over 57 Million\", 'Presstek Announces Second Quarter 2009 Financial Results', 'KIT digital to Move to NASDAQ Global Market Exchange on August 14, 2009, Under the Symbol \"KITD\"', 'Syneron Reports Second Quarter 2009 Results', 'Gildan Activewear Announces Fiscal 2009 Third Quarter Results', 'Seakinetics Signs Definitive Agreement With Re-Tech Project Management Inc; Initial Plans Call for Investment of $US 50 Million in Renewable Wind and Wave Energy Projects in India and Israel', 'Cineplex Galaxy Income Fund Reports Record Second Quarter Results', 'PearlParadise.com, Inc. Partners With \"Green\" Pearl Farm, Kamoka Pearls', 'Niko Reports Results for the Three Months Ended June 30, 2009', 'Xtreme Coil Achieves Strong 2009 2Q and Updates Operations', 'Save Time, Increase Productivity and Improve Cash Flow', 'Prudential plc Half Year 2009', 'EURO Ressources : EURO RESSOURCES REPORTS EARNINGS FOR THE SECOND QUARTER AND SIX MONTHS ENDED 30 JUNE, 2009', 'European Goldfields - Q2 Results - News Release', 'CryptoLogic Shows Growth in Core Businesses in Q2', 'Petrobank Records Second Quarter Net Income of $34.7 Million', 'Provident Announces 2009 Second Quarter Results, Acquisition of Sarnia Fractionation Capacity, Decision to Sell Saskatchewan Upstream Assets and August Cash Distribution', 'Tecan records solid business performance in first half of 2009', 'Q-Cells announces comprehensive set of measures', 'GENEART Publishes Financial Results for First Half 2009', \"AAON Added to Standard & Poor's SmallCap 600 Index\", 'Pagemasters, the world leader in the editorial production of fully designed, ready-to-print news pages, teams up with The Canadian Press to serve North American newspapers', 'Pagemasters, the world leader in the editorial production of fully designed, ready-to-print news pages, expands to serve U.S. newspapers', 'Todos AB joins OATH', 'Xtreme Coil Achieves Strong 2009 2Q and Updates Operations', 'Enea Netbricks Protocols Selected by Leading Intelligence Monitoring Vendor', 'KIT digital Prices $27.7 Million Public Offering of Common Stock', 'Dr. Gadget and Mario Lopez Giveaway Exclusive to EXTRA\\'s Online \"Friends\"', 'KIT digital to Move to NASDAQ Global Market Exchange Today, August 13, 2009, Under the Symbol \"KITD\"', 'KIT digital to Move to NASDAQ Global Market Exchange on August 14, 2009, Under the Symbol \"KITD\"', 'Star Analytics Earns Industry Praise for New Version of the Star Finance Command Center', 'Medical Marijuana, Inc. Begins Procedures to Be Quoted on OTC Bulletin Board', 'Yellow Pages Companies Launch www.yellowpagesoptout.com to Help Consumers Select Which Directories They Receive', 'Prudential plc Half Year 2009', 'Infineon Introduces Energy Efficient Single-Chip XWAY WAVE100 Family for Low-Cost 802.11n WLAN Home Gateways', 'AnalystChoice.com Brings You the Best Complimentary Research Report on MDU, NVS, BKS, MA, NGD and NBR', 'Scotland Approves New Onshore Windfarms, an Industrial Info News Alert', 'GENEART Publishes Financial Results for First Half 2009', 'RothmanResearch.com Stock Review for CHRW, AGNC, ESLR, HSTX, ILMN and FNFG', 'Amador Gold to Commence Trenching and Stripping Program on Multiple Vein Sets Discovered on Strike With Recent High-Grade Gold Samples', 'Scotiabank Place Upcoming Events', 'Scotiabank Place Upcoming Events', 'Gildan Activewear Announces Fiscal 2009 Third Quarter Results', 'Allied Nevada: Hycroft Vortex Zone Drilling Returns 55 Feet of 16.85 g/t Gold Equivalent', 'Petrobank Records Second Quarter Net Income of $34.7 Million', 'Major Fertilizer Project Completed in Canada, More to Follow, an Industrial Info News Alert', 'Q-Cells announces comprehensive set of measures', 'Asure Announces Preliminary Fourth Fiscal Quarter 2009 Results', 'Kiska Metals Commences Exploration at Whistler, Alaska', 'Bannerman Appoints Project Director to Lead Etango Project Development', 'AnalystChoice.com Brings You the Best Complimentary Research Report on BEN, CY, FTI, ATU, GS and WAB', 'Kinbauri Board Issues No Recommendation on Orvana Offer', 'WallStSense.com Fundamental & Technical Coverage of CIEN, AVNR, DRIV, BMRN, CTIC and UMPQ', 'Anderson Energy Announces 2009 Second Quarter Results', 'Golden Predator Completes Technical Report, Signs Option Agreement on Brewery Creek Project', 'RothmanResearch.com Stock Review for OSK, CAG, LOW, AZO, MHK and HOC', 'British Columbia Securities Commission: Investment Dealer and Registrant Admit to Contravening Cease Trade Order', \"The Marion Group Announces the Release of Total Safety's 2009-2010 Products and Services Catalog\", 'Sola Adds Further Geological Expertise to Board of Directors', 'Orsu Metals Corporation Announces Interim Results for the Period Ended 30 June 2009', 'Orex Exploration Inc.: Update From the Goldboro Project, Nova Scotia', 'ICOP Announces Results of 2009 Annual Meeting of Stockholders', \"Kaminak Reports New Gold Occurrences From Yukon's White District: Trenching on the Coffee Property Yields 2.30 g/t Au Over 21.0m\", 'Iberian Reports Q2 Condestable Operating Results and Exploration, Aguas Tenidas and Hedging Updates, and Updates 2009/2010 Guidance', 'Canadian Energy Services L.P. Announces Results for the Second Quarter', 'Dirty South Legend E.S.G. to Release New Album \"Everyday Street Gangsta\" on E1 Music September 29th, 2009', 'Juma Reports Second Quarter 2009 Earnings', 'Golden Tag Resources Gives ECU Silver Mining Inc. Demand Notice to Cease Unauthorized Removal of Stockpile Material on the San Diego Joint Venture Property', 'Nexstar Energy Provides Operations and Corporate Update', 'Haida Nation Signs Agreement to Acquire 40 Per Cent of NaiKun Wind Energy Project', 'EducationDynamics Announces Appointment of Douglas B. Smith to Chief Financial Officer', 'RothmanResearch.com Stock Review for BWA, DUK, FNB, IO, BLC and MDC', 'Xtreme Coil Achieves Strong 2009 2Q and Updates Operations', 'Enea Netbricks Protocols Selected by Leading Intelligence Monitoring Vendor', 'Bill Barrett Corporation Announces Appointment of Ed Segner to Its Board of Directors', 'Plutonic Power Issues Progress Update and Second Quarter 2009 Financial Results', \"BC Medical Association: Depression-It's Time for This Illness to Step Out of the Shadows\", 'Tabrio(TM) Connect Provides Increased Call Volume to Auto Dealership Market', \"Great Plains' Quarter-Ended June 30 2009 Reflects Increased Cash Flow and Production Potential\", 'Mundoro Q2 2009 Financial Results', 'Petrobank Records Second Quarter Net Income of $34.7 Million', 'AnalystChoice.com Brings You the Best Complimentary Research Report on BEN, CY, FTI, ATU, GS and WAB', 'BenchmarkJournal.com Free Analyst Review for FTR, MMM, ODP, RRI, BG and PCP', 'TheFortuneFinancial.com Free Market Research on CBG, EP, CTL, LPX, BID and JOE', \"AAON Added to Standard & Poor's SmallCap 600 Index\", 'British Columbia Securities Commission: Investment Dealer and Registrant Admit to Contravening Cease Trade Order', 'Fairfax Increases Senior Notes Offering to Cdn $400 Million', 'WallStSense.com Fundamental & Technical Coverage of CIEN, AVNR, DRIV, BMRN, CTIC and UMPQ', 'RothmanResearch.com Stock Review for IBN, PCX, BRO, ROC, STP and PM', 'Alturas Signs Agreement With Buenaventura on its Ccaccapaqui Gold-Silver Project in Peru', 'AnalystChoice.com Brings You the Best Complimentary Research Report on LFT, MF, CVA, JPM, BX and LXP', 'WallStSense.com Fundamental & Technical Coverage of BZH, ELY, GBG, COP, LM and BKD', 'Fully Automatic Defrag Curtails Unnecessary Hardware Expenditures', \"Intersil's New High-Voltage Precision Operational Amplifier Operates at 20 Percent Lower Noise, Consumes 30 Percent Less Power Than Competing Solutions\", 'Infonetics Research: Security SaaS survey shows McAfee, ScanSafe, Qualys lead in brand awareness', 'Infineon Introduces Energy Efficient Single-Chip XWAY WAVE100 Family for Low-Cost 802.11n WLAN Home Gateways', \"oDesk's July Results: $65 Million Worth of Job Opportunities\", 'Taking on the Oscars: Aberdeen Group Announces the 2009 Marketing Achievement Award Nominees', 'KIT digital Prices $27.7 Million Public Offering of Common Stock', 'New White Paper Reveals Why SAN Defrag Is Needed Today', 'Flash Memory Summit 2009 Awards Best of Show Honors to Infinite Memories, SandForce, SanDisk, Intel and Schooner Information Technology', 'Flash Memory Summit 2009 Awards Best of Show Honors to Infinite Memories, SandForce, SanDisk, Intel and Schooner Information Technology', 'Celebrity Video Distribution Has Banner First Year', \"Chief Bratton to Be Honored at a Farewell Dinner Hosted by Conan O'Brien\", 'Star Analytics Earns Industry Praise for New Version of the Star Finance Command Center', 'Camelot Closing in on Potential Acquisitions', '\"Stock Alert\" Traders Cash-In as 95%+ Profitable Streak Rolls On', \"Salon City's Beauty Entertainment Magazine Set to Debut Premiere Issue\", 'Eldorado Exploration, Inc. Announces Private Placement Offering', 'Golden Living Receives 60 Prestigious AHCA/NCAL Quality Awards in 2009', \"Home Skinovations' Silk'n SensEpil(TM) for Hair Removal the Future of Beauty Is Here\", 'Sandy Steele Unlimited, Inc. Announces Acquisition', 'Seven Arts Appoints New Chief Financial Officer', 'Discovery Channel\\'s \"CASH CAB\" Gets a Little More Mobile', 'Informative Graphics Forms Key Reseller Partnership With Hershey Technologies for Its Redact-It Technology', 'TSS-Radio Named to the Inc. 500 as a Result of Strong Revenue Growth', 'Genius.com Launches Definitive Resource Destination for B2B Sales and Marketing Professionals', 'CallTower Moves Headquarters to Henderson, Nevada', 'ClairMail Powers Mobile Banking for Veridian Credit Union', 'Oracle Unveils Oracle(R) Revenue Management and Billing for Health Insurance', 'American TonerServ Reports Record Revenue and EBITDA for Second Quarter', 'Signature-Based Scanners Miss 88% of Gumblar Attacks', 'Sales Performance Management Goes Web 2.0: New iGoogle Gadget Provides Industry News, Blog and Videos', \"MRG's Global OTT Report Shows Internet Video Services Exceeding $11 Billion in 2012, and Internet Set-Top Boxes (ISTBs) Reaching Over 57 Million\", 'Syneron Reports Second Quarter 2009 Results', 'ChannelNet Launches 5 Millionth Personal Website for Auto Financing Industry', 'PearlParadise.com, Inc. Partners With \"Green\" Pearl Farm, Kamoka Pearls', 'Medical Marijuana, Inc. Begins Procedures to Be Quoted on OTC Bulletin Board', 'RothmanResearch.com Stock Review for OSK, CAG, LOW, AZO, MHK and HOC', 'Sales Performance Management Goes Web 2.0: New iGoogle Gadget Provides Industry News, Blog and Videos', 'Canadian Energy Services L.P. Announces Results for the Second Quarter', 'Discovery Channel\\'s \"CASH CAB\" Gets a Little More Mobile', 'Anderson Energy Announces 2009 Second Quarter Results', 'Crowflight Announces Second Quarter 2009 Financial Results', 'Syneron Reports Second Quarter 2009 Results', 'Provident Announces 2009 Second Quarter Results, Acquisition of Sarnia Fractionation Capacity, Decision to Sell Saskatchewan Upstream Assets and August Cash Distribution', 'TheFortuneFinancial.com Free Market Research on CBG, EP, CTL, LPX, BID and JOE', 'Anderson Energy Announces 2009 Second Quarter Results', 'AnalystChoice.com Brings You the Best Complimentary Research Report on ERIC, CECO, HLIT, VVUS, CPST and ECLP', 'Major Fertilizer Project Completed in Canada, More to Follow, an Industrial Info News Alert', 'BIGresearch Profiles Social Media Users; Not All Created Equal', 'BIGresearch Profiles Social Media Users; Not All Created Equal', 'WallStSense.com Fundamental & Technical Coverage of CIEN, AVNR, DRIV, BMRN, CTIC and UMPQ', 'Discovery Channel\\'s \"CASH CAB\" Gets a Little More Mobile', 'Media Advisory: Ken Georgetti to Speak at NDP Convention', 'Cheyenne Regional Medical Center to Save $400,000 With New Medline Prime Vendor Supply Agreement', '(NYSE Amex: DXR) Daxor Corporation Announces Second Quarter 2009 Earnings and Discusses Implications of Proposed Obama Administration Medicare Heart Failure Reimbursement Policies', 'Quickparts(R) Makes the Inc. Magazine 5000 Fastest-Growing Businesses for the Third Consecutive Year', 'Continental Nickel Files a National Instrument 43-101 Technical Report on SEDAR for the Nachingwea Project, Tanzania', 'Northern Freegold Drills 25 Metres of 2.45 g/t Gold Including 5 Metres of 6.82 g/t Gold At the Nucleus Zone on Its Freegold Mountain Property, Yukon', 'Endeavour Silver Reports Financial and Operating Results for Q2, 2009; Silver Production Up 13%, Cash Costs Down 28% Compared to Q2, 2008', 'Propalms, Inc. Turns the Corner Financially in July', 'WallStSense.com Fundamental & Technical Coverage of FCX, MCD, COO, EPI, ARG and CVS', 'WallStSense.com Fundamental & Technical Coverage of BZH, ELY, GBG, COP, LM and BKD', 'Orsu Metals Corporation Announces Interim Results for the Period Ended 30 June 2009', 'AnalystChoice.com Brings You the Best Complimentary Research Report on ERIC, CECO, HLIT, VVUS, CPST and ECLP', 'Carbonetworks Appoints Managing Director, UK', 'Scotiabank Place Upcoming Events', 'TheFortuneFinancial.com Free Market Research on NLC, MWW, CRK, HOT, MTU and NSR', 'Infonetics Research: Security SaaS survey shows McAfee, ScanSafe, Qualys lead in brand awareness', 'CRS Electronics Announces Sales Increase in July', 'CryptoLogic Shows Growth in Core Businesses in Q2', \"The Marion Group Announces the Release of Total Safety's 2009-2010 Products and Services Catalog\", 'Oracle Unveils Oracle(R) Revenue Management and Billing for Health Insurance', 'TheFortuneFinancial.com Free Market Research on CBG, EP, CTL, LPX, BID and JOE', 'British Columbia Securities Commission: Investment Dealer and Registrant Admit to Contravening Cease Trade Order', 'Open Kernel Labs and NICTA to Deliver Verified Microkernel / Hypervisor Technology to Mobile Market', 'AnalystChoice.com Brings You the Best Complimentary Research Report on LFT, MF, CVA, JPM, BX and LXP', 'MPX Releases Its Results for the Second Quarter of 2009', 'WallStSense.com Fundamental & Technical Coverage of FCX, MCD, COO, EPI, ARG and CVS', 'AnalystChoice.com Brings You the Best Complimentary Research Report on BEN, CY, FTI, ATU, GS and WAB', 'NuView Ranks No. 901 on the Inc. 5000, Reflecting Three-Year Sales Growth of 335.2%', 'Taking on the Oscars: Aberdeen Group Announces the 2009 Marketing Achievement Award Nominees', 'Expo Holdings, Inc. Begins Large Scale Production', 'DealerAdvance Announces Acquisition', \"Goldcorp's Marlin Mine Receives International Cyanide Code Certification\", \"Kaminak Reports New Gold Occurrences From Yukon's White District: Trenching on the Coffee Property Yields 2.30 g/t Au Over 21.0m\", \"Home Skinovations' Silk'n SensEpil(TM) for Hair Removal the Future of Beauty Is Here\", 'Northern Freegold Drills 25 Metres of 2.45 g/t Gold Including 5 Metres of 6.82 g/t Gold At the Nucleus Zone on Its Freegold Mountain Property, Yukon', 'Anderson Energy Announces 2009 Second Quarter Results', 'Golden Tag Resources Gives ECU Silver Mining Inc. Demand Notice to Cease Unauthorized Removal of Stockpile Material on the San Diego Joint Venture Property', 'NACEL Energy Updates Progress in Donley County, Texas', 'Union Dental Anticipates 2nd Quarter 2009 Revenues to Increase 4%', 'Soma Muscle Relaxants Available at OnlineUSHealth.com for Less', 'Quadra Mining Ltd. Announces 2009 Second Quarter Financial Results', 'American TonerServ Reports Record Revenue and EBITDA for Second Quarter', 'Niko Reports Results for the Three Months Ended June 30, 2009', 'Provident Announces 2009 Second Quarter Results, Acquisition of Sarnia Fractionation Capacity, Decision to Sell Saskatchewan Upstream Assets and August Cash Distribution', 'Kinbauri Board Issues No Recommendation on Orvana Offer', 'TheFortuneFinancial.com Free Market Research on HK, MI, ZZ, DFS, MVL and AGP', 'GENEART Publishes Financial Results for First Half 2009', 'Discovery Channel\\'s \"CASH CAB\" Gets a Little More Mobile', \"Home Skinovations' Silk'n SensEpil(TM) for Hair Removal the Future of Beauty Is Here\", 'Presstek Announces Second Quarter 2009 Financial Results', 'WallStSense.com Fundamental & Technical Coverage of CIEN, AVNR, DRIV, BMRN, CTIC and UMPQ', 'TheFortuneFinancial.com Free Market Research on FLEX, BCSI, DRYS, TTEK, DISCA and ETFC', 'RothmanResearch.com Stock Review for BWA, DUK, FNB, IO, BLC and MDC', 'Celebrity Video Distribution Has Banner First Year', 'nFinanSe and Coinstar Sign Distribution Agreement', 'Arrow DWA Balanced Fund (DWAFX) Reaches New Milestone', '(NYSE Amex: DXR) Daxor Corporation Announces Second Quarter 2009 Earnings and Discusses Implications of Proposed Obama Administration Medicare Heart Failure Reimbursement Policies', \"Datamax-O'Neil's New E-Class Mark II Raises the Industry Standard for Desktop Barcode Printers\", 'ICOP Announces Results of 2009 Annual Meeting of Stockholders', 'DealerAdvance Announces Acquisition', 'Beyond Commerce Ramps Up International Expansion by Enhancing Its Executive Team', 'NewMarket Technology, Inc. Recognized for Record Revenue Growth as Compiled by Deloitte for the Titan Fast Tech Awards', 'China Crescent Enterprises, Inc. Previews Favorable 2nd Quarter Net Income Surprise in Webcast Presentation on Recent Expansion Into Africa With YTD Financial Report Card', 'Stoneham Drilling Trust (TSX:SDG.UN): Announces Financial Results for the Second Quarter Ended June 30, 2009', 'Dirty South Legend E.S.G. to Release New Album \"Everyday Street Gangsta\" on E1 Music September 29th, 2009', 'Crosshair Announces Initial Uranium Resource at Bootheel', 'United Treatment Centers, Inc. Announces Definitive Joint Venture Agreement With Pump & Brush Finland Oy', 'American Petro-Hunter Obtains Research Report', 'Allied Nevada: Hycroft Vortex Zone Drilling Returns 55 Feet of 16.85 g/t Gold Equivalent', 'nFinanSe and Coinstar Sign Distribution Agreement', 'Wenzel Downhole Tools Ltd Announces Second Quarter Results for 2009', 'TheFortuneFinancial.com Free Market Research on FLEX, BCSI, DRYS, TTEK, DISCA and ETFC', 'Xtreme Coil Achieves Strong 2009 2Q and Updates Operations', 'EURO Ressources : EURO RESSOURCES REPORTS EARNINGS FOR THE SECOND QUARTER AND SIX MONTHS ENDED 30 JUNE, 2009', 'Compellent Appoints Sherman Black to Board of Directors', 'Prudential plc Half Year 2009', 'Largo Provides Corporate Overview and Project Updates', 'European Goldfields - Q2 Results - News Release', 'Syneron Reports Second Quarter 2009 Results', 'WallStSense.com Fundamental & Technical Coverage of BZH, ELY, GBG, COP, LM and BKD', 'NuView Ranks No. 901 on the Inc. 5000, Reflecting Three-Year Sales Growth of 335.2%', 'Bill Barrett Corporation Announces Appointment of Ed Segner to Its Board of Directors', 'WallStSense.com Fundamental & Technical Coverage of FCX, MCD, COO, EPI, ARG and CVS', 'Star Analytics Earns Industry Praise for New Version of the Star Finance Command Center', 'Stella-Jones Reports Solid Second Quarter Results', 'Gildan Activewear Announces Fiscal 2009 Third Quarter Results', 'AnalystChoice.com Brings You the Best Complimentary Research Report on ERIC, CECO, HLIT, VVUS, CPST and ECLP', 'TheFortuneFinancial.com Free Market Research on FLEX, BCSI, DRYS, TTEK, DISCA and ETFC', 'Dirty South Legend E.S.G. to Release New Album \"Everyday Street Gangsta\" on E1 Music September 29th, 2009', 'Scotland Approves New Onshore Windfarms, an Industrial Info News Alert', 'Golden Predator Raises $2,700,000', 'Endeavour Silver Reports Financial and Operating Results for Q2, 2009; Silver Production Up 13%, Cash Costs Down 28% Compared to Q2, 2008', 'Anderson Energy Announces 2009 Second Quarter Results', 'WallStSense.com Fundamental & Technical Coverage of FCX, MCD, COO, EPI, ARG and CVS', 'Quasar Aerospace Industries, Inc. Announces Herlong Airport Facility Construction Agreement', \"Datamax-O'Neil's New E-Class Mark II Raises the Industry Standard for Desktop Barcode Printers\", 'Breaking News: China America Holdings - August 13, 2009', 'Ahead of the Bell: China America Holdings - August 13, 2009', 'Dynamic Response Group, Inc. Announces the Appointment of S. Wayde Tharp to Head Medicare Compliance and Reimbursement Division for Medico Express', 'CollaborateMD Rank Advances on Inc. 5,000 Fastest-Growing Private Companies List', 'AutoInfo, Inc. Announces Quarterly Results', 'nFinanSe and Coinstar Sign Distribution Agreement', 'Ryder Announces Cross-Border Transportation Management Contract With Procter & Gamble', 'Ryder Announces Cross-Border Transportation Management Contract With Procter & Gamble', 'Union Dental Anticipates 2nd Quarter 2009 Revenues to Increase 4%', 'First Capital Payments Selects PCI Compliance Provider ControlScan for Their Small Merchant Portfolio', 'Soma Muscle Relaxants Available at OnlineUSHealth.com for Less', 'TheFortuneFinancial.com Free Market Research on FLEX, BCSI, DRYS, TTEK, DISCA and ETFC', \"AAON Added to Standard & Poor's SmallCap 600 Index\", 'AnalystChoice.com Brings You the Best Complimentary Research Report on BEN, CY, FTI, ATU, GS and WAB', 'RothmanResearch.com Stock Review for BWA, DUK, FNB, IO, BLC and MDC', 'RothmanResearch.com Stock Review for CHRW, AGNC, ESLR, HSTX, ILMN and FNFG', 'Infonetics Research: Security SaaS survey shows McAfee, ScanSafe, Qualys lead in brand awareness', 'Kinbauri Board Issues No Recommendation on Orvana Offer', 'Orsu Metals Corporation Announces Interim Results for the Period Ended 30 June 2009', 'Anderson Energy Announces 2009 Second Quarter Results', 'EURO Ressources : EURO RESSOURCES REPORTS EARNINGS FOR THE SECOND QUARTER AND SIX MONTHS ENDED 30 JUNE, 2009', 'NextEra Energy Resources LLC Begins Construction of 200-Megawatt Windfarm in Illinois', 'Breaking News: China America Holdings - August 13, 2009', 'Ahead of the Bell: China America Holdings - August 13, 2009', 'Bullfights in Spain: “No mas,” for lack of funding', 'AnalystChoice.com Brings You the Best Complimentary Research Report on BEN, CY, FTI, ATU, GS and WAB', 'WallStSense.com Fundamental & Technical Coverage of EMC, BRY, FTK, DRH, ME and JNPR', 'BenchmarkJournal.com Free Analyst Review for FTR, MMM, ODP, RRI, BG and PCP', 'Golden Predator Completes Technical Report, Signs Option Agreement on Brewery Creek Project', 'Northern Freegold Drills 25 Metres of 2.45 g/t Gold Including 5 Metres of 6.82 g/t Gold At the Nucleus Zone on Its Freegold Mountain Property, Yukon', \"Great Plains' Quarter-Ended June 30 2009 Reflects Increased Cash Flow and Production Potential\", 'Iberian Reports Q2 Condestable Operating Results and Exploration, Aguas Tenidas and Hedging Updates, and Updates 2009/2010 Guidance', 'Dirty South Legend E.S.G. to Release New Album \"Everyday Street Gangsta\" on E1 Music September 29th, 2009', 'Anderson Energy Announces 2009 Second Quarter Results', 'Berens Energy Ltd. Releases Financial Results for the Second Quarter and Six Months Ended June 30, 2009', 'Crosshair Announces Initial Uranium Resource at Bootheel', 'Cineplex Galaxy Income Fund Reports Record Second Quarter Results', 'Fortress International Group, Inc. Reports Second Quarter 2009 Financial Results', 'EURO Ressources : EURO RESSOURCES REPORTS EARNINGS FOR THE SECOND QUARTER AND SIX MONTHS ENDED 30 JUNE, 2009', 'Anderson Energy Announces 2009 Second Quarter Results', 'Gildan Activewear Announces Fiscal 2009 Third Quarter Results', 'Orex Exploration Inc.: Update From the Goldboro Project, Nova Scotia', 'Dr. Gadget and Mario Lopez Giveaway Exclusive to EXTRA\\'s Online \"Friends\"', 'Gold Resource Corporation Clarifies Federal Open Pit Permit Announcement', 'Discovery Channel\\'s \"CASH CAB\" Gets a Little More Mobile', \"MRG's Global OTT Report Shows Internet Video Services Exceeding $11 Billion in 2012, and Internet Set-Top Boxes (ISTBs) Reaching Over 57 Million\", 'Taking on the Oscars: Aberdeen Group Announces the 2009 Marketing Achievement Award Nominees', 'TheFortuneFinancial.com Free Market Research on HK, MI, ZZ, DFS, MVL and AGP', 'AnalystChoice.com Brings You the Best Complimentary Research Report on ERIC, CECO, HLIT, VVUS, CPST and ECLP', \"Salon City's Beauty Entertainment Magazine Set to Debut Premiere Issue\", 'TheFortuneFinancial.com Free Market Research on NLC, MWW, CRK, HOT, MTU and NSR', 'Omniture and MECLABS Group Show Online Marketers How to Increase Conversions Through Landing Page Optimization', 'Omniture and MECLABS Group Show Online Marketers How to Increase Conversions Through Landing Page Optimization', 'RothmanResearch.com Stock Review for IBN, PCX, BRO, ROC, STP and PM', 'Informative Graphics Forms Key Reseller Partnership With Hershey Technologies for Its Redact-It Technology', 'Bravo Reports Progress at Homestake Ridge', 'Bill Barrett Corporation Announces Appointment of Ed Segner to Its Board of Directors', 'Mundoro Q2 2009 Financial Results', 'CryptoLogic Shows Growth in Core Businesses in Q2', 'RothmanResearch.com Stock Review for CHRW, AGNC, ESLR, HSTX, ILMN and FNFG', 'Niko Reports Results for the Three Months Ended June 30, 2009', 'Cineplex Galaxy Income Fund Reports Record Second Quarter Results', 'RothmanResearch.com Stock Review for BWA, DUK, FNB, IO, BLC and MDC', 'Quest Commences Diamond Drilling at the Strange Lake Rare Earth Project, Northeastern Quebec', \"Intersil's New High-Voltage Precision Operational Amplifier Operates at 20 Percent Lower Noise, Consumes 30 Percent Less Power Than Competing Solutions\", 'Orsu Metals Corporation Announces Interim Results for the Period Ended 30 June 2009', 'KIT digital Prices $27.7 Million Public Offering of Common Stock', 'Kiska Metals Commences Exploration at Whistler, Alaska', 'Selwyn Resources Receives Regulatory Approval of Vinata Property Acquisition', 'Tabrio(TM) Connect Provides Increased Call Volume to Auto Dealership Market', 'Tinet Further Expands Its Operations in the US', 'Discovery Channel\\'s \"CASH CAB\" Gets a Little More Mobile', 'CallTower Moves Headquarters to Henderson, Nevada', 'KIT digital to Move to NASDAQ Global Market Exchange Today, August 13, 2009, Under the Symbol \"KITD\"', \"MRG's Global OTT Report Shows Internet Video Services Exceeding $11 Billion in 2012, and Internet Set-Top Boxes (ISTBs) Reaching Over 57 Million\", 'KIT digital to Move to NASDAQ Global Market Exchange on August 14, 2009, Under the Symbol \"KITD\"', 'mvision Designated a Certified Managed Service Provider for TANDBERG Total Service', \"More Than 60 Percent of High Tech Companies Institute Wage Freezes, According to Salary.com's IPAS Global Compensation Survey\", \"More Than 60 Percent of High Tech Companies Institute Wage Freezes, According to Salary.com's IPAS Global Compensation Survey\", 'CCDI Revenues Grows 21.8% and Contracted Sales Increase 43% Over 1Q09', 'United Treatment Centers, Inc. Announces Definitive Joint Venture Agreement With Pump & Brush Finland Oy', 'Seabridge Gold Files Second Quarter 2009 Financial Statements and MD&A', 'Gildan Activewear Announces Fiscal 2009 Third Quarter Results', 'GENEART Publishes Financial Results for First Half 2009', \"Intersil's New High-Voltage Precision Operational Amplifier Operates at 20 Percent Lower Noise, Consumes 30 Percent Less Power Than Competing Solutions\", 'BenchmarkJournal.com Free Analyst Review for BEAV, ISIL, MICC, GYMB, LSCC and MRVL', 'Crosshair Announces Initial Uranium Resource at Bootheel', 'NuView Ranks No. 901 on the Inc. 5000, Reflecting Three-Year Sales Growth of 335.2%', 'Infonetics Research: Security SaaS survey shows McAfee, ScanSafe, Qualys lead in brand awareness', 'Hartco Announces 2009 Second Quarter Results', 'New White Paper Reveals Why SAN Defrag Is Needed Today', 'Third Party Processors Parlay Technology Into Market Growth', 'Star Analytics Earns Industry Praise for New Version of the Star Finance Command Center', 'Genius.com Launches Definitive Resource Destination for B2B Sales and Marketing Professionals', 'Open Kernel Labs and NICTA to Deliver Verified Microkernel / Hypervisor Technology to Mobile Market', 'Fortress International Group, Inc. Reports Second Quarter 2009 Financial Results', 'mvision Designated a Certified Managed Service Provider for TANDBERG Total Service', 'Ivernia Receives All-Clear to Commence Containerized Lead Carbonate Shipments Through Fremantle Port', 'WallStSense.com Fundamental & Technical Coverage of EMC, BRY, FTK, DRH, ME and JNPR', 'TheFortuneFinancial.com Free Market Research on CBG, EP, CTL, LPX, BID and JOE', 'Golden Tag Resources Gives ECU Silver Mining Inc. Demand Notice to Cease Unauthorized Removal of Stockpile Material on the San Diego Joint Venture Property', 'Niko Reports Results for the Three Months Ended June 30, 2009', 'Orsu Metals Corporation Announces Interim Results for the Period Ended 30 June 2009', 'Government of Canada Supports Innovative Research and Development in New Brunswick', 'American Petro-Hunter Obtains Research Report', 'NACEL Energy Updates Progress in Donley County, Texas', 'Allied Nevada: Hycroft Vortex Zone Drilling Returns 55 Feet of 16.85 g/t Gold Equivalent', 'nFinanSe and Coinstar Sign Distribution Agreement', 'China America Holdings Reports Financial Results for the Second Quarter and First Six Months of 2009', 'Presstek Announces Second Quarter 2009 Financial Results', 'Gold Resource Corporation Clarifies Federal Open Pit Permit Announcement', 'Seabridge Gold Files Second Quarter 2009 Financial Statements and MD&A', 'Asure Announces Preliminary Fourth Fiscal Quarter 2009 Results', 'Taking on the Oscars: Aberdeen Group Announces the 2009 Marketing Achievement Award Nominees', 'Bill Barrett Corporation Announces Appointment of Ed Segner to Its Board of Directors', 'The Governments of Canada and Quebec Provide the Municipality of Berthier-sur-Mer With a First Payment of $225,757 From the Transfer of a Portion of the Federal Gas Tax Revenues...', 'ICOP Announces Results of 2009 Annual Meeting of Stockholders', 'Quickparts(R) Makes the Inc. Magazine 5000 Fastest-Growing Businesses for the Third Consecutive Year', 'Canadian Energy Services L.P. Announces Results for the Second Quarter', 'Anderson Energy Announces 2009 Second Quarter Results', 'CWRN: B.O.D Extends 90 Day Freeze on Issuing Free Trading Shares', 'Alliance HealthCard Reports Fiscal 2009 Third Quarter Results', 'Provident Announces 2009 Second Quarter Results, Acquisition of Sarnia Fractionation Capacity, Decision to Sell Saskatchewan Upstream Assets and August Cash Distribution', 'Berens Energy Ltd. Releases Financial Results for the Second Quarter and Six Months Ended June 30, 2009', 'Largo Provides Corporate Overview and Project Updates', 'Alturas Signs Agreement With Buenaventura on its Ccaccapaqui Gold-Silver Project in Peru', 'AnalystChoice.com Brings You the Best Complimentary Research Report on ERIC, CECO, HLIT, VVUS, CPST and ECLP', 'WallStSense.com Fundamental & Technical Coverage of BZH, ELY, GBG, COP, LM and BKD', 'China America Holdings Reports Financial Results for the Second Quarter and First Six Months of 2009', 'Syneron Reports Second Quarter 2009 Results', 'RothmanResearch.com Stock Review for OSK, CAG, LOW, AZO, MHK and HOC', 'TheFortuneFinancial.com Free Market Research on CBG, EP, CTL, LPX, BID and JOE', 'BenchmarkJournal.com Free Analyst Review for BEAV, ISIL, MICC, GYMB, LSCC and MRVL', 'AnalystChoice.com Brings You the Best Complimentary Research Report on LFT, MF, CVA, JPM, BX and LXP', 'Orex Exploration Inc.: Update From the Goldboro Project, Nova Scotia', 'Golden Predator Completes Technical Report, Signs Option Agreement on Brewery Creek Project', 'Maine & Maritimes Corporation Announces 2009 Second Quarter Earnings Results', 'Golden Living Receives 60 Prestigious AHCA/NCAL Quality Awards in 2009', 'Endeavour Silver Reports Financial and Operating Results for Q2, 2009; Silver Production Up 13%, Cash Costs Down 28% Compared to Q2, 2008', 'Anderson Energy Announces 2009 Second Quarter Results', 'Juma Reports Second Quarter 2009 Earnings', 'Xtreme Coil Achieves Strong 2009 2Q and Updates Operations', 'Prudential plc Half Year 2009', 'Tecan records solid business performance in first half of 2009', 'Taking on the Oscars: Aberdeen Group Announces the 2009 Marketing Achievement Award Nominees', \"More Than 60 Percent of High Tech Companies Institute Wage Freezes, According to Salary.com's IPAS Global Compensation Survey\", \"More Than 60 Percent of High Tech Companies Institute Wage Freezes, According to Salary.com's IPAS Global Compensation Survey\", 'Virgin HealthMiles and the STOP Obesity Alliance Rally Corporate America to Create Healthier Workplace Communities', 'Adult Ad Network MediaJerky.com Officially Launches', 'Golden Living Receives 60 Prestigious AHCA/NCAL Quality Awards in 2009', 'tapMatch Named \"Best Search Engine Ad Platform\" by Search Engine Watch', 'AnalystChoice.com Brings You the Best Complimentary Research Report on MDU, NVS, BKS, MA, NGD and NBR', 'Social Networking Tools to Become a Staple in the Enterprise Environment', 'Niko Reports Results for the Three Months Ended June 30, 2009', 'Infineon Introduces Energy Efficient Single-Chip XWAY WAVE100 Family for Low-Cost 802.11n WLAN Home Gateways', 'Berens Energy Ltd. Releases Financial Results for the Second Quarter and Six Months Ended June 30, 2009', 'Kiska Metals Commences Exploration at Whistler, Alaska', 'Hartco Announces 2009 Second Quarter Results', 'Orsu Metals Corporation Announces Interim Results for the Period Ended 30 June 2009', 'Arsenal Energy Releases Q2 Results', 'BioElectronics Launches Direct Response Television Initiative', 'Endeavour Silver Reports Financial and Operating Results for Q2, 2009; Silver Production Up 13%, Cash Costs Down 28% Compared to Q2, 2008', 'Stoneham Drilling Trust (TSX:SDG.UN): Announces Financial Results for the Second Quarter Ended June 30, 2009', \"Great Plains' Quarter-Ended June 30 2009 Reflects Increased Cash Flow and Production Potential\", 'Canadian Energy Services L.P. Announces Results for the Second Quarter', 'Berens Energy Ltd. Releases Financial Results for the Second Quarter and Six Months Ended June 30, 2009', 'Quadra Mining Ltd. Announces 2009 Second Quarter Financial Results', 'Eastern Platinum Reports Results for the Three Months Ended June 30, 2009', 'Arrow DWA Balanced Fund (DWAFX) Reaches New Milestone', 'Crowflight Announces Second Quarter 2009 Financial Results', 'Gildan Activewear Announces Fiscal 2009 Third Quarter Results', 'Fortress International Group, Inc. Reports Second Quarter 2009 Financial Results', 'Niko Reports Results for the Three Months Ended June 30, 2009', 'Xtreme Coil Achieves Strong 2009 2Q and Updates Operations', 'Provident Announces 2009 Second Quarter Results, Acquisition of Sarnia Fractionation Capacity, Decision to Sell Saskatchewan Upstream Assets and August Cash Distribution', 'RothmanResearch.com Stock Review for BWA, DUK, FNB, IO, BLC and MDC', 'AnalystChoice.com Brings You the Best Complimentary Research Report on MDU, NVS, BKS, MA, NGD and NBR', 'RothmanResearch.com Stock Review for OSK, CAG, LOW, AZO, MHK and HOC', 'Flycell Delivers Mobile Sports Alerts to Fans Across America', 'Provident Announces 2009 Second Quarter Results, Acquisition of Sarnia Fractionation Capacity, Decision to Sell Saskatchewan Upstream Assets and August Cash Distribution', 'BenchmarkJournal.com Free Analyst Review for FTR, MMM, ODP, RRI, BG and PCP', 'Gourmet Popcorn Store, The Big Popper, Partners With Camp BizSmart to Support Literacy Programs', 'Get Smart About Paying for College', 'Golden Living Receives 60 Prestigious AHCA/NCAL Quality Awards in 2009', 'MPX Releases Its Results for the Second Quarter of 2009', 'Commercial Announces Resignation of Chief Operating Officer', 'BenchmarkJournal.com Free Analyst Review for BEAV, ISIL, MICC, GYMB, LSCC and MRVL', 'New Survey Shows 81 Percent of US Adults Willing to \"Opt-In\" to Receive the White Pages Phone Book to Save the Environment and Tax Dollars', 'ARI(R) Enhanced Online Selector Tool Tiers Green, Greener and Greenest Choices', \"Bozeman's Ted's Montana Grill Celebrates Presidential Visit With One-Day-Only 'Barack Obama Burger'\", 'TheFortuneFinancial.com Free Market Research on NLC, MWW, CRK, HOT, MTU and NSR', 'Plutonic Power Issues Progress Update and Second Quarter 2009 Financial Results', 'NACEL Energy Updates Progress in Donley County, Texas', 'Seakinetics Signs Definitive Agreement With Re-Tech Project Management Inc; Initial Plans Call for Investment of $US 50 Million in Renewable Wind and Wave Energy Projects in India and Israel', 'Scotland Approves New Onshore Windfarms, an Industrial Info News Alert', \"Great Plains' Quarter-Ended June 30 2009 Reflects Increased Cash Flow and Production Potential\", 'NeoStem CEO Interviewed on CorporateProfile.com', 'Players Can Win 1,000,000 Wyndham Rewards(R) Points in the Hole-in-One Challenge at 2009 Wyndham Championship', 'Players Can Win 1,000,000 Wyndham Rewards(R) Points in the Hole-in-One Challenge at 2009 Wyndham Championship', 'Expo Holdings, Inc. Begins Large Scale Production', 'Internet Summit\\'s \"Demo Showcase\" Announces Call for Top Early-Stage Internet-Centric Firms', 'Golden Living Receives 60 Prestigious AHCA/NCAL Quality Awards in 2009', 'NuMobile, Inc. Launches Service in Singapore to Deliver Wireless Internet to Business Travelers and Releases Exclusive Webcast to Review YTD Sales', 'Yadkin Valley Financial Corporation Announces Date for Second Quarter 2009 Financial Results and Conference Call', \"PharmaGap Advised by U.S. National Cancer Institute of Positive Results of Testing for the Company's Lead Cancer Drug GAP-107B8\", 'Golden Living Receives 60 Prestigious AHCA/NCAL Quality Awards in 2009', 'Silver Bullion Trust Agent Exercises Its Over-Allotment Option', 'North Atlantic Revises Terms of Proposed Equity Private Placement', 'OtterBox Rewards College-Bound Student With Entrepreneurial Scholarship', 'Largo Provides Corporate Overview and Project Updates', 'Orex Exploration Inc.: Update From the Goldboro Project, Nova Scotia', 'Golden Predator Completes Technical Report, Signs Option Agreement on Brewery Creek Project', 'Mega Uranium Ltd. Releases Unaudited Results for the Three and Nine Months Ended June 30, 2009', 'Northern Freegold Drills 25 Metres of 2.45 g/t Gold Including 5 Metres of 6.82 g/t Gold At the Nucleus Zone on Its Freegold Mountain Property, Yukon', 'Quadra Mining Ltd. Announces 2009 Second Quarter Financial Results', 'Crosshair Announces Initial Uranium Resource at Bootheel', 'Continental Nickel Files a National Instrument 43-101 Technical Report on SEDAR for the Nachingwea Project, Tanzania', 'Cinedigm Digital Cinema Corp. Sets Annual Meeting of Shareholders', 'ARI(R) Enhanced Online Selector Tool Tiers Green, Greener and Greenest Choices', 'Yellow Pages Companies Launch www.yellowpagesoptout.com to Help Consumers Select Which Directories They Receive', 'New TOEFL(R) Website Designed to Help Students Succeed', 'EducationDynamics Announces Appointment of Douglas B. Smith to Chief Financial Officer', 'Cineplex Galaxy Income Fund Reports Record Second Quarter Results', 'Tinet Further Expands Its Operations in the US', 'Alturas Signs Agreement With Buenaventura on its Ccaccapaqui Gold-Silver Project in Peru', 'Continental Nickel Files a National Instrument 43-101 Technical Report on SEDAR for the Nachingwea Project, Tanzania', 'TheFortuneFinancial.com Free Market Research on NLC, MWW, CRK, HOT, MTU and NSR', 'AnalystChoice.com Brings You the Best Complimentary Research Report on MDU, NVS, BKS, MA, NGD and NBR', 'BenchmarkJournal.com Free Analyst Review for FTR, MMM, ODP, RRI, BG and PCP', 'Orex Exploration Inc.: Update From the Goldboro Project, Nova Scotia', 'RothmanResearch.com Stock Review for OSK, CAG, LOW, AZO, MHK and HOC', 'First Majestic Silver Joins OTCQX', 'BenchmarkJournal.com Free Analyst Review for FTR, MMM, ODP, RRI, BG and PCP', 'IIROC: Resumption; Petrolifera Petroleum Limited', 'BenchmarkJournal.com Free Analyst Review for CBE, RCL, STT, PDS, MUR and PCU', 'Best Western\\'s Second Annual \"Fan Swap\" Gives Fans the Chance to Swap Jobs With Driver Michael Waltrip', 'Ondine Biopharma Announces Second Quarter 2009 Financial Results', 'Government of Canada Takes Action to Help Canadians and Families Maintain a Healthy Lifestyle', 'Berens Energy Ltd. Releases Financial Results for the Second Quarter and Six Months Ended June 30, 2009', 'Stella-Jones Reports Solid Second Quarter Results', 'Informative Graphics Forms Key Reseller Partnership With Hershey Technologies for Its Redact-It Technology', 'Eldorado Exploration, Inc. Announces Private Placement Offering', 'Todos AB joins OATH', 'Issue of Equity', 'Scotiabank Place Upcoming Events', 'Clenergen Corporation (OTCBB:CRGE) Announces Acquisition', 'How to Stay Cool While Saving Fuel: Delphi Offers Useful Tips to Help Drivers Enhance Fuel Economy During A/C Use', '(NYSE Amex: DXR) Daxor Corporation Announces Second Quarter 2009 Earnings and Discusses Implications of Proposed Obama Administration Medicare Heart Failure Reimbursement Policies', 'American Petro-Hunter Obtains Research Report', 'Allied Nevada: Hycroft Vortex Zone Drilling Returns 55 Feet of 16.85 g/t Gold Equivalent', 'Omniture and MECLABS Group Show Online Marketers How to Increase Conversions Through Landing Page Optimization', 'Omniture and MECLABS Group Show Online Marketers How to Increase Conversions Through Landing Page Optimization', 'Sunergy Reports Update on Operations on Its 150 sq. km. Ghana Mining Concession', 'Presstek Announces Second Quarter 2009 Financial Results', 'Q-Cells announces comprehensive set of measures', 'Hartco Announces 2009 Second Quarter Results', 'Mark Senner, President, Reports: Sirona Biochem Receives Financial Contribution From NRC-IRAP', 'MPX Releases Its Results for the Second Quarter of 2009', 'CCDI Revenues Grows 21.8% and Contracted Sales Increase 43% Over 1Q09', 'Evogene Reports Second Quarter 2009 Financial Results', 'North Atlantic Revises Terms of Proposed Equity Private Placement', 'Ondine Biopharma Announces Second Quarter 2009 Financial Results', 'Ryder Announces Cross-Border Transportation Management Contract With Procter & Gamble', 'Ryder Announces Cross-Border Transportation Management Contract With Procter & Gamble', 'Syneron Reports Second Quarter 2009 Results', 'Todos AB joins OATH', 'Xtreme Coil Achieves Strong 2009 2Q and Updates Operations', 'CryptoLogic Shows Growth in Core Businesses in Q2', 'Tecan records solid business performance in first half of 2009', 'Q-Cells announces comprehensive set of measures', 'GENEART Publishes Financial Results for First Half 2009', 'Fairfax Increases Senior Notes Offering to Cdn $400 Million', 'Anderson Energy Announces 2009 Second Quarter Results', 'European Goldfields - Q2 Results - News Release', 'Players Can Win 1,000,000 Wyndham Rewards(R) Points in the Hole-in-One Challenge at 2009 Wyndham Championship', 'Players Can Win 1,000,000 Wyndham Rewards(R) Points in the Hole-in-One Challenge at 2009 Wyndham Championship', 'BenchmarkJournal.com Free Analyst Review for CBE, RCL, STT, PDS, MUR and PCU', 'Infineon Introduces Energy Efficient Single-Chip XWAY WAVE100 Family for Low-Cost 802.11n WLAN Home Gateways', 'Cellular Specialties Showcases Public Safety, In-Building Wireless Deployment Solutions at APCO2009', 'MPX Releases Its Results for the Second Quarter of 2009', 'EBX: 63X Master Fund Announces Acquisition of Additional Shares of Ventana Gold Corp.', 'EBX: 63X Master Fund Announces Acquisition of Additional Shares of Ventana Gold Corp.', 'Provident Announces 2009 Second Quarter Results, Acquisition of Sarnia Fractionation Capacity, Decision to Sell Saskatchewan Upstream Assets and August Cash Distribution', 'RothmanResearch.com Stock Review for IBN, PCX, BRO, ROC, STP and PM', 'Infonetics Research: Security SaaS survey shows McAfee, ScanSafe, Qualys lead in brand awareness', 'Gold-Ore Reports Ronnberget Drill Results, Sweden', 'Flash Memory Summit 2009 Awards Best of Show Honors to Infinite Memories, SandForce, SanDisk, Intel and Schooner Information Technology', 'Flash Memory Summit 2009 Awards Best of Show Honors to Infinite Memories, SandForce, SanDisk, Intel and Schooner Information Technology', 'Quadra Mining Ltd. Announces 2009 Second Quarter Financial Results', 'BDA Recognized as Top Distributor by National Industry Rankings', 'Experian Simmons Television BehaviorGraphics(TM) Finds New Competitive Cooking Segment', 'Flash Memory Summit 2009 Awards Best of Show Honors to Infinite Memories, SandForce, SanDisk, Intel and Schooner Information Technology', 'Flash Memory Summit 2009 Awards Best of Show Honors to Infinite Memories, SandForce, SanDisk, Intel and Schooner Information Technology', 'CRS Electronics Announces Sales Increase in July', 'Selwyn Resources Receives Regulatory Approval of Vinata Property Acquisition', 'Tecan records solid business performance in first half of 2009', 'Clenergen Corporation (OTCBB:CRGE) Announces Acquisition', 'Star Analytics Earns Industry Praise for New Version of the Star Finance Command Center', 'Plutonic Power Issues Progress Update and Second Quarter 2009 Financial Results', 'Turn Your Photos Into Posters. What You Need to Know to Make Beautiful Lasting Memories-Posterjack.ca', 'Dynamic Announces Appointment of John Hultink as Chairman, Tim Masek as a Director', 'Information Update: Health Canada Reviewing Possible Association of Asthma Drug Xolair (Omalizumab) With Increased Risk of Cardiovascular Problems', 'Tabrio(TM) Connect Provides Increased Call Volume to Auto Dealership Market', 'Canadian Energy Services L.P. Announces Results for the Second Quarter', 'Ondine Biopharma Announces Second Quarter 2009 Financial Results', 'Petrobank Records Second Quarter Net Income of $34.7 Million', 'TSS-Radio Named to the Inc. 500 as a Result of Strong Revenue Growth', 'TheFortuneFinancial.com Free Market Research on FLEX, BCSI, DRYS, TTEK, DISCA and ETFC', 'Celebrity Video Distribution Has Banner First Year', 'BIGresearch Profiles Social Media Users; Not All Created Equal', 'BIGresearch Profiles Social Media Users; Not All Created Equal', 'Discovery Channel\\'s \"CASH CAB\" Gets a Little More Mobile', 'Emazing Interactive, Inc. Announces Corporate Name Change to ChinaNet Online Holdings, Inc.', 'Pagemasters, the world leader in the editorial production of fully designed, ready-to-print news pages, teams up with The Canadian Press to serve North American newspapers', 'Pagemasters, the world leader in the editorial production of fully designed, ready-to-print news pages, expands to serve U.S. newspapers', \"MRG's Global OTT Report Shows Internet Video Services Exceeding $11 Billion in 2012, and Internet Set-Top Boxes (ISTBs) Reaching Over 57 Million\", \"The Marion Group Announces the Release of Total Safety's 2009-2010 Products and Services Catalog\", 'Asure Announces Preliminary Fourth Fiscal Quarter 2009 Results', 'DealerAdvance Announces Acquisition', 'NewMarket Technology, Inc. Recognized for Record Revenue Growth as Compiled by Deloitte for the Titan Fast Tech Awards', 'China Crescent Enterprises, Inc. Previews Favorable 2nd Quarter Net Income Surprise in Webcast Presentation on Recent Expansion Into Africa With YTD Financial Report Card', \"Tootie Pie Company Buys Benny's Bagels\", 'CWRN: B.O.D Extends 90 Day Freeze on Issuing Free Trading Shares', 'Major Fertilizer Project Completed in Canada, More to Follow, an Industrial Info News Alert', 'Boeing May Use 787 Dreamliner Program as Stick in Ongoing Fight With Union, an Industrial Info News Alert', 'NextEra Energy Resources LLC Begins Construction of 200-Megawatt Windfarm in Illinois', 'Union Dental Anticipates 2nd Quarter 2009 Revenues to Increase 4%', 'Wereldhave Announces the Successful Pricing of Its Convertible Bonds; Prices Euro 230 Million of 5-Year Senior Unsecured Convertible Bonds', 'WallStSense.com Fundamental & Technical Coverage of CIEN, AVNR, DRIV, BMRN, CTIC and UMPQ', 'Crosshair Announces Initial Uranium Resource at Bootheel', 'Infineon Introduces Energy Efficient Single-Chip XWAY WAVE100 Family for Low-Cost 802.11n WLAN Home Gateways', 'Golden Predator Completes Technical Report, Signs Option Agreement on Brewery Creek Project', 'Rule 8.3 Anlgo American Plc', 'Selwyn Resources Receives Regulatory Approval of Vinata Property Acquisition', 'Gastem Signs New LOI with Utica Energy for NYS Properties', 'Grande Cache Coal Corporation Announces First Quarter Fiscal 2010 Financial and Operating Results', 'Crowflight Announces Second Quarter 2009 Financial Results', \"MRG's Global OTT Report Shows Internet Video Services Exceeding $11 Billion in 2012, and Internet Set-Top Boxes (ISTBs) Reaching Over 57 Million\", 'Xtreme Coil Achieves Strong 2009 2Q and Updates Operations', 'Tecan records solid business performance in first half of 2009', 'Best Western\\'s Second Annual \"Fan Swap\" Gives Fans the Chance to Swap Jobs With Driver Michael Waltrip', 'New Vishay Video Library Features Product Demonstrations for Design Engineers', 'AnalystChoice.com Brings You the Best Complimentary Research Report on ERIC, CECO, HLIT, VVUS, CPST and ECLP', 'AnalystChoice.com Brings You the Best Complimentary Research Report on BEN, CY, FTI, ATU, GS and WAB', 'Players Can Win 1,000,000 Wyndham Rewards(R) Points in the Hole-in-One Challenge at 2009 Wyndham Championship', 'Players Can Win 1,000,000 Wyndham Rewards(R) Points in the Hole-in-One Challenge at 2009 Wyndham Championship', 'FAA Orders Fleet of Electric Trucks From ZAP', 'Quest Commences Diamond Drilling at the Strange Lake Rare Earth Project, Northeastern Quebec']"
        ],
        [
         "40",
         "2009-08-16 00:00:00-04:00",
         "[\"Software News: It's a Cloud World\", 'How to Invest in Private Equity Through Public Markets', 'Equity ETF Graphic Offers Stunning Contrast', 'Sixes and Twelves', 'Earnings Preview: 3 Companies That Could Surprise', 'Hansen Poised to Benefit from New Products, International Expansion', 'Canadian Housing Market Rebounds', 'Not Bullish - Yet', 'Predicting Gas Prices: August-December 2009', 'Two Life Science Companies Manage to Pry Open IPO Window', 'Global Markets in Review: Has Pullback Begun With China?', 'EXACT Sciences: 8 Points Following Q2 Earnings', \"Why China Won't Pop Its Bubble\", 'Shorts on Aegon Up Over 100% Since June', '16 Companies that Raised Dividends 10% or More for the Last Nine Years', 'Shorts on E*Trade Up 286% Since June', 'July Economic Indicators: CPI Down, Industrial Production Up', 'More on the Great Housing Recovery Debate', 'Why Buying Gold Is a Political Statement', 'Two Life Science Companies Manage to Pry Open IPO Window', \"Unlocking Access Pharma's Value: Key Upcoming Catalysts\", \"Guaranty Financial: Private Equity Bidders Not Allowed Even as Monday's Deadline Approaches\", 'Colonial Bank: The Cycle Is Complete', 'How to Invest in Private Equity Through Public Markets', 'Berkshire Hathaway’s Portfolio Changes for Q2 2009', 'I Like BHP Billiton, But It May Be Due for a Big Pullback', 'Two Life Science Companies Manage to Pry Open IPO Window', '16 Companies that Raised Dividends 10% or More for the Last Nine Years', 'Bank of Montreal, Bank of Nova Scotia Get Ratings Adjustments', 'Bank of Montreal, Bank of Nova Scotia Get Ratings Adjustments', '16 Companies that Raised Dividends 10% or More for the Last Nine Years', 'Somanetics: Medical Technology Company Worth Monitoring', 'Somanetics: Medical Technology Company Worth Monitoring', \"Buffett's Recent Portfolio Changes: What's the Message?\", 'EXACT Sciences: 8 Points Following Q2 Earnings', 'EXACT Sciences: 8 Points Following Q2 Earnings', 'Two Life Science Companies Manage to Pry Open IPO Window', 'Ackman Did not Sell General Growth Shares', 'Just Another China Bubble', 'Two Life Science Companies Manage to Pry Open IPO Window', \"Regulators Block Citadel's Proposed E*Trade Transaction\", 'Shorts on E*Trade Up 286% Since June', \"Michael Vick Joins Electronic Arts' Last Hurrah\", 'Two Life Science Companies Manage to Pry Open IPO Window', 'Bank of Montreal, Bank of Nova Scotia Get Ratings Adjustments', \"Regulators Block Citadel's Proposed E*Trade Transaction\", 'Shorts on E*Trade Up 286% Since June', \"Buffett's Recent Portfolio Changes: What's the Message?\", '16 Companies that Raised Dividends 10% or More for the Last Nine Years', \"Leveraged ETFs Have Become a Day Trader's Dream Come True\", 'Just Another China Bubble', 'The Art of Value Investing - An Interview with Guy Spier', \"Garmin's Nuvifone: Why I Don't Expect It to Gain Much Traction\", \"Garmin's Nuvifone: Why I Don't Expect It to Gain Much Traction\", 'Two Life Science Companies Manage to Pry Open IPO Window', 'Earnings Preview: 3 Companies That Could Surprise', \"Buffett's Recent Portfolio Changes: What's the Message?\", 'Why Buying Gold Is a Political Statement', 'International Speedway: Poised to Win', 'Two Life Science Companies Manage to Pry Open IPO Window', 'Kimberly-Clark Promises More Sustainable Kleenex', \"Buffett's Recent Portfolio Changes: What's the Message?\", \"Time to Refill on Coca-Cola Shares - Barron's\", \"What's Changing: Market's Status, Key Factors\", \"Fractured Wall Street Fairy Tales #3: It's a Kinder, Gentler, Chastened Wall Street\", '16 Companies that Raised Dividends 10% or More for the Last Nine Years', 'Two Life Science Companies Manage to Pry Open IPO Window', \"Unlocking Access Pharma's Value: Key Upcoming Catalysts\", '16 Companies that Raised Dividends 10% or More for the Last Nine Years', \"Barron's Interviews T. Rowe Price's Joe Milano\", \"Nokia / Microsoft Threat to RIM Is 'Limited' - UBS\", \"On Norway's Petroleum Sector\", '16 Companies that Raised Dividends 10% or More for the Last Nine Years', 'Back to School Shoppers Hit the Web Early', 'Pocket Change Portfolio Update: July 2009', 'Shorts on Aegon Up Over 100% Since June', '16 Companies that Raised Dividends 10% or More for the Last Nine Years', 'Goldman Sachs Principal Transactions Update: 826 Million Shares', 'Shorts on Aegon Up Over 100% Since June', \"Unlocking Access Pharma's Value: Key Upcoming Catalysts\", 'EXACT Sciences: 8 Points Following Q2 Earnings', 'iPhone 3GS Owners Are Happy, Good for Apple', 'Canadian Banks: Q3 Earnings Preview', 'Two Life Science Companies Manage to Pry Open IPO Window', \"Southwest Airlines' Missed Opportunity: Frontier Goes to Republic\", 'Shorts on E*Trade Up 286% Since June', 'Shorts on E*Trade Up 286% Since June', 'Two Life Science Companies Manage to Pry Open IPO Window', 'Stock Watch: SIRI, ACTC.PK, BMSN.OB, CSUH.OB, CRYP', 'The Media Has Difficulty Realizing the Liberty Deal Is Not Bad for Sirius', 'Back to School Shoppers Hit the Web Early', 'Shorts on E*Trade Up 286% Since June', '16 Companies that Raised Dividends 10% or More for the Last Nine Years', 'Tinayin Pharma Adds Two New Products to TCM Portfolio', \"Cramer's Mad Money - 25 Rules for Defensive Investing (8/14/09)\", 'Why No One Won a Pulitzer for Financial Reporting, Part 1', 'Sam Stovall: Stocks Overbought, Correction Due, Bull Market Ahead', 'Two Life Science Companies Manage to Pry Open IPO Window', 'Why Vodafone Is Mispriced', 'Weekly ETF Rewind: Markets Take a Breather', 'ETF Rewind - Week 33 (08/14/09)', 'Weekly ETF Rewind: Markets Take a Breather', 'ETF Rewind - Week 33 (08/14/09)', 'Weekly ETF Rewind: Markets Take a Breather', 'ETF Rewind - Week 33 (08/14/09)']"
        ],
        [
         "41",
         "2009-08-17 00:00:00-04:00",
         "['Expect a Selloff for Brocade', 'Oyo Geospace Streamlines in Anticipation of the Rebound', 'U.S. Corporate Defaults Already Higher than 2008 Total', 'Internet Employment Contributes 2% of U.S. Economic Output', 'Is Your Smartphone Secure?', 'Is Comcast Eyeing Mickey Mouse?', 'Austrian CB Will Sell Next to No Gold Until 2014', 'Unclear Which Way the Pound Will Move', 'American Banks Looking Japanese', 'Four Fairly Valued Media Stocks', 'Earnings Preview: Agilent Technologies', 'Is This Rally Nearing an End?', 'How Do the S&P and Gold Correlate?', 'A TALF Leverage Overview', \"'Amend and Extend': Saving the Day for Many Leveraged Companies\", 'Three Innovative Ways to Hedge Inflation', \"Revisiting 'The Warren Buffett Way' in This Recession\", 'Market’s Excessive P/E Ratio', 'Looks Like the Markets Will End Their Upward Run', 'Palm Pre Test Drive', 'Why China Buys U.S. Treasuries', 'China vs. the U.S.- Who Will Blink First?', 'Monsoon Worries, Consumption Slowdown Plague Indian Economy', 'Wall Street Breakfast: Must-Know News', \"Microsoft's First Big Newspaper Partnership\", \"Chain Restaurants Q2 Earnings: What's Going On?\", 'What Kind of Market Rally Is This?', 'An FXI View of China: Chart of the Week', 'Will the Market Crash?', 'Software Industry Trends: Synopsis Currently Very Attractive', 'Asian Tech Stock Weekly Summary (August 10–16, 2009)', 'Autodesk: Not Out of the Woods Yet, Despite Earnings Call Optimism', 'Basic Material Stocks We Find Attractive', 'Are Investors Fleeing to Quality Trades?', 'How Do the S&P and Gold Correlate?', \"BB&T-Colonial Deal Illustrates It's the Big Bank Chiefs Who Win Again\", 'BB&T: How to Buy Troubled Assets Without the Trouble', 'Wall Street Breakfast: Must-Know News', 'Wall Street Breakfast: Must-Know News', \"Ahead of Earnings Blackmont Analyzes Canada's Big Six\", \"July's Top Performing Asian and Latin American ADRs\", 'Expect a Selloff for Brocade', \"Blackstone's Bond Issuance Spooks Credit Markets\", \"Chain Restaurants Q2 Earnings: What's Going On?\", \"Byron Wien Hire a Sign of Blackstone's Newly Diversified Status\", \"Blackstone's Bond Issuance Spooks Credit Markets\", 'Wall Street Breakfast: Must-Know News', \"Chain Restaurants Q2 Earnings: What's Going On?\", 'Fed July Loan Officer Survey: The Crunch Continues', 'Cellcom Israel Ltd. Q2 2009 Earnings Call Transcript', 'Asian Tech Stock Weekly Summary (August 10–16, 2009)', 'Software Industry Trends: Synopsis Currently Very Attractive', 'Asian Tech Stock Weekly Summary (August 10–16, 2009)', 'Asian Tech Stock Weekly Summary (August 10–16, 2009)', 'Asian Tech Stock Weekly Summary (August 10–16, 2009)', 'Unclear Which Way the Pound Will Move', 'Load Up on Coal: Play the Upcoming Senate Brawl Over Cap-and-Trade', 'Software Industry Trends: Synopsis Currently Very Attractive', 'Asian Tech Stock Weekly Summary (August 10–16, 2009)', 'DRI Corporation: Leveraging Mass Transit into Growing Earnings', 'New Media Economics: Hollywood Battles Rivals, Diminishing Returns', 'Autodesk: Not Out of the Woods Yet, Despite Earnings Call Optimism', 'Tiger Woods 10 for Wii: An Electronic Arts Epiphany', 'Market at Another Turning Point', \"Emerging Markets: Weak Link in Bull's Armor\", 'Earnings Preview: Agilent Technologies', \"Sentiment Flat Ahead of Hewlett Packard's Earnings Release\", 'Earnings Preview: The Home Depot', 'Earnings Preview: Target Corp.', 'Wall Street Breakfast: Must-Know News', 'Smith-Midland Reports Concrete Earnings', 'DRI Corporation: Leveraging Mass Transit into Growing Earnings', 'Asian Tech Stock Weekly Summary (August 10–16, 2009)', 'Express Scripts: Betting on Healthcare Reform', 'Three Innovative Ways to Hedge Inflation', \"Emerging Markets: Weak Link in Bull's Armor\", \"Emerging Markets: Weak Link in Bull's Armor\", 'EZCorp: Profiting from Tough Times', 'Copper Feels the Pressure as Commodities Start to Fade', 'Fuel Systems Solutions: Could Cramer Be Right This Time?', 'China vs. the U.S.- Who Will Blink First?', 'Good Morning Vietnam ETF', \"Chain Restaurants Q2 Earnings: What's Going On?\", 'Is Goodfellow a Good Value?', 'Sector Performance Summary for August 10-14th', \"Is Comcast's Triple Play Campaign Scoring Any Runs?\", 'Earnings Preview: The Home Depot', 'HDFC Bank Continues to Perform Solidly', 'Sector Performance Summary for August 10-14th', 'Asian Tech Stock Weekly Summary (August 10–16, 2009)', 'Is This Rally Nearing an End?', 'HDFC Bank Continues to Perform Solidly', 'Is This Rally Nearing an End?', 'Wall Street Breakfast: Must-Know News', 'Software Industry Trends: Synopsis Currently Very Attractive', 'Software Industry Trends: Synopsis Currently Very Attractive', 'Recession Is Over, But Happy Days Have Yet to Return', 'When Good Will Turns Bad', 'Asian Tech Stock Weekly Summary (August 10–16, 2009)', 'Software Industry Trends: Synopsis Currently Very Attractive', 'ETF Trends: Momentum Meets Resistance as Economic Reality Meets Investors', 'Kimberly-Clark Dividend Stock Analysis', 'Monsoon Worries, Consumption Slowdown Plague Indian Economy', \"Trends and Themes Gleaned from Funds' 13F Filings\", 'Monday Options Recap', \"Lowe's F2Q09 (Qtr End 7/31/09) Earnings Call Transcript\", 'Wall Street Breakfast: Must-Know News', \"BB&T-Colonial Deal Illustrates It's the Big Bank Chiefs Who Win Again\", 'Citigroup Gets Approval to Make Market in Chinese Bonds, Extending Asia Pacific Strategy', \"Byron Wien Hire a Sign of Blackstone's Newly Diversified Status\", 'Debt Problem Poses Two-Sided Threat to the Fed', 'Bank Failures Way Up', 'Book Review - Reading Minds and Markets', 'Morgans Hotel: A Zombie Company Bleeding Cash and Defaulting on Loans', 'China vs. the U.S.- Who Will Blink First?', 'Is Goodfellow a Good Value?', 'Natural Gas ETF Suspends New Shares: Are There Alternatives?', 'Asian Tech Stock Weekly Summary (August 10–16, 2009)', 'Asian Tech Stock Weekly Summary (August 10–16, 2009)', \"NetEase: WWJ2's New Expansion Has Mediocre Start\", \"MySpace's Buys iLike: Sign of the Times\", 'Positive News Ahead for Oculus Innovative Sciences', 'PDL BioPharma: High Dividend Biotech Stock', \"Chain Restaurants Q2 Earnings: What's Going On?\", 'An Explanation for the Current Collective Anger', \"Japan's Q2 Recovery Already Discounted\", 'Software Industry Trends: Synopsis Currently Very Attractive', 'Four Fairly Valued Media Stocks', \"Chain Restaurants Q2 Earnings: What's Going On?\", 'When Good Will Turns Bad', 'Software Industry Trends: Synopsis Currently Very Attractive', \"Chain Restaurants Q2 Earnings: What's Going On?\", 'Sloppiness at Rosetta Stone', 'Sector Performance Summary for August 10-14th', \"Chain Restaurants Q2 Earnings: What's Going On?\", 'Sirius XM and Mainstream Media Critiques', 'Three Innovative Ways to Hedge Inflation', 'Software Industry Trends: Synopsis Currently Very Attractive', 'Earnings Preview: Target Corp.', 'China vs. the U.S.- Who Will Blink First?', \"MySpace's Buys iLike: Sign of the Times\", 'Wall Street Breakfast: Must-Know News', 'Three Innovative Ways to Hedge Inflation', 'Toyota Mulls Shutting NUMMI Plant, Could Impact 50,000 Jobs in California', 'Asian Tech Stock Weekly Summary (August 10–16, 2009)', \"Is Comcast's Triple Play Campaign Scoring Any Runs?\", 'Asian Tech Stock Weekly Summary (August 10–16, 2009)', 'Is Comcast Eyeing Mickey Mouse?', 'Asian Tech Stock Weekly Summary (August 10–16, 2009)', 'Wall Street Breakfast: Must-Know News', 'Asian Tech Stock Weekly Summary (August 10–16, 2009)', 'Will Investors See a Bounce in the Yen?', 'Unclear Which Way the Pound Will Move', 'Interesting Stocks, Aussie-Style', 'Is Comcast Eyeing Mickey Mouse?', 'Stock Watch: TTNP, VNDA, DNDN, AGEN, ONTY', 'Are the Telcos Shrinking?', \"Chain Restaurants Q2 Earnings: What's Going On?\"]"
        ],
        [
         "42",
         "2009-08-18 00:00:00-04:00",
         "['Why I think SKBI will do $3 EPS in 2009 and $3+ in 2010', 'Why I think SKBI will do $3 EPS in 2009 and $3+ in 2010', 'FDA issues Warning Letter to Johnson & Johnson (JNJ)', 'Trading Update QID', 'Why I think SKBI will do $3 EPS in 2009 and $3+ in 2010', 'SYSCO & P&G still look good']"
        ],
        [
         "43",
         "2009-08-19 00:00:00-04:00",
         "['Hedging Using Residential Real Estate Exchange Traded Securities (DMM, UMM)', 'ETF Rewind - Addition of Bounded DV-2', 'ETF Rewind - Addition of Bounded DV-2']"
        ],
        [
         "44",
         "2009-08-21 00:00:00-04:00",
         "['A Little Gain For the Fall Season (ARO)', 'J.M. Smucker (SJM) fiscal 1Q earnings top expectations', 'J.M. Smucker (SJM) fiscal 1Q earnings top expectations', 'Report criticizes Yahoo (YHOO) over prescription-drug ads', '08.21.09 - Big OPEX Move', 'EURO surges on Bernanke Comments and US Homes Sales', 'Key Forex Risks 21st August 2009']"
        ],
        [
         "45",
         "2009-08-22 00:00:00-04:00",
         "['More on the Gender Gap for NAEP Test Scores', 'Markets In Everything: Bribes for Ph.D. Degrees', 'ETF Rewind - Week 34 (08/21/09)', 'Honda (HMC) to sell electric cars in US']"
        ],
        [
         "46",
         "2009-08-23 00:00:00-04:00",
         "['The Problems with Nitrous Oxide: CARS Exhausts $3 Billion in One Month and Everyone is Smiling :)', 'U.S. Travel to Canada Declines By 76% Since 2001', 'MELA - Speculative Second Half 2009 Stock', 'U.S. Travel to Canada Declines By 76% Since 2001', 'MELA - Speculative Second Half 2009 Stock', 'Will USD Still Plummet in Coming Week?']"
        ],
        [
         "47",
         "2009-08-24 00:00:00-04:00",
         "[\"Panasonic (PC) leans on `Avatar' movie for 3-D PR blitz\", 'GUEST POST - Sean Rakhimov on the Troubles with Forecasting', 'Mazda (MZA) to advance dealers clunkers payments', 'Cash for Clunkers, Bad News for Repair Shops: \"The Gov.t Is Using My Own Money to Hurt My Business\"', 'Boutiques need to look beyond advisory business', 'Nokia (NOK) to make laptop, jumping on wireless trend', 'Toyota (TM) to make largest auto recall in China', 'New Big Mac Index: Working Time To Buy Big Mac', 'Slight EUR/USD Retreat during Quiet Night']"
        ],
        [
         "48",
         "2009-08-25 00:00:00-04:00",
         "['2009 Math SAT Scores Are In: Gender Gap Persists', 'What if There Is No Plan A?', 'Watch Perfectly Good Assets Being Destroyed', 'Activision (ATVI) new games will boost company, says Deutsche Bank (DB)', 'What if There Is No Plan A?', 'Basic Energy (BAS) earnings may increase soon, says Wunderlich', \"Yale's Econ Ph.D. Program Summer Math Camp\", \"Kauffman Foundation's Economics Blogger Forum\", 'Genzyme Allston update at Deutsche Bank (DB)', 'Activision (ATVI) new games will boost company, says Deutsche Bank (DB)', 'USD Consumer Confidence Beats All Expectations', 'Dynamics Research (DRCO) awarded $3.4M contract from U.S. Air Force', 'EnerNOC (ENOC) contract approved by California Public Utilities Commission', 'Time Warner (TWX) initiated at Wells Fargo (WFC)', 'Morgan Stanley (MS) estimates lowered at Rochdale', 'Frontline (FRO) may see a short squeeze on Q2 report, says JP Morgan(JPM)', 'General Dynamics (GD) selects Tellabs (TLAB) to support Army base modernization', 'Gulfport Energy (GPOR) target raised to $12 from $8.25 at Wunderlich', 'Signers of \"Tax-Me\" Petition Can Pay Right Now', 'Intelli-check (IDN) receives ATO from U.S. Marine Corps', 'IXYS Corp (IXYS) awarded major contract from BAE Systems', 'Jacobs (JEC) Receives Technical Services Subcontract for Dept. of Homeland Security', 'KBR, Inc. target raised to $29 from $24 at Broadpoint AmTech', 'LivePerson (LPSN) will likely raise prices further, says Roth Capital', 'Signers of \"Tax-Me\" Petition Can Pay Right Now', 'Signers of \"Tax-Me\" Petition Can Pay Right Now', 'MICROS Systems (MCRS) target raised to $35 from $27 at Oppenheimer (OPY)', 'OmniVision (OVTI) should be bought ahead of earnings, says Broadpoint AmTech', 'Online travel agents volume accelerating, says Soleil', 'Parker Drilling (PKD) awarded two year O&M contract', 'Doug Kass Thinks The Market Will Fall Today (DOG, QID, SH, DXD, SDS)', 'Doug Kass Thinks The Market Will Fall Today (DOG, QID, SH, DXD, SDS)', 'Sysco (SYY) reaches agreement with IRS', 'Time Warner (TWX) initiated at Wells Fargo (WFC)', 'Domtar (UFS) target raised to $50 from $40 at RBC Capital', 'USD Consumer Confidence Beats All Expectations', 'Will USD Consumer Confidence be a Market Mover?', 'Volcano (VOLC), Siemens Healthcare announce global resale agreement']"
        ],
        [
         "49",
         "2009-08-26 00:00:00-04:00",
         "['Baltic Dry Index Update', 'Marlin Business Services Corp., (MRLN) Partners with Advanced Data Systems', 'Affymetrix Clinical Services Lab (AFFX) and NuGEN Technologies to Collaborate', 'Alcatel-Lucent(ALU) to Provide and Maintain an IP/MPLS Backbone in Ten provinces in China', 'Arotech Corporation (ARTX) Received New Orders in Excess of $1.5M', 'Dow Theory: Non-confirmation of rally?', 'Nymox Pharmaceutical Corporation (NYMX) Announces Lead Drug in Development Shows Positive Results', 'HSAs: Putting Patients In Charge of the Rationing', 'Alcatel-Lucent(ALU) to Provide and Maintain an IP/MPLS Backbone in Ten provinces in China', 'Isle of Capri (ISLE) Misses Q1 View', 'ITC Holdings Corp (ITC) entered into an expression of interest with NorthWestern Energy (NWE)', 'Krispy Kreme (KKD) to Release Q2 Fiscal 2010 Results', 'Drop in Revenue for RADA Electronic Industries Ltd. for Q2', 'Marlin Business Services Corp., (MRLN) Partners with Advanced Data Systems', 'Nokia (NOK) Introduced Nokia Money', 'ITC Holdings Corp (ITC) entered into an expression of interest with NorthWestern Energy (NWE)', 'Nymox Pharmaceutical Corporation (NYMX) Announces Lead Drug in Development Shows Positive Results', 'Possible Shorts', 'Drop in Revenue for RADA Electronic Industries Ltd. for Q2', \"Is Roubini's Double-Dip in Focus?\"]"
        ]
       ],
       "shape": {
        "columns": 2,
        "rows": 39957
       }
      },
      "text/html": [
       "<div>\n",
       "<style scoped>\n",
       "    .dataframe tbody tr th:only-of-type {\n",
       "        vertical-align: middle;\n",
       "    }\n",
       "\n",
       "    .dataframe tbody tr th {\n",
       "        vertical-align: top;\n",
       "    }\n",
       "\n",
       "    .dataframe thead th {\n",
       "        text-align: right;\n",
       "    }\n",
       "</style>\n",
       "<table border=\"1\" class=\"dataframe\">\n",
       "  <thead>\n",
       "    <tr style=\"text-align: right;\">\n",
       "      <th></th>\n",
       "      <th>date</th>\n",
       "      <th>headline</th>\n",
       "    </tr>\n",
       "  </thead>\n",
       "  <tbody>\n",
       "    <tr>\n",
       "      <th>0</th>\n",
       "      <td>2009-02-14 00:00:00-04:00</td>\n",
       "      <td>[How Treasuries and ETFs Work]</td>\n",
       "    </tr>\n",
       "    <tr>\n",
       "      <th>1</th>\n",
       "      <td>2009-04-27 00:00:00-04:00</td>\n",
       "      <td>[Update on the Luxury Sector: 2nd Quarter 2009...</td>\n",
       "    </tr>\n",
       "    <tr>\n",
       "      <th>2</th>\n",
       "      <td>2009-04-29 00:00:00-04:00</td>\n",
       "      <td>[Going Against the Herd]</td>\n",
       "    </tr>\n",
       "    <tr>\n",
       "      <th>3</th>\n",
       "      <td>2009-05-22 00:00:00-04:00</td>\n",
       "      <td>[Charles Sizemore Radio Interview Saturday Mor...</td>\n",
       "    </tr>\n",
       "    <tr>\n",
       "      <th>4</th>\n",
       "      <td>2009-05-27 00:00:00-04:00</td>\n",
       "      <td>[MRM a $15-$20+ stock - FIT new information - ...</td>\n",
       "    </tr>\n",
       "    <tr>\n",
       "      <th>...</th>\n",
       "      <td>...</td>\n",
       "      <td>...</td>\n",
       "    </tr>\n",
       "    <tr>\n",
       "      <th>39952</th>\n",
       "      <td>2020-06-11 16:49:41-04:00</td>\n",
       "      <td>[7 Stocks Moving In Thursday's After-Hours Ses...</td>\n",
       "    </tr>\n",
       "    <tr>\n",
       "      <th>39953</th>\n",
       "      <td>2020-06-11 16:51:33-04:00</td>\n",
       "      <td>[Financials, Energy Among Worst-Hit Sectors In...</td>\n",
       "    </tr>\n",
       "    <tr>\n",
       "      <th>39954</th>\n",
       "      <td>2020-06-11 17:01:39-04:00</td>\n",
       "      <td>[Twitter Removes About 174,000 China-Linked Ac...</td>\n",
       "    </tr>\n",
       "    <tr>\n",
       "      <th>39955</th>\n",
       "      <td>2020-06-11 17:11:20-04:00</td>\n",
       "      <td>[PG&amp;E Corp Reports CPUC Approved Co.'s Microgr...</td>\n",
       "    </tr>\n",
       "    <tr>\n",
       "      <th>39956</th>\n",
       "      <td>2020-06-11 17:12:35-04:00</td>\n",
       "      <td>[Quicken Loans Plans To IPO: Report]</td>\n",
       "    </tr>\n",
       "  </tbody>\n",
       "</table>\n",
       "<p>39957 rows × 2 columns</p>\n",
       "</div>"
      ],
      "text/plain": [
       "                           date  \\\n",
       "0     2009-02-14 00:00:00-04:00   \n",
       "1     2009-04-27 00:00:00-04:00   \n",
       "2     2009-04-29 00:00:00-04:00   \n",
       "3     2009-05-22 00:00:00-04:00   \n",
       "4     2009-05-27 00:00:00-04:00   \n",
       "...                         ...   \n",
       "39952 2020-06-11 16:49:41-04:00   \n",
       "39953 2020-06-11 16:51:33-04:00   \n",
       "39954 2020-06-11 17:01:39-04:00   \n",
       "39955 2020-06-11 17:11:20-04:00   \n",
       "39956 2020-06-11 17:12:35-04:00   \n",
       "\n",
       "                                                headline  \n",
       "0                         [How Treasuries and ETFs Work]  \n",
       "1      [Update on the Luxury Sector: 2nd Quarter 2009...  \n",
       "2                               [Going Against the Herd]  \n",
       "3      [Charles Sizemore Radio Interview Saturday Mor...  \n",
       "4      [MRM a $15-$20+ stock - FIT new information - ...  \n",
       "...                                                  ...  \n",
       "39952  [7 Stocks Moving In Thursday's After-Hours Ses...  \n",
       "39953  [Financials, Energy Among Worst-Hit Sectors In...  \n",
       "39954  [Twitter Removes About 174,000 China-Linked Ac...  \n",
       "39955  [PG&E Corp Reports CPUC Approved Co.'s Microgr...  \n",
       "39956               [Quicken Loans Plans To IPO: Report]  \n",
       "\n",
       "[39957 rows x 2 columns]"
      ]
     },
     "execution_count": 6,
     "metadata": {},
     "output_type": "execute_result"
    }
   ],
   "source": [
    "# extracting headlines by date \n",
    "daily_news = news_data.groupby('date')['headline'].apply(list).reset_index()\n",
    "daily_news"
   ]
  },
  {
   "cell_type": "markdown",
   "id": "ddac421f",
   "metadata": {},
   "source": [
    "#### reading stock data"
   ]
  },
  {
   "cell_type": "code",
   "execution_count": 12,
   "id": "79d36f89",
   "metadata": {},
   "outputs": [
    {
     "data": {
      "application/vnd.microsoft.datawrangler.viewer.v0+json": {
       "columns": [
        {
         "name": "index",
         "rawType": "int64",
         "type": "integer"
        },
        {
         "name": "date",
         "rawType": "datetime64[ns]",
         "type": "datetime"
        },
        {
         "name": "open",
         "rawType": "float64",
         "type": "float"
        },
        {
         "name": "high",
         "rawType": "float64",
         "type": "float"
        },
        {
         "name": "low",
         "rawType": "float64",
         "type": "float"
        },
        {
         "name": "close",
         "rawType": "float64",
         "type": "float"
        },
        {
         "name": "adj_close",
         "rawType": "float64",
         "type": "float"
        },
        {
         "name": "volume",
         "rawType": "int64",
         "type": "integer"
        },
        {
         "name": "dividends",
         "rawType": "float64",
         "type": "float"
        },
        {
         "name": "stock_splits",
         "rawType": "float64",
         "type": "float"
        },
        {
         "name": "ticker",
         "rawType": "object",
         "type": "string"
        }
       ],
       "ref": "4724be78-b8ad-47df-bb5f-dfe09f5030e2",
       "rows": [
        [
         "0",
         "1980-12-12 00:00:00",
         "0.1283479928970337",
         "0.1289059966802597",
         "0.1283479928970337",
         "0.1283479928970337",
         "0.098943218588829",
         "469033600",
         "0.0",
         "0.0",
         "AAPL"
        ],
        [
         "1",
         "1980-12-15 00:00:00",
         "0.1222100034356117",
         "0.1222100034356117",
         "0.1216519996523857",
         "0.1216519996523857",
         "0.093781292438507",
         "175884800",
         "0.0",
         "0.0",
         "AAPL"
        ],
        [
         "2",
         "1980-12-16 00:00:00",
         "0.1132809966802597",
         "0.1132809966802597",
         "0.1127230003476142",
         "0.1127230003476142",
         "0.0868979692459106",
         "105728000",
         "0.0",
         "0.0",
         "AAPL"
        ],
        [
         "3",
         "1980-12-17 00:00:00",
         "0.1155129969120025",
         "0.1160710006952285",
         "0.1155129969120025",
         "0.1155129969120025",
         "0.089048758149147",
         "86441600",
         "0.0",
         "0.0",
         "AAPL"
        ],
        [
         "4",
         "1980-12-18 00:00:00",
         "0.1188620030879974",
         "0.1194199994206428",
         "0.1188620030879974",
         "0.1188620030879974",
         "0.0916304588317871",
         "73449600",
         "0.0",
         "0.0",
         "AAPL"
        ],
        [
         "5",
         "1980-12-19 00:00:00",
         "0.1261159926652908",
         "0.1266739964485168",
         "0.1261159926652908",
         "0.1261159926652908",
         "0.0972226113080978",
         "48630400",
         "0.0",
         "0.0",
         "AAPL"
        ],
        [
         "6",
         "1980-12-22 00:00:00",
         "0.1322540044784546",
         "0.1328130066394806",
         "0.1322540044784546",
         "0.1322540044784546",
         "0.1019543036818504",
         "37363200",
         "0.0",
         "0.0",
         "AAPL"
        ],
        [
         "7",
         "1980-12-23 00:00:00",
         "0.1378349959850311",
         "0.1383929997682571",
         "0.1378349959850311",
         "0.1378349959850311",
         "0.10625671595335",
         "46950400",
         "0.0",
         "0.0",
         "AAPL"
        ],
        [
         "8",
         "1980-12-24 00:00:00",
         "0.1450890004634857",
         "0.1456470042467117",
         "0.1450890004634857",
         "0.1450890004634857",
         "0.1118487864732742",
         "48003200",
         "0.0",
         "0.0",
         "AAPL"
        ],
        [
         "9",
         "1980-12-26 00:00:00",
         "0.1584820002317428",
         "0.1590400040149688",
         "0.1584820002317428",
         "0.1584820002317428",
         "0.1221734583377838",
         "55574400",
         "0.0",
         "0.0",
         "AAPL"
        ],
        [
         "10",
         "1980-12-29 00:00:00",
         "0.1607140004634857",
         "0.1612720042467117",
         "0.1607140004634857",
         "0.1607140004634857",
         "0.1238940879702568",
         "93161600",
         "0.0",
         "0.0",
         "AAPL"
        ],
        [
         "11",
         "1980-12-30 00:00:00",
         "0.1573659926652908",
         "0.1573659926652908",
         "0.156808003783226",
         "0.156808003783226",
         "0.1208830177783966",
         "68880000",
         "0.0",
         "0.0",
         "AAPL"
        ],
        [
         "12",
         "1980-12-31 00:00:00",
         "0.1529020071029663",
         "0.1529020071029663",
         "0.1523440033197403",
         "0.1523440033197403",
         "0.1174416616559028",
         "35750400",
         "0.0",
         "0.0",
         "AAPL"
        ],
        [
         "13",
         "1981-01-02 00:00:00",
         "0.1540179997682571",
         "0.1551340073347091",
         "0.1540179997682571",
         "0.1540179997682571",
         "0.118732064962387",
         "21660800",
         "0.0",
         "0.0",
         "AAPL"
        ],
        [
         "14",
         "1981-01-05 00:00:00",
         "0.1512279957532882",
         "0.1512279957532882",
         "0.1506700068712234",
         "0.1506700068712234",
         "0.1161512359976768",
         "35728000",
         "0.0",
         "0.0",
         "AAPL"
        ],
        [
         "15",
         "1981-01-06 00:00:00",
         "0.1445309966802597",
         "0.1445309966802597",
         "0.1439729928970337",
         "0.1439729928970337",
         "0.1109885200858116",
         "45158400",
         "0.0",
         "0.0",
         "AAPL"
        ],
        [
         "16",
         "1981-01-07 00:00:00",
         "0.1383929997682571",
         "0.1383929997682571",
         "0.1378349959850311",
         "0.1378349959850311",
         "0.10625671595335",
         "55686400",
         "0.0",
         "0.0",
         "AAPL"
        ],
        [
         "17",
         "1981-01-08 00:00:00",
         "0.1356029957532882",
         "0.1356029957532882",
         "0.1350450068712234",
         "0.1350450068712234",
         "0.104105919599533",
         "39827200",
         "0.0",
         "0.0",
         "AAPL"
        ],
        [
         "18",
         "1981-01-09 00:00:00",
         "0.1422989964485168",
         "0.1428570002317428",
         "0.1422989964485168",
         "0.1422989964485168",
         "0.109698012471199",
         "21504000",
         "0.0",
         "0.0",
         "AAPL"
        ],
        [
         "19",
         "1981-01-12 00:00:00",
         "0.1422989964485168",
         "0.1422989964485168",
         "0.141183003783226",
         "0.141183003783226",
         "0.1088377460837364",
         "23699200",
         "0.0",
         "0.0",
         "AAPL"
        ],
        [
         "20",
         "1981-01-13 00:00:00",
         "0.1367190033197403",
         "0.1367190033197403",
         "0.1361609995365142",
         "0.1361609995365142",
         "0.1049662083387374",
         "23049600",
         "0.0",
         "0.0",
         "AAPL"
        ],
        [
         "21",
         "1981-01-14 00:00:00",
         "0.1367190033197403",
         "0.1372770071029663",
         "0.1367190033197403",
         "0.1367190033197403",
         "0.1053964346647262",
         "14291200",
         "0.0",
         "0.0",
         "AAPL"
        ],
        [
         "22",
         "1981-01-15 00:00:00",
         "0.1395090073347091",
         "0.140625",
         "0.1395090073347091",
         "0.1395090073347091",
         "0.1075472459197044",
         "14067200",
         "0.0",
         "0.0",
         "AAPL"
        ],
        [
         "23",
         "1981-01-16 00:00:00",
         "0.1389510035514831",
         "0.1389510035514831",
         "0.1383929997682571",
         "0.1383929997682571",
         "0.1066868975758552",
         "13395200",
         "0.0",
         "0.0",
         "AAPL"
        ],
        [
         "24",
         "1981-01-19 00:00:00",
         "0.1467629969120025",
         "0.1473210006952285",
         "0.1467629969120025",
         "0.1467629969120025",
         "0.1131392568349838",
         "41574400",
         "0.0",
         "0.0",
         "AAPL"
        ],
        [
         "25",
         "1981-01-20 00:00:00",
         "0.1428570002317428",
         "0.1428570002317428",
         "0.1422989964485168",
         "0.1422989964485168",
         "0.109698012471199",
         "30083200",
         "0.0",
         "0.0",
         "AAPL"
        ],
        [
         "26",
         "1981-01-21 00:00:00",
         "0.1450890004634857",
         "0.1462049931287765",
         "0.1450890004634857",
         "0.1450890004634857",
         "0.1118487864732742",
         "15904000",
         "0.0",
         "0.0",
         "AAPL"
        ],
        [
         "27",
         "1981-01-22 00:00:00",
         "0.1467629969120025",
         "0.1478790044784546",
         "0.1467629969120025",
         "0.1467629969120025",
         "0.1131392568349838",
         "35548800",
         "0.0",
         "0.0",
         "AAPL"
        ],
        [
         "28",
         "1981-01-23 00:00:00",
         "0.1467629969120025",
         "0.1473210006952285",
         "0.1462049931287765",
         "0.1462049931287765",
         "0.1127091348171234",
         "11222400",
         "0.0",
         "0.0",
         "AAPL"
        ],
        [
         "29",
         "1981-01-26 00:00:00",
         "0.1445309966802597",
         "0.1445309966802597",
         "0.1439729928970337",
         "0.1439729928970337",
         "0.1109885200858116",
         "24640000",
         "0.0",
         "0.0",
         "AAPL"
        ],
        [
         "30",
         "1981-01-27 00:00:00",
         "0.1439729928970337",
         "0.1439729928970337",
         "0.1428570002317428",
         "0.1428570002317428",
         "0.1101282015442848",
         "23699200",
         "0.0",
         "0.0",
         "AAPL"
        ],
        [
         "31",
         "1981-01-28 00:00:00",
         "0.1389510035514831",
         "0.1389510035514831",
         "0.1383929997682571",
         "0.1383929997682571",
         "0.1066868975758552",
         "28156800",
         "0.0",
         "0.0",
         "AAPL"
        ],
        [
         "32",
         "1981-01-29 00:00:00",
         "0.1339289993047714",
         "0.1339289993047714",
         "0.1333709955215454",
         "0.1333709955215454",
         "0.1028154343366622",
         "43904000",
         "0.0",
         "0.0",
         "AAPL"
        ],
        [
         "33",
         "1981-01-30 00:00:00",
         "0.1272320002317428",
         "0.1272320002317428",
         "0.1261159926652908",
         "0.1261159926652908",
         "0.0972226113080978",
         "46188800",
         "0.0",
         "0.0",
         "AAPL"
        ],
        [
         "34",
         "1981-02-02 00:00:00",
         "0.1194199994206428",
         "0.1194199994206428",
         "0.1188620030879974",
         "0.1188620030879974",
         "0.0916304588317871",
         "23766400",
         "0.0",
         "0.0",
         "AAPL"
        ],
        [
         "35",
         "1981-02-03 00:00:00",
         "0.1233260035514831",
         "0.1238839998841285",
         "0.1233260035514831",
         "0.1233260035514831",
         "0.0950717777013778",
         "19152000",
         "0.0",
         "0.0",
         "AAPL"
        ],
        [
         "36",
         "1981-02-04 00:00:00",
         "0.1277900040149688",
         "0.1283479928970337",
         "0.1277900040149688",
         "0.1277900040149688",
         "0.0985130742192268",
         "27865600",
         "0.0",
         "0.0",
         "AAPL"
        ],
        [
         "37",
         "1981-02-05 00:00:00",
         "0.1277900040149688",
         "0.1289059966802597",
         "0.1277900040149688",
         "0.1277900040149688",
         "0.0985130742192268",
         "7929600",
         "0.0",
         "0.0",
         "AAPL"
        ],
        [
         "38",
         "1981-02-06 00:00:00",
         "0.1283479928970337",
         "0.1289059966802597",
         "0.1283479928970337",
         "0.1283479928970337",
         "0.098943218588829",
         "13865600",
         "0.0",
         "0.0",
         "AAPL"
        ],
        [
         "39",
         "1981-02-09 00:00:00",
         "0.1227679997682571",
         "0.1227679997682571",
         "0.1216519996523857",
         "0.1216519996523857",
         "0.093781292438507",
         "16755200",
         "0.0",
         "0.0",
         "AAPL"
        ],
        [
         "40",
         "1981-02-10 00:00:00",
         "0.1216519996523857",
         "0.1222100034356117",
         "0.1216519996523857",
         "0.1216519996523857",
         "0.093781292438507",
         "18345600",
         "0.0",
         "0.0",
         "AAPL"
        ],
        [
         "41",
         "1981-02-11 00:00:00",
         "0.1183039993047714",
         "0.1183039993047714",
         "0.117746002972126",
         "0.117746002972126",
         "0.0907701626420021",
         "13843200",
         "0.0",
         "0.0",
         "AAPL"
        ],
        [
         "42",
         "1981-02-12 00:00:00",
         "0.1171879991889",
         "0.1171879991889",
         "0.1166289970278739",
         "0.1166289970278739",
         "0.0899090468883514",
         "14560000",
         "0.0",
         "0.0",
         "AAPL"
        ],
        [
         "43",
         "1981-02-13 00:00:00",
         "0.1149550005793571",
         "0.1149550005793571",
         "0.1138390004634857",
         "0.1138390004634857",
         "0.0877582728862762",
         "11155200",
         "0.0",
         "0.0",
         "AAPL"
        ],
        [
         "44",
         "1981-02-17 00:00:00",
         "0.1166289970278739",
         "0.1171879991889",
         "0.1166289970278739",
         "0.1166289970278739",
         "0.0899090468883514",
         "12275200",
         "0.0",
         "0.0",
         "AAPL"
        ],
        [
         "45",
         "1981-02-18 00:00:00",
         "0.1216519996523857",
         "0.1227679997682571",
         "0.1216519996523857",
         "0.1216519996523857",
         "0.093781292438507",
         "19241600",
         "0.0",
         "0.0",
         "AAPL"
        ],
        [
         "46",
         "1981-02-19 00:00:00",
         "0.1149550005793571",
         "0.1149550005793571",
         "0.1143969967961311",
         "0.1143969967961311",
         "0.0881884023547172",
         "22310400",
         "0.0",
         "0.0",
         "AAPL"
        ],
        [
         "47",
         "1981-02-20 00:00:00",
         "0.1088170036673545",
         "0.1088170036673545",
         "0.1082589998841285",
         "0.1082589998841285",
         "0.0834566429257392",
         "24371200",
         "0.0",
         "0.0",
         "AAPL"
        ],
        [
         "48",
         "1981-02-23 00:00:00",
         "0.1099329963326454",
         "0.1104910001158714",
         "0.1099329963326454",
         "0.1099329963326454",
         "0.0847471207380294",
         "14112000",
         "0.0",
         "0.0",
         "AAPL"
        ],
        [
         "49",
         "1981-02-24 00:00:00",
         "0.1071429997682571",
         "0.1071429997682571",
         "0.1060269996523857",
         "0.1060269996523857",
         "0.0817359760403633",
         "16979200",
         "0.0",
         "0.0",
         "AAPL"
        ]
       ],
       "shape": {
        "columns": 10,
        "rows": 45428
       }
      },
      "text/html": [
       "<div>\n",
       "<style scoped>\n",
       "    .dataframe tbody tr th:only-of-type {\n",
       "        vertical-align: middle;\n",
       "    }\n",
       "\n",
       "    .dataframe tbody tr th {\n",
       "        vertical-align: top;\n",
       "    }\n",
       "\n",
       "    .dataframe thead th {\n",
       "        text-align: right;\n",
       "    }\n",
       "</style>\n",
       "<table border=\"1\" class=\"dataframe\">\n",
       "  <thead>\n",
       "    <tr style=\"text-align: right;\">\n",
       "      <th></th>\n",
       "      <th>date</th>\n",
       "      <th>open</th>\n",
       "      <th>high</th>\n",
       "      <th>low</th>\n",
       "      <th>close</th>\n",
       "      <th>adj_close</th>\n",
       "      <th>volume</th>\n",
       "      <th>dividends</th>\n",
       "      <th>stock_splits</th>\n",
       "      <th>ticker</th>\n",
       "    </tr>\n",
       "  </thead>\n",
       "  <tbody>\n",
       "    <tr>\n",
       "      <th>0</th>\n",
       "      <td>1980-12-12</td>\n",
       "      <td>0.128348</td>\n",
       "      <td>0.128906</td>\n",
       "      <td>0.128348</td>\n",
       "      <td>0.128348</td>\n",
       "      <td>0.098943</td>\n",
       "      <td>469033600</td>\n",
       "      <td>0.0</td>\n",
       "      <td>0.0</td>\n",
       "      <td>AAPL</td>\n",
       "    </tr>\n",
       "    <tr>\n",
       "      <th>1</th>\n",
       "      <td>1980-12-15</td>\n",
       "      <td>0.122210</td>\n",
       "      <td>0.122210</td>\n",
       "      <td>0.121652</td>\n",
       "      <td>0.121652</td>\n",
       "      <td>0.093781</td>\n",
       "      <td>175884800</td>\n",
       "      <td>0.0</td>\n",
       "      <td>0.0</td>\n",
       "      <td>AAPL</td>\n",
       "    </tr>\n",
       "    <tr>\n",
       "      <th>2</th>\n",
       "      <td>1980-12-16</td>\n",
       "      <td>0.113281</td>\n",
       "      <td>0.113281</td>\n",
       "      <td>0.112723</td>\n",
       "      <td>0.112723</td>\n",
       "      <td>0.086898</td>\n",
       "      <td>105728000</td>\n",
       "      <td>0.0</td>\n",
       "      <td>0.0</td>\n",
       "      <td>AAPL</td>\n",
       "    </tr>\n",
       "    <tr>\n",
       "      <th>3</th>\n",
       "      <td>1980-12-17</td>\n",
       "      <td>0.115513</td>\n",
       "      <td>0.116071</td>\n",
       "      <td>0.115513</td>\n",
       "      <td>0.115513</td>\n",
       "      <td>0.089049</td>\n",
       "      <td>86441600</td>\n",
       "      <td>0.0</td>\n",
       "      <td>0.0</td>\n",
       "      <td>AAPL</td>\n",
       "    </tr>\n",
       "    <tr>\n",
       "      <th>4</th>\n",
       "      <td>1980-12-18</td>\n",
       "      <td>0.118862</td>\n",
       "      <td>0.119420</td>\n",
       "      <td>0.118862</td>\n",
       "      <td>0.118862</td>\n",
       "      <td>0.091630</td>\n",
       "      <td>73449600</td>\n",
       "      <td>0.0</td>\n",
       "      <td>0.0</td>\n",
       "      <td>AAPL</td>\n",
       "    </tr>\n",
       "    <tr>\n",
       "      <th>...</th>\n",
       "      <td>...</td>\n",
       "      <td>...</td>\n",
       "      <td>...</td>\n",
       "      <td>...</td>\n",
       "      <td>...</td>\n",
       "      <td>...</td>\n",
       "      <td>...</td>\n",
       "      <td>...</td>\n",
       "      <td>...</td>\n",
       "      <td>...</td>\n",
       "    </tr>\n",
       "    <tr>\n",
       "      <th>45423</th>\n",
       "      <td>2024-07-24</td>\n",
       "      <td>225.419998</td>\n",
       "      <td>225.990005</td>\n",
       "      <td>214.710007</td>\n",
       "      <td>215.990005</td>\n",
       "      <td>215.990005</td>\n",
       "      <td>167942900</td>\n",
       "      <td>0.0</td>\n",
       "      <td>0.0</td>\n",
       "      <td>TSLA</td>\n",
       "    </tr>\n",
       "    <tr>\n",
       "      <th>45424</th>\n",
       "      <td>2024-07-25</td>\n",
       "      <td>216.800003</td>\n",
       "      <td>226.000000</td>\n",
       "      <td>216.229996</td>\n",
       "      <td>220.250000</td>\n",
       "      <td>220.250000</td>\n",
       "      <td>100636500</td>\n",
       "      <td>0.0</td>\n",
       "      <td>0.0</td>\n",
       "      <td>TSLA</td>\n",
       "    </tr>\n",
       "    <tr>\n",
       "      <th>45425</th>\n",
       "      <td>2024-07-26</td>\n",
       "      <td>221.190002</td>\n",
       "      <td>222.279999</td>\n",
       "      <td>215.330002</td>\n",
       "      <td>219.800003</td>\n",
       "      <td>219.800003</td>\n",
       "      <td>94604100</td>\n",
       "      <td>0.0</td>\n",
       "      <td>0.0</td>\n",
       "      <td>TSLA</td>\n",
       "    </tr>\n",
       "    <tr>\n",
       "      <th>45426</th>\n",
       "      <td>2024-07-29</td>\n",
       "      <td>224.899994</td>\n",
       "      <td>234.270004</td>\n",
       "      <td>224.699997</td>\n",
       "      <td>232.100006</td>\n",
       "      <td>232.100006</td>\n",
       "      <td>129201800</td>\n",
       "      <td>0.0</td>\n",
       "      <td>0.0</td>\n",
       "      <td>TSLA</td>\n",
       "    </tr>\n",
       "    <tr>\n",
       "      <th>45427</th>\n",
       "      <td>2024-07-30</td>\n",
       "      <td>232.250000</td>\n",
       "      <td>232.410004</td>\n",
       "      <td>220.000000</td>\n",
       "      <td>222.619995</td>\n",
       "      <td>222.619995</td>\n",
       "      <td>100560300</td>\n",
       "      <td>0.0</td>\n",
       "      <td>0.0</td>\n",
       "      <td>TSLA</td>\n",
       "    </tr>\n",
       "  </tbody>\n",
       "</table>\n",
       "<p>45428 rows × 10 columns</p>\n",
       "</div>"
      ],
      "text/plain": [
       "            date        open        high         low       close   adj_close  \\\n",
       "0     1980-12-12    0.128348    0.128906    0.128348    0.128348    0.098943   \n",
       "1     1980-12-15    0.122210    0.122210    0.121652    0.121652    0.093781   \n",
       "2     1980-12-16    0.113281    0.113281    0.112723    0.112723    0.086898   \n",
       "3     1980-12-17    0.115513    0.116071    0.115513    0.115513    0.089049   \n",
       "4     1980-12-18    0.118862    0.119420    0.118862    0.118862    0.091630   \n",
       "...          ...         ...         ...         ...         ...         ...   \n",
       "45423 2024-07-24  225.419998  225.990005  214.710007  215.990005  215.990005   \n",
       "45424 2024-07-25  216.800003  226.000000  216.229996  220.250000  220.250000   \n",
       "45425 2024-07-26  221.190002  222.279999  215.330002  219.800003  219.800003   \n",
       "45426 2024-07-29  224.899994  234.270004  224.699997  232.100006  232.100006   \n",
       "45427 2024-07-30  232.250000  232.410004  220.000000  222.619995  222.619995   \n",
       "\n",
       "          volume  dividends  stock_splits ticker  \n",
       "0      469033600        0.0           0.0   AAPL  \n",
       "1      175884800        0.0           0.0   AAPL  \n",
       "2      105728000        0.0           0.0   AAPL  \n",
       "3       86441600        0.0           0.0   AAPL  \n",
       "4       73449600        0.0           0.0   AAPL  \n",
       "...          ...        ...           ...    ...  \n",
       "45423  167942900        0.0           0.0   TSLA  \n",
       "45424  100636500        0.0           0.0   TSLA  \n",
       "45425   94604100        0.0           0.0   TSLA  \n",
       "45426  129201800        0.0           0.0   TSLA  \n",
       "45427  100560300        0.0           0.0   TSLA  \n",
       "\n",
       "[45428 rows x 10 columns]"
      ]
     },
     "execution_count": 12,
     "metadata": {},
     "output_type": "execute_result"
    }
   ],
   "source": [
    "# Reading stock price data\n",
    "stock_data = analysis.fetch_stock_data()\n",
    "stock_data"
   ]
  },
  {
   "cell_type": "markdown",
   "id": "de7d35b5",
   "metadata": {},
   "source": [
    "#### Calculating sentiment analysis for financial news data "
   ]
  },
  {
   "cell_type": "code",
   "execution_count": 6,
   "id": "da736cfc",
   "metadata": {},
   "outputs": [
    {
     "name": "stderr",
     "output_type": "stream",
     "text": [
      "[nltk_data] Downloading package punkt to\n",
      "[nltk_data]     C:\\Users\\jonep\\AppData\\Roaming\\nltk_data...\n",
      "[nltk_data]   Package punkt is already up-to-date!\n",
      "[nltk_data] Downloading package stopwords to\n",
      "[nltk_data]     C:\\Users\\jonep\\AppData\\Roaming\\nltk_data...\n",
      "[nltk_data]   Package stopwords is already up-to-date!\n",
      "[nltk_data] Downloading package wordnet to\n",
      "[nltk_data]     C:\\Users\\jonep\\AppData\\Roaming\\nltk_data...\n",
      "[nltk_data]   Package wordnet is already up-to-date!\n"
     ]
    },
    {
     "name": "stdout",
     "output_type": "stream",
     "text": [
      "         date  sentiment\n",
      "0  2009-02-14   0.000000\n",
      "1  2009-04-27   0.000000\n",
      "2  2009-04-29   0.000000\n",
      "3  2009-05-22   0.000000\n",
      "4  2009-05-27   0.234091\n"
     ]
    }
   ],
   "source": [
    "import pandas as pd\n",
    "import nltk\n",
    "from nltk.tokenize import word_tokenize, wordpunct_tokenize\n",
    "from nltk.corpus import stopwords\n",
    "from nltk.stem import WordNetLemmatizer\n",
    "import string\n",
    "from textblob import TextBlob\n",
    "\n",
    "# Download required NLTK data\n",
    "nltk.download('punkt')\n",
    "nltk.download('stopwords')\n",
    "nltk.download('wordnet')\n",
    "\n",
    "# Initialize stop words and lemmatizer\n",
    "stop_words = set(stopwords.words('english'))\n",
    "lemmatizer = WordNetLemmatizer()\n",
    "\n",
    "# Preprocessing function\n",
    "def preprocess_headline(text):\n",
    "    # Convert to lowercase\n",
    "    text = text.lower()\n",
    "    # Remove punctuation\n",
    "    text = text.translate(str.maketrans('', '', string.punctuation))\n",
    "    # Tokenize\n",
    "    tokens = wordpunct_tokenize(text)\n",
    "    # Remove stopwords and non-alphabetic tokens\n",
    "    tokens = [token for token in tokens if token not in stop_words and token.isalpha()]\n",
    "    # Lemmatize\n",
    "    tokens = [lemmatizer.lemmatize(token) for token in tokens]\n",
    "    # Join tokens back into a string\n",
    "    return ' '.join(tokens)\n",
    "\n",
    "# Apply preprocessing\n",
    "news_data['cleaned_headline'] = news_data['headline'].apply(preprocess_headline)\n",
    "\n",
    "# Calculate sentiment polarity on cleaned headlines\n",
    "news_data['sentiment'] = news_data['cleaned_headline'].apply(\n",
    "    lambda x: TextBlob(x).sentiment.polarity if x else 0.0\n",
    ")\n",
    "\n",
    "# Group by date to compute average sentiment\n",
    "news_data['date'] = pd.to_datetime(news_data['date'], utc=True).dt.date\n",
    "daily_sentiment = news_data.groupby('date')['sentiment'].mean().reset_index()\n",
    "\n",
    "# Display results\n",
    "print(daily_sentiment.head())"
   ]
  },
  {
   "cell_type": "code",
   "execution_count": 10,
   "id": "0374b0b4",
   "metadata": {},
   "outputs": [],
   "source": [
    "news_data.to_csv(\"../data/sentiment_fND.csv\")"
   ]
  },
  {
   "cell_type": "code",
   "execution_count": null,
   "id": "d5a86512",
   "metadata": {},
   "outputs": [
    {
     "data": {
      "application/vnd.microsoft.datawrangler.viewer.v0+json": {
       "columns": [
        {
         "name": "index",
         "rawType": "object",
         "type": "string"
        },
        {
         "name": "sentiment",
         "rawType": "float64",
         "type": "float"
        }
       ],
       "ref": "9d7bb437-64d0-4e02-a623-422fd54e337b",
       "rows": [
        [
         "count",
         "1407328.0"
        ],
        [
         "mean",
         "0.05304645619132859"
        ],
        [
         "std",
         "0.18443670836367385"
        ],
        [
         "min",
         "-1.0"
        ],
        [
         "25%",
         "0.0"
        ],
        [
         "50%",
         "0.0"
        ],
        [
         "75%",
         "0.0"
        ],
        [
         "max",
         "1.0"
        ]
       ],
       "shape": {
        "columns": 1,
        "rows": 8
       }
      },
      "text/plain": [
       "count    1.407328e+06\n",
       "mean     5.304646e-02\n",
       "std      1.844367e-01\n",
       "min     -1.000000e+00\n",
       "25%      0.000000e+00\n",
       "50%      0.000000e+00\n",
       "75%      0.000000e+00\n",
       "max      1.000000e+00\n",
       "Name: sentiment, dtype: float64"
      ]
     },
     "execution_count": 14,
     "metadata": {},
     "output_type": "execute_result"
    }
   ],
   "source": [
    "# Describe financial news data sentiments \n",
    "news_data['sentiment'].describe()"
   ]
  },
  {
   "cell_type": "code",
   "execution_count": 23,
   "id": "a5035421",
   "metadata": {},
   "outputs": [],
   "source": [
    "# Function to categorize polarity scores\n",
    "def categorize_sentiment(score):\n",
    "    if isinstance(score, float) or isinstance(score, int):  # Ensure score is numeric\n",
    "        if score >= 0.05:\n",
    "            return 'positive'\n",
    "        elif score <= -0.05:\n",
    "            return 'negative'\n",
    "        else:\n",
    "            return 'neutral'\n",
    "    return 'neutral'  # Handle non-numeric values\n",
    "\n",
    "news_data['l_sentiment'] = news_data['sentiment'].apply(categorize_sentiment)"
   ]
  },
  {
   "cell_type": "code",
   "execution_count": 70,
   "id": "2c817030",
   "metadata": {},
   "outputs": [
    {
     "name": "stdout",
     "output_type": "stream",
     "text": [
      "  Sentiment  Percentage\n",
      "0   neutral   69.806115\n",
      "1  positive   23.677849\n",
      "2  negative    6.516036\n"
     ]
    },
    {
     "name": "stderr",
     "output_type": "stream",
     "text": [
      "C:\\Users\\jonep\\AppData\\Local\\Temp\\ipykernel_4504\\1899555483.py:13: FutureWarning:\n",
      "\n",
      "\n",
      "\n",
      "Passing `palette` without assigning `hue` is deprecated and will be removed in v0.14.0. Assign the `x` variable to `hue` and set `legend=False` for the same effect.\n",
      "\n",
      "\n"
     ]
    },
    {
     "data": {
      "image/png": "[encoded data removed]",
      "text/plain": [
       "<Figure size 800x600 with 1 Axes>"
      ]
     },
     "metadata": {},
     "output_type": "display_data"
    }
   ],
   "source": [
    "import seaborn as sns\n",
    "import matplotlib.pyplot as plt\n",
    "\n",
    "# Calculate percentages\n",
    "sentiment_percentages = news_data['l_sentiment'].value_counts(normalize=True) * 100\n",
    "percentage_df = pd.DataFrame({\n",
    "    'Sentiment': sentiment_percentages.index,\n",
    "    'Percentage': sentiment_percentages.values\n",
    "})\n",
    "print(percentage_df)\n",
    "# Create bar plot\n",
    "plt.figure(figsize=(8, 6))\n",
    "sns.barplot(data=percentage_df, x='Sentiment', y='Percentage',\n",
    "            palette={'positive': '#4CAF50', 'neutral': '#FFC107', 'negative': '#F44336'})\n",
    "plt.title('Percentage of Sentiment Categories')\n",
    "plt.xlabel('Sentiment')\n",
    "plt.ylabel('Percentage (%)')\n",
    "plt.grid(True)\n",
    "plt.show()"
   ]
  },
  {
   "cell_type": "markdown",
   "id": "c06a0220",
   "metadata": {},
   "source": [
    "#### calculating daily returns of the stock price data"
   ]
  },
  {
   "cell_type": "code",
   "execution_count": 26,
   "id": "eae7cea4",
   "metadata": {},
   "outputs": [
    {
     "name": "stdout",
     "output_type": "stream",
     "text": [
      "Local punkt tokenizer found.\n",
      "Calculating daily stock returns...\n"
     ]
    },
    {
     "data": {
      "application/vnd.microsoft.datawrangler.viewer.v0+json": {
       "columns": [
        {
         "name": "index",
         "rawType": "int64",
         "type": "integer"
        },
        {
         "name": "date",
         "rawType": "object",
         "type": "unknown"
        },
        {
         "name": "open",
         "rawType": "float64",
         "type": "float"
        },
        {
         "name": "high",
         "rawType": "float64",
         "type": "float"
        },
        {
         "name": "low",
         "rawType": "float64",
         "type": "float"
        },
        {
         "name": "close",
         "rawType": "float64",
         "type": "float"
        },
        {
         "name": "adj_close",
         "rawType": "float64",
         "type": "float"
        },
        {
         "name": "volume",
         "rawType": "int64",
         "type": "integer"
        },
        {
         "name": "dividends",
         "rawType": "float64",
         "type": "float"
        },
        {
         "name": "stock_splits",
         "rawType": "float64",
         "type": "float"
        },
        {
         "name": "ticker",
         "rawType": "object",
         "type": "string"
        },
        {
         "name": "Daily_Return",
         "rawType": "float64",
         "type": "float"
        }
       ],
       "ref": "9cb4fa01-5e20-41c1-aef8-5d2e36a23797",
       "rows": [
        [
         "0",
         "1980-12-12",
         "0.1283479928970337",
         "0.1289059966802597",
         "0.1283479928970337",
         "0.1283479928970337",
         "0.098943218588829",
         "469033600",
         "0.0",
         "0.0",
         "AAPL",
         null
        ],
        [
         "1",
         "1980-12-15",
         "0.1222100034356117",
         "0.1222100034356117",
         "0.1216519996523857",
         "0.1216519996523857",
         "0.093781292438507",
         "175884800",
         "0.0",
         "0.0",
         "AAPL",
         "-5.2170611269471205"
        ],
        [
         "2",
         "1980-12-16",
         "0.1132809966802597",
         "0.1132809966802597",
         "0.1127230003476142",
         "0.1127230003476142",
         "0.0868979692459106",
         "105728000",
         "0.0",
         "0.0",
         "AAPL",
         "-7.339788355543386"
        ],
        [
         "3",
         "1980-12-17",
         "0.1155129969120025",
         "0.1160710006952285",
         "0.1155129969120025",
         "0.1155129969120025",
         "0.089048758149147",
         "86441600",
         "0.0",
         "0.0",
         "AAPL",
         "2.475090758571463"
        ],
        [
         "4",
         "1980-12-18",
         "0.1188620030879974",
         "0.1194199994206428",
         "0.1188620030879974",
         "0.1188620030879974",
         "0.0916304588317871",
         "73449600",
         "0.0",
         "0.0",
         "AAPL",
         "2.8992462021794507"
        ],
        [
         "5",
         "1980-12-19",
         "0.1261159926652908",
         "0.1266739964485168",
         "0.1261159926652908",
         "0.1261159926652908",
         "0.0972226113080978",
         "48630400",
         "0.0",
         "0.0",
         "AAPL",
         "6.102866676344876"
        ],
        [
         "6",
         "1980-12-22",
         "0.1322540044784546",
         "0.1328130066394806",
         "0.1322540044784546",
         "0.1322540044784546",
         "0.1019543036818504",
         "37363200",
         "0.0",
         "0.0",
         "AAPL",
         "4.866957539202765"
        ],
        [
         "7",
         "1980-12-23",
         "0.1378349959850311",
         "0.1383929997682571",
         "0.1378349959850311",
         "0.1378349959850311",
         "0.10625671595335",
         "46950400",
         "0.0",
         "0.0",
         "AAPL",
         "4.219903607898479"
        ],
        [
         "8",
         "1980-12-24",
         "0.1450890004634857",
         "0.1456470042467117",
         "0.1450890004634857",
         "0.1450890004634857",
         "0.1118487864732742",
         "48003200",
         "0.0",
         "0.0",
         "AAPL",
         "5.262817636852102"
        ],
        [
         "9",
         "1980-12-26",
         "0.1584820002317428",
         "0.1590400040149688",
         "0.1584820002317428",
         "0.1584820002317428",
         "0.1221734583377838",
         "55574400",
         "0.0",
         "0.0",
         "AAPL",
         "9.23088568083954"
        ],
        [
         "10",
         "1980-12-29",
         "0.1607140004634857",
         "0.1612720042467117",
         "0.1607140004634857",
         "0.1607140004634857",
         "0.1238940879702568",
         "93161600",
         "0.0",
         "0.0",
         "AAPL",
         "1.4083619770567601"
        ],
        [
         "11",
         "1980-12-30",
         "0.1573659926652908",
         "0.1573659926652908",
         "0.156808003783226",
         "0.156808003783226",
         "0.1208830177783966",
         "68880000",
         "0.0",
         "0.0",
         "AAPL",
         "-2.430402248089847"
        ],
        [
         "12",
         "1980-12-31",
         "0.1529020071029663",
         "0.1529020071029663",
         "0.1523440033197403",
         "0.1523440033197403",
         "0.1174416616559028",
         "35750400",
         "0.0",
         "0.0",
         "AAPL",
         "-2.846793757834465"
        ],
        [
         "13",
         "1981-01-02",
         "0.1540179997682571",
         "0.1551340073347091",
         "0.1540179997682571",
         "0.1540179997682571",
         "0.118732064962387",
         "21660800",
         "0.0",
         "0.0",
         "AAPL",
         "1.098826610853476"
        ],
        [
         "14",
         "1981-01-05",
         "0.1512279957532882",
         "0.1512279957532882",
         "0.1506700068712234",
         "0.1506700068712234",
         "0.1161512359976768",
         "35728000",
         "0.0",
         "0.0",
         "AAPL",
         "-2.173767288285311"
        ],
        [
         "15",
         "1981-01-06",
         "0.1445309966802597",
         "0.1445309966802597",
         "0.1439729928970337",
         "0.1439729928970337",
         "0.1109885200858116",
         "45158400",
         "0.0",
         "0.0",
         "AAPL",
         "-4.444822239846047"
        ],
        [
         "16",
         "1981-01-07",
         "0.1383929997682571",
         "0.1383929997682571",
         "0.1378349959850311",
         "0.1378349959850311",
         "0.10625671595335",
         "55686400",
         "0.0",
         "0.0",
         "AAPL",
         "-4.263297434118318"
        ],
        [
         "17",
         "1981-01-08",
         "0.1356029957532882",
         "0.1356029957532882",
         "0.1350450068712234",
         "0.1350450068712234",
         "0.104105919599533",
         "39827200",
         "0.0",
         "0.0",
         "AAPL",
         "-2.0241514818999273"
        ],
        [
         "18",
         "1981-01-09",
         "0.1422989964485168",
         "0.1428570002317428",
         "0.1422989964485168",
         "0.1422989964485168",
         "0.109698012471199",
         "21504000",
         "0.0",
         "0.0",
         "AAPL",
         "5.37153482780055"
        ],
        [
         "19",
         "1981-01-12",
         "0.1422989964485168",
         "0.1422989964485168",
         "0.141183003783226",
         "0.141183003783226",
         "0.1088377460837364",
         "23699200",
         "0.0",
         "0.0",
         "AAPL",
         "-0.7842589850551307"
        ],
        [
         "20",
         "1981-01-13",
         "0.1367190033197403",
         "0.1367190033197403",
         "0.1361609995365142",
         "0.1361609995365142",
         "0.1049662083387374",
         "23049600",
         "0.0",
         "0.0",
         "AAPL",
         "-3.557088397426833"
        ],
        [
         "21",
         "1981-01-14",
         "0.1367190033197403",
         "0.1372770071029663",
         "0.1367190033197403",
         "0.1367190033197403",
         "0.1053964346647262",
         "14291200",
         "0.0",
         "0.0",
         "AAPL",
         "0.40981175602816666"
        ],
        [
         "22",
         "1981-01-15",
         "0.1395090073347091",
         "0.140625",
         "0.1395090073347091",
         "0.1395090073347091",
         "0.1075472459197044",
         "14067200",
         "0.0",
         "0.0",
         "AAPL",
         "2.0406848698596214"
        ],
        [
         "23",
         "1981-01-16",
         "0.1389510035514831",
         "0.1389510035514831",
         "0.1383929997682571",
         "0.1383929997682571",
         "0.1066868975758552",
         "13395200",
         "0.0",
         "0.0",
         "AAPL",
         "-0.7999537719987404"
        ],
        [
         "24",
         "1981-01-19",
         "0.1467629969120025",
         "0.1473210006952285",
         "0.1467629969120025",
         "0.1467629969120025",
         "0.1131392568349838",
         "41574400",
         "0.0",
         "0.0",
         "AAPL",
         "6.047991703165034"
        ],
        [
         "25",
         "1981-01-20",
         "0.1428570002317428",
         "0.1428570002317428",
         "0.1422989964485168",
         "0.1422989964485168",
         "0.109698012471199",
         "30083200",
         "0.0",
         "0.0",
         "AAPL",
         "-3.041638939931357"
        ],
        [
         "26",
         "1981-01-21",
         "0.1450890004634857",
         "0.1462049931287765",
         "0.1450890004634857",
         "0.1450890004634857",
         "0.1118487864732742",
         "15904000",
         "0.0",
         "0.0",
         "AAPL",
         "1.9606631702271393"
        ],
        [
         "27",
         "1981-01-22",
         "0.1467629969120025",
         "0.1478790044784546",
         "0.1467629969120025",
         "0.1467629969120025",
         "0.1131392568349838",
         "35548800",
         "0.0",
         "0.0",
         "AAPL",
         "1.15377212825869"
        ],
        [
         "28",
         "1981-01-23",
         "0.1467629969120025",
         "0.1473210006952285",
         "0.1462049931287765",
         "0.1462049931287765",
         "0.1127091348171234",
         "11222400",
         "0.0",
         "0.0",
         "AAPL",
         "-0.38020740579493006"
        ],
        [
         "29",
         "1981-01-26",
         "0.1445309966802597",
         "0.1445309966802597",
         "0.1439729928970337",
         "0.1439729928970337",
         "0.1109885200858116",
         "24640000",
         "0.0",
         "0.0",
         "AAPL",
         "-1.5266238067374815"
        ],
        [
         "30",
         "1981-01-27",
         "0.1439729928970337",
         "0.1439729928970337",
         "0.1428570002317428",
         "0.1428570002317428",
         "0.1101282015442848",
         "23699200",
         "0.0",
         "0.0",
         "AAPL",
         "-0.7751402834898502"
        ],
        [
         "31",
         "1981-01-28",
         "0.1389510035514831",
         "0.1389510035514831",
         "0.1383929997682571",
         "0.1383929997682571",
         "0.1066868975758552",
         "28156800",
         "0.0",
         "0.0",
         "AAPL",
         "-3.1248034441743733"
        ],
        [
         "32",
         "1981-01-29",
         "0.1339289993047714",
         "0.1339289993047714",
         "0.1333709955215454",
         "0.1333709955215454",
         "0.1028154343366622",
         "43904000",
         "0.0",
         "0.0",
         "AAPL",
         "-3.628799328810839"
        ],
        [
         "33",
         "1981-01-30",
         "0.1272320002317428",
         "0.1272320002317428",
         "0.1261159926652908",
         "0.1261159926652908",
         "0.0972226113080978",
         "46188800",
         "0.0",
         "0.0",
         "AAPL",
         "-5.439715605243867"
        ],
        [
         "34",
         "1981-02-02",
         "0.1194199994206428",
         "0.1194199994206428",
         "0.1188620030879974",
         "0.1188620030879974",
         "0.0916304588317871",
         "23766400",
         "0.0",
         "0.0",
         "AAPL",
         "-5.751839575608264"
        ],
        [
         "35",
         "1981-02-03",
         "0.1233260035514831",
         "0.1238839998841285",
         "0.1233260035514831",
         "0.1233260035514831",
         "0.0950717777013778",
         "19152000",
         "0.0",
         "0.0",
         "AAPL",
         "3.7556160484531365"
        ],
        [
         "36",
         "1981-02-04",
         "0.1277900040149688",
         "0.1283479928970337",
         "0.1277900040149688",
         "0.1277900040149688",
         "0.0985130742192268",
         "27865600",
         "0.0",
         "0.0",
         "AAPL",
         "3.6196749549434415"
        ],
        [
         "37",
         "1981-02-05",
         "0.1277900040149688",
         "0.1289059966802597",
         "0.1277900040149688",
         "0.1277900040149688",
         "0.0985130742192268",
         "7929600",
         "0.0",
         "0.0",
         "AAPL",
         "0.0"
        ],
        [
         "38",
         "1981-02-06",
         "0.1283479928970337",
         "0.1289059966802597",
         "0.1283479928970337",
         "0.1283479928970337",
         "0.098943218588829",
         "13865600",
         "0.0",
         "0.0",
         "AAPL",
         "0.43664517140131753"
        ],
        [
         "39",
         "1981-02-09",
         "0.1227679997682571",
         "0.1227679997682571",
         "0.1216519996523857",
         "0.1216519996523857",
         "0.093781292438507",
         "16755200",
         "0.0",
         "0.0",
         "AAPL",
         "-5.2170611269471205"
        ],
        [
         "40",
         "1981-02-10",
         "0.1216519996523857",
         "0.1222100034356117",
         "0.1216519996523857",
         "0.1216519996523857",
         "0.093781292438507",
         "18345600",
         "0.0",
         "0.0",
         "AAPL",
         "0.0"
        ],
        [
         "41",
         "1981-02-11",
         "0.1183039993047714",
         "0.1183039993047714",
         "0.117746002972126",
         "0.117746002972126",
         "0.0907701626420021",
         "13843200",
         "0.0",
         "0.0",
         "AAPL",
         "-3.210795294299218"
        ],
        [
         "42",
         "1981-02-12",
         "0.1171879991889",
         "0.1171879991889",
         "0.1166289970278739",
         "0.1166289970278739",
         "0.0899090468883514",
         "14560000",
         "0.0",
         "0.0",
         "AAPL",
         "-0.9486572079364097"
        ],
        [
         "43",
         "1981-02-13",
         "0.1149550005793571",
         "0.1149550005793571",
         "0.1138390004634857",
         "0.1138390004634857",
         "0.0877582728862762",
         "11155200",
         "0.0",
         "0.0",
         "AAPL",
         "-2.3921980257803233"
        ],
        [
         "44",
         "1981-02-17",
         "0.1166289970278739",
         "0.1171879991889",
         "0.1166289970278739",
         "0.1166289970278739",
         "0.0899090468883514",
         "12275200",
         "0.0",
         "0.0",
         "AAPL",
         "2.450826652578608"
        ],
        [
         "45",
         "1981-02-18",
         "0.1216519996523857",
         "0.1227679997682571",
         "0.1216519996523857",
         "0.1216519996523857",
         "0.093781292438507",
         "19241600",
         "0.0",
         "0.0",
         "AAPL",
         "4.306821418786044"
        ],
        [
         "46",
         "1981-02-19",
         "0.1149550005793571",
         "0.1149550005793571",
         "0.1143969967961311",
         "0.1143969967961311",
         "0.0881884023547172",
         "22310400",
         "0.0",
         "0.0",
         "AAPL",
         "-5.963734979273161"
        ],
        [
         "47",
         "1981-02-20",
         "0.1088170036673545",
         "0.1088170036673545",
         "0.1082589998841285",
         "0.1082589998841285",
         "0.0834566429257392",
         "24371200",
         "0.0",
         "0.0",
         "AAPL",
         "-5.365522770620668"
        ],
        [
         "48",
         "1981-02-23",
         "0.1099329963326454",
         "0.1104910001158714",
         "0.1099329963326454",
         "0.1099329963326454",
         "0.0847471207380294",
         "14112000",
         "0.0",
         "0.0",
         "AAPL",
         "1.5462884843833846"
        ],
        [
         "49",
         "1981-02-24",
         "0.1071429997682571",
         "0.1071429997682571",
         "0.1060269996523857",
         "0.1060269996523857",
         "0.0817359760403633",
         "16979200",
         "0.0",
         "0.0",
         "AAPL",
         "-3.5530703342612213"
        ]
       ],
       "shape": {
        "columns": 11,
        "rows": 45428
       }
      },
      "text/html": [
       "<div>\n",
       "<style scoped>\n",
       "    .dataframe tbody tr th:only-of-type {\n",
       "        vertical-align: middle;\n",
       "    }\n",
       "\n",
       "    .dataframe tbody tr th {\n",
       "        vertical-align: top;\n",
       "    }\n",
       "\n",
       "    .dataframe thead th {\n",
       "        text-align: right;\n",
       "    }\n",
       "</style>\n",
       "<table border=\"1\" class=\"dataframe\">\n",
       "  <thead>\n",
       "    <tr style=\"text-align: right;\">\n",
       "      <th></th>\n",
       "      <th>date</th>\n",
       "      <th>open</th>\n",
       "      <th>high</th>\n",
       "      <th>low</th>\n",
       "      <th>close</th>\n",
       "      <th>adj_close</th>\n",
       "      <th>volume</th>\n",
       "      <th>dividends</th>\n",
       "      <th>stock_splits</th>\n",
       "      <th>ticker</th>\n",
       "      <th>Daily_Return</th>\n",
       "    </tr>\n",
       "  </thead>\n",
       "  <tbody>\n",
       "    <tr>\n",
       "      <th>0</th>\n",
       "      <td>1980-12-12</td>\n",
       "      <td>0.128348</td>\n",
       "      <td>0.128906</td>\n",
       "      <td>0.128348</td>\n",
       "      <td>0.128348</td>\n",
       "      <td>0.098943</td>\n",
       "      <td>469033600</td>\n",
       "      <td>0.0</td>\n",
       "      <td>0.0</td>\n",
       "      <td>AAPL</td>\n",
       "      <td>NaN</td>\n",
       "    </tr>\n",
       "    <tr>\n",
       "      <th>1</th>\n",
       "      <td>1980-12-15</td>\n",
       "      <td>0.122210</td>\n",
       "      <td>0.122210</td>\n",
       "      <td>0.121652</td>\n",
       "      <td>0.121652</td>\n",
       "      <td>0.093781</td>\n",
       "      <td>175884800</td>\n",
       "      <td>0.0</td>\n",
       "      <td>0.0</td>\n",
       "      <td>AAPL</td>\n",
       "      <td>-5.217061</td>\n",
       "    </tr>\n",
       "    <tr>\n",
       "      <th>2</th>\n",
       "      <td>1980-12-16</td>\n",
       "      <td>0.113281</td>\n",
       "      <td>0.113281</td>\n",
       "      <td>0.112723</td>\n",
       "      <td>0.112723</td>\n",
       "      <td>0.086898</td>\n",
       "      <td>105728000</td>\n",
       "      <td>0.0</td>\n",
       "      <td>0.0</td>\n",
       "      <td>AAPL</td>\n",
       "      <td>-7.339788</td>\n",
       "    </tr>\n",
       "    <tr>\n",
       "      <th>3</th>\n",
       "      <td>1980-12-17</td>\n",
       "      <td>0.115513</td>\n",
       "      <td>0.116071</td>\n",
       "      <td>0.115513</td>\n",
       "      <td>0.115513</td>\n",
       "      <td>0.089049</td>\n",
       "      <td>86441600</td>\n",
       "      <td>0.0</td>\n",
       "      <td>0.0</td>\n",
       "      <td>AAPL</td>\n",
       "      <td>2.475091</td>\n",
       "    </tr>\n",
       "    <tr>\n",
       "      <th>4</th>\n",
       "      <td>1980-12-18</td>\n",
       "      <td>0.118862</td>\n",
       "      <td>0.119420</td>\n",
       "      <td>0.118862</td>\n",
       "      <td>0.118862</td>\n",
       "      <td>0.091630</td>\n",
       "      <td>73449600</td>\n",
       "      <td>0.0</td>\n",
       "      <td>0.0</td>\n",
       "      <td>AAPL</td>\n",
       "      <td>2.899246</td>\n",
       "    </tr>\n",
       "    <tr>\n",
       "      <th>...</th>\n",
       "      <td>...</td>\n",
       "      <td>...</td>\n",
       "      <td>...</td>\n",
       "      <td>...</td>\n",
       "      <td>...</td>\n",
       "      <td>...</td>\n",
       "      <td>...</td>\n",
       "      <td>...</td>\n",
       "      <td>...</td>\n",
       "      <td>...</td>\n",
       "      <td>...</td>\n",
       "    </tr>\n",
       "    <tr>\n",
       "      <th>45423</th>\n",
       "      <td>2024-07-24</td>\n",
       "      <td>225.419998</td>\n",
       "      <td>225.990005</td>\n",
       "      <td>214.710007</td>\n",
       "      <td>215.990005</td>\n",
       "      <td>215.990005</td>\n",
       "      <td>167942900</td>\n",
       "      <td>0.0</td>\n",
       "      <td>0.0</td>\n",
       "      <td>TSLA</td>\n",
       "      <td>-12.334605</td>\n",
       "    </tr>\n",
       "    <tr>\n",
       "      <th>45424</th>\n",
       "      <td>2024-07-25</td>\n",
       "      <td>216.800003</td>\n",
       "      <td>226.000000</td>\n",
       "      <td>216.229996</td>\n",
       "      <td>220.250000</td>\n",
       "      <td>220.250000</td>\n",
       "      <td>100636500</td>\n",
       "      <td>0.0</td>\n",
       "      <td>0.0</td>\n",
       "      <td>TSLA</td>\n",
       "      <td>1.972311</td>\n",
       "    </tr>\n",
       "    <tr>\n",
       "      <th>45425</th>\n",
       "      <td>2024-07-26</td>\n",
       "      <td>221.190002</td>\n",
       "      <td>222.279999</td>\n",
       "      <td>215.330002</td>\n",
       "      <td>219.800003</td>\n",
       "      <td>219.800003</td>\n",
       "      <td>94604100</td>\n",
       "      <td>0.0</td>\n",
       "      <td>0.0</td>\n",
       "      <td>TSLA</td>\n",
       "      <td>-0.204312</td>\n",
       "    </tr>\n",
       "    <tr>\n",
       "      <th>45426</th>\n",
       "      <td>2024-07-29</td>\n",
       "      <td>224.899994</td>\n",
       "      <td>234.270004</td>\n",
       "      <td>224.699997</td>\n",
       "      <td>232.100006</td>\n",
       "      <td>232.100006</td>\n",
       "      <td>129201800</td>\n",
       "      <td>0.0</td>\n",
       "      <td>0.0</td>\n",
       "      <td>TSLA</td>\n",
       "      <td>5.595998</td>\n",
       "    </tr>\n",
       "    <tr>\n",
       "      <th>45427</th>\n",
       "      <td>2024-07-30</td>\n",
       "      <td>232.250000</td>\n",
       "      <td>232.410004</td>\n",
       "      <td>220.000000</td>\n",
       "      <td>222.619995</td>\n",
       "      <td>222.619995</td>\n",
       "      <td>100560300</td>\n",
       "      <td>0.0</td>\n",
       "      <td>0.0</td>\n",
       "      <td>TSLA</td>\n",
       "      <td>-4.084451</td>\n",
       "    </tr>\n",
       "  </tbody>\n",
       "</table>\n",
       "<p>45428 rows × 11 columns</p>\n",
       "</div>"
      ],
      "text/plain": [
       "             date        open        high         low       close   adj_close  \\\n",
       "0      1980-12-12    0.128348    0.128906    0.128348    0.128348    0.098943   \n",
       "1      1980-12-15    0.122210    0.122210    0.121652    0.121652    0.093781   \n",
       "2      1980-12-16    0.113281    0.113281    0.112723    0.112723    0.086898   \n",
       "3      1980-12-17    0.115513    0.116071    0.115513    0.115513    0.089049   \n",
       "4      1980-12-18    0.118862    0.119420    0.118862    0.118862    0.091630   \n",
       "...           ...         ...         ...         ...         ...         ...   \n",
       "45423  2024-07-24  225.419998  225.990005  214.710007  215.990005  215.990005   \n",
       "45424  2024-07-25  216.800003  226.000000  216.229996  220.250000  220.250000   \n",
       "45425  2024-07-26  221.190002  222.279999  215.330002  219.800003  219.800003   \n",
       "45426  2024-07-29  224.899994  234.270004  224.699997  232.100006  232.100006   \n",
       "45427  2024-07-30  232.250000  232.410004  220.000000  222.619995  222.619995   \n",
       "\n",
       "          volume  dividends  stock_splits ticker  Daily_Return  \n",
       "0      469033600        0.0           0.0   AAPL           NaN  \n",
       "1      175884800        0.0           0.0   AAPL     -5.217061  \n",
       "2      105728000        0.0           0.0   AAPL     -7.339788  \n",
       "3       86441600        0.0           0.0   AAPL      2.475091  \n",
       "4       73449600        0.0           0.0   AAPL      2.899246  \n",
       "...          ...        ...           ...    ...           ...  \n",
       "45423  167942900        0.0           0.0   TSLA    -12.334605  \n",
       "45424  100636500        0.0           0.0   TSLA      1.972311  \n",
       "45425   94604100        0.0           0.0   TSLA     -0.204312  \n",
       "45426  129201800        0.0           0.0   TSLA      5.595998  \n",
       "45427  100560300        0.0           0.0   TSLA     -4.084451  \n",
       "\n",
       "[45428 rows x 11 columns]"
      ]
     },
     "execution_count": 26,
     "metadata": {},
     "output_type": "execute_result"
    }
   ],
   "source": [
    "# calculate daily return on close features of stock data\n",
    "analysis.calculate_daily_returns(stock_data)"
   ]
  },
  {
   "cell_type": "markdown",
   "id": "d2b4035b",
   "metadata": {},
   "source": [
    "#### aligning financial news data with stock price data using date "
   ]
  },
  {
   "cell_type": "code",
   "execution_count": 36,
   "id": "ad67121b",
   "metadata": {},
   "outputs": [
    {
     "name": "stdout",
     "output_type": "stream",
     "text": [
      "Local punkt tokenizer found.\n",
      "Aligning datasets by date...\n"
     ]
    },
    {
     "data": {
      "application/vnd.microsoft.datawrangler.viewer.v0+json": {
       "columns": [
        {
         "name": "index",
         "rawType": "int64",
         "type": "integer"
        },
        {
         "name": "date",
         "rawType": "object",
         "type": "unknown"
        },
        {
         "name": "open",
         "rawType": "float64",
         "type": "float"
        },
        {
         "name": "high",
         "rawType": "float64",
         "type": "float"
        },
        {
         "name": "low",
         "rawType": "float64",
         "type": "float"
        },
        {
         "name": "close",
         "rawType": "float64",
         "type": "float"
        },
        {
         "name": "adj_close",
         "rawType": "float64",
         "type": "float"
        },
        {
         "name": "volume",
         "rawType": "int64",
         "type": "integer"
        },
        {
         "name": "dividends",
         "rawType": "float64",
         "type": "float"
        },
        {
         "name": "stock_splits",
         "rawType": "float64",
         "type": "float"
        },
        {
         "name": "ticker",
         "rawType": "object",
         "type": "string"
        },
        {
         "name": "Daily_Return",
         "rawType": "float64",
         "type": "float"
        },
        {
         "name": "Unnamed: 0",
         "rawType": "int64",
         "type": "integer"
        },
        {
         "name": "headline",
         "rawType": "object",
         "type": "string"
        },
        {
         "name": "url",
         "rawType": "object",
         "type": "string"
        },
        {
         "name": "publisher",
         "rawType": "object",
         "type": "string"
        },
        {
         "name": "stock",
         "rawType": "object",
         "type": "string"
        },
        {
         "name": "cleaned_headline",
         "rawType": "object",
         "type": "string"
        },
        {
         "name": "sentiment",
         "rawType": "float64",
         "type": "float"
        },
        {
         "name": "l_sentiment",
         "rawType": "object",
         "type": "string"
        }
       ],
       "ref": "0c5a3e59-944d-4a74-b413-9030158d1434",
       "rows": [
        [
         "0",
         "2009-04-27",
         "4.389286041259766",
         "4.464285850524902",
         "4.380713939666748",
         "4.4546427726745605",
         "3.76183557510376",
         "480690000",
         "0.0",
         "0.0",
         "AAPL",
         "0.6698888285194604",
         "522587",
         "Update on the Luxury Sector: 2nd Quarter 2009",
         "https://www.benzinga.com/charles-lewis-sizemore-cfa/2009/4/27/update-on-the-luxury-sector-2nd-quarter-2009",
         "Charles Lewis Sizemore CFA",
         "FT",
         "update luxury sector quarter",
         "0.0",
         "neutral"
        ],
        [
         "1",
         "2009-04-27",
         "4.389286041259766",
         "4.464285850524902",
         "4.380713939666748",
         "4.4546427726745605",
         "3.76183557510376",
         "480690000",
         "0.0",
         "0.0",
         "AAPL",
         "0.6698888285194604",
         "1396488",
         "Update on the Luxury Sector: 2nd Quarter 2009",
         "https://www.benzinga.com/charles-lewis-sizemore-cfa/2009/4/27/update-on-the-luxury-sector-2nd-quarter-2009",
         "Charles Lewis Sizemore CFA",
         "Y",
         "update luxury sector quarter",
         "0.0",
         "neutral"
        ],
        [
         "2",
         "2009-04-29",
         "4.458929061889648",
         "4.5303568840026855",
         "4.422500133514404",
         "4.46928596496582",
         "3.774200677871704",
         "458110800",
         "0.0",
         "0.0",
         "AAPL",
         "1.0008084140580076",
         "1834",
         "Going Against the Herd",
         "https://www.benzinga.com/charles-lewis-sizemore-cfa/2009/4/29/going-against-the-herd",
         "Charles Lewis Sizemore CFA",
         "A",
         "going herd",
         "0.0",
         "neutral"
        ],
        [
         "3",
         "2009-05-22",
         "4.430356979370117",
         "4.434999942779541",
         "4.348214149475098",
         "4.375",
         "3.694579601287842",
         "297998400",
         "0.0",
         "0.0",
         "AAPL",
         "-1.3528735863283292",
         "68387",
         "Charles Sizemore Radio Interview Saturday Morning",
         "https://www.benzinga.com/11218/charles-sizemore-radio-interview-saturday-morning",
         "Charles Lewis Sizemore CFA",
         "AM",
         "charles sizemore radio interview saturday morning",
         "0.0",
         "neutral"
        ],
        [
         "4",
         "2009-05-27",
         "4.7064290046691895",
         "4.820713996887207",
         "4.675356864929199",
         "4.751786231994629",
         "4.012765407562256",
         "646422000",
         "0.0",
         "0.0",
         "AAPL",
         "1.7357588622260556",
         "430147",
         "MRM a $15-$20+ stock - FIT new information - JVA 58% super-trades winner",
         "https://www.benzinga.com/superman/2009/5/27/mrm-15-20-stock-fit-new-information-jva-58-super-trades-winner",
         "superman",
         "EPS",
         "mrm stock fit new information jva supertrades winner",
         "0.2681818181818182",
         "positive"
        ],
        [
         "5",
         "2009-05-27",
         "4.7064290046691895",
         "4.820713996887207",
         "4.675356864929199",
         "4.751786231994629",
         "4.012765407562256",
         "646422000",
         "0.0",
         "0.0",
         "AAPL",
         "1.7357588622260556",
         "430148",
         "JVA perks to 39% gain, SMCG ready, MRM to continue",
         "https://www.benzinga.com/superman/2009/5/27/jva-perks-39-gain-smcg-ready-mrm-continue",
         "superman",
         "EPS",
         "jva perk gain smcg ready mrm continue",
         "0.2",
         "positive"
        ],
        [
         "6",
         "2009-05-27",
         "4.7064290046691895",
         "4.820713996887207",
         "4.675356864929199",
         "4.751786231994629",
         "4.012765407562256",
         "646422000",
         "0.0",
         "0.0",
         "AAPL",
         "1.7357588622260556",
         "561526",
         "JVA perks to 39% gain, SMCG ready, MRM to continue",
         "https://www.benzinga.com/superman/2009/5/27/jva-perks-39-gain-smcg-ready-mrm-continue",
         "superman",
         "GMCR",
         "jva perk gain smcg ready mrm continue",
         "0.2",
         "positive"
        ],
        [
         "7",
         "2009-05-27",
         "4.7064290046691895",
         "4.820713996887207",
         "4.675356864929199",
         "4.751786231994629",
         "4.012765407562256",
         "646422000",
         "0.0",
         "0.0",
         "AAPL",
         "1.7357588622260556",
         "714846",
         "MRM a $15-$20+ stock - FIT new information - JVA 58% super-trades winner",
         "https://www.benzinga.com/superman/2009/5/27/mrm-15-20-stock-fit-new-information-jva-58-super-trades-winner",
         "superman",
         "JVA",
         "mrm stock fit new information jva supertrades winner",
         "0.2681818181818182",
         "positive"
        ],
        [
         "8",
         "2009-05-27",
         "4.7064290046691895",
         "4.820713996887207",
         "4.675356864929199",
         "4.751786231994629",
         "4.012765407562256",
         "646422000",
         "0.0",
         "0.0",
         "AAPL",
         "1.7357588622260556",
         "714847",
         "JVA perks to 39% gain, SMCG ready, MRM to continue",
         "https://www.benzinga.com/superman/2009/5/27/jva-perks-39-gain-smcg-ready-mrm-continue",
         "superman",
         "JVA",
         "jva perk gain smcg ready mrm continue",
         "0.2",
         "positive"
        ],
        [
         "9",
         "2009-05-27",
         "4.7064290046691895",
         "4.820713996887207",
         "4.675356864929199",
         "4.751786231994629",
         "4.012765407562256",
         "646422000",
         "0.0",
         "0.0",
         "AAPL",
         "1.7357588622260556",
         "1081067",
         "MRM a $15-$20+ stock - FIT new information - JVA 58% super-trades winner",
         "https://www.benzinga.com/superman/2009/5/27/mrm-15-20-stock-fit-new-information-jva-58-super-trades-winner",
         "superman",
         "RF",
         "mrm stock fit new information jva supertrades winner",
         "0.2681818181818182",
         "positive"
        ],
        [
         "10",
         "2009-05-29",
         "4.835357189178467",
         "4.853570938110352",
         "4.7803568840026855",
         "4.850357055664063",
         "4.096006870269775",
         "456534400",
         "0.0",
         "0.0",
         "AAPL",
         "0.5478568107268877",
         "430146",
         "In $7.60 UTA - New Chinese Listing - Travel Stock",
         "https://www.benzinga.com/superman/2009/5/29/760-uta-new-chinese-listing-travel-stock",
         "superman",
         "EPS",
         "uta new chinese listing travel stock",
         "0.06818181818181818",
         "positive"
        ],
        [
         "11",
         "2009-05-29",
         "4.835357189178467",
         "4.853570938110352",
         "4.7803568840026855",
         "4.850357055664063",
         "4.096006870269775",
         "456534400",
         "0.0",
         "0.0",
         "AAPL",
         "0.5478568107268877",
         "1048384",
         "In $7.60 UTA - New Chinese Listing - Travel Stock",
         "https://www.benzinga.com/superman/2009/5/29/760-uta-new-chinese-listing-travel-stock",
         "superman",
         "Q",
         "uta new chinese listing travel stock",
         "0.06818181818181818",
         "positive"
        ],
        [
         "12",
         "2009-06-01",
         "4.873929023742676",
         "4.999642848968506",
         "4.857142925262451",
         "4.976786136627197",
         "4.202771186828613",
         "452499600",
         "0.0",
         "0.0",
         "AAPL",
         "2.606593277818492",
         "1833",
         "super-trades - Two 52 week highs and others about to join them",
         "https://www.benzinga.com/superman/2009/6/1/super-trades-two-52-week-highs-and-others-about-to-join-them",
         "superman",
         "A",
         "supertrades two week high others join",
         "0.16",
         "positive"
        ],
        [
         "13",
         "2009-06-01",
         "4.873929023742676",
         "4.999642848968506",
         "4.857142925262451",
         "4.976786136627197",
         "4.202771186828613",
         "452499600",
         "0.0",
         "0.0",
         "AAPL",
         "2.606593277818492",
         "344693",
         "super-trades - Two 52 week highs and others about to join them",
         "https://www.benzinga.com/superman/2009/6/1/super-trades-two-52-week-highs-and-others-about-to-join-them",
         "superman",
         "DD",
         "supertrades two week high others join",
         "0.16",
         "positive"
        ],
        [
         "14",
         "2009-06-01",
         "4.873929023742676",
         "4.999642848968506",
         "4.857142925262451",
         "4.976786136627197",
         "4.202771186828613",
         "452499600",
         "0.0",
         "0.0",
         "AAPL",
         "2.606593277818492",
         "365055",
         "super-trades - Two 52 week highs and others about to join them",
         "https://www.benzinga.com/superman/2009/6/1/super-trades-two-52-week-highs-and-others-about-to-join-them",
         "superman",
         "DIT",
         "supertrades two week high others join",
         "0.16",
         "positive"
        ],
        [
         "15",
         "2009-06-01",
         "4.873929023742676",
         "4.999642848968506",
         "4.857142925262451",
         "4.976786136627197",
         "4.202771186828613",
         "452499600",
         "0.0",
         "0.0",
         "AAPL",
         "2.606593277818492",
         "430144",
         "super-trades - Two 52 week highs and others about to join them",
         "https://www.benzinga.com/superman/2009/6/1/super-trades-two-52-week-highs-and-others-about-to-join-them",
         "superman",
         "EPS",
         "supertrades two week high others join",
         "0.16",
         "positive"
        ],
        [
         "16",
         "2009-06-01",
         "4.873929023742676",
         "4.999642848968506",
         "4.857142925262451",
         "4.976786136627197",
         "4.202771186828613",
         "452499600",
         "0.0",
         "0.0",
         "AAPL",
         "2.606593277818492",
         "522586",
         "A Contrarian's Dream Scenario",
         "https://www.benzinga.com/11216/a-contrarian-s-dream-scenario",
         "Charles Lewis Sizemore CFA",
         "FT",
         "contrarian dream scenario",
         "0.0",
         "neutral"
        ],
        [
         "17",
         "2009-06-02",
         "4.963929176330566",
         "5.04785680770874",
         "4.941071033477783",
         "4.981785774230957",
         "4.20699405670166",
         "456223600",
         "0.0",
         "0.0",
         "AAPL",
         "0.1004591611233785",
         "430143",
         "in EVK $1.85 - Unkown China Retailer 2m Float",
         "https://www.benzinga.com/5342/in-evk-1-85-unkown-china-retailer-2m-float",
         "superman",
         "EPS",
         "evk unkown china retailer float",
         "0.0",
         "neutral"
        ],
        [
         "18",
         "2009-06-02",
         "4.963929176330566",
         "5.04785680770874",
         "4.941071033477783",
         "4.981785774230957",
         "4.20699405670166",
         "456223600",
         "0.0",
         "0.0",
         "AAPL",
         "0.1004591611233785",
         "447434",
         "in EVK $1.85 - Unkown China Retailer 2m Float",
         "https://www.benzinga.com/5342/in-evk-1-85-unkown-china-retailer-2m-float",
         "superman",
         "EVK",
         "evk unkown china retailer float",
         "0.0",
         "neutral"
        ],
        [
         "19",
         "2009-06-05",
         "5.189642906188965",
         "5.228570938110352",
         "5.114643096923828",
         "5.166786193847656",
         "4.363223552703857",
         "632716000",
         "0.0",
         "0.0",
         "AAPL",
         "0.6470163746035151",
         "344692",
         "Last 3 picks all took off this week 67%,62%,30% gainers",
         "https://www.benzinga.com/5341/last-3-picks-all-took-off-this-week-67-62-30-gainers",
         "superman",
         "DD",
         "last pick took week gainer",
         "0.0",
         "neutral"
        ],
        [
         "20",
         "2009-06-05",
         "5.189642906188965",
         "5.228570938110352",
         "5.114643096923828",
         "5.166786193847656",
         "4.363223552703857",
         "632716000",
         "0.0",
         "0.0",
         "AAPL",
         "0.6470163746035151",
         "409773",
         "Is this the Next EFUT? - From the Person who called the First One",
         "https://www.benzinga.com/5340/is-this-the-next-efut-from-the-person-who-called-the-first-one",
         "superman",
         "EFUT",
         "next efut person called first one",
         "0.125",
         "positive"
        ],
        [
         "21",
         "2009-06-05",
         "5.189642906188965",
         "5.228570938110352",
         "5.114643096923828",
         "5.166786193847656",
         "4.363223552703857",
         "632716000",
         "0.0",
         "0.0",
         "AAPL",
         "0.6470163746035151",
         "430142",
         "Is this the Next EFUT? - From the Person who called the First One",
         "https://www.benzinga.com/5340/is-this-the-next-efut-from-the-person-who-called-the-first-one",
         "superman",
         "EPS",
         "next efut person called first one",
         "0.125",
         "positive"
        ],
        [
         "22",
         "2009-06-05",
         "5.189642906188965",
         "5.228570938110352",
         "5.114643096923828",
         "5.166786193847656",
         "4.363223552703857",
         "632716000",
         "0.0",
         "0.0",
         "AAPL",
         "0.6470163746035151",
         "447433",
         "Last 3 picks all took off this week 67%,62%,30% gainers",
         "https://www.benzinga.com/5341/last-3-picks-all-took-off-this-week-67-62-30-gainers",
         "superman",
         "EVK",
         "last pick took week gainer",
         "0.0",
         "neutral"
        ],
        [
         "23",
         "2009-06-05",
         "5.189642906188965",
         "5.228570938110352",
         "5.114643096923828",
         "5.166786193847656",
         "4.363223552703857",
         "632716000",
         "0.0",
         "0.0",
         "AAPL",
         "0.6470163746035151",
         "1144765",
         "Is this the Next EFUT? - From the Person who called the First One",
         "https://www.benzinga.com/5340/is-this-the-next-efut-from-the-person-who-called-the-first-one",
         "superman",
         "SKBI",
         "next efut person called first one",
         "0.125",
         "positive"
        ],
        [
         "24",
         "2009-06-05",
         "5.189642906188965",
         "5.228570938110352",
         "5.114643096923828",
         "5.166786193847656",
         "4.363223552703857",
         "632716000",
         "0.0",
         "0.0",
         "AAPL",
         "0.6470163746035151",
         "1282819",
         "Is this the Next EFUT? - From the Person who called the First One",
         "https://www.benzinga.com/5340/is-this-the-next-efut-from-the-person-who-called-the-first-one",
         "superman",
         "TZOO",
         "next efut person called first one",
         "0.125",
         "positive"
        ],
        [
         "25",
         "2009-06-08",
         "5.1364288330078125",
         "5.151071071624756",
         "4.979642868041992",
         "5.137499809265137",
         "4.338491916656494",
         "931652400",
         "0.0",
         "0.0",
         "AAPL",
         "-0.5668201370010673",
         "344691",
         "105% Gainer , 50% Gainer and a New, Exciting Stock",
         "https://www.benzinga.com/5339/105-gainer-50-gainer-and-a-new-exciting-stock",
         "superman",
         "DD",
         "gainer gainer new exciting stock",
         "0.21818181818181817",
         "positive"
        ],
        [
         "26",
         "2009-06-08",
         "5.1364288330078125",
         "5.151071071624756",
         "4.979642868041992",
         "5.137499809265137",
         "4.338491916656494",
         "931652400",
         "0.0",
         "0.0",
         "AAPL",
         "-0.5668201370010673",
         "409772",
         "105% Gainer , 50% Gainer and a New, Exciting Stock",
         "https://www.benzinga.com/5339/105-gainer-50-gainer-and-a-new-exciting-stock",
         "superman",
         "EFUT",
         "gainer gainer new exciting stock",
         "0.21818181818181817",
         "positive"
        ],
        [
         "27",
         "2009-06-08",
         "5.1364288330078125",
         "5.151071071624756",
         "4.979642868041992",
         "5.137499809265137",
         "4.338491916656494",
         "931652400",
         "0.0",
         "0.0",
         "AAPL",
         "-0.5668201370010673",
         "447432",
         "105% Gainer , 50% Gainer and a New, Exciting Stock",
         "https://www.benzinga.com/5339/105-gainer-50-gainer-and-a-new-exciting-stock",
         "superman",
         "EVK",
         "gainer gainer new exciting stock",
         "0.21818181818181817",
         "positive"
        ],
        [
         "28",
         "2009-06-09",
         "5.13607120513916",
         "5.162857055664063",
         "5.01964282989502",
         "5.097143173217773",
         "4.304409503936768",
         "676964400",
         "0.0",
         "0.0",
         "AAPL",
         "-0.7855306578227528",
         "130984",
         "SKBO.OB Also has Swine Disease Expertise",
         "https://www.benzinga.com/5337/skbo-ob-also-has-swine-disease-expertise",
         "superman",
         "B",
         "skboob also swine disease expertise",
         "0.0",
         "neutral"
        ],
        [
         "29",
         "2009-06-09",
         "5.13607120513916",
         "5.162857055664063",
         "5.01964282989502",
         "5.097143173217773",
         "4.304409503936768",
         "676964400",
         "0.0",
         "0.0",
         "AAPL",
         "-0.7855306578227528",
         "409770",
         "SKBO.OB Also has Swine Disease Expertise",
         "https://www.benzinga.com/5337/skbo-ob-also-has-swine-disease-expertise",
         "superman",
         "EFUT",
         "skboob also swine disease expertise",
         "0.0",
         "neutral"
        ],
        [
         "30",
         "2009-06-09",
         "5.13607120513916",
         "5.162857055664063",
         "5.01964282989502",
         "5.097143173217773",
         "4.304409503936768",
         "676964400",
         "0.0",
         "0.0",
         "AAPL",
         "-0.7855306578227528",
         "409771",
         "SKBO.OB vs. ADY - Compare These Two China Growth Stocks",
         "https://www.benzinga.com/5338/skbo-ob-vs-ady-compare-these-two-china-growth-stocks",
         "superman",
         "EFUT",
         "skboob v ady compare two china growth stock",
         "0.0",
         "neutral"
        ],
        [
         "31",
         "2009-06-09",
         "5.13607120513916",
         "5.162857055664063",
         "5.01964282989502",
         "5.097143173217773",
         "4.304409503936768",
         "676964400",
         "0.0",
         "0.0",
         "AAPL",
         "-0.7855306578227528",
         "430140",
         "SKBO.OB Also has Swine Disease Expertise",
         "https://www.benzinga.com/5337/skbo-ob-also-has-swine-disease-expertise",
         "superman",
         "EPS",
         "skboob also swine disease expertise",
         "0.0",
         "neutral"
        ],
        [
         "32",
         "2009-06-09",
         "5.13607120513916",
         "5.162857055664063",
         "5.01964282989502",
         "5.097143173217773",
         "4.304409503936768",
         "676964400",
         "0.0",
         "0.0",
         "AAPL",
         "-0.7855306578227528",
         "430141",
         "SKBO.OB vs. ADY - Compare These Two China Growth Stocks",
         "https://www.benzinga.com/5338/skbo-ob-vs-ady-compare-these-two-china-growth-stocks",
         "superman",
         "EPS",
         "skboob v ady compare two china growth stock",
         "0.0",
         "neutral"
        ],
        [
         "33",
         "2009-06-09",
         "5.13607120513916",
         "5.162857055664063",
         "5.01964282989502",
         "5.097143173217773",
         "4.304409503936768",
         "676964400",
         "0.0",
         "0.0",
         "AAPL",
         "-0.7855306578227528",
         "943531",
         "SKBO.OB Also has Swine Disease Expertise",
         "https://www.benzinga.com/5337/skbo-ob-also-has-swine-disease-expertise",
         "superman",
         "OB",
         "skboob also swine disease expertise",
         "0.0",
         "neutral"
        ],
        [
         "34",
         "2009-06-09",
         "5.13607120513916",
         "5.162857055664063",
         "5.01964282989502",
         "5.097143173217773",
         "4.304409503936768",
         "676964400",
         "0.0",
         "0.0",
         "AAPL",
         "-0.7855306578227528",
         "992912",
         "SKBO.OB Also has Swine Disease Expertise",
         "https://www.benzinga.com/5337/skbo-ob-also-has-swine-disease-expertise",
         "superman",
         "PDT",
         "skboob also swine disease expertise",
         "0.0",
         "neutral"
        ],
        [
         "35",
         "2009-06-15",
         "4.857500076293945",
         "4.89035701751709",
         "4.817500114440918",
         "4.86035680770874",
         "4.10444974899292",
         "539750400",
         "0.0",
         "0.0",
         "AAPL",
         "-0.6424911093567354",
         "409769",
         "super-trades Momentum Continues With Staying Power",
         "https://www.benzinga.com/5335/super-trades-momentum-continues-with-staying-power",
         "superman",
         "EFUT",
         "supertrades momentum continues staying power",
         "0.0",
         "neutral"
        ],
        [
         "36",
         "2009-06-15",
         "4.857500076293945",
         "4.89035701751709",
         "4.817500114440918",
         "4.86035680770874",
         "4.10444974899292",
         "539750400",
         "0.0",
         "0.0",
         "AAPL",
         "-0.6424911093567354",
         "430138",
         "super-trades Momentum Continues With Staying Power",
         "https://www.benzinga.com/5335/super-trades-momentum-continues-with-staying-power",
         "superman",
         "EPS",
         "supertrades momentum continues staying power",
         "0.0",
         "neutral"
        ],
        [
         "37",
         "2009-06-15",
         "4.857500076293945",
         "4.89035701751709",
         "4.817500114440918",
         "4.86035680770874",
         "4.10444974899292",
         "539750400",
         "0.0",
         "0.0",
         "AAPL",
         "-0.6424911093567354",
         "430139",
         "In AIM $4.20",
         "https://www.benzinga.com/5336/in-aim-4-20",
         "superman",
         "EPS",
         "aim",
         "0.0",
         "neutral"
        ],
        [
         "38",
         "2009-06-16",
         "4.880713939666748",
         "4.945356845855713",
         "4.860713958740234",
         "4.869643211364746",
         "4.112293243408203",
         "514805200",
         "0.0",
         "0.0",
         "AAPL",
         "0.19106423712096365",
         "430136",
         "RINO.OB - Amazing Growth - Compare to Coming DGW IPO",
         "https://www.benzinga.com/5333/rino-ob-amazing-growth-compare-to-coming-dgw-ipo",
         "superman",
         "EPS",
         "rinoob amazing growth compare coming dgw ipo",
         "0.6000000000000001",
         "positive"
        ],
        [
         "39",
         "2009-06-16",
         "4.880713939666748",
         "4.945356845855713",
         "4.860713958740234",
         "4.869643211364746",
         "4.112293243408203",
         "514805200",
         "0.0",
         "0.0",
         "AAPL",
         "0.19106423712096365",
         "430137",
         "AIM Great News the Day After Great Earnings",
         "https://www.benzinga.com/5334/aim-great-news-the-day-after-great-earnings",
         "superman",
         "EPS",
         "aim great news day great earnings",
         "0.8",
         "positive"
        ],
        [
         "40",
         "2009-06-16",
         "4.880713939666748",
         "4.945356845855713",
         "4.860713958740234",
         "4.869643211364746",
         "4.112293243408203",
         "514805200",
         "0.0",
         "0.0",
         "AAPL",
         "0.19106423712096365",
         "794150",
         "AIM Great News the Day After Great Earnings",
         "https://www.benzinga.com/5334/aim-great-news-the-day-after-great-earnings",
         "superman",
         "M",
         "aim great news day great earnings",
         "0.8",
         "positive"
        ],
        [
         "41",
         "2009-06-19",
         "4.931070804595947",
         "4.982142925262451",
         "4.889286041259766",
         "4.981429100036621",
         "4.206693649291992",
         "721856800",
         "0.0",
         "0.0",
         "AAPL",
         "2.6494080530567565",
         "29325",
         "Review of 3 Chinese IPO's- Week of June 22nd",
         "https://www.benzinga.com/5332/review-of-3-chinese-ipo-s-week-of-june-22nd",
         "superman",
         "ADS",
         "review chinese ipo week june",
         "0.0",
         "neutral"
        ],
        [
         "42",
         "2009-06-19",
         "4.931070804595947",
         "4.982142925262451",
         "4.889286041259766",
         "4.981429100036621",
         "4.206693649291992",
         "721856800",
         "0.0",
         "0.0",
         "AAPL",
         "2.6494080530567565",
         "256942",
         "Review of 3 Chinese IPO's- Week of June 22nd",
         "https://www.benzinga.com/5332/review-of-3-chinese-ipo-s-week-of-june-22nd",
         "superman",
         "CLWT",
         "review chinese ipo week june",
         "0.0",
         "neutral"
        ],
        [
         "43",
         "2009-06-19",
         "4.931070804595947",
         "4.982142925262451",
         "4.889286041259766",
         "4.981429100036621",
         "4.206693649291992",
         "721856800",
         "0.0",
         "0.0",
         "AAPL",
         "2.6494080530567565",
         "409768",
         "Review of 3 Chinese IPO's- Week of June 22nd",
         "https://www.benzinga.com/5332/review-of-3-chinese-ipo-s-week-of-june-22nd",
         "superman",
         "EFUT",
         "review chinese ipo week june",
         "0.0",
         "neutral"
        ],
        [
         "44",
         "2009-06-19",
         "4.931070804595947",
         "4.982142925262451",
         "4.889286041259766",
         "4.981429100036621",
         "4.206693649291992",
         "721856800",
         "0.0",
         "0.0",
         "AAPL",
         "2.6494080530567565",
         "430135",
         "Review of 3 Chinese IPO's- Week of June 22nd",
         "https://www.benzinga.com/5332/review-of-3-chinese-ipo-s-week-of-june-22nd",
         "superman",
         "EPS",
         "review chinese ipo week june",
         "0.0",
         "neutral"
        ],
        [
         "45",
         "2009-06-19",
         "4.931070804595947",
         "4.982142925262451",
         "4.889286041259766",
         "4.981429100036621",
         "4.206693649291992",
         "721856800",
         "0.0",
         "0.0",
         "AAPL",
         "2.6494080530567565",
         "1061963",
         "Review of 3 Chinese IPO's- Week of June 22nd",
         "https://www.benzinga.com/5332/review-of-3-chinese-ipo-s-week-of-june-22nd",
         "superman",
         "R",
         "review chinese ipo week june",
         "0.0",
         "neutral"
        ],
        [
         "46",
         "2009-06-22",
         "5.023929119110107",
         "5.055714130401611",
         "4.868928909301758",
         "4.906071186065674",
         "4.143056392669678",
         "634914000",
         "0.0",
         "0.0",
         "AAPL",
         "-1.5127770055061718",
         "737639",
         "guest post - Best Buy's been a 'best buy'",
         "https://www.benzinga.com/23145/guest-post-best-buy-s-been-a-best-buy",
         "themoneygardener",
         "KO",
         "guest post best buy best buy",
         "1.0",
         "positive"
        ],
        [
         "47",
         "2009-06-30",
         "5.092143058776856",
         "5.135714054107666",
         "5.064286231994629",
         "5.086785793304443",
         "4.295664310455322",
         "434224000",
         "0.0",
         "0.0",
         "AAPL",
         "0.3240195502641763",
         "344690",
         "SKBI at Higher End of Range - Free to Scream",
         "https://www.benzinga.com/5330/skbi-at-higher-end-of-range-free-to-scream",
         "superman",
         "DD",
         "skbi higher end range free scream",
         "0.325",
         "positive"
        ],
        [
         "48",
         "2009-06-30",
         "5.092143058776856",
         "5.135714054107666",
         "5.064286231994629",
         "5.086785793304443",
         "4.295664310455322",
         "434224000",
         "0.0",
         "0.0",
         "AAPL",
         "0.3240195502641763",
         "430133",
         "SKBI at Higher End of Range - Free to Scream",
         "https://www.benzinga.com/5330/skbi-at-higher-end-of-range-free-to-scream",
         "superman",
         "EPS",
         "skbi higher end range free scream",
         "0.325",
         "positive"
        ],
        [
         "49",
         "2009-06-30",
         "5.092143058776856",
         "5.135714054107666",
         "5.064286231994629",
         "5.086785793304443",
         "4.295664310455322",
         "434224000",
         "0.0",
         "0.0",
         "AAPL",
         "0.3240195502641763",
         "1144763",
         "SKBI at Higher End of Range - Free to Scream",
         "https://www.benzinga.com/5330/skbi-at-higher-end-of-range-free-to-scream",
         "superman",
         "SKBI",
         "skbi higher end range free scream",
         "0.325",
         "positive"
        ]
       ],
       "shape": {
        "columns": 19,
        "rows": 9287939
       }
      },
      "text/html": [
       "<div>\n",
       "<style scoped>\n",
       "    .dataframe tbody tr th:only-of-type {\n",
       "        vertical-align: middle;\n",
       "    }\n",
       "\n",
       "    .dataframe tbody tr th {\n",
       "        vertical-align: top;\n",
       "    }\n",
       "\n",
       "    .dataframe thead th {\n",
       "        text-align: right;\n",
       "    }\n",
       "</style>\n",
       "<table border=\"1\" class=\"dataframe\">\n",
       "  <thead>\n",
       "    <tr style=\"text-align: right;\">\n",
       "      <th></th>\n",
       "      <th>date</th>\n",
       "      <th>open</th>\n",
       "      <th>high</th>\n",
       "      <th>low</th>\n",
       "      <th>close</th>\n",
       "      <th>adj_close</th>\n",
       "      <th>volume</th>\n",
       "      <th>dividends</th>\n",
       "      <th>stock_splits</th>\n",
       "      <th>ticker</th>\n",
       "      <th>Daily_Return</th>\n",
       "      <th>Unnamed: 0</th>\n",
       "      <th>headline</th>\n",
       "      <th>url</th>\n",
       "      <th>publisher</th>\n",
       "      <th>stock</th>\n",
       "      <th>cleaned_headline</th>\n",
       "      <th>sentiment</th>\n",
       "      <th>l_sentiment</th>\n",
       "    </tr>\n",
       "  </thead>\n",
       "  <tbody>\n",
       "    <tr>\n",
       "      <th>0</th>\n",
       "      <td>2009-04-27</td>\n",
       "      <td>4.389286</td>\n",
       "      <td>4.464286</td>\n",
       "      <td>4.380714</td>\n",
       "      <td>4.454643</td>\n",
       "      <td>3.761836</td>\n",
       "      <td>480690000</td>\n",
       "      <td>0.0</td>\n",
       "      <td>0.0</td>\n",
       "      <td>AAPL</td>\n",
       "      <td>0.669889</td>\n",
       "      <td>522587</td>\n",
       "      <td>Update on the Luxury Sector: 2nd Quarter 2009</td>\n",
       "      <td>https://www.benzinga.com/charles-lewis-sizemor...</td>\n",
       "      <td>Charles Lewis Sizemore CFA</td>\n",
       "      <td>FT</td>\n",
       "      <td>update luxury sector quarter</td>\n",
       "      <td>0.000000</td>\n",
       "      <td>neutral</td>\n",
       "    </tr>\n",
       "    <tr>\n",
       "      <th>1</th>\n",
       "      <td>2009-04-27</td>\n",
       "      <td>4.389286</td>\n",
       "      <td>4.464286</td>\n",
       "      <td>4.380714</td>\n",
       "      <td>4.454643</td>\n",
       "      <td>3.761836</td>\n",
       "      <td>480690000</td>\n",
       "      <td>0.0</td>\n",
       "      <td>0.0</td>\n",
       "      <td>AAPL</td>\n",
       "      <td>0.669889</td>\n",
       "      <td>1396488</td>\n",
       "      <td>Update on the Luxury Sector: 2nd Quarter 2009</td>\n",
       "      <td>https://www.benzinga.com/charles-lewis-sizemor...</td>\n",
       "      <td>Charles Lewis Sizemore CFA</td>\n",
       "      <td>Y</td>\n",
       "      <td>update luxury sector quarter</td>\n",
       "      <td>0.000000</td>\n",
       "      <td>neutral</td>\n",
       "    </tr>\n",
       "    <tr>\n",
       "      <th>2</th>\n",
       "      <td>2009-04-29</td>\n",
       "      <td>4.458929</td>\n",
       "      <td>4.530357</td>\n",
       "      <td>4.422500</td>\n",
       "      <td>4.469286</td>\n",
       "      <td>3.774201</td>\n",
       "      <td>458110800</td>\n",
       "      <td>0.0</td>\n",
       "      <td>0.0</td>\n",
       "      <td>AAPL</td>\n",
       "      <td>1.000808</td>\n",
       "      <td>1834</td>\n",
       "      <td>Going Against the Herd</td>\n",
       "      <td>https://www.benzinga.com/charles-lewis-sizemor...</td>\n",
       "      <td>Charles Lewis Sizemore CFA</td>\n",
       "      <td>A</td>\n",
       "      <td>going herd</td>\n",
       "      <td>0.000000</td>\n",
       "      <td>neutral</td>\n",
       "    </tr>\n",
       "    <tr>\n",
       "      <th>3</th>\n",
       "      <td>2009-05-22</td>\n",
       "      <td>4.430357</td>\n",
       "      <td>4.435000</td>\n",
       "      <td>4.348214</td>\n",
       "      <td>4.375000</td>\n",
       "      <td>3.694580</td>\n",
       "      <td>297998400</td>\n",
       "      <td>0.0</td>\n",
       "      <td>0.0</td>\n",
       "      <td>AAPL</td>\n",
       "      <td>-1.352874</td>\n",
       "      <td>68387</td>\n",
       "      <td>Charles Sizemore Radio Interview Saturday Morning</td>\n",
       "      <td>https://www.benzinga.com/11218/charles-sizemor...</td>\n",
       "      <td>Charles Lewis Sizemore CFA</td>\n",
       "      <td>AM</td>\n",
       "      <td>charles sizemore radio interview saturday morning</td>\n",
       "      <td>0.000000</td>\n",
       "      <td>neutral</td>\n",
       "    </tr>\n",
       "    <tr>\n",
       "      <th>4</th>\n",
       "      <td>2009-05-27</td>\n",
       "      <td>4.706429</td>\n",
       "      <td>4.820714</td>\n",
       "      <td>4.675357</td>\n",
       "      <td>4.751786</td>\n",
       "      <td>4.012765</td>\n",
       "      <td>646422000</td>\n",
       "      <td>0.0</td>\n",
       "      <td>0.0</td>\n",
       "      <td>AAPL</td>\n",
       "      <td>1.735759</td>\n",
       "      <td>430147</td>\n",
       "      <td>MRM a $15-$20+ stock - FIT new information - J...</td>\n",
       "      <td>https://www.benzinga.com/superman/2009/5/27/mr...</td>\n",
       "      <td>superman</td>\n",
       "      <td>EPS</td>\n",
       "      <td>mrm stock fit new information jva supertrades ...</td>\n",
       "      <td>0.268182</td>\n",
       "      <td>positive</td>\n",
       "    </tr>\n",
       "    <tr>\n",
       "      <th>...</th>\n",
       "      <td>...</td>\n",
       "      <td>...</td>\n",
       "      <td>...</td>\n",
       "      <td>...</td>\n",
       "      <td>...</td>\n",
       "      <td>...</td>\n",
       "      <td>...</td>\n",
       "      <td>...</td>\n",
       "      <td>...</td>\n",
       "      <td>...</td>\n",
       "      <td>...</td>\n",
       "      <td>...</td>\n",
       "      <td>...</td>\n",
       "      <td>...</td>\n",
       "      <td>...</td>\n",
       "      <td>...</td>\n",
       "      <td>...</td>\n",
       "      <td>...</td>\n",
       "      <td>...</td>\n",
       "    </tr>\n",
       "    <tr>\n",
       "      <th>9287934</th>\n",
       "      <td>2020-06-11</td>\n",
       "      <td>66.013336</td>\n",
       "      <td>67.930664</td>\n",
       "      <td>64.800003</td>\n",
       "      <td>64.856003</td>\n",
       "      <td>64.856003</td>\n",
       "      <td>238747500</td>\n",
       "      <td>0.0</td>\n",
       "      <td>0.0</td>\n",
       "      <td>TSLA</td>\n",
       "      <td>-5.093410</td>\n",
       "      <td>1402389</td>\n",
       "      <td>Shares of several hotels, restaurants &amp; leisur...</td>\n",
       "      <td>https://www.benzinga.com/wiim/20/06/16233044/s...</td>\n",
       "      <td>Benzinga Newsdesk</td>\n",
       "      <td>YUM</td>\n",
       "      <td>share several hotel restaurant leisure company...</td>\n",
       "      <td>0.000000</td>\n",
       "      <td>neutral</td>\n",
       "    </tr>\n",
       "    <tr>\n",
       "      <th>9287935</th>\n",
       "      <td>2020-06-11</td>\n",
       "      <td>66.013336</td>\n",
       "      <td>67.930664</td>\n",
       "      <td>64.800003</td>\n",
       "      <td>64.856003</td>\n",
       "      <td>64.856003</td>\n",
       "      <td>238747500</td>\n",
       "      <td>0.0</td>\n",
       "      <td>0.0</td>\n",
       "      <td>TSLA</td>\n",
       "      <td>-5.093410</td>\n",
       "      <td>1402390</td>\n",
       "      <td>Morgan Stanley Maintains Overweight on Yum Bra...</td>\n",
       "      <td>https://www.benzinga.com/news/20/06/16231689/m...</td>\n",
       "      <td>Benzinga Newsdesk</td>\n",
       "      <td>YUM</td>\n",
       "      <td>morgan stanley maintains overweight yum brand ...</td>\n",
       "      <td>0.000000</td>\n",
       "      <td>neutral</td>\n",
       "    </tr>\n",
       "    <tr>\n",
       "      <th>9287936</th>\n",
       "      <td>2020-06-11</td>\n",
       "      <td>66.013336</td>\n",
       "      <td>67.930664</td>\n",
       "      <td>64.800003</td>\n",
       "      <td>64.856003</td>\n",
       "      <td>64.856003</td>\n",
       "      <td>238747500</td>\n",
       "      <td>0.0</td>\n",
       "      <td>0.0</td>\n",
       "      <td>TSLA</td>\n",
       "      <td>-5.093410</td>\n",
       "      <td>1402391</td>\n",
       "      <td>Credit Suisse Maintains Neutral on Yum Brands,...</td>\n",
       "      <td>https://www.benzinga.com/news/20/06/16231164/c...</td>\n",
       "      <td>Benzinga Newsdesk</td>\n",
       "      <td>YUM</td>\n",
       "      <td>credit suisse maintains neutral yum brand rais...</td>\n",
       "      <td>0.000000</td>\n",
       "      <td>neutral</td>\n",
       "    </tr>\n",
       "    <tr>\n",
       "      <th>9287937</th>\n",
       "      <td>2020-06-11</td>\n",
       "      <td>66.013336</td>\n",
       "      <td>67.930664</td>\n",
       "      <td>64.800003</td>\n",
       "      <td>64.856003</td>\n",
       "      <td>64.856003</td>\n",
       "      <td>238747500</td>\n",
       "      <td>0.0</td>\n",
       "      <td>0.0</td>\n",
       "      <td>TSLA</td>\n",
       "      <td>-5.093410</td>\n",
       "      <td>1402392</td>\n",
       "      <td>UBS Maintains Buy on Yum Brands, Raises Price ...</td>\n",
       "      <td>https://www.benzinga.com/news/20/06/16230653/u...</td>\n",
       "      <td>Benzinga Newsdesk</td>\n",
       "      <td>YUM</td>\n",
       "      <td>ubs maintains buy yum brand raise price target</td>\n",
       "      <td>0.000000</td>\n",
       "      <td>neutral</td>\n",
       "    </tr>\n",
       "    <tr>\n",
       "      <th>9287938</th>\n",
       "      <td>2020-06-11</td>\n",
       "      <td>66.013336</td>\n",
       "      <td>67.930664</td>\n",
       "      <td>64.800003</td>\n",
       "      <td>64.856003</td>\n",
       "      <td>64.856003</td>\n",
       "      <td>238747500</td>\n",
       "      <td>0.0</td>\n",
       "      <td>0.0</td>\n",
       "      <td>TSLA</td>\n",
       "      <td>-5.093410</td>\n",
       "      <td>1412043</td>\n",
       "      <td>Shares of several healthcare companies are tra...</td>\n",
       "      <td>https://www.benzinga.com/wiim/20/06/16233278/s...</td>\n",
       "      <td>Benzinga Newsdesk</td>\n",
       "      <td>ZTS</td>\n",
       "      <td>share several healthcare company trading lower...</td>\n",
       "      <td>0.000000</td>\n",
       "      <td>neutral</td>\n",
       "    </tr>\n",
       "  </tbody>\n",
       "</table>\n",
       "<p>9287939 rows × 19 columns</p>\n",
       "</div>"
      ],
      "text/plain": [
       "               date       open       high        low      close  adj_close  \\\n",
       "0        2009-04-27   4.389286   4.464286   4.380714   4.454643   3.761836   \n",
       "1        2009-04-27   4.389286   4.464286   4.380714   4.454643   3.761836   \n",
       "2        2009-04-29   4.458929   4.530357   4.422500   4.469286   3.774201   \n",
       "3        2009-05-22   4.430357   4.435000   4.348214   4.375000   3.694580   \n",
       "4        2009-05-27   4.706429   4.820714   4.675357   4.751786   4.012765   \n",
       "...             ...        ...        ...        ...        ...        ...   \n",
       "9287934  2020-06-11  66.013336  67.930664  64.800003  64.856003  64.856003   \n",
       "9287935  2020-06-11  66.013336  67.930664  64.800003  64.856003  64.856003   \n",
       "9287936  2020-06-11  66.013336  67.930664  64.800003  64.856003  64.856003   \n",
       "9287937  2020-06-11  66.013336  67.930664  64.800003  64.856003  64.856003   \n",
       "9287938  2020-06-11  66.013336  67.930664  64.800003  64.856003  64.856003   \n",
       "\n",
       "            volume  dividends  stock_splits ticker  Daily_Return  Unnamed: 0  \\\n",
       "0        480690000        0.0           0.0   AAPL      0.669889      522587   \n",
       "1        480690000        0.0           0.0   AAPL      0.669889     1396488   \n",
       "2        458110800        0.0           0.0   AAPL      1.000808        1834   \n",
       "3        297998400        0.0           0.0   AAPL     -1.352874       68387   \n",
       "4        646422000        0.0           0.0   AAPL      1.735759      430147   \n",
       "...            ...        ...           ...    ...           ...         ...   \n",
       "9287934  238747500        0.0           0.0   TSLA     -5.093410     1402389   \n",
       "9287935  238747500        0.0           0.0   TSLA     -5.093410     1402390   \n",
       "9287936  238747500        0.0           0.0   TSLA     -5.093410     1402391   \n",
       "9287937  238747500        0.0           0.0   TSLA     -5.093410     1402392   \n",
       "9287938  238747500        0.0           0.0   TSLA     -5.093410     1412043   \n",
       "\n",
       "                                                  headline  \\\n",
       "0            Update on the Luxury Sector: 2nd Quarter 2009   \n",
       "1            Update on the Luxury Sector: 2nd Quarter 2009   \n",
       "2                                   Going Against the Herd   \n",
       "3        Charles Sizemore Radio Interview Saturday Morning   \n",
       "4        MRM a $15-$20+ stock - FIT new information - J...   \n",
       "...                                                    ...   \n",
       "9287934  Shares of several hotels, restaurants & leisur...   \n",
       "9287935  Morgan Stanley Maintains Overweight on Yum Bra...   \n",
       "9287936  Credit Suisse Maintains Neutral on Yum Brands,...   \n",
       "9287937  UBS Maintains Buy on Yum Brands, Raises Price ...   \n",
       "9287938  Shares of several healthcare companies are tra...   \n",
       "\n",
       "                                                       url  \\\n",
       "0        https://www.benzinga.com/charles-lewis-sizemor...   \n",
       "1        https://www.benzinga.com/charles-lewis-sizemor...   \n",
       "2        https://www.benzinga.com/charles-lewis-sizemor...   \n",
       "3        https://www.benzinga.com/11218/charles-sizemor...   \n",
       "4        https://www.benzinga.com/superman/2009/5/27/mr...   \n",
       "...                                                    ...   \n",
       "9287934  https://www.benzinga.com/wiim/20/06/16233044/s...   \n",
       "9287935  https://www.benzinga.com/news/20/06/16231689/m...   \n",
       "9287936  https://www.benzinga.com/news/20/06/16231164/c...   \n",
       "9287937  https://www.benzinga.com/news/20/06/16230653/u...   \n",
       "9287938  https://www.benzinga.com/wiim/20/06/16233278/s...   \n",
       "\n",
       "                          publisher stock  \\\n",
       "0        Charles Lewis Sizemore CFA    FT   \n",
       "1        Charles Lewis Sizemore CFA     Y   \n",
       "2        Charles Lewis Sizemore CFA     A   \n",
       "3        Charles Lewis Sizemore CFA    AM   \n",
       "4                          superman   EPS   \n",
       "...                             ...   ...   \n",
       "9287934           Benzinga Newsdesk   YUM   \n",
       "9287935           Benzinga Newsdesk   YUM   \n",
       "9287936           Benzinga Newsdesk   YUM   \n",
       "9287937           Benzinga Newsdesk   YUM   \n",
       "9287938           Benzinga Newsdesk   ZTS   \n",
       "\n",
       "                                          cleaned_headline  sentiment  \\\n",
       "0                             update luxury sector quarter   0.000000   \n",
       "1                             update luxury sector quarter   0.000000   \n",
       "2                                               going herd   0.000000   \n",
       "3        charles sizemore radio interview saturday morning   0.000000   \n",
       "4        mrm stock fit new information jva supertrades ...   0.268182   \n",
       "...                                                    ...        ...   \n",
       "9287934  share several hotel restaurant leisure company...   0.000000   \n",
       "9287935  morgan stanley maintains overweight yum brand ...   0.000000   \n",
       "9287936  credit suisse maintains neutral yum brand rais...   0.000000   \n",
       "9287937     ubs maintains buy yum brand raise price target   0.000000   \n",
       "9287938  share several healthcare company trading lower...   0.000000   \n",
       "\n",
       "        l_sentiment  \n",
       "0           neutral  \n",
       "1           neutral  \n",
       "2           neutral  \n",
       "3           neutral  \n",
       "4          positive  \n",
       "...             ...  \n",
       "9287934     neutral  \n",
       "9287935     neutral  \n",
       "9287936     neutral  \n",
       "9287937     neutral  \n",
       "9287938     neutral  \n",
       "\n",
       "[9287939 rows x 19 columns]"
      ]
     },
     "execution_count": 36,
     "metadata": {},
     "output_type": "execute_result"
    }
   ],
   "source": [
    "# merging news and stock price data or aligning by dates\n",
    "merged_df = analysis.align_datasets(stock_data, news_data)\n",
    "merged_df"
   ]
  },
  {
   "cell_type": "markdown",
   "id": "ead0f42a",
   "metadata": {},
   "source": [
    "#### analysis of publishers with positive sentiments "
   ]
  },
  {
   "cell_type": "code",
   "execution_count": 91,
   "id": "232ad689",
   "metadata": {},
   "outputs": [
    {
     "data": {
      "text/plain": [
       "Index(['date', 'open', 'high', 'low', 'close', 'adj_close', 'volume',\n",
       "       'dividends', 'stock_splits', 'ticker', 'Daily_Return', 'Unnamed: 0',\n",
       "       'headline', 'url', 'publisher', 'stock', 'cleaned_headline',\n",
       "       'sentiment', 'l_sentiment'],\n",
       "      dtype='object')"
      ]
     },
     "execution_count": 91,
     "metadata": {},
     "output_type": "execute_result"
    }
   ],
   "source": [
    "merged_df.columns"
   ]
  },
  {
   "cell_type": "code",
   "execution_count": 97,
   "id": "13d14adf",
   "metadata": {},
   "outputs": [
    {
     "data": {
      "application/vnd.microsoft.datawrangler.viewer.v0+json": {
       "columns": [
        {
         "name": "index",
         "rawType": "int64",
         "type": "integer"
        },
        {
         "name": "publisher",
         "rawType": "object",
         "type": "string"
        },
        {
         "name": "Positive (%)",
         "rawType": "float64",
         "type": "float"
        },
        {
         "name": "Positive Count",
         "rawType": "int64",
         "type": "integer"
        }
       ],
       "ref": "4057408d-5ba5-409e-b67d-8aa29885f46d",
       "rows": [
        [
         "671",
         "pagetraffic",
         "100.0",
         "6"
        ],
        [
         "665",
         "mattzinga",
         "100.0",
         "14"
        ],
        [
         "663",
         "marketresearch",
         "100.0",
         "11"
        ],
        [
         "656",
         "javierhasseandericterbush@benzinga.com",
         "100.0",
         "7"
        ],
        [
         "547",
         "Stephen Bigalow",
         "100.0",
         "18"
        ],
        [
         "22",
         "Allan Farley",
         "100.0",
         "7"
        ],
        [
         "655",
         "janaviktoria",
         "100.0",
         "7"
        ],
        [
         "650",
         "giovannimola",
         "100.0",
         "7"
        ],
        [
         "632",
         "Yoav Helfman",
         "100.0",
         "21"
        ],
        [
         "646",
         "dhiraj.surapaneni@benzinga.com",
         "100.0",
         "7"
        ],
        [
         "649",
         "fnmedia",
         "100.0",
         "21"
        ],
        [
         "629",
         "William Spencer",
         "100.0",
         "20"
        ],
        [
         "625",
         "White Diamond Research",
         "100.0",
         "7"
        ],
        [
         "620",
         "Wall St. Jesus",
         "100.0",
         "14"
        ],
        [
         "38",
         "Anthony Cibotti",
         "100.0",
         "5"
        ],
        [
         "41",
         "Anthony Viola",
         "100.0",
         "84"
        ],
        [
         "627",
         "Will Hubbard",
         "100.0",
         "28"
        ],
        [
         "626",
         "WikiTags",
         "100.0",
         "49"
        ],
        [
         "49",
         "Austrolib",
         "100.0",
         "7"
        ],
        [
         "55",
         "Ben Reynolds",
         "100.0",
         "14"
        ],
        [
         "582",
         "The Professor",
         "100.0",
         "5"
        ],
        [
         "529",
         "Sha'Darian Corona-Green",
         "100.0",
         "21"
        ],
        [
         "517",
         "Samuel J Rae",
         "100.0",
         "14"
        ],
        [
         "560",
         "StockMetrix",
         "100.0",
         "14"
        ],
        [
         "576",
         "The Cannabis Investor",
         "100.0",
         "280"
        ],
        [
         "92",
         "BreakingFinanceNews",
         "100.0",
         "35"
        ],
        [
         "498",
         "Robert Morris",
         "100.0",
         "7"
        ],
        [
         "525",
         "Scout Finance Editorial Team",
         "100.0",
         "7"
        ],
        [
         "14",
         "Alex Roslin",
         "100.0",
         "6"
        ],
        [
         "205",
         "Francis Burr",
         "100.0",
         "6"
        ],
        [
         "204",
         "Forexpros.com",
         "100.0",
         "6"
        ],
        [
         "219",
         "Gavin McMaster",
         "100.0",
         "7"
        ],
        [
         "225",
         "GlenWoods",
         "100.0",
         "21"
        ],
        [
         "227",
         "GlobalCoinReport.com",
         "100.0",
         "14"
        ],
        [
         "239",
         "Hasan Saleem",
         "100.0",
         "7"
        ],
        [
         "237",
         "Happy Trading",
         "100.0",
         "7"
        ],
        [
         "312",
         "John Isige",
         "100.0",
         "14"
        ],
        [
         "303",
         "Jim Woods Investing",
         "100.0",
         "154"
        ],
        [
         "297",
         "Jeremie Capron",
         "100.0",
         "7"
        ],
        [
         "298",
         "Jeremy Biberdorf",
         "100.0",
         "7"
        ],
        [
         "245",
         "IIJGII",
         "100.0",
         "14"
        ],
        [
         "243",
         "Holly Huber - CrowdStreet",
         "100.0",
         "7"
        ],
        [
         "187",
         "Econ Grapher",
         "100.0",
         "12"
        ],
        [
         "393",
         "Marvin Dumont",
         "100.0",
         "7"
        ],
        [
         "329",
         "Junnan Guo",
         "100.0",
         "6"
        ],
        [
         "324",
         "Joule Financial",
         "100.0",
         "28"
        ],
        [
         "159",
         "David Alton Clark",
         "100.0",
         "35"
        ],
        [
         "119",
         "Chart-Caster",
         "100.0",
         "24"
        ],
        [
         "360",
         "Lerone Graham",
         "100.0",
         "7"
        ],
        [
         "331",
         "Justin Triplett",
         "100.0",
         "6"
        ]
       ],
       "shape": {
        "columns": 3,
        "rows": 50
       }
      },
      "text/html": [
       "<div>\n",
       "<style scoped>\n",
       "    .dataframe tbody tr th:only-of-type {\n",
       "        vertical-align: middle;\n",
       "    }\n",
       "\n",
       "    .dataframe tbody tr th {\n",
       "        vertical-align: top;\n",
       "    }\n",
       "\n",
       "    .dataframe thead th {\n",
       "        text-align: right;\n",
       "    }\n",
       "</style>\n",
       "<table border=\"1\" class=\"dataframe\">\n",
       "  <thead>\n",
       "    <tr style=\"text-align: right;\">\n",
       "      <th></th>\n",
       "      <th>publisher</th>\n",
       "      <th>Positive (%)</th>\n",
       "      <th>Positive Count</th>\n",
       "    </tr>\n",
       "  </thead>\n",
       "  <tbody>\n",
       "    <tr>\n",
       "      <th>671</th>\n",
       "      <td>pagetraffic</td>\n",
       "      <td>100.0</td>\n",
       "      <td>6</td>\n",
       "    </tr>\n",
       "    <tr>\n",
       "      <th>665</th>\n",
       "      <td>mattzinga</td>\n",
       "      <td>100.0</td>\n",
       "      <td>14</td>\n",
       "    </tr>\n",
       "    <tr>\n",
       "      <th>663</th>\n",
       "      <td>marketresearch</td>\n",
       "      <td>100.0</td>\n",
       "      <td>11</td>\n",
       "    </tr>\n",
       "    <tr>\n",
       "      <th>656</th>\n",
       "      <td>javierhasseandericterbush@benzinga.com</td>\n",
       "      <td>100.0</td>\n",
       "      <td>7</td>\n",
       "    </tr>\n",
       "    <tr>\n",
       "      <th>547</th>\n",
       "      <td>Stephen Bigalow</td>\n",
       "      <td>100.0</td>\n",
       "      <td>18</td>\n",
       "    </tr>\n",
       "    <tr>\n",
       "      <th>22</th>\n",
       "      <td>Allan Farley</td>\n",
       "      <td>100.0</td>\n",
       "      <td>7</td>\n",
       "    </tr>\n",
       "    <tr>\n",
       "      <th>655</th>\n",
       "      <td>janaviktoria</td>\n",
       "      <td>100.0</td>\n",
       "      <td>7</td>\n",
       "    </tr>\n",
       "    <tr>\n",
       "      <th>650</th>\n",
       "      <td>giovannimola</td>\n",
       "      <td>100.0</td>\n",
       "      <td>7</td>\n",
       "    </tr>\n",
       "    <tr>\n",
       "      <th>632</th>\n",
       "      <td>Yoav Helfman</td>\n",
       "      <td>100.0</td>\n",
       "      <td>21</td>\n",
       "    </tr>\n",
       "    <tr>\n",
       "      <th>646</th>\n",
       "      <td>dhiraj.surapaneni@benzinga.com</td>\n",
       "      <td>100.0</td>\n",
       "      <td>7</td>\n",
       "    </tr>\n",
       "    <tr>\n",
       "      <th>649</th>\n",
       "      <td>fnmedia</td>\n",
       "      <td>100.0</td>\n",
       "      <td>21</td>\n",
       "    </tr>\n",
       "    <tr>\n",
       "      <th>629</th>\n",
       "      <td>William Spencer</td>\n",
       "      <td>100.0</td>\n",
       "      <td>20</td>\n",
       "    </tr>\n",
       "    <tr>\n",
       "      <th>625</th>\n",
       "      <td>White Diamond Research</td>\n",
       "      <td>100.0</td>\n",
       "      <td>7</td>\n",
       "    </tr>\n",
       "    <tr>\n",
       "      <th>620</th>\n",
       "      <td>Wall St. Jesus</td>\n",
       "      <td>100.0</td>\n",
       "      <td>14</td>\n",
       "    </tr>\n",
       "    <tr>\n",
       "      <th>38</th>\n",
       "      <td>Anthony Cibotti</td>\n",
       "      <td>100.0</td>\n",
       "      <td>5</td>\n",
       "    </tr>\n",
       "    <tr>\n",
       "      <th>41</th>\n",
       "      <td>Anthony Viola</td>\n",
       "      <td>100.0</td>\n",
       "      <td>84</td>\n",
       "    </tr>\n",
       "    <tr>\n",
       "      <th>627</th>\n",
       "      <td>Will Hubbard</td>\n",
       "      <td>100.0</td>\n",
       "      <td>28</td>\n",
       "    </tr>\n",
       "    <tr>\n",
       "      <th>626</th>\n",
       "      <td>WikiTags</td>\n",
       "      <td>100.0</td>\n",
       "      <td>49</td>\n",
       "    </tr>\n",
       "    <tr>\n",
       "      <th>49</th>\n",
       "      <td>Austrolib</td>\n",
       "      <td>100.0</td>\n",
       "      <td>7</td>\n",
       "    </tr>\n",
       "    <tr>\n",
       "      <th>55</th>\n",
       "      <td>Ben Reynolds</td>\n",
       "      <td>100.0</td>\n",
       "      <td>14</td>\n",
       "    </tr>\n",
       "    <tr>\n",
       "      <th>582</th>\n",
       "      <td>The Professor</td>\n",
       "      <td>100.0</td>\n",
       "      <td>5</td>\n",
       "    </tr>\n",
       "    <tr>\n",
       "      <th>529</th>\n",
       "      <td>Sha'Darian Corona-Green</td>\n",
       "      <td>100.0</td>\n",
       "      <td>21</td>\n",
       "    </tr>\n",
       "    <tr>\n",
       "      <th>517</th>\n",
       "      <td>Samuel J Rae</td>\n",
       "      <td>100.0</td>\n",
       "      <td>14</td>\n",
       "    </tr>\n",
       "    <tr>\n",
       "      <th>560</th>\n",
       "      <td>StockMetrix</td>\n",
       "      <td>100.0</td>\n",
       "      <td>14</td>\n",
       "    </tr>\n",
       "    <tr>\n",
       "      <th>576</th>\n",
       "      <td>The Cannabis Investor</td>\n",
       "      <td>100.0</td>\n",
       "      <td>280</td>\n",
       "    </tr>\n",
       "    <tr>\n",
       "      <th>92</th>\n",
       "      <td>BreakingFinanceNews</td>\n",
       "      <td>100.0</td>\n",
       "      <td>35</td>\n",
       "    </tr>\n",
       "    <tr>\n",
       "      <th>498</th>\n",
       "      <td>Robert Morris</td>\n",
       "      <td>100.0</td>\n",
       "      <td>7</td>\n",
       "    </tr>\n",
       "    <tr>\n",
       "      <th>525</th>\n",
       "      <td>Scout Finance Editorial Team</td>\n",
       "      <td>100.0</td>\n",
       "      <td>7</td>\n",
       "    </tr>\n",
       "    <tr>\n",
       "      <th>14</th>\n",
       "      <td>Alex Roslin</td>\n",
       "      <td>100.0</td>\n",
       "      <td>6</td>\n",
       "    </tr>\n",
       "    <tr>\n",
       "      <th>205</th>\n",
       "      <td>Francis Burr</td>\n",
       "      <td>100.0</td>\n",
       "      <td>6</td>\n",
       "    </tr>\n",
       "    <tr>\n",
       "      <th>204</th>\n",
       "      <td>Forexpros.com</td>\n",
       "      <td>100.0</td>\n",
       "      <td>6</td>\n",
       "    </tr>\n",
       "    <tr>\n",
       "      <th>219</th>\n",
       "      <td>Gavin McMaster</td>\n",
       "      <td>100.0</td>\n",
       "      <td>7</td>\n",
       "    </tr>\n",
       "    <tr>\n",
       "      <th>225</th>\n",
       "      <td>GlenWoods</td>\n",
       "      <td>100.0</td>\n",
       "      <td>21</td>\n",
       "    </tr>\n",
       "    <tr>\n",
       "      <th>227</th>\n",
       "      <td>GlobalCoinReport.com</td>\n",
       "      <td>100.0</td>\n",
       "      <td>14</td>\n",
       "    </tr>\n",
       "    <tr>\n",
       "      <th>239</th>\n",
       "      <td>Hasan Saleem</td>\n",
       "      <td>100.0</td>\n",
       "      <td>7</td>\n",
       "    </tr>\n",
       "    <tr>\n",
       "      <th>237</th>\n",
       "      <td>Happy Trading</td>\n",
       "      <td>100.0</td>\n",
       "      <td>7</td>\n",
       "    </tr>\n",
       "    <tr>\n",
       "      <th>312</th>\n",
       "      <td>John Isige</td>\n",
       "      <td>100.0</td>\n",
       "      <td>14</td>\n",
       "    </tr>\n",
       "    <tr>\n",
       "      <th>303</th>\n",
       "      <td>Jim Woods Investing</td>\n",
       "      <td>100.0</td>\n",
       "      <td>154</td>\n",
       "    </tr>\n",
       "    <tr>\n",
       "      <th>297</th>\n",
       "      <td>Jeremie Capron</td>\n",
       "      <td>100.0</td>\n",
       "      <td>7</td>\n",
       "    </tr>\n",
       "    <tr>\n",
       "      <th>298</th>\n",
       "      <td>Jeremy Biberdorf</td>\n",
       "      <td>100.0</td>\n",
       "      <td>7</td>\n",
       "    </tr>\n",
       "    <tr>\n",
       "      <th>245</th>\n",
       "      <td>IIJGII</td>\n",
       "      <td>100.0</td>\n",
       "      <td>14</td>\n",
       "    </tr>\n",
       "    <tr>\n",
       "      <th>243</th>\n",
       "      <td>Holly Huber - CrowdStreet</td>\n",
       "      <td>100.0</td>\n",
       "      <td>7</td>\n",
       "    </tr>\n",
       "    <tr>\n",
       "      <th>187</th>\n",
       "      <td>Econ Grapher</td>\n",
       "      <td>100.0</td>\n",
       "      <td>12</td>\n",
       "    </tr>\n",
       "    <tr>\n",
       "      <th>393</th>\n",
       "      <td>Marvin Dumont</td>\n",
       "      <td>100.0</td>\n",
       "      <td>7</td>\n",
       "    </tr>\n",
       "    <tr>\n",
       "      <th>329</th>\n",
       "      <td>Junnan Guo</td>\n",
       "      <td>100.0</td>\n",
       "      <td>6</td>\n",
       "    </tr>\n",
       "    <tr>\n",
       "      <th>324</th>\n",
       "      <td>Joule Financial</td>\n",
       "      <td>100.0</td>\n",
       "      <td>28</td>\n",
       "    </tr>\n",
       "    <tr>\n",
       "      <th>159</th>\n",
       "      <td>David Alton Clark</td>\n",
       "      <td>100.0</td>\n",
       "      <td>35</td>\n",
       "    </tr>\n",
       "    <tr>\n",
       "      <th>119</th>\n",
       "      <td>Chart-Caster</td>\n",
       "      <td>100.0</td>\n",
       "      <td>24</td>\n",
       "    </tr>\n",
       "    <tr>\n",
       "      <th>360</th>\n",
       "      <td>Lerone Graham</td>\n",
       "      <td>100.0</td>\n",
       "      <td>7</td>\n",
       "    </tr>\n",
       "    <tr>\n",
       "      <th>331</th>\n",
       "      <td>Justin Triplett</td>\n",
       "      <td>100.0</td>\n",
       "      <td>6</td>\n",
       "    </tr>\n",
       "  </tbody>\n",
       "</table>\n",
       "</div>"
      ],
      "text/plain": [
       "                                  publisher  Positive (%)  Positive Count\n",
       "671                             pagetraffic         100.0               6\n",
       "665                               mattzinga         100.0              14\n",
       "663                          marketresearch         100.0              11\n",
       "656  javierhasseandericterbush@benzinga.com         100.0               7\n",
       "547                         Stephen Bigalow         100.0              18\n",
       "22                             Allan Farley         100.0               7\n",
       "655                            janaviktoria         100.0               7\n",
       "650                            giovannimola         100.0               7\n",
       "632                            Yoav Helfman         100.0              21\n",
       "646          dhiraj.surapaneni@benzinga.com         100.0               7\n",
       "649                                 fnmedia         100.0              21\n",
       "629                         William Spencer         100.0              20\n",
       "625                  White Diamond Research         100.0               7\n",
       "620                          Wall St. Jesus         100.0              14\n",
       "38                          Anthony Cibotti         100.0               5\n",
       "41                            Anthony Viola         100.0              84\n",
       "627                            Will Hubbard         100.0              28\n",
       "626                                WikiTags         100.0              49\n",
       "49                                Austrolib         100.0               7\n",
       "55                             Ben Reynolds         100.0              14\n",
       "582                           The Professor         100.0               5\n",
       "529                 Sha'Darian Corona-Green         100.0              21\n",
       "517                            Samuel J Rae         100.0              14\n",
       "560                             StockMetrix         100.0              14\n",
       "576                   The Cannabis Investor         100.0             280\n",
       "92                      BreakingFinanceNews         100.0              35\n",
       "498                           Robert Morris         100.0               7\n",
       "525            Scout Finance Editorial Team         100.0               7\n",
       "14                              Alex Roslin         100.0               6\n",
       "205                            Francis Burr         100.0               6\n",
       "204                           Forexpros.com         100.0               6\n",
       "219                          Gavin McMaster         100.0               7\n",
       "225                               GlenWoods         100.0              21\n",
       "227                    GlobalCoinReport.com         100.0              14\n",
       "239                            Hasan Saleem         100.0               7\n",
       "237                           Happy Trading         100.0               7\n",
       "312                              John Isige         100.0              14\n",
       "303                     Jim Woods Investing         100.0             154\n",
       "297                          Jeremie Capron         100.0               7\n",
       "298                        Jeremy Biberdorf         100.0               7\n",
       "245                                  IIJGII         100.0              14\n",
       "243               Holly Huber - CrowdStreet         100.0               7\n",
       "187                            Econ Grapher         100.0              12\n",
       "393                           Marvin Dumont         100.0               7\n",
       "329                              Junnan Guo         100.0               6\n",
       "324                         Joule Financial         100.0              28\n",
       "159                       David Alton Clark         100.0              35\n",
       "119                            Chart-Caster         100.0              24\n",
       "360                           Lerone Graham         100.0               7\n",
       "331                         Justin Triplett         100.0               6"
      ]
     },
     "execution_count": 97,
     "metadata": {},
     "output_type": "execute_result"
    }
   ],
   "source": [
    "# Compute sentiment counts per publisher\n",
    "sentiment_counts = merged_df.groupby('publisher')['l_sentiment'].value_counts().unstack(fill_value=0)\n",
    "\n",
    "# Compute percentage of positive sentiments per publisher\n",
    "sentiment_percentages = merged_df.groupby('publisher')['l_sentiment'].value_counts(normalize=True).unstack(fill_value=0) * 100\n",
    "sentiment_percentages = sentiment_percentages.round(2)\n",
    "sentiment_percentages = sentiment_percentages.get('positive', pd.Series()).rename('Positive (%)')\n",
    "\n",
    "# Filter publishers with positive sentiments (>0%)\n",
    "positive_publishers = sentiment_percentages[sentiment_percentages > 0].dropna().reset_index()\n",
    "positive_publishers.columns = ['publisher', 'Positive (%)']\n",
    "\n",
    "# Add counts of positive sentiments\n",
    "positive_counts = sentiment_counts['positive'].reset_index().rename(columns={'positive': 'Positive Count'})\n",
    "combined_df = pd.merge(positive_publishers, positive_counts, on='publisher')\n",
    "\n",
    "# Sort by Positive (%) in descending order and filter top 10\n",
    "top_10_publishers = combined_df.sort_values(by='Positive (%)', ascending=False).head(50)\n",
    "top_10_publishers\n"
   ]
  },
  {
   "cell_type": "markdown",
   "id": "a5a1cb48",
   "metadata": {},
   "source": [
    "#### analysis of sentiments per tickers "
   ]
  },
  {
   "cell_type": "code",
   "execution_count": null,
   "id": "94c31ca9",
   "metadata": {},
   "outputs": [
    {
     "name": "stdout",
     "output_type": "stream",
     "text": [
      "Sentiment Value Counts and Percentages by Ticker:\n",
      "   ticker sentiment   Count Percentage\n",
      "0    AAPL  negative   89809      6.51%\n",
      "1    AMZN  negative   89809      6.51%\n",
      "2    GOOG  negative   89809      6.51%\n",
      "3    META  negative   67095      6.41%\n",
      "4    MSFT  negative   89809      6.51%\n",
      "5    NVDA  negative   89809      6.51%\n",
      "6    TSLA  negative   87285       6.5%\n",
      "7    AAPL   neutral  962860     69.79%\n",
      "8    AMZN   neutral  962860     69.79%\n",
      "9    GOOG   neutral  962860     69.79%\n",
      "10   META   neutral  727228     69.51%\n",
      "11   MSFT   neutral  962860     69.79%\n",
      "12   NVDA   neutral  962860     69.79%\n",
      "13   TSLA   neutral  939945     69.97%\n",
      "14   AAPL  positive  327013      23.7%\n",
      "15   AMZN  positive  327013      23.7%\n",
      "16   GOOG  positive  327013      23.7%\n",
      "17   META  positive  251839     24.07%\n",
      "18   MSFT  positive  327013      23.7%\n",
      "19   NVDA  positive  327013      23.7%\n",
      "20   TSLA  positive  316137     23.53%\n"
     ]
    },
    {
     "data": {
      "image/png": "[encoded data removed]",
      "text/plain": [
       "<Figure size 1000x600 with 1 Axes>"
      ]
     },
     "metadata": {},
     "output_type": "display_data"
    }
   ],
   "source": [
    "sentiment_counts = merged_df.groupby('ticker')['l_sentiment'].value_counts().unstack(fill_value=0)\n",
    "# Compute percentages of sentiments per ticker\n",
    "sentiment_percentages = merged_df.groupby('ticker')['l_sentiment'].value_counts(normalize=True).unstack(fill_value=0) * 100\n",
    "sentiment_percentages = sentiment_percentages.round(2)\n",
    "sentiment_percentages = sentiment_percentages.add_suffix(' (%)')\n",
    "\n",
    "# Combine counts and percentages into one DataFrame\n",
    "counts_flat = sentiment_counts.reset_index().melt(id_vars='ticker', var_name='sentiment', value_name='Count')\n",
    "percentages_flat = sentiment_percentages.reset_index().melt(id_vars='ticker', var_name='sentiment', value_name='Percentage')\n",
    "percentages_flat['sentiment'] = percentages_flat['sentiment'].str.replace(' (%)', '')\n",
    "combined_df = pd.merge(counts_flat, percentages_flat, on=['ticker', 'sentiment'])\n",
    "combined_df['Percentage'] = combined_df['Percentage'].astype(str) + '%'\n",
    "\n",
    "# Display the combined DataFrame\n",
    "print(\"Sentiment Value Counts and Percentages by Ticker:\")\n",
    "print(combined_df)\n",
    "\n",
    "# Visualize with Seaborn (stacked bar plot)\n",
    "plt.figure(figsize=(10, 6))\n",
    "sns.barplot(data=combined_df, x='ticker', y='Count', hue='sentiment',\n",
    "            palette={'positive': '#4CAF50', 'neutral': '#FFC107', 'negative': '#F44336'})\n",
    "plt.title('Sentiment Distribution by Ticker')\n",
    "plt.xlabel('Ticker')\n",
    "plt.ylabel('Count')\n",
    "plt.legend(title='Sentiment')\n",
    "plt.grid(True)\n",
    "\n",
    "# Add percentage labels on bars\n",
    "for i, row in combined_df.iterrows():\n",
    "    plt.text(i // 3, row['Count'], row['Percentage'], ha='center', va='bottom')\n",
    "\n",
    "plt.show()"
   ]
  },
  {
   "cell_type": "code",
   "execution_count": 80,
   "id": "4f3ce5d5",
   "metadata": {},
   "outputs": [
    {
     "data": {
      "application/vnd.microsoft.datawrangler.viewer.v0+json": {
       "columns": [
        {
         "name": "ticker",
         "rawType": "object",
         "type": "string"
        },
        {
         "name": "negative",
         "rawType": "int64",
         "type": "integer"
        },
        {
         "name": "neutral",
         "rawType": "int64",
         "type": "integer"
        },
        {
         "name": "positive",
         "rawType": "int64",
         "type": "integer"
        }
       ],
       "ref": "8b719366-af61-482c-92b4-6d919a1a996a",
       "rows": [
        [
         "AAPL",
         "89809",
         "962860",
         "327013"
        ],
        [
         "AMZN",
         "89809",
         "962860",
         "327013"
        ],
        [
         "GOOG",
         "89809",
         "962860",
         "327013"
        ],
        [
         "META",
         "67095",
         "727228",
         "251839"
        ],
        [
         "MSFT",
         "89809",
         "962860",
         "327013"
        ],
        [
         "NVDA",
         "89809",
         "962860",
         "327013"
        ],
        [
         "TSLA",
         "87285",
         "939945",
         "316137"
        ]
       ],
       "shape": {
        "columns": 3,
        "rows": 7
       }
      },
      "text/html": [
       "<div>\n",
       "<style scoped>\n",
       "    .dataframe tbody tr th:only-of-type {\n",
       "        vertical-align: middle;\n",
       "    }\n",
       "\n",
       "    .dataframe tbody tr th {\n",
       "        vertical-align: top;\n",
       "    }\n",
       "\n",
       "    .dataframe thead th {\n",
       "        text-align: right;\n",
       "    }\n",
       "</style>\n",
       "<table border=\"1\" class=\"dataframe\">\n",
       "  <thead>\n",
       "    <tr style=\"text-align: right;\">\n",
       "      <th>l_sentiment</th>\n",
       "      <th>negative</th>\n",
       "      <th>neutral</th>\n",
       "      <th>positive</th>\n",
       "    </tr>\n",
       "    <tr>\n",
       "      <th>ticker</th>\n",
       "      <th></th>\n",
       "      <th></th>\n",
       "      <th></th>\n",
       "    </tr>\n",
       "  </thead>\n",
       "  <tbody>\n",
       "    <tr>\n",
       "      <th>AAPL</th>\n",
       "      <td>89809</td>\n",
       "      <td>962860</td>\n",
       "      <td>327013</td>\n",
       "    </tr>\n",
       "    <tr>\n",
       "      <th>AMZN</th>\n",
       "      <td>89809</td>\n",
       "      <td>962860</td>\n",
       "      <td>327013</td>\n",
       "    </tr>\n",
       "    <tr>\n",
       "      <th>GOOG</th>\n",
       "      <td>89809</td>\n",
       "      <td>962860</td>\n",
       "      <td>327013</td>\n",
       "    </tr>\n",
       "    <tr>\n",
       "      <th>META</th>\n",
       "      <td>67095</td>\n",
       "      <td>727228</td>\n",
       "      <td>251839</td>\n",
       "    </tr>\n",
       "    <tr>\n",
       "      <th>MSFT</th>\n",
       "      <td>89809</td>\n",
       "      <td>962860</td>\n",
       "      <td>327013</td>\n",
       "    </tr>\n",
       "    <tr>\n",
       "      <th>NVDA</th>\n",
       "      <td>89809</td>\n",
       "      <td>962860</td>\n",
       "      <td>327013</td>\n",
       "    </tr>\n",
       "    <tr>\n",
       "      <th>TSLA</th>\n",
       "      <td>87285</td>\n",
       "      <td>939945</td>\n",
       "      <td>316137</td>\n",
       "    </tr>\n",
       "  </tbody>\n",
       "</table>\n",
       "</div>"
      ],
      "text/plain": [
       "l_sentiment  negative  neutral  positive\n",
       "ticker                                  \n",
       "AAPL            89809   962860    327013\n",
       "AMZN            89809   962860    327013\n",
       "GOOG            89809   962860    327013\n",
       "META            67095   727228    251839\n",
       "MSFT            89809   962860    327013\n",
       "NVDA            89809   962860    327013\n",
       "TSLA            87285   939945    316137"
      ]
     },
     "execution_count": 80,
     "metadata": {},
     "output_type": "execute_result"
    }
   ],
   "source": [
    "sentiment_counts"
   ]
  },
  {
   "cell_type": "code",
   "execution_count": null,
   "id": "cef654b7",
   "metadata": {},
   "outputs": [
    {
     "data": {
      "application/vnd.microsoft.datawrangler.viewer.v0+json": {
       "columns": [
        {
         "name": "index",
         "rawType": "int64",
         "type": "integer"
        },
        {
         "name": "date",
         "rawType": "object",
         "type": "unknown"
        },
        {
         "name": "l_sentiment",
         "rawType": "object",
         "type": "string"
        }
       ],
       "ref": "20098f06-c055-4563-bacb-25f2ad540ec2",
       "rows": [
        [
         "0",
         "2009-04-27",
         "neutral"
        ],
        [
         "1",
         "2009-04-29",
         "neutral"
        ],
        [
         "2",
         "2009-05-22",
         "neutral"
        ],
        [
         "3",
         "2009-05-27",
         "positive"
        ],
        [
         "4",
         "2009-05-29",
         "positive"
        ],
        [
         "5",
         "2009-06-01",
         "positive"
        ],
        [
         "6",
         "2009-06-02",
         "neutral"
        ],
        [
         "7",
         "2009-06-05",
         "positive"
        ],
        [
         "8",
         "2009-06-08",
         "positive"
        ],
        [
         "9",
         "2009-06-09",
         "neutral"
        ],
        [
         "10",
         "2009-06-15",
         "neutral"
        ],
        [
         "11",
         "2009-06-16",
         "positive"
        ],
        [
         "12",
         "2009-06-19",
         "neutral"
        ],
        [
         "13",
         "2009-06-22",
         "positive"
        ],
        [
         "14",
         "2009-06-30",
         "positive"
        ],
        [
         "15",
         "2009-07-07",
         "neutral"
        ],
        [
         "16",
         "2009-07-08",
         "neutral"
        ],
        [
         "17",
         "2009-07-10",
         "neutral"
        ],
        [
         "18",
         "2009-07-14",
         "neutral"
        ],
        [
         "19",
         "2009-07-15",
         "neutral"
        ],
        [
         "20",
         "2009-07-16",
         "neutral"
        ],
        [
         "21",
         "2009-07-17",
         "neutral"
        ],
        [
         "22",
         "2009-07-21",
         "positive"
        ],
        [
         "23",
         "2009-07-24",
         "neutral"
        ],
        [
         "24",
         "2009-07-27",
         "neutral"
        ],
        [
         "25",
         "2009-07-30",
         "neutral"
        ],
        [
         "26",
         "2009-08-03",
         "positive"
        ],
        [
         "27",
         "2009-08-04",
         "negative"
        ],
        [
         "28",
         "2009-08-06",
         "neutral"
        ],
        [
         "29",
         "2009-08-07",
         "neutral"
        ],
        [
         "30",
         "2009-08-10",
         "neutral"
        ],
        [
         "31",
         "2009-08-11",
         "neutral"
        ],
        [
         "32",
         "2009-08-12",
         "neutral"
        ],
        [
         "33",
         "2009-08-13",
         "neutral"
        ],
        [
         "34",
         "2009-08-17",
         "neutral"
        ],
        [
         "35",
         "2009-08-18",
         "neutral"
        ],
        [
         "36",
         "2009-08-19",
         "neutral"
        ],
        [
         "37",
         "2009-08-21",
         "neutral"
        ],
        [
         "38",
         "2009-08-24",
         "neutral"
        ],
        [
         "39",
         "2009-08-25",
         "neutral"
        ],
        [
         "40",
         "2009-08-26",
         "neutral"
        ],
        [
         "41",
         "2009-08-27",
         "neutral"
        ],
        [
         "42",
         "2009-08-28",
         "negative"
        ],
        [
         "43",
         "2009-08-31",
         "neutral"
        ],
        [
         "44",
         "2009-09-01",
         "neutral"
        ],
        [
         "45",
         "2009-09-02",
         "neutral"
        ],
        [
         "46",
         "2009-09-03",
         "neutral"
        ],
        [
         "47",
         "2009-09-04",
         "neutral"
        ],
        [
         "48",
         "2009-09-08",
         "neutral"
        ],
        [
         "49",
         "2009-09-09",
         "neutral"
        ]
       ],
       "shape": {
        "columns": 2,
        "rows": 2757
       }
      },
      "text/html": [
       "<div>\n",
       "<style scoped>\n",
       "    .dataframe tbody tr th:only-of-type {\n",
       "        vertical-align: middle;\n",
       "    }\n",
       "\n",
       "    .dataframe tbody tr th {\n",
       "        vertical-align: top;\n",
       "    }\n",
       "\n",
       "    .dataframe thead th {\n",
       "        text-align: right;\n",
       "    }\n",
       "</style>\n",
       "<table border=\"1\" class=\"dataframe\">\n",
       "  <thead>\n",
       "    <tr style=\"text-align: right;\">\n",
       "      <th></th>\n",
       "      <th>date</th>\n",
       "      <th>l_sentiment</th>\n",
       "    </tr>\n",
       "  </thead>\n",
       "  <tbody>\n",
       "    <tr>\n",
       "      <th>0</th>\n",
       "      <td>2009-04-27</td>\n",
       "      <td>neutral</td>\n",
       "    </tr>\n",
       "    <tr>\n",
       "      <th>1</th>\n",
       "      <td>2009-04-29</td>\n",
       "      <td>neutral</td>\n",
       "    </tr>\n",
       "    <tr>\n",
       "      <th>2</th>\n",
       "      <td>2009-05-22</td>\n",
       "      <td>neutral</td>\n",
       "    </tr>\n",
       "    <tr>\n",
       "      <th>3</th>\n",
       "      <td>2009-05-27</td>\n",
       "      <td>positive</td>\n",
       "    </tr>\n",
       "    <tr>\n",
       "      <th>4</th>\n",
       "      <td>2009-05-29</td>\n",
       "      <td>positive</td>\n",
       "    </tr>\n",
       "    <tr>\n",
       "      <th>...</th>\n",
       "      <td>...</td>\n",
       "      <td>...</td>\n",
       "    </tr>\n",
       "    <tr>\n",
       "      <th>2752</th>\n",
       "      <td>2020-06-05</td>\n",
       "      <td>positive</td>\n",
       "    </tr>\n",
       "    <tr>\n",
       "      <th>2753</th>\n",
       "      <td>2020-06-08</td>\n",
       "      <td>positive</td>\n",
       "    </tr>\n",
       "    <tr>\n",
       "      <th>2754</th>\n",
       "      <td>2020-06-09</td>\n",
       "      <td>neutral</td>\n",
       "    </tr>\n",
       "    <tr>\n",
       "      <th>2755</th>\n",
       "      <td>2020-06-10</td>\n",
       "      <td>neutral</td>\n",
       "    </tr>\n",
       "    <tr>\n",
       "      <th>2756</th>\n",
       "      <td>2020-06-11</td>\n",
       "      <td>neutral</td>\n",
       "    </tr>\n",
       "  </tbody>\n",
       "</table>\n",
       "<p>2757 rows × 2 columns</p>\n",
       "</div>"
      ],
      "text/plain": [
       "            date l_sentiment\n",
       "0     2009-04-27     neutral\n",
       "1     2009-04-29     neutral\n",
       "2     2009-05-22     neutral\n",
       "3     2009-05-27    positive\n",
       "4     2009-05-29    positive\n",
       "...          ...         ...\n",
       "2752  2020-06-05    positive\n",
       "2753  2020-06-08    positive\n",
       "2754  2020-06-09     neutral\n",
       "2755  2020-06-10     neutral\n",
       "2756  2020-06-11     neutral\n",
       "\n",
       "[2757 rows x 2 columns]"
      ]
     },
     "execution_count": 43,
     "metadata": {},
     "output_type": "execute_result"
    }
   ],
   "source": [
    "# Aggregate labeled sentiments by date \n",
    "daily_sentiment = merged_df.groupby('date')['l_sentiment'].agg(lambda x: x.mode().iloc[0] if not x.empty else None).reset_index()\n",
    "daily_sentiment"
   ]
  },
  {
   "cell_type": "code",
   "execution_count": 47,
   "id": "b8f0ffb9",
   "metadata": {},
   "outputs": [
    {
     "data": {
      "application/vnd.microsoft.datawrangler.viewer.v0+json": {
       "columns": [
        {
         "name": "index",
         "rawType": "int64",
         "type": "integer"
        },
        {
         "name": "date",
         "rawType": "object",
         "type": "unknown"
        },
        {
         "name": "sentiment",
         "rawType": "float64",
         "type": "float"
        }
       ],
       "ref": "c24410d4-7b07-4f8e-bc9e-b90a70de9af1",
       "rows": [
        [
         "0",
         "2009-04-27",
         "0.0"
        ],
        [
         "1",
         "2009-04-29",
         "0.0"
        ],
        [
         "2",
         "2009-05-22",
         "0.0"
        ],
        [
         "3",
         "2009-05-27",
         "0.2340909090909091"
        ],
        [
         "4",
         "2009-05-29",
         "0.06818181818181818"
        ],
        [
         "5",
         "2009-06-01",
         "0.128"
        ],
        [
         "6",
         "2009-06-02",
         "0.0"
        ],
        [
         "7",
         "2009-06-05",
         "0.08333333333333333"
        ],
        [
         "8",
         "2009-06-08",
         "0.21818181818181817"
        ],
        [
         "9",
         "2009-06-09",
         "0.0"
        ],
        [
         "10",
         "2009-06-15",
         "0.0"
        ],
        [
         "11",
         "2009-06-16",
         "0.7333333333333333"
        ],
        [
         "12",
         "2009-06-19",
         "0.0"
        ],
        [
         "13",
         "2009-06-22",
         "1.0"
        ],
        [
         "14",
         "2009-06-30",
         "0.325"
        ],
        [
         "15",
         "2009-07-07",
         "0.0"
        ],
        [
         "16",
         "2009-07-08",
         "0.0"
        ],
        [
         "17",
         "2009-07-10",
         "0.0"
        ],
        [
         "18",
         "2009-07-14",
         "0.0"
        ],
        [
         "19",
         "2009-07-15",
         "0.0"
        ],
        [
         "20",
         "2009-07-16",
         "0.0"
        ],
        [
         "21",
         "2009-07-17",
         "0.0"
        ],
        [
         "22",
         "2009-07-21",
         "0.22857142857142862"
        ],
        [
         "23",
         "2009-07-24",
         "0.0"
        ],
        [
         "24",
         "2009-07-27",
         "0.02072711239377906"
        ],
        [
         "25",
         "2009-07-30",
         "0.0"
        ],
        [
         "26",
         "2009-08-03",
         "0.25"
        ],
        [
         "27",
         "2009-08-04",
         "-0.08571428571428572"
        ],
        [
         "28",
         "2009-08-06",
         "0.023760932944606412"
        ],
        [
         "29",
         "2009-08-07",
         "0.06320697547793822"
        ],
        [
         "30",
         "2009-08-10",
         "0.06683963529096272"
        ],
        [
         "31",
         "2009-08-11",
         "0.11745580808080809"
        ],
        [
         "32",
         "2009-08-12",
         "0.03808653804424481"
        ],
        [
         "33",
         "2009-08-13",
         "0.07537412749394316"
        ],
        [
         "34",
         "2009-08-17",
         "0.10743195974208633"
        ],
        [
         "35",
         "2009-08-18",
         "0.11666666666666667"
        ],
        [
         "36",
         "2009-08-19",
         "0.06666666666666667"
        ],
        [
         "37",
         "2009-08-21",
         "0.11607142857142858"
        ],
        [
         "38",
         "2009-08-24",
         "-0.1042087542087542"
        ],
        [
         "39",
         "2009-08-25",
         "0.029105434039644565"
        ],
        [
         "40",
         "2009-08-26",
         "0.06621212121212122"
        ],
        [
         "41",
         "2009-08-27",
         "0.10163461538461539"
        ],
        [
         "42",
         "2009-08-28",
         "-0.12052380952380953"
        ],
        [
         "43",
         "2009-08-31",
         "-0.007539983164983166"
        ],
        [
         "44",
         "2009-09-01",
         "-0.01086760461760462"
        ],
        [
         "45",
         "2009-09-02",
         "0.08570318570318569"
        ],
        [
         "46",
         "2009-09-03",
         "0.04833333333333333"
        ],
        [
         "47",
         "2009-09-04",
         "0.07233333333333333"
        ],
        [
         "48",
         "2009-09-08",
         "0.05396231219760632"
        ],
        [
         "49",
         "2009-09-09",
         "0.0029143475572046993"
        ]
       ],
       "shape": {
        "columns": 2,
        "rows": 2757
       }
      },
      "text/html": [
       "<div>\n",
       "<style scoped>\n",
       "    .dataframe tbody tr th:only-of-type {\n",
       "        vertical-align: middle;\n",
       "    }\n",
       "\n",
       "    .dataframe tbody tr th {\n",
       "        vertical-align: top;\n",
       "    }\n",
       "\n",
       "    .dataframe thead th {\n",
       "        text-align: right;\n",
       "    }\n",
       "</style>\n",
       "<table border=\"1\" class=\"dataframe\">\n",
       "  <thead>\n",
       "    <tr style=\"text-align: right;\">\n",
       "      <th></th>\n",
       "      <th>date</th>\n",
       "      <th>sentiment</th>\n",
       "    </tr>\n",
       "  </thead>\n",
       "  <tbody>\n",
       "    <tr>\n",
       "      <th>0</th>\n",
       "      <td>2009-04-27</td>\n",
       "      <td>0.000000</td>\n",
       "    </tr>\n",
       "    <tr>\n",
       "      <th>1</th>\n",
       "      <td>2009-04-29</td>\n",
       "      <td>0.000000</td>\n",
       "    </tr>\n",
       "    <tr>\n",
       "      <th>2</th>\n",
       "      <td>2009-05-22</td>\n",
       "      <td>0.000000</td>\n",
       "    </tr>\n",
       "    <tr>\n",
       "      <th>3</th>\n",
       "      <td>2009-05-27</td>\n",
       "      <td>0.234091</td>\n",
       "    </tr>\n",
       "    <tr>\n",
       "      <th>4</th>\n",
       "      <td>2009-05-29</td>\n",
       "      <td>0.068182</td>\n",
       "    </tr>\n",
       "    <tr>\n",
       "      <th>...</th>\n",
       "      <td>...</td>\n",
       "      <td>...</td>\n",
       "    </tr>\n",
       "    <tr>\n",
       "      <th>2752</th>\n",
       "      <td>2020-06-05</td>\n",
       "      <td>0.118396</td>\n",
       "    </tr>\n",
       "    <tr>\n",
       "      <th>2753</th>\n",
       "      <td>2020-06-08</td>\n",
       "      <td>0.069246</td>\n",
       "    </tr>\n",
       "    <tr>\n",
       "      <th>2754</th>\n",
       "      <td>2020-06-09</td>\n",
       "      <td>0.013402</td>\n",
       "    </tr>\n",
       "    <tr>\n",
       "      <th>2755</th>\n",
       "      <td>2020-06-10</td>\n",
       "      <td>-0.010027</td>\n",
       "    </tr>\n",
       "    <tr>\n",
       "      <th>2756</th>\n",
       "      <td>2020-06-11</td>\n",
       "      <td>0.007430</td>\n",
       "    </tr>\n",
       "  </tbody>\n",
       "</table>\n",
       "<p>2757 rows × 2 columns</p>\n",
       "</div>"
      ],
      "text/plain": [
       "            date  sentiment\n",
       "0     2009-04-27   0.000000\n",
       "1     2009-04-29   0.000000\n",
       "2     2009-05-22   0.000000\n",
       "3     2009-05-27   0.234091\n",
       "4     2009-05-29   0.068182\n",
       "...          ...        ...\n",
       "2752  2020-06-05   0.118396\n",
       "2753  2020-06-08   0.069246\n",
       "2754  2020-06-09   0.013402\n",
       "2755  2020-06-10  -0.010027\n",
       "2756  2020-06-11   0.007430\n",
       "\n",
       "[2757 rows x 2 columns]"
      ]
     },
     "execution_count": 47,
     "metadata": {},
     "output_type": "execute_result"
    }
   ],
   "source": [
    "# daily sentiment on numerical sentiment values \n",
    "daily_sentiment_ = merged_df.groupby('date')['sentiment'].mean().reset_index()\n",
    "daily_sentiment_"
   ]
  },
  {
   "cell_type": "code",
   "execution_count": null,
   "id": "8462a80e",
   "metadata": {},
   "outputs": [
    {
     "data": {
      "application/vnd.microsoft.datawrangler.viewer.v0+json": {
       "columns": [
        {
         "name": "index",
         "rawType": "int64",
         "type": "integer"
        },
        {
         "name": "date",
         "rawType": "object",
         "type": "unknown"
        },
        {
         "name": "Daily_Return",
         "rawType": "float64",
         "type": "float"
        }
       ],
       "ref": "ce5ee76c-52dd-4675-b3b2-0c6371e66aa8",
       "rows": [
        [
         "0",
         "2009-04-27",
         "-1.5703246223388456"
        ],
        [
         "1",
         "2009-04-29",
         "-0.015426726549732095"
        ],
        [
         "2",
         "2009-05-22",
         "-0.2665526174185673"
        ],
        [
         "3",
         "2009-05-27",
         "-0.09046269693700593"
        ],
        [
         "4",
         "2009-05-29",
         "0.8080683830435099"
        ],
        [
         "5",
         "2009-06-01",
         "3.732377922841863"
        ],
        [
         "6",
         "2009-06-02",
         "0.39456856537284146"
        ],
        [
         "7",
         "2009-06-05",
         "0.9638223772798372"
        ],
        [
         "8",
         "2009-06-08",
         "-0.8293832759162844"
        ],
        [
         "9",
         "2009-06-09",
         "0.9889017651730226"
        ],
        [
         "10",
         "2009-06-15",
         "-0.9754841321240959"
        ],
        [
         "11",
         "2009-06-16",
         "-0.7684754211627465"
        ],
        [
         "12",
         "2009-06-19",
         "1.8565811202338978"
        ],
        [
         "13",
         "2009-06-22",
         "-3.6110374080348584"
        ],
        [
         "14",
         "2009-06-30",
         "-0.4631380594852974"
        ],
        [
         "15",
         "2009-07-07",
         "-3.1790901310190756"
        ],
        [
         "16",
         "2009-07-08",
         "1.088088510254086"
        ],
        [
         "17",
         "2009-07-10",
         "0.4247521418475886"
        ],
        [
         "18",
         "2009-07-14",
         "0.44251413197784917"
        ],
        [
         "19",
         "2009-07-15",
         "3.613157324517542"
        ],
        [
         "20",
         "2009-07-16",
         "1.96405933575166"
        ],
        [
         "21",
         "2009-07-17",
         "0.41198960697588216"
        ],
        [
         "22",
         "2009-07-21",
         "-0.27641188822923546"
        ],
        [
         "23",
         "2009-07-24",
         "-2.580985887273246"
        ],
        [
         "24",
         "2009-07-27",
         "-0.7898903630063914"
        ],
        [
         "25",
         "2009-07-30",
         "1.35577867865587"
        ],
        [
         "26",
         "2009-08-03",
         "1.9823856521232528"
        ],
        [
         "27",
         "2009-08-04",
         "-0.32845596412200306"
        ],
        [
         "28",
         "2009-08-06",
         "-0.8491329765102695"
        ],
        [
         "29",
         "2009-08-07",
         "1.68043829506356"
        ],
        [
         "30",
         "2009-08-10",
         "-1.0984810825825697"
        ],
        [
         "31",
         "2009-08-11",
         "-1.2700864731910966"
        ],
        [
         "32",
         "2009-08-12",
         "2.1706709472253127"
        ],
        [
         "33",
         "2009-08-13",
         "0.8933793524169453"
        ],
        [
         "34",
         "2009-08-17",
         "-3.3282250412225323"
        ],
        [
         "35",
         "2009-08-18",
         "1.846550152801556"
        ],
        [
         "36",
         "2009-08-19",
         "0.06296811055750418"
        ],
        [
         "37",
         "2009-08-21",
         "1.7347778179090234"
        ],
        [
         "38",
         "2009-08-24",
         "-0.3580236615527199"
        ],
        [
         "39",
         "2009-08-25",
         "0.25674953652027765"
        ],
        [
         "40",
         "2009-08-26",
         "-0.2618628584773064"
        ],
        [
         "41",
         "2009-08-27",
         "0.6236347460820846"
        ],
        [
         "42",
         "2009-08-28",
         "0.6666478580435564"
        ],
        [
         "43",
         "2009-08-31",
         "-1.03780572650356"
        ],
        [
         "44",
         "2009-09-01",
         "-2.30440116818895"
        ],
        [
         "45",
         "2009-09-02",
         "-0.22446304111048085"
        ],
        [
         "46",
         "2009-09-03",
         "1.1343165101628516"
        ],
        [
         "47",
         "2009-09-04",
         "1.885576910723663"
        ],
        [
         "48",
         "2009-09-08",
         "1.4246411101200152"
        ],
        [
         "49",
         "2009-09-09",
         "0.8790991624225364"
        ]
       ],
       "shape": {
        "columns": 2,
        "rows": 2757
       }
      },
      "text/html": [
       "<div>\n",
       "<style scoped>\n",
       "    .dataframe tbody tr th:only-of-type {\n",
       "        vertical-align: middle;\n",
       "    }\n",
       "\n",
       "    .dataframe tbody tr th {\n",
       "        vertical-align: top;\n",
       "    }\n",
       "\n",
       "    .dataframe thead th {\n",
       "        text-align: right;\n",
       "    }\n",
       "</style>\n",
       "<table border=\"1\" class=\"dataframe\">\n",
       "  <thead>\n",
       "    <tr style=\"text-align: right;\">\n",
       "      <th></th>\n",
       "      <th>date</th>\n",
       "      <th>Daily_Return</th>\n",
       "    </tr>\n",
       "  </thead>\n",
       "  <tbody>\n",
       "    <tr>\n",
       "      <th>0</th>\n",
       "      <td>2009-04-27</td>\n",
       "      <td>-1.570325</td>\n",
       "    </tr>\n",
       "    <tr>\n",
       "      <th>1</th>\n",
       "      <td>2009-04-29</td>\n",
       "      <td>-0.015427</td>\n",
       "    </tr>\n",
       "    <tr>\n",
       "      <th>2</th>\n",
       "      <td>2009-05-22</td>\n",
       "      <td>-0.266553</td>\n",
       "    </tr>\n",
       "    <tr>\n",
       "      <th>3</th>\n",
       "      <td>2009-05-27</td>\n",
       "      <td>-0.090463</td>\n",
       "    </tr>\n",
       "    <tr>\n",
       "      <th>4</th>\n",
       "      <td>2009-05-29</td>\n",
       "      <td>0.808068</td>\n",
       "    </tr>\n",
       "    <tr>\n",
       "      <th>...</th>\n",
       "      <td>...</td>\n",
       "      <td>...</td>\n",
       "    </tr>\n",
       "    <tr>\n",
       "      <th>2752</th>\n",
       "      <td>2020-06-05</td>\n",
       "      <td>2.020984</td>\n",
       "    </tr>\n",
       "    <tr>\n",
       "      <th>2753</th>\n",
       "      <td>2020-06-08</td>\n",
       "      <td>1.382198</td>\n",
       "    </tr>\n",
       "    <tr>\n",
       "      <th>2754</th>\n",
       "      <td>2020-06-09</td>\n",
       "      <td>1.790033</td>\n",
       "    </tr>\n",
       "    <tr>\n",
       "      <th>2755</th>\n",
       "      <td>2020-06-10</td>\n",
       "      <td>2.920262</td>\n",
       "    </tr>\n",
       "    <tr>\n",
       "      <th>2756</th>\n",
       "      <td>2020-06-11</td>\n",
       "      <td>-4.880188</td>\n",
       "    </tr>\n",
       "  </tbody>\n",
       "</table>\n",
       "<p>2757 rows × 2 columns</p>\n",
       "</div>"
      ],
      "text/plain": [
       "            date  Daily_Return\n",
       "0     2009-04-27     -1.570325\n",
       "1     2009-04-29     -0.015427\n",
       "2     2009-05-22     -0.266553\n",
       "3     2009-05-27     -0.090463\n",
       "4     2009-05-29      0.808068\n",
       "...          ...           ...\n",
       "2752  2020-06-05      2.020984\n",
       "2753  2020-06-08      1.382198\n",
       "2754  2020-06-09      1.790033\n",
       "2755  2020-06-10      2.920262\n",
       "2756  2020-06-11     -4.880188\n",
       "\n",
       "[2757 rows x 2 columns]"
      ]
     },
     "execution_count": 39,
     "metadata": {},
     "output_type": "execute_result"
    }
   ],
   "source": [
    "# aggregating Daily returns by date\n",
    "daily_Return_ = merged_df.groupby('date')['Daily_Return'].mean().reset_index()\n",
    "daily_Return_"
   ]
  },
  {
   "cell_type": "markdown",
   "id": "2d117391",
   "metadata": {},
   "source": [
    "#### Find the correlation between sentiment and daily return "
   ]
  },
  {
   "cell_type": "code",
   "execution_count": 60,
   "id": "5133be91",
   "metadata": {},
   "outputs": [
    {
     "data": {
      "application/vnd.microsoft.datawrangler.viewer.v0+json": {
       "columns": [
        {
         "name": "index",
         "rawType": "int64",
         "type": "integer"
        },
        {
         "name": "date",
         "rawType": "object",
         "type": "unknown"
        },
        {
         "name": "Daily_Return",
         "rawType": "float64",
         "type": "float"
        },
        {
         "name": "sentiment",
         "rawType": "float64",
         "type": "float"
        },
        {
         "name": "l_sentiment",
         "rawType": "object",
         "type": "string"
        }
       ],
       "ref": "84395363-259d-407c-b358-694f68b37fde",
       "rows": [
        [
         "0",
         "2009-04-27",
         "-1.5703246223388456",
         "0.0",
         "neutral"
        ],
        [
         "1",
         "2009-04-29",
         "-0.015426726549732095",
         "0.0",
         "neutral"
        ],
        [
         "2",
         "2009-05-22",
         "-0.2665526174185673",
         "0.0",
         "neutral"
        ],
        [
         "3",
         "2009-05-27",
         "-0.09046269693700593",
         "0.2340909090909091",
         "positive"
        ],
        [
         "4",
         "2009-05-29",
         "0.8080683830435099",
         "0.06818181818181818",
         "positive"
        ],
        [
         "5",
         "2009-06-01",
         "3.732377922841863",
         "0.128",
         "positive"
        ],
        [
         "6",
         "2009-06-02",
         "0.39456856537284146",
         "0.0",
         "neutral"
        ],
        [
         "7",
         "2009-06-05",
         "0.9638223772798372",
         "0.08333333333333333",
         "positive"
        ],
        [
         "8",
         "2009-06-08",
         "-0.8293832759162844",
         "0.21818181818181817",
         "positive"
        ],
        [
         "9",
         "2009-06-09",
         "0.9889017651730226",
         "0.0",
         "neutral"
        ],
        [
         "10",
         "2009-06-15",
         "-0.9754841321240959",
         "0.0",
         "neutral"
        ],
        [
         "11",
         "2009-06-16",
         "-0.7684754211627465",
         "0.7333333333333333",
         "positive"
        ],
        [
         "12",
         "2009-06-19",
         "1.8565811202338978",
         "0.0",
         "neutral"
        ],
        [
         "13",
         "2009-06-22",
         "-3.6110374080348584",
         "1.0",
         "positive"
        ],
        [
         "14",
         "2009-06-30",
         "-0.4631380594852974",
         "0.325",
         "positive"
        ],
        [
         "15",
         "2009-07-07",
         "-3.1790901310190756",
         "0.0",
         "neutral"
        ],
        [
         "16",
         "2009-07-08",
         "1.088088510254086",
         "0.0",
         "neutral"
        ],
        [
         "17",
         "2009-07-10",
         "0.4247521418475886",
         "0.0",
         "neutral"
        ],
        [
         "18",
         "2009-07-14",
         "0.44251413197784917",
         "0.0",
         "neutral"
        ],
        [
         "19",
         "2009-07-15",
         "3.613157324517542",
         "0.0",
         "neutral"
        ],
        [
         "20",
         "2009-07-16",
         "1.96405933575166",
         "0.0",
         "neutral"
        ],
        [
         "21",
         "2009-07-17",
         "0.41198960697588216",
         "0.0",
         "neutral"
        ],
        [
         "22",
         "2009-07-21",
         "-0.27641188822923546",
         "0.22857142857142862",
         "positive"
        ],
        [
         "23",
         "2009-07-24",
         "-2.580985887273246",
         "0.0",
         "neutral"
        ],
        [
         "24",
         "2009-07-27",
         "-0.7898903630063914",
         "0.02072711239377906",
         "neutral"
        ],
        [
         "25",
         "2009-07-30",
         "1.35577867865587",
         "0.0",
         "neutral"
        ],
        [
         "26",
         "2009-08-03",
         "1.9823856521232528",
         "0.25",
         "positive"
        ],
        [
         "27",
         "2009-08-04",
         "-0.32845596412200306",
         "-0.08571428571428572",
         "negative"
        ],
        [
         "28",
         "2009-08-06",
         "-0.8491329765102695",
         "0.023760932944606412",
         "neutral"
        ],
        [
         "29",
         "2009-08-07",
         "1.68043829506356",
         "0.06320697547793822",
         "neutral"
        ],
        [
         "30",
         "2009-08-10",
         "-1.0984810825825697",
         "0.06683963529096272",
         "neutral"
        ],
        [
         "31",
         "2009-08-11",
         "-1.2700864731910966",
         "0.11745580808080809",
         "neutral"
        ],
        [
         "32",
         "2009-08-12",
         "2.1706709472253127",
         "0.03808653804424481",
         "neutral"
        ],
        [
         "33",
         "2009-08-13",
         "0.8933793524169453",
         "0.07537412749394316",
         "neutral"
        ],
        [
         "34",
         "2009-08-17",
         "-3.3282250412225323",
         "0.10743195974208633",
         "neutral"
        ],
        [
         "35",
         "2009-08-18",
         "1.846550152801556",
         "0.11666666666666667",
         "neutral"
        ],
        [
         "36",
         "2009-08-19",
         "0.06296811055750418",
         "0.06666666666666667",
         "neutral"
        ],
        [
         "37",
         "2009-08-21",
         "1.7347778179090234",
         "0.11607142857142858",
         "neutral"
        ],
        [
         "38",
         "2009-08-24",
         "-0.3580236615527199",
         "-0.1042087542087542",
         "neutral"
        ],
        [
         "39",
         "2009-08-25",
         "0.25674953652027765",
         "0.029105434039644565",
         "neutral"
        ],
        [
         "40",
         "2009-08-26",
         "-0.2618628584773064",
         "0.06621212121212122",
         "neutral"
        ],
        [
         "41",
         "2009-08-27",
         "0.6236347460820846",
         "0.10163461538461539",
         "neutral"
        ],
        [
         "42",
         "2009-08-28",
         "0.6666478580435564",
         "-0.12052380952380953",
         "negative"
        ],
        [
         "43",
         "2009-08-31",
         "-1.03780572650356",
         "-0.007539983164983166",
         "neutral"
        ],
        [
         "44",
         "2009-09-01",
         "-2.30440116818895",
         "-0.01086760461760462",
         "neutral"
        ],
        [
         "45",
         "2009-09-02",
         "-0.22446304111048085",
         "0.08570318570318569",
         "neutral"
        ],
        [
         "46",
         "2009-09-03",
         "1.1343165101628516",
         "0.04833333333333333",
         "neutral"
        ],
        [
         "47",
         "2009-09-04",
         "1.885576910723663",
         "0.07233333333333333",
         "neutral"
        ],
        [
         "48",
         "2009-09-08",
         "1.4246411101200152",
         "0.05396231219760632",
         "neutral"
        ],
        [
         "49",
         "2009-09-09",
         "0.8790991624225364",
         "0.0029143475572046993",
         "neutral"
        ]
       ],
       "shape": {
        "columns": 4,
        "rows": 2757
       }
      },
      "text/html": [
       "<div>\n",
       "<style scoped>\n",
       "    .dataframe tbody tr th:only-of-type {\n",
       "        vertical-align: middle;\n",
       "    }\n",
       "\n",
       "    .dataframe tbody tr th {\n",
       "        vertical-align: top;\n",
       "    }\n",
       "\n",
       "    .dataframe thead th {\n",
       "        text-align: right;\n",
       "    }\n",
       "</style>\n",
       "<table border=\"1\" class=\"dataframe\">\n",
       "  <thead>\n",
       "    <tr style=\"text-align: right;\">\n",
       "      <th></th>\n",
       "      <th>date</th>\n",
       "      <th>Daily_Return</th>\n",
       "      <th>sentiment</th>\n",
       "      <th>l_sentiment</th>\n",
       "    </tr>\n",
       "  </thead>\n",
       "  <tbody>\n",
       "    <tr>\n",
       "      <th>0</th>\n",
       "      <td>2009-04-27</td>\n",
       "      <td>-1.570325</td>\n",
       "      <td>0.000000</td>\n",
       "      <td>neutral</td>\n",
       "    </tr>\n",
       "    <tr>\n",
       "      <th>1</th>\n",
       "      <td>2009-04-29</td>\n",
       "      <td>-0.015427</td>\n",
       "      <td>0.000000</td>\n",
       "      <td>neutral</td>\n",
       "    </tr>\n",
       "    <tr>\n",
       "      <th>2</th>\n",
       "      <td>2009-05-22</td>\n",
       "      <td>-0.266553</td>\n",
       "      <td>0.000000</td>\n",
       "      <td>neutral</td>\n",
       "    </tr>\n",
       "    <tr>\n",
       "      <th>3</th>\n",
       "      <td>2009-05-27</td>\n",
       "      <td>-0.090463</td>\n",
       "      <td>0.234091</td>\n",
       "      <td>positive</td>\n",
       "    </tr>\n",
       "    <tr>\n",
       "      <th>4</th>\n",
       "      <td>2009-05-29</td>\n",
       "      <td>0.808068</td>\n",
       "      <td>0.068182</td>\n",
       "      <td>positive</td>\n",
       "    </tr>\n",
       "    <tr>\n",
       "      <th>...</th>\n",
       "      <td>...</td>\n",
       "      <td>...</td>\n",
       "      <td>...</td>\n",
       "      <td>...</td>\n",
       "    </tr>\n",
       "    <tr>\n",
       "      <th>2752</th>\n",
       "      <td>2020-06-05</td>\n",
       "      <td>2.020984</td>\n",
       "      <td>0.118396</td>\n",
       "      <td>positive</td>\n",
       "    </tr>\n",
       "    <tr>\n",
       "      <th>2753</th>\n",
       "      <td>2020-06-08</td>\n",
       "      <td>1.382198</td>\n",
       "      <td>0.069246</td>\n",
       "      <td>positive</td>\n",
       "    </tr>\n",
       "    <tr>\n",
       "      <th>2754</th>\n",
       "      <td>2020-06-09</td>\n",
       "      <td>1.790033</td>\n",
       "      <td>0.013402</td>\n",
       "      <td>neutral</td>\n",
       "    </tr>\n",
       "    <tr>\n",
       "      <th>2755</th>\n",
       "      <td>2020-06-10</td>\n",
       "      <td>2.920262</td>\n",
       "      <td>-0.010027</td>\n",
       "      <td>neutral</td>\n",
       "    </tr>\n",
       "    <tr>\n",
       "      <th>2756</th>\n",
       "      <td>2020-06-11</td>\n",
       "      <td>-4.880188</td>\n",
       "      <td>0.007430</td>\n",
       "      <td>neutral</td>\n",
       "    </tr>\n",
       "  </tbody>\n",
       "</table>\n",
       "<p>2757 rows × 4 columns</p>\n",
       "</div>"
      ],
      "text/plain": [
       "            date  Daily_Return  sentiment l_sentiment\n",
       "0     2009-04-27     -1.570325   0.000000     neutral\n",
       "1     2009-04-29     -0.015427   0.000000     neutral\n",
       "2     2009-05-22     -0.266553   0.000000     neutral\n",
       "3     2009-05-27     -0.090463   0.234091    positive\n",
       "4     2009-05-29      0.808068   0.068182    positive\n",
       "...          ...           ...        ...         ...\n",
       "2752  2020-06-05      2.020984   0.118396    positive\n",
       "2753  2020-06-08      1.382198   0.069246    positive\n",
       "2754  2020-06-09      1.790033   0.013402     neutral\n",
       "2755  2020-06-10      2.920262  -0.010027     neutral\n",
       "2756  2020-06-11     -4.880188   0.007430     neutral\n",
       "\n",
       "[2757 rows x 4 columns]"
      ]
     },
     "execution_count": 60,
     "metadata": {},
     "output_type": "execute_result"
    }
   ],
   "source": [
    "# Creating correlation dataframe \n",
    "correlation_df = pd.merge(daily_Return_, daily_sentiment_, on='date', how='inner')\n",
    "correlation_df = pd.merge(correlation_df,daily_sentiment, on ='date', how = 'inner')\n",
    "correlation_df"
   ]
  },
  {
   "cell_type": "code",
   "execution_count": 88,
   "id": "1817f517",
   "metadata": {},
   "outputs": [
    {
     "name": "stdout",
     "output_type": "stream",
     "text": [
      "Correlation between daily returns and sentiments: 0.002454098278958313\n"
     ]
    }
   ],
   "source": [
    "# Correlation between\n",
    "from scipy.stats import pearsonr \n",
    "correlation, p_value = pearsonr(correlation_df['Daily_Return'], correlation_df['sentiment'])\n",
    "print(f\"Correlation between daily returns and sentiments: {correlation}\")"
   ]
  },
  {
   "cell_type": "markdown",
   "id": "f5c06b14",
   "metadata": {},
   "source": [
    "- This indicates an extremely weak linear relationship between daily returns and sentiment. \n",
    "  - which means changes in sentiment have almost no linear association with changes in daily returns.\n",
    "  - The positive value suggests a slight positive relationship, meaning that as sentiment becomes more positive, daily returns might increase slightly, but the effect is negligible due to the small magnitude."
   ]
  },
  {
   "cell_type": "code",
   "execution_count": 89,
   "id": "f1680952",
   "metadata": {},
   "outputs": [
    {
     "data": {
      "image/png": "[encoded data removed]",
      "text/plain": [
       "<Figure size 800x600 with 2 Axes>"
      ]
     },
     "metadata": {},
     "output_type": "display_data"
    }
   ],
   "source": [
    "# Create heatmap\n",
    "plt.figure(figsize=(8, 6))\n",
    "sns.heatmap(correlation_df[['Daily_Return','sentiment']].corr(), annot=True, cmap='coolwarm', vmin=-1, vmax=1, center=0,\n",
    "            fmt='.2f', square=True, cbar_kws={'label': 'Correlation'})\n",
    "plt.title('Correlation Heatmap: Daily Returns Across Tickers')\n",
    "plt.show()\n"
   ]
  },
  {
   "cell_type": "code",
   "execution_count": 65,
   "id": "8d474a29",
   "metadata": {},
   "outputs": [
    {
     "name": "stderr",
     "output_type": "stream",
     "text": [
      "C:\\Users\\jonep\\AppData\\Local\\Temp\\ipykernel_4504\\1672143614.py:14: UserWarning:\n",
      "\n",
      "No artists with labels found to put in legend.  Note that artists whose label start with an underscore are ignored when legend() is called with no argument.\n",
      "\n"
     ]
    },
    {
     "data": {
      "image/png": "[encoded data removed]",
      "text/plain": [
       "<Figure size 1000x600 with 1 Axes>"
      ]
     },
     "metadata": {},
     "output_type": "display_data"
    }
   ],
   "source": [
    "import seaborn as sns\n",
    "import matplotlib.pyplot as plt\n",
    "# Set Seaborn style\n",
    "sns.set_style(\"whitegrid\")\n",
    "\n",
    "# Create histogram with sentiment as color\n",
    "plt.figure(figsize=(10, 6))\n",
    "sns.histplot(data=correlation_df, x='Daily_Return', hue='l_sentiment', color='l_sentiment')\n",
    "\n",
    "# Customize layout\n",
    "plt.title('Histogram of Daily Returns by Sentiment')\n",
    "plt.xlabel('Daily Return')\n",
    "plt.ylabel('Count')\n",
    "plt.legend(title='Sentiment')\n",
    "\n",
    "# Show plot\n",
    "plt.show()"
   ]
  },
  {
   "cell_type": "code",
   "execution_count": null,
   "id": "a1d34f86",
   "metadata": {},
   "outputs": [],
   "source": []
  }
 ],
 "metadata": {
  "kernelspec": {
   "display_name": "Python 3",
   "language": "python",
   "name": "python3"
  },
  "language_info": {
   "codemirror_mode": {
    "name": "ipython",
    "version": 3
   },
   "file_extension": ".py",
   "mimetype": "text/x-python",
   "name": "python",
   "nbconvert_exporter": "python",
   "pygments_lexer": "ipython3",
   "version": "3.13.1"
  }
 },
 "nbformat": 4,
 "nbformat_minor": 5
}
