{
 "cells": [
  {
   "cell_type": "markdown",
   "id": "72e661e4",
   "metadata": {},
   "source": [
    "## **Task 3: Correlation between news and stock movement**\n",
    "\n",
    "- Date Alignment: Ensure that both datasets (news and stock prices) are aligned by dates. This might involve normalizing timestamps.\n",
    "- Sentiment Analysis: Conduct sentiment analysis on news headlines to quantify the tone of each article (positive, negative, neutral).Tools: Use Python libraries like nltk, TextBlob for sentiment analysis.\n",
    "- Analysis:\n",
    "  - Calculate Daily Stock Returns: Compute the percentage change in daily closing prices to represent stock movements.\n",
    "  - Correlation Analysis: Use statistical methods to test the correlation between daily news sentiment scores and stock returns."
   ]
  },
  {
   "cell_type": "code",
   "execution_count": 1,
   "id": "48e66078",
   "metadata": {},
   "outputs": [],
   "source": [
    "# import required packages\n",
    "\n",
    "import os \n",
    "import sys\n",
    "\n",
    "sys_path = os.path.abspath(\"..\")\n",
    "if sys_path not in sys.path:\n",
    "    sys.path.append(sys_path)\n",
    "\n",
    "%load_ext autoreload\n",
    "%autoreload 2"
   ]
  },
  {
   "cell_type": "code",
   "execution_count": 2,
   "id": "a5876516",
   "metadata": {},
   "outputs": [
    {
     "name": "stdout",
     "output_type": "stream",
     "text": [
      "Local punkt tokenizer found.\n"
     ]
    }
   ],
   "source": [
    "# import scripts with class NewsStockCorrelationAnalyzer\n",
    "from scripts.News_Stock_Correlation_Util import NewsStockCorrelationAnalyzer"
   ]
  },
  {
   "cell_type": "code",
   "execution_count": 3,
   "id": "ba5312bc",
   "metadata": {},
   "outputs": [],
   "source": [
    "# creating instance using NewsStockCorrelationAnalyzer class\n",
    "analysis = NewsStockCorrelationAnalyzer()"
   ]
  },
  {
   "cell_type": "markdown",
   "id": "4575232e",
   "metadata": {},
   "source": [
    "#### loading financial news data "
   ]
  },
  {
   "cell_type": "code",
   "execution_count": 11,
   "id": "8ae0f9be",
   "metadata": {},
   "outputs": [
    {
     "name": "stdout",
     "output_type": "stream",
     "text": [
      "----------------Loading FNSPID data from ../data/raw_analyst_ratings.csv------------\n"
     ]
    },
    {
     "data": {
      "application/vnd.microsoft.datawrangler.viewer.v0+json": {
       "columns": [
        {
         "name": "index",
         "rawType": "int64",
         "type": "integer"
        },
        {
         "name": "Unnamed: 0",
         "rawType": "int64",
         "type": "integer"
        },
        {
         "name": "headline",
         "rawType": "object",
         "type": "string"
        },
        {
         "name": "url",
         "rawType": "object",
         "type": "string"
        },
        {
         "name": "publisher",
         "rawType": "object",
         "type": "string"
        },
        {
         "name": "date",
         "rawType": "datetime64[ns, UTC-04:00]",
         "type": "unknown"
        },
        {
         "name": "stock",
         "rawType": "object",
         "type": "string"
        }
       ],
       "ref": "abac0e0d-b5ca-44c2-bfbe-e7eb4a4c7471",
       "rows": [
        [
         "0",
         "0",
         "Stocks That Hit 52-Week Highs On Friday",
         "https://www.benzinga.com/news/20/06/16190091/stocks-that-hit-52-week-highs-on-friday",
         "Benzinga Insights",
         "2020-06-05 10:30:54-04:00",
         "A"
        ],
        [
         "1",
         "1",
         "Stocks That Hit 52-Week Highs On Wednesday",
         "https://www.benzinga.com/news/20/06/16170189/stocks-that-hit-52-week-highs-on-wednesday",
         "Benzinga Insights",
         "2020-06-03 10:45:20-04:00",
         "A"
        ],
        [
         "2",
         "2",
         "71 Biggest Movers From Friday",
         "https://www.benzinga.com/news/20/05/16103463/71-biggest-movers-from-friday",
         "Lisa Levin",
         "2020-05-26 04:30:07-04:00",
         "A"
        ],
        [
         "3",
         "3",
         "46 Stocks Moving In Friday's Mid-Day Session",
         "https://www.benzinga.com/news/20/05/16095921/46-stocks-moving-in-fridays-mid-day-session",
         "Lisa Levin",
         "2020-05-22 12:45:06-04:00",
         "A"
        ],
        [
         "4",
         "4",
         "B of A Securities Maintains Neutral on Agilent Technologies, Raises Price Target to $88",
         "https://www.benzinga.com/news/20/05/16095304/b-of-a-securities-maintains-neutral-on-agilent-technologies-raises-price-target-to-88",
         "Vick Meyer",
         "2020-05-22 11:38:59-04:00",
         "A"
        ],
        [
         "5",
         "5",
         "CFRA Maintains Hold on Agilent Technologies, Lowers Price Target to $85",
         "https://www.benzinga.com/news/20/05/16095163/cfra-maintains-hold-on-agilent-technologies-lowers-price-target-to-85",
         "vishwanath@benzinga.com",
         "2020-05-22 11:23:25-04:00",
         "A"
        ],
        [
         "6",
         "6",
         "UBS Maintains Neutral on Agilent Technologies, Raises Price Target to $87",
         "https://www.benzinga.com/news/20/05/16094027/ubs-maintains-neutral-on-agilent-technologies-raises-price-target-to-87",
         "vishwanath@benzinga.com",
         "2020-05-22 09:36:20-04:00",
         "A"
        ],
        [
         "7",
         "7",
         "Agilent Technologies shares are trading higher after the company reported better-than-expected Q2 EPS and sales results.",
         "https://www.benzinga.com/wiim/20/05/16093805/agilent-technologies-shares-are-trading-higher-after-the-company-reported-better-than-expected-q2-ep",
         "Benzinga Newsdesk",
         "2020-05-22 09:07:04-04:00",
         "A"
        ],
        [
         "8",
         "8",
         "Wells Fargo Maintains Overweight on Agilent Technologies, Raises Price Target to $95",
         "https://www.benzinga.com/news/20/05/16093505/wells-fargo-maintains-overweight-on-agilent-technologies-raises-price-target-to-95",
         "vishwanath@benzinga.com",
         "2020-05-22 08:37:59-04:00",
         "A"
        ],
        [
         "9",
         "9",
         "10 Biggest Price Target Changes For Friday",
         "https://www.benzinga.com/analyst-ratings/price-target/20/05/16093262/10-biggest-price-target-changes-for-friday",
         "Lisa Levin",
         "2020-05-22 08:06:17-04:00",
         "A"
        ],
        [
         "10",
         "10",
         "30 Stocks Moving in Friday's Pre-Market Session",
         "https://www.benzinga.com/news/20/05/16092879/30-stocks-moving-in-fridays-pre-market-session",
         "Lisa Levin",
         "2020-05-22 00:00:00-04:00",
         "A"
        ],
        [
         "11",
         "11",
         "SVB Leerink Maintains Outperform on Agilent Technologies, Raises Price Target to $95",
         "https://www.benzinga.com/news/20/05/16092270/svb-leerink-maintains-outperform-on-agilent-technologies-raises-price-target-to-95",
         "vishwanath@benzinga.com",
         "2020-05-22 00:00:00-04:00",
         "A"
        ],
        [
         "12",
         "12",
         "8 Stocks Moving In Thursday's After-Hours Session",
         "https://www.benzinga.com/news/20/05/16089803/8-stocks-moving-in-thursdays-after-hours-session",
         "Tyree Gorges",
         "2020-05-21 00:00:00-04:00",
         "A"
        ],
        [
         "13",
         "13",
         "Agilent Technologies shares are trading higher after the company reported better-than-expected Q2 EPS and sales results.",
         "https://www.benzinga.com/wiim/20/05/16089218/agilent-technologies-shares-are-trading-higher-after-the-company-reported-better-than-expected-q2-ep",
         "Benzinga Newsdesk",
         "2020-05-21 00:00:00-04:00",
         "A"
        ],
        [
         "14",
         "14",
         "Agilent Technologies Q2 Adj. EPS $0.71 Beats $0.61 Estimate, Sales $1.24B Beat $1.21B Estimate",
         "https://www.benzinga.com/news/earnings/20/05/16088886/agilent-technologies-q2-adj-eps-0-71-beats-0-61-estimate-sales-1-24b-beat-1-21b-estimate",
         "Benzinga Newsdesk",
         "2020-05-21 00:00:00-04:00",
         "A"
        ],
        [
         "15",
         "15",
         "Earnings Scheduled For May 21, 2020",
         "https://www.benzinga.com/news/earnings/20/05/16082427/earnings-scheduled-for-may-21-2020",
         "Lisa Levin",
         "2020-05-21 00:00:00-04:00",
         "A"
        ],
        [
         "16",
         "16",
         "Agilent Technologies Receives FDA Approval for PD-L1 as a Companion Diagnostic",
         "https://www.benzinga.com/news/20/05/16054223/agilent-technologies-receives-fda-approval-for-pd-l1-as-a-companion-diagnostic",
         "Luke J Jacobi",
         "2020-05-18 00:00:00-04:00",
         "A"
        ],
        [
         "17",
         "17",
         "Q1 13F Roundup: How Buffett, Einhorn, Ackman And Others Adjusted Their Portfolios",
         "https://www.benzinga.com/news/20/05/16051311/q1-13f-roundup-how-buffett-einhorn-ackman-and-others-adjusted-their-portfolios",
         "Wayne Duggan",
         "2020-05-16 00:00:00-04:00",
         "A"
        ],
        [
         "18",
         "18",
         "Pershing Square 13F Shows Fund Raises Stake In Agilent Technologies To 12,626,593 Shares",
         "https://www.benzinga.com/general/hedge-funds/20/05/16048806/pershing-square-13f-shows-fund-raises-stake-in-agilent-technologies-to-12-626-593-shares",
         "Benzinga Newsdesk",
         "2020-05-15 00:00:00-04:00",
         "A"
        ],
        [
         "19",
         "19",
         "How Bill Ackman Successfully Navigated Coronavirus Market Volatility",
         "https://www.benzinga.com/general/education/20/05/15979110/how-bill-ackman-successfully-navigated-coronavirus-market-volatility",
         "Wayne Duggan",
         "2020-05-08 00:00:00-04:00",
         "A"
        ],
        [
         "20",
         "20",
         "Shares of several healthcare companies are trading higher amid positive investor sentiment as some US states begin to reopen their economies and as oil prices gain for the session.",
         "https://www.benzinga.com/wiim/20/05/15957697/shares-of-several-healthcare-companies-are-trading-higher-amid-positive-investor-sentiment-as-some-u",
         "Benzinga Newsdesk",
         "2020-05-05 00:00:00-04:00",
         "A"
        ],
        [
         "21",
         "21",
         "Shares of several healthcare companies are trading lower as markets dip following recent strength. Markets have sold off as investors weigh recent earnings and amid concerns of renewed US-China trade frictions.",
         "https://www.benzinga.com/20/05/15935673/shares-of-several-healthcare-companies-are-trading-lower-as-markets-dip-following-recent-strength-ma",
         "Benzinga Newsdesk",
         "2020-05-01 00:00:00-04:00",
         "A"
        ],
        [
         "22",
         "22",
         "UBS Maintains Neutral on Agilent Technologies, Lowers Price Target to $84",
         "https://www.benzinga.com/news/20/04/15897306/ubs-maintains-neutral-on-agilent-technologies-lowers-price-target-to-84",
         "vishwanath@benzinga.com",
         "2020-04-28 00:00:00-04:00",
         "A"
        ],
        [
         "23",
         "23",
         "Agilent Reports FDA Approval For PD-L1 Companion Diagnostic On Dako Omni",
         "https://www.benzinga.com/news/20/04/15864339/agilent-reports-fda-approval-for-pd-l1-companion-diagnostic-on-dako-omni",
         "Benzinga Newsdesk",
         "2020-04-23 00:00:00-04:00",
         "A"
        ],
        [
         "24",
         "24",
         "Agilent Reports Has Become Top-Level Sponsor Of My Green Lab",
         "https://www.benzinga.com/news/20/04/15855436/agilent-reports-has-become-top-level-sponsor-of-my-green-lab",
         "Benzinga Newsdesk",
         "2020-04-22 00:00:00-04:00",
         "A"
        ],
        [
         "25",
         "25",
         "Agilent Withdraws Q2 And FY20 Guidance",
         "https://www.benzinga.com/news/20/04/15796369/agilent-withdraws-q2-and-fy20-guidance",
         "Benzinga Newsdesk",
         "2020-04-14 00:00:00-04:00",
         "A"
        ],
        [
         "26",
         "26",
         "Shares of several companies in the auto dealer space are trading higher amid positive market sentiment. Speculation some coronavirus hotspots leveling off has raised hopes of a return to economic activity, which could mean a rebound in consumer spending.",
         "https://www.benzinga.com/wiim/20/04/15769071/shares-of-several-companies-in-the-auto-dealer-space-are-trading-higher-amid-positive-market-sentime",
         "Benzinga Newsdesk",
         "2020-04-08 00:00:00-04:00",
         "A"
        ],
        [
         "27",
         "27",
         "Shares of several healthcare companies are trading higher as markets gain amid optimism that coronavirus cases in several US hotspots may be peaking. A sooner peak could mean a sooner return to economic activity.",
         "https://www.benzinga.com/wiim/20/04/15748126/shares-of-several-healthcare-companies-are-trading-higher-as-markets-gain-amid-optimism-that-coronav",
         "Benzinga Newsdesk",
         "2020-04-06 00:00:00-04:00",
         "A"
        ],
        [
         "28",
         "28",
         "Stifel Maintains Hold on Agilent Technologies, Lowers Price Target to $73",
         "https://www.benzinga.com/news/20/04/15728603/stifel-maintains-hold-on-agilent-technologies-lowers-price-target-to-73",
         "Vick Meyer",
         "2020-04-02 00:00:00-04:00",
         "A"
        ],
        [
         "29",
         "29",
         "Shares of several healthcare companies are trading lower amid market weakness as growing coronavirus concerns in the US weigh on equities.",
         "https://www.benzinga.com/wiim/20/04/15717065/shares-of-several-healthcare-companies-are-trading-lower-amid-market-weakness-as-growing-coronavirus",
         "Benzinga Newsdesk",
         "2020-04-01 00:00:00-04:00",
         "A"
        ],
        [
         "30",
         "30",
         "Int'l. Air Transport Authority Chief Economist Sees Consolidation In Airline Sector As Some Airlines Fail, Calls Signs In Chinese Domestic Market 'Encouraging,' Load Factors Are About 60%",
         "https://www.benzinga.com/news/20/03/15705690/intl-air-transport-authority-chief-economist-sees-consolidation-in-airline-sector-as-some-airlines-f",
         "Benzinga Newsdesk",
         "2020-03-31 00:00:00-04:00",
         "A"
        ],
        [
         "31",
         "31",
         "Wells Fargo Maintains Overweight on Agilent Technologies, Lowers Price Target to $82",
         "https://www.benzinga.com/news/20/03/15695415/wells-fargo-maintains-overweight-on-agilent-technologies-lowers-price-target-to-82",
         "Vick Meyer",
         "2020-03-30 00:00:00-04:00",
         "A"
        ],
        [
         "32",
         "32",
         "Shares of several technology companies are trading higher as equities continue to rise following last week's rebound amid US stimulus measures.",
         "https://www.benzinga.com/wiim/20/03/15695372/shares-of-several-technology-companies-are-trading-higher-as-equities-continue-to-rise-following-las",
         "Benzinga Newsdesk",
         "2020-03-30 00:00:00-04:00",
         "A"
        ],
        [
         "33",
         "33",
         "Shares of several healthcare companies are trading lower, selling off from this week's strength. While the US stimulus package boosted economic optimism, demand concerns still exist amid the coronavirus outbreak.",
         "https://www.benzinga.com/wiim/20/03/15683827/shares-of-several-healthcare-companies-are-trading-lower-selling-off-from-this-weeks-strength-while",
         "Benzinga Newsdesk",
         "2020-03-27 00:00:00-04:00",
         "A"
        ],
        [
         "34",
         "34",
         "Shares of several healthcare companies are trading higher following Senate passage of a $2 trillion economic stimulus package, which has lifted stocks across sectors.",
         "https://www.benzinga.com/wiim/20/03/15674560/shares-of-several-healthcare-companies-are-trading-higher-following-senate-passage-of-a-2-trillion-e",
         "Benzinga Newsdesk",
         "2020-03-26 00:00:00-04:00",
         "A"
        ],
        [
         "35",
         "35",
         "Barclays Maintains Equal-Weight on Agilent Technologies, Lowers Price Target to $76",
         "https://www.benzinga.com/news/20/03/15673665/barclays-maintains-equal-weight-on-agilent-technologies-lowers-price-target-to-76",
         "Vick Meyer",
         "2020-03-26 00:00:00-04:00",
         "A"
        ],
        [
         "36",
         "36",
         "Ariel Chairman John Rogers Thinks Current Market Is 'Once In A Lifetime Opportunity To Buy Stocks'",
         "https://www.benzinga.com/news/20/03/15668620/ariel-chairman-john-rogers-thinks-current-market-is-once-in-a-lifetime-opportunity-to-buy-stocks",
         "Shivdeep Dhaliwal",
         "2020-03-26 00:00:00-04:00",
         "A"
        ],
        [
         "37",
         "37",
         "Citigroup Maintains Neutral on Agilent Technologies, Lowers Price Target to $75",
         "https://www.benzinga.com/news/20/03/15615851/citigroup-maintains-neutral-on-agilent-technologies-lowers-price-target-to-75",
         "Vick Meyer",
         "2020-03-20 00:00:00-04:00",
         "A"
        ],
        [
         "38",
         "38",
         "Stocks That Hit 52-Week Lows On Monday",
         "https://www.benzinga.com/news/20/03/15560273/stocks-that-hit-52-week-lows-on-monday",
         "Benzinga Newsdesk",
         "2020-03-16 00:00:00-04:00",
         "A"
        ],
        [
         "39",
         "39",
         "Shares of several healthcare companies are trading lower in sympathy with the overall market on continued downward momentum caused by the coronavirus. The virus has had a negative impact on the global economy.",
         "https://www.benzinga.com/wiim/20/03/15558425/shares-of-several-healthcare-companies-are-trading-lower-in-sympathy-with-the-overall-market-on-cont",
         "Benzinga Newsdesk",
         "2020-03-16 00:00:00-04:00",
         "A"
        ],
        [
         "40",
         "40",
         "Shares of several basic materials companies are trading higher, rebounding following Thursday's crash. The sector has been volatile amid the coronavirus outbreak, which has disrupted economic activity. NOTE: While markets rebound, virus fears persist.",
         "https://www.benzinga.com/wiim/20/03/15546085/shares-of-several-basic-materials-companies-are-trading-higher-rebounding-following-thursdays-crash",
         "Benzinga Newsdesk",
         "2020-03-13 00:00:00-04:00",
         "A"
        ],
        [
         "41",
         "41",
         "Stocks That Hit 52-Week Lows On Thursday",
         "https://www.benzinga.com/news/20/03/15538835/stocks-that-hit-52-week-lows-on-thursday",
         "Lisa Levin",
         "2020-03-12 00:00:00-04:00",
         "A"
        ],
        [
         "42",
         "42",
         "Shares of several coronavirus-related companies including vaccine makers, protective apparel manufacturers and emergency medical suppliers are trading higher as the coronavirus continues to spread globally.",
         "https://www.benzinga.com/wiim/20/03/15528213/shares-of-several-coronavirus-related-companies-including-vaccine-makers-protective-apparel-manufact",
         "luke@benzinga.com",
         "2020-03-11 00:00:00-04:00",
         "A"
        ],
        [
         "43",
         "43",
         "Agilent Technologies Inc Says In January 2020, Net Revenue Was Negatively Impacted Due To The Public Health Crisis In China; Says In Jan 2020, Net Revenue Negatively Impacted Also Due To Extension Of Lunar New Year Resulting In Fewer Selling Days In Month",
         "https://www.benzinga.com/news/20/03/15472189/agilent-technologies-inc-says-in-january-2020-net-revenue-was-negatively-impacted-due-to-the-public",
         "luke@benzinga.com",
         "2020-03-03 00:00:00-04:00",
         "A"
        ],
        [
         "44",
         "44",
         "Shares of several healthcare companies are trading higher in sympathy with the overall market as it rebounds from a selloff caused by coronavirus fears.",
         "https://www.benzinga.com/wiim/20/03/15456786/shares-of-several-healthcare-companies-are-trading-higher-in-sympathy-with-the-overall-market-as-it",
         "Benzinga Newsdesk",
         "2020-03-02 00:00:00-04:00",
         "A"
        ],
        [
         "45",
         "45",
         "Benzinga's Top Upgrades, Downgrades For February 24, 2020",
         "https://www.benzinga.com/analyst-ratings/upgrades/20/02/15393664/benzingas-top-upgrades-downgrades-for-february-24-2020",
         "Lisa Levin",
         "2020-02-24 00:00:00-04:00",
         "A"
        ],
        [
         "46",
         "46",
         "Shares of several software companies are trading lower as the coronavirus cases surge outside of China. NOTE: The virus has raised fear of a global economic slowdown.",
         "https://www.benzinga.com/wiim/20/02/15392140/shares-of-several-software-companies-are-trading-lower-as-the-coronavirus-cases-surge-outside-of-chi",
         "Benzinga Newsdesk",
         "2020-02-24 00:00:00-04:00",
         "A"
        ],
        [
         "47",
         "47",
         "Needham Downgrades Agilent Technologies to Hold, Announces $85 Price Target",
         "https://www.benzinga.com/news/20/02/15391251/needham-downgrades-agilent-technologies-to-hold-announces-85-price-target",
         "Vick Meyer",
         "2020-02-24 00:00:00-04:00",
         "A"
        ],
        [
         "48",
         "48",
         "UBS Maintains Neutral on Agilent Technologies, Raises Price Target to $90",
         "https://www.benzinga.com/news/20/02/15363071/ubs-maintains-neutral-on-agilent-technologies-raises-price-target-to-90",
         "Vick Meyer",
         "2020-02-19 00:00:00-04:00",
         "A"
        ],
        [
         "49",
         "49",
         "12 Stocks Moving In Tuesday's After-Hours Session",
         "https://www.benzinga.com/news/20/02/15359453/12-stocks-moving-in-tuesdays-after-hours-session",
         "Tyree Gorges",
         "2020-02-18 00:00:00-04:00",
         "A"
        ]
       ],
       "shape": {
        "columns": 6,
        "rows": 1407328
       }
      },
      "text/html": [
       "<div>\n",
       "<style scoped>\n",
       "    .dataframe tbody tr th:only-of-type {\n",
       "        vertical-align: middle;\n",
       "    }\n",
       "\n",
       "    .dataframe tbody tr th {\n",
       "        vertical-align: top;\n",
       "    }\n",
       "\n",
       "    .dataframe thead th {\n",
       "        text-align: right;\n",
       "    }\n",
       "</style>\n",
       "<table border=\"1\" class=\"dataframe\">\n",
       "  <thead>\n",
       "    <tr style=\"text-align: right;\">\n",
       "      <th></th>\n",
       "      <th>Unnamed: 0</th>\n",
       "      <th>headline</th>\n",
       "      <th>url</th>\n",
       "      <th>publisher</th>\n",
       "      <th>date</th>\n",
       "      <th>stock</th>\n",
       "    </tr>\n",
       "  </thead>\n",
       "  <tbody>\n",
       "    <tr>\n",
       "      <th>0</th>\n",
       "      <td>0</td>\n",
       "      <td>Stocks That Hit 52-Week Highs On Friday</td>\n",
       "      <td>https://www.benzinga.com/news/20/06/16190091/s...</td>\n",
       "      <td>Benzinga Insights</td>\n",
       "      <td>2020-06-05 10:30:54-04:00</td>\n",
       "      <td>A</td>\n",
       "    </tr>\n",
       "    <tr>\n",
       "      <th>1</th>\n",
       "      <td>1</td>\n",
       "      <td>Stocks That Hit 52-Week Highs On Wednesday</td>\n",
       "      <td>https://www.benzinga.com/news/20/06/16170189/s...</td>\n",
       "      <td>Benzinga Insights</td>\n",
       "      <td>2020-06-03 10:45:20-04:00</td>\n",
       "      <td>A</td>\n",
       "    </tr>\n",
       "    <tr>\n",
       "      <th>2</th>\n",
       "      <td>2</td>\n",
       "      <td>71 Biggest Movers From Friday</td>\n",
       "      <td>https://www.benzinga.com/news/20/05/16103463/7...</td>\n",
       "      <td>Lisa Levin</td>\n",
       "      <td>2020-05-26 04:30:07-04:00</td>\n",
       "      <td>A</td>\n",
       "    </tr>\n",
       "    <tr>\n",
       "      <th>3</th>\n",
       "      <td>3</td>\n",
       "      <td>46 Stocks Moving In Friday's Mid-Day Session</td>\n",
       "      <td>https://www.benzinga.com/news/20/05/16095921/4...</td>\n",
       "      <td>Lisa Levin</td>\n",
       "      <td>2020-05-22 12:45:06-04:00</td>\n",
       "      <td>A</td>\n",
       "    </tr>\n",
       "    <tr>\n",
       "      <th>4</th>\n",
       "      <td>4</td>\n",
       "      <td>B of A Securities Maintains Neutral on Agilent...</td>\n",
       "      <td>https://www.benzinga.com/news/20/05/16095304/b...</td>\n",
       "      <td>Vick Meyer</td>\n",
       "      <td>2020-05-22 11:38:59-04:00</td>\n",
       "      <td>A</td>\n",
       "    </tr>\n",
       "    <tr>\n",
       "      <th>...</th>\n",
       "      <td>...</td>\n",
       "      <td>...</td>\n",
       "      <td>...</td>\n",
       "      <td>...</td>\n",
       "      <td>...</td>\n",
       "      <td>...</td>\n",
       "    </tr>\n",
       "    <tr>\n",
       "      <th>1407323</th>\n",
       "      <td>1413844</td>\n",
       "      <td>Top Narrow Based Indexes For August 29</td>\n",
       "      <td>https://www.benzinga.com/news/11/08/1888782/to...</td>\n",
       "      <td>Monica Gerson</td>\n",
       "      <td>2011-08-29 00:00:00-04:00</td>\n",
       "      <td>ZX</td>\n",
       "    </tr>\n",
       "    <tr>\n",
       "      <th>1407324</th>\n",
       "      <td>1413845</td>\n",
       "      <td>Recap: Wednesday's Top Percentage Gainers and ...</td>\n",
       "      <td>https://www.benzinga.com/news/earnings/11/06/1...</td>\n",
       "      <td>Benjamin Lee</td>\n",
       "      <td>2011-06-22 00:00:00-04:00</td>\n",
       "      <td>ZX</td>\n",
       "    </tr>\n",
       "    <tr>\n",
       "      <th>1407325</th>\n",
       "      <td>1413846</td>\n",
       "      <td>UPDATE: Oppenheimer Color on China Zenix Auto ...</td>\n",
       "      <td>https://www.benzinga.com/analyst-ratings/analy...</td>\n",
       "      <td>BenzingaStaffL</td>\n",
       "      <td>2011-06-21 00:00:00-04:00</td>\n",
       "      <td>ZX</td>\n",
       "    </tr>\n",
       "    <tr>\n",
       "      <th>1407326</th>\n",
       "      <td>1413847</td>\n",
       "      <td>Oppenheimer Initiates China Zenix At Outperfor...</td>\n",
       "      <td>https://www.benzinga.com/analyst-ratings/price...</td>\n",
       "      <td>Joe Young</td>\n",
       "      <td>2011-06-21 00:00:00-04:00</td>\n",
       "      <td>ZX</td>\n",
       "    </tr>\n",
       "    <tr>\n",
       "      <th>1407327</th>\n",
       "      <td>1413848</td>\n",
       "      <td>China Zenix Auto International Opens For Tradi...</td>\n",
       "      <td>https://www.benzinga.com/news/ipos/11/05/10789...</td>\n",
       "      <td>Allie Wickman</td>\n",
       "      <td>2011-05-12 00:00:00-04:00</td>\n",
       "      <td>ZX</td>\n",
       "    </tr>\n",
       "  </tbody>\n",
       "</table>\n",
       "<p>1407328 rows × 6 columns</p>\n",
       "</div>"
      ],
      "text/plain": [
       "         Unnamed: 0                                           headline  \\\n",
       "0                 0            Stocks That Hit 52-Week Highs On Friday   \n",
       "1                 1         Stocks That Hit 52-Week Highs On Wednesday   \n",
       "2                 2                      71 Biggest Movers From Friday   \n",
       "3                 3       46 Stocks Moving In Friday's Mid-Day Session   \n",
       "4                 4  B of A Securities Maintains Neutral on Agilent...   \n",
       "...             ...                                                ...   \n",
       "1407323     1413844             Top Narrow Based Indexes For August 29   \n",
       "1407324     1413845  Recap: Wednesday's Top Percentage Gainers and ...   \n",
       "1407325     1413846  UPDATE: Oppenheimer Color on China Zenix Auto ...   \n",
       "1407326     1413847  Oppenheimer Initiates China Zenix At Outperfor...   \n",
       "1407327     1413848  China Zenix Auto International Opens For Tradi...   \n",
       "\n",
       "                                                       url          publisher  \\\n",
       "0        https://www.benzinga.com/news/20/06/16190091/s...  Benzinga Insights   \n",
       "1        https://www.benzinga.com/news/20/06/16170189/s...  Benzinga Insights   \n",
       "2        https://www.benzinga.com/news/20/05/16103463/7...         Lisa Levin   \n",
       "3        https://www.benzinga.com/news/20/05/16095921/4...         Lisa Levin   \n",
       "4        https://www.benzinga.com/news/20/05/16095304/b...         Vick Meyer   \n",
       "...                                                    ...                ...   \n",
       "1407323  https://www.benzinga.com/news/11/08/1888782/to...      Monica Gerson   \n",
       "1407324  https://www.benzinga.com/news/earnings/11/06/1...       Benjamin Lee   \n",
       "1407325  https://www.benzinga.com/analyst-ratings/analy...     BenzingaStaffL   \n",
       "1407326  https://www.benzinga.com/analyst-ratings/price...          Joe Young   \n",
       "1407327  https://www.benzinga.com/news/ipos/11/05/10789...      Allie Wickman   \n",
       "\n",
       "                             date stock  \n",
       "0       2020-06-05 10:30:54-04:00     A  \n",
       "1       2020-06-03 10:45:20-04:00     A  \n",
       "2       2020-05-26 04:30:07-04:00     A  \n",
       "3       2020-05-22 12:45:06-04:00     A  \n",
       "4       2020-05-22 11:38:59-04:00     A  \n",
       "...                           ...   ...  \n",
       "1407323 2011-08-29 00:00:00-04:00    ZX  \n",
       "1407324 2011-06-22 00:00:00-04:00    ZX  \n",
       "1407325 2011-06-21 00:00:00-04:00    ZX  \n",
       "1407326 2011-06-21 00:00:00-04:00    ZX  \n",
       "1407327 2011-05-12 00:00:00-04:00    ZX  \n",
       "\n",
       "[1407328 rows x 6 columns]"
      ]
     },
     "execution_count": 11,
     "metadata": {},
     "output_type": "execute_result"
    }
   ],
   "source": [
    "# reading financial news data \n",
    "news_data = analysis.load_news_data('../data/raw_analyst_ratings.csv')\n",
    "news_data"
   ]
  },
  {
   "cell_type": "markdown",
   "id": "27252dab",
   "metadata": {},
   "source": [
    "- The notebook loads financial news data from a CSV file (raw_analyst_ratings.csv), which contains headlines, URLs, publishers, dates, and associated stock tickers.\n",
    "- The dataset is large, with over 1.4 million rows, covering news articles from various publishers Insights."
   ]
  },
  {
   "cell_type": "code",
   "execution_count": 12,
   "id": "b6718af3",
   "metadata": {},
   "outputs": [
    {
     "data": {
      "application/vnd.microsoft.datawrangler.viewer.v0+json": {
       "columns": [
        {
         "name": "index",
         "rawType": "int64",
         "type": "integer"
        },
        {
         "name": "headline",
         "rawType": "object",
         "type": "string"
        },
        {
         "name": "url",
         "rawType": "object",
         "type": "string"
        },
        {
         "name": "publisher",
         "rawType": "object",
         "type": "string"
        },
        {
         "name": "date",
         "rawType": "datetime64[ns, UTC-04:00]",
         "type": "unknown"
        },
        {
         "name": "stock",
         "rawType": "object",
         "type": "string"
        }
       ],
       "ref": "64b86e94-56fd-47f9-b74e-a9ab02404106",
       "rows": [
        [
         "6680",
         "Tech Stocks And FAANGS Strong Again To Start Day As Market Awaits Fed",
         "https://www.benzinga.com/government/20/06/16223418/tech-stocks-and-faangs-strong-again-to-start-day-as-market-awaits-fed",
         "JJ Kinahan",
         "2020-06-10 11:33:26-04:00",
         "AAPL"
        ],
        [
         "6681",
         "10 Biggest Price Target Changes For Wednesday",
         "https://www.benzinga.com/analyst-ratings/price-target/20/06/16220539/10-biggest-price-target-changes-for-wednesday",
         "Lisa Levin",
         "2020-06-10 08:14:08-04:00",
         "AAPL"
        ],
        [
         "6682",
         "Benzinga Pro's Top 5 Stocks To Watch For Wed., Jun. 10, 2020: AAPL, BAC, NIO, SONO, GLW",
         "https://www.benzinga.com/short-sellers/20/06/16220099/benzinga-pros-top-5-stocks-to-watch-for-wed-jun-10-2020-aapl-bac-nio-sono-glw",
         "Benzinga Newsdesk",
         "2020-06-10 07:53:47-04:00",
         "AAPL"
        ],
        [
         "6683",
         "Deutsche Bank Maintains Buy on Apple, Raises Price Target to $350",
         "https://www.benzinga.com/news/20/06/16219873/deutsche-bank-maintains-buy-on-apple-raises-price-target-to-350",
         "Benzinga Newsdesk",
         "2020-06-10 07:19:25-04:00",
         "AAPL"
        ],
        [
         "6684",
         "Apple To Let Users Trade In Their Mac Computers For Credit At US, Canada Stores: Report",
         "https://www.benzinga.com/news/20/06/16218697/apple-to-let-users-turn-in-their-mac-computers-for-credit-at-us-canada-stores-starting-this-month-re",
         "Neer Varshney",
         "2020-06-10 06:27:11-04:00",
         "AAPL"
        ],
        [
         "6685",
         "Big Tech Reaches New Record Heights At The Stock Market",
         "https://www.benzinga.com/news/20/06/16218615/big-tech-reaches-new-record-heights-at-the-stock-market",
         "Neer Varshney",
         "2020-06-10 00:52:01-04:00",
         "AAPL"
        ],
        [
         "6686",
         "Why Apple's Stock Is Trading Higher Today",
         "https://www.benzinga.com/news/20/06/16215446/why-apples-stock-is-trading-higher-today",
         "Tanzeel Akhtar",
         "2020-06-09 15:14:07-04:00",
         "AAPL"
        ],
        [
         "6687",
         "Apple Could Announce In-House Chips For Macs At WWDC: Report",
         "https://www.benzinga.com/news/20/06/16214115/apple-could-announce-in-house-chips-for-macs-at-wwdc-report",
         "Shanthi Rexaline",
         "2020-06-09 13:58:46-04:00",
         "AAPL"
        ],
        [
         "6688",
         "Apple shares are trading higher despite market weakness, not currently seeing company-specific news. It was reported the company is expected to begin iPhone 12 production in July.",
         "https://www.benzinga.com/wiim/20/06/16214320/apple-shares-are-trading-higher-despite-market-weakness-not-currently-seeing-company-specific-news-i",
         "Benzinga Newsdesk",
         "2020-06-09 12:41:02-04:00",
         "AAPL"
        ],
        [
         "6689",
         "Sonos Shares Spike To Session High, Now Up 9.5%, As Citron's Andrew Left, Currently Interviewing On FOX Business, Said Co. Could Be Acquired By Apple Or Amazon",
         "https://www.benzinga.com/m-a/20/06/16213381/sonos-shares-spike-to-session-high-now-up-9-5-as-citrons-andrew-left-currently-interviewing-on-fox-b",
         "Benzinga Newsdesk",
         "2020-06-09 11:11:34-04:00",
         "AAPL"
        ],
        [
         "6690",
         "'Apple is tracking iPhones stolen by looters' -Earlier NY Post Article",
         "https://www.benzinga.com/news/20/06/16161103/apple-is-tracking-iphones-stolen-by-looters-earlier-ny-post-article",
         "Benzinga Newsdesk",
         "2020-06-02 00:00:00-04:00",
         "AAPL"
        ],
        [
         "6691",
         "MoneyGram Shares Jump 50% As Western Union Reportedly Looks For Acquisition",
         "https://www.benzinga.com/m-a/20/06/16156730/moneygram-shares-jump-50-as-western-union-reportedly-looks-for-acquisition",
         "Neer Varshney",
         "2020-06-02 00:00:00-04:00",
         "AAPL"
        ],
        [
         "6692",
         "Hearing Susquehanna Check Suggests Total iPhone 12 Builds Tracking To 10M, Below Firm's Expectation Of 25M; Unconfirmed",
         "https://www.benzinga.com/analyst-ratings/analyst-color/20/06/16158083/hearing-susquehanna-check-suggests-total-iphone-12-builds-tracking-to-10m-below-fir",
         "Benzinga Newsdesk",
         "2020-06-02 00:00:00-04:00",
         "AAPL"
        ],
        [
         "6693",
         "Tesla CEO Musk Says Other Three Officers Should Be Charged In Floyd's Murder Case",
         "https://www.benzinga.com/news/20/06/16156648/tesla-ceo-musk-says-other-three-officers-should-be-charged-in-floyds-murder-case",
         "Neer Varshney",
         "2020-06-02 00:00:00-04:00",
         "AAPL"
        ],
        [
         "6694",
         "A Peek Into The Markets: US Stock Futures Up; Crude Oil Rises Over 2%",
         "https://www.benzinga.com/news/earnings/20/06/16157378/a-peek-into-the-markets-us-stock-futures-up-crude-oil-rises-over-2",
         "Lisa Levin",
         "2020-06-02 00:00:00-04:00",
         "AAPL"
        ],
        [
         "6695",
         "Pepper Spray, Books On Racism, 'I Can't Breathe' Merchandise Are Top Sellers On Amazon As Protests Rage",
         "https://www.benzinga.com/news/20/06/16156515/pepper-spray-books-on-racism-i-cant-breathe-merchandise-are-top-sellers-on-amazon-as-protests-rage",
         "Neer Varshney",
         "2020-06-02 00:00:00-04:00",
         "AAPL"
        ],
        [
         "6696",
         "Apple Cuts iPhone Prices in China To Push Sales As Country Reopens Economy",
         "https://www.benzinga.com/news/20/06/16156462/apple-cuts-iphone-prices-in-china-to-push-sales-as-country-reopens-economy",
         "Shivdeep Dhaliwal",
         "2020-06-01 00:00:00-04:00",
         "AAPL"
        ],
        [
         "6697",
         "Gun, Security Stocks Trade Higher After Weekend Protests Turn Violent And Destructive",
         "https://www.benzinga.com/news/20/06/16150247/gun-security-stocks-trade-higher-after-weekend-protests-turn-violent-and-destructive",
         "Wayne Duggan",
         "2020-06-01 00:00:00-04:00",
         "AAPL"
        ],
        [
         "6698",
         "Carter Worth And Mike Khouw's Apple Trade",
         "https://www.benzinga.com/markets/options/20/06/16148745/carter-worth-and-mike-khouws-apple-trade",
         "Craig Jones",
         "2020-06-01 00:00:00-04:00",
         "AAPL"
        ],
        [
         "6699",
         "Apple Pays Hacker From India $100,000 For Discovering Serious 'Sign In With Apple' Vulnerability",
         "https://www.benzinga.com/news/20/06/16146494/apple-pays-hacker-from-india-100-000-for-discovering-serious-sign-in-with-apple-vulnerability",
         "Shivdeep Dhaliwal",
         "2020-06-01 00:00:00-04:00",
         "AAPL"
        ],
        [
         "6700",
         "Volume Production of New iPhone Models to Begin in Q3 2020",
         "https://www.benzinga.com/news/20/06/16147117/volume-production-of-new-iphone-models-to-begin-in-q3-2020",
         "Charles Gross",
         "2020-06-01 00:00:00-04:00",
         "AAPL"
        ],
        [
         "6701",
         "Apple CEO Writes To Employees About George Floyd Death, Urges For 'Better, More Just World For Everyone'",
         "https://www.benzinga.com/news/20/06/16146417/apple-ceo-writes-to-employees-about-george-floyd-death-urges-for-better-more-just-world-for-everyone",
         "Shivdeep Dhaliwal",
         "2020-06-01 00:00:00-04:00",
         "AAPL"
        ],
        [
         "6702",
         "Amazon, Apple, Walmart, Other Retailers Shutter Stores, Scale Back Operations In Areas Worst Hit With Protests",
         "https://www.benzinga.com/news/20/06/16146370/amazon-apple-walmart-other-retailers-shutter-stores-scale-back-operations-in-areas-worst-hit-with-pr",
         "Neer Varshney",
         "2020-05-31 00:00:00-04:00",
         "AAPL"
        ],
        [
         "6703",
         "Apple Says With Health and Safety of Its Teams in Mind, Decided to Keep Number of Its Stores in the U.S. Closed on Sunday",
         "https://www.benzinga.com/news/20/05/16146213/apple-says-with-health-and-safety-of-its-teams-in-mind-decided-to-keep-number-of-its-stores-in-the-u",
         "Charles Gross",
         "2020-05-31 00:00:00-04:00",
         "AAPL"
        ],
        [
         "6704",
         "Costco Shares Come Under Pressure Despite Strong Earnings, Same-Store Sales",
         "https://www.benzinga.com/government/20/05/16138428/costco-shares-come-under-pressure-despite-strong-earnings-same-store-sales",
         "JJ Kinahan",
         "2020-05-29 00:00:00-04:00",
         "AAPL"
        ],
        [
         "6705",
         "Trump's Executive Order To Expose Social Media To Lawsuits Over Content Policies",
         "https://www.benzinga.com/analyst-ratings/analyst-color/20/05/16128213/trumps-executive-order-to-expose-social-media-to-lawsuits-over-content-policies",
         "Elizabeth Balboa",
         "2020-05-28 00:00:00-04:00",
         "AAPL"
        ],
        [
         "6706",
         "Costco Earnings On Tap After Close As Investors Mull Strong Toll Brothers Results",
         "https://www.benzinga.com/news/20/05/16127758/costco-earnings-on-tap-after-close-as-investors-mull-strong-toll-brothers-results",
         "JJ Kinahan",
         "2020-05-28 00:00:00-04:00",
         "AAPL"
        ],
        [
         "6707",
         "Martin Scorsese's Next Movie Will Be Financed By Apple: Report",
         "https://www.benzinga.com/news/20/05/16124204/martin-scorseses-next-movie-will-be-financed-by-apple-report",
         "Shivdeep Dhaliwal",
         "2020-05-28 00:00:00-04:00",
         "AAPL"
        ],
        [
         "6708",
         "Tech Companies Aren't 'State Actors,' Judge Dismisses Conservative Bias Lawsuit Against Facebook, Twitter, Google, Apple",
         "https://www.benzinga.com/news/20/05/16124533/tech-companies-arent-state-actors-judge-dismisses-conservative-bias-lawsuit-against-facebook-twitter",
         "Neer Varshney",
         "2020-05-28 00:00:00-04:00",
         "AAPL"
        ],
        [
         "6709",
         "Leidos Awarded $84.6M Payment from VirnetX Lawsuit vs Apple",
         "https://www.benzinga.com/news/20/05/16123778/leidos-awarded-84-6m-payment-from-virnetx-lawsuit-vs-apple",
         "Charles Gross",
         "2020-05-27 00:00:00-04:00",
         "AAPL"
        ],
        [
         "6710",
         "The Most Popular Smartphone Model Of Q1",
         "https://www.benzinga.com/news/20/05/16115833/the-most-popular-smartphone-model-of-q1",
         "Shanthi Rexaline",
         "2020-05-27 00:00:00-04:00",
         "AAPL"
        ],
        [
         "6711",
         "This New Tool Will Tell You Whether Or Not An Options Spread Is A Good Deal",
         "https://www.benzinga.com/general/education/20/05/16120055/this-new-tool-will-tell-you-whether-or-not-an-options-spread-is-a-good-deal",
         "Spencer Israel",
         "2020-05-27 00:00:00-04:00",
         "AAPL"
        ],
        [
         "6712",
         "B of A Securities Maintains Buy on Apple, Raises Price Target to $340",
         "https://www.benzinga.com/news/20/05/16117795/b-of-a-securities-maintains-buy-on-apple-raises-price-target-to-340",
         "Vick Meyer",
         "2020-05-27 00:00:00-04:00",
         "AAPL"
        ],
        [
         "6713",
         "3 Apple Analysts Lift Price Targets: Why They're Optimistic On iPhone's Trajectory",
         "https://www.benzinga.com/analyst-ratings/analyst-color/20/05/16116516/3-apple-analysts-lift-price-targets-why-theyre-optimistic-on-iphones-trajectory",
         "Shanthi Rexaline",
         "2020-05-27 00:00:00-04:00",
         "AAPL"
        ],
        [
         "6714",
         "'LG reportedly supplying 20 million OLED panels for 'iPhone 12 Max'' -AppleInsider",
         "https://www.benzinga.com/news/20/05/16115993/lg-reportedly-supplying-20-million-oled-panels-for-iphone-12-max-appleinsider",
         "Benzinga Newsdesk",
         "2020-05-27 00:00:00-04:00",
         "AAPL"
        ],
        [
         "6715",
         "Same Old Leadership Song Lifts These Leveraged ETFs",
         "https://www.benzinga.com/trading-ideas/long-ideas/20/05/16112730/same-old-leadership-song-lifts-these-leveraged-etfs",
         "ETF Professor",
         "2020-05-27 00:00:00-04:00",
         "AAPL"
        ],
        [
         "6716",
         "Deutsche Bank Maintains Buy on Apple, Raises Price Target to $320",
         "https://www.benzinga.com/news/20/05/16114459/deutsche-bank-maintains-buy-on-apple-raises-price-target-to-320",
         "Benzinga_Newsdesk",
         "2020-05-27 00:00:00-04:00",
         "AAPL"
        ],
        [
         "6717",
         "YouTube Makes Its Dedicated Children App Available On Apple TV",
         "https://www.benzinga.com/news/20/05/16113144/youtube-makes-its-dedicated-children-app-available-on-apple-tv",
         "Neer Varshney",
         "2020-05-27 00:00:00-04:00",
         "AAPL"
        ],
        [
         "6718",
         "Samsung Display Secures Majority of Panel Orders for Next-gen iPhone",
         "https://www.benzinga.com/news/20/05/16113529/samsung-display-secures-majority-of-panel-orders-for-next-gen-iphone",
         "Charles Gross",
         "2020-05-27 00:00:00-04:00",
         "AAPL"
        ],
        [
         "6719",
         "Study: 34% Of Americans Report Looking Through Their Partner's Phone Without Permission",
         "https://www.benzinga.com/general/education/20/05/16100606/study-34-of-americans-report-looking-through-their-partners-phone-without-permission",
         "Henry Khederian",
         "2020-05-26 00:00:00-04:00",
         "AAPL"
        ],
        [
         "6720",
         "Apple To Reopen ~100 More US Stores This Week",
         "https://www.benzinga.com/news/20/05/16108713/apple-to-reopen-100-more-us-stores-this-week",
         "Benzinga Newsdesk",
         "2020-05-26 00:00:00-04:00",
         "AAPL"
        ],
        [
         "6721",
         "'FAANG Stocks Are Strong Once Again,' Facebook, Amazon, Netflix Hit Record Highs Last Week",
         "https://www.benzinga.com/news/20/05/16103196/faang-stocks-are-strong-once-again-facebook-amazon-netflix-hit-record-highs-last-week",
         "Neer Varshney",
         "2020-05-26 00:00:00-04:00",
         "AAPL"
        ],
        [
         "6722",
         "Apple Expected to Incorporate Ambient Light Sensors in Next-generation Airpods Devices",
         "https://www.benzinga.com/news/20/05/16101534/apple-expected-to-incorporate-ambient-light-sensors-in-next-generation-airpods-devices",
         "Charles Gross",
         "2020-05-25 00:00:00-04:00",
         "AAPL"
        ],
        [
         "6723",
         "The Secret to Tech's Resilience to COVID-19- Infrastructure Expansion",
         "https://www.benzinga.com/news/earnings/20/05/16093892/the-secret-to-techs-resilience-to-covid-19-infrastructure-expansion",
         "IAM Newswire",
         "2020-05-22 00:00:00-04:00",
         "AAPL"
        ],
        [
         "6724",
         "Apple Is Seeking An Executive To Lead Original Podcast Effort, Is Buying Original Podcasts That Would Be Exclusive; New Podcasts Will Help Promote TV+ Video Service",
         "https://www.benzinga.com/tech/20/05/16088267/apple-is-seeking-an-executive-to-lead-original-podcast-effort-is-buying-original-podcasts-that-would",
         "Benzinga Newsdesk",
         "2020-05-21 00:00:00-04:00",
         "AAPL"
        ],
        [
         "6725",
         "Evercore ISI Analyst Amit DAryanani Says Apple Can Exceed $100 Billion In Services Revenue In The Fiscal Year Ending In September 2024",
         "https://www.benzinga.com/analyst-ratings/analyst-color/20/05/16088238/evercore-isi-analyst-amit-daryanani-says-apple-can-exceed-100-billion-in-services-r",
         "Benzinga Newsdesk",
         "2020-05-21 00:00:00-04:00",
         "AAPL"
        ],
        [
         "6726",
         "Apple Vs. Tesla: Morgan Stanley Breaks Down The Parallels",
         "https://www.benzinga.com/analyst-ratings/analyst-color/20/05/16084937/apple-vs-tesla-morgan-stanley-breaks-down-the-parallels",
         "Elizabeth Balboa",
         "2020-05-21 00:00:00-04:00",
         "AAPL"
        ],
        [
         "6727",
         "As The Global Economy Weighs Fears Of A Recession, Travel Is Already In A Depression",
         "https://www.benzinga.com/news/20/05/16086804/as-the-global-economy-weighs-fears-of-a-recession-travel-is-already-in-a-depression",
         "IAM Newswire",
         "2020-05-21 00:00:00-04:00",
         "AAPL"
        ],
        [
         "6728",
         "Hearing Evercore ISI Raises Price Target On Apple From $330 To $345",
         "https://www.benzinga.com/news/20/05/16083197/hearing-evercore-isi-raises-price-target-on-apple-from-330-to-345",
         "Benzinga Newsdesk",
         "2020-05-21 00:00:00-04:00",
         "AAPL"
        ],
        [
         "6729",
         "Apple's Face ID Will Allow Mask Wearing Users To Unlock Their Phones Quickly",
         "https://www.benzinga.com/news/20/05/16081929/apples-face-id-will-allow-mask-wearing-users-to-unlock-their-phones-quickly",
         "Shivdeep Dhaliwal",
         "2020-05-20 00:00:00-04:00",
         "AAPL"
        ]
       ],
       "shape": {
        "columns": 5,
        "rows": 6939
       }
      },
      "text/html": [
       "<div>\n",
       "<style scoped>\n",
       "    .dataframe tbody tr th:only-of-type {\n",
       "        vertical-align: middle;\n",
       "    }\n",
       "\n",
       "    .dataframe tbody tr th {\n",
       "        vertical-align: top;\n",
       "    }\n",
       "\n",
       "    .dataframe thead th {\n",
       "        text-align: right;\n",
       "    }\n",
       "</style>\n",
       "<table border=\"1\" class=\"dataframe\">\n",
       "  <thead>\n",
       "    <tr style=\"text-align: right;\">\n",
       "      <th></th>\n",
       "      <th>headline</th>\n",
       "      <th>url</th>\n",
       "      <th>publisher</th>\n",
       "      <th>date</th>\n",
       "      <th>stock</th>\n",
       "    </tr>\n",
       "  </thead>\n",
       "  <tbody>\n",
       "    <tr>\n",
       "      <th>6680</th>\n",
       "      <td>Tech Stocks And FAANGS Strong Again To Start D...</td>\n",
       "      <td>https://www.benzinga.com/government/20/06/1622...</td>\n",
       "      <td>JJ Kinahan</td>\n",
       "      <td>2020-06-10 11:33:26-04:00</td>\n",
       "      <td>AAPL</td>\n",
       "    </tr>\n",
       "    <tr>\n",
       "      <th>6681</th>\n",
       "      <td>10 Biggest Price Target Changes For Wednesday</td>\n",
       "      <td>https://www.benzinga.com/analyst-ratings/price...</td>\n",
       "      <td>Lisa Levin</td>\n",
       "      <td>2020-06-10 08:14:08-04:00</td>\n",
       "      <td>AAPL</td>\n",
       "    </tr>\n",
       "    <tr>\n",
       "      <th>6682</th>\n",
       "      <td>Benzinga Pro's Top 5 Stocks To Watch For Wed.,...</td>\n",
       "      <td>https://www.benzinga.com/short-sellers/20/06/1...</td>\n",
       "      <td>Benzinga Newsdesk</td>\n",
       "      <td>2020-06-10 07:53:47-04:00</td>\n",
       "      <td>AAPL</td>\n",
       "    </tr>\n",
       "    <tr>\n",
       "      <th>6683</th>\n",
       "      <td>Deutsche Bank Maintains Buy on Apple, Raises P...</td>\n",
       "      <td>https://www.benzinga.com/news/20/06/16219873/d...</td>\n",
       "      <td>Benzinga Newsdesk</td>\n",
       "      <td>2020-06-10 07:19:25-04:00</td>\n",
       "      <td>AAPL</td>\n",
       "    </tr>\n",
       "    <tr>\n",
       "      <th>6684</th>\n",
       "      <td>Apple To Let Users Trade In Their Mac Computer...</td>\n",
       "      <td>https://www.benzinga.com/news/20/06/16218697/a...</td>\n",
       "      <td>Neer Varshney</td>\n",
       "      <td>2020-06-10 06:27:11-04:00</td>\n",
       "      <td>AAPL</td>\n",
       "    </tr>\n",
       "    <tr>\n",
       "      <th>...</th>\n",
       "      <td>...</td>\n",
       "      <td>...</td>\n",
       "      <td>...</td>\n",
       "      <td>...</td>\n",
       "      <td>...</td>\n",
       "    </tr>\n",
       "    <tr>\n",
       "      <th>1257091</th>\n",
       "      <td>Electrek.Co Tweet: Tesla's head of Europe is out</td>\n",
       "      <td>https://www.benzinga.com/news/19/07/14015998/e...</td>\n",
       "      <td>Charles Gross</td>\n",
       "      <td>2019-07-02 00:00:00-04:00</td>\n",
       "      <td>TSLA</td>\n",
       "    </tr>\n",
       "    <tr>\n",
       "      <th>1257092</th>\n",
       "      <td>Tesla's Q2 Delivery Number Could Cause A Big Move</td>\n",
       "      <td>https://www.benzinga.com/analyst-ratings/analy...</td>\n",
       "      <td>Wayne Duggan</td>\n",
       "      <td>2019-07-01 00:00:00-04:00</td>\n",
       "      <td>TSLA</td>\n",
       "    </tr>\n",
       "    <tr>\n",
       "      <th>1257093</th>\n",
       "      <td>'Tesla Electric Airplane? Elon Musk sees elect...</td>\n",
       "      <td>https://www.benzinga.com/news/19/07/14011389/t...</td>\n",
       "      <td>Benzinga Newsdesk</td>\n",
       "      <td>2019-07-01 00:00:00-04:00</td>\n",
       "      <td>TSLA</td>\n",
       "    </tr>\n",
       "    <tr>\n",
       "      <th>1257094</th>\n",
       "      <td>UPDATE: JMP Reiterates Outperform, $347 Target...</td>\n",
       "      <td>https://www.benzinga.com/analyst-ratings/analy...</td>\n",
       "      <td>Benzinga_Newsdesk</td>\n",
       "      <td>2019-07-01 00:00:00-04:00</td>\n",
       "      <td>TSLA</td>\n",
       "    </tr>\n",
       "    <tr>\n",
       "      <th>1257095</th>\n",
       "      <td>Tesla shares are trading higher after JMP Secu...</td>\n",
       "      <td>https://www.benzinga.com/markets/wiim/19/07/14...</td>\n",
       "      <td>Hal Lindon</td>\n",
       "      <td>2019-07-01 00:00:00-04:00</td>\n",
       "      <td>TSLA</td>\n",
       "    </tr>\n",
       "  </tbody>\n",
       "</table>\n",
       "<p>6939 rows × 5 columns</p>\n",
       "</div>"
      ],
      "text/plain": [
       "                                                  headline  \\\n",
       "6680     Tech Stocks And FAANGS Strong Again To Start D...   \n",
       "6681         10 Biggest Price Target Changes For Wednesday   \n",
       "6682     Benzinga Pro's Top 5 Stocks To Watch For Wed.,...   \n",
       "6683     Deutsche Bank Maintains Buy on Apple, Raises P...   \n",
       "6684     Apple To Let Users Trade In Their Mac Computer...   \n",
       "...                                                    ...   \n",
       "1257091   Electrek.Co Tweet: Tesla's head of Europe is out   \n",
       "1257092  Tesla's Q2 Delivery Number Could Cause A Big Move   \n",
       "1257093  'Tesla Electric Airplane? Elon Musk sees elect...   \n",
       "1257094  UPDATE: JMP Reiterates Outperform, $347 Target...   \n",
       "1257095  Tesla shares are trading higher after JMP Secu...   \n",
       "\n",
       "                                                       url          publisher  \\\n",
       "6680     https://www.benzinga.com/government/20/06/1622...         JJ Kinahan   \n",
       "6681     https://www.benzinga.com/analyst-ratings/price...         Lisa Levin   \n",
       "6682     https://www.benzinga.com/short-sellers/20/06/1...  Benzinga Newsdesk   \n",
       "6683     https://www.benzinga.com/news/20/06/16219873/d...  Benzinga Newsdesk   \n",
       "6684     https://www.benzinga.com/news/20/06/16218697/a...      Neer Varshney   \n",
       "...                                                    ...                ...   \n",
       "1257091  https://www.benzinga.com/news/19/07/14015998/e...      Charles Gross   \n",
       "1257092  https://www.benzinga.com/analyst-ratings/analy...       Wayne Duggan   \n",
       "1257093  https://www.benzinga.com/news/19/07/14011389/t...  Benzinga Newsdesk   \n",
       "1257094  https://www.benzinga.com/analyst-ratings/analy...  Benzinga_Newsdesk   \n",
       "1257095  https://www.benzinga.com/markets/wiim/19/07/14...         Hal Lindon   \n",
       "\n",
       "                             date stock  \n",
       "6680    2020-06-10 11:33:26-04:00  AAPL  \n",
       "6681    2020-06-10 08:14:08-04:00  AAPL  \n",
       "6682    2020-06-10 07:53:47-04:00  AAPL  \n",
       "6683    2020-06-10 07:19:25-04:00  AAPL  \n",
       "6684    2020-06-10 06:27:11-04:00  AAPL  \n",
       "...                           ...   ...  \n",
       "1257091 2019-07-02 00:00:00-04:00  TSLA  \n",
       "1257092 2019-07-01 00:00:00-04:00  TSLA  \n",
       "1257093 2019-07-01 00:00:00-04:00  TSLA  \n",
       "1257094 2019-07-01 00:00:00-04:00  TSLA  \n",
       "1257095 2019-07-01 00:00:00-04:00  TSLA  \n",
       "\n",
       "[6939 rows x 5 columns]"
      ]
     },
     "execution_count": 12,
     "metadata": {},
     "output_type": "execute_result"
    }
   ],
   "source": [
    "# Filtering data based on the stock tickers ['AAPL', 'AMZN', 'GOOG', 'META', 'MSFT', 'NVDA', 'TSLA']\n",
    "\n",
    "news_data = news_data[news_data['stock'].isin(['AAPL', 'AMZN', 'GOOG', 'META', 'MSFT', 'NVDA', 'TSLA'])]\n",
    "news_data = news_data.drop('Unnamed: 0', axis=1)\n",
    "news_data"
   ]
  },
  {
   "cell_type": "markdown",
   "id": "1f2dd74e",
   "metadata": {},
   "source": [
    "- after filtering headlines with the stock tickers 'AAPL', 'AMZN', 'GOOG', 'META', 'MSFT', 'NVDA', 'TSLA'\n",
    "  - the data is reduced to 6939 rows "
   ]
  },
  {
   "cell_type": "code",
   "execution_count": 15,
   "id": "e9f8f34b",
   "metadata": {},
   "outputs": [
    {
     "data": {
      "application/vnd.microsoft.datawrangler.viewer.v0+json": {
       "columns": [
        {
         "name": "index",
         "rawType": "int64",
         "type": "integer"
        },
        {
         "name": "stock",
         "rawType": "object",
         "type": "string"
        },
        {
         "name": "0",
         "rawType": "int64",
         "type": "integer"
        }
       ],
       "ref": "85333500-ca1a-423e-a16d-58a75c307b55",
       "rows": [
        [
         "0",
         "AAPL",
         "441"
        ],
        [
         "1",
         "AMZN",
         "278"
        ],
        [
         "2",
         "GOOG",
         "1199"
        ],
        [
         "3",
         "NVDA",
         "3146"
        ],
        [
         "4",
         "TSLA",
         "1875"
        ]
       ],
       "shape": {
        "columns": 2,
        "rows": 5
       }
      },
      "text/html": [
       "<div>\n",
       "<style scoped>\n",
       "    .dataframe tbody tr th:only-of-type {\n",
       "        vertical-align: middle;\n",
       "    }\n",
       "\n",
       "    .dataframe tbody tr th {\n",
       "        vertical-align: top;\n",
       "    }\n",
       "\n",
       "    .dataframe thead th {\n",
       "        text-align: right;\n",
       "    }\n",
       "</style>\n",
       "<table border=\"1\" class=\"dataframe\">\n",
       "  <thead>\n",
       "    <tr style=\"text-align: right;\">\n",
       "      <th></th>\n",
       "      <th>stock</th>\n",
       "      <th>0</th>\n",
       "    </tr>\n",
       "  </thead>\n",
       "  <tbody>\n",
       "    <tr>\n",
       "      <th>0</th>\n",
       "      <td>AAPL</td>\n",
       "      <td>441</td>\n",
       "    </tr>\n",
       "    <tr>\n",
       "      <th>1</th>\n",
       "      <td>AMZN</td>\n",
       "      <td>278</td>\n",
       "    </tr>\n",
       "    <tr>\n",
       "      <th>2</th>\n",
       "      <td>GOOG</td>\n",
       "      <td>1199</td>\n",
       "    </tr>\n",
       "    <tr>\n",
       "      <th>3</th>\n",
       "      <td>NVDA</td>\n",
       "      <td>3146</td>\n",
       "    </tr>\n",
       "    <tr>\n",
       "      <th>4</th>\n",
       "      <td>TSLA</td>\n",
       "      <td>1875</td>\n",
       "    </tr>\n",
       "  </tbody>\n",
       "</table>\n",
       "</div>"
      ],
      "text/plain": [
       "  stock     0\n",
       "0  AAPL   441\n",
       "1  AMZN   278\n",
       "2  GOOG  1199\n",
       "3  NVDA  3146\n",
       "4  TSLA  1875"
      ]
     },
     "execution_count": 15,
     "metadata": {},
     "output_type": "execute_result"
    }
   ],
   "source": [
    "# grouping headline based on stock \n",
    "# Count number of headlines per stock\n",
    "headline_counts = news_data.groupby('stock').size().reset_index()\n",
    "headline_counts"
   ]
  },
  {
   "cell_type": "markdown",
   "id": "925594b2",
   "metadata": {},
   "source": [
    "- only the above stocks have headlines in the news dataset"
   ]
  },
  {
   "cell_type": "markdown",
   "id": "ddac421f",
   "metadata": {},
   "source": [
    "#### reading stock data"
   ]
  },
  {
   "cell_type": "code",
   "execution_count": 16,
   "id": "79d36f89",
   "metadata": {},
   "outputs": [
    {
     "data": {
      "application/vnd.microsoft.datawrangler.viewer.v0+json": {
       "columns": [
        {
         "name": "index",
         "rawType": "int64",
         "type": "integer"
        },
        {
         "name": "date",
         "rawType": "datetime64[ns]",
         "type": "datetime"
        },
        {
         "name": "open",
         "rawType": "float64",
         "type": "float"
        },
        {
         "name": "high",
         "rawType": "float64",
         "type": "float"
        },
        {
         "name": "low",
         "rawType": "float64",
         "type": "float"
        },
        {
         "name": "close",
         "rawType": "float64",
         "type": "float"
        },
        {
         "name": "adj_close",
         "rawType": "float64",
         "type": "float"
        },
        {
         "name": "volume",
         "rawType": "int64",
         "type": "integer"
        },
        {
         "name": "dividends",
         "rawType": "float64",
         "type": "float"
        },
        {
         "name": "stock_splits",
         "rawType": "float64",
         "type": "float"
        },
        {
         "name": "ticker",
         "rawType": "object",
         "type": "string"
        }
       ],
       "ref": "5a381c68-fb17-4bf4-a178-ce03ed2b748d",
       "rows": [
        [
         "0",
         "1980-12-12 00:00:00",
         "0.1283479928970337",
         "0.1289059966802597",
         "0.1283479928970337",
         "0.1283479928970337",
         "0.098943218588829",
         "469033600",
         "0.0",
         "0.0",
         "AAPL"
        ],
        [
         "1",
         "1980-12-15 00:00:00",
         "0.1222100034356117",
         "0.1222100034356117",
         "0.1216519996523857",
         "0.1216519996523857",
         "0.093781292438507",
         "175884800",
         "0.0",
         "0.0",
         "AAPL"
        ],
        [
         "2",
         "1980-12-16 00:00:00",
         "0.1132809966802597",
         "0.1132809966802597",
         "0.1127230003476142",
         "0.1127230003476142",
         "0.0868979692459106",
         "105728000",
         "0.0",
         "0.0",
         "AAPL"
        ],
        [
         "3",
         "1980-12-17 00:00:00",
         "0.1155129969120025",
         "0.1160710006952285",
         "0.1155129969120025",
         "0.1155129969120025",
         "0.089048758149147",
         "86441600",
         "0.0",
         "0.0",
         "AAPL"
        ],
        [
         "4",
         "1980-12-18 00:00:00",
         "0.1188620030879974",
         "0.1194199994206428",
         "0.1188620030879974",
         "0.1188620030879974",
         "0.0916304588317871",
         "73449600",
         "0.0",
         "0.0",
         "AAPL"
        ],
        [
         "5",
         "1980-12-19 00:00:00",
         "0.1261159926652908",
         "0.1266739964485168",
         "0.1261159926652908",
         "0.1261159926652908",
         "0.0972226113080978",
         "48630400",
         "0.0",
         "0.0",
         "AAPL"
        ],
        [
         "6",
         "1980-12-22 00:00:00",
         "0.1322540044784546",
         "0.1328130066394806",
         "0.1322540044784546",
         "0.1322540044784546",
         "0.1019543036818504",
         "37363200",
         "0.0",
         "0.0",
         "AAPL"
        ],
        [
         "7",
         "1980-12-23 00:00:00",
         "0.1378349959850311",
         "0.1383929997682571",
         "0.1378349959850311",
         "0.1378349959850311",
         "0.10625671595335",
         "46950400",
         "0.0",
         "0.0",
         "AAPL"
        ],
        [
         "8",
         "1980-12-24 00:00:00",
         "0.1450890004634857",
         "0.1456470042467117",
         "0.1450890004634857",
         "0.1450890004634857",
         "0.1118487864732742",
         "48003200",
         "0.0",
         "0.0",
         "AAPL"
        ],
        [
         "9",
         "1980-12-26 00:00:00",
         "0.1584820002317428",
         "0.1590400040149688",
         "0.1584820002317428",
         "0.1584820002317428",
         "0.1221734583377838",
         "55574400",
         "0.0",
         "0.0",
         "AAPL"
        ],
        [
         "10",
         "1980-12-29 00:00:00",
         "0.1607140004634857",
         "0.1612720042467117",
         "0.1607140004634857",
         "0.1607140004634857",
         "0.1238940879702568",
         "93161600",
         "0.0",
         "0.0",
         "AAPL"
        ],
        [
         "11",
         "1980-12-30 00:00:00",
         "0.1573659926652908",
         "0.1573659926652908",
         "0.156808003783226",
         "0.156808003783226",
         "0.1208830177783966",
         "68880000",
         "0.0",
         "0.0",
         "AAPL"
        ],
        [
         "12",
         "1980-12-31 00:00:00",
         "0.1529020071029663",
         "0.1529020071029663",
         "0.1523440033197403",
         "0.1523440033197403",
         "0.1174416616559028",
         "35750400",
         "0.0",
         "0.0",
         "AAPL"
        ],
        [
         "13",
         "1981-01-02 00:00:00",
         "0.1540179997682571",
         "0.1551340073347091",
         "0.1540179997682571",
         "0.1540179997682571",
         "0.118732064962387",
         "21660800",
         "0.0",
         "0.0",
         "AAPL"
        ],
        [
         "14",
         "1981-01-05 00:00:00",
         "0.1512279957532882",
         "0.1512279957532882",
         "0.1506700068712234",
         "0.1506700068712234",
         "0.1161512359976768",
         "35728000",
         "0.0",
         "0.0",
         "AAPL"
        ],
        [
         "15",
         "1981-01-06 00:00:00",
         "0.1445309966802597",
         "0.1445309966802597",
         "0.1439729928970337",
         "0.1439729928970337",
         "0.1109885200858116",
         "45158400",
         "0.0",
         "0.0",
         "AAPL"
        ],
        [
         "16",
         "1981-01-07 00:00:00",
         "0.1383929997682571",
         "0.1383929997682571",
         "0.1378349959850311",
         "0.1378349959850311",
         "0.10625671595335",
         "55686400",
         "0.0",
         "0.0",
         "AAPL"
        ],
        [
         "17",
         "1981-01-08 00:00:00",
         "0.1356029957532882",
         "0.1356029957532882",
         "0.1350450068712234",
         "0.1350450068712234",
         "0.104105919599533",
         "39827200",
         "0.0",
         "0.0",
         "AAPL"
        ],
        [
         "18",
         "1981-01-09 00:00:00",
         "0.1422989964485168",
         "0.1428570002317428",
         "0.1422989964485168",
         "0.1422989964485168",
         "0.109698012471199",
         "21504000",
         "0.0",
         "0.0",
         "AAPL"
        ],
        [
         "19",
         "1981-01-12 00:00:00",
         "0.1422989964485168",
         "0.1422989964485168",
         "0.141183003783226",
         "0.141183003783226",
         "0.1088377460837364",
         "23699200",
         "0.0",
         "0.0",
         "AAPL"
        ],
        [
         "20",
         "1981-01-13 00:00:00",
         "0.1367190033197403",
         "0.1367190033197403",
         "0.1361609995365142",
         "0.1361609995365142",
         "0.1049662083387374",
         "23049600",
         "0.0",
         "0.0",
         "AAPL"
        ],
        [
         "21",
         "1981-01-14 00:00:00",
         "0.1367190033197403",
         "0.1372770071029663",
         "0.1367190033197403",
         "0.1367190033197403",
         "0.1053964346647262",
         "14291200",
         "0.0",
         "0.0",
         "AAPL"
        ],
        [
         "22",
         "1981-01-15 00:00:00",
         "0.1395090073347091",
         "0.140625",
         "0.1395090073347091",
         "0.1395090073347091",
         "0.1075472459197044",
         "14067200",
         "0.0",
         "0.0",
         "AAPL"
        ],
        [
         "23",
         "1981-01-16 00:00:00",
         "0.1389510035514831",
         "0.1389510035514831",
         "0.1383929997682571",
         "0.1383929997682571",
         "0.1066868975758552",
         "13395200",
         "0.0",
         "0.0",
         "AAPL"
        ],
        [
         "24",
         "1981-01-19 00:00:00",
         "0.1467629969120025",
         "0.1473210006952285",
         "0.1467629969120025",
         "0.1467629969120025",
         "0.1131392568349838",
         "41574400",
         "0.0",
         "0.0",
         "AAPL"
        ],
        [
         "25",
         "1981-01-20 00:00:00",
         "0.1428570002317428",
         "0.1428570002317428",
         "0.1422989964485168",
         "0.1422989964485168",
         "0.109698012471199",
         "30083200",
         "0.0",
         "0.0",
         "AAPL"
        ],
        [
         "26",
         "1981-01-21 00:00:00",
         "0.1450890004634857",
         "0.1462049931287765",
         "0.1450890004634857",
         "0.1450890004634857",
         "0.1118487864732742",
         "15904000",
         "0.0",
         "0.0",
         "AAPL"
        ],
        [
         "27",
         "1981-01-22 00:00:00",
         "0.1467629969120025",
         "0.1478790044784546",
         "0.1467629969120025",
         "0.1467629969120025",
         "0.1131392568349838",
         "35548800",
         "0.0",
         "0.0",
         "AAPL"
        ],
        [
         "28",
         "1981-01-23 00:00:00",
         "0.1467629969120025",
         "0.1473210006952285",
         "0.1462049931287765",
         "0.1462049931287765",
         "0.1127091348171234",
         "11222400",
         "0.0",
         "0.0",
         "AAPL"
        ],
        [
         "29",
         "1981-01-26 00:00:00",
         "0.1445309966802597",
         "0.1445309966802597",
         "0.1439729928970337",
         "0.1439729928970337",
         "0.1109885200858116",
         "24640000",
         "0.0",
         "0.0",
         "AAPL"
        ],
        [
         "30",
         "1981-01-27 00:00:00",
         "0.1439729928970337",
         "0.1439729928970337",
         "0.1428570002317428",
         "0.1428570002317428",
         "0.1101282015442848",
         "23699200",
         "0.0",
         "0.0",
         "AAPL"
        ],
        [
         "31",
         "1981-01-28 00:00:00",
         "0.1389510035514831",
         "0.1389510035514831",
         "0.1383929997682571",
         "0.1383929997682571",
         "0.1066868975758552",
         "28156800",
         "0.0",
         "0.0",
         "AAPL"
        ],
        [
         "32",
         "1981-01-29 00:00:00",
         "0.1339289993047714",
         "0.1339289993047714",
         "0.1333709955215454",
         "0.1333709955215454",
         "0.1028154343366622",
         "43904000",
         "0.0",
         "0.0",
         "AAPL"
        ],
        [
         "33",
         "1981-01-30 00:00:00",
         "0.1272320002317428",
         "0.1272320002317428",
         "0.1261159926652908",
         "0.1261159926652908",
         "0.0972226113080978",
         "46188800",
         "0.0",
         "0.0",
         "AAPL"
        ],
        [
         "34",
         "1981-02-02 00:00:00",
         "0.1194199994206428",
         "0.1194199994206428",
         "0.1188620030879974",
         "0.1188620030879974",
         "0.0916304588317871",
         "23766400",
         "0.0",
         "0.0",
         "AAPL"
        ],
        [
         "35",
         "1981-02-03 00:00:00",
         "0.1233260035514831",
         "0.1238839998841285",
         "0.1233260035514831",
         "0.1233260035514831",
         "0.0950717777013778",
         "19152000",
         "0.0",
         "0.0",
         "AAPL"
        ],
        [
         "36",
         "1981-02-04 00:00:00",
         "0.1277900040149688",
         "0.1283479928970337",
         "0.1277900040149688",
         "0.1277900040149688",
         "0.0985130742192268",
         "27865600",
         "0.0",
         "0.0",
         "AAPL"
        ],
        [
         "37",
         "1981-02-05 00:00:00",
         "0.1277900040149688",
         "0.1289059966802597",
         "0.1277900040149688",
         "0.1277900040149688",
         "0.0985130742192268",
         "7929600",
         "0.0",
         "0.0",
         "AAPL"
        ],
        [
         "38",
         "1981-02-06 00:00:00",
         "0.1283479928970337",
         "0.1289059966802597",
         "0.1283479928970337",
         "0.1283479928970337",
         "0.098943218588829",
         "13865600",
         "0.0",
         "0.0",
         "AAPL"
        ],
        [
         "39",
         "1981-02-09 00:00:00",
         "0.1227679997682571",
         "0.1227679997682571",
         "0.1216519996523857",
         "0.1216519996523857",
         "0.093781292438507",
         "16755200",
         "0.0",
         "0.0",
         "AAPL"
        ],
        [
         "40",
         "1981-02-10 00:00:00",
         "0.1216519996523857",
         "0.1222100034356117",
         "0.1216519996523857",
         "0.1216519996523857",
         "0.093781292438507",
         "18345600",
         "0.0",
         "0.0",
         "AAPL"
        ],
        [
         "41",
         "1981-02-11 00:00:00",
         "0.1183039993047714",
         "0.1183039993047714",
         "0.117746002972126",
         "0.117746002972126",
         "0.0907701626420021",
         "13843200",
         "0.0",
         "0.0",
         "AAPL"
        ],
        [
         "42",
         "1981-02-12 00:00:00",
         "0.1171879991889",
         "0.1171879991889",
         "0.1166289970278739",
         "0.1166289970278739",
         "0.0899090468883514",
         "14560000",
         "0.0",
         "0.0",
         "AAPL"
        ],
        [
         "43",
         "1981-02-13 00:00:00",
         "0.1149550005793571",
         "0.1149550005793571",
         "0.1138390004634857",
         "0.1138390004634857",
         "0.0877582728862762",
         "11155200",
         "0.0",
         "0.0",
         "AAPL"
        ],
        [
         "44",
         "1981-02-17 00:00:00",
         "0.1166289970278739",
         "0.1171879991889",
         "0.1166289970278739",
         "0.1166289970278739",
         "0.0899090468883514",
         "12275200",
         "0.0",
         "0.0",
         "AAPL"
        ],
        [
         "45",
         "1981-02-18 00:00:00",
         "0.1216519996523857",
         "0.1227679997682571",
         "0.1216519996523857",
         "0.1216519996523857",
         "0.093781292438507",
         "19241600",
         "0.0",
         "0.0",
         "AAPL"
        ],
        [
         "46",
         "1981-02-19 00:00:00",
         "0.1149550005793571",
         "0.1149550005793571",
         "0.1143969967961311",
         "0.1143969967961311",
         "0.0881884023547172",
         "22310400",
         "0.0",
         "0.0",
         "AAPL"
        ],
        [
         "47",
         "1981-02-20 00:00:00",
         "0.1088170036673545",
         "0.1088170036673545",
         "0.1082589998841285",
         "0.1082589998841285",
         "0.0834566429257392",
         "24371200",
         "0.0",
         "0.0",
         "AAPL"
        ],
        [
         "48",
         "1981-02-23 00:00:00",
         "0.1099329963326454",
         "0.1104910001158714",
         "0.1099329963326454",
         "0.1099329963326454",
         "0.0847471207380294",
         "14112000",
         "0.0",
         "0.0",
         "AAPL"
        ],
        [
         "49",
         "1981-02-24 00:00:00",
         "0.1071429997682571",
         "0.1071429997682571",
         "0.1060269996523857",
         "0.1060269996523857",
         "0.0817359760403633",
         "16979200",
         "0.0",
         "0.0",
         "AAPL"
        ]
       ],
       "shape": {
        "columns": 10,
        "rows": 45428
       }
      },
      "text/html": [
       "<div>\n",
       "<style scoped>\n",
       "    .dataframe tbody tr th:only-of-type {\n",
       "        vertical-align: middle;\n",
       "    }\n",
       "\n",
       "    .dataframe tbody tr th {\n",
       "        vertical-align: top;\n",
       "    }\n",
       "\n",
       "    .dataframe thead th {\n",
       "        text-align: right;\n",
       "    }\n",
       "</style>\n",
       "<table border=\"1\" class=\"dataframe\">\n",
       "  <thead>\n",
       "    <tr style=\"text-align: right;\">\n",
       "      <th></th>\n",
       "      <th>date</th>\n",
       "      <th>open</th>\n",
       "      <th>high</th>\n",
       "      <th>low</th>\n",
       "      <th>close</th>\n",
       "      <th>adj_close</th>\n",
       "      <th>volume</th>\n",
       "      <th>dividends</th>\n",
       "      <th>stock_splits</th>\n",
       "      <th>ticker</th>\n",
       "    </tr>\n",
       "  </thead>\n",
       "  <tbody>\n",
       "    <tr>\n",
       "      <th>0</th>\n",
       "      <td>1980-12-12</td>\n",
       "      <td>0.128348</td>\n",
       "      <td>0.128906</td>\n",
       "      <td>0.128348</td>\n",
       "      <td>0.128348</td>\n",
       "      <td>0.098943</td>\n",
       "      <td>469033600</td>\n",
       "      <td>0.0</td>\n",
       "      <td>0.0</td>\n",
       "      <td>AAPL</td>\n",
       "    </tr>\n",
       "    <tr>\n",
       "      <th>1</th>\n",
       "      <td>1980-12-15</td>\n",
       "      <td>0.122210</td>\n",
       "      <td>0.122210</td>\n",
       "      <td>0.121652</td>\n",
       "      <td>0.121652</td>\n",
       "      <td>0.093781</td>\n",
       "      <td>175884800</td>\n",
       "      <td>0.0</td>\n",
       "      <td>0.0</td>\n",
       "      <td>AAPL</td>\n",
       "    </tr>\n",
       "    <tr>\n",
       "      <th>2</th>\n",
       "      <td>1980-12-16</td>\n",
       "      <td>0.113281</td>\n",
       "      <td>0.113281</td>\n",
       "      <td>0.112723</td>\n",
       "      <td>0.112723</td>\n",
       "      <td>0.086898</td>\n",
       "      <td>105728000</td>\n",
       "      <td>0.0</td>\n",
       "      <td>0.0</td>\n",
       "      <td>AAPL</td>\n",
       "    </tr>\n",
       "    <tr>\n",
       "      <th>3</th>\n",
       "      <td>1980-12-17</td>\n",
       "      <td>0.115513</td>\n",
       "      <td>0.116071</td>\n",
       "      <td>0.115513</td>\n",
       "      <td>0.115513</td>\n",
       "      <td>0.089049</td>\n",
       "      <td>86441600</td>\n",
       "      <td>0.0</td>\n",
       "      <td>0.0</td>\n",
       "      <td>AAPL</td>\n",
       "    </tr>\n",
       "    <tr>\n",
       "      <th>4</th>\n",
       "      <td>1980-12-18</td>\n",
       "      <td>0.118862</td>\n",
       "      <td>0.119420</td>\n",
       "      <td>0.118862</td>\n",
       "      <td>0.118862</td>\n",
       "      <td>0.091630</td>\n",
       "      <td>73449600</td>\n",
       "      <td>0.0</td>\n",
       "      <td>0.0</td>\n",
       "      <td>AAPL</td>\n",
       "    </tr>\n",
       "    <tr>\n",
       "      <th>...</th>\n",
       "      <td>...</td>\n",
       "      <td>...</td>\n",
       "      <td>...</td>\n",
       "      <td>...</td>\n",
       "      <td>...</td>\n",
       "      <td>...</td>\n",
       "      <td>...</td>\n",
       "      <td>...</td>\n",
       "      <td>...</td>\n",
       "      <td>...</td>\n",
       "    </tr>\n",
       "    <tr>\n",
       "      <th>45423</th>\n",
       "      <td>2024-07-24</td>\n",
       "      <td>225.419998</td>\n",
       "      <td>225.990005</td>\n",
       "      <td>214.710007</td>\n",
       "      <td>215.990005</td>\n",
       "      <td>215.990005</td>\n",
       "      <td>167942900</td>\n",
       "      <td>0.0</td>\n",
       "      <td>0.0</td>\n",
       "      <td>TSLA</td>\n",
       "    </tr>\n",
       "    <tr>\n",
       "      <th>45424</th>\n",
       "      <td>2024-07-25</td>\n",
       "      <td>216.800003</td>\n",
       "      <td>226.000000</td>\n",
       "      <td>216.229996</td>\n",
       "      <td>220.250000</td>\n",
       "      <td>220.250000</td>\n",
       "      <td>100636500</td>\n",
       "      <td>0.0</td>\n",
       "      <td>0.0</td>\n",
       "      <td>TSLA</td>\n",
       "    </tr>\n",
       "    <tr>\n",
       "      <th>45425</th>\n",
       "      <td>2024-07-26</td>\n",
       "      <td>221.190002</td>\n",
       "      <td>222.279999</td>\n",
       "      <td>215.330002</td>\n",
       "      <td>219.800003</td>\n",
       "      <td>219.800003</td>\n",
       "      <td>94604100</td>\n",
       "      <td>0.0</td>\n",
       "      <td>0.0</td>\n",
       "      <td>TSLA</td>\n",
       "    </tr>\n",
       "    <tr>\n",
       "      <th>45426</th>\n",
       "      <td>2024-07-29</td>\n",
       "      <td>224.899994</td>\n",
       "      <td>234.270004</td>\n",
       "      <td>224.699997</td>\n",
       "      <td>232.100006</td>\n",
       "      <td>232.100006</td>\n",
       "      <td>129201800</td>\n",
       "      <td>0.0</td>\n",
       "      <td>0.0</td>\n",
       "      <td>TSLA</td>\n",
       "    </tr>\n",
       "    <tr>\n",
       "      <th>45427</th>\n",
       "      <td>2024-07-30</td>\n",
       "      <td>232.250000</td>\n",
       "      <td>232.410004</td>\n",
       "      <td>220.000000</td>\n",
       "      <td>222.619995</td>\n",
       "      <td>222.619995</td>\n",
       "      <td>100560300</td>\n",
       "      <td>0.0</td>\n",
       "      <td>0.0</td>\n",
       "      <td>TSLA</td>\n",
       "    </tr>\n",
       "  </tbody>\n",
       "</table>\n",
       "<p>45428 rows × 10 columns</p>\n",
       "</div>"
      ],
      "text/plain": [
       "            date        open        high         low       close   adj_close  \\\n",
       "0     1980-12-12    0.128348    0.128906    0.128348    0.128348    0.098943   \n",
       "1     1980-12-15    0.122210    0.122210    0.121652    0.121652    0.093781   \n",
       "2     1980-12-16    0.113281    0.113281    0.112723    0.112723    0.086898   \n",
       "3     1980-12-17    0.115513    0.116071    0.115513    0.115513    0.089049   \n",
       "4     1980-12-18    0.118862    0.119420    0.118862    0.118862    0.091630   \n",
       "...          ...         ...         ...         ...         ...         ...   \n",
       "45423 2024-07-24  225.419998  225.990005  214.710007  215.990005  215.990005   \n",
       "45424 2024-07-25  216.800003  226.000000  216.229996  220.250000  220.250000   \n",
       "45425 2024-07-26  221.190002  222.279999  215.330002  219.800003  219.800003   \n",
       "45426 2024-07-29  224.899994  234.270004  224.699997  232.100006  232.100006   \n",
       "45427 2024-07-30  232.250000  232.410004  220.000000  222.619995  222.619995   \n",
       "\n",
       "          volume  dividends  stock_splits ticker  \n",
       "0      469033600        0.0           0.0   AAPL  \n",
       "1      175884800        0.0           0.0   AAPL  \n",
       "2      105728000        0.0           0.0   AAPL  \n",
       "3       86441600        0.0           0.0   AAPL  \n",
       "4       73449600        0.0           0.0   AAPL  \n",
       "...          ...        ...           ...    ...  \n",
       "45423  167942900        0.0           0.0   TSLA  \n",
       "45424  100636500        0.0           0.0   TSLA  \n",
       "45425   94604100        0.0           0.0   TSLA  \n",
       "45426  129201800        0.0           0.0   TSLA  \n",
       "45427  100560300        0.0           0.0   TSLA  \n",
       "\n",
       "[45428 rows x 10 columns]"
      ]
     },
     "execution_count": 16,
     "metadata": {},
     "output_type": "execute_result"
    }
   ],
   "source": [
    "# Reading stock price data\n",
    "stock_data = analysis.fetch_stock_data()\n",
    "stock_data"
   ]
  },
  {
   "cell_type": "markdown",
   "id": "d8b67ae7",
   "metadata": {},
   "source": [
    "#### Calculating sentiment analysis for financial news data "
   ]
  },
  {
   "cell_type": "code",
   "execution_count": 19,
   "id": "70155337",
   "metadata": {},
   "outputs": [
    {
     "name": "stdout",
     "output_type": "stream",
     "text": [
      "Local punkt tokenizer found.\n",
      "Calculating sentiment scores with punkt tokenizer...\n"
     ]
    },
    {
     "data": {
      "application/vnd.microsoft.datawrangler.viewer.v0+json": {
       "columns": [
        {
         "name": "index",
         "rawType": "int64",
         "type": "integer"
        },
        {
         "name": "headline",
         "rawType": "object",
         "type": "string"
        },
        {
         "name": "url",
         "rawType": "object",
         "type": "string"
        },
        {
         "name": "publisher",
         "rawType": "object",
         "type": "string"
        },
        {
         "name": "date",
         "rawType": "datetime64[ns, UTC-04:00]",
         "type": "unknown"
        },
        {
         "name": "stock",
         "rawType": "object",
         "type": "string"
        },
        {
         "name": "Sentiment",
         "rawType": "float64",
         "type": "float"
        },
        {
         "name": "sentiment_label",
         "rawType": "object",
         "type": "string"
        }
       ],
       "ref": "4464ad35-11fb-48eb-9e66-3f7bb4761bdc",
       "rows": [
        [
         "6680",
         "Tech Stocks And FAANGS Strong Again To Start Day As Market Awaits Fed",
         "https://www.benzinga.com/government/20/06/16223418/tech-stocks-and-faangs-strong-again-to-start-day-as-market-awaits-fed",
         "JJ Kinahan",
         "2020-06-10 11:33:26-04:00",
         "AAPL",
         "0.03333333333333333",
         "neutral"
        ],
        [
         "6681",
         "10 Biggest Price Target Changes For Wednesday",
         "https://www.benzinga.com/analyst-ratings/price-target/20/06/16220539/10-biggest-price-target-changes-for-wednesday",
         "Lisa Levin",
         "2020-06-10 08:14:08-04:00",
         "AAPL",
         "0.0",
         "neutral"
        ],
        [
         "6682",
         "Benzinga Pro's Top 5 Stocks To Watch For Wed., Jun. 10, 2020: AAPL, BAC, NIO, SONO, GLW",
         "https://www.benzinga.com/short-sellers/20/06/16220099/benzinga-pros-top-5-stocks-to-watch-for-wed-jun-10-2020-aapl-bac-nio-sono-glw",
         "Benzinga Newsdesk",
         "2020-06-10 07:53:47-04:00",
         "AAPL",
         "0.018518518518518517",
         "neutral"
        ],
        [
         "6683",
         "Deutsche Bank Maintains Buy on Apple, Raises Price Target to $350",
         "https://www.benzinga.com/news/20/06/16219873/deutsche-bank-maintains-buy-on-apple-raises-price-target-to-350",
         "Benzinga Newsdesk",
         "2020-06-10 07:19:25-04:00",
         "AAPL",
         "0.0",
         "neutral"
        ],
        [
         "6684",
         "Apple To Let Users Trade In Their Mac Computers For Credit At US, Canada Stores: Report",
         "https://www.benzinga.com/news/20/06/16218697/apple-to-let-users-turn-in-their-mac-computers-for-credit-at-us-canada-stores-starting-this-month-re",
         "Neer Varshney",
         "2020-06-10 06:27:11-04:00",
         "AAPL",
         "0.0",
         "neutral"
        ],
        [
         "6685",
         "Big Tech Reaches New Record Heights At The Stock Market",
         "https://www.benzinga.com/news/20/06/16218615/big-tech-reaches-new-record-heights-at-the-stock-market",
         "Neer Varshney",
         "2020-06-10 00:52:01-04:00",
         "AAPL",
         "0.013636363636363636",
         "neutral"
        ],
        [
         "6686",
         "Why Apple's Stock Is Trading Higher Today",
         "https://www.benzinga.com/news/20/06/16215446/why-apples-stock-is-trading-higher-today",
         "Tanzeel Akhtar",
         "2020-06-09 15:14:07-04:00",
         "AAPL",
         "0.027777777777777776",
         "neutral"
        ],
        [
         "6687",
         "Apple Could Announce In-House Chips For Macs At WWDC: Report",
         "https://www.benzinga.com/news/20/06/16214115/apple-could-announce-in-house-chips-for-macs-at-wwdc-report",
         "Shanthi Rexaline",
         "2020-06-09 13:58:46-04:00",
         "AAPL",
         "0.0",
         "neutral"
        ],
        [
         "6688",
         "Apple shares are trading higher despite market weakness, not currently seeing company-specific news. It was reported the company is expected to begin iPhone 12 production in July.",
         "https://www.benzinga.com/wiim/20/06/16214320/apple-shares-are-trading-higher-despite-market-weakness-not-currently-seeing-company-specific-news-i",
         "Benzinga Newsdesk",
         "2020-06-09 12:41:02-04:00",
         "AAPL",
         "0.0046875",
         "neutral"
        ],
        [
         "6689",
         "Sonos Shares Spike To Session High, Now Up 9.5%, As Citron's Andrew Left, Currently Interviewing On FOX Business, Said Co. Could Be Acquired By Apple Or Amazon",
         "https://www.benzinga.com/m-a/20/06/16213381/sonos-shares-spike-to-session-high-now-up-9-5-as-citrons-andrew-left-currently-interviewing-on-fox-b",
         "Benzinga Newsdesk",
         "2020-06-09 11:11:34-04:00",
         "AAPL",
         "0.0044444444444444444",
         "neutral"
        ],
        [
         "6690",
         "'Apple is tracking iPhones stolen by looters' -Earlier NY Post Article",
         "https://www.benzinga.com/news/20/06/16161103/apple-is-tracking-iphones-stolen-by-looters-earlier-ny-post-article",
         "Benzinga Newsdesk",
         "2020-06-02 00:00:00-04:00",
         "AAPL",
         "0.0",
         "neutral"
        ],
        [
         "6691",
         "MoneyGram Shares Jump 50% As Western Union Reportedly Looks For Acquisition",
         "https://www.benzinga.com/m-a/20/06/16156730/moneygram-shares-jump-50-as-western-union-reportedly-looks-for-acquisition",
         "Neer Varshney",
         "2020-06-02 00:00:00-04:00",
         "AAPL",
         "0.0",
         "neutral"
        ],
        [
         "6692",
         "Hearing Susquehanna Check Suggests Total iPhone 12 Builds Tracking To 10M, Below Firm's Expectation Of 25M; Unconfirmed",
         "https://www.benzinga.com/analyst-ratings/analyst-color/20/06/16158083/hearing-susquehanna-check-suggests-total-iphone-12-builds-tracking-to-10m-below-fir",
         "Benzinga Newsdesk",
         "2020-06-02 00:00:00-04:00",
         "AAPL",
         "-0.009523809523809525",
         "neutral"
        ],
        [
         "6693",
         "Tesla CEO Musk Says Other Three Officers Should Be Charged In Floyd's Murder Case",
         "https://www.benzinga.com/news/20/06/16156648/tesla-ceo-musk-says-other-three-officers-should-be-charged-in-floyds-murder-case",
         "Neer Varshney",
         "2020-06-02 00:00:00-04:00",
         "AAPL",
         "-0.0078125",
         "neutral"
        ],
        [
         "6694",
         "A Peek Into The Markets: US Stock Futures Up; Crude Oil Rises Over 2%",
         "https://www.benzinga.com/news/earnings/20/06/16157378/a-peek-into-the-markets-us-stock-futures-up-crude-oil-rises-over-2",
         "Lisa Levin",
         "2020-06-02 00:00:00-04:00",
         "AAPL",
         "-0.041176470588235294",
         "neutral"
        ],
        [
         "6695",
         "Pepper Spray, Books On Racism, 'I Can't Breathe' Merchandise Are Top Sellers On Amazon As Protests Rage",
         "https://www.benzinga.com/news/20/06/16156515/pepper-spray-books-on-racism-i-cant-breathe-merchandise-are-top-sellers-on-amazon-as-protests-rage",
         "Neer Varshney",
         "2020-06-02 00:00:00-04:00",
         "AAPL",
         "0.021739130434782608",
         "neutral"
        ],
        [
         "6696",
         "Apple Cuts iPhone Prices in China To Push Sales As Country Reopens Economy",
         "https://www.benzinga.com/news/20/06/16156462/apple-cuts-iphone-prices-in-china-to-push-sales-as-country-reopens-economy",
         "Shivdeep Dhaliwal",
         "2020-06-01 00:00:00-04:00",
         "AAPL",
         "0.0",
         "neutral"
        ],
        [
         "6697",
         "Gun, Security Stocks Trade Higher After Weekend Protests Turn Violent And Destructive",
         "https://www.benzinga.com/news/20/06/16150247/gun-security-stocks-trade-higher-after-weekend-protests-turn-violent-and-destructive",
         "Wayne Duggan",
         "2020-06-01 00:00:00-04:00",
         "AAPL",
         "-0.08846153846153845",
         "negative"
        ],
        [
         "6698",
         "Carter Worth And Mike Khouw's Apple Trade",
         "https://www.benzinga.com/markets/options/20/06/16148745/carter-worth-and-mike-khouws-apple-trade",
         "Craig Jones",
         "2020-06-01 00:00:00-04:00",
         "AAPL",
         "0.03333333333333333",
         "neutral"
        ],
        [
         "6699",
         "Apple Pays Hacker From India $100,000 For Discovering Serious 'Sign In With Apple' Vulnerability",
         "https://www.benzinga.com/news/20/06/16146494/apple-pays-hacker-from-india-100-000-for-discovering-serious-sign-in-with-apple-vulnerability",
         "Shivdeep Dhaliwal",
         "2020-06-01 00:00:00-04:00",
         "AAPL",
         "-0.017543859649122806",
         "neutral"
        ],
        [
         "6700",
         "Volume Production of New iPhone Models to Begin in Q3 2020",
         "https://www.benzinga.com/news/20/06/16147117/volume-production-of-new-iphone-models-to-begin-in-q3-2020",
         "Charles Gross",
         "2020-06-01 00:00:00-04:00",
         "AAPL",
         "0.012396694214876032",
         "neutral"
        ],
        [
         "6701",
         "Apple CEO Writes To Employees About George Floyd Death, Urges For 'Better, More Just World For Everyone'",
         "https://www.benzinga.com/news/20/06/16146417/apple-ceo-writes-to-employees-about-george-floyd-death-urges-for-better-more-just-world-for-everyone",
         "Shivdeep Dhaliwal",
         "2020-06-01 00:00:00-04:00",
         "AAPL",
         "0.047619047619047616",
         "neutral"
        ],
        [
         "6702",
         "Amazon, Apple, Walmart, Other Retailers Shutter Stores, Scale Back Operations In Areas Worst Hit With Protests",
         "https://www.benzinga.com/news/20/06/16146370/amazon-apple-walmart-other-retailers-shutter-stores-scale-back-operations-in-areas-worst-hit-with-pr",
         "Neer Varshney",
         "2020-05-31 00:00:00-04:00",
         "AAPL",
         "-0.05625",
         "negative"
        ],
        [
         "6703",
         "Apple Says With Health and Safety of Its Teams in Mind, Decided to Keep Number of Its Stores in the U.S. Closed on Sunday",
         "https://www.benzinga.com/news/20/05/16146213/apple-says-with-health-and-safety-of-its-teams-in-mind-decided-to-keep-number-of-its-stores-in-the-u",
         "Charles Gross",
         "2020-05-31 00:00:00-04:00",
         "AAPL",
         "-0.0035714285714285718",
         "neutral"
        ],
        [
         "6704",
         "Costco Shares Come Under Pressure Despite Strong Earnings, Same-Store Sales",
         "https://www.benzinga.com/government/20/05/16138428/costco-shares-come-under-pressure-despite-strong-earnings-same-store-sales",
         "JJ Kinahan",
         "2020-05-29 00:00:00-04:00",
         "AAPL",
         "0.03333333333333333",
         "neutral"
        ],
        [
         "6705",
         "Trump's Executive Order To Expose Social Media To Lawsuits Over Content Policies",
         "https://www.benzinga.com/analyst-ratings/analyst-color/20/05/16128213/trumps-executive-order-to-expose-social-media-to-lawsuits-over-content-policies",
         "Elizabeth Balboa",
         "2020-05-28 00:00:00-04:00",
         "AAPL",
         "0.0023809523809523807",
         "neutral"
        ],
        [
         "6706",
         "Costco Earnings On Tap After Close As Investors Mull Strong Toll Brothers Results",
         "https://www.benzinga.com/news/20/05/16127758/costco-earnings-on-tap-after-close-as-investors-mull-strong-toll-brothers-results",
         "JJ Kinahan",
         "2020-05-28 00:00:00-04:00",
         "AAPL",
         "0.03333333333333333",
         "neutral"
        ],
        [
         "6707",
         "Martin Scorsese's Next Movie Will Be Financed By Apple: Report",
         "https://www.benzinga.com/news/20/05/16124204/martin-scorseses-next-movie-will-be-financed-by-apple-report",
         "Shivdeep Dhaliwal",
         "2020-05-28 00:00:00-04:00",
         "AAPL",
         "0.0",
         "neutral"
        ],
        [
         "6708",
         "Tech Companies Aren't 'State Actors,' Judge Dismisses Conservative Bias Lawsuit Against Facebook, Twitter, Google, Apple",
         "https://www.benzinga.com/news/20/05/16124533/tech-companies-arent-state-actors-judge-dismisses-conservative-bias-lawsuit-against-facebook-twitter",
         "Neer Varshney",
         "2020-05-28 00:00:00-04:00",
         "AAPL",
         "0.0",
         "neutral"
        ],
        [
         "6709",
         "Leidos Awarded $84.6M Payment from VirnetX Lawsuit vs Apple",
         "https://www.benzinga.com/news/20/05/16123778/leidos-awarded-84-6m-payment-from-virnetx-lawsuit-vs-apple",
         "Charles Gross",
         "2020-05-27 00:00:00-04:00",
         "AAPL",
         "0.0",
         "neutral"
        ],
        [
         "6710",
         "The Most Popular Smartphone Model Of Q1",
         "https://www.benzinga.com/news/20/05/16115833/the-most-popular-smartphone-model-of-q1",
         "Shanthi Rexaline",
         "2020-05-27 00:00:00-04:00",
         "AAPL",
         "0.15714285714285717",
         "positive"
        ],
        [
         "6711",
         "This New Tool Will Tell You Whether Or Not An Options Spread Is A Good Deal",
         "https://www.benzinga.com/general/education/20/05/16120055/this-new-tool-will-tell-you-whether-or-not-an-options-spread-is-a-good-deal",
         "Spencer Israel",
         "2020-05-27 00:00:00-04:00",
         "AAPL",
         "0.05227272727272727",
         "positive"
        ],
        [
         "6712",
         "B of A Securities Maintains Buy on Apple, Raises Price Target to $340",
         "https://www.benzinga.com/news/20/05/16117795/b-of-a-securities-maintains-buy-on-apple-raises-price-target-to-340",
         "Vick Meyer",
         "2020-05-27 00:00:00-04:00",
         "AAPL",
         "0.0",
         "neutral"
        ],
        [
         "6713",
         "3 Apple Analysts Lift Price Targets: Why They're Optimistic On iPhone's Trajectory",
         "https://www.benzinga.com/analyst-ratings/analyst-color/20/05/16116516/3-apple-analysts-lift-price-targets-why-theyre-optimistic-on-iphones-trajectory",
         "Shanthi Rexaline",
         "2020-05-27 00:00:00-04:00",
         "AAPL",
         "0.0",
         "neutral"
        ],
        [
         "6714",
         "'LG reportedly supplying 20 million OLED panels for 'iPhone 12 Max'' -AppleInsider",
         "https://www.benzinga.com/news/20/05/16115993/lg-reportedly-supplying-20-million-oled-panels-for-iphone-12-max-appleinsider",
         "Benzinga Newsdesk",
         "2020-05-27 00:00:00-04:00",
         "AAPL",
         "0.0",
         "neutral"
        ],
        [
         "6715",
         "Same Old Leadership Song Lifts These Leveraged ETFs",
         "https://www.benzinga.com/trading-ideas/long-ideas/20/05/16112730/same-old-leadership-song-lifts-these-leveraged-etfs",
         "ETF Professor",
         "2020-05-27 00:00:00-04:00",
         "AAPL",
         "0.0125",
         "neutral"
        ],
        [
         "6716",
         "Deutsche Bank Maintains Buy on Apple, Raises Price Target to $320",
         "https://www.benzinga.com/news/20/05/16114459/deutsche-bank-maintains-buy-on-apple-raises-price-target-to-320",
         "Benzinga_Newsdesk",
         "2020-05-27 00:00:00-04:00",
         "AAPL",
         "0.0",
         "neutral"
        ],
        [
         "6717",
         "YouTube Makes Its Dedicated Children App Available On Apple TV",
         "https://www.benzinga.com/news/20/05/16113144/youtube-makes-its-dedicated-children-app-available-on-apple-tv",
         "Neer Varshney",
         "2020-05-27 00:00:00-04:00",
         "AAPL",
         "0.04",
         "neutral"
        ],
        [
         "6718",
         "Samsung Display Secures Majority of Panel Orders for Next-gen iPhone",
         "https://www.benzinga.com/news/20/05/16113529/samsung-display-secures-majority-of-panel-orders-for-next-gen-iphone",
         "Charles Gross",
         "2020-05-27 00:00:00-04:00",
         "AAPL",
         "0.0",
         "neutral"
        ],
        [
         "6719",
         "Study: 34% Of Americans Report Looking Through Their Partner's Phone Without Permission",
         "https://www.benzinga.com/general/education/20/05/16100606/study-34-of-americans-report-looking-through-their-partners-phone-without-permission",
         "Henry Khederian",
         "2020-05-26 00:00:00-04:00",
         "AAPL",
         "0.0",
         "neutral"
        ],
        [
         "6720",
         "Apple To Reopen ~100 More US Stores This Week",
         "https://www.benzinga.com/news/20/05/16108713/apple-to-reopen-100-more-us-stores-this-week",
         "Benzinga Newsdesk",
         "2020-05-26 00:00:00-04:00",
         "AAPL",
         "0.05",
         "positive"
        ],
        [
         "6721",
         "'FAANG Stocks Are Strong Once Again,' Facebook, Amazon, Netflix Hit Record Highs Last Week",
         "https://www.benzinga.com/news/20/05/16103196/faang-stocks-are-strong-once-again-facebook-amazon-netflix-hit-record-highs-last-week",
         "Neer Varshney",
         "2020-05-26 00:00:00-04:00",
         "AAPL",
         "0.024074074074074074",
         "neutral"
        ],
        [
         "6722",
         "Apple Expected to Incorporate Ambient Light Sensors in Next-generation Airpods Devices",
         "https://www.benzinga.com/news/20/05/16101534/apple-expected-to-incorporate-ambient-light-sensors-in-next-generation-airpods-devices",
         "Charles Gross",
         "2020-05-25 00:00:00-04:00",
         "AAPL",
         "0.02307692307692308",
         "neutral"
        ],
        [
         "6723",
         "The Secret to Tech's Resilience to COVID-19- Infrastructure Expansion",
         "https://www.benzinga.com/news/earnings/20/05/16093892/the-secret-to-techs-resilience-to-covid-19-infrastructure-expansion",
         "IAM Newswire",
         "2020-05-22 00:00:00-04:00",
         "AAPL",
         "-0.028571428571428574",
         "neutral"
        ],
        [
         "6724",
         "Apple Is Seeking An Executive To Lead Original Podcast Effort, Is Buying Original Podcasts That Would Be Exclusive; New Podcasts Will Help Promote TV+ Video Service",
         "https://www.benzinga.com/tech/20/05/16088267/apple-is-seeking-an-executive-to-lead-original-podcast-effort-is-buying-original-podcasts-that-would",
         "Benzinga Newsdesk",
         "2020-05-21 00:00:00-04:00",
         "AAPL",
         "0.030564263322884012",
         "neutral"
        ],
        [
         "6725",
         "Evercore ISI Analyst Amit DAryanani Says Apple Can Exceed $100 Billion In Services Revenue In The Fiscal Year Ending In September 2024",
         "https://www.benzinga.com/analyst-ratings/analyst-color/20/05/16088238/evercore-isi-analyst-amit-daryanani-says-apple-can-exceed-100-billion-in-services-r",
         "Benzinga Newsdesk",
         "2020-05-21 00:00:00-04:00",
         "AAPL",
         "0.0",
         "neutral"
        ],
        [
         "6726",
         "Apple Vs. Tesla: Morgan Stanley Breaks Down The Parallels",
         "https://www.benzinga.com/analyst-ratings/analyst-color/20/05/16084937/apple-vs-tesla-morgan-stanley-breaks-down-the-parallels",
         "Elizabeth Balboa",
         "2020-05-21 00:00:00-04:00",
         "AAPL",
         "-0.014141414141414142",
         "neutral"
        ],
        [
         "6727",
         "As The Global Economy Weighs Fears Of A Recession, Travel Is Already In A Depression",
         "https://www.benzinga.com/news/20/05/16086804/as-the-global-economy-weighs-fears-of-a-recession-travel-is-already-in-a-depression",
         "IAM Newswire",
         "2020-05-21 00:00:00-04:00",
         "AAPL",
         "0.0",
         "neutral"
        ],
        [
         "6728",
         "Hearing Evercore ISI Raises Price Target On Apple From $330 To $345",
         "https://www.benzinga.com/news/20/05/16083197/hearing-evercore-isi-raises-price-target-on-apple-from-330-to-345",
         "Benzinga Newsdesk",
         "2020-05-21 00:00:00-04:00",
         "AAPL",
         "0.0",
         "neutral"
        ],
        [
         "6729",
         "Apple's Face ID Will Allow Mask Wearing Users To Unlock Their Phones Quickly",
         "https://www.benzinga.com/news/20/05/16081929/apples-face-id-will-allow-mask-wearing-users-to-unlock-their-phones-quickly",
         "Shivdeep Dhaliwal",
         "2020-05-20 00:00:00-04:00",
         "AAPL",
         "0.02222222222222222",
         "neutral"
        ]
       ],
       "shape": {
        "columns": 7,
        "rows": 6939
       }
      },
      "text/html": [
       "<div>\n",
       "<style scoped>\n",
       "    .dataframe tbody tr th:only-of-type {\n",
       "        vertical-align: middle;\n",
       "    }\n",
       "\n",
       "    .dataframe tbody tr th {\n",
       "        vertical-align: top;\n",
       "    }\n",
       "\n",
       "    .dataframe thead th {\n",
       "        text-align: right;\n",
       "    }\n",
       "</style>\n",
       "<table border=\"1\" class=\"dataframe\">\n",
       "  <thead>\n",
       "    <tr style=\"text-align: right;\">\n",
       "      <th></th>\n",
       "      <th>headline</th>\n",
       "      <th>url</th>\n",
       "      <th>publisher</th>\n",
       "      <th>date</th>\n",
       "      <th>stock</th>\n",
       "      <th>Sentiment</th>\n",
       "      <th>sentiment_label</th>\n",
       "    </tr>\n",
       "  </thead>\n",
       "  <tbody>\n",
       "    <tr>\n",
       "      <th>6680</th>\n",
       "      <td>Tech Stocks And FAANGS Strong Again To Start D...</td>\n",
       "      <td>https://www.benzinga.com/government/20/06/1622...</td>\n",
       "      <td>JJ Kinahan</td>\n",
       "      <td>2020-06-10 11:33:26-04:00</td>\n",
       "      <td>AAPL</td>\n",
       "      <td>0.033333</td>\n",
       "      <td>neutral</td>\n",
       "    </tr>\n",
       "    <tr>\n",
       "      <th>6681</th>\n",
       "      <td>10 Biggest Price Target Changes For Wednesday</td>\n",
       "      <td>https://www.benzinga.com/analyst-ratings/price...</td>\n",
       "      <td>Lisa Levin</td>\n",
       "      <td>2020-06-10 08:14:08-04:00</td>\n",
       "      <td>AAPL</td>\n",
       "      <td>0.000000</td>\n",
       "      <td>neutral</td>\n",
       "    </tr>\n",
       "    <tr>\n",
       "      <th>6682</th>\n",
       "      <td>Benzinga Pro's Top 5 Stocks To Watch For Wed.,...</td>\n",
       "      <td>https://www.benzinga.com/short-sellers/20/06/1...</td>\n",
       "      <td>Benzinga Newsdesk</td>\n",
       "      <td>2020-06-10 07:53:47-04:00</td>\n",
       "      <td>AAPL</td>\n",
       "      <td>0.018519</td>\n",
       "      <td>neutral</td>\n",
       "    </tr>\n",
       "    <tr>\n",
       "      <th>6683</th>\n",
       "      <td>Deutsche Bank Maintains Buy on Apple, Raises P...</td>\n",
       "      <td>https://www.benzinga.com/news/20/06/16219873/d...</td>\n",
       "      <td>Benzinga Newsdesk</td>\n",
       "      <td>2020-06-10 07:19:25-04:00</td>\n",
       "      <td>AAPL</td>\n",
       "      <td>0.000000</td>\n",
       "      <td>neutral</td>\n",
       "    </tr>\n",
       "    <tr>\n",
       "      <th>6684</th>\n",
       "      <td>Apple To Let Users Trade In Their Mac Computer...</td>\n",
       "      <td>https://www.benzinga.com/news/20/06/16218697/a...</td>\n",
       "      <td>Neer Varshney</td>\n",
       "      <td>2020-06-10 06:27:11-04:00</td>\n",
       "      <td>AAPL</td>\n",
       "      <td>0.000000</td>\n",
       "      <td>neutral</td>\n",
       "    </tr>\n",
       "    <tr>\n",
       "      <th>...</th>\n",
       "      <td>...</td>\n",
       "      <td>...</td>\n",
       "      <td>...</td>\n",
       "      <td>...</td>\n",
       "      <td>...</td>\n",
       "      <td>...</td>\n",
       "      <td>...</td>\n",
       "    </tr>\n",
       "    <tr>\n",
       "      <th>1257091</th>\n",
       "      <td>Electrek.Co Tweet: Tesla's head of Europe is out</td>\n",
       "      <td>https://www.benzinga.com/news/19/07/14015998/e...</td>\n",
       "      <td>Charles Gross</td>\n",
       "      <td>2019-07-02 00:00:00-04:00</td>\n",
       "      <td>TSLA</td>\n",
       "      <td>0.000000</td>\n",
       "      <td>neutral</td>\n",
       "    </tr>\n",
       "    <tr>\n",
       "      <th>1257092</th>\n",
       "      <td>Tesla's Q2 Delivery Number Could Cause A Big Move</td>\n",
       "      <td>https://www.benzinga.com/analyst-ratings/analy...</td>\n",
       "      <td>Wayne Duggan</td>\n",
       "      <td>2019-07-01 00:00:00-04:00</td>\n",
       "      <td>TSLA</td>\n",
       "      <td>0.000000</td>\n",
       "      <td>neutral</td>\n",
       "    </tr>\n",
       "    <tr>\n",
       "      <th>1257093</th>\n",
       "      <td>'Tesla Electric Airplane? Elon Musk sees elect...</td>\n",
       "      <td>https://www.benzinga.com/news/19/07/14011389/t...</td>\n",
       "      <td>Benzinga Newsdesk</td>\n",
       "      <td>2019-07-01 00:00:00-04:00</td>\n",
       "      <td>TSLA</td>\n",
       "      <td>0.000000</td>\n",
       "      <td>neutral</td>\n",
       "    </tr>\n",
       "    <tr>\n",
       "      <th>1257094</th>\n",
       "      <td>UPDATE: JMP Reiterates Outperform, $347 Target...</td>\n",
       "      <td>https://www.benzinga.com/analyst-ratings/analy...</td>\n",
       "      <td>Benzinga_Newsdesk</td>\n",
       "      <td>2019-07-01 00:00:00-04:00</td>\n",
       "      <td>TSLA</td>\n",
       "      <td>0.003922</td>\n",
       "      <td>neutral</td>\n",
       "    </tr>\n",
       "    <tr>\n",
       "      <th>1257095</th>\n",
       "      <td>Tesla shares are trading higher after JMP Secu...</td>\n",
       "      <td>https://www.benzinga.com/markets/wiim/19/07/14...</td>\n",
       "      <td>Hal Lindon</td>\n",
       "      <td>2019-07-01 00:00:00-04:00</td>\n",
       "      <td>TSLA</td>\n",
       "      <td>0.010417</td>\n",
       "      <td>neutral</td>\n",
       "    </tr>\n",
       "  </tbody>\n",
       "</table>\n",
       "<p>6939 rows × 7 columns</p>\n",
       "</div>"
      ],
      "text/plain": [
       "                                                  headline  \\\n",
       "6680     Tech Stocks And FAANGS Strong Again To Start D...   \n",
       "6681         10 Biggest Price Target Changes For Wednesday   \n",
       "6682     Benzinga Pro's Top 5 Stocks To Watch For Wed.,...   \n",
       "6683     Deutsche Bank Maintains Buy on Apple, Raises P...   \n",
       "6684     Apple To Let Users Trade In Their Mac Computer...   \n",
       "...                                                    ...   \n",
       "1257091   Electrek.Co Tweet: Tesla's head of Europe is out   \n",
       "1257092  Tesla's Q2 Delivery Number Could Cause A Big Move   \n",
       "1257093  'Tesla Electric Airplane? Elon Musk sees elect...   \n",
       "1257094  UPDATE: JMP Reiterates Outperform, $347 Target...   \n",
       "1257095  Tesla shares are trading higher after JMP Secu...   \n",
       "\n",
       "                                                       url          publisher  \\\n",
       "6680     https://www.benzinga.com/government/20/06/1622...         JJ Kinahan   \n",
       "6681     https://www.benzinga.com/analyst-ratings/price...         Lisa Levin   \n",
       "6682     https://www.benzinga.com/short-sellers/20/06/1...  Benzinga Newsdesk   \n",
       "6683     https://www.benzinga.com/news/20/06/16219873/d...  Benzinga Newsdesk   \n",
       "6684     https://www.benzinga.com/news/20/06/16218697/a...      Neer Varshney   \n",
       "...                                                    ...                ...   \n",
       "1257091  https://www.benzinga.com/news/19/07/14015998/e...      Charles Gross   \n",
       "1257092  https://www.benzinga.com/analyst-ratings/analy...       Wayne Duggan   \n",
       "1257093  https://www.benzinga.com/news/19/07/14011389/t...  Benzinga Newsdesk   \n",
       "1257094  https://www.benzinga.com/analyst-ratings/analy...  Benzinga_Newsdesk   \n",
       "1257095  https://www.benzinga.com/markets/wiim/19/07/14...         Hal Lindon   \n",
       "\n",
       "                             date stock  Sentiment sentiment_label  \n",
       "6680    2020-06-10 11:33:26-04:00  AAPL   0.033333         neutral  \n",
       "6681    2020-06-10 08:14:08-04:00  AAPL   0.000000         neutral  \n",
       "6682    2020-06-10 07:53:47-04:00  AAPL   0.018519         neutral  \n",
       "6683    2020-06-10 07:19:25-04:00  AAPL   0.000000         neutral  \n",
       "6684    2020-06-10 06:27:11-04:00  AAPL   0.000000         neutral  \n",
       "...                           ...   ...        ...             ...  \n",
       "1257091 2019-07-02 00:00:00-04:00  TSLA   0.000000         neutral  \n",
       "1257092 2019-07-01 00:00:00-04:00  TSLA   0.000000         neutral  \n",
       "1257093 2019-07-01 00:00:00-04:00  TSLA   0.000000         neutral  \n",
       "1257094 2019-07-01 00:00:00-04:00  TSLA   0.003922         neutral  \n",
       "1257095 2019-07-01 00:00:00-04:00  TSLA   0.010417         neutral  \n",
       "\n",
       "[6939 rows x 7 columns]"
      ]
     },
     "execution_count": 19,
     "metadata": {},
     "output_type": "execute_result"
    }
   ],
   "source": [
    "analysis.calculate_sentiment(news_data)"
   ]
  },
  {
   "cell_type": "code",
   "execution_count": 20,
   "id": "d5a86512",
   "metadata": {},
   "outputs": [
    {
     "data": {
      "application/vnd.microsoft.datawrangler.viewer.v0+json": {
       "columns": [
        {
         "name": "index",
         "rawType": "object",
         "type": "string"
        },
        {
         "name": "Sentiment",
         "rawType": "float64",
         "type": "float"
        }
       ],
       "ref": "25e20282-515c-412b-b80c-22df2197cdc0",
       "rows": [
        [
         "count",
         "6939.0"
        ],
        [
         "mean",
         "0.006500440658102006"
        ],
        [
         "std",
         "0.02144373811417189"
        ],
        [
         "min",
         "-0.19999999999999998"
        ],
        [
         "25%",
         "0.0"
        ],
        [
         "50%",
         "0.0"
        ],
        [
         "75%",
         "0.009890968508615568"
        ],
        [
         "max",
         "0.2"
        ]
       ],
       "shape": {
        "columns": 1,
        "rows": 8
       }
      },
      "text/plain": [
       "count    6939.000000\n",
       "mean        0.006500\n",
       "std         0.021444\n",
       "min        -0.200000\n",
       "25%         0.000000\n",
       "50%         0.000000\n",
       "75%         0.009891\n",
       "max         0.200000\n",
       "Name: Sentiment, dtype: float64"
      ]
     },
     "execution_count": 20,
     "metadata": {},
     "output_type": "execute_result"
    }
   ],
   "source": [
    "# Describe financial news data sentiments \n",
    "news_data['Sentiment'].describe()"
   ]
  },
  {
   "cell_type": "markdown",
   "id": "f5a2f0e4",
   "metadata": {},
   "source": [
    "- The sentiment calculation result shows:\n",
    "  -  min polarity = -0.19\n",
    "  -  max polarity = 0.2"
   ]
  },
  {
   "cell_type": "code",
   "execution_count": 22,
   "id": "2c817030",
   "metadata": {},
   "outputs": [
    {
     "name": "stdout",
     "output_type": "stream",
     "text": [
      "  Sentiment  Percentage\n",
      "0   neutral   94.696642\n",
      "1  positive    4.539559\n",
      "2  negative    0.763799\n"
     ]
    },
    {
     "name": "stderr",
     "output_type": "stream",
     "text": [
      "C:\\Users\\jonep\\AppData\\Local\\Temp\\ipykernel_6188\\3055736979.py:14: FutureWarning: \n",
      "\n",
      "Passing `palette` without assigning `hue` is deprecated and will be removed in v0.14.0. Assign the `x` variable to `hue` and set `legend=False` for the same effect.\n",
      "\n",
      "  sns.barplot(data=percentage_df, x='Sentiment', y='Percentage',\n"
     ]
    },
    {
     "data": {
      "image/png": "[encoded data removed]",
      "text/plain": [
       "<Figure size 800x600 with 1 Axes>"
      ]
     },
     "metadata": {},
     "output_type": "display_data"
    }
   ],
   "source": [
    "import seaborn as sns\n",
    "import pandas as pd\n",
    "import matplotlib.pyplot as plt\n",
    "\n",
    "# Calculate percentages\n",
    "sentiment_percentages = news_data['sentiment_label'].value_counts(normalize=True) * 100\n",
    "percentage_df = pd.DataFrame({\n",
    "    'Sentiment': sentiment_percentages.index,\n",
    "    'Percentage': sentiment_percentages.values\n",
    "})\n",
    "print(percentage_df)\n",
    "# Create bar plot\n",
    "plt.figure(figsize=(8, 6))\n",
    "sns.barplot(data=percentage_df, x='Sentiment', y='Percentage',\n",
    "            palette={'positive': '#4CAF50', 'neutral': '#FFC107', 'negative': '#F44336'})\n",
    "plt.title('Percentage of Sentiment Categories')\n",
    "plt.xlabel('Sentiment')\n",
    "plt.ylabel('Percentage (%)')\n",
    "plt.grid(True)\n",
    "plt.show()"
   ]
  },
  {
   "cell_type": "markdown",
   "id": "84782f53",
   "metadata": {},
   "source": [
    "- Neutral sentiment is significantly higher than the others, indicating the overall tone of the analyzed content.\n",
    "- The remaining two sentiments are present but at notably lower percentages, suggesting minor but relevant opposing or mixed tones.\n",
    "- Balance or Skew: The proportions reveal whether the overall sentiment is balanced (e.g., neutral dominant) or skewed (e.g., strongly positive/negative)."
   ]
  },
  {
   "cell_type": "markdown",
   "id": "c06a0220",
   "metadata": {},
   "source": [
    "#### calculating daily returns of the stock price data"
   ]
  },
  {
   "cell_type": "code",
   "execution_count": 23,
   "id": "eae7cea4",
   "metadata": {},
   "outputs": [
    {
     "name": "stdout",
     "output_type": "stream",
     "text": [
      "Calculating daily stock returns...\n"
     ]
    },
    {
     "data": {
      "application/vnd.microsoft.datawrangler.viewer.v0+json": {
       "columns": [
        {
         "name": "index",
         "rawType": "int64",
         "type": "integer"
        },
        {
         "name": "date",
         "rawType": "datetime64[ns]",
         "type": "datetime"
        },
        {
         "name": "open",
         "rawType": "float64",
         "type": "float"
        },
        {
         "name": "high",
         "rawType": "float64",
         "type": "float"
        },
        {
         "name": "low",
         "rawType": "float64",
         "type": "float"
        },
        {
         "name": "close",
         "rawType": "float64",
         "type": "float"
        },
        {
         "name": "adj_close",
         "rawType": "float64",
         "type": "float"
        },
        {
         "name": "volume",
         "rawType": "int64",
         "type": "integer"
        },
        {
         "name": "dividends",
         "rawType": "float64",
         "type": "float"
        },
        {
         "name": "stock_splits",
         "rawType": "float64",
         "type": "float"
        },
        {
         "name": "ticker",
         "rawType": "object",
         "type": "string"
        },
        {
         "name": "Daily_Return",
         "rawType": "float64",
         "type": "float"
        }
       ],
       "ref": "f6073ae4-ec18-460e-ad09-6b1532926910",
       "rows": [
        [
         "0",
         "1980-12-12 00:00:00",
         "0.1283479928970337",
         "0.1289059966802597",
         "0.1283479928970337",
         "0.1283479928970337",
         "0.098943218588829",
         "469033600",
         "0.0",
         "0.0",
         "AAPL",
         null
        ],
        [
         "1",
         "1980-12-15 00:00:00",
         "0.1222100034356117",
         "0.1222100034356117",
         "0.1216519996523857",
         "0.1216519996523857",
         "0.093781292438507",
         "175884800",
         "0.0",
         "0.0",
         "AAPL",
         "-5.2170611269471205"
        ],
        [
         "2",
         "1980-12-16 00:00:00",
         "0.1132809966802597",
         "0.1132809966802597",
         "0.1127230003476142",
         "0.1127230003476142",
         "0.0868979692459106",
         "105728000",
         "0.0",
         "0.0",
         "AAPL",
         "-7.339788355543386"
        ],
        [
         "3",
         "1980-12-17 00:00:00",
         "0.1155129969120025",
         "0.1160710006952285",
         "0.1155129969120025",
         "0.1155129969120025",
         "0.089048758149147",
         "86441600",
         "0.0",
         "0.0",
         "AAPL",
         "2.475090758571463"
        ],
        [
         "4",
         "1980-12-18 00:00:00",
         "0.1188620030879974",
         "0.1194199994206428",
         "0.1188620030879974",
         "0.1188620030879974",
         "0.0916304588317871",
         "73449600",
         "0.0",
         "0.0",
         "AAPL",
         "2.8992462021794507"
        ],
        [
         "5",
         "1980-12-19 00:00:00",
         "0.1261159926652908",
         "0.1266739964485168",
         "0.1261159926652908",
         "0.1261159926652908",
         "0.0972226113080978",
         "48630400",
         "0.0",
         "0.0",
         "AAPL",
         "6.102866676344876"
        ],
        [
         "6",
         "1980-12-22 00:00:00",
         "0.1322540044784546",
         "0.1328130066394806",
         "0.1322540044784546",
         "0.1322540044784546",
         "0.1019543036818504",
         "37363200",
         "0.0",
         "0.0",
         "AAPL",
         "4.866957539202765"
        ],
        [
         "7",
         "1980-12-23 00:00:00",
         "0.1378349959850311",
         "0.1383929997682571",
         "0.1378349959850311",
         "0.1378349959850311",
         "0.10625671595335",
         "46950400",
         "0.0",
         "0.0",
         "AAPL",
         "4.219903607898479"
        ],
        [
         "8",
         "1980-12-24 00:00:00",
         "0.1450890004634857",
         "0.1456470042467117",
         "0.1450890004634857",
         "0.1450890004634857",
         "0.1118487864732742",
         "48003200",
         "0.0",
         "0.0",
         "AAPL",
         "5.262817636852102"
        ],
        [
         "9",
         "1980-12-26 00:00:00",
         "0.1584820002317428",
         "0.1590400040149688",
         "0.1584820002317428",
         "0.1584820002317428",
         "0.1221734583377838",
         "55574400",
         "0.0",
         "0.0",
         "AAPL",
         "9.23088568083954"
        ],
        [
         "10",
         "1980-12-29 00:00:00",
         "0.1607140004634857",
         "0.1612720042467117",
         "0.1607140004634857",
         "0.1607140004634857",
         "0.1238940879702568",
         "93161600",
         "0.0",
         "0.0",
         "AAPL",
         "1.4083619770567601"
        ],
        [
         "11",
         "1980-12-30 00:00:00",
         "0.1573659926652908",
         "0.1573659926652908",
         "0.156808003783226",
         "0.156808003783226",
         "0.1208830177783966",
         "68880000",
         "0.0",
         "0.0",
         "AAPL",
         "-2.430402248089847"
        ],
        [
         "12",
         "1980-12-31 00:00:00",
         "0.1529020071029663",
         "0.1529020071029663",
         "0.1523440033197403",
         "0.1523440033197403",
         "0.1174416616559028",
         "35750400",
         "0.0",
         "0.0",
         "AAPL",
         "-2.846793757834465"
        ],
        [
         "13",
         "1981-01-02 00:00:00",
         "0.1540179997682571",
         "0.1551340073347091",
         "0.1540179997682571",
         "0.1540179997682571",
         "0.118732064962387",
         "21660800",
         "0.0",
         "0.0",
         "AAPL",
         "1.098826610853476"
        ],
        [
         "14",
         "1981-01-05 00:00:00",
         "0.1512279957532882",
         "0.1512279957532882",
         "0.1506700068712234",
         "0.1506700068712234",
         "0.1161512359976768",
         "35728000",
         "0.0",
         "0.0",
         "AAPL",
         "-2.173767288285311"
        ],
        [
         "15",
         "1981-01-06 00:00:00",
         "0.1445309966802597",
         "0.1445309966802597",
         "0.1439729928970337",
         "0.1439729928970337",
         "0.1109885200858116",
         "45158400",
         "0.0",
         "0.0",
         "AAPL",
         "-4.444822239846047"
        ],
        [
         "16",
         "1981-01-07 00:00:00",
         "0.1383929997682571",
         "0.1383929997682571",
         "0.1378349959850311",
         "0.1378349959850311",
         "0.10625671595335",
         "55686400",
         "0.0",
         "0.0",
         "AAPL",
         "-4.263297434118318"
        ],
        [
         "17",
         "1981-01-08 00:00:00",
         "0.1356029957532882",
         "0.1356029957532882",
         "0.1350450068712234",
         "0.1350450068712234",
         "0.104105919599533",
         "39827200",
         "0.0",
         "0.0",
         "AAPL",
         "-2.0241514818999273"
        ],
        [
         "18",
         "1981-01-09 00:00:00",
         "0.1422989964485168",
         "0.1428570002317428",
         "0.1422989964485168",
         "0.1422989964485168",
         "0.109698012471199",
         "21504000",
         "0.0",
         "0.0",
         "AAPL",
         "5.37153482780055"
        ],
        [
         "19",
         "1981-01-12 00:00:00",
         "0.1422989964485168",
         "0.1422989964485168",
         "0.141183003783226",
         "0.141183003783226",
         "0.1088377460837364",
         "23699200",
         "0.0",
         "0.0",
         "AAPL",
         "-0.7842589850551307"
        ],
        [
         "20",
         "1981-01-13 00:00:00",
         "0.1367190033197403",
         "0.1367190033197403",
         "0.1361609995365142",
         "0.1361609995365142",
         "0.1049662083387374",
         "23049600",
         "0.0",
         "0.0",
         "AAPL",
         "-3.557088397426833"
        ],
        [
         "21",
         "1981-01-14 00:00:00",
         "0.1367190033197403",
         "0.1372770071029663",
         "0.1367190033197403",
         "0.1367190033197403",
         "0.1053964346647262",
         "14291200",
         "0.0",
         "0.0",
         "AAPL",
         "0.40981175602816666"
        ],
        [
         "22",
         "1981-01-15 00:00:00",
         "0.1395090073347091",
         "0.140625",
         "0.1395090073347091",
         "0.1395090073347091",
         "0.1075472459197044",
         "14067200",
         "0.0",
         "0.0",
         "AAPL",
         "2.0406848698596214"
        ],
        [
         "23",
         "1981-01-16 00:00:00",
         "0.1389510035514831",
         "0.1389510035514831",
         "0.1383929997682571",
         "0.1383929997682571",
         "0.1066868975758552",
         "13395200",
         "0.0",
         "0.0",
         "AAPL",
         "-0.7999537719987404"
        ],
        [
         "24",
         "1981-01-19 00:00:00",
         "0.1467629969120025",
         "0.1473210006952285",
         "0.1467629969120025",
         "0.1467629969120025",
         "0.1131392568349838",
         "41574400",
         "0.0",
         "0.0",
         "AAPL",
         "6.047991703165034"
        ],
        [
         "25",
         "1981-01-20 00:00:00",
         "0.1428570002317428",
         "0.1428570002317428",
         "0.1422989964485168",
         "0.1422989964485168",
         "0.109698012471199",
         "30083200",
         "0.0",
         "0.0",
         "AAPL",
         "-3.041638939931357"
        ],
        [
         "26",
         "1981-01-21 00:00:00",
         "0.1450890004634857",
         "0.1462049931287765",
         "0.1450890004634857",
         "0.1450890004634857",
         "0.1118487864732742",
         "15904000",
         "0.0",
         "0.0",
         "AAPL",
         "1.9606631702271393"
        ],
        [
         "27",
         "1981-01-22 00:00:00",
         "0.1467629969120025",
         "0.1478790044784546",
         "0.1467629969120025",
         "0.1467629969120025",
         "0.1131392568349838",
         "35548800",
         "0.0",
         "0.0",
         "AAPL",
         "1.15377212825869"
        ],
        [
         "28",
         "1981-01-23 00:00:00",
         "0.1467629969120025",
         "0.1473210006952285",
         "0.1462049931287765",
         "0.1462049931287765",
         "0.1127091348171234",
         "11222400",
         "0.0",
         "0.0",
         "AAPL",
         "-0.38020740579493006"
        ],
        [
         "29",
         "1981-01-26 00:00:00",
         "0.1445309966802597",
         "0.1445309966802597",
         "0.1439729928970337",
         "0.1439729928970337",
         "0.1109885200858116",
         "24640000",
         "0.0",
         "0.0",
         "AAPL",
         "-1.5266238067374815"
        ],
        [
         "30",
         "1981-01-27 00:00:00",
         "0.1439729928970337",
         "0.1439729928970337",
         "0.1428570002317428",
         "0.1428570002317428",
         "0.1101282015442848",
         "23699200",
         "0.0",
         "0.0",
         "AAPL",
         "-0.7751402834898502"
        ],
        [
         "31",
         "1981-01-28 00:00:00",
         "0.1389510035514831",
         "0.1389510035514831",
         "0.1383929997682571",
         "0.1383929997682571",
         "0.1066868975758552",
         "28156800",
         "0.0",
         "0.0",
         "AAPL",
         "-3.1248034441743733"
        ],
        [
         "32",
         "1981-01-29 00:00:00",
         "0.1339289993047714",
         "0.1339289993047714",
         "0.1333709955215454",
         "0.1333709955215454",
         "0.1028154343366622",
         "43904000",
         "0.0",
         "0.0",
         "AAPL",
         "-3.628799328810839"
        ],
        [
         "33",
         "1981-01-30 00:00:00",
         "0.1272320002317428",
         "0.1272320002317428",
         "0.1261159926652908",
         "0.1261159926652908",
         "0.0972226113080978",
         "46188800",
         "0.0",
         "0.0",
         "AAPL",
         "-5.439715605243867"
        ],
        [
         "34",
         "1981-02-02 00:00:00",
         "0.1194199994206428",
         "0.1194199994206428",
         "0.1188620030879974",
         "0.1188620030879974",
         "0.0916304588317871",
         "23766400",
         "0.0",
         "0.0",
         "AAPL",
         "-5.751839575608264"
        ],
        [
         "35",
         "1981-02-03 00:00:00",
         "0.1233260035514831",
         "0.1238839998841285",
         "0.1233260035514831",
         "0.1233260035514831",
         "0.0950717777013778",
         "19152000",
         "0.0",
         "0.0",
         "AAPL",
         "3.7556160484531365"
        ],
        [
         "36",
         "1981-02-04 00:00:00",
         "0.1277900040149688",
         "0.1283479928970337",
         "0.1277900040149688",
         "0.1277900040149688",
         "0.0985130742192268",
         "27865600",
         "0.0",
         "0.0",
         "AAPL",
         "3.6196749549434415"
        ],
        [
         "37",
         "1981-02-05 00:00:00",
         "0.1277900040149688",
         "0.1289059966802597",
         "0.1277900040149688",
         "0.1277900040149688",
         "0.0985130742192268",
         "7929600",
         "0.0",
         "0.0",
         "AAPL",
         "0.0"
        ],
        [
         "38",
         "1981-02-06 00:00:00",
         "0.1283479928970337",
         "0.1289059966802597",
         "0.1283479928970337",
         "0.1283479928970337",
         "0.098943218588829",
         "13865600",
         "0.0",
         "0.0",
         "AAPL",
         "0.43664517140131753"
        ],
        [
         "39",
         "1981-02-09 00:00:00",
         "0.1227679997682571",
         "0.1227679997682571",
         "0.1216519996523857",
         "0.1216519996523857",
         "0.093781292438507",
         "16755200",
         "0.0",
         "0.0",
         "AAPL",
         "-5.2170611269471205"
        ],
        [
         "40",
         "1981-02-10 00:00:00",
         "0.1216519996523857",
         "0.1222100034356117",
         "0.1216519996523857",
         "0.1216519996523857",
         "0.093781292438507",
         "18345600",
         "0.0",
         "0.0",
         "AAPL",
         "0.0"
        ],
        [
         "41",
         "1981-02-11 00:00:00",
         "0.1183039993047714",
         "0.1183039993047714",
         "0.117746002972126",
         "0.117746002972126",
         "0.0907701626420021",
         "13843200",
         "0.0",
         "0.0",
         "AAPL",
         "-3.210795294299218"
        ],
        [
         "42",
         "1981-02-12 00:00:00",
         "0.1171879991889",
         "0.1171879991889",
         "0.1166289970278739",
         "0.1166289970278739",
         "0.0899090468883514",
         "14560000",
         "0.0",
         "0.0",
         "AAPL",
         "-0.9486572079364097"
        ],
        [
         "43",
         "1981-02-13 00:00:00",
         "0.1149550005793571",
         "0.1149550005793571",
         "0.1138390004634857",
         "0.1138390004634857",
         "0.0877582728862762",
         "11155200",
         "0.0",
         "0.0",
         "AAPL",
         "-2.3921980257803233"
        ],
        [
         "44",
         "1981-02-17 00:00:00",
         "0.1166289970278739",
         "0.1171879991889",
         "0.1166289970278739",
         "0.1166289970278739",
         "0.0899090468883514",
         "12275200",
         "0.0",
         "0.0",
         "AAPL",
         "2.450826652578608"
        ],
        [
         "45",
         "1981-02-18 00:00:00",
         "0.1216519996523857",
         "0.1227679997682571",
         "0.1216519996523857",
         "0.1216519996523857",
         "0.093781292438507",
         "19241600",
         "0.0",
         "0.0",
         "AAPL",
         "4.306821418786044"
        ],
        [
         "46",
         "1981-02-19 00:00:00",
         "0.1149550005793571",
         "0.1149550005793571",
         "0.1143969967961311",
         "0.1143969967961311",
         "0.0881884023547172",
         "22310400",
         "0.0",
         "0.0",
         "AAPL",
         "-5.963734979273161"
        ],
        [
         "47",
         "1981-02-20 00:00:00",
         "0.1088170036673545",
         "0.1088170036673545",
         "0.1082589998841285",
         "0.1082589998841285",
         "0.0834566429257392",
         "24371200",
         "0.0",
         "0.0",
         "AAPL",
         "-5.365522770620668"
        ],
        [
         "48",
         "1981-02-23 00:00:00",
         "0.1099329963326454",
         "0.1104910001158714",
         "0.1099329963326454",
         "0.1099329963326454",
         "0.0847471207380294",
         "14112000",
         "0.0",
         "0.0",
         "AAPL",
         "1.5462884843833846"
        ],
        [
         "49",
         "1981-02-24 00:00:00",
         "0.1071429997682571",
         "0.1071429997682571",
         "0.1060269996523857",
         "0.1060269996523857",
         "0.0817359760403633",
         "16979200",
         "0.0",
         "0.0",
         "AAPL",
         "-3.5530703342612213"
        ]
       ],
       "shape": {
        "columns": 11,
        "rows": 45428
       }
      },
      "text/html": [
       "<div>\n",
       "<style scoped>\n",
       "    .dataframe tbody tr th:only-of-type {\n",
       "        vertical-align: middle;\n",
       "    }\n",
       "\n",
       "    .dataframe tbody tr th {\n",
       "        vertical-align: top;\n",
       "    }\n",
       "\n",
       "    .dataframe thead th {\n",
       "        text-align: right;\n",
       "    }\n",
       "</style>\n",
       "<table border=\"1\" class=\"dataframe\">\n",
       "  <thead>\n",
       "    <tr style=\"text-align: right;\">\n",
       "      <th></th>\n",
       "      <th>date</th>\n",
       "      <th>open</th>\n",
       "      <th>high</th>\n",
       "      <th>low</th>\n",
       "      <th>close</th>\n",
       "      <th>adj_close</th>\n",
       "      <th>volume</th>\n",
       "      <th>dividends</th>\n",
       "      <th>stock_splits</th>\n",
       "      <th>ticker</th>\n",
       "      <th>Daily_Return</th>\n",
       "    </tr>\n",
       "  </thead>\n",
       "  <tbody>\n",
       "    <tr>\n",
       "      <th>0</th>\n",
       "      <td>1980-12-12</td>\n",
       "      <td>0.128348</td>\n",
       "      <td>0.128906</td>\n",
       "      <td>0.128348</td>\n",
       "      <td>0.128348</td>\n",
       "      <td>0.098943</td>\n",
       "      <td>469033600</td>\n",
       "      <td>0.0</td>\n",
       "      <td>0.0</td>\n",
       "      <td>AAPL</td>\n",
       "      <td>NaN</td>\n",
       "    </tr>\n",
       "    <tr>\n",
       "      <th>1</th>\n",
       "      <td>1980-12-15</td>\n",
       "      <td>0.122210</td>\n",
       "      <td>0.122210</td>\n",
       "      <td>0.121652</td>\n",
       "      <td>0.121652</td>\n",
       "      <td>0.093781</td>\n",
       "      <td>175884800</td>\n",
       "      <td>0.0</td>\n",
       "      <td>0.0</td>\n",
       "      <td>AAPL</td>\n",
       "      <td>-5.217061</td>\n",
       "    </tr>\n",
       "    <tr>\n",
       "      <th>2</th>\n",
       "      <td>1980-12-16</td>\n",
       "      <td>0.113281</td>\n",
       "      <td>0.113281</td>\n",
       "      <td>0.112723</td>\n",
       "      <td>0.112723</td>\n",
       "      <td>0.086898</td>\n",
       "      <td>105728000</td>\n",
       "      <td>0.0</td>\n",
       "      <td>0.0</td>\n",
       "      <td>AAPL</td>\n",
       "      <td>-7.339788</td>\n",
       "    </tr>\n",
       "    <tr>\n",
       "      <th>3</th>\n",
       "      <td>1980-12-17</td>\n",
       "      <td>0.115513</td>\n",
       "      <td>0.116071</td>\n",
       "      <td>0.115513</td>\n",
       "      <td>0.115513</td>\n",
       "      <td>0.089049</td>\n",
       "      <td>86441600</td>\n",
       "      <td>0.0</td>\n",
       "      <td>0.0</td>\n",
       "      <td>AAPL</td>\n",
       "      <td>2.475091</td>\n",
       "    </tr>\n",
       "    <tr>\n",
       "      <th>4</th>\n",
       "      <td>1980-12-18</td>\n",
       "      <td>0.118862</td>\n",
       "      <td>0.119420</td>\n",
       "      <td>0.118862</td>\n",
       "      <td>0.118862</td>\n",
       "      <td>0.091630</td>\n",
       "      <td>73449600</td>\n",
       "      <td>0.0</td>\n",
       "      <td>0.0</td>\n",
       "      <td>AAPL</td>\n",
       "      <td>2.899246</td>\n",
       "    </tr>\n",
       "    <tr>\n",
       "      <th>...</th>\n",
       "      <td>...</td>\n",
       "      <td>...</td>\n",
       "      <td>...</td>\n",
       "      <td>...</td>\n",
       "      <td>...</td>\n",
       "      <td>...</td>\n",
       "      <td>...</td>\n",
       "      <td>...</td>\n",
       "      <td>...</td>\n",
       "      <td>...</td>\n",
       "      <td>...</td>\n",
       "    </tr>\n",
       "    <tr>\n",
       "      <th>45423</th>\n",
       "      <td>2024-07-24</td>\n",
       "      <td>225.419998</td>\n",
       "      <td>225.990005</td>\n",
       "      <td>214.710007</td>\n",
       "      <td>215.990005</td>\n",
       "      <td>215.990005</td>\n",
       "      <td>167942900</td>\n",
       "      <td>0.0</td>\n",
       "      <td>0.0</td>\n",
       "      <td>TSLA</td>\n",
       "      <td>-12.334605</td>\n",
       "    </tr>\n",
       "    <tr>\n",
       "      <th>45424</th>\n",
       "      <td>2024-07-25</td>\n",
       "      <td>216.800003</td>\n",
       "      <td>226.000000</td>\n",
       "      <td>216.229996</td>\n",
       "      <td>220.250000</td>\n",
       "      <td>220.250000</td>\n",
       "      <td>100636500</td>\n",
       "      <td>0.0</td>\n",
       "      <td>0.0</td>\n",
       "      <td>TSLA</td>\n",
       "      <td>1.972311</td>\n",
       "    </tr>\n",
       "    <tr>\n",
       "      <th>45425</th>\n",
       "      <td>2024-07-26</td>\n",
       "      <td>221.190002</td>\n",
       "      <td>222.279999</td>\n",
       "      <td>215.330002</td>\n",
       "      <td>219.800003</td>\n",
       "      <td>219.800003</td>\n",
       "      <td>94604100</td>\n",
       "      <td>0.0</td>\n",
       "      <td>0.0</td>\n",
       "      <td>TSLA</td>\n",
       "      <td>-0.204312</td>\n",
       "    </tr>\n",
       "    <tr>\n",
       "      <th>45426</th>\n",
       "      <td>2024-07-29</td>\n",
       "      <td>224.899994</td>\n",
       "      <td>234.270004</td>\n",
       "      <td>224.699997</td>\n",
       "      <td>232.100006</td>\n",
       "      <td>232.100006</td>\n",
       "      <td>129201800</td>\n",
       "      <td>0.0</td>\n",
       "      <td>0.0</td>\n",
       "      <td>TSLA</td>\n",
       "      <td>5.595998</td>\n",
       "    </tr>\n",
       "    <tr>\n",
       "      <th>45427</th>\n",
       "      <td>2024-07-30</td>\n",
       "      <td>232.250000</td>\n",
       "      <td>232.410004</td>\n",
       "      <td>220.000000</td>\n",
       "      <td>222.619995</td>\n",
       "      <td>222.619995</td>\n",
       "      <td>100560300</td>\n",
       "      <td>0.0</td>\n",
       "      <td>0.0</td>\n",
       "      <td>TSLA</td>\n",
       "      <td>-4.084451</td>\n",
       "    </tr>\n",
       "  </tbody>\n",
       "</table>\n",
       "<p>45428 rows × 11 columns</p>\n",
       "</div>"
      ],
      "text/plain": [
       "            date        open        high         low       close   adj_close  \\\n",
       "0     1980-12-12    0.128348    0.128906    0.128348    0.128348    0.098943   \n",
       "1     1980-12-15    0.122210    0.122210    0.121652    0.121652    0.093781   \n",
       "2     1980-12-16    0.113281    0.113281    0.112723    0.112723    0.086898   \n",
       "3     1980-12-17    0.115513    0.116071    0.115513    0.115513    0.089049   \n",
       "4     1980-12-18    0.118862    0.119420    0.118862    0.118862    0.091630   \n",
       "...          ...         ...         ...         ...         ...         ...   \n",
       "45423 2024-07-24  225.419998  225.990005  214.710007  215.990005  215.990005   \n",
       "45424 2024-07-25  216.800003  226.000000  216.229996  220.250000  220.250000   \n",
       "45425 2024-07-26  221.190002  222.279999  215.330002  219.800003  219.800003   \n",
       "45426 2024-07-29  224.899994  234.270004  224.699997  232.100006  232.100006   \n",
       "45427 2024-07-30  232.250000  232.410004  220.000000  222.619995  222.619995   \n",
       "\n",
       "          volume  dividends  stock_splits ticker  Daily_Return  \n",
       "0      469033600        0.0           0.0   AAPL           NaN  \n",
       "1      175884800        0.0           0.0   AAPL     -5.217061  \n",
       "2      105728000        0.0           0.0   AAPL     -7.339788  \n",
       "3       86441600        0.0           0.0   AAPL      2.475091  \n",
       "4       73449600        0.0           0.0   AAPL      2.899246  \n",
       "...          ...        ...           ...    ...           ...  \n",
       "45423  167942900        0.0           0.0   TSLA    -12.334605  \n",
       "45424  100636500        0.0           0.0   TSLA      1.972311  \n",
       "45425   94604100        0.0           0.0   TSLA     -0.204312  \n",
       "45426  129201800        0.0           0.0   TSLA      5.595998  \n",
       "45427  100560300        0.0           0.0   TSLA     -4.084451  \n",
       "\n",
       "[45428 rows x 11 columns]"
      ]
     },
     "execution_count": 23,
     "metadata": {},
     "output_type": "execute_result"
    }
   ],
   "source": [
    "# calculate daily return on close features of stock data\n",
    "analysis.calculate_daily_returns(stock_data)"
   ]
  },
  {
   "cell_type": "code",
   "execution_count": 25,
   "id": "a3ed55f1",
   "metadata": {},
   "outputs": [
    {
     "data": {
      "text/plain": [
       "Text(0, 0.5, 'Cumulative Return (%)')"
      ]
     },
     "execution_count": 25,
     "metadata": {},
     "output_type": "execute_result"
    },
    {
     "data": {
      "image/png": "[encoded data removed]",
      "text/plain": [
       "<Figure size 640x480 with 1 Axes>"
      ]
     },
     "metadata": {},
     "output_type": "display_data"
    }
   ],
   "source": [
    "stock_data['Cumulative_Return'] = (1 + stock_data['Daily_Return']/100).cumprod() - 1\n",
    "plt.plot(stock_data.index, stock_data['Cumulative_Return'] * 100, color='purple')\n",
    "plt.title('Cumulative Returns Over Time')\n",
    "plt.ylabel('Cumulative Return (%)')"
   ]
  },
  {
   "cell_type": "markdown",
   "id": "257a3dc7",
   "metadata": {},
   "source": [
    "The cumulative return reaches, indicating an extremely high return over time. This suggests the investment (e.g., stock, fund) outperformed the market by a massive margin, possibly due to compounding or a long-term bull run."
   ]
  },
  {
   "cell_type": "markdown",
   "id": "d2b4035b",
   "metadata": {},
   "source": [
    "#### Aligning financial news data with stock price data using date "
   ]
  },
  {
   "cell_type": "code",
   "execution_count": 26,
   "id": "ad67121b",
   "metadata": {},
   "outputs": [
    {
     "name": "stdout",
     "output_type": "stream",
     "text": [
      "Aligning datasets by date...\n"
     ]
    },
    {
     "data": {
      "application/vnd.microsoft.datawrangler.viewer.v0+json": {
       "columns": [
        {
         "name": "index",
         "rawType": "int64",
         "type": "integer"
        },
        {
         "name": "date",
         "rawType": "object",
         "type": "unknown"
        },
        {
         "name": "open",
         "rawType": "float64",
         "type": "float"
        },
        {
         "name": "high",
         "rawType": "float64",
         "type": "float"
        },
        {
         "name": "low",
         "rawType": "float64",
         "type": "float"
        },
        {
         "name": "close",
         "rawType": "float64",
         "type": "float"
        },
        {
         "name": "adj_close",
         "rawType": "float64",
         "type": "float"
        },
        {
         "name": "volume",
         "rawType": "int64",
         "type": "integer"
        },
        {
         "name": "dividends",
         "rawType": "float64",
         "type": "float"
        },
        {
         "name": "stock_splits",
         "rawType": "float64",
         "type": "float"
        },
        {
         "name": "ticker",
         "rawType": "object",
         "type": "string"
        },
        {
         "name": "Daily_Return",
         "rawType": "float64",
         "type": "float"
        },
        {
         "name": "Cumulative_Return",
         "rawType": "float64",
         "type": "float"
        },
        {
         "name": "headline",
         "rawType": "object",
         "type": "string"
        },
        {
         "name": "url",
         "rawType": "object",
         "type": "string"
        },
        {
         "name": "publisher",
         "rawType": "object",
         "type": "string"
        },
        {
         "name": "stock",
         "rawType": "object",
         "type": "string"
        },
        {
         "name": "Sentiment",
         "rawType": "float64",
         "type": "float"
        },
        {
         "name": "sentiment_label",
         "rawType": "object",
         "type": "string"
        }
       ],
       "ref": "36a65b5e-e810-4492-acad-eb124a1a8d9a",
       "rows": [
        [
         "0",
         "2011-03-03",
         "12.756786346435549",
         "12.849642753601074",
         "12.71142864227295",
         "12.841428756713867",
         "10.84426498413086",
         "500788400",
         "0.0",
         "0.0",
         "AAPL",
         "2.11291894069372",
         "99.05165228423772",
         "Nvidia Goes Negative (NVDA)",
         "https://www.benzinga.com/market-update/11/03/900749/nvidia-goes-negative-nvda",
         "Scott Rubin",
         "NVDA",
         "-0.049999999999999996",
         "neutral"
        ],
        [
         "1",
         "2011-03-07",
         "12.907142639160156",
         "12.916786193847656",
         "12.546786308288574",
         "12.691429138183594",
         "10.717597007751465",
         "546123200",
         "0.0",
         "0.0",
         "AAPL",
         "-1.2888886647165698",
         "97.88295758832136",
         "Goldman Sachs Gives Color On Semiconductors (NVDA, NSM, TXN)",
         "https://www.benzinga.com/analyst-ratings/analyst-color/11/03/906934/goldman-sachs-gives-color-on-semiconductors-nvda-nsm-txn",
         "Benzinga Staff",
         "NVDA",
         "0.0",
         "neutral"
        ],
        [
         "2",
         "2011-03-07",
         "12.907142639160156",
         "12.916786193847656",
         "12.546786308288574",
         "12.691429138183594",
         "10.717597007751465",
         "546123200",
         "0.0",
         "0.0",
         "AAPL",
         "-1.2888886647165698",
         "97.88295758832136",
         "Auriga Still Not Sure Where Reality Lies For NVidia",
         "https://www.benzinga.com/analyst-ratings/analyst-color/11/03/906604/auriga-still-not-sure-where-reality-lies-for-nvidia",
         "BenzingaStaffB",
         "NVDA",
         "0.05555555555555555",
         "positive"
        ],
        [
         "3",
         "2011-03-08",
         "12.6753568649292",
         "12.764286041259766",
         "12.58035659790039",
         "12.705714225769045",
         "10.729662895202637",
         "356316800",
         "0.0",
         "0.0",
         "AAPL",
         "0.11255696604310916",
         "97.99425724531648",
         "JPM Says \"Our Bearish View on the Company's Execution Proved Wrong\" (NVDA)",
         "https://www.benzinga.com/analyst-ratings/analyst-color/11/03/910710/jpm-says-our-bearish-view-on-the-companys-execution-prove",
         "Benzinga Staff",
         "NVDA",
         "-0.027777777777777776",
         "neutral"
        ],
        [
         "4",
         "2011-03-08",
         "12.6753568649292",
         "12.764286041259766",
         "12.58035659790039",
         "12.705714225769045",
         "10.729662895202637",
         "356316800",
         "0.0",
         "0.0",
         "AAPL",
         "0.11255696604310916",
         "97.99425724531648",
         "Benzinga's Top Upgrades (NVDA, ANF, MIPS, WFT)",
         "https://www.benzinga.com/analyst-ratings/upgrades/11/03/910335/benzingas-top-upgrades-nvda-anf-mips-wft",
         "Lisa Levin",
         "NVDA",
         "0.03571428571428571",
         "neutral"
        ],
        [
         "5",
         "2011-03-08",
         "12.6753568649292",
         "12.764286041259766",
         "12.58035659790039",
         "12.705714225769045",
         "10.729662895202637",
         "356316800",
         "0.0",
         "0.0",
         "AAPL",
         "0.11255696604310916",
         "97.99425724531648",
         "J.P. Morgan Upgrades NVIDIA Corporation To Neutral (NVDA)",
         "https://www.benzinga.com/analyst-ratings/analyst-color/11/03/910196/j-p-morgan-upgrades-nvidia-corporation-to-neutral-nvda",
         "Mark Page",
         "NVDA",
         "0.0",
         "neutral"
        ],
        [
         "6",
         "2011-03-08",
         "12.6753568649292",
         "12.764286041259766",
         "12.58035659790039",
         "12.705714225769045",
         "10.729662895202637",
         "356316800",
         "0.0",
         "0.0",
         "AAPL",
         "0.11255696604310916",
         "97.99425724531648",
         "JP Morgan Upgrades NVIDIA To Neutral, $21 PT",
         "https://www.benzinga.com/analyst-ratings/upgrades/11/03/910053/jp-morgan-upgrades-nvidia-to-neutral-21-pt",
         "Joe Young",
         "NVDA",
         "0.0",
         "neutral"
        ],
        [
         "7",
         "2011-03-09",
         "12.667499542236328",
         "12.670000076293944",
         "12.521429061889648",
         "12.588213920593262",
         "10.630434036254885",
         "453306000",
         "0.0",
         "0.0",
         "AAPL",
         "-0.92478315730945",
         "97.0787750276082",
         "FBR Capital Maintains Market Perform Rating, $22 PT On NVDA",
         "https://www.benzinga.com/analyst-ratings/11/03/914012/fbr-capital-maintains-market-perform-rating-22-pt-on-nvda",
         "BenzingaStaffL",
         "NVDA",
         "0.0",
         "neutral"
        ],
        [
         "8",
         "2011-03-09",
         "12.667499542236328",
         "12.670000076293944",
         "12.521429061889648",
         "12.588213920593262",
         "10.630434036254885",
         "453306000",
         "0.0",
         "0.0",
         "AAPL",
         "-0.92478315730945",
         "97.0787750276082",
         "Deutsche Bank Retains NVIDIA Hold, $20 PT (NVDA)",
         "https://www.benzinga.com/analyst-ratings/analyst-color/11/03/913913/deutsche-bank-retains-nvidia-hold-20-pt-nvda",
         "Benzinga Staff",
         "NVDA",
         "0.0",
         "neutral"
        ],
        [
         "9",
         "2011-03-09",
         "12.667499542236328",
         "12.670000076293944",
         "12.521429061889648",
         "12.588213920593262",
         "10.630434036254885",
         "453306000",
         "0.0",
         "0.0",
         "AAPL",
         "-0.92478315730945",
         "97.0787750276082",
         "J.P. Morgan Neutral On NVIDIA Corporation (NVDA)",
         "https://www.benzinga.com/analyst-ratings/analyst-color/11/03/913496/j-p-morgan-neutral-on-nvidia-corporation-nvda",
         "Jonathan Chen",
         "NVDA",
         "0.0",
         "neutral"
        ],
        [
         "10",
         "2011-03-10",
         "12.468570709228516",
         "12.491786003112791",
         "12.317856788635254",
         "12.381071090698242",
         "10.455507278442385",
         "507539200",
         "0.0",
         "0.0",
         "AAPL",
         "-1.6455299473116747",
         "95.46485941257247",
         "Benzinga's Top ETF Decliners, March 10th (ERX, EDC, URTY, SOXL)",
         "https://www.benzinga.com/etfs/emerging-market-etfs/11/03/918757/benzingas-top-etf-decliners-march-10th-erx-edc-urty-soxl",
         "Craig Jones",
         "NVDA",
         "0.027777777777777776",
         "neutral"
        ],
        [
         "11",
         "2011-03-10",
         "12.468570709228516",
         "12.491786003112791",
         "12.317856788635254",
         "12.381071090698242",
         "10.455507278442385",
         "507539200",
         "0.0",
         "0.0",
         "AAPL",
         "-1.6455299473116747",
         "95.46485941257247",
         "Benzinga's Top ETF Gainers, March 10th (ERY, EDZ, TZA, SOXS)",
         "https://www.benzinga.com/etfs/emerging-market-etfs/11/03/918746/benzingas-top-etf-gainers-march-10th-ery-edz-tza-soxs",
         "Craig Jones",
         "NVDA",
         "0.027777777777777776",
         "neutral"
        ],
        [
         "12",
         "2011-03-15",
         "12.217857360839844",
         "12.422857284545898",
         "12.146429061889648",
         "12.336786270141602",
         "10.418110847473145",
         "721081200",
         "0.0",
         "0.0",
         "AAPL",
         "-2.2994642430557266",
         "95.11982230247001",
         "NVIDIA Announces Resignation of CFO David White",
         "https://www.benzinga.com/news/11/03/928275/nvidia-announces-resignation-of-cfo-david-white",
         "Benzinga Staff",
         "NVDA",
         "0.0",
         "neutral"
        ],
        [
         "13",
         "2011-03-15",
         "12.217857360839844",
         "12.422857284545898",
         "12.146429061889648",
         "12.336786270141602",
         "10.418110847473145",
         "721081200",
         "0.0",
         "0.0",
         "AAPL",
         "-2.2994642430557266",
         "95.11982230247001",
         "Wells Fargo Initiates NVIDIA at Market Perform (NVDA)",
         "https://www.benzinga.com/analyst-ratings/analyst-color/11/03/926949/wells-fargo-initiates-nvidia-at-market-perform-nvda",
         "BenzingaStaffJ",
         "NVDA",
         "0.0",
         "neutral"
        ],
        [
         "14",
         "2011-03-15",
         "12.217857360839844",
         "12.422857284545898",
         "12.146429061889648",
         "12.336786270141602",
         "10.418110847473145",
         "721081200",
         "0.0",
         "0.0",
         "AAPL",
         "-2.2994642430557266",
         "95.11982230247001",
         "Mad Money Lightning Round: Cramer Likes Salesforce.com (NVDA, CLNE, RF, HBAN, C, NXPI, XLNX, QCOM, SWKS, NKE, CRM)",
         "https://www.benzinga.com/media/cnbc/11/03/925406/mad-money-lightning-round-cramer-likes-salesforce-com-nvda-clne-rf-hban-c-nx",
         "Monica Gerson",
         "NVDA",
         "-0.024999999999999998",
         "neutral"
        ],
        [
         "15",
         "2011-03-16",
         "12.214285850524902",
         "12.25",
         "11.652142524719238",
         "11.786070823669434",
         "9.953043937683104",
         "1162011200",
         "0.0",
         "0.0",
         "AAPL",
         "-4.464010597355084",
         "90.82902324872887",
         "Oppenheimer Comments On Intel & NVIDIA Following CFO Resignation",
         "https://www.benzinga.com/analyst-ratings/analyst-color/11/03/929405/oppenheimer-comments-on-intel-nvidia-following-cfo-resign",
         "Benzinga Staff",
         "NVDA",
         "0.0",
         "neutral"
        ],
        [
         "16",
         "2011-03-16",
         "12.214285850524902",
         "12.25",
         "11.652142524719238",
         "11.786070823669434",
         "9.953043937683104",
         "1162011200",
         "0.0",
         "0.0",
         "AAPL",
         "-4.464010597355084",
         "90.82902324872887",
         "US Stock Futures Down, Economic Data In Focus; Japan's Nikkei Ends 5.7% Higher",
         "https://www.benzinga.com/news/11/03/929331/us-stock-futures-down-economic-data-in-focus-japans-nikkei-ends-5-7-higher",
         "Monica Gerson",
         "NVDA",
         "0.014722222222222223",
         "neutral"
        ],
        [
         "17",
         "2011-03-16",
         "12.214285850524902",
         "12.25",
         "11.652142524719238",
         "11.786070823669434",
         "9.953043937683104",
         "1162011200",
         "0.0",
         "0.0",
         "AAPL",
         "-4.464010597355084",
         "90.82902324872887",
         "Stocks To Watch For March 16 (PSUN, GES, RMBS, VRA, NVDA)",
         "https://www.benzinga.com/news/11/03/928809/stocks-to-watch-for-march-16-psun-ges-rmbs-vra-nvda",
         "Monica Gerson",
         "NVDA",
         "0.0",
         "neutral"
        ],
        [
         "18",
         "2011-03-22",
         "12.234286308288574",
         "12.23642921447754",
         "12.112142562866213",
         "12.185713768005373",
         "10.290534973144531",
         "325922800",
         "0.0",
         "0.0",
         "AAPL",
         "0.559973506460576",
         "93.94276842943107",
         "Benzinga's Top ETF Decliners, March 22nd (EGPT, DTO, SOXL, DRN)",
         "https://www.benzinga.com/etfs/emerging-market-etfs/11/03/944516/benzingas-top-etf-decliners-march-22nd-egpt-dto-soxl-drn",
         "Craig Jones",
         "NVDA",
         "0.027777777777777776",
         "neutral"
        ],
        [
         "19",
         "2011-03-24",
         "12.208929061889648",
         "12.35714340209961",
         "12.102143287658691",
         "12.320357322692873",
         "10.40423583984375",
         "404712000",
         "0.0",
         "0.0",
         "AAPL",
         "1.7040592802527232",
         "94.99181915198905",
         "Benzinga's Top ETF Decliners, March 24th (SOXS, TVIX, SQQQ, SPXU)",
         "https://www.benzinga.com/etfs/broad-u-s-equity-etfs/11/03/951243/benzingas-top-etf-decliners-march-24th-soxs-tvix-sqqq-spxu",
         "Craig Jones",
         "NVDA",
         "0.027777777777777776",
         "neutral"
        ],
        [
         "20",
         "2011-03-24",
         "12.208929061889648",
         "12.35714340209961",
         "12.102143287658691",
         "12.320357322692873",
         "10.40423583984375",
         "404712000",
         "0.0",
         "0.0",
         "AAPL",
         "1.7040592802527232",
         "94.99181915198905",
         "Benzinga's Top ETF Gainers, March 24th (SOXL, TQQQ, DAG, EGPT)",
         "https://www.benzinga.com/etfs/commodity-etfs/11/03/951234/benzingas-top-etf-gainers-march-24th-soxl-tqqq-dag-egpt",
         "Craig Jones",
         "NVDA",
         "0.027777777777777776",
         "neutral"
        ],
        [
         "21",
         "2011-03-24",
         "12.208929061889648",
         "12.35714340209961",
         "12.102143287658691",
         "12.320357322692873",
         "10.40423583984375",
         "404712000",
         "0.0",
         "0.0",
         "AAPL",
         "1.7040592802527232",
         "94.99181915198905",
         "NASDAQ Movers (NVDA, JDSU, MU)",
         "https://www.benzinga.com/tech/11/03/950333/nasdaq-movers-nvda-jdsu-mu",
         "Scott Rubin",
         "NVDA",
         "0.0",
         "neutral"
        ],
        [
         "22",
         "2011-03-28",
         "12.612500190734863",
         "12.65428638458252",
         "12.515713691711426",
         "12.515713691711426",
         "10.569210052490234",
         "309355200",
         "0.0",
         "0.0",
         "AAPL",
         "-0.31291606937005056",
         "96.51390270475075",
         "Bottom May Be In For Nvidia (NVDA)",
         "https://www.benzinga.com/trading-ideas/long-ideas/11/03/957127/bottom-may-be-in-for-nvidia-nvda",
         "Scott Rubin",
         "NVDA",
         "0.0",
         "neutral"
        ],
        [
         "23",
         "2011-03-28",
         "12.612500190734863",
         "12.65428638458252",
         "12.515713691711426",
         "12.515713691711426",
         "10.569210052490234",
         "309355200",
         "0.0",
         "0.0",
         "AAPL",
         "-0.31291606937005056",
         "96.51390270475075",
         "Benzinga's Top Upgrades (NOK, ILMN, NVDA, T)",
         "https://www.benzinga.com/analyst-ratings/upgrades/11/03/955829/benzingas-top-upgrades-nok-ilmn-nvda-t",
         "Lisa Levin",
         "NVDA",
         "0.03571428571428571",
         "neutral"
        ],
        [
         "24",
         "2011-03-28",
         "12.612500190734863",
         "12.65428638458252",
         "12.515713691711426",
         "12.515713691711426",
         "10.569210052490234",
         "309355200",
         "0.0",
         "0.0",
         "AAPL",
         "-0.31291606937005056",
         "96.51390270475075",
         "Benzinga's Top Pre-Market NASDAQ Gainers (JASO, NVDA, FFIV, CSIQ)",
         "https://www.benzinga.com/news/11/03/955797/benzingas-top-pre-market-nasdaq-gainers-jaso-nvda-ffiv-csiq",
         "Lisa Levin",
         "NVDA",
         "0.027777777777777776",
         "neutral"
        ],
        [
         "25",
         "2011-03-28",
         "12.612500190734863",
         "12.65428638458252",
         "12.515713691711426",
         "12.515713691711426",
         "10.569210052490234",
         "309355200",
         "0.0",
         "0.0",
         "AAPL",
         "-0.31291606937005056",
         "96.51390270475075",
         "JMP Securities Upgrades NVDA To Outperform",
         "https://www.benzinga.com/analyst-ratings/upgrades/11/03/955412/jmp-securities-upgrades-nvda-to-outperform",
         "Lisa Levin",
         "NVDA",
         "0.0",
         "neutral"
        ],
        [
         "26",
         "2011-03-29",
         "12.416428565979004",
         "12.53428554534912",
         "12.359286308288574",
         "12.53428554534912",
         "10.5848970413208",
         "352900800",
         "0.0",
         "0.0",
         "AAPL",
         "0.14838829087304717",
         "96.65860191833794",
         "Goldman Sachs Maintains Neutral on NVIDIA Corp. (NVDA)",
         "https://www.benzinga.com/analyst-ratings/analyst-color/11/03/959128/goldman-sachs-maintains-neutral-on-nvidia-corp-nvda",
         "BenzingaStaffJ",
         "NVDA",
         "0.0",
         "neutral"
        ],
        [
         "27",
         "2011-03-30",
         "12.522856712341309",
         "12.531429290771484",
         "12.408571243286133",
         "12.45107078552246",
         "10.514620780944824",
         "329406000",
         "0.0",
         "0.0",
         "AAPL",
         "-0.6638971126482485",
         "96.01024927994945",
         "Chips Getting Hit Hard (NVDA, MRVL, INTC)",
         "https://www.benzinga.com/analyst-ratings/analyst-color/11/03/963257/chips-getting-hit-hard-nvda-mrvl-intc",
         "Scott Rubin",
         "NVDA",
         "-0.026515151515151516",
         "neutral"
        ],
        [
         "28",
         "2011-04-04",
         "12.296786308288574",
         "12.307143211364746",
         "12.08571434020996",
         "12.185357093811035",
         "10.290231704711914",
         "460084800",
         "0.0",
         "0.0",
         "AAPL",
         "-0.9780542855273855",
         "93.93998946743653",
         "Fast Money Pops & Drops, April 4th (NVDA, MOS, MCP, S, F)",
         "https://www.benzinga.com/media/cnbc/11/04/976814/fast-money-pops-drops-april-4th-nvda-mos-mcp-s-f",
         "Craig Jones",
         "NVDA",
         "0.010526315789473684",
         "neutral"
        ],
        [
         "29",
         "2011-04-04",
         "12.296786308288574",
         "12.307143211364746",
         "12.08571434020996",
         "12.185357093811035",
         "10.290231704711914",
         "460084800",
         "0.0",
         "0.0",
         "AAPL",
         "-0.9780542855273855",
         "93.93998946743653",
         "Nvidia Continues To Hit New Lows (NVDA)",
         "https://www.benzinga.com/market-update/11/04/975347/nvidia-continues-to-hit-new-lows-nvda",
         "Scott Rubin",
         "NVDA",
         "0.01515151515151515",
         "neutral"
        ],
        [
         "30",
         "2011-04-06",
         "12.186429023742676",
         "12.282142639160156",
         "12.040714263916016",
         "12.072856903076172",
         "10.195228576660156",
         "402539200",
         "0.0",
         "0.0",
         "AAPL",
         "-0.2508206512574884",
         "93.06346473030943",
         "Morgan Stanley Discontinues Coverage Of ONNN, NVDA, MCHP, MXIM, INTC",
         "https://www.benzinga.com/analyst-ratings/11/04/982157/morgan-stanley-discontinues-coverage-of-onnn-nvda-mchp-mxim-intc",
         "BenzingaStaffL",
         "NVDA",
         "0.0",
         "neutral"
        ],
        [
         "31",
         "2011-04-07",
         "12.074999809265137",
         "12.15821361541748",
         "12.001070976257324",
         "12.074286460876465",
         "10.19643783569336",
         "373447200",
         "0.0",
         "0.0",
         "AAPL",
         "0.011841089576147823",
         "93.07460286942658",
         "Nvidia Consolidating Intra-Day; Up 3.61% (NVDA)",
         "https://www.benzinga.com/trading-ideas/long-ideas/11/04/987196/nvidia-consolidating-intra-day-up-3-61-nvda",
         "Scott Rubin",
         "NVDA",
         "0.0",
         "neutral"
        ],
        [
         "32",
         "2011-04-08",
         "12.140000343322754",
         "12.14821434020996",
         "11.926786422729492",
         "11.966428756713867",
         "10.105354309082031",
         "377535200",
         "0.0",
         "0.0",
         "AAPL",
         "-0.8932842906459237",
         "92.23424922050646",
         "Nvidia Falls 3% On Tegra 2 Chatter (NVDA, AAPL)",
         "https://www.benzinga.com/tech/11/04/990976/nvidia-falls-3-on-tegra-2-chatter-nvda-aapl",
         "Scott Rubin",
         "NVDA",
         "0.0",
         "neutral"
        ],
        [
         "33",
         "2011-04-12",
         "11.803214073181152",
         "11.91892910003662",
         "11.79285717010498",
         "11.871429443359377",
         "10.02513027191162",
         "425639200",
         "0.0",
         "0.0",
         "AAPL",
         "0.4836789141776432",
         "91.4940793806033",
         "TiVo Rallies Back To Positive (TIVO)",
         "https://www.benzinga.com/trading-ideas/long-ideas/11/04/998336/tivo-rallies-back-to-positive-tivo",
         "Scott Rubin",
         "NVDA",
         "0.028409090909090908",
         "neutral"
        ],
        [
         "34",
         "2011-04-12",
         "11.803214073181152",
         "11.91892910003662",
         "11.79285717010498",
         "11.871429443359377",
         "10.02513027191162",
         "425639200",
         "0.0",
         "0.0",
         "AAPL",
         "0.4836789141776432",
         "91.4940793806033",
         "Technology Executives Sue Goldman Sachs Over Margin Fraud (GS, MRVL)",
         "https://www.benzinga.com/news/11/04/995783/technology-executives-sue-goldman-sachs-over-margin-fraud-gs-mrvl",
         "Nick Smith",
         "NVDA",
         "0.0",
         "neutral"
        ],
        [
         "35",
         "2011-04-14",
         "11.95714282989502",
         "12.0",
         "11.859286308288574",
         "11.872142791748049",
         "10.025731086730955",
         "301800800",
         "0.0",
         "0.0",
         "AAPL",
         "-1.1037449730019744",
         "91.49963730459238",
         "Friday Stocks To Watch",
         "https://www.benzinga.com/11/04/1005670/friday-stocks-to-watch",
         "António Costa",
         "NVDA",
         "0.0",
         "neutral"
        ],
        [
         "36",
         "2011-04-18",
         "11.646429061889648",
         "11.865357398986816",
         "11.434286117553713",
         "11.85178565979004",
         "10.008538246154783",
         "609898800",
         "0.0",
         "0.0",
         "AAPL",
         "1.340623933792906",
         "91.34102842027319",
         "Benzinga's Top ETF Decliners, April 18th (EDC, SOXL, EGPT, ERX)",
         "https://www.benzinga.com/etfs/emerging-market-etfs/11/04/1013577/benzingas-top-etf-decliners-april-18th-edc-soxl-egpt-erx",
         "Craig Jones",
         "NVDA",
         "0.027777777777777776",
         "neutral"
        ],
        [
         "37",
         "2011-04-18",
         "11.646429061889648",
         "11.865357398986816",
         "11.434286117553713",
         "11.85178565979004",
         "10.008538246154783",
         "609898800",
         "0.0",
         "0.0",
         "AAPL",
         "1.340623933792906",
         "91.34102842027319",
         "Benzinga's Top ETF Gainers, April 18th (EDZ, DPK, SOXS, TVIX)",
         "https://www.benzinga.com/etfs/emerging-market-etfs/11/04/1013545/benzingas-top-etf-gainers-april-18th-edz-dpk-soxs-tvix",
         "Craig Jones",
         "NVDA",
         "0.027777777777777776",
         "neutral"
        ],
        [
         "38",
         "2011-04-26",
         "12.62928581237793",
         "12.678214073181152",
         "12.47678565979004",
         "12.515000343322754",
         "10.568608283996582",
         "338800000",
         "0.0",
         "0.0",
         "AAPL",
         "-0.7336881412764673",
         "96.50834478076175",
         "Strong Price Action In NVDIA (NVDA, INTC)",
         "https://www.benzinga.com/market-update/11/04/1033630/strong-price-action-in-nvdia-nvda-intc",
         "Scott Rubin",
         "NVDA",
         "0.05333333333333333",
         "positive"
        ],
        [
         "39",
         "2011-04-27",
         "12.579999923706056",
         "12.583929061889648",
         "12.396429061889648",
         "12.505356788635254",
         "10.560461044311523",
         "356213200",
         "0.0",
         "0.0",
         "AAPL",
         "-0.07705596822172867",
         "96.43320878159395",
         "CEOWORLD Most Actives Technology Stocks by volume Watch on 4/27/11- AAPL, INTC, MSFT, CSCO, BIDU",
         "https://www.benzinga.com/11/04/1036605/ceoworld-most-actives-technology-stocks-by-volume-watch-on-42711-aapl-intc-msft-csco-b",
         "CEO World",
         "NVDA",
         "0.020833333333333332",
         "neutral"
        ],
        [
         "40",
         "2011-04-27",
         "12.579999923706056",
         "12.583929061889648",
         "12.396429061889648",
         "12.505356788635254",
         "10.560461044311523",
         "356213200",
         "0.0",
         "0.0",
         "AAPL",
         "-0.07705596822172867",
         "96.43320878159395",
         "CEOWORLD Magazine DAILY BUSINESS AND TECH ROUNDUP- JNJ, SNE, AMAT, AMZN, STX, NWS, MSFT, NDAQ, NYX, NVDA, BP, YHOO",
         "https://www.benzinga.com/11/04/1035073/ceoworld-magazine-daily-business-and-tech-roundup-jnj-sne-amat-amzn-stx-nws-msft-ndaq-",
         "CEO World",
         "NVDA",
         "0.0",
         "neutral"
        ],
        [
         "41",
         "2011-04-28",
         "12.36392879486084",
         "12.491070747375488",
         "12.34000015258789",
         "12.383929252624512",
         "10.457921028137209",
         "360959200",
         "0.0",
         "0.0",
         "AAPL",
         "-0.9710041709573125",
         "95.48712826042713",
         "Daily Long and Short Setup",
         "https://www.benzinga.com/11/04/1041247/daily-long-and-short-setup",
         "Ryan Mallory",
         "NVDA",
         "-0.01",
         "neutral"
        ],
        [
         "42",
         "2011-04-28",
         "12.36392879486084",
         "12.491070747375488",
         "12.34000015258789",
         "12.383929252624512",
         "10.457921028137209",
         "360959200",
         "0.0",
         "0.0",
         "AAPL",
         "-0.9710041709573125",
         "95.48712826042713",
         "Nvidia Adds 2.50% (NVDA)",
         "https://www.benzinga.com/market-update/11/04/1040997/nvidia-adds-2-50-nvda",
         "Scott Rubin",
         "NVDA",
         "0.0",
         "neutral"
        ],
        [
         "43",
         "2011-04-28",
         "12.36392879486084",
         "12.491070747375488",
         "12.34000015258789",
         "12.383929252624512",
         "10.457921028137209",
         "360959200",
         "0.0",
         "0.0",
         "AAPL",
         "-0.9710041709573125",
         "95.48712826042713",
         "CEOWORLD top 6 buy Materials stocks list for 28 April- SWC, SSRI, SLW, AAU, ROC, FCX",
         "https://www.benzinga.com/11/04/1040455/ceoworld-top-6-buy-materials-stocks-list-for-28-april-swc-ssri-slw-aau-roc-fcx",
         "CEO World",
         "NVDA",
         "0.022727272727272728",
         "neutral"
        ],
        [
         "44",
         "2011-04-29",
         "12.385000228881836",
         "12.641071319580078",
         "12.381071090698242",
         "12.504643440246582",
         "10.55986213684082",
         "1006345200",
         "0.0",
         "0.0",
         "AAPL",
         "0.9747648356153826",
         "96.42765085760489",
         "Goldman Sachs Neutral On Nvidia Corp. (NVDA)",
         "https://www.benzinga.com/analyst-ratings/analyst-color/11/04/1044180/goldman-sachs-neutral-on-nvidia-corp-nvda",
         "Jonathan Chen",
         "NVDA",
         "0.0",
         "neutral"
        ],
        [
         "45",
         "2011-05-09",
         "12.42357063293457",
         "12.471428871154783",
         "12.376070976257324",
         "12.41428565979004",
         "10.48355770111084",
         "204747200",
         "0.0",
         "0.0",
         "AAPL",
         "0.2711575613228101",
         "95.72364467552902",
         "Nvidia Buy Expands Product Portfolio (NVDA)",
         "https://www.benzinga.com/news/m-a/11/05/1068711/nvidia-buy-expands-product-portfolio-nvda",
         "Jonathan Chen",
         "NVDA",
         "0.0",
         "neutral"
        ],
        [
         "46",
         "2011-05-09",
         "12.42357063293457",
         "12.471428871154783",
         "12.376070976257324",
         "12.41428565979004",
         "10.48355770111084",
         "204747200",
         "0.0",
         "0.0",
         "AAPL",
         "0.2711575613228101",
         "95.72364467552902",
         "Market Update- SRE, ISAT, THC, SYY, ONTY, TRMB, NVDA- Analysts Upgraded",
         "https://www.benzinga.com/11/05/1067420/market-update-sre-isat-thc-syy-onty-trmb-nvda-analysts-upgraded",
         "CEO World",
         "NVDA",
         "0.0",
         "neutral"
        ],
        [
         "47",
         "2011-05-09",
         "12.42357063293457",
         "12.471428871154783",
         "12.376070976257324",
         "12.41428565979004",
         "10.48355770111084",
         "204747200",
         "0.0",
         "0.0",
         "AAPL",
         "0.2711575613228101",
         "95.72364467552902",
         "Sterne Agee Gives Earnings Preview On NVIDIA Corporation",
         "https://www.benzinga.com/analyst-ratings/analyst-color/11/05/1067263/sterne-agee-gives-earnings-preview-on-nvidia-corporation",
         "Benzinga Staff",
         "NVDA",
         "0.0",
         "neutral"
        ],
        [
         "48",
         "2011-05-10",
         "12.460356712341309",
         "12.48892879486084",
         "12.380714416503906",
         "12.48035717010498",
         "10.539347648620604",
         "282091600",
         "0.0",
         "0.0",
         "AAPL",
         "0.5322216044129302",
         "96.23842880906778",
         "Goldman Sachs Maintains Neutral on Nvidia (NVDA)",
         "https://www.benzinga.com/analyst-ratings/analyst-color/11/05/1071230/goldman-sachs-maintains-neutral-on-nvidia-nvda",
         "BenzingaStaffJ",
         "NVDA",
         "0.0",
         "neutral"
        ],
        [
         "49",
         "2011-05-10",
         "12.460356712341309",
         "12.48892879486084",
         "12.380714416503906",
         "12.48035717010498",
         "10.539347648620604",
         "282091600",
         "0.0",
         "0.0",
         "AAPL",
         "0.5322216044129302",
         "96.23842880906778",
         "FBR Capital Markets Previews NVDA 1Q11 Earnings, 2Q11 Guidance",
         "https://www.benzinga.com/analyst-ratings/11/05/1070505/fbr-capital-markets-previews-nvda-1q11-earnings-2q11-guidance",
         "BenzingaStaffL",
         "NVDA",
         "0.0",
         "neutral"
        ]
       ],
       "shape": {
        "columns": 18,
        "rows": 46528
       }
      },
      "text/html": [
       "<div>\n",
       "<style scoped>\n",
       "    .dataframe tbody tr th:only-of-type {\n",
       "        vertical-align: middle;\n",
       "    }\n",
       "\n",
       "    .dataframe tbody tr th {\n",
       "        vertical-align: top;\n",
       "    }\n",
       "\n",
       "    .dataframe thead th {\n",
       "        text-align: right;\n",
       "    }\n",
       "</style>\n",
       "<table border=\"1\" class=\"dataframe\">\n",
       "  <thead>\n",
       "    <tr style=\"text-align: right;\">\n",
       "      <th></th>\n",
       "      <th>date</th>\n",
       "      <th>open</th>\n",
       "      <th>high</th>\n",
       "      <th>low</th>\n",
       "      <th>close</th>\n",
       "      <th>adj_close</th>\n",
       "      <th>volume</th>\n",
       "      <th>dividends</th>\n",
       "      <th>stock_splits</th>\n",
       "      <th>ticker</th>\n",
       "      <th>Daily_Return</th>\n",
       "      <th>Cumulative_Return</th>\n",
       "      <th>headline</th>\n",
       "      <th>url</th>\n",
       "      <th>publisher</th>\n",
       "      <th>stock</th>\n",
       "      <th>Sentiment</th>\n",
       "      <th>sentiment_label</th>\n",
       "    </tr>\n",
       "  </thead>\n",
       "  <tbody>\n",
       "    <tr>\n",
       "      <th>0</th>\n",
       "      <td>2011-03-03</td>\n",
       "      <td>12.756786</td>\n",
       "      <td>12.849643</td>\n",
       "      <td>12.711429</td>\n",
       "      <td>12.841429</td>\n",
       "      <td>10.844265</td>\n",
       "      <td>500788400</td>\n",
       "      <td>0.0</td>\n",
       "      <td>0.0</td>\n",
       "      <td>AAPL</td>\n",
       "      <td>2.112919</td>\n",
       "      <td>99.051652</td>\n",
       "      <td>Nvidia Goes Negative (NVDA)</td>\n",
       "      <td>https://www.benzinga.com/market-update/11/03/9...</td>\n",
       "      <td>Scott Rubin</td>\n",
       "      <td>NVDA</td>\n",
       "      <td>-0.050000</td>\n",
       "      <td>neutral</td>\n",
       "    </tr>\n",
       "    <tr>\n",
       "      <th>1</th>\n",
       "      <td>2011-03-07</td>\n",
       "      <td>12.907143</td>\n",
       "      <td>12.916786</td>\n",
       "      <td>12.546786</td>\n",
       "      <td>12.691429</td>\n",
       "      <td>10.717597</td>\n",
       "      <td>546123200</td>\n",
       "      <td>0.0</td>\n",
       "      <td>0.0</td>\n",
       "      <td>AAPL</td>\n",
       "      <td>-1.288889</td>\n",
       "      <td>97.882958</td>\n",
       "      <td>Goldman Sachs Gives Color On Semiconductors (N...</td>\n",
       "      <td>https://www.benzinga.com/analyst-ratings/analy...</td>\n",
       "      <td>Benzinga Staff</td>\n",
       "      <td>NVDA</td>\n",
       "      <td>0.000000</td>\n",
       "      <td>neutral</td>\n",
       "    </tr>\n",
       "    <tr>\n",
       "      <th>2</th>\n",
       "      <td>2011-03-07</td>\n",
       "      <td>12.907143</td>\n",
       "      <td>12.916786</td>\n",
       "      <td>12.546786</td>\n",
       "      <td>12.691429</td>\n",
       "      <td>10.717597</td>\n",
       "      <td>546123200</td>\n",
       "      <td>0.0</td>\n",
       "      <td>0.0</td>\n",
       "      <td>AAPL</td>\n",
       "      <td>-1.288889</td>\n",
       "      <td>97.882958</td>\n",
       "      <td>Auriga Still Not Sure Where Reality Lies For N...</td>\n",
       "      <td>https://www.benzinga.com/analyst-ratings/analy...</td>\n",
       "      <td>BenzingaStaffB</td>\n",
       "      <td>NVDA</td>\n",
       "      <td>0.055556</td>\n",
       "      <td>positive</td>\n",
       "    </tr>\n",
       "    <tr>\n",
       "      <th>3</th>\n",
       "      <td>2011-03-08</td>\n",
       "      <td>12.675357</td>\n",
       "      <td>12.764286</td>\n",
       "      <td>12.580357</td>\n",
       "      <td>12.705714</td>\n",
       "      <td>10.729663</td>\n",
       "      <td>356316800</td>\n",
       "      <td>0.0</td>\n",
       "      <td>0.0</td>\n",
       "      <td>AAPL</td>\n",
       "      <td>0.112557</td>\n",
       "      <td>97.994257</td>\n",
       "      <td>JPM Says \"Our Bearish View on the Company's Ex...</td>\n",
       "      <td>https://www.benzinga.com/analyst-ratings/analy...</td>\n",
       "      <td>Benzinga Staff</td>\n",
       "      <td>NVDA</td>\n",
       "      <td>-0.027778</td>\n",
       "      <td>neutral</td>\n",
       "    </tr>\n",
       "    <tr>\n",
       "      <th>4</th>\n",
       "      <td>2011-03-08</td>\n",
       "      <td>12.675357</td>\n",
       "      <td>12.764286</td>\n",
       "      <td>12.580357</td>\n",
       "      <td>12.705714</td>\n",
       "      <td>10.729663</td>\n",
       "      <td>356316800</td>\n",
       "      <td>0.0</td>\n",
       "      <td>0.0</td>\n",
       "      <td>AAPL</td>\n",
       "      <td>0.112557</td>\n",
       "      <td>97.994257</td>\n",
       "      <td>Benzinga's Top Upgrades (NVDA, ANF, MIPS, WFT)</td>\n",
       "      <td>https://www.benzinga.com/analyst-ratings/upgra...</td>\n",
       "      <td>Lisa Levin</td>\n",
       "      <td>NVDA</td>\n",
       "      <td>0.035714</td>\n",
       "      <td>neutral</td>\n",
       "    </tr>\n",
       "    <tr>\n",
       "      <th>...</th>\n",
       "      <td>...</td>\n",
       "      <td>...</td>\n",
       "      <td>...</td>\n",
       "      <td>...</td>\n",
       "      <td>...</td>\n",
       "      <td>...</td>\n",
       "      <td>...</td>\n",
       "      <td>...</td>\n",
       "      <td>...</td>\n",
       "      <td>...</td>\n",
       "      <td>...</td>\n",
       "      <td>...</td>\n",
       "      <td>...</td>\n",
       "      <td>...</td>\n",
       "      <td>...</td>\n",
       "      <td>...</td>\n",
       "      <td>...</td>\n",
       "      <td>...</td>\n",
       "    </tr>\n",
       "    <tr>\n",
       "      <th>46523</th>\n",
       "      <td>2020-06-10</td>\n",
       "      <td>66.125336</td>\n",
       "      <td>68.498665</td>\n",
       "      <td>65.500000</td>\n",
       "      <td>68.336670</td>\n",
       "      <td>68.336670</td>\n",
       "      <td>278451000</td>\n",
       "      <td>0.0</td>\n",
       "      <td>0.0</td>\n",
       "      <td>TSLA</td>\n",
       "      <td>8.970206</td>\n",
       "      <td>531.432712</td>\n",
       "      <td>Tesla Shares Mark Session And New All-Time Hig...</td>\n",
       "      <td>https://www.benzinga.com/hot/20/06/16221958/te...</td>\n",
       "      <td>Benzinga Newsdesk</td>\n",
       "      <td>TSLA</td>\n",
       "      <td>0.019758</td>\n",
       "      <td>neutral</td>\n",
       "    </tr>\n",
       "    <tr>\n",
       "      <th>46524</th>\n",
       "      <td>2020-06-10</td>\n",
       "      <td>66.125336</td>\n",
       "      <td>68.498665</td>\n",
       "      <td>65.500000</td>\n",
       "      <td>68.336670</td>\n",
       "      <td>68.336670</td>\n",
       "      <td>278451000</td>\n",
       "      <td>0.0</td>\n",
       "      <td>0.0</td>\n",
       "      <td>TSLA</td>\n",
       "      <td>8.970206</td>\n",
       "      <td>531.432712</td>\n",
       "      <td>Wedbush Says Tesla Has 'Game Changing' Develop...</td>\n",
       "      <td>https://www.benzinga.com/analyst-ratings/analy...</td>\n",
       "      <td>Jayson Derrick</td>\n",
       "      <td>TSLA</td>\n",
       "      <td>-0.023529</td>\n",
       "      <td>neutral</td>\n",
       "    </tr>\n",
       "    <tr>\n",
       "      <th>46525</th>\n",
       "      <td>2020-06-10</td>\n",
       "      <td>66.125336</td>\n",
       "      <td>68.498665</td>\n",
       "      <td>65.500000</td>\n",
       "      <td>68.336670</td>\n",
       "      <td>68.336670</td>\n",
       "      <td>278451000</td>\n",
       "      <td>0.0</td>\n",
       "      <td>0.0</td>\n",
       "      <td>TSLA</td>\n",
       "      <td>8.970206</td>\n",
       "      <td>531.432712</td>\n",
       "      <td>Wedbush Maintains Neutral on Tesla, Raises Pri...</td>\n",
       "      <td>https://www.benzinga.com/news/20/06/16220834/w...</td>\n",
       "      <td>Benzinga Newsdesk</td>\n",
       "      <td>TSLA</td>\n",
       "      <td>0.000000</td>\n",
       "      <td>neutral</td>\n",
       "    </tr>\n",
       "    <tr>\n",
       "      <th>46526</th>\n",
       "      <td>2020-06-10</td>\n",
       "      <td>66.125336</td>\n",
       "      <td>68.498665</td>\n",
       "      <td>65.500000</td>\n",
       "      <td>68.336670</td>\n",
       "      <td>68.336670</td>\n",
       "      <td>278451000</td>\n",
       "      <td>0.0</td>\n",
       "      <td>0.0</td>\n",
       "      <td>TSLA</td>\n",
       "      <td>8.970206</td>\n",
       "      <td>531.432712</td>\n",
       "      <td>Musk Says It's Time To Ramp Production Of Tesl...</td>\n",
       "      <td>https://www.benzinga.com/news/20/06/16220141/m...</td>\n",
       "      <td>Tanzeel Akhtar</td>\n",
       "      <td>TSLA</td>\n",
       "      <td>0.000000</td>\n",
       "      <td>neutral</td>\n",
       "    </tr>\n",
       "    <tr>\n",
       "      <th>46527</th>\n",
       "      <td>2020-06-10</td>\n",
       "      <td>66.125336</td>\n",
       "      <td>68.498665</td>\n",
       "      <td>65.500000</td>\n",
       "      <td>68.336670</td>\n",
       "      <td>68.336670</td>\n",
       "      <td>278451000</td>\n",
       "      <td>0.0</td>\n",
       "      <td>0.0</td>\n",
       "      <td>TSLA</td>\n",
       "      <td>8.970206</td>\n",
       "      <td>531.432712</td>\n",
       "      <td>Tesla shares are trading higher after Wedbush ...</td>\n",
       "      <td>https://www.benzinga.com/wiim/20/06/16220126/t...</td>\n",
       "      <td>Benzinga Newsdesk</td>\n",
       "      <td>TSLA</td>\n",
       "      <td>0.010417</td>\n",
       "      <td>neutral</td>\n",
       "    </tr>\n",
       "  </tbody>\n",
       "</table>\n",
       "<p>46528 rows × 18 columns</p>\n",
       "</div>"
      ],
      "text/plain": [
       "             date       open       high        low      close  adj_close  \\\n",
       "0      2011-03-03  12.756786  12.849643  12.711429  12.841429  10.844265   \n",
       "1      2011-03-07  12.907143  12.916786  12.546786  12.691429  10.717597   \n",
       "2      2011-03-07  12.907143  12.916786  12.546786  12.691429  10.717597   \n",
       "3      2011-03-08  12.675357  12.764286  12.580357  12.705714  10.729663   \n",
       "4      2011-03-08  12.675357  12.764286  12.580357  12.705714  10.729663   \n",
       "...           ...        ...        ...        ...        ...        ...   \n",
       "46523  2020-06-10  66.125336  68.498665  65.500000  68.336670  68.336670   \n",
       "46524  2020-06-10  66.125336  68.498665  65.500000  68.336670  68.336670   \n",
       "46525  2020-06-10  66.125336  68.498665  65.500000  68.336670  68.336670   \n",
       "46526  2020-06-10  66.125336  68.498665  65.500000  68.336670  68.336670   \n",
       "46527  2020-06-10  66.125336  68.498665  65.500000  68.336670  68.336670   \n",
       "\n",
       "          volume  dividends  stock_splits ticker  Daily_Return  \\\n",
       "0      500788400        0.0           0.0   AAPL      2.112919   \n",
       "1      546123200        0.0           0.0   AAPL     -1.288889   \n",
       "2      546123200        0.0           0.0   AAPL     -1.288889   \n",
       "3      356316800        0.0           0.0   AAPL      0.112557   \n",
       "4      356316800        0.0           0.0   AAPL      0.112557   \n",
       "...          ...        ...           ...    ...           ...   \n",
       "46523  278451000        0.0           0.0   TSLA      8.970206   \n",
       "46524  278451000        0.0           0.0   TSLA      8.970206   \n",
       "46525  278451000        0.0           0.0   TSLA      8.970206   \n",
       "46526  278451000        0.0           0.0   TSLA      8.970206   \n",
       "46527  278451000        0.0           0.0   TSLA      8.970206   \n",
       "\n",
       "       Cumulative_Return                                           headline  \\\n",
       "0              99.051652                        Nvidia Goes Negative (NVDA)   \n",
       "1              97.882958  Goldman Sachs Gives Color On Semiconductors (N...   \n",
       "2              97.882958  Auriga Still Not Sure Where Reality Lies For N...   \n",
       "3              97.994257  JPM Says \"Our Bearish View on the Company's Ex...   \n",
       "4              97.994257     Benzinga's Top Upgrades (NVDA, ANF, MIPS, WFT)   \n",
       "...                  ...                                                ...   \n",
       "46523         531.432712  Tesla Shares Mark Session And New All-Time Hig...   \n",
       "46524         531.432712  Wedbush Says Tesla Has 'Game Changing' Develop...   \n",
       "46525         531.432712  Wedbush Maintains Neutral on Tesla, Raises Pri...   \n",
       "46526         531.432712  Musk Says It's Time To Ramp Production Of Tesl...   \n",
       "46527         531.432712  Tesla shares are trading higher after Wedbush ...   \n",
       "\n",
       "                                                     url          publisher  \\\n",
       "0      https://www.benzinga.com/market-update/11/03/9...        Scott Rubin   \n",
       "1      https://www.benzinga.com/analyst-ratings/analy...     Benzinga Staff   \n",
       "2      https://www.benzinga.com/analyst-ratings/analy...     BenzingaStaffB   \n",
       "3      https://www.benzinga.com/analyst-ratings/analy...     Benzinga Staff   \n",
       "4      https://www.benzinga.com/analyst-ratings/upgra...         Lisa Levin   \n",
       "...                                                  ...                ...   \n",
       "46523  https://www.benzinga.com/hot/20/06/16221958/te...  Benzinga Newsdesk   \n",
       "46524  https://www.benzinga.com/analyst-ratings/analy...     Jayson Derrick   \n",
       "46525  https://www.benzinga.com/news/20/06/16220834/w...  Benzinga Newsdesk   \n",
       "46526  https://www.benzinga.com/news/20/06/16220141/m...     Tanzeel Akhtar   \n",
       "46527  https://www.benzinga.com/wiim/20/06/16220126/t...  Benzinga Newsdesk   \n",
       "\n",
       "      stock  Sentiment sentiment_label  \n",
       "0      NVDA  -0.050000         neutral  \n",
       "1      NVDA   0.000000         neutral  \n",
       "2      NVDA   0.055556        positive  \n",
       "3      NVDA  -0.027778         neutral  \n",
       "4      NVDA   0.035714         neutral  \n",
       "...     ...        ...             ...  \n",
       "46523  TSLA   0.019758         neutral  \n",
       "46524  TSLA  -0.023529         neutral  \n",
       "46525  TSLA   0.000000         neutral  \n",
       "46526  TSLA   0.000000         neutral  \n",
       "46527  TSLA   0.010417         neutral  \n",
       "\n",
       "[46528 rows x 18 columns]"
      ]
     },
     "execution_count": 26,
     "metadata": {},
     "output_type": "execute_result"
    }
   ],
   "source": [
    "# merging news and stock price data or aligning by dates\n",
    "merged_df = analysis.align_datasets(stock_data, news_data)\n",
    "merged_df"
   ]
  },
  {
   "cell_type": "markdown",
   "id": "ead0f42a",
   "metadata": {},
   "source": [
    "#### analysis of publishers with positive sentiments "
   ]
  },
  {
   "cell_type": "code",
   "execution_count": 97,
   "id": "13d14adf",
   "metadata": {},
   "outputs": [
    {
     "data": {
      "application/vnd.microsoft.datawrangler.viewer.v0+json": {
       "columns": [
        {
         "name": "index",
         "rawType": "int64",
         "type": "integer"
        },
        {
         "name": "publisher",
         "rawType": "object",
         "type": "string"
        },
        {
         "name": "Positive (%)",
         "rawType": "float64",
         "type": "float"
        },
        {
         "name": "Positive Count",
         "rawType": "int64",
         "type": "integer"
        }
       ],
       "ref": "4057408d-5ba5-409e-b67d-8aa29885f46d",
       "rows": [
        [
         "671",
         "pagetraffic",
         "100.0",
         "6"
        ],
        [
         "665",
         "mattzinga",
         "100.0",
         "14"
        ],
        [
         "663",
         "marketresearch",
         "100.0",
         "11"
        ],
        [
         "656",
         "javierhasseandericterbush@benzinga.com",
         "100.0",
         "7"
        ],
        [
         "547",
         "Stephen Bigalow",
         "100.0",
         "18"
        ],
        [
         "22",
         "Allan Farley",
         "100.0",
         "7"
        ],
        [
         "655",
         "janaviktoria",
         "100.0",
         "7"
        ],
        [
         "650",
         "giovannimola",
         "100.0",
         "7"
        ],
        [
         "632",
         "Yoav Helfman",
         "100.0",
         "21"
        ],
        [
         "646",
         "dhiraj.surapaneni@benzinga.com",
         "100.0",
         "7"
        ],
        [
         "649",
         "fnmedia",
         "100.0",
         "21"
        ],
        [
         "629",
         "William Spencer",
         "100.0",
         "20"
        ],
        [
         "625",
         "White Diamond Research",
         "100.0",
         "7"
        ],
        [
         "620",
         "Wall St. Jesus",
         "100.0",
         "14"
        ],
        [
         "38",
         "Anthony Cibotti",
         "100.0",
         "5"
        ],
        [
         "41",
         "Anthony Viola",
         "100.0",
         "84"
        ],
        [
         "627",
         "Will Hubbard",
         "100.0",
         "28"
        ],
        [
         "626",
         "WikiTags",
         "100.0",
         "49"
        ],
        [
         "49",
         "Austrolib",
         "100.0",
         "7"
        ],
        [
         "55",
         "Ben Reynolds",
         "100.0",
         "14"
        ],
        [
         "582",
         "The Professor",
         "100.0",
         "5"
        ],
        [
         "529",
         "Sha'Darian Corona-Green",
         "100.0",
         "21"
        ],
        [
         "517",
         "Samuel J Rae",
         "100.0",
         "14"
        ],
        [
         "560",
         "StockMetrix",
         "100.0",
         "14"
        ],
        [
         "576",
         "The Cannabis Investor",
         "100.0",
         "280"
        ],
        [
         "92",
         "BreakingFinanceNews",
         "100.0",
         "35"
        ],
        [
         "498",
         "Robert Morris",
         "100.0",
         "7"
        ],
        [
         "525",
         "Scout Finance Editorial Team",
         "100.0",
         "7"
        ],
        [
         "14",
         "Alex Roslin",
         "100.0",
         "6"
        ],
        [
         "205",
         "Francis Burr",
         "100.0",
         "6"
        ],
        [
         "204",
         "Forexpros.com",
         "100.0",
         "6"
        ],
        [
         "219",
         "Gavin McMaster",
         "100.0",
         "7"
        ],
        [
         "225",
         "GlenWoods",
         "100.0",
         "21"
        ],
        [
         "227",
         "GlobalCoinReport.com",
         "100.0",
         "14"
        ],
        [
         "239",
         "Hasan Saleem",
         "100.0",
         "7"
        ],
        [
         "237",
         "Happy Trading",
         "100.0",
         "7"
        ],
        [
         "312",
         "John Isige",
         "100.0",
         "14"
        ],
        [
         "303",
         "Jim Woods Investing",
         "100.0",
         "154"
        ],
        [
         "297",
         "Jeremie Capron",
         "100.0",
         "7"
        ],
        [
         "298",
         "Jeremy Biberdorf",
         "100.0",
         "7"
        ],
        [
         "245",
         "IIJGII",
         "100.0",
         "14"
        ],
        [
         "243",
         "Holly Huber - CrowdStreet",
         "100.0",
         "7"
        ],
        [
         "187",
         "Econ Grapher",
         "100.0",
         "12"
        ],
        [
         "393",
         "Marvin Dumont",
         "100.0",
         "7"
        ],
        [
         "329",
         "Junnan Guo",
         "100.0",
         "6"
        ],
        [
         "324",
         "Joule Financial",
         "100.0",
         "28"
        ],
        [
         "159",
         "David Alton Clark",
         "100.0",
         "35"
        ],
        [
         "119",
         "Chart-Caster",
         "100.0",
         "24"
        ],
        [
         "360",
         "Lerone Graham",
         "100.0",
         "7"
        ],
        [
         "331",
         "Justin Triplett",
         "100.0",
         "6"
        ]
       ],
       "shape": {
        "columns": 3,
        "rows": 50
       }
      },
      "text/html": [
       "<div>\n",
       "<style scoped>\n",
       "    .dataframe tbody tr th:only-of-type {\n",
       "        vertical-align: middle;\n",
       "    }\n",
       "\n",
       "    .dataframe tbody tr th {\n",
       "        vertical-align: top;\n",
       "    }\n",
       "\n",
       "    .dataframe thead th {\n",
       "        text-align: right;\n",
       "    }\n",
       "</style>\n",
       "<table border=\"1\" class=\"dataframe\">\n",
       "  <thead>\n",
       "    <tr style=\"text-align: right;\">\n",
       "      <th></th>\n",
       "      <th>publisher</th>\n",
       "      <th>Positive (%)</th>\n",
       "      <th>Positive Count</th>\n",
       "    </tr>\n",
       "  </thead>\n",
       "  <tbody>\n",
       "    <tr>\n",
       "      <th>671</th>\n",
       "      <td>pagetraffic</td>\n",
       "      <td>100.0</td>\n",
       "      <td>6</td>\n",
       "    </tr>\n",
       "    <tr>\n",
       "      <th>665</th>\n",
       "      <td>mattzinga</td>\n",
       "      <td>100.0</td>\n",
       "      <td>14</td>\n",
       "    </tr>\n",
       "    <tr>\n",
       "      <th>663</th>\n",
       "      <td>marketresearch</td>\n",
       "      <td>100.0</td>\n",
       "      <td>11</td>\n",
       "    </tr>\n",
       "    <tr>\n",
       "      <th>656</th>\n",
       "      <td>javierhasseandericterbush@benzinga.com</td>\n",
       "      <td>100.0</td>\n",
       "      <td>7</td>\n",
       "    </tr>\n",
       "    <tr>\n",
       "      <th>547</th>\n",
       "      <td>Stephen Bigalow</td>\n",
       "      <td>100.0</td>\n",
       "      <td>18</td>\n",
       "    </tr>\n",
       "    <tr>\n",
       "      <th>22</th>\n",
       "      <td>Allan Farley</td>\n",
       "      <td>100.0</td>\n",
       "      <td>7</td>\n",
       "    </tr>\n",
       "    <tr>\n",
       "      <th>655</th>\n",
       "      <td>janaviktoria</td>\n",
       "      <td>100.0</td>\n",
       "      <td>7</td>\n",
       "    </tr>\n",
       "    <tr>\n",
       "      <th>650</th>\n",
       "      <td>giovannimola</td>\n",
       "      <td>100.0</td>\n",
       "      <td>7</td>\n",
       "    </tr>\n",
       "    <tr>\n",
       "      <th>632</th>\n",
       "      <td>Yoav Helfman</td>\n",
       "      <td>100.0</td>\n",
       "      <td>21</td>\n",
       "    </tr>\n",
       "    <tr>\n",
       "      <th>646</th>\n",
       "      <td>dhiraj.surapaneni@benzinga.com</td>\n",
       "      <td>100.0</td>\n",
       "      <td>7</td>\n",
       "    </tr>\n",
       "    <tr>\n",
       "      <th>649</th>\n",
       "      <td>fnmedia</td>\n",
       "      <td>100.0</td>\n",
       "      <td>21</td>\n",
       "    </tr>\n",
       "    <tr>\n",
       "      <th>629</th>\n",
       "      <td>William Spencer</td>\n",
       "      <td>100.0</td>\n",
       "      <td>20</td>\n",
       "    </tr>\n",
       "    <tr>\n",
       "      <th>625</th>\n",
       "      <td>White Diamond Research</td>\n",
       "      <td>100.0</td>\n",
       "      <td>7</td>\n",
       "    </tr>\n",
       "    <tr>\n",
       "      <th>620</th>\n",
       "      <td>Wall St. Jesus</td>\n",
       "      <td>100.0</td>\n",
       "      <td>14</td>\n",
       "    </tr>\n",
       "    <tr>\n",
       "      <th>38</th>\n",
       "      <td>Anthony Cibotti</td>\n",
       "      <td>100.0</td>\n",
       "      <td>5</td>\n",
       "    </tr>\n",
       "    <tr>\n",
       "      <th>41</th>\n",
       "      <td>Anthony Viola</td>\n",
       "      <td>100.0</td>\n",
       "      <td>84</td>\n",
       "    </tr>\n",
       "    <tr>\n",
       "      <th>627</th>\n",
       "      <td>Will Hubbard</td>\n",
       "      <td>100.0</td>\n",
       "      <td>28</td>\n",
       "    </tr>\n",
       "    <tr>\n",
       "      <th>626</th>\n",
       "      <td>WikiTags</td>\n",
       "      <td>100.0</td>\n",
       "      <td>49</td>\n",
       "    </tr>\n",
       "    <tr>\n",
       "      <th>49</th>\n",
       "      <td>Austrolib</td>\n",
       "      <td>100.0</td>\n",
       "      <td>7</td>\n",
       "    </tr>\n",
       "    <tr>\n",
       "      <th>55</th>\n",
       "      <td>Ben Reynolds</td>\n",
       "      <td>100.0</td>\n",
       "      <td>14</td>\n",
       "    </tr>\n",
       "    <tr>\n",
       "      <th>582</th>\n",
       "      <td>The Professor</td>\n",
       "      <td>100.0</td>\n",
       "      <td>5</td>\n",
       "    </tr>\n",
       "    <tr>\n",
       "      <th>529</th>\n",
       "      <td>Sha'Darian Corona-Green</td>\n",
       "      <td>100.0</td>\n",
       "      <td>21</td>\n",
       "    </tr>\n",
       "    <tr>\n",
       "      <th>517</th>\n",
       "      <td>Samuel J Rae</td>\n",
       "      <td>100.0</td>\n",
       "      <td>14</td>\n",
       "    </tr>\n",
       "    <tr>\n",
       "      <th>560</th>\n",
       "      <td>StockMetrix</td>\n",
       "      <td>100.0</td>\n",
       "      <td>14</td>\n",
       "    </tr>\n",
       "    <tr>\n",
       "      <th>576</th>\n",
       "      <td>The Cannabis Investor</td>\n",
       "      <td>100.0</td>\n",
       "      <td>280</td>\n",
       "    </tr>\n",
       "    <tr>\n",
       "      <th>92</th>\n",
       "      <td>BreakingFinanceNews</td>\n",
       "      <td>100.0</td>\n",
       "      <td>35</td>\n",
       "    </tr>\n",
       "    <tr>\n",
       "      <th>498</th>\n",
       "      <td>Robert Morris</td>\n",
       "      <td>100.0</td>\n",
       "      <td>7</td>\n",
       "    </tr>\n",
       "    <tr>\n",
       "      <th>525</th>\n",
       "      <td>Scout Finance Editorial Team</td>\n",
       "      <td>100.0</td>\n",
       "      <td>7</td>\n",
       "    </tr>\n",
       "    <tr>\n",
       "      <th>14</th>\n",
       "      <td>Alex Roslin</td>\n",
       "      <td>100.0</td>\n",
       "      <td>6</td>\n",
       "    </tr>\n",
       "    <tr>\n",
       "      <th>205</th>\n",
       "      <td>Francis Burr</td>\n",
       "      <td>100.0</td>\n",
       "      <td>6</td>\n",
       "    </tr>\n",
       "    <tr>\n",
       "      <th>204</th>\n",
       "      <td>Forexpros.com</td>\n",
       "      <td>100.0</td>\n",
       "      <td>6</td>\n",
       "    </tr>\n",
       "    <tr>\n",
       "      <th>219</th>\n",
       "      <td>Gavin McMaster</td>\n",
       "      <td>100.0</td>\n",
       "      <td>7</td>\n",
       "    </tr>\n",
       "    <tr>\n",
       "      <th>225</th>\n",
       "      <td>GlenWoods</td>\n",
       "      <td>100.0</td>\n",
       "      <td>21</td>\n",
       "    </tr>\n",
       "    <tr>\n",
       "      <th>227</th>\n",
       "      <td>GlobalCoinReport.com</td>\n",
       "      <td>100.0</td>\n",
       "      <td>14</td>\n",
       "    </tr>\n",
       "    <tr>\n",
       "      <th>239</th>\n",
       "      <td>Hasan Saleem</td>\n",
       "      <td>100.0</td>\n",
       "      <td>7</td>\n",
       "    </tr>\n",
       "    <tr>\n",
       "      <th>237</th>\n",
       "      <td>Happy Trading</td>\n",
       "      <td>100.0</td>\n",
       "      <td>7</td>\n",
       "    </tr>\n",
       "    <tr>\n",
       "      <th>312</th>\n",
       "      <td>John Isige</td>\n",
       "      <td>100.0</td>\n",
       "      <td>14</td>\n",
       "    </tr>\n",
       "    <tr>\n",
       "      <th>303</th>\n",
       "      <td>Jim Woods Investing</td>\n",
       "      <td>100.0</td>\n",
       "      <td>154</td>\n",
       "    </tr>\n",
       "    <tr>\n",
       "      <th>297</th>\n",
       "      <td>Jeremie Capron</td>\n",
       "      <td>100.0</td>\n",
       "      <td>7</td>\n",
       "    </tr>\n",
       "    <tr>\n",
       "      <th>298</th>\n",
       "      <td>Jeremy Biberdorf</td>\n",
       "      <td>100.0</td>\n",
       "      <td>7</td>\n",
       "    </tr>\n",
       "    <tr>\n",
       "      <th>245</th>\n",
       "      <td>IIJGII</td>\n",
       "      <td>100.0</td>\n",
       "      <td>14</td>\n",
       "    </tr>\n",
       "    <tr>\n",
       "      <th>243</th>\n",
       "      <td>Holly Huber - CrowdStreet</td>\n",
       "      <td>100.0</td>\n",
       "      <td>7</td>\n",
       "    </tr>\n",
       "    <tr>\n",
       "      <th>187</th>\n",
       "      <td>Econ Grapher</td>\n",
       "      <td>100.0</td>\n",
       "      <td>12</td>\n",
       "    </tr>\n",
       "    <tr>\n",
       "      <th>393</th>\n",
       "      <td>Marvin Dumont</td>\n",
       "      <td>100.0</td>\n",
       "      <td>7</td>\n",
       "    </tr>\n",
       "    <tr>\n",
       "      <th>329</th>\n",
       "      <td>Junnan Guo</td>\n",
       "      <td>100.0</td>\n",
       "      <td>6</td>\n",
       "    </tr>\n",
       "    <tr>\n",
       "      <th>324</th>\n",
       "      <td>Joule Financial</td>\n",
       "      <td>100.0</td>\n",
       "      <td>28</td>\n",
       "    </tr>\n",
       "    <tr>\n",
       "      <th>159</th>\n",
       "      <td>David Alton Clark</td>\n",
       "      <td>100.0</td>\n",
       "      <td>35</td>\n",
       "    </tr>\n",
       "    <tr>\n",
       "      <th>119</th>\n",
       "      <td>Chart-Caster</td>\n",
       "      <td>100.0</td>\n",
       "      <td>24</td>\n",
       "    </tr>\n",
       "    <tr>\n",
       "      <th>360</th>\n",
       "      <td>Lerone Graham</td>\n",
       "      <td>100.0</td>\n",
       "      <td>7</td>\n",
       "    </tr>\n",
       "    <tr>\n",
       "      <th>331</th>\n",
       "      <td>Justin Triplett</td>\n",
       "      <td>100.0</td>\n",
       "      <td>6</td>\n",
       "    </tr>\n",
       "  </tbody>\n",
       "</table>\n",
       "</div>"
      ],
      "text/plain": [
       "                                  publisher  Positive (%)  Positive Count\n",
       "671                             pagetraffic         100.0               6\n",
       "665                               mattzinga         100.0              14\n",
       "663                          marketresearch         100.0              11\n",
       "656  javierhasseandericterbush@benzinga.com         100.0               7\n",
       "547                         Stephen Bigalow         100.0              18\n",
       "22                             Allan Farley         100.0               7\n",
       "655                            janaviktoria         100.0               7\n",
       "650                            giovannimola         100.0               7\n",
       "632                            Yoav Helfman         100.0              21\n",
       "646          dhiraj.surapaneni@benzinga.com         100.0               7\n",
       "649                                 fnmedia         100.0              21\n",
       "629                         William Spencer         100.0              20\n",
       "625                  White Diamond Research         100.0               7\n",
       "620                          Wall St. Jesus         100.0              14\n",
       "38                          Anthony Cibotti         100.0               5\n",
       "41                            Anthony Viola         100.0              84\n",
       "627                            Will Hubbard         100.0              28\n",
       "626                                WikiTags         100.0              49\n",
       "49                                Austrolib         100.0               7\n",
       "55                             Ben Reynolds         100.0              14\n",
       "582                           The Professor         100.0               5\n",
       "529                 Sha'Darian Corona-Green         100.0              21\n",
       "517                            Samuel J Rae         100.0              14\n",
       "560                             StockMetrix         100.0              14\n",
       "576                   The Cannabis Investor         100.0             280\n",
       "92                      BreakingFinanceNews         100.0              35\n",
       "498                           Robert Morris         100.0               7\n",
       "525            Scout Finance Editorial Team         100.0               7\n",
       "14                              Alex Roslin         100.0               6\n",
       "205                            Francis Burr         100.0               6\n",
       "204                           Forexpros.com         100.0               6\n",
       "219                          Gavin McMaster         100.0               7\n",
       "225                               GlenWoods         100.0              21\n",
       "227                    GlobalCoinReport.com         100.0              14\n",
       "239                            Hasan Saleem         100.0               7\n",
       "237                           Happy Trading         100.0               7\n",
       "312                              John Isige         100.0              14\n",
       "303                     Jim Woods Investing         100.0             154\n",
       "297                          Jeremie Capron         100.0               7\n",
       "298                        Jeremy Biberdorf         100.0               7\n",
       "245                                  IIJGII         100.0              14\n",
       "243               Holly Huber - CrowdStreet         100.0               7\n",
       "187                            Econ Grapher         100.0              12\n",
       "393                           Marvin Dumont         100.0               7\n",
       "329                              Junnan Guo         100.0               6\n",
       "324                         Joule Financial         100.0              28\n",
       "159                       David Alton Clark         100.0              35\n",
       "119                            Chart-Caster         100.0              24\n",
       "360                           Lerone Graham         100.0               7\n",
       "331                         Justin Triplett         100.0               6"
      ]
     },
     "execution_count": 97,
     "metadata": {},
     "output_type": "execute_result"
    }
   ],
   "source": [
    "# Compute sentiment counts per publisher\n",
    "sentiment_counts = merged_df.groupby('publisher')['l_sentiment'].value_counts().unstack(fill_value=0)\n",
    "\n",
    "# Compute percentage of positive sentiments per publisher\n",
    "sentiment_percentages = merged_df.groupby('publisher')['l_sentiment'].value_counts(normalize=True).unstack(fill_value=0) * 100\n",
    "sentiment_percentages = sentiment_percentages.round(2)\n",
    "sentiment_percentages = sentiment_percentages.get('positive', pd.Series()).rename('Positive (%)')\n",
    "\n",
    "# Filter publishers with positive sentiments (>0%)\n",
    "positive_publishers = sentiment_percentages[sentiment_percentages > 0].dropna().reset_index()\n",
    "positive_publishers.columns = ['publisher', 'Positive (%)']\n",
    "\n",
    "# Add counts of positive sentiments\n",
    "positive_counts = sentiment_counts['positive'].reset_index().rename(columns={'positive': 'Positive Count'})\n",
    "combined_df = pd.merge(positive_publishers, positive_counts, on='publisher')\n",
    "\n",
    "# Sort by Positive (%) in descending order and filter top 10\n",
    "top_10_publishers = combined_df.sort_values(by='Positive (%)', ascending=False).head(50)\n",
    "top_10_publishers\n"
   ]
  },
  {
   "cell_type": "markdown",
   "id": "2ecd821b",
   "metadata": {},
   "source": [
    "- Base don the analysis pagetraffic, mattzinga and other on the above table have 100% positive sentiment."
   ]
  },
  {
   "cell_type": "markdown",
   "id": "a5a1cb48",
   "metadata": {},
   "source": [
    "#### analysis of sentiments per tickers "
   ]
  },
  {
   "cell_type": "code",
   "execution_count": null,
   "id": "94c31ca9",
   "metadata": {},
   "outputs": [
    {
     "name": "stdout",
     "output_type": "stream",
     "text": [
      "Sentiment Value Counts and Percentages by Ticker:\n",
      "   ticker sentiment   Count Percentage\n",
      "0    AAPL  negative   89809      6.51%\n",
      "1    AMZN  negative   89809      6.51%\n",
      "2    GOOG  negative   89809      6.51%\n",
      "3    META  negative   67095      6.41%\n",
      "4    MSFT  negative   89809      6.51%\n",
      "5    NVDA  negative   89809      6.51%\n",
      "6    TSLA  negative   87285       6.5%\n",
      "7    AAPL   neutral  962860     69.79%\n",
      "8    AMZN   neutral  962860     69.79%\n",
      "9    GOOG   neutral  962860     69.79%\n",
      "10   META   neutral  727228     69.51%\n",
      "11   MSFT   neutral  962860     69.79%\n",
      "12   NVDA   neutral  962860     69.79%\n",
      "13   TSLA   neutral  939945     69.97%\n",
      "14   AAPL  positive  327013      23.7%\n",
      "15   AMZN  positive  327013      23.7%\n",
      "16   GOOG  positive  327013      23.7%\n",
      "17   META  positive  251839     24.07%\n",
      "18   MSFT  positive  327013      23.7%\n",
      "19   NVDA  positive  327013      23.7%\n",
      "20   TSLA  positive  316137     23.53%\n"
     ]
    },
    {
     "data": {
      "image/png": "[encoded data removed]",
      "text/plain": [
       "<Figure size 1000x600 with 1 Axes>"
      ]
     },
     "metadata": {},
     "output_type": "display_data"
    }
   ],
   "source": [
    "sentiment_counts = merged_df.groupby('ticker')['l_sentiment'].value_counts().unstack(fill_value=0)\n",
    "# Compute percentages of sentiments per ticker\n",
    "sentiment_percentages = merged_df.groupby('ticker')['l_sentiment'].value_counts(normalize=True).unstack(fill_value=0) * 100\n",
    "sentiment_percentages = sentiment_percentages.round(2)\n",
    "sentiment_percentages = sentiment_percentages.add_suffix(' (%)')\n",
    "\n",
    "# Combine counts and percentages into one DataFrame\n",
    "counts_flat = sentiment_counts.reset_index().melt(id_vars='ticker', var_name='sentiment', value_name='Count')\n",
    "percentages_flat = sentiment_percentages.reset_index().melt(id_vars='ticker', var_name='sentiment', value_name='Percentage')\n",
    "percentages_flat['sentiment'] = percentages_flat['sentiment'].str.replace(' (%)', '')\n",
    "combined_df = pd.merge(counts_flat, percentages_flat, on=['ticker', 'sentiment'])\n",
    "combined_df['Percentage'] = combined_df['Percentage'].astype(str) + '%'\n",
    "\n",
    "# Display the combined DataFrame\n",
    "print(\"Sentiment Value Counts and Percentages by Ticker:\")\n",
    "print(combined_df)\n",
    "\n",
    "# Visualize with Seaborn (stacked bar plot)\n",
    "plt.figure(figsize=(10, 6))\n",
    "sns.barplot(data=combined_df, x='ticker', y='Count', hue='sentiment',\n",
    "            palette={'positive': '#4CAF50', 'neutral': '#FFC107', 'negative': '#F44336'})\n",
    "plt.title('Sentiment Distribution by Ticker')\n",
    "plt.xlabel('Ticker')\n",
    "plt.ylabel('Count')\n",
    "plt.legend(title='Sentiment')\n",
    "plt.grid(True)\n",
    "\n",
    "# Add percentage labels on bars\n",
    "for i, row in combined_df.iterrows():\n",
    "    plt.text(i // 3, row['Count'], row['Percentage'], ha='center', va='bottom')\n",
    "\n",
    "plt.show()"
   ]
  },
  {
   "cell_type": "markdown",
   "id": "2f8a8635",
   "metadata": {},
   "source": [
    "- `GOOG` has an unusually high sentiment concentration (~69.8%), suggesting overwhelmingly positive coverage or sentiment compared to other tickers. This could indicate Strong investor confidence.\n",
    "- `META’s` sentiment clusters around 23.7–24.1%, indicating a neutral-to-moderately positive tone. This aligns with Stable but less sensationalized coverage and Mixed reactions to Meta’s metaverse investments or ad revenue trends.\n"
   ]
  },
  {
   "cell_type": "code",
   "execution_count": 80,
   "id": "4f3ce5d5",
   "metadata": {},
   "outputs": [
    {
     "data": {
      "application/vnd.microsoft.datawrangler.viewer.v0+json": {
       "columns": [
        {
         "name": "ticker",
         "rawType": "object",
         "type": "string"
        },
        {
         "name": "negative",
         "rawType": "int64",
         "type": "integer"
        },
        {
         "name": "neutral",
         "rawType": "int64",
         "type": "integer"
        },
        {
         "name": "positive",
         "rawType": "int64",
         "type": "integer"
        }
       ],
       "ref": "8b719366-af61-482c-92b4-6d919a1a996a",
       "rows": [
        [
         "AAPL",
         "89809",
         "962860",
         "327013"
        ],
        [
         "AMZN",
         "89809",
         "962860",
         "327013"
        ],
        [
         "GOOG",
         "89809",
         "962860",
         "327013"
        ],
        [
         "META",
         "67095",
         "727228",
         "251839"
        ],
        [
         "MSFT",
         "89809",
         "962860",
         "327013"
        ],
        [
         "NVDA",
         "89809",
         "962860",
         "327013"
        ],
        [
         "TSLA",
         "87285",
         "939945",
         "316137"
        ]
       ],
       "shape": {
        "columns": 3,
        "rows": 7
       }
      },
      "text/html": [
       "<div>\n",
       "<style scoped>\n",
       "    .dataframe tbody tr th:only-of-type {\n",
       "        vertical-align: middle;\n",
       "    }\n",
       "\n",
       "    .dataframe tbody tr th {\n",
       "        vertical-align: top;\n",
       "    }\n",
       "\n",
       "    .dataframe thead th {\n",
       "        text-align: right;\n",
       "    }\n",
       "</style>\n",
       "<table border=\"1\" class=\"dataframe\">\n",
       "  <thead>\n",
       "    <tr style=\"text-align: right;\">\n",
       "      <th>l_sentiment</th>\n",
       "      <th>negative</th>\n",
       "      <th>neutral</th>\n",
       "      <th>positive</th>\n",
       "    </tr>\n",
       "    <tr>\n",
       "      <th>ticker</th>\n",
       "      <th></th>\n",
       "      <th></th>\n",
       "      <th></th>\n",
       "    </tr>\n",
       "  </thead>\n",
       "  <tbody>\n",
       "    <tr>\n",
       "      <th>AAPL</th>\n",
       "      <td>89809</td>\n",
       "      <td>962860</td>\n",
       "      <td>327013</td>\n",
       "    </tr>\n",
       "    <tr>\n",
       "      <th>AMZN</th>\n",
       "      <td>89809</td>\n",
       "      <td>962860</td>\n",
       "      <td>327013</td>\n",
       "    </tr>\n",
       "    <tr>\n",
       "      <th>GOOG</th>\n",
       "      <td>89809</td>\n",
       "      <td>962860</td>\n",
       "      <td>327013</td>\n",
       "    </tr>\n",
       "    <tr>\n",
       "      <th>META</th>\n",
       "      <td>67095</td>\n",
       "      <td>727228</td>\n",
       "      <td>251839</td>\n",
       "    </tr>\n",
       "    <tr>\n",
       "      <th>MSFT</th>\n",
       "      <td>89809</td>\n",
       "      <td>962860</td>\n",
       "      <td>327013</td>\n",
       "    </tr>\n",
       "    <tr>\n",
       "      <th>NVDA</th>\n",
       "      <td>89809</td>\n",
       "      <td>962860</td>\n",
       "      <td>327013</td>\n",
       "    </tr>\n",
       "    <tr>\n",
       "      <th>TSLA</th>\n",
       "      <td>87285</td>\n",
       "      <td>939945</td>\n",
       "      <td>316137</td>\n",
       "    </tr>\n",
       "  </tbody>\n",
       "</table>\n",
       "</div>"
      ],
      "text/plain": [
       "l_sentiment  negative  neutral  positive\n",
       "ticker                                  \n",
       "AAPL            89809   962860    327013\n",
       "AMZN            89809   962860    327013\n",
       "GOOG            89809   962860    327013\n",
       "META            67095   727228    251839\n",
       "MSFT            89809   962860    327013\n",
       "NVDA            89809   962860    327013\n",
       "TSLA            87285   939945    316137"
      ]
     },
     "execution_count": 80,
     "metadata": {},
     "output_type": "execute_result"
    }
   ],
   "source": [
    "sentiment_counts"
   ]
  },
  {
   "cell_type": "code",
   "execution_count": 32,
   "id": "cef654b7",
   "metadata": {},
   "outputs": [
    {
     "data": {
      "application/vnd.microsoft.datawrangler.viewer.v0+json": {
       "columns": [
        {
         "name": "index",
         "rawType": "int64",
         "type": "integer"
        },
        {
         "name": "date",
         "rawType": "object",
         "type": "unknown"
        },
        {
         "name": "sentiment_label",
         "rawType": "object",
         "type": "string"
        }
       ],
       "ref": "c4472fcb-a979-44af-99bd-7942e64bed03",
       "rows": [
        [
         "0",
         "2011-03-03",
         "neutral"
        ],
        [
         "1",
         "2011-03-07",
         "neutral"
        ],
        [
         "2",
         "2011-03-08",
         "neutral"
        ],
        [
         "3",
         "2011-03-09",
         "neutral"
        ],
        [
         "4",
         "2011-03-10",
         "neutral"
        ],
        [
         "5",
         "2011-03-15",
         "neutral"
        ],
        [
         "6",
         "2011-03-16",
         "neutral"
        ],
        [
         "7",
         "2011-03-22",
         "neutral"
        ],
        [
         "8",
         "2011-03-24",
         "neutral"
        ],
        [
         "9",
         "2011-03-28",
         "neutral"
        ],
        [
         "10",
         "2011-03-29",
         "neutral"
        ],
        [
         "11",
         "2011-03-30",
         "neutral"
        ],
        [
         "12",
         "2011-04-04",
         "neutral"
        ],
        [
         "13",
         "2011-04-06",
         "neutral"
        ],
        [
         "14",
         "2011-04-07",
         "neutral"
        ],
        [
         "15",
         "2011-04-08",
         "neutral"
        ],
        [
         "16",
         "2011-04-12",
         "neutral"
        ],
        [
         "17",
         "2011-04-14",
         "neutral"
        ],
        [
         "18",
         "2011-04-18",
         "neutral"
        ],
        [
         "19",
         "2011-04-26",
         "positive"
        ],
        [
         "20",
         "2011-04-27",
         "neutral"
        ],
        [
         "21",
         "2011-04-28",
         "neutral"
        ],
        [
         "22",
         "2011-04-29",
         "neutral"
        ],
        [
         "23",
         "2011-05-09",
         "neutral"
        ],
        [
         "24",
         "2011-05-10",
         "neutral"
        ],
        [
         "25",
         "2011-05-11",
         "neutral"
        ],
        [
         "26",
         "2011-05-12",
         "neutral"
        ],
        [
         "27",
         "2011-05-13",
         "neutral"
        ],
        [
         "28",
         "2011-05-16",
         "neutral"
        ],
        [
         "29",
         "2011-05-17",
         "neutral"
        ],
        [
         "30",
         "2011-05-18",
         "neutral"
        ],
        [
         "31",
         "2011-05-23",
         "neutral"
        ],
        [
         "32",
         "2011-05-24",
         "neutral"
        ],
        [
         "33",
         "2011-05-26",
         "positive"
        ],
        [
         "34",
         "2011-05-31",
         "neutral"
        ],
        [
         "35",
         "2011-06-01",
         "neutral"
        ],
        [
         "36",
         "2011-06-02",
         "neutral"
        ],
        [
         "37",
         "2011-06-09",
         "neutral"
        ],
        [
         "38",
         "2011-06-15",
         "neutral"
        ],
        [
         "39",
         "2011-06-23",
         "neutral"
        ],
        [
         "40",
         "2011-06-27",
         "neutral"
        ],
        [
         "41",
         "2011-06-30",
         "neutral"
        ],
        [
         "42",
         "2011-07-05",
         "neutral"
        ],
        [
         "43",
         "2011-07-18",
         "neutral"
        ],
        [
         "44",
         "2011-07-19",
         "neutral"
        ],
        [
         "45",
         "2011-07-21",
         "neutral"
        ],
        [
         "46",
         "2011-07-26",
         "neutral"
        ],
        [
         "47",
         "2011-07-28",
         "neutral"
        ],
        [
         "48",
         "2011-08-01",
         "neutral"
        ],
        [
         "49",
         "2011-08-02",
         "neutral"
        ]
       ],
       "shape": {
        "columns": 2,
        "rows": 1215
       }
      },
      "text/html": [
       "<div>\n",
       "<style scoped>\n",
       "    .dataframe tbody tr th:only-of-type {\n",
       "        vertical-align: middle;\n",
       "    }\n",
       "\n",
       "    .dataframe tbody tr th {\n",
       "        vertical-align: top;\n",
       "    }\n",
       "\n",
       "    .dataframe thead th {\n",
       "        text-align: right;\n",
       "    }\n",
       "</style>\n",
       "<table border=\"1\" class=\"dataframe\">\n",
       "  <thead>\n",
       "    <tr style=\"text-align: right;\">\n",
       "      <th></th>\n",
       "      <th>date</th>\n",
       "      <th>sentiment_label</th>\n",
       "    </tr>\n",
       "  </thead>\n",
       "  <tbody>\n",
       "    <tr>\n",
       "      <th>0</th>\n",
       "      <td>2011-03-03</td>\n",
       "      <td>neutral</td>\n",
       "    </tr>\n",
       "    <tr>\n",
       "      <th>1</th>\n",
       "      <td>2011-03-07</td>\n",
       "      <td>neutral</td>\n",
       "    </tr>\n",
       "    <tr>\n",
       "      <th>2</th>\n",
       "      <td>2011-03-08</td>\n",
       "      <td>neutral</td>\n",
       "    </tr>\n",
       "    <tr>\n",
       "      <th>3</th>\n",
       "      <td>2011-03-09</td>\n",
       "      <td>neutral</td>\n",
       "    </tr>\n",
       "    <tr>\n",
       "      <th>4</th>\n",
       "      <td>2011-03-10</td>\n",
       "      <td>neutral</td>\n",
       "    </tr>\n",
       "    <tr>\n",
       "      <th>...</th>\n",
       "      <td>...</td>\n",
       "      <td>...</td>\n",
       "    </tr>\n",
       "    <tr>\n",
       "      <th>1210</th>\n",
       "      <td>2020-06-04</td>\n",
       "      <td>neutral</td>\n",
       "    </tr>\n",
       "    <tr>\n",
       "      <th>1211</th>\n",
       "      <td>2020-06-05</td>\n",
       "      <td>neutral</td>\n",
       "    </tr>\n",
       "    <tr>\n",
       "      <th>1212</th>\n",
       "      <td>2020-06-08</td>\n",
       "      <td>neutral</td>\n",
       "    </tr>\n",
       "    <tr>\n",
       "      <th>1213</th>\n",
       "      <td>2020-06-09</td>\n",
       "      <td>neutral</td>\n",
       "    </tr>\n",
       "    <tr>\n",
       "      <th>1214</th>\n",
       "      <td>2020-06-10</td>\n",
       "      <td>neutral</td>\n",
       "    </tr>\n",
       "  </tbody>\n",
       "</table>\n",
       "<p>1215 rows × 2 columns</p>\n",
       "</div>"
      ],
      "text/plain": [
       "            date sentiment_label\n",
       "0     2011-03-03         neutral\n",
       "1     2011-03-07         neutral\n",
       "2     2011-03-08         neutral\n",
       "3     2011-03-09         neutral\n",
       "4     2011-03-10         neutral\n",
       "...          ...             ...\n",
       "1210  2020-06-04         neutral\n",
       "1211  2020-06-05         neutral\n",
       "1212  2020-06-08         neutral\n",
       "1213  2020-06-09         neutral\n",
       "1214  2020-06-10         neutral\n",
       "\n",
       "[1215 rows x 2 columns]"
      ]
     },
     "execution_count": 32,
     "metadata": {},
     "output_type": "execute_result"
    }
   ],
   "source": [
    "# Aggregate labeled sentiments by date \n",
    "daily_sentiment = merged_df.groupby('date')['sentiment_label'].agg(lambda x: x.mode().iloc[0] if not x.empty else None).reset_index()\n",
    "daily_sentiment"
   ]
  },
  {
   "cell_type": "code",
   "execution_count": 33,
   "id": "b8f0ffb9",
   "metadata": {},
   "outputs": [
    {
     "data": {
      "application/vnd.microsoft.datawrangler.viewer.v0+json": {
       "columns": [
        {
         "name": "index",
         "rawType": "int64",
         "type": "integer"
        },
        {
         "name": "date",
         "rawType": "object",
         "type": "unknown"
        },
        {
         "name": "Sentiment",
         "rawType": "float64",
         "type": "float"
        }
       ],
       "ref": "97238ac8-fb83-40ce-80f7-2d11adac71ad",
       "rows": [
        [
         "0",
         "2011-03-03",
         "-0.049999999999999996"
        ],
        [
         "1",
         "2011-03-07",
         "0.027777777777777776"
        ],
        [
         "2",
         "2011-03-08",
         "0.001984126984126984"
        ],
        [
         "3",
         "2011-03-09",
         "0.0"
        ],
        [
         "4",
         "2011-03-10",
         "0.027777777777777776"
        ],
        [
         "5",
         "2011-03-15",
         "-0.008333333333333333"
        ],
        [
         "6",
         "2011-03-16",
         "0.004907407407407408"
        ],
        [
         "7",
         "2011-03-22",
         "0.027777777777777776"
        ],
        [
         "8",
         "2011-03-24",
         "0.018518518518518517"
        ],
        [
         "9",
         "2011-03-28",
         "0.015873015873015872"
        ],
        [
         "10",
         "2011-03-29",
         "0.0"
        ],
        [
         "11",
         "2011-03-30",
         "-0.026515151515151516"
        ],
        [
         "12",
         "2011-04-04",
         "0.012838915470494419"
        ],
        [
         "13",
         "2011-04-06",
         "0.0"
        ],
        [
         "14",
         "2011-04-07",
         "0.0"
        ],
        [
         "15",
         "2011-04-08",
         "0.0"
        ],
        [
         "16",
         "2011-04-12",
         "0.014204545454545454"
        ],
        [
         "17",
         "2011-04-14",
         "0.0"
        ],
        [
         "18",
         "2011-04-18",
         "0.027777777777777776"
        ],
        [
         "19",
         "2011-04-26",
         "0.05333333333333332"
        ],
        [
         "20",
         "2011-04-27",
         "0.010416666666666666"
        ],
        [
         "21",
         "2011-04-28",
         "0.004242424242424242"
        ],
        [
         "22",
         "2011-04-29",
         "0.0"
        ],
        [
         "23",
         "2011-05-09",
         "0.0"
        ],
        [
         "24",
         "2011-05-10",
         "0.0"
        ],
        [
         "25",
         "2011-05-11",
         "0.0"
        ],
        [
         "26",
         "2011-05-12",
         "0.004213151927437641"
        ],
        [
         "27",
         "2011-05-13",
         "0.007613907272723697"
        ],
        [
         "28",
         "2011-05-16",
         "0.0"
        ],
        [
         "29",
         "2011-05-17",
         "0.016835016835016835"
        ],
        [
         "30",
         "2011-05-18",
         "0.0"
        ],
        [
         "31",
         "2011-05-23",
         "0.0"
        ],
        [
         "32",
         "2011-05-24",
         "0.0"
        ],
        [
         "33",
         "2011-05-26",
         "0.08333333333333333"
        ],
        [
         "34",
         "2011-05-31",
         "0.0"
        ],
        [
         "35",
         "2011-06-01",
         "0.0"
        ],
        [
         "36",
         "2011-06-02",
         "0.0"
        ],
        [
         "37",
         "2011-06-09",
         "0.012947658402203858"
        ],
        [
         "38",
         "2011-06-15",
         "0.0"
        ],
        [
         "39",
         "2011-06-23",
         "0.027777777777777776"
        ],
        [
         "40",
         "2011-06-27",
         "0.004464285714285714"
        ],
        [
         "41",
         "2011-06-30",
         "0.0"
        ],
        [
         "42",
         "2011-07-05",
         "0.0"
        ],
        [
         "43",
         "2011-07-18",
         "0.027777777777777776"
        ],
        [
         "44",
         "2011-07-19",
         "0.0"
        ],
        [
         "45",
         "2011-07-21",
         "-0.007142857142857142"
        ],
        [
         "46",
         "2011-07-26",
         "0.0375"
        ],
        [
         "47",
         "2011-07-28",
         "0.0"
        ],
        [
         "48",
         "2011-08-01",
         "0.013333333333333334"
        ],
        [
         "49",
         "2011-08-02",
         "0.0"
        ]
       ],
       "shape": {
        "columns": 2,
        "rows": 1215
       }
      },
      "text/html": [
       "<div>\n",
       "<style scoped>\n",
       "    .dataframe tbody tr th:only-of-type {\n",
       "        vertical-align: middle;\n",
       "    }\n",
       "\n",
       "    .dataframe tbody tr th {\n",
       "        vertical-align: top;\n",
       "    }\n",
       "\n",
       "    .dataframe thead th {\n",
       "        text-align: right;\n",
       "    }\n",
       "</style>\n",
       "<table border=\"1\" class=\"dataframe\">\n",
       "  <thead>\n",
       "    <tr style=\"text-align: right;\">\n",
       "      <th></th>\n",
       "      <th>date</th>\n",
       "      <th>Sentiment</th>\n",
       "    </tr>\n",
       "  </thead>\n",
       "  <tbody>\n",
       "    <tr>\n",
       "      <th>0</th>\n",
       "      <td>2011-03-03</td>\n",
       "      <td>-0.050000</td>\n",
       "    </tr>\n",
       "    <tr>\n",
       "      <th>1</th>\n",
       "      <td>2011-03-07</td>\n",
       "      <td>0.027778</td>\n",
       "    </tr>\n",
       "    <tr>\n",
       "      <th>2</th>\n",
       "      <td>2011-03-08</td>\n",
       "      <td>0.001984</td>\n",
       "    </tr>\n",
       "    <tr>\n",
       "      <th>3</th>\n",
       "      <td>2011-03-09</td>\n",
       "      <td>0.000000</td>\n",
       "    </tr>\n",
       "    <tr>\n",
       "      <th>4</th>\n",
       "      <td>2011-03-10</td>\n",
       "      <td>0.027778</td>\n",
       "    </tr>\n",
       "    <tr>\n",
       "      <th>...</th>\n",
       "      <td>...</td>\n",
       "      <td>...</td>\n",
       "    </tr>\n",
       "    <tr>\n",
       "      <th>1210</th>\n",
       "      <td>2020-06-04</td>\n",
       "      <td>0.000000</td>\n",
       "    </tr>\n",
       "    <tr>\n",
       "      <th>1211</th>\n",
       "      <td>2020-06-05</td>\n",
       "      <td>-0.003457</td>\n",
       "    </tr>\n",
       "    <tr>\n",
       "      <th>1212</th>\n",
       "      <td>2020-06-08</td>\n",
       "      <td>0.005502</td>\n",
       "    </tr>\n",
       "    <tr>\n",
       "      <th>1213</th>\n",
       "      <td>2020-06-09</td>\n",
       "      <td>0.007042</td>\n",
       "    </tr>\n",
       "    <tr>\n",
       "      <th>1214</th>\n",
       "      <td>2020-06-10</td>\n",
       "      <td>0.007051</td>\n",
       "    </tr>\n",
       "  </tbody>\n",
       "</table>\n",
       "<p>1215 rows × 2 columns</p>\n",
       "</div>"
      ],
      "text/plain": [
       "            date  Sentiment\n",
       "0     2011-03-03  -0.050000\n",
       "1     2011-03-07   0.027778\n",
       "2     2011-03-08   0.001984\n",
       "3     2011-03-09   0.000000\n",
       "4     2011-03-10   0.027778\n",
       "...          ...        ...\n",
       "1210  2020-06-04   0.000000\n",
       "1211  2020-06-05  -0.003457\n",
       "1212  2020-06-08   0.005502\n",
       "1213  2020-06-09   0.007042\n",
       "1214  2020-06-10   0.007051\n",
       "\n",
       "[1215 rows x 2 columns]"
      ]
     },
     "execution_count": 33,
     "metadata": {},
     "output_type": "execute_result"
    }
   ],
   "source": [
    "# daily sentiment on numerical sentiment values \n",
    "daily_sentiment_ = merged_df.groupby('date')['Sentiment'].mean().reset_index()\n",
    "daily_sentiment_"
   ]
  },
  {
   "cell_type": "code",
   "execution_count": null,
   "id": "8462a80e",
   "metadata": {},
   "outputs": [
    {
     "data": {
      "application/vnd.microsoft.datawrangler.viewer.v0+json": {
       "columns": [
        {
         "name": "index",
         "rawType": "int64",
         "type": "integer"
        },
        {
         "name": "date",
         "rawType": "object",
         "type": "unknown"
        },
        {
         "name": "Daily_Return",
         "rawType": "float64",
         "type": "float"
        }
       ],
       "ref": "ce5ee76c-52dd-4675-b3b2-0c6371e66aa8",
       "rows": [
        [
         "0",
         "2009-04-27",
         "-1.5703246223388456"
        ],
        [
         "1",
         "2009-04-29",
         "-0.015426726549732095"
        ],
        [
         "2",
         "2009-05-22",
         "-0.2665526174185673"
        ],
        [
         "3",
         "2009-05-27",
         "-0.09046269693700593"
        ],
        [
         "4",
         "2009-05-29",
         "0.8080683830435099"
        ],
        [
         "5",
         "2009-06-01",
         "3.732377922841863"
        ],
        [
         "6",
         "2009-06-02",
         "0.39456856537284146"
        ],
        [
         "7",
         "2009-06-05",
         "0.9638223772798372"
        ],
        [
         "8",
         "2009-06-08",
         "-0.8293832759162844"
        ],
        [
         "9",
         "2009-06-09",
         "0.9889017651730226"
        ],
        [
         "10",
         "2009-06-15",
         "-0.9754841321240959"
        ],
        [
         "11",
         "2009-06-16",
         "-0.7684754211627465"
        ],
        [
         "12",
         "2009-06-19",
         "1.8565811202338978"
        ],
        [
         "13",
         "2009-06-22",
         "-3.6110374080348584"
        ],
        [
         "14",
         "2009-06-30",
         "-0.4631380594852974"
        ],
        [
         "15",
         "2009-07-07",
         "-3.1790901310190756"
        ],
        [
         "16",
         "2009-07-08",
         "1.088088510254086"
        ],
        [
         "17",
         "2009-07-10",
         "0.4247521418475886"
        ],
        [
         "18",
         "2009-07-14",
         "0.44251413197784917"
        ],
        [
         "19",
         "2009-07-15",
         "3.613157324517542"
        ],
        [
         "20",
         "2009-07-16",
         "1.96405933575166"
        ],
        [
         "21",
         "2009-07-17",
         "0.41198960697588216"
        ],
        [
         "22",
         "2009-07-21",
         "-0.27641188822923546"
        ],
        [
         "23",
         "2009-07-24",
         "-2.580985887273246"
        ],
        [
         "24",
         "2009-07-27",
         "-0.7898903630063914"
        ],
        [
         "25",
         "2009-07-30",
         "1.35577867865587"
        ],
        [
         "26",
         "2009-08-03",
         "1.9823856521232528"
        ],
        [
         "27",
         "2009-08-04",
         "-0.32845596412200306"
        ],
        [
         "28",
         "2009-08-06",
         "-0.8491329765102695"
        ],
        [
         "29",
         "2009-08-07",
         "1.68043829506356"
        ],
        [
         "30",
         "2009-08-10",
         "-1.0984810825825697"
        ],
        [
         "31",
         "2009-08-11",
         "-1.2700864731910966"
        ],
        [
         "32",
         "2009-08-12",
         "2.1706709472253127"
        ],
        [
         "33",
         "2009-08-13",
         "0.8933793524169453"
        ],
        [
         "34",
         "2009-08-17",
         "-3.3282250412225323"
        ],
        [
         "35",
         "2009-08-18",
         "1.846550152801556"
        ],
        [
         "36",
         "2009-08-19",
         "0.06296811055750418"
        ],
        [
         "37",
         "2009-08-21",
         "1.7347778179090234"
        ],
        [
         "38",
         "2009-08-24",
         "-0.3580236615527199"
        ],
        [
         "39",
         "2009-08-25",
         "0.25674953652027765"
        ],
        [
         "40",
         "2009-08-26",
         "-0.2618628584773064"
        ],
        [
         "41",
         "2009-08-27",
         "0.6236347460820846"
        ],
        [
         "42",
         "2009-08-28",
         "0.6666478580435564"
        ],
        [
         "43",
         "2009-08-31",
         "-1.03780572650356"
        ],
        [
         "44",
         "2009-09-01",
         "-2.30440116818895"
        ],
        [
         "45",
         "2009-09-02",
         "-0.22446304111048085"
        ],
        [
         "46",
         "2009-09-03",
         "1.1343165101628516"
        ],
        [
         "47",
         "2009-09-04",
         "1.885576910723663"
        ],
        [
         "48",
         "2009-09-08",
         "1.4246411101200152"
        ],
        [
         "49",
         "2009-09-09",
         "0.8790991624225364"
        ]
       ],
       "shape": {
        "columns": 2,
        "rows": 2757
       }
      },
      "text/html": [
       "<div>\n",
       "<style scoped>\n",
       "    .dataframe tbody tr th:only-of-type {\n",
       "        vertical-align: middle;\n",
       "    }\n",
       "\n",
       "    .dataframe tbody tr th {\n",
       "        vertical-align: top;\n",
       "    }\n",
       "\n",
       "    .dataframe thead th {\n",
       "        text-align: right;\n",
       "    }\n",
       "</style>\n",
       "<table border=\"1\" class=\"dataframe\">\n",
       "  <thead>\n",
       "    <tr style=\"text-align: right;\">\n",
       "      <th></th>\n",
       "      <th>date</th>\n",
       "      <th>Daily_Return</th>\n",
       "    </tr>\n",
       "  </thead>\n",
       "  <tbody>\n",
       "    <tr>\n",
       "      <th>0</th>\n",
       "      <td>2009-04-27</td>\n",
       "      <td>-1.570325</td>\n",
       "    </tr>\n",
       "    <tr>\n",
       "      <th>1</th>\n",
       "      <td>2009-04-29</td>\n",
       "      <td>-0.015427</td>\n",
       "    </tr>\n",
       "    <tr>\n",
       "      <th>2</th>\n",
       "      <td>2009-05-22</td>\n",
       "      <td>-0.266553</td>\n",
       "    </tr>\n",
       "    <tr>\n",
       "      <th>3</th>\n",
       "      <td>2009-05-27</td>\n",
       "      <td>-0.090463</td>\n",
       "    </tr>\n",
       "    <tr>\n",
       "      <th>4</th>\n",
       "      <td>2009-05-29</td>\n",
       "      <td>0.808068</td>\n",
       "    </tr>\n",
       "    <tr>\n",
       "      <th>...</th>\n",
       "      <td>...</td>\n",
       "      <td>...</td>\n",
       "    </tr>\n",
       "    <tr>\n",
       "      <th>2752</th>\n",
       "      <td>2020-06-05</td>\n",
       "      <td>2.020984</td>\n",
       "    </tr>\n",
       "    <tr>\n",
       "      <th>2753</th>\n",
       "      <td>2020-06-08</td>\n",
       "      <td>1.382198</td>\n",
       "    </tr>\n",
       "    <tr>\n",
       "      <th>2754</th>\n",
       "      <td>2020-06-09</td>\n",
       "      <td>1.790033</td>\n",
       "    </tr>\n",
       "    <tr>\n",
       "      <th>2755</th>\n",
       "      <td>2020-06-10</td>\n",
       "      <td>2.920262</td>\n",
       "    </tr>\n",
       "    <tr>\n",
       "      <th>2756</th>\n",
       "      <td>2020-06-11</td>\n",
       "      <td>-4.880188</td>\n",
       "    </tr>\n",
       "  </tbody>\n",
       "</table>\n",
       "<p>2757 rows × 2 columns</p>\n",
       "</div>"
      ],
      "text/plain": [
       "            date  Daily_Return\n",
       "0     2009-04-27     -1.570325\n",
       "1     2009-04-29     -0.015427\n",
       "2     2009-05-22     -0.266553\n",
       "3     2009-05-27     -0.090463\n",
       "4     2009-05-29      0.808068\n",
       "...          ...           ...\n",
       "2752  2020-06-05      2.020984\n",
       "2753  2020-06-08      1.382198\n",
       "2754  2020-06-09      1.790033\n",
       "2755  2020-06-10      2.920262\n",
       "2756  2020-06-11     -4.880188\n",
       "\n",
       "[2757 rows x 2 columns]"
      ]
     },
     "execution_count": 39,
     "metadata": {},
     "output_type": "execute_result"
    }
   ],
   "source": [
    "# aggregating Daily returns by date\n",
    "daily_Return_ = merged_df.groupby('date')['Daily_Return'].mean().reset_index()\n",
    "daily_Return_"
   ]
  },
  {
   "cell_type": "markdown",
   "id": "2d117391",
   "metadata": {},
   "source": [
    "#### Find the correlation between sentiment and daily return "
   ]
  },
  {
   "cell_type": "code",
   "execution_count": 60,
   "id": "5133be91",
   "metadata": {},
   "outputs": [
    {
     "data": {
      "application/vnd.microsoft.datawrangler.viewer.v0+json": {
       "columns": [
        {
         "name": "index",
         "rawType": "int64",
         "type": "integer"
        },
        {
         "name": "date",
         "rawType": "object",
         "type": "unknown"
        },
        {
         "name": "Daily_Return",
         "rawType": "float64",
         "type": "float"
        },
        {
         "name": "sentiment",
         "rawType": "float64",
         "type": "float"
        },
        {
         "name": "l_sentiment",
         "rawType": "object",
         "type": "string"
        }
       ],
       "ref": "84395363-259d-407c-b358-694f68b37fde",
       "rows": [
        [
         "0",
         "2009-04-27",
         "-1.5703246223388456",
         "0.0",
         "neutral"
        ],
        [
         "1",
         "2009-04-29",
         "-0.015426726549732095",
         "0.0",
         "neutral"
        ],
        [
         "2",
         "2009-05-22",
         "-0.2665526174185673",
         "0.0",
         "neutral"
        ],
        [
         "3",
         "2009-05-27",
         "-0.09046269693700593",
         "0.2340909090909091",
         "positive"
        ],
        [
         "4",
         "2009-05-29",
         "0.8080683830435099",
         "0.06818181818181818",
         "positive"
        ],
        [
         "5",
         "2009-06-01",
         "3.732377922841863",
         "0.128",
         "positive"
        ],
        [
         "6",
         "2009-06-02",
         "0.39456856537284146",
         "0.0",
         "neutral"
        ],
        [
         "7",
         "2009-06-05",
         "0.9638223772798372",
         "0.08333333333333333",
         "positive"
        ],
        [
         "8",
         "2009-06-08",
         "-0.8293832759162844",
         "0.21818181818181817",
         "positive"
        ],
        [
         "9",
         "2009-06-09",
         "0.9889017651730226",
         "0.0",
         "neutral"
        ],
        [
         "10",
         "2009-06-15",
         "-0.9754841321240959",
         "0.0",
         "neutral"
        ],
        [
         "11",
         "2009-06-16",
         "-0.7684754211627465",
         "0.7333333333333333",
         "positive"
        ],
        [
         "12",
         "2009-06-19",
         "1.8565811202338978",
         "0.0",
         "neutral"
        ],
        [
         "13",
         "2009-06-22",
         "-3.6110374080348584",
         "1.0",
         "positive"
        ],
        [
         "14",
         "2009-06-30",
         "-0.4631380594852974",
         "0.325",
         "positive"
        ],
        [
         "15",
         "2009-07-07",
         "-3.1790901310190756",
         "0.0",
         "neutral"
        ],
        [
         "16",
         "2009-07-08",
         "1.088088510254086",
         "0.0",
         "neutral"
        ],
        [
         "17",
         "2009-07-10",
         "0.4247521418475886",
         "0.0",
         "neutral"
        ],
        [
         "18",
         "2009-07-14",
         "0.44251413197784917",
         "0.0",
         "neutral"
        ],
        [
         "19",
         "2009-07-15",
         "3.613157324517542",
         "0.0",
         "neutral"
        ],
        [
         "20",
         "2009-07-16",
         "1.96405933575166",
         "0.0",
         "neutral"
        ],
        [
         "21",
         "2009-07-17",
         "0.41198960697588216",
         "0.0",
         "neutral"
        ],
        [
         "22",
         "2009-07-21",
         "-0.27641188822923546",
         "0.22857142857142862",
         "positive"
        ],
        [
         "23",
         "2009-07-24",
         "-2.580985887273246",
         "0.0",
         "neutral"
        ],
        [
         "24",
         "2009-07-27",
         "-0.7898903630063914",
         "0.02072711239377906",
         "neutral"
        ],
        [
         "25",
         "2009-07-30",
         "1.35577867865587",
         "0.0",
         "neutral"
        ],
        [
         "26",
         "2009-08-03",
         "1.9823856521232528",
         "0.25",
         "positive"
        ],
        [
         "27",
         "2009-08-04",
         "-0.32845596412200306",
         "-0.08571428571428572",
         "negative"
        ],
        [
         "28",
         "2009-08-06",
         "-0.8491329765102695",
         "0.023760932944606412",
         "neutral"
        ],
        [
         "29",
         "2009-08-07",
         "1.68043829506356",
         "0.06320697547793822",
         "neutral"
        ],
        [
         "30",
         "2009-08-10",
         "-1.0984810825825697",
         "0.06683963529096272",
         "neutral"
        ],
        [
         "31",
         "2009-08-11",
         "-1.2700864731910966",
         "0.11745580808080809",
         "neutral"
        ],
        [
         "32",
         "2009-08-12",
         "2.1706709472253127",
         "0.03808653804424481",
         "neutral"
        ],
        [
         "33",
         "2009-08-13",
         "0.8933793524169453",
         "0.07537412749394316",
         "neutral"
        ],
        [
         "34",
         "2009-08-17",
         "-3.3282250412225323",
         "0.10743195974208633",
         "neutral"
        ],
        [
         "35",
         "2009-08-18",
         "1.846550152801556",
         "0.11666666666666667",
         "neutral"
        ],
        [
         "36",
         "2009-08-19",
         "0.06296811055750418",
         "0.06666666666666667",
         "neutral"
        ],
        [
         "37",
         "2009-08-21",
         "1.7347778179090234",
         "0.11607142857142858",
         "neutral"
        ],
        [
         "38",
         "2009-08-24",
         "-0.3580236615527199",
         "-0.1042087542087542",
         "neutral"
        ],
        [
         "39",
         "2009-08-25",
         "0.25674953652027765",
         "0.029105434039644565",
         "neutral"
        ],
        [
         "40",
         "2009-08-26",
         "-0.2618628584773064",
         "0.06621212121212122",
         "neutral"
        ],
        [
         "41",
         "2009-08-27",
         "0.6236347460820846",
         "0.10163461538461539",
         "neutral"
        ],
        [
         "42",
         "2009-08-28",
         "0.6666478580435564",
         "-0.12052380952380953",
         "negative"
        ],
        [
         "43",
         "2009-08-31",
         "-1.03780572650356",
         "-0.007539983164983166",
         "neutral"
        ],
        [
         "44",
         "2009-09-01",
         "-2.30440116818895",
         "-0.01086760461760462",
         "neutral"
        ],
        [
         "45",
         "2009-09-02",
         "-0.22446304111048085",
         "0.08570318570318569",
         "neutral"
        ],
        [
         "46",
         "2009-09-03",
         "1.1343165101628516",
         "0.04833333333333333",
         "neutral"
        ],
        [
         "47",
         "2009-09-04",
         "1.885576910723663",
         "0.07233333333333333",
         "neutral"
        ],
        [
         "48",
         "2009-09-08",
         "1.4246411101200152",
         "0.05396231219760632",
         "neutral"
        ],
        [
         "49",
         "2009-09-09",
         "0.8790991624225364",
         "0.0029143475572046993",
         "neutral"
        ]
       ],
       "shape": {
        "columns": 4,
        "rows": 2757
       }
      },
      "text/html": [
       "<div>\n",
       "<style scoped>\n",
       "    .dataframe tbody tr th:only-of-type {\n",
       "        vertical-align: middle;\n",
       "    }\n",
       "\n",
       "    .dataframe tbody tr th {\n",
       "        vertical-align: top;\n",
       "    }\n",
       "\n",
       "    .dataframe thead th {\n",
       "        text-align: right;\n",
       "    }\n",
       "</style>\n",
       "<table border=\"1\" class=\"dataframe\">\n",
       "  <thead>\n",
       "    <tr style=\"text-align: right;\">\n",
       "      <th></th>\n",
       "      <th>date</th>\n",
       "      <th>Daily_Return</th>\n",
       "      <th>sentiment</th>\n",
       "      <th>l_sentiment</th>\n",
       "    </tr>\n",
       "  </thead>\n",
       "  <tbody>\n",
       "    <tr>\n",
       "      <th>0</th>\n",
       "      <td>2009-04-27</td>\n",
       "      <td>-1.570325</td>\n",
       "      <td>0.000000</td>\n",
       "      <td>neutral</td>\n",
       "    </tr>\n",
       "    <tr>\n",
       "      <th>1</th>\n",
       "      <td>2009-04-29</td>\n",
       "      <td>-0.015427</td>\n",
       "      <td>0.000000</td>\n",
       "      <td>neutral</td>\n",
       "    </tr>\n",
       "    <tr>\n",
       "      <th>2</th>\n",
       "      <td>2009-05-22</td>\n",
       "      <td>-0.266553</td>\n",
       "      <td>0.000000</td>\n",
       "      <td>neutral</td>\n",
       "    </tr>\n",
       "    <tr>\n",
       "      <th>3</th>\n",
       "      <td>2009-05-27</td>\n",
       "      <td>-0.090463</td>\n",
       "      <td>0.234091</td>\n",
       "      <td>positive</td>\n",
       "    </tr>\n",
       "    <tr>\n",
       "      <th>4</th>\n",
       "      <td>2009-05-29</td>\n",
       "      <td>0.808068</td>\n",
       "      <td>0.068182</td>\n",
       "      <td>positive</td>\n",
       "    </tr>\n",
       "    <tr>\n",
       "      <th>...</th>\n",
       "      <td>...</td>\n",
       "      <td>...</td>\n",
       "      <td>...</td>\n",
       "      <td>...</td>\n",
       "    </tr>\n",
       "    <tr>\n",
       "      <th>2752</th>\n",
       "      <td>2020-06-05</td>\n",
       "      <td>2.020984</td>\n",
       "      <td>0.118396</td>\n",
       "      <td>positive</td>\n",
       "    </tr>\n",
       "    <tr>\n",
       "      <th>2753</th>\n",
       "      <td>2020-06-08</td>\n",
       "      <td>1.382198</td>\n",
       "      <td>0.069246</td>\n",
       "      <td>positive</td>\n",
       "    </tr>\n",
       "    <tr>\n",
       "      <th>2754</th>\n",
       "      <td>2020-06-09</td>\n",
       "      <td>1.790033</td>\n",
       "      <td>0.013402</td>\n",
       "      <td>neutral</td>\n",
       "    </tr>\n",
       "    <tr>\n",
       "      <th>2755</th>\n",
       "      <td>2020-06-10</td>\n",
       "      <td>2.920262</td>\n",
       "      <td>-0.010027</td>\n",
       "      <td>neutral</td>\n",
       "    </tr>\n",
       "    <tr>\n",
       "      <th>2756</th>\n",
       "      <td>2020-06-11</td>\n",
       "      <td>-4.880188</td>\n",
       "      <td>0.007430</td>\n",
       "      <td>neutral</td>\n",
       "    </tr>\n",
       "  </tbody>\n",
       "</table>\n",
       "<p>2757 rows × 4 columns</p>\n",
       "</div>"
      ],
      "text/plain": [
       "            date  Daily_Return  sentiment l_sentiment\n",
       "0     2009-04-27     -1.570325   0.000000     neutral\n",
       "1     2009-04-29     -0.015427   0.000000     neutral\n",
       "2     2009-05-22     -0.266553   0.000000     neutral\n",
       "3     2009-05-27     -0.090463   0.234091    positive\n",
       "4     2009-05-29      0.808068   0.068182    positive\n",
       "...          ...           ...        ...         ...\n",
       "2752  2020-06-05      2.020984   0.118396    positive\n",
       "2753  2020-06-08      1.382198   0.069246    positive\n",
       "2754  2020-06-09      1.790033   0.013402     neutral\n",
       "2755  2020-06-10      2.920262  -0.010027     neutral\n",
       "2756  2020-06-11     -4.880188   0.007430     neutral\n",
       "\n",
       "[2757 rows x 4 columns]"
      ]
     },
     "execution_count": 60,
     "metadata": {},
     "output_type": "execute_result"
    }
   ],
   "source": [
    "# Creating correlation dataframe \n",
    "correlation_df = pd.merge(daily_Return_, daily_sentiment_, on='date', how='inner')\n",
    "correlation_df = pd.merge(correlation_df,daily_sentiment, on ='date', how = 'inner')\n",
    "correlation_df"
   ]
  },
  {
   "cell_type": "code",
   "execution_count": 88,
   "id": "1817f517",
   "metadata": {},
   "outputs": [
    {
     "name": "stdout",
     "output_type": "stream",
     "text": [
      "Correlation between daily returns and sentiments: 0.002454098278958313\n"
     ]
    }
   ],
   "source": [
    "# Correlation between\n",
    "from scipy.stats import pearsonr \n",
    "correlation, p_value = pearsonr(correlation_df['Daily_Return'], correlation_df['sentiment'])\n",
    "print(f\"Correlation between daily returns and sentiments: {correlation}\")"
   ]
  },
  {
   "cell_type": "markdown",
   "id": "f5c06b14",
   "metadata": {},
   "source": [
    "- This indicates an extremely weak linear relationship between daily returns and sentiment. \n",
    "  - which means changes in sentiment have almost no linear association with changes in daily returns.\n",
    "  - The positive value suggests a slight positive relationship, meaning that as sentiment becomes more positive, daily returns might increase slightly, but the effect is negligible due to the small magnitude."
   ]
  },
  {
   "cell_type": "code",
   "execution_count": 89,
   "id": "f1680952",
   "metadata": {},
   "outputs": [
    {
     "data": {
      "image/png": "[encoded data removed]",
      "text/plain": [
       "<Figure size 800x600 with 2 Axes>"
      ]
     },
     "metadata": {},
     "output_type": "display_data"
    }
   ],
   "source": [
    "# Create heatmap\n",
    "plt.figure(figsize=(8, 6))\n",
    "sns.heatmap(correlation_df[['Daily_Return','sentiment']].corr(), annot=True, cmap='coolwarm', vmin=-1, vmax=1, center=0,\n",
    "            fmt='.2f', square=True, cbar_kws={'label': 'Correlation'})\n",
    "plt.title('Correlation Heatmap: Daily Returns Across Tickers')\n",
    "plt.show()\n"
   ]
  },
  {
   "cell_type": "code",
   "execution_count": 65,
   "id": "8d474a29",
   "metadata": {},
   "outputs": [
    {
     "name": "stderr",
     "output_type": "stream",
     "text": [
      "C:\\Users\\jonep\\AppData\\Local\\Temp\\ipykernel_4504\\1672143614.py:14: UserWarning:\n",
      "\n",
      "No artists with labels found to put in legend.  Note that artists whose label start with an underscore are ignored when legend() is called with no argument.\n",
      "\n"
     ]
    },
    {
     "data": {
      "image/png": "[encoded data removed]",
      "text/plain": [
       "<Figure size 1000x600 with 1 Axes>"
      ]
     },
     "metadata": {},
     "output_type": "display_data"
    }
   ],
   "source": [
    "import seaborn as sns\n",
    "import matplotlib.pyplot as plt\n",
    "# Set Seaborn style\n",
    "sns.set_style(\"whitegrid\")\n",
    "\n",
    "# Create histogram with sentiment as color\n",
    "plt.figure(figsize=(10, 6))\n",
    "sns.histplot(data=correlation_df, x='Daily_Return', hue='l_sentiment', color='l_sentiment')\n",
    "\n",
    "# Customize layout\n",
    "plt.title('Histogram of Daily Returns by Sentiment')\n",
    "plt.xlabel('Daily Return')\n",
    "plt.ylabel('Count')\n",
    "plt.legend(title='Sentiment')\n",
    "\n",
    "# Show plot\n",
    "plt.show()"
   ]
  },
  {
   "cell_type": "code",
   "execution_count": null,
   "id": "a1d34f86",
   "metadata": {},
   "outputs": [],
   "source": []
  }
 ],
 "metadata": {
  "kernelspec": {
   "display_name": "Python 3",
   "language": "python",
   "name": "python3"
  },
  "language_info": {
   "codemirror_mode": {
    "name": "ipython",
    "version": 3
   },
   "file_extension": ".py",
   "mimetype": "text/x-python",
   "name": "python",
   "nbconvert_exporter": "python",
   "pygments_lexer": "ipython3",
   "version": "3.13.1"
  }
 },
 "nbformat": 4,
 "nbformat_minor": 5
}
