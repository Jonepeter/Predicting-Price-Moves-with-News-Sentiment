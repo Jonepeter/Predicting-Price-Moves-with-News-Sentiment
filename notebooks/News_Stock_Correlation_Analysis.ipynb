{
 "cells": [
  {
   "cell_type": "markdown",
   "id": "72e661e4",
   "metadata": {},
   "source": [
    "## **Task 3: Correlation between news and stock movement**\n",
    "\n",
    "- Date Alignment: Ensure that both datasets (news and stock prices) are aligned by dates. This might involve normalizing timestamps.\n",
    "- Sentiment Analysis: Conduct sentiment analysis on news headlines to quantify the tone of each article (positive, negative, neutral).Tools: Use Python libraries like nltk, TextBlob for sentiment analysis.\n",
    "- Analysis:\n",
    "  - Calculate Daily Stock Returns: Compute the percentage change in daily closing prices to represent stock movements.\n",
    "  - Correlation Analysis: Use statistical methods to test the correlation between daily news sentiment scores and stock returns."
   ]
  },
  {
   "cell_type": "code",
   "execution_count": 1,
   "id": "48e66078",
   "metadata": {},
   "outputs": [],
   "source": [
    "# import required packages\n",
    "\n",
    "import os \n",
    "import sys\n",
    "\n",
    "sys_path = os.path.abspath(\"..\")\n",
    "if sys_path not in sys.path:\n",
    "    sys.path.append(sys_path)\n",
    "\n",
    "%load_ext autoreload\n",
    "%autoreload 2"
   ]
  },
  {
   "cell_type": "code",
   "execution_count": 2,
   "id": "a5876516",
   "metadata": {},
   "outputs": [
    {
     "name": "stdout",
     "output_type": "stream",
     "text": [
      "Local punkt tokenizer found.\n"
     ]
    }
   ],
   "source": [
    "# import scripts with class NewsStockCorrelationAnalyzer\n",
    "from scripts.News_Stock_Correlation_Util import NewsStockCorrelationAnalyzer"
   ]
  },
  {
   "cell_type": "code",
   "execution_count": 3,
   "id": "ba5312bc",
   "metadata": {},
   "outputs": [],
   "source": [
    "# creating instance using NewsStockCorrelationAnalyzer class\n",
    "analysis = NewsStockCorrelationAnalyzer()"
   ]
  },
  {
   "cell_type": "markdown",
   "id": "4575232e",
   "metadata": {},
   "source": [
    "#### loading financial news data "
   ]
  },
  {
   "cell_type": "code",
   "execution_count": 11,
   "id": "8ae0f9be",
   "metadata": {},
   "outputs": [
    {
     "name": "stdout",
     "output_type": "stream",
     "text": [
      "----------------Loading FNSPID data from ../data/raw_analyst_ratings.csv------------\n"
     ]
    },
    {
     "data": {
      "application/vnd.microsoft.datawrangler.viewer.v0+json": {
       "columns": [
        {
         "name": "index",
         "rawType": "int64",
         "type": "integer"
        },
        {
         "name": "Unnamed: 0",
         "rawType": "int64",
         "type": "integer"
        },
        {
         "name": "headline",
         "rawType": "object",
         "type": "string"
        },
        {
         "name": "url",
         "rawType": "object",
         "type": "string"
        },
        {
         "name": "publisher",
         "rawType": "object",
         "type": "string"
        },
        {
         "name": "date",
         "rawType": "datetime64[ns, UTC-04:00]",
         "type": "unknown"
        },
        {
         "name": "stock",
         "rawType": "object",
         "type": "string"
        }
       ],
       "ref": "abac0e0d-b5ca-44c2-bfbe-e7eb4a4c7471",
       "rows": [
        [
         "0",
         "0",
         "Stocks That Hit 52-Week Highs On Friday",
         "https://www.benzinga.com/news/20/06/16190091/stocks-that-hit-52-week-highs-on-friday",
         "Benzinga Insights",
         "2020-06-05 10:30:54-04:00",
         "A"
        ],
        [
         "1",
         "1",
         "Stocks That Hit 52-Week Highs On Wednesday",
         "https://www.benzinga.com/news/20/06/16170189/stocks-that-hit-52-week-highs-on-wednesday",
         "Benzinga Insights",
         "2020-06-03 10:45:20-04:00",
         "A"
        ],
        [
         "2",
         "2",
         "71 Biggest Movers From Friday",
         "https://www.benzinga.com/news/20/05/16103463/71-biggest-movers-from-friday",
         "Lisa Levin",
         "2020-05-26 04:30:07-04:00",
         "A"
        ],
        [
         "3",
         "3",
         "46 Stocks Moving In Friday's Mid-Day Session",
         "https://www.benzinga.com/news/20/05/16095921/46-stocks-moving-in-fridays-mid-day-session",
         "Lisa Levin",
         "2020-05-22 12:45:06-04:00",
         "A"
        ],
        [
         "4",
         "4",
         "B of A Securities Maintains Neutral on Agilent Technologies, Raises Price Target to $88",
         "https://www.benzinga.com/news/20/05/16095304/b-of-a-securities-maintains-neutral-on-agilent-technologies-raises-price-target-to-88",
         "Vick Meyer",
         "2020-05-22 11:38:59-04:00",
         "A"
        ],
        [
         "5",
         "5",
         "CFRA Maintains Hold on Agilent Technologies, Lowers Price Target to $85",
         "https://www.benzinga.com/news/20/05/16095163/cfra-maintains-hold-on-agilent-technologies-lowers-price-target-to-85",
         "vishwanath@benzinga.com",
         "2020-05-22 11:23:25-04:00",
         "A"
        ],
        [
         "6",
         "6",
         "UBS Maintains Neutral on Agilent Technologies, Raises Price Target to $87",
         "https://www.benzinga.com/news/20/05/16094027/ubs-maintains-neutral-on-agilent-technologies-raises-price-target-to-87",
         "vishwanath@benzinga.com",
         "2020-05-22 09:36:20-04:00",
         "A"
        ],
        [
         "7",
         "7",
         "Agilent Technologies shares are trading higher after the company reported better-than-expected Q2 EPS and sales results.",
         "https://www.benzinga.com/wiim/20/05/16093805/agilent-technologies-shares-are-trading-higher-after-the-company-reported-better-than-expected-q2-ep",
         "Benzinga Newsdesk",
         "2020-05-22 09:07:04-04:00",
         "A"
        ],
        [
         "8",
         "8",
         "Wells Fargo Maintains Overweight on Agilent Technologies, Raises Price Target to $95",
         "https://www.benzinga.com/news/20/05/16093505/wells-fargo-maintains-overweight-on-agilent-technologies-raises-price-target-to-95",
         "vishwanath@benzinga.com",
         "2020-05-22 08:37:59-04:00",
         "A"
        ],
        [
         "9",
         "9",
         "10 Biggest Price Target Changes For Friday",
         "https://www.benzinga.com/analyst-ratings/price-target/20/05/16093262/10-biggest-price-target-changes-for-friday",
         "Lisa Levin",
         "2020-05-22 08:06:17-04:00",
         "A"
        ],
        [
         "10",
         "10",
         "30 Stocks Moving in Friday's Pre-Market Session",
         "https://www.benzinga.com/news/20/05/16092879/30-stocks-moving-in-fridays-pre-market-session",
         "Lisa Levin",
         "2020-05-22 00:00:00-04:00",
         "A"
        ],
        [
         "11",
         "11",
         "SVB Leerink Maintains Outperform on Agilent Technologies, Raises Price Target to $95",
         "https://www.benzinga.com/news/20/05/16092270/svb-leerink-maintains-outperform-on-agilent-technologies-raises-price-target-to-95",
         "vishwanath@benzinga.com",
         "2020-05-22 00:00:00-04:00",
         "A"
        ],
        [
         "12",
         "12",
         "8 Stocks Moving In Thursday's After-Hours Session",
         "https://www.benzinga.com/news/20/05/16089803/8-stocks-moving-in-thursdays-after-hours-session",
         "Tyree Gorges",
         "2020-05-21 00:00:00-04:00",
         "A"
        ],
        [
         "13",
         "13",
         "Agilent Technologies shares are trading higher after the company reported better-than-expected Q2 EPS and sales results.",
         "https://www.benzinga.com/wiim/20/05/16089218/agilent-technologies-shares-are-trading-higher-after-the-company-reported-better-than-expected-q2-ep",
         "Benzinga Newsdesk",
         "2020-05-21 00:00:00-04:00",
         "A"
        ],
        [
         "14",
         "14",
         "Agilent Technologies Q2 Adj. EPS $0.71 Beats $0.61 Estimate, Sales $1.24B Beat $1.21B Estimate",
         "https://www.benzinga.com/news/earnings/20/05/16088886/agilent-technologies-q2-adj-eps-0-71-beats-0-61-estimate-sales-1-24b-beat-1-21b-estimate",
         "Benzinga Newsdesk",
         "2020-05-21 00:00:00-04:00",
         "A"
        ],
        [
         "15",
         "15",
         "Earnings Scheduled For May 21, 2020",
         "https://www.benzinga.com/news/earnings/20/05/16082427/earnings-scheduled-for-may-21-2020",
         "Lisa Levin",
         "2020-05-21 00:00:00-04:00",
         "A"
        ],
        [
         "16",
         "16",
         "Agilent Technologies Receives FDA Approval for PD-L1 as a Companion Diagnostic",
         "https://www.benzinga.com/news/20/05/16054223/agilent-technologies-receives-fda-approval-for-pd-l1-as-a-companion-diagnostic",
         "Luke J Jacobi",
         "2020-05-18 00:00:00-04:00",
         "A"
        ],
        [
         "17",
         "17",
         "Q1 13F Roundup: How Buffett, Einhorn, Ackman And Others Adjusted Their Portfolios",
         "https://www.benzinga.com/news/20/05/16051311/q1-13f-roundup-how-buffett-einhorn-ackman-and-others-adjusted-their-portfolios",
         "Wayne Duggan",
         "2020-05-16 00:00:00-04:00",
         "A"
        ],
        [
         "18",
         "18",
         "Pershing Square 13F Shows Fund Raises Stake In Agilent Technologies To 12,626,593 Shares",
         "https://www.benzinga.com/general/hedge-funds/20/05/16048806/pershing-square-13f-shows-fund-raises-stake-in-agilent-technologies-to-12-626-593-shares",
         "Benzinga Newsdesk",
         "2020-05-15 00:00:00-04:00",
         "A"
        ],
        [
         "19",
         "19",
         "How Bill Ackman Successfully Navigated Coronavirus Market Volatility",
         "https://www.benzinga.com/general/education/20/05/15979110/how-bill-ackman-successfully-navigated-coronavirus-market-volatility",
         "Wayne Duggan",
         "2020-05-08 00:00:00-04:00",
         "A"
        ],
        [
         "20",
         "20",
         "Shares of several healthcare companies are trading higher amid positive investor sentiment as some US states begin to reopen their economies and as oil prices gain for the session.",
         "https://www.benzinga.com/wiim/20/05/15957697/shares-of-several-healthcare-companies-are-trading-higher-amid-positive-investor-sentiment-as-some-u",
         "Benzinga Newsdesk",
         "2020-05-05 00:00:00-04:00",
         "A"
        ],
        [
         "21",
         "21",
         "Shares of several healthcare companies are trading lower as markets dip following recent strength. Markets have sold off as investors weigh recent earnings and amid concerns of renewed US-China trade frictions.",
         "https://www.benzinga.com/20/05/15935673/shares-of-several-healthcare-companies-are-trading-lower-as-markets-dip-following-recent-strength-ma",
         "Benzinga Newsdesk",
         "2020-05-01 00:00:00-04:00",
         "A"
        ],
        [
         "22",
         "22",
         "UBS Maintains Neutral on Agilent Technologies, Lowers Price Target to $84",
         "https://www.benzinga.com/news/20/04/15897306/ubs-maintains-neutral-on-agilent-technologies-lowers-price-target-to-84",
         "vishwanath@benzinga.com",
         "2020-04-28 00:00:00-04:00",
         "A"
        ],
        [
         "23",
         "23",
         "Agilent Reports FDA Approval For PD-L1 Companion Diagnostic On Dako Omni",
         "https://www.benzinga.com/news/20/04/15864339/agilent-reports-fda-approval-for-pd-l1-companion-diagnostic-on-dako-omni",
         "Benzinga Newsdesk",
         "2020-04-23 00:00:00-04:00",
         "A"
        ],
        [
         "24",
         "24",
         "Agilent Reports Has Become Top-Level Sponsor Of My Green Lab",
         "https://www.benzinga.com/news/20/04/15855436/agilent-reports-has-become-top-level-sponsor-of-my-green-lab",
         "Benzinga Newsdesk",
         "2020-04-22 00:00:00-04:00",
         "A"
        ],
        [
         "25",
         "25",
         "Agilent Withdraws Q2 And FY20 Guidance",
         "https://www.benzinga.com/news/20/04/15796369/agilent-withdraws-q2-and-fy20-guidance",
         "Benzinga Newsdesk",
         "2020-04-14 00:00:00-04:00",
         "A"
        ],
        [
         "26",
         "26",
         "Shares of several companies in the auto dealer space are trading higher amid positive market sentiment. Speculation some coronavirus hotspots leveling off has raised hopes of a return to economic activity, which could mean a rebound in consumer spending.",
         "https://www.benzinga.com/wiim/20/04/15769071/shares-of-several-companies-in-the-auto-dealer-space-are-trading-higher-amid-positive-market-sentime",
         "Benzinga Newsdesk",
         "2020-04-08 00:00:00-04:00",
         "A"
        ],
        [
         "27",
         "27",
         "Shares of several healthcare companies are trading higher as markets gain amid optimism that coronavirus cases in several US hotspots may be peaking. A sooner peak could mean a sooner return to economic activity.",
         "https://www.benzinga.com/wiim/20/04/15748126/shares-of-several-healthcare-companies-are-trading-higher-as-markets-gain-amid-optimism-that-coronav",
         "Benzinga Newsdesk",
         "2020-04-06 00:00:00-04:00",
         "A"
        ],
        [
         "28",
         "28",
         "Stifel Maintains Hold on Agilent Technologies, Lowers Price Target to $73",
         "https://www.benzinga.com/news/20/04/15728603/stifel-maintains-hold-on-agilent-technologies-lowers-price-target-to-73",
         "Vick Meyer",
         "2020-04-02 00:00:00-04:00",
         "A"
        ],
        [
         "29",
         "29",
         "Shares of several healthcare companies are trading lower amid market weakness as growing coronavirus concerns in the US weigh on equities.",
         "https://www.benzinga.com/wiim/20/04/15717065/shares-of-several-healthcare-companies-are-trading-lower-amid-market-weakness-as-growing-coronavirus",
         "Benzinga Newsdesk",
         "2020-04-01 00:00:00-04:00",
         "A"
        ],
        [
         "30",
         "30",
         "Int'l. Air Transport Authority Chief Economist Sees Consolidation In Airline Sector As Some Airlines Fail, Calls Signs In Chinese Domestic Market 'Encouraging,' Load Factors Are About 60%",
         "https://www.benzinga.com/news/20/03/15705690/intl-air-transport-authority-chief-economist-sees-consolidation-in-airline-sector-as-some-airlines-f",
         "Benzinga Newsdesk",
         "2020-03-31 00:00:00-04:00",
         "A"
        ],
        [
         "31",
         "31",
         "Wells Fargo Maintains Overweight on Agilent Technologies, Lowers Price Target to $82",
         "https://www.benzinga.com/news/20/03/15695415/wells-fargo-maintains-overweight-on-agilent-technologies-lowers-price-target-to-82",
         "Vick Meyer",
         "2020-03-30 00:00:00-04:00",
         "A"
        ],
        [
         "32",
         "32",
         "Shares of several technology companies are trading higher as equities continue to rise following last week's rebound amid US stimulus measures.",
         "https://www.benzinga.com/wiim/20/03/15695372/shares-of-several-technology-companies-are-trading-higher-as-equities-continue-to-rise-following-las",
         "Benzinga Newsdesk",
         "2020-03-30 00:00:00-04:00",
         "A"
        ],
        [
         "33",
         "33",
         "Shares of several healthcare companies are trading lower, selling off from this week's strength. While the US stimulus package boosted economic optimism, demand concerns still exist amid the coronavirus outbreak.",
         "https://www.benzinga.com/wiim/20/03/15683827/shares-of-several-healthcare-companies-are-trading-lower-selling-off-from-this-weeks-strength-while",
         "Benzinga Newsdesk",
         "2020-03-27 00:00:00-04:00",
         "A"
        ],
        [
         "34",
         "34",
         "Shares of several healthcare companies are trading higher following Senate passage of a $2 trillion economic stimulus package, which has lifted stocks across sectors.",
         "https://www.benzinga.com/wiim/20/03/15674560/shares-of-several-healthcare-companies-are-trading-higher-following-senate-passage-of-a-2-trillion-e",
         "Benzinga Newsdesk",
         "2020-03-26 00:00:00-04:00",
         "A"
        ],
        [
         "35",
         "35",
         "Barclays Maintains Equal-Weight on Agilent Technologies, Lowers Price Target to $76",
         "https://www.benzinga.com/news/20/03/15673665/barclays-maintains-equal-weight-on-agilent-technologies-lowers-price-target-to-76",
         "Vick Meyer",
         "2020-03-26 00:00:00-04:00",
         "A"
        ],
        [
         "36",
         "36",
         "Ariel Chairman John Rogers Thinks Current Market Is 'Once In A Lifetime Opportunity To Buy Stocks'",
         "https://www.benzinga.com/news/20/03/15668620/ariel-chairman-john-rogers-thinks-current-market-is-once-in-a-lifetime-opportunity-to-buy-stocks",
         "Shivdeep Dhaliwal",
         "2020-03-26 00:00:00-04:00",
         "A"
        ],
        [
         "37",
         "37",
         "Citigroup Maintains Neutral on Agilent Technologies, Lowers Price Target to $75",
         "https://www.benzinga.com/news/20/03/15615851/citigroup-maintains-neutral-on-agilent-technologies-lowers-price-target-to-75",
         "Vick Meyer",
         "2020-03-20 00:00:00-04:00",
         "A"
        ],
        [
         "38",
         "38",
         "Stocks That Hit 52-Week Lows On Monday",
         "https://www.benzinga.com/news/20/03/15560273/stocks-that-hit-52-week-lows-on-monday",
         "Benzinga Newsdesk",
         "2020-03-16 00:00:00-04:00",
         "A"
        ],
        [
         "39",
         "39",
         "Shares of several healthcare companies are trading lower in sympathy with the overall market on continued downward momentum caused by the coronavirus. The virus has had a negative impact on the global economy.",
         "https://www.benzinga.com/wiim/20/03/15558425/shares-of-several-healthcare-companies-are-trading-lower-in-sympathy-with-the-overall-market-on-cont",
         "Benzinga Newsdesk",
         "2020-03-16 00:00:00-04:00",
         "A"
        ],
        [
         "40",
         "40",
         "Shares of several basic materials companies are trading higher, rebounding following Thursday's crash. The sector has been volatile amid the coronavirus outbreak, which has disrupted economic activity. NOTE: While markets rebound, virus fears persist.",
         "https://www.benzinga.com/wiim/20/03/15546085/shares-of-several-basic-materials-companies-are-trading-higher-rebounding-following-thursdays-crash",
         "Benzinga Newsdesk",
         "2020-03-13 00:00:00-04:00",
         "A"
        ],
        [
         "41",
         "41",
         "Stocks That Hit 52-Week Lows On Thursday",
         "https://www.benzinga.com/news/20/03/15538835/stocks-that-hit-52-week-lows-on-thursday",
         "Lisa Levin",
         "2020-03-12 00:00:00-04:00",
         "A"
        ],
        [
         "42",
         "42",
         "Shares of several coronavirus-related companies including vaccine makers, protective apparel manufacturers and emergency medical suppliers are trading higher as the coronavirus continues to spread globally.",
         "https://www.benzinga.com/wiim/20/03/15528213/shares-of-several-coronavirus-related-companies-including-vaccine-makers-protective-apparel-manufact",
         "luke@benzinga.com",
         "2020-03-11 00:00:00-04:00",
         "A"
        ],
        [
         "43",
         "43",
         "Agilent Technologies Inc Says In January 2020, Net Revenue Was Negatively Impacted Due To The Public Health Crisis In China; Says In Jan 2020, Net Revenue Negatively Impacted Also Due To Extension Of Lunar New Year Resulting In Fewer Selling Days In Month",
         "https://www.benzinga.com/news/20/03/15472189/agilent-technologies-inc-says-in-january-2020-net-revenue-was-negatively-impacted-due-to-the-public",
         "luke@benzinga.com",
         "2020-03-03 00:00:00-04:00",
         "A"
        ],
        [
         "44",
         "44",
         "Shares of several healthcare companies are trading higher in sympathy with the overall market as it rebounds from a selloff caused by coronavirus fears.",
         "https://www.benzinga.com/wiim/20/03/15456786/shares-of-several-healthcare-companies-are-trading-higher-in-sympathy-with-the-overall-market-as-it",
         "Benzinga Newsdesk",
         "2020-03-02 00:00:00-04:00",
         "A"
        ],
        [
         "45",
         "45",
         "Benzinga's Top Upgrades, Downgrades For February 24, 2020",
         "https://www.benzinga.com/analyst-ratings/upgrades/20/02/15393664/benzingas-top-upgrades-downgrades-for-february-24-2020",
         "Lisa Levin",
         "2020-02-24 00:00:00-04:00",
         "A"
        ],
        [
         "46",
         "46",
         "Shares of several software companies are trading lower as the coronavirus cases surge outside of China. NOTE: The virus has raised fear of a global economic slowdown.",
         "https://www.benzinga.com/wiim/20/02/15392140/shares-of-several-software-companies-are-trading-lower-as-the-coronavirus-cases-surge-outside-of-chi",
         "Benzinga Newsdesk",
         "2020-02-24 00:00:00-04:00",
         "A"
        ],
        [
         "47",
         "47",
         "Needham Downgrades Agilent Technologies to Hold, Announces $85 Price Target",
         "https://www.benzinga.com/news/20/02/15391251/needham-downgrades-agilent-technologies-to-hold-announces-85-price-target",
         "Vick Meyer",
         "2020-02-24 00:00:00-04:00",
         "A"
        ],
        [
         "48",
         "48",
         "UBS Maintains Neutral on Agilent Technologies, Raises Price Target to $90",
         "https://www.benzinga.com/news/20/02/15363071/ubs-maintains-neutral-on-agilent-technologies-raises-price-target-to-90",
         "Vick Meyer",
         "2020-02-19 00:00:00-04:00",
         "A"
        ],
        [
         "49",
         "49",
         "12 Stocks Moving In Tuesday's After-Hours Session",
         "https://www.benzinga.com/news/20/02/15359453/12-stocks-moving-in-tuesdays-after-hours-session",
         "Tyree Gorges",
         "2020-02-18 00:00:00-04:00",
         "A"
        ]
       ],
       "shape": {
        "columns": 6,
        "rows": 1407328
       }
      },
      "text/html": [
       "<div>\n",
       "<style scoped>\n",
       "    .dataframe tbody tr th:only-of-type {\n",
       "        vertical-align: middle;\n",
       "    }\n",
       "\n",
       "    .dataframe tbody tr th {\n",
       "        vertical-align: top;\n",
       "    }\n",
       "\n",
       "    .dataframe thead th {\n",
       "        text-align: right;\n",
       "    }\n",
       "</style>\n",
       "<table border=\"1\" class=\"dataframe\">\n",
       "  <thead>\n",
       "    <tr style=\"text-align: right;\">\n",
       "      <th></th>\n",
       "      <th>Unnamed: 0</th>\n",
       "      <th>headline</th>\n",
       "      <th>url</th>\n",
       "      <th>publisher</th>\n",
       "      <th>date</th>\n",
       "      <th>stock</th>\n",
       "    </tr>\n",
       "  </thead>\n",
       "  <tbody>\n",
       "    <tr>\n",
       "      <th>0</th>\n",
       "      <td>0</td>\n",
       "      <td>Stocks That Hit 52-Week Highs On Friday</td>\n",
       "      <td>https://www.benzinga.com/news/20/06/16190091/s...</td>\n",
       "      <td>Benzinga Insights</td>\n",
       "      <td>2020-06-05 10:30:54-04:00</td>\n",
       "      <td>A</td>\n",
       "    </tr>\n",
       "    <tr>\n",
       "      <th>1</th>\n",
       "      <td>1</td>\n",
       "      <td>Stocks That Hit 52-Week Highs On Wednesday</td>\n",
       "      <td>https://www.benzinga.com/news/20/06/16170189/s...</td>\n",
       "      <td>Benzinga Insights</td>\n",
       "      <td>2020-06-03 10:45:20-04:00</td>\n",
       "      <td>A</td>\n",
       "    </tr>\n",
       "    <tr>\n",
       "      <th>2</th>\n",
       "      <td>2</td>\n",
       "      <td>71 Biggest Movers From Friday</td>\n",
       "      <td>https://www.benzinga.com/news/20/05/16103463/7...</td>\n",
       "      <td>Lisa Levin</td>\n",
       "      <td>2020-05-26 04:30:07-04:00</td>\n",
       "      <td>A</td>\n",
       "    </tr>\n",
       "    <tr>\n",
       "      <th>3</th>\n",
       "      <td>3</td>\n",
       "      <td>46 Stocks Moving In Friday's Mid-Day Session</td>\n",
       "      <td>https://www.benzinga.com/news/20/05/16095921/4...</td>\n",
       "      <td>Lisa Levin</td>\n",
       "      <td>2020-05-22 12:45:06-04:00</td>\n",
       "      <td>A</td>\n",
       "    </tr>\n",
       "    <tr>\n",
       "      <th>4</th>\n",
       "      <td>4</td>\n",
       "      <td>B of A Securities Maintains Neutral on Agilent...</td>\n",
       "      <td>https://www.benzinga.com/news/20/05/16095304/b...</td>\n",
       "      <td>Vick Meyer</td>\n",
       "      <td>2020-05-22 11:38:59-04:00</td>\n",
       "      <td>A</td>\n",
       "    </tr>\n",
       "    <tr>\n",
       "      <th>...</th>\n",
       "      <td>...</td>\n",
       "      <td>...</td>\n",
       "      <td>...</td>\n",
       "      <td>...</td>\n",
       "      <td>...</td>\n",
       "      <td>...</td>\n",
       "    </tr>\n",
       "    <tr>\n",
       "      <th>1407323</th>\n",
       "      <td>1413844</td>\n",
       "      <td>Top Narrow Based Indexes For August 29</td>\n",
       "      <td>https://www.benzinga.com/news/11/08/1888782/to...</td>\n",
       "      <td>Monica Gerson</td>\n",
       "      <td>2011-08-29 00:00:00-04:00</td>\n",
       "      <td>ZX</td>\n",
       "    </tr>\n",
       "    <tr>\n",
       "      <th>1407324</th>\n",
       "      <td>1413845</td>\n",
       "      <td>Recap: Wednesday's Top Percentage Gainers and ...</td>\n",
       "      <td>https://www.benzinga.com/news/earnings/11/06/1...</td>\n",
       "      <td>Benjamin Lee</td>\n",
       "      <td>2011-06-22 00:00:00-04:00</td>\n",
       "      <td>ZX</td>\n",
       "    </tr>\n",
       "    <tr>\n",
       "      <th>1407325</th>\n",
       "      <td>1413846</td>\n",
       "      <td>UPDATE: Oppenheimer Color on China Zenix Auto ...</td>\n",
       "      <td>https://www.benzinga.com/analyst-ratings/analy...</td>\n",
       "      <td>BenzingaStaffL</td>\n",
       "      <td>2011-06-21 00:00:00-04:00</td>\n",
       "      <td>ZX</td>\n",
       "    </tr>\n",
       "    <tr>\n",
       "      <th>1407326</th>\n",
       "      <td>1413847</td>\n",
       "      <td>Oppenheimer Initiates China Zenix At Outperfor...</td>\n",
       "      <td>https://www.benzinga.com/analyst-ratings/price...</td>\n",
       "      <td>Joe Young</td>\n",
       "      <td>2011-06-21 00:00:00-04:00</td>\n",
       "      <td>ZX</td>\n",
       "    </tr>\n",
       "    <tr>\n",
       "      <th>1407327</th>\n",
       "      <td>1413848</td>\n",
       "      <td>China Zenix Auto International Opens For Tradi...</td>\n",
       "      <td>https://www.benzinga.com/news/ipos/11/05/10789...</td>\n",
       "      <td>Allie Wickman</td>\n",
       "      <td>2011-05-12 00:00:00-04:00</td>\n",
       "      <td>ZX</td>\n",
       "    </tr>\n",
       "  </tbody>\n",
       "</table>\n",
       "<p>1407328 rows × 6 columns</p>\n",
       "</div>"
      ],
      "text/plain": [
       "         Unnamed: 0                                           headline  \\\n",
       "0                 0            Stocks That Hit 52-Week Highs On Friday   \n",
       "1                 1         Stocks That Hit 52-Week Highs On Wednesday   \n",
       "2                 2                      71 Biggest Movers From Friday   \n",
       "3                 3       46 Stocks Moving In Friday's Mid-Day Session   \n",
       "4                 4  B of A Securities Maintains Neutral on Agilent...   \n",
       "...             ...                                                ...   \n",
       "1407323     1413844             Top Narrow Based Indexes For August 29   \n",
       "1407324     1413845  Recap: Wednesday's Top Percentage Gainers and ...   \n",
       "1407325     1413846  UPDATE: Oppenheimer Color on China Zenix Auto ...   \n",
       "1407326     1413847  Oppenheimer Initiates China Zenix At Outperfor...   \n",
       "1407327     1413848  China Zenix Auto International Opens For Tradi...   \n",
       "\n",
       "                                                       url          publisher  \\\n",
       "0        https://www.benzinga.com/news/20/06/16190091/s...  Benzinga Insights   \n",
       "1        https://www.benzinga.com/news/20/06/16170189/s...  Benzinga Insights   \n",
       "2        https://www.benzinga.com/news/20/05/16103463/7...         Lisa Levin   \n",
       "3        https://www.benzinga.com/news/20/05/16095921/4...         Lisa Levin   \n",
       "4        https://www.benzinga.com/news/20/05/16095304/b...         Vick Meyer   \n",
       "...                                                    ...                ...   \n",
       "1407323  https://www.benzinga.com/news/11/08/1888782/to...      Monica Gerson   \n",
       "1407324  https://www.benzinga.com/news/earnings/11/06/1...       Benjamin Lee   \n",
       "1407325  https://www.benzinga.com/analyst-ratings/analy...     BenzingaStaffL   \n",
       "1407326  https://www.benzinga.com/analyst-ratings/price...          Joe Young   \n",
       "1407327  https://www.benzinga.com/news/ipos/11/05/10789...      Allie Wickman   \n",
       "\n",
       "                             date stock  \n",
       "0       2020-06-05 10:30:54-04:00     A  \n",
       "1       2020-06-03 10:45:20-04:00     A  \n",
       "2       2020-05-26 04:30:07-04:00     A  \n",
       "3       2020-05-22 12:45:06-04:00     A  \n",
       "4       2020-05-22 11:38:59-04:00     A  \n",
       "...                           ...   ...  \n",
       "1407323 2011-08-29 00:00:00-04:00    ZX  \n",
       "1407324 2011-06-22 00:00:00-04:00    ZX  \n",
       "1407325 2011-06-21 00:00:00-04:00    ZX  \n",
       "1407326 2011-06-21 00:00:00-04:00    ZX  \n",
       "1407327 2011-05-12 00:00:00-04:00    ZX  \n",
       "\n",
       "[1407328 rows x 6 columns]"
      ]
     },
     "execution_count": 11,
     "metadata": {},
     "output_type": "execute_result"
    }
   ],
   "source": [
    "# reading financial news data \n",
    "news_data = analysis.load_news_data('../data/raw_analyst_ratings.csv')\n",
    "news_data"
   ]
  },
  {
   "cell_type": "markdown",
   "id": "27252dab",
   "metadata": {},
   "source": [
    "- The notebook loads financial news data from a CSV file (raw_analyst_ratings.csv), which contains headlines, URLs, publishers, dates, and associated stock tickers.\n",
    "- The dataset is large, with over 1.4 million rows, covering news articles from various publishers Insights."
   ]
  },
  {
   "cell_type": "code",
   "execution_count": 12,
   "id": "b6718af3",
   "metadata": {},
   "outputs": [
    {
     "data": {
      "application/vnd.microsoft.datawrangler.viewer.v0+json": {
       "columns": [
        {
         "name": "index",
         "rawType": "int64",
         "type": "integer"
        },
        {
         "name": "headline",
         "rawType": "object",
         "type": "string"
        },
        {
         "name": "url",
         "rawType": "object",
         "type": "string"
        },
        {
         "name": "publisher",
         "rawType": "object",
         "type": "string"
        },
        {
         "name": "date",
         "rawType": "datetime64[ns, UTC-04:00]",
         "type": "unknown"
        },
        {
         "name": "stock",
         "rawType": "object",
         "type": "string"
        }
       ],
       "ref": "64b86e94-56fd-47f9-b74e-a9ab02404106",
       "rows": [
        [
         "6680",
         "Tech Stocks And FAANGS Strong Again To Start Day As Market Awaits Fed",
         "https://www.benzinga.com/government/20/06/16223418/tech-stocks-and-faangs-strong-again-to-start-day-as-market-awaits-fed",
         "JJ Kinahan",
         "2020-06-10 11:33:26-04:00",
         "AAPL"
        ],
        [
         "6681",
         "10 Biggest Price Target Changes For Wednesday",
         "https://www.benzinga.com/analyst-ratings/price-target/20/06/16220539/10-biggest-price-target-changes-for-wednesday",
         "Lisa Levin",
         "2020-06-10 08:14:08-04:00",
         "AAPL"
        ],
        [
         "6682",
         "Benzinga Pro's Top 5 Stocks To Watch For Wed., Jun. 10, 2020: AAPL, BAC, NIO, SONO, GLW",
         "https://www.benzinga.com/short-sellers/20/06/16220099/benzinga-pros-top-5-stocks-to-watch-for-wed-jun-10-2020-aapl-bac-nio-sono-glw",
         "Benzinga Newsdesk",
         "2020-06-10 07:53:47-04:00",
         "AAPL"
        ],
        [
         "6683",
         "Deutsche Bank Maintains Buy on Apple, Raises Price Target to $350",
         "https://www.benzinga.com/news/20/06/16219873/deutsche-bank-maintains-buy-on-apple-raises-price-target-to-350",
         "Benzinga Newsdesk",
         "2020-06-10 07:19:25-04:00",
         "AAPL"
        ],
        [
         "6684",
         "Apple To Let Users Trade In Their Mac Computers For Credit At US, Canada Stores: Report",
         "https://www.benzinga.com/news/20/06/16218697/apple-to-let-users-turn-in-their-mac-computers-for-credit-at-us-canada-stores-starting-this-month-re",
         "Neer Varshney",
         "2020-06-10 06:27:11-04:00",
         "AAPL"
        ],
        [
         "6685",
         "Big Tech Reaches New Record Heights At The Stock Market",
         "https://www.benzinga.com/news/20/06/16218615/big-tech-reaches-new-record-heights-at-the-stock-market",
         "Neer Varshney",
         "2020-06-10 00:52:01-04:00",
         "AAPL"
        ],
        [
         "6686",
         "Why Apple's Stock Is Trading Higher Today",
         "https://www.benzinga.com/news/20/06/16215446/why-apples-stock-is-trading-higher-today",
         "Tanzeel Akhtar",
         "2020-06-09 15:14:07-04:00",
         "AAPL"
        ],
        [
         "6687",
         "Apple Could Announce In-House Chips For Macs At WWDC: Report",
         "https://www.benzinga.com/news/20/06/16214115/apple-could-announce-in-house-chips-for-macs-at-wwdc-report",
         "Shanthi Rexaline",
         "2020-06-09 13:58:46-04:00",
         "AAPL"
        ],
        [
         "6688",
         "Apple shares are trading higher despite market weakness, not currently seeing company-specific news. It was reported the company is expected to begin iPhone 12 production in July.",
         "https://www.benzinga.com/wiim/20/06/16214320/apple-shares-are-trading-higher-despite-market-weakness-not-currently-seeing-company-specific-news-i",
         "Benzinga Newsdesk",
         "2020-06-09 12:41:02-04:00",
         "AAPL"
        ],
        [
         "6689",
         "Sonos Shares Spike To Session High, Now Up 9.5%, As Citron's Andrew Left, Currently Interviewing On FOX Business, Said Co. Could Be Acquired By Apple Or Amazon",
         "https://www.benzinga.com/m-a/20/06/16213381/sonos-shares-spike-to-session-high-now-up-9-5-as-citrons-andrew-left-currently-interviewing-on-fox-b",
         "Benzinga Newsdesk",
         "2020-06-09 11:11:34-04:00",
         "AAPL"
        ],
        [
         "6690",
         "'Apple is tracking iPhones stolen by looters' -Earlier NY Post Article",
         "https://www.benzinga.com/news/20/06/16161103/apple-is-tracking-iphones-stolen-by-looters-earlier-ny-post-article",
         "Benzinga Newsdesk",
         "2020-06-02 00:00:00-04:00",
         "AAPL"
        ],
        [
         "6691",
         "MoneyGram Shares Jump 50% As Western Union Reportedly Looks For Acquisition",
         "https://www.benzinga.com/m-a/20/06/16156730/moneygram-shares-jump-50-as-western-union-reportedly-looks-for-acquisition",
         "Neer Varshney",
         "2020-06-02 00:00:00-04:00",
         "AAPL"
        ],
        [
         "6692",
         "Hearing Susquehanna Check Suggests Total iPhone 12 Builds Tracking To 10M, Below Firm's Expectation Of 25M; Unconfirmed",
         "https://www.benzinga.com/analyst-ratings/analyst-color/20/06/16158083/hearing-susquehanna-check-suggests-total-iphone-12-builds-tracking-to-10m-below-fir",
         "Benzinga Newsdesk",
         "2020-06-02 00:00:00-04:00",
         "AAPL"
        ],
        [
         "6693",
         "Tesla CEO Musk Says Other Three Officers Should Be Charged In Floyd's Murder Case",
         "https://www.benzinga.com/news/20/06/16156648/tesla-ceo-musk-says-other-three-officers-should-be-charged-in-floyds-murder-case",
         "Neer Varshney",
         "2020-06-02 00:00:00-04:00",
         "AAPL"
        ],
        [
         "6694",
         "A Peek Into The Markets: US Stock Futures Up; Crude Oil Rises Over 2%",
         "https://www.benzinga.com/news/earnings/20/06/16157378/a-peek-into-the-markets-us-stock-futures-up-crude-oil-rises-over-2",
         "Lisa Levin",
         "2020-06-02 00:00:00-04:00",
         "AAPL"
        ],
        [
         "6695",
         "Pepper Spray, Books On Racism, 'I Can't Breathe' Merchandise Are Top Sellers On Amazon As Protests Rage",
         "https://www.benzinga.com/news/20/06/16156515/pepper-spray-books-on-racism-i-cant-breathe-merchandise-are-top-sellers-on-amazon-as-protests-rage",
         "Neer Varshney",
         "2020-06-02 00:00:00-04:00",
         "AAPL"
        ],
        [
         "6696",
         "Apple Cuts iPhone Prices in China To Push Sales As Country Reopens Economy",
         "https://www.benzinga.com/news/20/06/16156462/apple-cuts-iphone-prices-in-china-to-push-sales-as-country-reopens-economy",
         "Shivdeep Dhaliwal",
         "2020-06-01 00:00:00-04:00",
         "AAPL"
        ],
        [
         "6697",
         "Gun, Security Stocks Trade Higher After Weekend Protests Turn Violent And Destructive",
         "https://www.benzinga.com/news/20/06/16150247/gun-security-stocks-trade-higher-after-weekend-protests-turn-violent-and-destructive",
         "Wayne Duggan",
         "2020-06-01 00:00:00-04:00",
         "AAPL"
        ],
        [
         "6698",
         "Carter Worth And Mike Khouw's Apple Trade",
         "https://www.benzinga.com/markets/options/20/06/16148745/carter-worth-and-mike-khouws-apple-trade",
         "Craig Jones",
         "2020-06-01 00:00:00-04:00",
         "AAPL"
        ],
        [
         "6699",
         "Apple Pays Hacker From India $100,000 For Discovering Serious 'Sign In With Apple' Vulnerability",
         "https://www.benzinga.com/news/20/06/16146494/apple-pays-hacker-from-india-100-000-for-discovering-serious-sign-in-with-apple-vulnerability",
         "Shivdeep Dhaliwal",
         "2020-06-01 00:00:00-04:00",
         "AAPL"
        ],
        [
         "6700",
         "Volume Production of New iPhone Models to Begin in Q3 2020",
         "https://www.benzinga.com/news/20/06/16147117/volume-production-of-new-iphone-models-to-begin-in-q3-2020",
         "Charles Gross",
         "2020-06-01 00:00:00-04:00",
         "AAPL"
        ],
        [
         "6701",
         "Apple CEO Writes To Employees About George Floyd Death, Urges For 'Better, More Just World For Everyone'",
         "https://www.benzinga.com/news/20/06/16146417/apple-ceo-writes-to-employees-about-george-floyd-death-urges-for-better-more-just-world-for-everyone",
         "Shivdeep Dhaliwal",
         "2020-06-01 00:00:00-04:00",
         "AAPL"
        ],
        [
         "6702",
         "Amazon, Apple, Walmart, Other Retailers Shutter Stores, Scale Back Operations In Areas Worst Hit With Protests",
         "https://www.benzinga.com/news/20/06/16146370/amazon-apple-walmart-other-retailers-shutter-stores-scale-back-operations-in-areas-worst-hit-with-pr",
         "Neer Varshney",
         "2020-05-31 00:00:00-04:00",
         "AAPL"
        ],
        [
         "6703",
         "Apple Says With Health and Safety of Its Teams in Mind, Decided to Keep Number of Its Stores in the U.S. Closed on Sunday",
         "https://www.benzinga.com/news/20/05/16146213/apple-says-with-health-and-safety-of-its-teams-in-mind-decided-to-keep-number-of-its-stores-in-the-u",
         "Charles Gross",
         "2020-05-31 00:00:00-04:00",
         "AAPL"
        ],
        [
         "6704",
         "Costco Shares Come Under Pressure Despite Strong Earnings, Same-Store Sales",
         "https://www.benzinga.com/government/20/05/16138428/costco-shares-come-under-pressure-despite-strong-earnings-same-store-sales",
         "JJ Kinahan",
         "2020-05-29 00:00:00-04:00",
         "AAPL"
        ],
        [
         "6705",
         "Trump's Executive Order To Expose Social Media To Lawsuits Over Content Policies",
         "https://www.benzinga.com/analyst-ratings/analyst-color/20/05/16128213/trumps-executive-order-to-expose-social-media-to-lawsuits-over-content-policies",
         "Elizabeth Balboa",
         "2020-05-28 00:00:00-04:00",
         "AAPL"
        ],
        [
         "6706",
         "Costco Earnings On Tap After Close As Investors Mull Strong Toll Brothers Results",
         "https://www.benzinga.com/news/20/05/16127758/costco-earnings-on-tap-after-close-as-investors-mull-strong-toll-brothers-results",
         "JJ Kinahan",
         "2020-05-28 00:00:00-04:00",
         "AAPL"
        ],
        [
         "6707",
         "Martin Scorsese's Next Movie Will Be Financed By Apple: Report",
         "https://www.benzinga.com/news/20/05/16124204/martin-scorseses-next-movie-will-be-financed-by-apple-report",
         "Shivdeep Dhaliwal",
         "2020-05-28 00:00:00-04:00",
         "AAPL"
        ],
        [
         "6708",
         "Tech Companies Aren't 'State Actors,' Judge Dismisses Conservative Bias Lawsuit Against Facebook, Twitter, Google, Apple",
         "https://www.benzinga.com/news/20/05/16124533/tech-companies-arent-state-actors-judge-dismisses-conservative-bias-lawsuit-against-facebook-twitter",
         "Neer Varshney",
         "2020-05-28 00:00:00-04:00",
         "AAPL"
        ],
        [
         "6709",
         "Leidos Awarded $84.6M Payment from VirnetX Lawsuit vs Apple",
         "https://www.benzinga.com/news/20/05/16123778/leidos-awarded-84-6m-payment-from-virnetx-lawsuit-vs-apple",
         "Charles Gross",
         "2020-05-27 00:00:00-04:00",
         "AAPL"
        ],
        [
         "6710",
         "The Most Popular Smartphone Model Of Q1",
         "https://www.benzinga.com/news/20/05/16115833/the-most-popular-smartphone-model-of-q1",
         "Shanthi Rexaline",
         "2020-05-27 00:00:00-04:00",
         "AAPL"
        ],
        [
         "6711",
         "This New Tool Will Tell You Whether Or Not An Options Spread Is A Good Deal",
         "https://www.benzinga.com/general/education/20/05/16120055/this-new-tool-will-tell-you-whether-or-not-an-options-spread-is-a-good-deal",
         "Spencer Israel",
         "2020-05-27 00:00:00-04:00",
         "AAPL"
        ],
        [
         "6712",
         "B of A Securities Maintains Buy on Apple, Raises Price Target to $340",
         "https://www.benzinga.com/news/20/05/16117795/b-of-a-securities-maintains-buy-on-apple-raises-price-target-to-340",
         "Vick Meyer",
         "2020-05-27 00:00:00-04:00",
         "AAPL"
        ],
        [
         "6713",
         "3 Apple Analysts Lift Price Targets: Why They're Optimistic On iPhone's Trajectory",
         "https://www.benzinga.com/analyst-ratings/analyst-color/20/05/16116516/3-apple-analysts-lift-price-targets-why-theyre-optimistic-on-iphones-trajectory",
         "Shanthi Rexaline",
         "2020-05-27 00:00:00-04:00",
         "AAPL"
        ],
        [
         "6714",
         "'LG reportedly supplying 20 million OLED panels for 'iPhone 12 Max'' -AppleInsider",
         "https://www.benzinga.com/news/20/05/16115993/lg-reportedly-supplying-20-million-oled-panels-for-iphone-12-max-appleinsider",
         "Benzinga Newsdesk",
         "2020-05-27 00:00:00-04:00",
         "AAPL"
        ],
        [
         "6715",
         "Same Old Leadership Song Lifts These Leveraged ETFs",
         "https://www.benzinga.com/trading-ideas/long-ideas/20/05/16112730/same-old-leadership-song-lifts-these-leveraged-etfs",
         "ETF Professor",
         "2020-05-27 00:00:00-04:00",
         "AAPL"
        ],
        [
         "6716",
         "Deutsche Bank Maintains Buy on Apple, Raises Price Target to $320",
         "https://www.benzinga.com/news/20/05/16114459/deutsche-bank-maintains-buy-on-apple-raises-price-target-to-320",
         "Benzinga_Newsdesk",
         "2020-05-27 00:00:00-04:00",
         "AAPL"
        ],
        [
         "6717",
         "YouTube Makes Its Dedicated Children App Available On Apple TV",
         "https://www.benzinga.com/news/20/05/16113144/youtube-makes-its-dedicated-children-app-available-on-apple-tv",
         "Neer Varshney",
         "2020-05-27 00:00:00-04:00",
         "AAPL"
        ],
        [
         "6718",
         "Samsung Display Secures Majority of Panel Orders for Next-gen iPhone",
         "https://www.benzinga.com/news/20/05/16113529/samsung-display-secures-majority-of-panel-orders-for-next-gen-iphone",
         "Charles Gross",
         "2020-05-27 00:00:00-04:00",
         "AAPL"
        ],
        [
         "6719",
         "Study: 34% Of Americans Report Looking Through Their Partner's Phone Without Permission",
         "https://www.benzinga.com/general/education/20/05/16100606/study-34-of-americans-report-looking-through-their-partners-phone-without-permission",
         "Henry Khederian",
         "2020-05-26 00:00:00-04:00",
         "AAPL"
        ],
        [
         "6720",
         "Apple To Reopen ~100 More US Stores This Week",
         "https://www.benzinga.com/news/20/05/16108713/apple-to-reopen-100-more-us-stores-this-week",
         "Benzinga Newsdesk",
         "2020-05-26 00:00:00-04:00",
         "AAPL"
        ],
        [
         "6721",
         "'FAANG Stocks Are Strong Once Again,' Facebook, Amazon, Netflix Hit Record Highs Last Week",
         "https://www.benzinga.com/news/20/05/16103196/faang-stocks-are-strong-once-again-facebook-amazon-netflix-hit-record-highs-last-week",
         "Neer Varshney",
         "2020-05-26 00:00:00-04:00",
         "AAPL"
        ],
        [
         "6722",
         "Apple Expected to Incorporate Ambient Light Sensors in Next-generation Airpods Devices",
         "https://www.benzinga.com/news/20/05/16101534/apple-expected-to-incorporate-ambient-light-sensors-in-next-generation-airpods-devices",
         "Charles Gross",
         "2020-05-25 00:00:00-04:00",
         "AAPL"
        ],
        [
         "6723",
         "The Secret to Tech's Resilience to COVID-19- Infrastructure Expansion",
         "https://www.benzinga.com/news/earnings/20/05/16093892/the-secret-to-techs-resilience-to-covid-19-infrastructure-expansion",
         "IAM Newswire",
         "2020-05-22 00:00:00-04:00",
         "AAPL"
        ],
        [
         "6724",
         "Apple Is Seeking An Executive To Lead Original Podcast Effort, Is Buying Original Podcasts That Would Be Exclusive; New Podcasts Will Help Promote TV+ Video Service",
         "https://www.benzinga.com/tech/20/05/16088267/apple-is-seeking-an-executive-to-lead-original-podcast-effort-is-buying-original-podcasts-that-would",
         "Benzinga Newsdesk",
         "2020-05-21 00:00:00-04:00",
         "AAPL"
        ],
        [
         "6725",
         "Evercore ISI Analyst Amit DAryanani Says Apple Can Exceed $100 Billion In Services Revenue In The Fiscal Year Ending In September 2024",
         "https://www.benzinga.com/analyst-ratings/analyst-color/20/05/16088238/evercore-isi-analyst-amit-daryanani-says-apple-can-exceed-100-billion-in-services-r",
         "Benzinga Newsdesk",
         "2020-05-21 00:00:00-04:00",
         "AAPL"
        ],
        [
         "6726",
         "Apple Vs. Tesla: Morgan Stanley Breaks Down The Parallels",
         "https://www.benzinga.com/analyst-ratings/analyst-color/20/05/16084937/apple-vs-tesla-morgan-stanley-breaks-down-the-parallels",
         "Elizabeth Balboa",
         "2020-05-21 00:00:00-04:00",
         "AAPL"
        ],
        [
         "6727",
         "As The Global Economy Weighs Fears Of A Recession, Travel Is Already In A Depression",
         "https://www.benzinga.com/news/20/05/16086804/as-the-global-economy-weighs-fears-of-a-recession-travel-is-already-in-a-depression",
         "IAM Newswire",
         "2020-05-21 00:00:00-04:00",
         "AAPL"
        ],
        [
         "6728",
         "Hearing Evercore ISI Raises Price Target On Apple From $330 To $345",
         "https://www.benzinga.com/news/20/05/16083197/hearing-evercore-isi-raises-price-target-on-apple-from-330-to-345",
         "Benzinga Newsdesk",
         "2020-05-21 00:00:00-04:00",
         "AAPL"
        ],
        [
         "6729",
         "Apple's Face ID Will Allow Mask Wearing Users To Unlock Their Phones Quickly",
         "https://www.benzinga.com/news/20/05/16081929/apples-face-id-will-allow-mask-wearing-users-to-unlock-their-phones-quickly",
         "Shivdeep Dhaliwal",
         "2020-05-20 00:00:00-04:00",
         "AAPL"
        ]
       ],
       "shape": {
        "columns": 5,
        "rows": 6939
       }
      },
      "text/html": [
       "<div>\n",
       "<style scoped>\n",
       "    .dataframe tbody tr th:only-of-type {\n",
       "        vertical-align: middle;\n",
       "    }\n",
       "\n",
       "    .dataframe tbody tr th {\n",
       "        vertical-align: top;\n",
       "    }\n",
       "\n",
       "    .dataframe thead th {\n",
       "        text-align: right;\n",
       "    }\n",
       "</style>\n",
       "<table border=\"1\" class=\"dataframe\">\n",
       "  <thead>\n",
       "    <tr style=\"text-align: right;\">\n",
       "      <th></th>\n",
       "      <th>headline</th>\n",
       "      <th>url</th>\n",
       "      <th>publisher</th>\n",
       "      <th>date</th>\n",
       "      <th>stock</th>\n",
       "    </tr>\n",
       "  </thead>\n",
       "  <tbody>\n",
       "    <tr>\n",
       "      <th>6680</th>\n",
       "      <td>Tech Stocks And FAANGS Strong Again To Start D...</td>\n",
       "      <td>https://www.benzinga.com/government/20/06/1622...</td>\n",
       "      <td>JJ Kinahan</td>\n",
       "      <td>2020-06-10 11:33:26-04:00</td>\n",
       "      <td>AAPL</td>\n",
       "    </tr>\n",
       "    <tr>\n",
       "      <th>6681</th>\n",
       "      <td>10 Biggest Price Target Changes For Wednesday</td>\n",
       "      <td>https://www.benzinga.com/analyst-ratings/price...</td>\n",
       "      <td>Lisa Levin</td>\n",
       "      <td>2020-06-10 08:14:08-04:00</td>\n",
       "      <td>AAPL</td>\n",
       "    </tr>\n",
       "    <tr>\n",
       "      <th>6682</th>\n",
       "      <td>Benzinga Pro's Top 5 Stocks To Watch For Wed.,...</td>\n",
       "      <td>https://www.benzinga.com/short-sellers/20/06/1...</td>\n",
       "      <td>Benzinga Newsdesk</td>\n",
       "      <td>2020-06-10 07:53:47-04:00</td>\n",
       "      <td>AAPL</td>\n",
       "    </tr>\n",
       "    <tr>\n",
       "      <th>6683</th>\n",
       "      <td>Deutsche Bank Maintains Buy on Apple, Raises P...</td>\n",
       "      <td>https://www.benzinga.com/news/20/06/16219873/d...</td>\n",
       "      <td>Benzinga Newsdesk</td>\n",
       "      <td>2020-06-10 07:19:25-04:00</td>\n",
       "      <td>AAPL</td>\n",
       "    </tr>\n",
       "    <tr>\n",
       "      <th>6684</th>\n",
       "      <td>Apple To Let Users Trade In Their Mac Computer...</td>\n",
       "      <td>https://www.benzinga.com/news/20/06/16218697/a...</td>\n",
       "      <td>Neer Varshney</td>\n",
       "      <td>2020-06-10 06:27:11-04:00</td>\n",
       "      <td>AAPL</td>\n",
       "    </tr>\n",
       "    <tr>\n",
       "      <th>...</th>\n",
       "      <td>...</td>\n",
       "      <td>...</td>\n",
       "      <td>...</td>\n",
       "      <td>...</td>\n",
       "      <td>...</td>\n",
       "    </tr>\n",
       "    <tr>\n",
       "      <th>1257091</th>\n",
       "      <td>Electrek.Co Tweet: Tesla's head of Europe is out</td>\n",
       "      <td>https://www.benzinga.com/news/19/07/14015998/e...</td>\n",
       "      <td>Charles Gross</td>\n",
       "      <td>2019-07-02 00:00:00-04:00</td>\n",
       "      <td>TSLA</td>\n",
       "    </tr>\n",
       "    <tr>\n",
       "      <th>1257092</th>\n",
       "      <td>Tesla's Q2 Delivery Number Could Cause A Big Move</td>\n",
       "      <td>https://www.benzinga.com/analyst-ratings/analy...</td>\n",
       "      <td>Wayne Duggan</td>\n",
       "      <td>2019-07-01 00:00:00-04:00</td>\n",
       "      <td>TSLA</td>\n",
       "    </tr>\n",
       "    <tr>\n",
       "      <th>1257093</th>\n",
       "      <td>'Tesla Electric Airplane? Elon Musk sees elect...</td>\n",
       "      <td>https://www.benzinga.com/news/19/07/14011389/t...</td>\n",
       "      <td>Benzinga Newsdesk</td>\n",
       "      <td>2019-07-01 00:00:00-04:00</td>\n",
       "      <td>TSLA</td>\n",
       "    </tr>\n",
       "    <tr>\n",
       "      <th>1257094</th>\n",
       "      <td>UPDATE: JMP Reiterates Outperform, $347 Target...</td>\n",
       "      <td>https://www.benzinga.com/analyst-ratings/analy...</td>\n",
       "      <td>Benzinga_Newsdesk</td>\n",
       "      <td>2019-07-01 00:00:00-04:00</td>\n",
       "      <td>TSLA</td>\n",
       "    </tr>\n",
       "    <tr>\n",
       "      <th>1257095</th>\n",
       "      <td>Tesla shares are trading higher after JMP Secu...</td>\n",
       "      <td>https://www.benzinga.com/markets/wiim/19/07/14...</td>\n",
       "      <td>Hal Lindon</td>\n",
       "      <td>2019-07-01 00:00:00-04:00</td>\n",
       "      <td>TSLA</td>\n",
       "    </tr>\n",
       "  </tbody>\n",
       "</table>\n",
       "<p>6939 rows × 5 columns</p>\n",
       "</div>"
      ],
      "text/plain": [
       "                                                  headline  \\\n",
       "6680     Tech Stocks And FAANGS Strong Again To Start D...   \n",
       "6681         10 Biggest Price Target Changes For Wednesday   \n",
       "6682     Benzinga Pro's Top 5 Stocks To Watch For Wed.,...   \n",
       "6683     Deutsche Bank Maintains Buy on Apple, Raises P...   \n",
       "6684     Apple To Let Users Trade In Their Mac Computer...   \n",
       "...                                                    ...   \n",
       "1257091   Electrek.Co Tweet: Tesla's head of Europe is out   \n",
       "1257092  Tesla's Q2 Delivery Number Could Cause A Big Move   \n",
       "1257093  'Tesla Electric Airplane? Elon Musk sees elect...   \n",
       "1257094  UPDATE: JMP Reiterates Outperform, $347 Target...   \n",
       "1257095  Tesla shares are trading higher after JMP Secu...   \n",
       "\n",
       "                                                       url          publisher  \\\n",
       "6680     https://www.benzinga.com/government/20/06/1622...         JJ Kinahan   \n",
       "6681     https://www.benzinga.com/analyst-ratings/price...         Lisa Levin   \n",
       "6682     https://www.benzinga.com/short-sellers/20/06/1...  Benzinga Newsdesk   \n",
       "6683     https://www.benzinga.com/news/20/06/16219873/d...  Benzinga Newsdesk   \n",
       "6684     https://www.benzinga.com/news/20/06/16218697/a...      Neer Varshney   \n",
       "...                                                    ...                ...   \n",
       "1257091  https://www.benzinga.com/news/19/07/14015998/e...      Charles Gross   \n",
       "1257092  https://www.benzinga.com/analyst-ratings/analy...       Wayne Duggan   \n",
       "1257093  https://www.benzinga.com/news/19/07/14011389/t...  Benzinga Newsdesk   \n",
       "1257094  https://www.benzinga.com/analyst-ratings/analy...  Benzinga_Newsdesk   \n",
       "1257095  https://www.benzinga.com/markets/wiim/19/07/14...         Hal Lindon   \n",
       "\n",
       "                             date stock  \n",
       "6680    2020-06-10 11:33:26-04:00  AAPL  \n",
       "6681    2020-06-10 08:14:08-04:00  AAPL  \n",
       "6682    2020-06-10 07:53:47-04:00  AAPL  \n",
       "6683    2020-06-10 07:19:25-04:00  AAPL  \n",
       "6684    2020-06-10 06:27:11-04:00  AAPL  \n",
       "...                           ...   ...  \n",
       "1257091 2019-07-02 00:00:00-04:00  TSLA  \n",
       "1257092 2019-07-01 00:00:00-04:00  TSLA  \n",
       "1257093 2019-07-01 00:00:00-04:00  TSLA  \n",
       "1257094 2019-07-01 00:00:00-04:00  TSLA  \n",
       "1257095 2019-07-01 00:00:00-04:00  TSLA  \n",
       "\n",
       "[6939 rows x 5 columns]"
      ]
     },
     "execution_count": 12,
     "metadata": {},
     "output_type": "execute_result"
    }
   ],
   "source": [
    "# Filtering data based on the stock tickers ['AAPL', 'AMZN', 'GOOG', 'META', 'MSFT', 'NVDA', 'TSLA']\n",
    "\n",
    "news_data = news_data[news_data['stock'].isin(['AAPL', 'AMZN', 'GOOG', 'META', 'MSFT', 'NVDA', 'TSLA'])]\n",
    "news_data = news_data.drop('Unnamed: 0', axis=1)\n",
    "news_data"
   ]
  },
  {
   "cell_type": "markdown",
   "id": "1f2dd74e",
   "metadata": {},
   "source": [
    "- after filtering headlines with the stock tickers 'AAPL', 'AMZN', 'GOOG', 'META', 'MSFT', 'NVDA', 'TSLA'\n",
    "  - the data is reduced to 6939 rows "
   ]
  },
  {
   "cell_type": "code",
   "execution_count": 15,
   "id": "e9f8f34b",
   "metadata": {},
   "outputs": [
    {
     "data": {
      "application/vnd.microsoft.datawrangler.viewer.v0+json": {
       "columns": [
        {
         "name": "index",
         "rawType": "int64",
         "type": "integer"
        },
        {
         "name": "stock",
         "rawType": "object",
         "type": "string"
        },
        {
         "name": "0",
         "rawType": "int64",
         "type": "integer"
        }
       ],
       "ref": "85333500-ca1a-423e-a16d-58a75c307b55",
       "rows": [
        [
         "0",
         "AAPL",
         "441"
        ],
        [
         "1",
         "AMZN",
         "278"
        ],
        [
         "2",
         "GOOG",
         "1199"
        ],
        [
         "3",
         "NVDA",
         "3146"
        ],
        [
         "4",
         "TSLA",
         "1875"
        ]
       ],
       "shape": {
        "columns": 2,
        "rows": 5
       }
      },
      "text/html": [
       "<div>\n",
       "<style scoped>\n",
       "    .dataframe tbody tr th:only-of-type {\n",
       "        vertical-align: middle;\n",
       "    }\n",
       "\n",
       "    .dataframe tbody tr th {\n",
       "        vertical-align: top;\n",
       "    }\n",
       "\n",
       "    .dataframe thead th {\n",
       "        text-align: right;\n",
       "    }\n",
       "</style>\n",
       "<table border=\"1\" class=\"dataframe\">\n",
       "  <thead>\n",
       "    <tr style=\"text-align: right;\">\n",
       "      <th></th>\n",
       "      <th>stock</th>\n",
       "      <th>0</th>\n",
       "    </tr>\n",
       "  </thead>\n",
       "  <tbody>\n",
       "    <tr>\n",
       "      <th>0</th>\n",
       "      <td>AAPL</td>\n",
       "      <td>441</td>\n",
       "    </tr>\n",
       "    <tr>\n",
       "      <th>1</th>\n",
       "      <td>AMZN</td>\n",
       "      <td>278</td>\n",
       "    </tr>\n",
       "    <tr>\n",
       "      <th>2</th>\n",
       "      <td>GOOG</td>\n",
       "      <td>1199</td>\n",
       "    </tr>\n",
       "    <tr>\n",
       "      <th>3</th>\n",
       "      <td>NVDA</td>\n",
       "      <td>3146</td>\n",
       "    </tr>\n",
       "    <tr>\n",
       "      <th>4</th>\n",
       "      <td>TSLA</td>\n",
       "      <td>1875</td>\n",
       "    </tr>\n",
       "  </tbody>\n",
       "</table>\n",
       "</div>"
      ],
      "text/plain": [
       "  stock     0\n",
       "0  AAPL   441\n",
       "1  AMZN   278\n",
       "2  GOOG  1199\n",
       "3  NVDA  3146\n",
       "4  TSLA  1875"
      ]
     },
     "execution_count": 15,
     "metadata": {},
     "output_type": "execute_result"
    }
   ],
   "source": [
    "# grouping headline based on stock \n",
    "# Count number of headlines per stock\n",
    "headline_counts = news_data.groupby('stock').size().reset_index()\n",
    "headline_counts"
   ]
  },
  {
   "cell_type": "markdown",
   "id": "925594b2",
   "metadata": {},
   "source": [
    "- only the above stocks have headlines in the news dataset"
   ]
  },
  {
   "cell_type": "markdown",
   "id": "ddac421f",
   "metadata": {},
   "source": [
    "#### reading stock data"
   ]
  },
  {
   "cell_type": "code",
   "execution_count": 16,
   "id": "79d36f89",
   "metadata": {},
   "outputs": [
    {
     "data": {
      "application/vnd.microsoft.datawrangler.viewer.v0+json": {
       "columns": [
        {
         "name": "index",
         "rawType": "int64",
         "type": "integer"
        },
        {
         "name": "date",
         "rawType": "datetime64[ns]",
         "type": "datetime"
        },
        {
         "name": "open",
         "rawType": "float64",
         "type": "float"
        },
        {
         "name": "high",
         "rawType": "float64",
         "type": "float"
        },
        {
         "name": "low",
         "rawType": "float64",
         "type": "float"
        },
        {
         "name": "close",
         "rawType": "float64",
         "type": "float"
        },
        {
         "name": "adj_close",
         "rawType": "float64",
         "type": "float"
        },
        {
         "name": "volume",
         "rawType": "int64",
         "type": "integer"
        },
        {
         "name": "dividends",
         "rawType": "float64",
         "type": "float"
        },
        {
         "name": "stock_splits",
         "rawType": "float64",
         "type": "float"
        },
        {
         "name": "ticker",
         "rawType": "object",
         "type": "string"
        }
       ],
       "ref": "5a381c68-fb17-4bf4-a178-ce03ed2b748d",
       "rows": [
        [
         "0",
         "1980-12-12 00:00:00",
         "0.1283479928970337",
         "0.1289059966802597",
         "0.1283479928970337",
         "0.1283479928970337",
         "0.098943218588829",
         "469033600",
         "0.0",
         "0.0",
         "AAPL"
        ],
        [
         "1",
         "1980-12-15 00:00:00",
         "0.1222100034356117",
         "0.1222100034356117",
         "0.1216519996523857",
         "0.1216519996523857",
         "0.093781292438507",
         "175884800",
         "0.0",
         "0.0",
         "AAPL"
        ],
        [
         "2",
         "1980-12-16 00:00:00",
         "0.1132809966802597",
         "0.1132809966802597",
         "0.1127230003476142",
         "0.1127230003476142",
         "0.0868979692459106",
         "105728000",
         "0.0",
         "0.0",
         "AAPL"
        ],
        [
         "3",
         "1980-12-17 00:00:00",
         "0.1155129969120025",
         "0.1160710006952285",
         "0.1155129969120025",
         "0.1155129969120025",
         "0.089048758149147",
         "86441600",
         "0.0",
         "0.0",
         "AAPL"
        ],
        [
         "4",
         "1980-12-18 00:00:00",
         "0.1188620030879974",
         "0.1194199994206428",
         "0.1188620030879974",
         "0.1188620030879974",
         "0.0916304588317871",
         "73449600",
         "0.0",
         "0.0",
         "AAPL"
        ],
        [
         "5",
         "1980-12-19 00:00:00",
         "0.1261159926652908",
         "0.1266739964485168",
         "0.1261159926652908",
         "0.1261159926652908",
         "0.0972226113080978",
         "48630400",
         "0.0",
         "0.0",
         "AAPL"
        ],
        [
         "6",
         "1980-12-22 00:00:00",
         "0.1322540044784546",
         "0.1328130066394806",
         "0.1322540044784546",
         "0.1322540044784546",
         "0.1019543036818504",
         "37363200",
         "0.0",
         "0.0",
         "AAPL"
        ],
        [
         "7",
         "1980-12-23 00:00:00",
         "0.1378349959850311",
         "0.1383929997682571",
         "0.1378349959850311",
         "0.1378349959850311",
         "0.10625671595335",
         "46950400",
         "0.0",
         "0.0",
         "AAPL"
        ],
        [
         "8",
         "1980-12-24 00:00:00",
         "0.1450890004634857",
         "0.1456470042467117",
         "0.1450890004634857",
         "0.1450890004634857",
         "0.1118487864732742",
         "48003200",
         "0.0",
         "0.0",
         "AAPL"
        ],
        [
         "9",
         "1980-12-26 00:00:00",
         "0.1584820002317428",
         "0.1590400040149688",
         "0.1584820002317428",
         "0.1584820002317428",
         "0.1221734583377838",
         "55574400",
         "0.0",
         "0.0",
         "AAPL"
        ],
        [
         "10",
         "1980-12-29 00:00:00",
         "0.1607140004634857",
         "0.1612720042467117",
         "0.1607140004634857",
         "0.1607140004634857",
         "0.1238940879702568",
         "93161600",
         "0.0",
         "0.0",
         "AAPL"
        ],
        [
         "11",
         "1980-12-30 00:00:00",
         "0.1573659926652908",
         "0.1573659926652908",
         "0.156808003783226",
         "0.156808003783226",
         "0.1208830177783966",
         "68880000",
         "0.0",
         "0.0",
         "AAPL"
        ],
        [
         "12",
         "1980-12-31 00:00:00",
         "0.1529020071029663",
         "0.1529020071029663",
         "0.1523440033197403",
         "0.1523440033197403",
         "0.1174416616559028",
         "35750400",
         "0.0",
         "0.0",
         "AAPL"
        ],
        [
         "13",
         "1981-01-02 00:00:00",
         "0.1540179997682571",
         "0.1551340073347091",
         "0.1540179997682571",
         "0.1540179997682571",
         "0.118732064962387",
         "21660800",
         "0.0",
         "0.0",
         "AAPL"
        ],
        [
         "14",
         "1981-01-05 00:00:00",
         "0.1512279957532882",
         "0.1512279957532882",
         "0.1506700068712234",
         "0.1506700068712234",
         "0.1161512359976768",
         "35728000",
         "0.0",
         "0.0",
         "AAPL"
        ],
        [
         "15",
         "1981-01-06 00:00:00",
         "0.1445309966802597",
         "0.1445309966802597",
         "0.1439729928970337",
         "0.1439729928970337",
         "0.1109885200858116",
         "45158400",
         "0.0",
         "0.0",
         "AAPL"
        ],
        [
         "16",
         "1981-01-07 00:00:00",
         "0.1383929997682571",
         "0.1383929997682571",
         "0.1378349959850311",
         "0.1378349959850311",
         "0.10625671595335",
         "55686400",
         "0.0",
         "0.0",
         "AAPL"
        ],
        [
         "17",
         "1981-01-08 00:00:00",
         "0.1356029957532882",
         "0.1356029957532882",
         "0.1350450068712234",
         "0.1350450068712234",
         "0.104105919599533",
         "39827200",
         "0.0",
         "0.0",
         "AAPL"
        ],
        [
         "18",
         "1981-01-09 00:00:00",
         "0.1422989964485168",
         "0.1428570002317428",
         "0.1422989964485168",
         "0.1422989964485168",
         "0.109698012471199",
         "21504000",
         "0.0",
         "0.0",
         "AAPL"
        ],
        [
         "19",
         "1981-01-12 00:00:00",
         "0.1422989964485168",
         "0.1422989964485168",
         "0.141183003783226",
         "0.141183003783226",
         "0.1088377460837364",
         "23699200",
         "0.0",
         "0.0",
         "AAPL"
        ],
        [
         "20",
         "1981-01-13 00:00:00",
         "0.1367190033197403",
         "0.1367190033197403",
         "0.1361609995365142",
         "0.1361609995365142",
         "0.1049662083387374",
         "23049600",
         "0.0",
         "0.0",
         "AAPL"
        ],
        [
         "21",
         "1981-01-14 00:00:00",
         "0.1367190033197403",
         "0.1372770071029663",
         "0.1367190033197403",
         "0.1367190033197403",
         "0.1053964346647262",
         "14291200",
         "0.0",
         "0.0",
         "AAPL"
        ],
        [
         "22",
         "1981-01-15 00:00:00",
         "0.1395090073347091",
         "0.140625",
         "0.1395090073347091",
         "0.1395090073347091",
         "0.1075472459197044",
         "14067200",
         "0.0",
         "0.0",
         "AAPL"
        ],
        [
         "23",
         "1981-01-16 00:00:00",
         "0.1389510035514831",
         "0.1389510035514831",
         "0.1383929997682571",
         "0.1383929997682571",
         "0.1066868975758552",
         "13395200",
         "0.0",
         "0.0",
         "AAPL"
        ],
        [
         "24",
         "1981-01-19 00:00:00",
         "0.1467629969120025",
         "0.1473210006952285",
         "0.1467629969120025",
         "0.1467629969120025",
         "0.1131392568349838",
         "41574400",
         "0.0",
         "0.0",
         "AAPL"
        ],
        [
         "25",
         "1981-01-20 00:00:00",
         "0.1428570002317428",
         "0.1428570002317428",
         "0.1422989964485168",
         "0.1422989964485168",
         "0.109698012471199",
         "30083200",
         "0.0",
         "0.0",
         "AAPL"
        ],
        [
         "26",
         "1981-01-21 00:00:00",
         "0.1450890004634857",
         "0.1462049931287765",
         "0.1450890004634857",
         "0.1450890004634857",
         "0.1118487864732742",
         "15904000",
         "0.0",
         "0.0",
         "AAPL"
        ],
        [
         "27",
         "1981-01-22 00:00:00",
         "0.1467629969120025",
         "0.1478790044784546",
         "0.1467629969120025",
         "0.1467629969120025",
         "0.1131392568349838",
         "35548800",
         "0.0",
         "0.0",
         "AAPL"
        ],
        [
         "28",
         "1981-01-23 00:00:00",
         "0.1467629969120025",
         "0.1473210006952285",
         "0.1462049931287765",
         "0.1462049931287765",
         "0.1127091348171234",
         "11222400",
         "0.0",
         "0.0",
         "AAPL"
        ],
        [
         "29",
         "1981-01-26 00:00:00",
         "0.1445309966802597",
         "0.1445309966802597",
         "0.1439729928970337",
         "0.1439729928970337",
         "0.1109885200858116",
         "24640000",
         "0.0",
         "0.0",
         "AAPL"
        ],
        [
         "30",
         "1981-01-27 00:00:00",
         "0.1439729928970337",
         "0.1439729928970337",
         "0.1428570002317428",
         "0.1428570002317428",
         "0.1101282015442848",
         "23699200",
         "0.0",
         "0.0",
         "AAPL"
        ],
        [
         "31",
         "1981-01-28 00:00:00",
         "0.1389510035514831",
         "0.1389510035514831",
         "0.1383929997682571",
         "0.1383929997682571",
         "0.1066868975758552",
         "28156800",
         "0.0",
         "0.0",
         "AAPL"
        ],
        [
         "32",
         "1981-01-29 00:00:00",
         "0.1339289993047714",
         "0.1339289993047714",
         "0.1333709955215454",
         "0.1333709955215454",
         "0.1028154343366622",
         "43904000",
         "0.0",
         "0.0",
         "AAPL"
        ],
        [
         "33",
         "1981-01-30 00:00:00",
         "0.1272320002317428",
         "0.1272320002317428",
         "0.1261159926652908",
         "0.1261159926652908",
         "0.0972226113080978",
         "46188800",
         "0.0",
         "0.0",
         "AAPL"
        ],
        [
         "34",
         "1981-02-02 00:00:00",
         "0.1194199994206428",
         "0.1194199994206428",
         "0.1188620030879974",
         "0.1188620030879974",
         "0.0916304588317871",
         "23766400",
         "0.0",
         "0.0",
         "AAPL"
        ],
        [
         "35",
         "1981-02-03 00:00:00",
         "0.1233260035514831",
         "0.1238839998841285",
         "0.1233260035514831",
         "0.1233260035514831",
         "0.0950717777013778",
         "19152000",
         "0.0",
         "0.0",
         "AAPL"
        ],
        [
         "36",
         "1981-02-04 00:00:00",
         "0.1277900040149688",
         "0.1283479928970337",
         "0.1277900040149688",
         "0.1277900040149688",
         "0.0985130742192268",
         "27865600",
         "0.0",
         "0.0",
         "AAPL"
        ],
        [
         "37",
         "1981-02-05 00:00:00",
         "0.1277900040149688",
         "0.1289059966802597",
         "0.1277900040149688",
         "0.1277900040149688",
         "0.0985130742192268",
         "7929600",
         "0.0",
         "0.0",
         "AAPL"
        ],
        [
         "38",
         "1981-02-06 00:00:00",
         "0.1283479928970337",
         "0.1289059966802597",
         "0.1283479928970337",
         "0.1283479928970337",
         "0.098943218588829",
         "13865600",
         "0.0",
         "0.0",
         "AAPL"
        ],
        [
         "39",
         "1981-02-09 00:00:00",
         "0.1227679997682571",
         "0.1227679997682571",
         "0.1216519996523857",
         "0.1216519996523857",
         "0.093781292438507",
         "16755200",
         "0.0",
         "0.0",
         "AAPL"
        ],
        [
         "40",
         "1981-02-10 00:00:00",
         "0.1216519996523857",
         "0.1222100034356117",
         "0.1216519996523857",
         "0.1216519996523857",
         "0.093781292438507",
         "18345600",
         "0.0",
         "0.0",
         "AAPL"
        ],
        [
         "41",
         "1981-02-11 00:00:00",
         "0.1183039993047714",
         "0.1183039993047714",
         "0.117746002972126",
         "0.117746002972126",
         "0.0907701626420021",
         "13843200",
         "0.0",
         "0.0",
         "AAPL"
        ],
        [
         "42",
         "1981-02-12 00:00:00",
         "0.1171879991889",
         "0.1171879991889",
         "0.1166289970278739",
         "0.1166289970278739",
         "0.0899090468883514",
         "14560000",
         "0.0",
         "0.0",
         "AAPL"
        ],
        [
         "43",
         "1981-02-13 00:00:00",
         "0.1149550005793571",
         "0.1149550005793571",
         "0.1138390004634857",
         "0.1138390004634857",
         "0.0877582728862762",
         "11155200",
         "0.0",
         "0.0",
         "AAPL"
        ],
        [
         "44",
         "1981-02-17 00:00:00",
         "0.1166289970278739",
         "0.1171879991889",
         "0.1166289970278739",
         "0.1166289970278739",
         "0.0899090468883514",
         "12275200",
         "0.0",
         "0.0",
         "AAPL"
        ],
        [
         "45",
         "1981-02-18 00:00:00",
         "0.1216519996523857",
         "0.1227679997682571",
         "0.1216519996523857",
         "0.1216519996523857",
         "0.093781292438507",
         "19241600",
         "0.0",
         "0.0",
         "AAPL"
        ],
        [
         "46",
         "1981-02-19 00:00:00",
         "0.1149550005793571",
         "0.1149550005793571",
         "0.1143969967961311",
         "0.1143969967961311",
         "0.0881884023547172",
         "22310400",
         "0.0",
         "0.0",
         "AAPL"
        ],
        [
         "47",
         "1981-02-20 00:00:00",
         "0.1088170036673545",
         "0.1088170036673545",
         "0.1082589998841285",
         "0.1082589998841285",
         "0.0834566429257392",
         "24371200",
         "0.0",
         "0.0",
         "AAPL"
        ],
        [
         "48",
         "1981-02-23 00:00:00",
         "0.1099329963326454",
         "0.1104910001158714",
         "0.1099329963326454",
         "0.1099329963326454",
         "0.0847471207380294",
         "14112000",
         "0.0",
         "0.0",
         "AAPL"
        ],
        [
         "49",
         "1981-02-24 00:00:00",
         "0.1071429997682571",
         "0.1071429997682571",
         "0.1060269996523857",
         "0.1060269996523857",
         "0.0817359760403633",
         "16979200",
         "0.0",
         "0.0",
         "AAPL"
        ]
       ],
       "shape": {
        "columns": 10,
        "rows": 45428
       }
      },
      "text/html": [
       "<div>\n",
       "<style scoped>\n",
       "    .dataframe tbody tr th:only-of-type {\n",
       "        vertical-align: middle;\n",
       "    }\n",
       "\n",
       "    .dataframe tbody tr th {\n",
       "        vertical-align: top;\n",
       "    }\n",
       "\n",
       "    .dataframe thead th {\n",
       "        text-align: right;\n",
       "    }\n",
       "</style>\n",
       "<table border=\"1\" class=\"dataframe\">\n",
       "  <thead>\n",
       "    <tr style=\"text-align: right;\">\n",
       "      <th></th>\n",
       "      <th>date</th>\n",
       "      <th>open</th>\n",
       "      <th>high</th>\n",
       "      <th>low</th>\n",
       "      <th>close</th>\n",
       "      <th>adj_close</th>\n",
       "      <th>volume</th>\n",
       "      <th>dividends</th>\n",
       "      <th>stock_splits</th>\n",
       "      <th>ticker</th>\n",
       "    </tr>\n",
       "  </thead>\n",
       "  <tbody>\n",
       "    <tr>\n",
       "      <th>0</th>\n",
       "      <td>1980-12-12</td>\n",
       "      <td>0.128348</td>\n",
       "      <td>0.128906</td>\n",
       "      <td>0.128348</td>\n",
       "      <td>0.128348</td>\n",
       "      <td>0.098943</td>\n",
       "      <td>469033600</td>\n",
       "      <td>0.0</td>\n",
       "      <td>0.0</td>\n",
       "      <td>AAPL</td>\n",
       "    </tr>\n",
       "    <tr>\n",
       "      <th>1</th>\n",
       "      <td>1980-12-15</td>\n",
       "      <td>0.122210</td>\n",
       "      <td>0.122210</td>\n",
       "      <td>0.121652</td>\n",
       "      <td>0.121652</td>\n",
       "      <td>0.093781</td>\n",
       "      <td>175884800</td>\n",
       "      <td>0.0</td>\n",
       "      <td>0.0</td>\n",
       "      <td>AAPL</td>\n",
       "    </tr>\n",
       "    <tr>\n",
       "      <th>2</th>\n",
       "      <td>1980-12-16</td>\n",
       "      <td>0.113281</td>\n",
       "      <td>0.113281</td>\n",
       "      <td>0.112723</td>\n",
       "      <td>0.112723</td>\n",
       "      <td>0.086898</td>\n",
       "      <td>105728000</td>\n",
       "      <td>0.0</td>\n",
       "      <td>0.0</td>\n",
       "      <td>AAPL</td>\n",
       "    </tr>\n",
       "    <tr>\n",
       "      <th>3</th>\n",
       "      <td>1980-12-17</td>\n",
       "      <td>0.115513</td>\n",
       "      <td>0.116071</td>\n",
       "      <td>0.115513</td>\n",
       "      <td>0.115513</td>\n",
       "      <td>0.089049</td>\n",
       "      <td>86441600</td>\n",
       "      <td>0.0</td>\n",
       "      <td>0.0</td>\n",
       "      <td>AAPL</td>\n",
       "    </tr>\n",
       "    <tr>\n",
       "      <th>4</th>\n",
       "      <td>1980-12-18</td>\n",
       "      <td>0.118862</td>\n",
       "      <td>0.119420</td>\n",
       "      <td>0.118862</td>\n",
       "      <td>0.118862</td>\n",
       "      <td>0.091630</td>\n",
       "      <td>73449600</td>\n",
       "      <td>0.0</td>\n",
       "      <td>0.0</td>\n",
       "      <td>AAPL</td>\n",
       "    </tr>\n",
       "    <tr>\n",
       "      <th>...</th>\n",
       "      <td>...</td>\n",
       "      <td>...</td>\n",
       "      <td>...</td>\n",
       "      <td>...</td>\n",
       "      <td>...</td>\n",
       "      <td>...</td>\n",
       "      <td>...</td>\n",
       "      <td>...</td>\n",
       "      <td>...</td>\n",
       "      <td>...</td>\n",
       "    </tr>\n",
       "    <tr>\n",
       "      <th>45423</th>\n",
       "      <td>2024-07-24</td>\n",
       "      <td>225.419998</td>\n",
       "      <td>225.990005</td>\n",
       "      <td>214.710007</td>\n",
       "      <td>215.990005</td>\n",
       "      <td>215.990005</td>\n",
       "      <td>167942900</td>\n",
       "      <td>0.0</td>\n",
       "      <td>0.0</td>\n",
       "      <td>TSLA</td>\n",
       "    </tr>\n",
       "    <tr>\n",
       "      <th>45424</th>\n",
       "      <td>2024-07-25</td>\n",
       "      <td>216.800003</td>\n",
       "      <td>226.000000</td>\n",
       "      <td>216.229996</td>\n",
       "      <td>220.250000</td>\n",
       "      <td>220.250000</td>\n",
       "      <td>100636500</td>\n",
       "      <td>0.0</td>\n",
       "      <td>0.0</td>\n",
       "      <td>TSLA</td>\n",
       "    </tr>\n",
       "    <tr>\n",
       "      <th>45425</th>\n",
       "      <td>2024-07-26</td>\n",
       "      <td>221.190002</td>\n",
       "      <td>222.279999</td>\n",
       "      <td>215.330002</td>\n",
       "      <td>219.800003</td>\n",
       "      <td>219.800003</td>\n",
       "      <td>94604100</td>\n",
       "      <td>0.0</td>\n",
       "      <td>0.0</td>\n",
       "      <td>TSLA</td>\n",
       "    </tr>\n",
       "    <tr>\n",
       "      <th>45426</th>\n",
       "      <td>2024-07-29</td>\n",
       "      <td>224.899994</td>\n",
       "      <td>234.270004</td>\n",
       "      <td>224.699997</td>\n",
       "      <td>232.100006</td>\n",
       "      <td>232.100006</td>\n",
       "      <td>129201800</td>\n",
       "      <td>0.0</td>\n",
       "      <td>0.0</td>\n",
       "      <td>TSLA</td>\n",
       "    </tr>\n",
       "    <tr>\n",
       "      <th>45427</th>\n",
       "      <td>2024-07-30</td>\n",
       "      <td>232.250000</td>\n",
       "      <td>232.410004</td>\n",
       "      <td>220.000000</td>\n",
       "      <td>222.619995</td>\n",
       "      <td>222.619995</td>\n",
       "      <td>100560300</td>\n",
       "      <td>0.0</td>\n",
       "      <td>0.0</td>\n",
       "      <td>TSLA</td>\n",
       "    </tr>\n",
       "  </tbody>\n",
       "</table>\n",
       "<p>45428 rows × 10 columns</p>\n",
       "</div>"
      ],
      "text/plain": [
       "            date        open        high         low       close   adj_close  \\\n",
       "0     1980-12-12    0.128348    0.128906    0.128348    0.128348    0.098943   \n",
       "1     1980-12-15    0.122210    0.122210    0.121652    0.121652    0.093781   \n",
       "2     1980-12-16    0.113281    0.113281    0.112723    0.112723    0.086898   \n",
       "3     1980-12-17    0.115513    0.116071    0.115513    0.115513    0.089049   \n",
       "4     1980-12-18    0.118862    0.119420    0.118862    0.118862    0.091630   \n",
       "...          ...         ...         ...         ...         ...         ...   \n",
       "45423 2024-07-24  225.419998  225.990005  214.710007  215.990005  215.990005   \n",
       "45424 2024-07-25  216.800003  226.000000  216.229996  220.250000  220.250000   \n",
       "45425 2024-07-26  221.190002  222.279999  215.330002  219.800003  219.800003   \n",
       "45426 2024-07-29  224.899994  234.270004  224.699997  232.100006  232.100006   \n",
       "45427 2024-07-30  232.250000  232.410004  220.000000  222.619995  222.619995   \n",
       "\n",
       "          volume  dividends  stock_splits ticker  \n",
       "0      469033600        0.0           0.0   AAPL  \n",
       "1      175884800        0.0           0.0   AAPL  \n",
       "2      105728000        0.0           0.0   AAPL  \n",
       "3       86441600        0.0           0.0   AAPL  \n",
       "4       73449600        0.0           0.0   AAPL  \n",
       "...          ...        ...           ...    ...  \n",
       "45423  167942900        0.0           0.0   TSLA  \n",
       "45424  100636500        0.0           0.0   TSLA  \n",
       "45425   94604100        0.0           0.0   TSLA  \n",
       "45426  129201800        0.0           0.0   TSLA  \n",
       "45427  100560300        0.0           0.0   TSLA  \n",
       "\n",
       "[45428 rows x 10 columns]"
      ]
     },
     "execution_count": 16,
     "metadata": {},
     "output_type": "execute_result"
    }
   ],
   "source": [
    "# Reading stock price data\n",
    "stock_data = analysis.fetch_stock_data()\n",
    "stock_data"
   ]
  },
  {
   "cell_type": "markdown",
   "id": "d8b67ae7",
   "metadata": {},
   "source": [
    "#### Calculating sentiment analysis for financial news data "
   ]
  },
  {
   "cell_type": "code",
   "execution_count": 19,
   "id": "70155337",
   "metadata": {},
   "outputs": [
    {
     "name": "stdout",
     "output_type": "stream",
     "text": [
      "Local punkt tokenizer found.\n",
      "Calculating sentiment scores with punkt tokenizer...\n"
     ]
    },
    {
     "data": {
      "application/vnd.microsoft.datawrangler.viewer.v0+json": {
       "columns": [
        {
         "name": "index",
         "rawType": "int64",
         "type": "integer"
        },
        {
         "name": "headline",
         "rawType": "object",
         "type": "string"
        },
        {
         "name": "url",
         "rawType": "object",
         "type": "string"
        },
        {
         "name": "publisher",
         "rawType": "object",
         "type": "string"
        },
        {
         "name": "date",
         "rawType": "datetime64[ns, UTC-04:00]",
         "type": "unknown"
        },
        {
         "name": "stock",
         "rawType": "object",
         "type": "string"
        },
        {
         "name": "Sentiment",
         "rawType": "float64",
         "type": "float"
        },
        {
         "name": "sentiment_label",
         "rawType": "object",
         "type": "string"
        }
       ],
       "ref": "4464ad35-11fb-48eb-9e66-3f7bb4761bdc",
       "rows": [
        [
         "6680",
         "Tech Stocks And FAANGS Strong Again To Start Day As Market Awaits Fed",
         "https://www.benzinga.com/government/20/06/16223418/tech-stocks-and-faangs-strong-again-to-start-day-as-market-awaits-fed",
         "JJ Kinahan",
         "2020-06-10 11:33:26-04:00",
         "AAPL",
         "0.03333333333333333",
         "neutral"
        ],
        [
         "6681",
         "10 Biggest Price Target Changes For Wednesday",
         "https://www.benzinga.com/analyst-ratings/price-target/20/06/16220539/10-biggest-price-target-changes-for-wednesday",
         "Lisa Levin",
         "2020-06-10 08:14:08-04:00",
         "AAPL",
         "0.0",
         "neutral"
        ],
        [
         "6682",
         "Benzinga Pro's Top 5 Stocks To Watch For Wed., Jun. 10, 2020: AAPL, BAC, NIO, SONO, GLW",
         "https://www.benzinga.com/short-sellers/20/06/16220099/benzinga-pros-top-5-stocks-to-watch-for-wed-jun-10-2020-aapl-bac-nio-sono-glw",
         "Benzinga Newsdesk",
         "2020-06-10 07:53:47-04:00",
         "AAPL",
         "0.018518518518518517",
         "neutral"
        ],
        [
         "6683",
         "Deutsche Bank Maintains Buy on Apple, Raises Price Target to $350",
         "https://www.benzinga.com/news/20/06/16219873/deutsche-bank-maintains-buy-on-apple-raises-price-target-to-350",
         "Benzinga Newsdesk",
         "2020-06-10 07:19:25-04:00",
         "AAPL",
         "0.0",
         "neutral"
        ],
        [
         "6684",
         "Apple To Let Users Trade In Their Mac Computers For Credit At US, Canada Stores: Report",
         "https://www.benzinga.com/news/20/06/16218697/apple-to-let-users-turn-in-their-mac-computers-for-credit-at-us-canada-stores-starting-this-month-re",
         "Neer Varshney",
         "2020-06-10 06:27:11-04:00",
         "AAPL",
         "0.0",
         "neutral"
        ],
        [
         "6685",
         "Big Tech Reaches New Record Heights At The Stock Market",
         "https://www.benzinga.com/news/20/06/16218615/big-tech-reaches-new-record-heights-at-the-stock-market",
         "Neer Varshney",
         "2020-06-10 00:52:01-04:00",
         "AAPL",
         "0.013636363636363636",
         "neutral"
        ],
        [
         "6686",
         "Why Apple's Stock Is Trading Higher Today",
         "https://www.benzinga.com/news/20/06/16215446/why-apples-stock-is-trading-higher-today",
         "Tanzeel Akhtar",
         "2020-06-09 15:14:07-04:00",
         "AAPL",
         "0.027777777777777776",
         "neutral"
        ],
        [
         "6687",
         "Apple Could Announce In-House Chips For Macs At WWDC: Report",
         "https://www.benzinga.com/news/20/06/16214115/apple-could-announce-in-house-chips-for-macs-at-wwdc-report",
         "Shanthi Rexaline",
         "2020-06-09 13:58:46-04:00",
         "AAPL",
         "0.0",
         "neutral"
        ],
        [
         "6688",
         "Apple shares are trading higher despite market weakness, not currently seeing company-specific news. It was reported the company is expected to begin iPhone 12 production in July.",
         "https://www.benzinga.com/wiim/20/06/16214320/apple-shares-are-trading-higher-despite-market-weakness-not-currently-seeing-company-specific-news-i",
         "Benzinga Newsdesk",
         "2020-06-09 12:41:02-04:00",
         "AAPL",
         "0.0046875",
         "neutral"
        ],
        [
         "6689",
         "Sonos Shares Spike To Session High, Now Up 9.5%, As Citron's Andrew Left, Currently Interviewing On FOX Business, Said Co. Could Be Acquired By Apple Or Amazon",
         "https://www.benzinga.com/m-a/20/06/16213381/sonos-shares-spike-to-session-high-now-up-9-5-as-citrons-andrew-left-currently-interviewing-on-fox-b",
         "Benzinga Newsdesk",
         "2020-06-09 11:11:34-04:00",
         "AAPL",
         "0.0044444444444444444",
         "neutral"
        ],
        [
         "6690",
         "'Apple is tracking iPhones stolen by looters' -Earlier NY Post Article",
         "https://www.benzinga.com/news/20/06/16161103/apple-is-tracking-iphones-stolen-by-looters-earlier-ny-post-article",
         "Benzinga Newsdesk",
         "2020-06-02 00:00:00-04:00",
         "AAPL",
         "0.0",
         "neutral"
        ],
        [
         "6691",
         "MoneyGram Shares Jump 50% As Western Union Reportedly Looks For Acquisition",
         "https://www.benzinga.com/m-a/20/06/16156730/moneygram-shares-jump-50-as-western-union-reportedly-looks-for-acquisition",
         "Neer Varshney",
         "2020-06-02 00:00:00-04:00",
         "AAPL",
         "0.0",
         "neutral"
        ],
        [
         "6692",
         "Hearing Susquehanna Check Suggests Total iPhone 12 Builds Tracking To 10M, Below Firm's Expectation Of 25M; Unconfirmed",
         "https://www.benzinga.com/analyst-ratings/analyst-color/20/06/16158083/hearing-susquehanna-check-suggests-total-iphone-12-builds-tracking-to-10m-below-fir",
         "Benzinga Newsdesk",
         "2020-06-02 00:00:00-04:00",
         "AAPL",
         "-0.009523809523809525",
         "neutral"
        ],
        [
         "6693",
         "Tesla CEO Musk Says Other Three Officers Should Be Charged In Floyd's Murder Case",
         "https://www.benzinga.com/news/20/06/16156648/tesla-ceo-musk-says-other-three-officers-should-be-charged-in-floyds-murder-case",
         "Neer Varshney",
         "2020-06-02 00:00:00-04:00",
         "AAPL",
         "-0.0078125",
         "neutral"
        ],
        [
         "6694",
         "A Peek Into The Markets: US Stock Futures Up; Crude Oil Rises Over 2%",
         "https://www.benzinga.com/news/earnings/20/06/16157378/a-peek-into-the-markets-us-stock-futures-up-crude-oil-rises-over-2",
         "Lisa Levin",
         "2020-06-02 00:00:00-04:00",
         "AAPL",
         "-0.041176470588235294",
         "neutral"
        ],
        [
         "6695",
         "Pepper Spray, Books On Racism, 'I Can't Breathe' Merchandise Are Top Sellers On Amazon As Protests Rage",
         "https://www.benzinga.com/news/20/06/16156515/pepper-spray-books-on-racism-i-cant-breathe-merchandise-are-top-sellers-on-amazon-as-protests-rage",
         "Neer Varshney",
         "2020-06-02 00:00:00-04:00",
         "AAPL",
         "0.021739130434782608",
         "neutral"
        ],
        [
         "6696",
         "Apple Cuts iPhone Prices in China To Push Sales As Country Reopens Economy",
         "https://www.benzinga.com/news/20/06/16156462/apple-cuts-iphone-prices-in-china-to-push-sales-as-country-reopens-economy",
         "Shivdeep Dhaliwal",
         "2020-06-01 00:00:00-04:00",
         "AAPL",
         "0.0",
         "neutral"
        ],
        [
         "6697",
         "Gun, Security Stocks Trade Higher After Weekend Protests Turn Violent And Destructive",
         "https://www.benzinga.com/news/20/06/16150247/gun-security-stocks-trade-higher-after-weekend-protests-turn-violent-and-destructive",
         "Wayne Duggan",
         "2020-06-01 00:00:00-04:00",
         "AAPL",
         "-0.08846153846153845",
         "negative"
        ],
        [
         "6698",
         "Carter Worth And Mike Khouw's Apple Trade",
         "https://www.benzinga.com/markets/options/20/06/16148745/carter-worth-and-mike-khouws-apple-trade",
         "Craig Jones",
         "2020-06-01 00:00:00-04:00",
         "AAPL",
         "0.03333333333333333",
         "neutral"
        ],
        [
         "6699",
         "Apple Pays Hacker From India $100,000 For Discovering Serious 'Sign In With Apple' Vulnerability",
         "https://www.benzinga.com/news/20/06/16146494/apple-pays-hacker-from-india-100-000-for-discovering-serious-sign-in-with-apple-vulnerability",
         "Shivdeep Dhaliwal",
         "2020-06-01 00:00:00-04:00",
         "AAPL",
         "-0.017543859649122806",
         "neutral"
        ],
        [
         "6700",
         "Volume Production of New iPhone Models to Begin in Q3 2020",
         "https://www.benzinga.com/news/20/06/16147117/volume-production-of-new-iphone-models-to-begin-in-q3-2020",
         "Charles Gross",
         "2020-06-01 00:00:00-04:00",
         "AAPL",
         "0.012396694214876032",
         "neutral"
        ],
        [
         "6701",
         "Apple CEO Writes To Employees About George Floyd Death, Urges For 'Better, More Just World For Everyone'",
         "https://www.benzinga.com/news/20/06/16146417/apple-ceo-writes-to-employees-about-george-floyd-death-urges-for-better-more-just-world-for-everyone",
         "Shivdeep Dhaliwal",
         "2020-06-01 00:00:00-04:00",
         "AAPL",
         "0.047619047619047616",
         "neutral"
        ],
        [
         "6702",
         "Amazon, Apple, Walmart, Other Retailers Shutter Stores, Scale Back Operations In Areas Worst Hit With Protests",
         "https://www.benzinga.com/news/20/06/16146370/amazon-apple-walmart-other-retailers-shutter-stores-scale-back-operations-in-areas-worst-hit-with-pr",
         "Neer Varshney",
         "2020-05-31 00:00:00-04:00",
         "AAPL",
         "-0.05625",
         "negative"
        ],
        [
         "6703",
         "Apple Says With Health and Safety of Its Teams in Mind, Decided to Keep Number of Its Stores in the U.S. Closed on Sunday",
         "https://www.benzinga.com/news/20/05/16146213/apple-says-with-health-and-safety-of-its-teams-in-mind-decided-to-keep-number-of-its-stores-in-the-u",
         "Charles Gross",
         "2020-05-31 00:00:00-04:00",
         "AAPL",
         "-0.0035714285714285718",
         "neutral"
        ],
        [
         "6704",
         "Costco Shares Come Under Pressure Despite Strong Earnings, Same-Store Sales",
         "https://www.benzinga.com/government/20/05/16138428/costco-shares-come-under-pressure-despite-strong-earnings-same-store-sales",
         "JJ Kinahan",
         "2020-05-29 00:00:00-04:00",
         "AAPL",
         "0.03333333333333333",
         "neutral"
        ],
        [
         "6705",
         "Trump's Executive Order To Expose Social Media To Lawsuits Over Content Policies",
         "https://www.benzinga.com/analyst-ratings/analyst-color/20/05/16128213/trumps-executive-order-to-expose-social-media-to-lawsuits-over-content-policies",
         "Elizabeth Balboa",
         "2020-05-28 00:00:00-04:00",
         "AAPL",
         "0.0023809523809523807",
         "neutral"
        ],
        [
         "6706",
         "Costco Earnings On Tap After Close As Investors Mull Strong Toll Brothers Results",
         "https://www.benzinga.com/news/20/05/16127758/costco-earnings-on-tap-after-close-as-investors-mull-strong-toll-brothers-results",
         "JJ Kinahan",
         "2020-05-28 00:00:00-04:00",
         "AAPL",
         "0.03333333333333333",
         "neutral"
        ],
        [
         "6707",
         "Martin Scorsese's Next Movie Will Be Financed By Apple: Report",
         "https://www.benzinga.com/news/20/05/16124204/martin-scorseses-next-movie-will-be-financed-by-apple-report",
         "Shivdeep Dhaliwal",
         "2020-05-28 00:00:00-04:00",
         "AAPL",
         "0.0",
         "neutral"
        ],
        [
         "6708",
         "Tech Companies Aren't 'State Actors,' Judge Dismisses Conservative Bias Lawsuit Against Facebook, Twitter, Google, Apple",
         "https://www.benzinga.com/news/20/05/16124533/tech-companies-arent-state-actors-judge-dismisses-conservative-bias-lawsuit-against-facebook-twitter",
         "Neer Varshney",
         "2020-05-28 00:00:00-04:00",
         "AAPL",
         "0.0",
         "neutral"
        ],
        [
         "6709",
         "Leidos Awarded $84.6M Payment from VirnetX Lawsuit vs Apple",
         "https://www.benzinga.com/news/20/05/16123778/leidos-awarded-84-6m-payment-from-virnetx-lawsuit-vs-apple",
         "Charles Gross",
         "2020-05-27 00:00:00-04:00",
         "AAPL",
         "0.0",
         "neutral"
        ],
        [
         "6710",
         "The Most Popular Smartphone Model Of Q1",
         "https://www.benzinga.com/news/20/05/16115833/the-most-popular-smartphone-model-of-q1",
         "Shanthi Rexaline",
         "2020-05-27 00:00:00-04:00",
         "AAPL",
         "0.15714285714285717",
         "positive"
        ],
        [
         "6711",
         "This New Tool Will Tell You Whether Or Not An Options Spread Is A Good Deal",
         "https://www.benzinga.com/general/education/20/05/16120055/this-new-tool-will-tell-you-whether-or-not-an-options-spread-is-a-good-deal",
         "Spencer Israel",
         "2020-05-27 00:00:00-04:00",
         "AAPL",
         "0.05227272727272727",
         "positive"
        ],
        [
         "6712",
         "B of A Securities Maintains Buy on Apple, Raises Price Target to $340",
         "https://www.benzinga.com/news/20/05/16117795/b-of-a-securities-maintains-buy-on-apple-raises-price-target-to-340",
         "Vick Meyer",
         "2020-05-27 00:00:00-04:00",
         "AAPL",
         "0.0",
         "neutral"
        ],
        [
         "6713",
         "3 Apple Analysts Lift Price Targets: Why They're Optimistic On iPhone's Trajectory",
         "https://www.benzinga.com/analyst-ratings/analyst-color/20/05/16116516/3-apple-analysts-lift-price-targets-why-theyre-optimistic-on-iphones-trajectory",
         "Shanthi Rexaline",
         "2020-05-27 00:00:00-04:00",
         "AAPL",
         "0.0",
         "neutral"
        ],
        [
         "6714",
         "'LG reportedly supplying 20 million OLED panels for 'iPhone 12 Max'' -AppleInsider",
         "https://www.benzinga.com/news/20/05/16115993/lg-reportedly-supplying-20-million-oled-panels-for-iphone-12-max-appleinsider",
         "Benzinga Newsdesk",
         "2020-05-27 00:00:00-04:00",
         "AAPL",
         "0.0",
         "neutral"
        ],
        [
         "6715",
         "Same Old Leadership Song Lifts These Leveraged ETFs",
         "https://www.benzinga.com/trading-ideas/long-ideas/20/05/16112730/same-old-leadership-song-lifts-these-leveraged-etfs",
         "ETF Professor",
         "2020-05-27 00:00:00-04:00",
         "AAPL",
         "0.0125",
         "neutral"
        ],
        [
         "6716",
         "Deutsche Bank Maintains Buy on Apple, Raises Price Target to $320",
         "https://www.benzinga.com/news/20/05/16114459/deutsche-bank-maintains-buy-on-apple-raises-price-target-to-320",
         "Benzinga_Newsdesk",
         "2020-05-27 00:00:00-04:00",
         "AAPL",
         "0.0",
         "neutral"
        ],
        [
         "6717",
         "YouTube Makes Its Dedicated Children App Available On Apple TV",
         "https://www.benzinga.com/news/20/05/16113144/youtube-makes-its-dedicated-children-app-available-on-apple-tv",
         "Neer Varshney",
         "2020-05-27 00:00:00-04:00",
         "AAPL",
         "0.04",
         "neutral"
        ],
        [
         "6718",
         "Samsung Display Secures Majority of Panel Orders for Next-gen iPhone",
         "https://www.benzinga.com/news/20/05/16113529/samsung-display-secures-majority-of-panel-orders-for-next-gen-iphone",
         "Charles Gross",
         "2020-05-27 00:00:00-04:00",
         "AAPL",
         "0.0",
         "neutral"
        ],
        [
         "6719",
         "Study: 34% Of Americans Report Looking Through Their Partner's Phone Without Permission",
         "https://www.benzinga.com/general/education/20/05/16100606/study-34-of-americans-report-looking-through-their-partners-phone-without-permission",
         "Henry Khederian",
         "2020-05-26 00:00:00-04:00",
         "AAPL",
         "0.0",
         "neutral"
        ],
        [
         "6720",
         "Apple To Reopen ~100 More US Stores This Week",
         "https://www.benzinga.com/news/20/05/16108713/apple-to-reopen-100-more-us-stores-this-week",
         "Benzinga Newsdesk",
         "2020-05-26 00:00:00-04:00",
         "AAPL",
         "0.05",
         "positive"
        ],
        [
         "6721",
         "'FAANG Stocks Are Strong Once Again,' Facebook, Amazon, Netflix Hit Record Highs Last Week",
         "https://www.benzinga.com/news/20/05/16103196/faang-stocks-are-strong-once-again-facebook-amazon-netflix-hit-record-highs-last-week",
         "Neer Varshney",
         "2020-05-26 00:00:00-04:00",
         "AAPL",
         "0.024074074074074074",
         "neutral"
        ],
        [
         "6722",
         "Apple Expected to Incorporate Ambient Light Sensors in Next-generation Airpods Devices",
         "https://www.benzinga.com/news/20/05/16101534/apple-expected-to-incorporate-ambient-light-sensors-in-next-generation-airpods-devices",
         "Charles Gross",
         "2020-05-25 00:00:00-04:00",
         "AAPL",
         "0.02307692307692308",
         "neutral"
        ],
        [
         "6723",
         "The Secret to Tech's Resilience to COVID-19- Infrastructure Expansion",
         "https://www.benzinga.com/news/earnings/20/05/16093892/the-secret-to-techs-resilience-to-covid-19-infrastructure-expansion",
         "IAM Newswire",
         "2020-05-22 00:00:00-04:00",
         "AAPL",
         "-0.028571428571428574",
         "neutral"
        ],
        [
         "6724",
         "Apple Is Seeking An Executive To Lead Original Podcast Effort, Is Buying Original Podcasts That Would Be Exclusive; New Podcasts Will Help Promote TV+ Video Service",
         "https://www.benzinga.com/tech/20/05/16088267/apple-is-seeking-an-executive-to-lead-original-podcast-effort-is-buying-original-podcasts-that-would",
         "Benzinga Newsdesk",
         "2020-05-21 00:00:00-04:00",
         "AAPL",
         "0.030564263322884012",
         "neutral"
        ],
        [
         "6725",
         "Evercore ISI Analyst Amit DAryanani Says Apple Can Exceed $100 Billion In Services Revenue In The Fiscal Year Ending In September 2024",
         "https://www.benzinga.com/analyst-ratings/analyst-color/20/05/16088238/evercore-isi-analyst-amit-daryanani-says-apple-can-exceed-100-billion-in-services-r",
         "Benzinga Newsdesk",
         "2020-05-21 00:00:00-04:00",
         "AAPL",
         "0.0",
         "neutral"
        ],
        [
         "6726",
         "Apple Vs. Tesla: Morgan Stanley Breaks Down The Parallels",
         "https://www.benzinga.com/analyst-ratings/analyst-color/20/05/16084937/apple-vs-tesla-morgan-stanley-breaks-down-the-parallels",
         "Elizabeth Balboa",
         "2020-05-21 00:00:00-04:00",
         "AAPL",
         "-0.014141414141414142",
         "neutral"
        ],
        [
         "6727",
         "As The Global Economy Weighs Fears Of A Recession, Travel Is Already In A Depression",
         "https://www.benzinga.com/news/20/05/16086804/as-the-global-economy-weighs-fears-of-a-recession-travel-is-already-in-a-depression",
         "IAM Newswire",
         "2020-05-21 00:00:00-04:00",
         "AAPL",
         "0.0",
         "neutral"
        ],
        [
         "6728",
         "Hearing Evercore ISI Raises Price Target On Apple From $330 To $345",
         "https://www.benzinga.com/news/20/05/16083197/hearing-evercore-isi-raises-price-target-on-apple-from-330-to-345",
         "Benzinga Newsdesk",
         "2020-05-21 00:00:00-04:00",
         "AAPL",
         "0.0",
         "neutral"
        ],
        [
         "6729",
         "Apple's Face ID Will Allow Mask Wearing Users To Unlock Their Phones Quickly",
         "https://www.benzinga.com/news/20/05/16081929/apples-face-id-will-allow-mask-wearing-users-to-unlock-their-phones-quickly",
         "Shivdeep Dhaliwal",
         "2020-05-20 00:00:00-04:00",
         "AAPL",
         "0.02222222222222222",
         "neutral"
        ]
       ],
       "shape": {
        "columns": 7,
        "rows": 6939
       }
      },
      "text/html": [
       "<div>\n",
       "<style scoped>\n",
       "    .dataframe tbody tr th:only-of-type {\n",
       "        vertical-align: middle;\n",
       "    }\n",
       "\n",
       "    .dataframe tbody tr th {\n",
       "        vertical-align: top;\n",
       "    }\n",
       "\n",
       "    .dataframe thead th {\n",
       "        text-align: right;\n",
       "    }\n",
       "</style>\n",
       "<table border=\"1\" class=\"dataframe\">\n",
       "  <thead>\n",
       "    <tr style=\"text-align: right;\">\n",
       "      <th></th>\n",
       "      <th>headline</th>\n",
       "      <th>url</th>\n",
       "      <th>publisher</th>\n",
       "      <th>date</th>\n",
       "      <th>stock</th>\n",
       "      <th>Sentiment</th>\n",
       "      <th>sentiment_label</th>\n",
       "    </tr>\n",
       "  </thead>\n",
       "  <tbody>\n",
       "    <tr>\n",
       "      <th>6680</th>\n",
       "      <td>Tech Stocks And FAANGS Strong Again To Start D...</td>\n",
       "      <td>https://www.benzinga.com/government/20/06/1622...</td>\n",
       "      <td>JJ Kinahan</td>\n",
       "      <td>2020-06-10 11:33:26-04:00</td>\n",
       "      <td>AAPL</td>\n",
       "      <td>0.033333</td>\n",
       "      <td>neutral</td>\n",
       "    </tr>\n",
       "    <tr>\n",
       "      <th>6681</th>\n",
       "      <td>10 Biggest Price Target Changes For Wednesday</td>\n",
       "      <td>https://www.benzinga.com/analyst-ratings/price...</td>\n",
       "      <td>Lisa Levin</td>\n",
       "      <td>2020-06-10 08:14:08-04:00</td>\n",
       "      <td>AAPL</td>\n",
       "      <td>0.000000</td>\n",
       "      <td>neutral</td>\n",
       "    </tr>\n",
       "    <tr>\n",
       "      <th>6682</th>\n",
       "      <td>Benzinga Pro's Top 5 Stocks To Watch For Wed.,...</td>\n",
       "      <td>https://www.benzinga.com/short-sellers/20/06/1...</td>\n",
       "      <td>Benzinga Newsdesk</td>\n",
       "      <td>2020-06-10 07:53:47-04:00</td>\n",
       "      <td>AAPL</td>\n",
       "      <td>0.018519</td>\n",
       "      <td>neutral</td>\n",
       "    </tr>\n",
       "    <tr>\n",
       "      <th>6683</th>\n",
       "      <td>Deutsche Bank Maintains Buy on Apple, Raises P...</td>\n",
       "      <td>https://www.benzinga.com/news/20/06/16219873/d...</td>\n",
       "      <td>Benzinga Newsdesk</td>\n",
       "      <td>2020-06-10 07:19:25-04:00</td>\n",
       "      <td>AAPL</td>\n",
       "      <td>0.000000</td>\n",
       "      <td>neutral</td>\n",
       "    </tr>\n",
       "    <tr>\n",
       "      <th>6684</th>\n",
       "      <td>Apple To Let Users Trade In Their Mac Computer...</td>\n",
       "      <td>https://www.benzinga.com/news/20/06/16218697/a...</td>\n",
       "      <td>Neer Varshney</td>\n",
       "      <td>2020-06-10 06:27:11-04:00</td>\n",
       "      <td>AAPL</td>\n",
       "      <td>0.000000</td>\n",
       "      <td>neutral</td>\n",
       "    </tr>\n",
       "    <tr>\n",
       "      <th>...</th>\n",
       "      <td>...</td>\n",
       "      <td>...</td>\n",
       "      <td>...</td>\n",
       "      <td>...</td>\n",
       "      <td>...</td>\n",
       "      <td>...</td>\n",
       "      <td>...</td>\n",
       "    </tr>\n",
       "    <tr>\n",
       "      <th>1257091</th>\n",
       "      <td>Electrek.Co Tweet: Tesla's head of Europe is out</td>\n",
       "      <td>https://www.benzinga.com/news/19/07/14015998/e...</td>\n",
       "      <td>Charles Gross</td>\n",
       "      <td>2019-07-02 00:00:00-04:00</td>\n",
       "      <td>TSLA</td>\n",
       "      <td>0.000000</td>\n",
       "      <td>neutral</td>\n",
       "    </tr>\n",
       "    <tr>\n",
       "      <th>1257092</th>\n",
       "      <td>Tesla's Q2 Delivery Number Could Cause A Big Move</td>\n",
       "      <td>https://www.benzinga.com/analyst-ratings/analy...</td>\n",
       "      <td>Wayne Duggan</td>\n",
       "      <td>2019-07-01 00:00:00-04:00</td>\n",
       "      <td>TSLA</td>\n",
       "      <td>0.000000</td>\n",
       "      <td>neutral</td>\n",
       "    </tr>\n",
       "    <tr>\n",
       "      <th>1257093</th>\n",
       "      <td>'Tesla Electric Airplane? Elon Musk sees elect...</td>\n",
       "      <td>https://www.benzinga.com/news/19/07/14011389/t...</td>\n",
       "      <td>Benzinga Newsdesk</td>\n",
       "      <td>2019-07-01 00:00:00-04:00</td>\n",
       "      <td>TSLA</td>\n",
       "      <td>0.000000</td>\n",
       "      <td>neutral</td>\n",
       "    </tr>\n",
       "    <tr>\n",
       "      <th>1257094</th>\n",
       "      <td>UPDATE: JMP Reiterates Outperform, $347 Target...</td>\n",
       "      <td>https://www.benzinga.com/analyst-ratings/analy...</td>\n",
       "      <td>Benzinga_Newsdesk</td>\n",
       "      <td>2019-07-01 00:00:00-04:00</td>\n",
       "      <td>TSLA</td>\n",
       "      <td>0.003922</td>\n",
       "      <td>neutral</td>\n",
       "    </tr>\n",
       "    <tr>\n",
       "      <th>1257095</th>\n",
       "      <td>Tesla shares are trading higher after JMP Secu...</td>\n",
       "      <td>https://www.benzinga.com/markets/wiim/19/07/14...</td>\n",
       "      <td>Hal Lindon</td>\n",
       "      <td>2019-07-01 00:00:00-04:00</td>\n",
       "      <td>TSLA</td>\n",
       "      <td>0.010417</td>\n",
       "      <td>neutral</td>\n",
       "    </tr>\n",
       "  </tbody>\n",
       "</table>\n",
       "<p>6939 rows × 7 columns</p>\n",
       "</div>"
      ],
      "text/plain": [
       "                                                  headline  \\\n",
       "6680     Tech Stocks And FAANGS Strong Again To Start D...   \n",
       "6681         10 Biggest Price Target Changes For Wednesday   \n",
       "6682     Benzinga Pro's Top 5 Stocks To Watch For Wed.,...   \n",
       "6683     Deutsche Bank Maintains Buy on Apple, Raises P...   \n",
       "6684     Apple To Let Users Trade In Their Mac Computer...   \n",
       "...                                                    ...   \n",
       "1257091   Electrek.Co Tweet: Tesla's head of Europe is out   \n",
       "1257092  Tesla's Q2 Delivery Number Could Cause A Big Move   \n",
       "1257093  'Tesla Electric Airplane? Elon Musk sees elect...   \n",
       "1257094  UPDATE: JMP Reiterates Outperform, $347 Target...   \n",
       "1257095  Tesla shares are trading higher after JMP Secu...   \n",
       "\n",
       "                                                       url          publisher  \\\n",
       "6680     https://www.benzinga.com/government/20/06/1622...         JJ Kinahan   \n",
       "6681     https://www.benzinga.com/analyst-ratings/price...         Lisa Levin   \n",
       "6682     https://www.benzinga.com/short-sellers/20/06/1...  Benzinga Newsdesk   \n",
       "6683     https://www.benzinga.com/news/20/06/16219873/d...  Benzinga Newsdesk   \n",
       "6684     https://www.benzinga.com/news/20/06/16218697/a...      Neer Varshney   \n",
       "...                                                    ...                ...   \n",
       "1257091  https://www.benzinga.com/news/19/07/14015998/e...      Charles Gross   \n",
       "1257092  https://www.benzinga.com/analyst-ratings/analy...       Wayne Duggan   \n",
       "1257093  https://www.benzinga.com/news/19/07/14011389/t...  Benzinga Newsdesk   \n",
       "1257094  https://www.benzinga.com/analyst-ratings/analy...  Benzinga_Newsdesk   \n",
       "1257095  https://www.benzinga.com/markets/wiim/19/07/14...         Hal Lindon   \n",
       "\n",
       "                             date stock  Sentiment sentiment_label  \n",
       "6680    2020-06-10 11:33:26-04:00  AAPL   0.033333         neutral  \n",
       "6681    2020-06-10 08:14:08-04:00  AAPL   0.000000         neutral  \n",
       "6682    2020-06-10 07:53:47-04:00  AAPL   0.018519         neutral  \n",
       "6683    2020-06-10 07:19:25-04:00  AAPL   0.000000         neutral  \n",
       "6684    2020-06-10 06:27:11-04:00  AAPL   0.000000         neutral  \n",
       "...                           ...   ...        ...             ...  \n",
       "1257091 2019-07-02 00:00:00-04:00  TSLA   0.000000         neutral  \n",
       "1257092 2019-07-01 00:00:00-04:00  TSLA   0.000000         neutral  \n",
       "1257093 2019-07-01 00:00:00-04:00  TSLA   0.000000         neutral  \n",
       "1257094 2019-07-01 00:00:00-04:00  TSLA   0.003922         neutral  \n",
       "1257095 2019-07-01 00:00:00-04:00  TSLA   0.010417         neutral  \n",
       "\n",
       "[6939 rows x 7 columns]"
      ]
     },
     "execution_count": 19,
     "metadata": {},
     "output_type": "execute_result"
    }
   ],
   "source": [
    "analysis.calculate_sentiment(news_data)"
   ]
  },
  {
   "cell_type": "code",
   "execution_count": 20,
   "id": "d5a86512",
   "metadata": {},
   "outputs": [
    {
     "data": {
      "application/vnd.microsoft.datawrangler.viewer.v0+json": {
       "columns": [
        {
         "name": "index",
         "rawType": "object",
         "type": "string"
        },
        {
         "name": "Sentiment",
         "rawType": "float64",
         "type": "float"
        }
       ],
       "ref": "25e20282-515c-412b-b80c-22df2197cdc0",
       "rows": [
        [
         "count",
         "6939.0"
        ],
        [
         "mean",
         "0.006500440658102006"
        ],
        [
         "std",
         "0.02144373811417189"
        ],
        [
         "min",
         "-0.19999999999999998"
        ],
        [
         "25%",
         "0.0"
        ],
        [
         "50%",
         "0.0"
        ],
        [
         "75%",
         "0.009890968508615568"
        ],
        [
         "max",
         "0.2"
        ]
       ],
       "shape": {
        "columns": 1,
        "rows": 8
       }
      },
      "text/plain": [
       "count    6939.000000\n",
       "mean        0.006500\n",
       "std         0.021444\n",
       "min        -0.200000\n",
       "25%         0.000000\n",
       "50%         0.000000\n",
       "75%         0.009891\n",
       "max         0.200000\n",
       "Name: Sentiment, dtype: float64"
      ]
     },
     "execution_count": 20,
     "metadata": {},
     "output_type": "execute_result"
    }
   ],
   "source": [
    "# Describe financial news data sentiments \n",
    "news_data['Sentiment'].describe()"
   ]
  },
  {
   "cell_type": "markdown",
   "id": "f5a2f0e4",
   "metadata": {},
   "source": [
    "- The sentiment calculation result shows:\n",
    "  -  min polarity = -0.19\n",
    "  -  max polarity = 0.2"
   ]
  },
  {
   "cell_type": "code",
   "execution_count": 70,
   "id": "2c817030",
   "metadata": {},
   "outputs": [
    {
     "name": "stdout",
     "output_type": "stream",
     "text": [
      "  Sentiment  Percentage\n",
      "0   neutral   69.806115\n",
      "1  positive   23.677849\n",
      "2  negative    6.516036\n"
     ]
    },
    {
     "name": "stderr",
     "output_type": "stream",
     "text": [
      "C:\\Users\\jonep\\AppData\\Local\\Temp\\ipykernel_4504\\1899555483.py:13: FutureWarning:\n",
      "\n",
      "\n",
      "\n",
      "Passing `palette` without assigning `hue` is deprecated and will be removed in v0.14.0. Assign the `x` variable to `hue` and set `legend=False` for the same effect.\n",
      "\n",
      "\n"
     ]
    },
    {
     "data": {
      "image/png": "[encoded data removed]",
      "text/plain": [
       "<Figure size 800x600 with 1 Axes>"
      ]
     },
     "metadata": {},
     "output_type": "display_data"
    }
   ],
   "source": [
    "import seaborn as sns\n",
    "import matplotlib.pyplot as plt\n",
    "\n",
    "# Calculate percentages\n",
    "sentiment_percentages = news_data['l_sentiment'].value_counts(normalize=True) * 100\n",
    "percentage_df = pd.DataFrame({\n",
    "    'Sentiment': sentiment_percentages.index,\n",
    "    'Percentage': sentiment_percentages.values\n",
    "})\n",
    "print(percentage_df)\n",
    "# Create bar plot\n",
    "plt.figure(figsize=(8, 6))\n",
    "sns.barplot(data=percentage_df, x='Sentiment', y='Percentage',\n",
    "            palette={'positive': '#4CAF50', 'neutral': '#FFC107', 'negative': '#F44336'})\n",
    "plt.title('Percentage of Sentiment Categories')\n",
    "plt.xlabel('Sentiment')\n",
    "plt.ylabel('Percentage (%)')\n",
    "plt.grid(True)\n",
    "plt.show()"
   ]
  },
  {
   "cell_type": "markdown",
   "id": "c06a0220",
   "metadata": {},
   "source": [
    "#### calculating daily returns of the stock price data"
   ]
  },
  {
   "cell_type": "code",
   "execution_count": 26,
   "id": "eae7cea4",
   "metadata": {},
   "outputs": [
    {
     "name": "stdout",
     "output_type": "stream",
     "text": [
      "Local punkt tokenizer found.\n",
      "Calculating daily stock returns...\n"
     ]
    },
    {
     "data": {
      "application/vnd.microsoft.datawrangler.viewer.v0+json": {
       "columns": [
        {
         "name": "index",
         "rawType": "int64",
         "type": "integer"
        },
        {
         "name": "date",
         "rawType": "object",
         "type": "unknown"
        },
        {
         "name": "open",
         "rawType": "float64",
         "type": "float"
        },
        {
         "name": "high",
         "rawType": "float64",
         "type": "float"
        },
        {
         "name": "low",
         "rawType": "float64",
         "type": "float"
        },
        {
         "name": "close",
         "rawType": "float64",
         "type": "float"
        },
        {
         "name": "adj_close",
         "rawType": "float64",
         "type": "float"
        },
        {
         "name": "volume",
         "rawType": "int64",
         "type": "integer"
        },
        {
         "name": "dividends",
         "rawType": "float64",
         "type": "float"
        },
        {
         "name": "stock_splits",
         "rawType": "float64",
         "type": "float"
        },
        {
         "name": "ticker",
         "rawType": "object",
         "type": "string"
        },
        {
         "name": "Daily_Return",
         "rawType": "float64",
         "type": "float"
        }
       ],
       "ref": "9cb4fa01-5e20-41c1-aef8-5d2e36a23797",
       "rows": [
        [
         "0",
         "1980-12-12",
         "0.1283479928970337",
         "0.1289059966802597",
         "0.1283479928970337",
         "0.1283479928970337",
         "0.098943218588829",
         "469033600",
         "0.0",
         "0.0",
         "AAPL",
         null
        ],
        [
         "1",
         "1980-12-15",
         "0.1222100034356117",
         "0.1222100034356117",
         "0.1216519996523857",
         "0.1216519996523857",
         "0.093781292438507",
         "175884800",
         "0.0",
         "0.0",
         "AAPL",
         "-5.2170611269471205"
        ],
        [
         "2",
         "1980-12-16",
         "0.1132809966802597",
         "0.1132809966802597",
         "0.1127230003476142",
         "0.1127230003476142",
         "0.0868979692459106",
         "105728000",
         "0.0",
         "0.0",
         "AAPL",
         "-7.339788355543386"
        ],
        [
         "3",
         "1980-12-17",
         "0.1155129969120025",
         "0.1160710006952285",
         "0.1155129969120025",
         "0.1155129969120025",
         "0.089048758149147",
         "86441600",
         "0.0",
         "0.0",
         "AAPL",
         "2.475090758571463"
        ],
        [
         "4",
         "1980-12-18",
         "0.1188620030879974",
         "0.1194199994206428",
         "0.1188620030879974",
         "0.1188620030879974",
         "0.0916304588317871",
         "73449600",
         "0.0",
         "0.0",
         "AAPL",
         "2.8992462021794507"
        ],
        [
         "5",
         "1980-12-19",
         "0.1261159926652908",
         "0.1266739964485168",
         "0.1261159926652908",
         "0.1261159926652908",
         "0.0972226113080978",
         "48630400",
         "0.0",
         "0.0",
         "AAPL",
         "6.102866676344876"
        ],
        [
         "6",
         "1980-12-22",
         "0.1322540044784546",
         "0.1328130066394806",
         "0.1322540044784546",
         "0.1322540044784546",
         "0.1019543036818504",
         "37363200",
         "0.0",
         "0.0",
         "AAPL",
         "4.866957539202765"
        ],
        [
         "7",
         "1980-12-23",
         "0.1378349959850311",
         "0.1383929997682571",
         "0.1378349959850311",
         "0.1378349959850311",
         "0.10625671595335",
         "46950400",
         "0.0",
         "0.0",
         "AAPL",
         "4.219903607898479"
        ],
        [
         "8",
         "1980-12-24",
         "0.1450890004634857",
         "0.1456470042467117",
         "0.1450890004634857",
         "0.1450890004634857",
         "0.1118487864732742",
         "48003200",
         "0.0",
         "0.0",
         "AAPL",
         "5.262817636852102"
        ],
        [
         "9",
         "1980-12-26",
         "0.1584820002317428",
         "0.1590400040149688",
         "0.1584820002317428",
         "0.1584820002317428",
         "0.1221734583377838",
         "55574400",
         "0.0",
         "0.0",
         "AAPL",
         "9.23088568083954"
        ],
        [
         "10",
         "1980-12-29",
         "0.1607140004634857",
         "0.1612720042467117",
         "0.1607140004634857",
         "0.1607140004634857",
         "0.1238940879702568",
         "93161600",
         "0.0",
         "0.0",
         "AAPL",
         "1.4083619770567601"
        ],
        [
         "11",
         "1980-12-30",
         "0.1573659926652908",
         "0.1573659926652908",
         "0.156808003783226",
         "0.156808003783226",
         "0.1208830177783966",
         "68880000",
         "0.0",
         "0.0",
         "AAPL",
         "-2.430402248089847"
        ],
        [
         "12",
         "1980-12-31",
         "0.1529020071029663",
         "0.1529020071029663",
         "0.1523440033197403",
         "0.1523440033197403",
         "0.1174416616559028",
         "35750400",
         "0.0",
         "0.0",
         "AAPL",
         "-2.846793757834465"
        ],
        [
         "13",
         "1981-01-02",
         "0.1540179997682571",
         "0.1551340073347091",
         "0.1540179997682571",
         "0.1540179997682571",
         "0.118732064962387",
         "21660800",
         "0.0",
         "0.0",
         "AAPL",
         "1.098826610853476"
        ],
        [
         "14",
         "1981-01-05",
         "0.1512279957532882",
         "0.1512279957532882",
         "0.1506700068712234",
         "0.1506700068712234",
         "0.1161512359976768",
         "35728000",
         "0.0",
         "0.0",
         "AAPL",
         "-2.173767288285311"
        ],
        [
         "15",
         "1981-01-06",
         "0.1445309966802597",
         "0.1445309966802597",
         "0.1439729928970337",
         "0.1439729928970337",
         "0.1109885200858116",
         "45158400",
         "0.0",
         "0.0",
         "AAPL",
         "-4.444822239846047"
        ],
        [
         "16",
         "1981-01-07",
         "0.1383929997682571",
         "0.1383929997682571",
         "0.1378349959850311",
         "0.1378349959850311",
         "0.10625671595335",
         "55686400",
         "0.0",
         "0.0",
         "AAPL",
         "-4.263297434118318"
        ],
        [
         "17",
         "1981-01-08",
         "0.1356029957532882",
         "0.1356029957532882",
         "0.1350450068712234",
         "0.1350450068712234",
         "0.104105919599533",
         "39827200",
         "0.0",
         "0.0",
         "AAPL",
         "-2.0241514818999273"
        ],
        [
         "18",
         "1981-01-09",
         "0.1422989964485168",
         "0.1428570002317428",
         "0.1422989964485168",
         "0.1422989964485168",
         "0.109698012471199",
         "21504000",
         "0.0",
         "0.0",
         "AAPL",
         "5.37153482780055"
        ],
        [
         "19",
         "1981-01-12",
         "0.1422989964485168",
         "0.1422989964485168",
         "0.141183003783226",
         "0.141183003783226",
         "0.1088377460837364",
         "23699200",
         "0.0",
         "0.0",
         "AAPL",
         "-0.7842589850551307"
        ],
        [
         "20",
         "1981-01-13",
         "0.1367190033197403",
         "0.1367190033197403",
         "0.1361609995365142",
         "0.1361609995365142",
         "0.1049662083387374",
         "23049600",
         "0.0",
         "0.0",
         "AAPL",
         "-3.557088397426833"
        ],
        [
         "21",
         "1981-01-14",
         "0.1367190033197403",
         "0.1372770071029663",
         "0.1367190033197403",
         "0.1367190033197403",
         "0.1053964346647262",
         "14291200",
         "0.0",
         "0.0",
         "AAPL",
         "0.40981175602816666"
        ],
        [
         "22",
         "1981-01-15",
         "0.1395090073347091",
         "0.140625",
         "0.1395090073347091",
         "0.1395090073347091",
         "0.1075472459197044",
         "14067200",
         "0.0",
         "0.0",
         "AAPL",
         "2.0406848698596214"
        ],
        [
         "23",
         "1981-01-16",
         "0.1389510035514831",
         "0.1389510035514831",
         "0.1383929997682571",
         "0.1383929997682571",
         "0.1066868975758552",
         "13395200",
         "0.0",
         "0.0",
         "AAPL",
         "-0.7999537719987404"
        ],
        [
         "24",
         "1981-01-19",
         "0.1467629969120025",
         "0.1473210006952285",
         "0.1467629969120025",
         "0.1467629969120025",
         "0.1131392568349838",
         "41574400",
         "0.0",
         "0.0",
         "AAPL",
         "6.047991703165034"
        ],
        [
         "25",
         "1981-01-20",
         "0.1428570002317428",
         "0.1428570002317428",
         "0.1422989964485168",
         "0.1422989964485168",
         "0.109698012471199",
         "30083200",
         "0.0",
         "0.0",
         "AAPL",
         "-3.041638939931357"
        ],
        [
         "26",
         "1981-01-21",
         "0.1450890004634857",
         "0.1462049931287765",
         "0.1450890004634857",
         "0.1450890004634857",
         "0.1118487864732742",
         "15904000",
         "0.0",
         "0.0",
         "AAPL",
         "1.9606631702271393"
        ],
        [
         "27",
         "1981-01-22",
         "0.1467629969120025",
         "0.1478790044784546",
         "0.1467629969120025",
         "0.1467629969120025",
         "0.1131392568349838",
         "35548800",
         "0.0",
         "0.0",
         "AAPL",
         "1.15377212825869"
        ],
        [
         "28",
         "1981-01-23",
         "0.1467629969120025",
         "0.1473210006952285",
         "0.1462049931287765",
         "0.1462049931287765",
         "0.1127091348171234",
         "11222400",
         "0.0",
         "0.0",
         "AAPL",
         "-0.38020740579493006"
        ],
        [
         "29",
         "1981-01-26",
         "0.1445309966802597",
         "0.1445309966802597",
         "0.1439729928970337",
         "0.1439729928970337",
         "0.1109885200858116",
         "24640000",
         "0.0",
         "0.0",
         "AAPL",
         "-1.5266238067374815"
        ],
        [
         "30",
         "1981-01-27",
         "0.1439729928970337",
         "0.1439729928970337",
         "0.1428570002317428",
         "0.1428570002317428",
         "0.1101282015442848",
         "23699200",
         "0.0",
         "0.0",
         "AAPL",
         "-0.7751402834898502"
        ],
        [
         "31",
         "1981-01-28",
         "0.1389510035514831",
         "0.1389510035514831",
         "0.1383929997682571",
         "0.1383929997682571",
         "0.1066868975758552",
         "28156800",
         "0.0",
         "0.0",
         "AAPL",
         "-3.1248034441743733"
        ],
        [
         "32",
         "1981-01-29",
         "0.1339289993047714",
         "0.1339289993047714",
         "0.1333709955215454",
         "0.1333709955215454",
         "0.1028154343366622",
         "43904000",
         "0.0",
         "0.0",
         "AAPL",
         "-3.628799328810839"
        ],
        [
         "33",
         "1981-01-30",
         "0.1272320002317428",
         "0.1272320002317428",
         "0.1261159926652908",
         "0.1261159926652908",
         "0.0972226113080978",
         "46188800",
         "0.0",
         "0.0",
         "AAPL",
         "-5.439715605243867"
        ],
        [
         "34",
         "1981-02-02",
         "0.1194199994206428",
         "0.1194199994206428",
         "0.1188620030879974",
         "0.1188620030879974",
         "0.0916304588317871",
         "23766400",
         "0.0",
         "0.0",
         "AAPL",
         "-5.751839575608264"
        ],
        [
         "35",
         "1981-02-03",
         "0.1233260035514831",
         "0.1238839998841285",
         "0.1233260035514831",
         "0.1233260035514831",
         "0.0950717777013778",
         "19152000",
         "0.0",
         "0.0",
         "AAPL",
         "3.7556160484531365"
        ],
        [
         "36",
         "1981-02-04",
         "0.1277900040149688",
         "0.1283479928970337",
         "0.1277900040149688",
         "0.1277900040149688",
         "0.0985130742192268",
         "27865600",
         "0.0",
         "0.0",
         "AAPL",
         "3.6196749549434415"
        ],
        [
         "37",
         "1981-02-05",
         "0.1277900040149688",
         "0.1289059966802597",
         "0.1277900040149688",
         "0.1277900040149688",
         "0.0985130742192268",
         "7929600",
         "0.0",
         "0.0",
         "AAPL",
         "0.0"
        ],
        [
         "38",
         "1981-02-06",
         "0.1283479928970337",
         "0.1289059966802597",
         "0.1283479928970337",
         "0.1283479928970337",
         "0.098943218588829",
         "13865600",
         "0.0",
         "0.0",
         "AAPL",
         "0.43664517140131753"
        ],
        [
         "39",
         "1981-02-09",
         "0.1227679997682571",
         "0.1227679997682571",
         "0.1216519996523857",
         "0.1216519996523857",
         "0.093781292438507",
         "16755200",
         "0.0",
         "0.0",
         "AAPL",
         "-5.2170611269471205"
        ],
        [
         "40",
         "1981-02-10",
         "0.1216519996523857",
         "0.1222100034356117",
         "0.1216519996523857",
         "0.1216519996523857",
         "0.093781292438507",
         "18345600",
         "0.0",
         "0.0",
         "AAPL",
         "0.0"
        ],
        [
         "41",
         "1981-02-11",
         "0.1183039993047714",
         "0.1183039993047714",
         "0.117746002972126",
         "0.117746002972126",
         "0.0907701626420021",
         "13843200",
         "0.0",
         "0.0",
         "AAPL",
         "-3.210795294299218"
        ],
        [
         "42",
         "1981-02-12",
         "0.1171879991889",
         "0.1171879991889",
         "0.1166289970278739",
         "0.1166289970278739",
         "0.0899090468883514",
         "14560000",
         "0.0",
         "0.0",
         "AAPL",
         "-0.9486572079364097"
        ],
        [
         "43",
         "1981-02-13",
         "0.1149550005793571",
         "0.1149550005793571",
         "0.1138390004634857",
         "0.1138390004634857",
         "0.0877582728862762",
         "11155200",
         "0.0",
         "0.0",
         "AAPL",
         "-2.3921980257803233"
        ],
        [
         "44",
         "1981-02-17",
         "0.1166289970278739",
         "0.1171879991889",
         "0.1166289970278739",
         "0.1166289970278739",
         "0.0899090468883514",
         "12275200",
         "0.0",
         "0.0",
         "AAPL",
         "2.450826652578608"
        ],
        [
         "45",
         "1981-02-18",
         "0.1216519996523857",
         "0.1227679997682571",
         "0.1216519996523857",
         "0.1216519996523857",
         "0.093781292438507",
         "19241600",
         "0.0",
         "0.0",
         "AAPL",
         "4.306821418786044"
        ],
        [
         "46",
         "1981-02-19",
         "0.1149550005793571",
         "0.1149550005793571",
         "0.1143969967961311",
         "0.1143969967961311",
         "0.0881884023547172",
         "22310400",
         "0.0",
         "0.0",
         "AAPL",
         "-5.963734979273161"
        ],
        [
         "47",
         "1981-02-20",
         "0.1088170036673545",
         "0.1088170036673545",
         "0.1082589998841285",
         "0.1082589998841285",
         "0.0834566429257392",
         "24371200",
         "0.0",
         "0.0",
         "AAPL",
         "-5.365522770620668"
        ],
        [
         "48",
         "1981-02-23",
         "0.1099329963326454",
         "0.1104910001158714",
         "0.1099329963326454",
         "0.1099329963326454",
         "0.0847471207380294",
         "14112000",
         "0.0",
         "0.0",
         "AAPL",
         "1.5462884843833846"
        ],
        [
         "49",
         "1981-02-24",
         "0.1071429997682571",
         "0.1071429997682571",
         "0.1060269996523857",
         "0.1060269996523857",
         "0.0817359760403633",
         "16979200",
         "0.0",
         "0.0",
         "AAPL",
         "-3.5530703342612213"
        ]
       ],
       "shape": {
        "columns": 11,
        "rows": 45428
       }
      },
      "text/html": [
       "<div>\n",
       "<style scoped>\n",
       "    .dataframe tbody tr th:only-of-type {\n",
       "        vertical-align: middle;\n",
       "    }\n",
       "\n",
       "    .dataframe tbody tr th {\n",
       "        vertical-align: top;\n",
       "    }\n",
       "\n",
       "    .dataframe thead th {\n",
       "        text-align: right;\n",
       "    }\n",
       "</style>\n",
       "<table border=\"1\" class=\"dataframe\">\n",
       "  <thead>\n",
       "    <tr style=\"text-align: right;\">\n",
       "      <th></th>\n",
       "      <th>date</th>\n",
       "      <th>open</th>\n",
       "      <th>high</th>\n",
       "      <th>low</th>\n",
       "      <th>close</th>\n",
       "      <th>adj_close</th>\n",
       "      <th>volume</th>\n",
       "      <th>dividends</th>\n",
       "      <th>stock_splits</th>\n",
       "      <th>ticker</th>\n",
       "      <th>Daily_Return</th>\n",
       "    </tr>\n",
       "  </thead>\n",
       "  <tbody>\n",
       "    <tr>\n",
       "      <th>0</th>\n",
       "      <td>1980-12-12</td>\n",
       "      <td>0.128348</td>\n",
       "      <td>0.128906</td>\n",
       "      <td>0.128348</td>\n",
       "      <td>0.128348</td>\n",
       "      <td>0.098943</td>\n",
       "      <td>469033600</td>\n",
       "      <td>0.0</td>\n",
       "      <td>0.0</td>\n",
       "      <td>AAPL</td>\n",
       "      <td>NaN</td>\n",
       "    </tr>\n",
       "    <tr>\n",
       "      <th>1</th>\n",
       "      <td>1980-12-15</td>\n",
       "      <td>0.122210</td>\n",
       "      <td>0.122210</td>\n",
       "      <td>0.121652</td>\n",
       "      <td>0.121652</td>\n",
       "      <td>0.093781</td>\n",
       "      <td>175884800</td>\n",
       "      <td>0.0</td>\n",
       "      <td>0.0</td>\n",
       "      <td>AAPL</td>\n",
       "      <td>-5.217061</td>\n",
       "    </tr>\n",
       "    <tr>\n",
       "      <th>2</th>\n",
       "      <td>1980-12-16</td>\n",
       "      <td>0.113281</td>\n",
       "      <td>0.113281</td>\n",
       "      <td>0.112723</td>\n",
       "      <td>0.112723</td>\n",
       "      <td>0.086898</td>\n",
       "      <td>105728000</td>\n",
       "      <td>0.0</td>\n",
       "      <td>0.0</td>\n",
       "      <td>AAPL</td>\n",
       "      <td>-7.339788</td>\n",
       "    </tr>\n",
       "    <tr>\n",
       "      <th>3</th>\n",
       "      <td>1980-12-17</td>\n",
       "      <td>0.115513</td>\n",
       "      <td>0.116071</td>\n",
       "      <td>0.115513</td>\n",
       "      <td>0.115513</td>\n",
       "      <td>0.089049</td>\n",
       "      <td>86441600</td>\n",
       "      <td>0.0</td>\n",
       "      <td>0.0</td>\n",
       "      <td>AAPL</td>\n",
       "      <td>2.475091</td>\n",
       "    </tr>\n",
       "    <tr>\n",
       "      <th>4</th>\n",
       "      <td>1980-12-18</td>\n",
       "      <td>0.118862</td>\n",
       "      <td>0.119420</td>\n",
       "      <td>0.118862</td>\n",
       "      <td>0.118862</td>\n",
       "      <td>0.091630</td>\n",
       "      <td>73449600</td>\n",
       "      <td>0.0</td>\n",
       "      <td>0.0</td>\n",
       "      <td>AAPL</td>\n",
       "      <td>2.899246</td>\n",
       "    </tr>\n",
       "    <tr>\n",
       "      <th>...</th>\n",
       "      <td>...</td>\n",
       "      <td>...</td>\n",
       "      <td>...</td>\n",
       "      <td>...</td>\n",
       "      <td>...</td>\n",
       "      <td>...</td>\n",
       "      <td>...</td>\n",
       "      <td>...</td>\n",
       "      <td>...</td>\n",
       "      <td>...</td>\n",
       "      <td>...</td>\n",
       "    </tr>\n",
       "    <tr>\n",
       "      <th>45423</th>\n",
       "      <td>2024-07-24</td>\n",
       "      <td>225.419998</td>\n",
       "      <td>225.990005</td>\n",
       "      <td>214.710007</td>\n",
       "      <td>215.990005</td>\n",
       "      <td>215.990005</td>\n",
       "      <td>167942900</td>\n",
       "      <td>0.0</td>\n",
       "      <td>0.0</td>\n",
       "      <td>TSLA</td>\n",
       "      <td>-12.334605</td>\n",
       "    </tr>\n",
       "    <tr>\n",
       "      <th>45424</th>\n",
       "      <td>2024-07-25</td>\n",
       "      <td>216.800003</td>\n",
       "      <td>226.000000</td>\n",
       "      <td>216.229996</td>\n",
       "      <td>220.250000</td>\n",
       "      <td>220.250000</td>\n",
       "      <td>100636500</td>\n",
       "      <td>0.0</td>\n",
       "      <td>0.0</td>\n",
       "      <td>TSLA</td>\n",
       "      <td>1.972311</td>\n",
       "    </tr>\n",
       "    <tr>\n",
       "      <th>45425</th>\n",
       "      <td>2024-07-26</td>\n",
       "      <td>221.190002</td>\n",
       "      <td>222.279999</td>\n",
       "      <td>215.330002</td>\n",
       "      <td>219.800003</td>\n",
       "      <td>219.800003</td>\n",
       "      <td>94604100</td>\n",
       "      <td>0.0</td>\n",
       "      <td>0.0</td>\n",
       "      <td>TSLA</td>\n",
       "      <td>-0.204312</td>\n",
       "    </tr>\n",
       "    <tr>\n",
       "      <th>45426</th>\n",
       "      <td>2024-07-29</td>\n",
       "      <td>224.899994</td>\n",
       "      <td>234.270004</td>\n",
       "      <td>224.699997</td>\n",
       "      <td>232.100006</td>\n",
       "      <td>232.100006</td>\n",
       "      <td>129201800</td>\n",
       "      <td>0.0</td>\n",
       "      <td>0.0</td>\n",
       "      <td>TSLA</td>\n",
       "      <td>5.595998</td>\n",
       "    </tr>\n",
       "    <tr>\n",
       "      <th>45427</th>\n",
       "      <td>2024-07-30</td>\n",
       "      <td>232.250000</td>\n",
       "      <td>232.410004</td>\n",
       "      <td>220.000000</td>\n",
       "      <td>222.619995</td>\n",
       "      <td>222.619995</td>\n",
       "      <td>100560300</td>\n",
       "      <td>0.0</td>\n",
       "      <td>0.0</td>\n",
       "      <td>TSLA</td>\n",
       "      <td>-4.084451</td>\n",
       "    </tr>\n",
       "  </tbody>\n",
       "</table>\n",
       "<p>45428 rows × 11 columns</p>\n",
       "</div>"
      ],
      "text/plain": [
       "             date        open        high         low       close   adj_close  \\\n",
       "0      1980-12-12    0.128348    0.128906    0.128348    0.128348    0.098943   \n",
       "1      1980-12-15    0.122210    0.122210    0.121652    0.121652    0.093781   \n",
       "2      1980-12-16    0.113281    0.113281    0.112723    0.112723    0.086898   \n",
       "3      1980-12-17    0.115513    0.116071    0.115513    0.115513    0.089049   \n",
       "4      1980-12-18    0.118862    0.119420    0.118862    0.118862    0.091630   \n",
       "...           ...         ...         ...         ...         ...         ...   \n",
       "45423  2024-07-24  225.419998  225.990005  214.710007  215.990005  215.990005   \n",
       "45424  2024-07-25  216.800003  226.000000  216.229996  220.250000  220.250000   \n",
       "45425  2024-07-26  221.190002  222.279999  215.330002  219.800003  219.800003   \n",
       "45426  2024-07-29  224.899994  234.270004  224.699997  232.100006  232.100006   \n",
       "45427  2024-07-30  232.250000  232.410004  220.000000  222.619995  222.619995   \n",
       "\n",
       "          volume  dividends  stock_splits ticker  Daily_Return  \n",
       "0      469033600        0.0           0.0   AAPL           NaN  \n",
       "1      175884800        0.0           0.0   AAPL     -5.217061  \n",
       "2      105728000        0.0           0.0   AAPL     -7.339788  \n",
       "3       86441600        0.0           0.0   AAPL      2.475091  \n",
       "4       73449600        0.0           0.0   AAPL      2.899246  \n",
       "...          ...        ...           ...    ...           ...  \n",
       "45423  167942900        0.0           0.0   TSLA    -12.334605  \n",
       "45424  100636500        0.0           0.0   TSLA      1.972311  \n",
       "45425   94604100        0.0           0.0   TSLA     -0.204312  \n",
       "45426  129201800        0.0           0.0   TSLA      5.595998  \n",
       "45427  100560300        0.0           0.0   TSLA     -4.084451  \n",
       "\n",
       "[45428 rows x 11 columns]"
      ]
     },
     "execution_count": 26,
     "metadata": {},
     "output_type": "execute_result"
    }
   ],
   "source": [
    "# calculate daily return on close features of stock data\n",
    "analysis.calculate_daily_returns(stock_data)"
   ]
  },
  {
   "cell_type": "markdown",
   "id": "d2b4035b",
   "metadata": {},
   "source": [
    "#### aligning financial news data with stock price data using date "
   ]
  },
  {
   "cell_type": "code",
   "execution_count": 36,
   "id": "ad67121b",
   "metadata": {},
   "outputs": [
    {
     "name": "stdout",
     "output_type": "stream",
     "text": [
      "Local punkt tokenizer found.\n",
      "Aligning datasets by date...\n"
     ]
    },
    {
     "data": {
      "application/vnd.microsoft.datawrangler.viewer.v0+json": {
       "columns": [
        {
         "name": "index",
         "rawType": "int64",
         "type": "integer"
        },
        {
         "name": "date",
         "rawType": "object",
         "type": "unknown"
        },
        {
         "name": "open",
         "rawType": "float64",
         "type": "float"
        },
        {
         "name": "high",
         "rawType": "float64",
         "type": "float"
        },
        {
         "name": "low",
         "rawType": "float64",
         "type": "float"
        },
        {
         "name": "close",
         "rawType": "float64",
         "type": "float"
        },
        {
         "name": "adj_close",
         "rawType": "float64",
         "type": "float"
        },
        {
         "name": "volume",
         "rawType": "int64",
         "type": "integer"
        },
        {
         "name": "dividends",
         "rawType": "float64",
         "type": "float"
        },
        {
         "name": "stock_splits",
         "rawType": "float64",
         "type": "float"
        },
        {
         "name": "ticker",
         "rawType": "object",
         "type": "string"
        },
        {
         "name": "Daily_Return",
         "rawType": "float64",
         "type": "float"
        },
        {
         "name": "Unnamed: 0",
         "rawType": "int64",
         "type": "integer"
        },
        {
         "name": "headline",
         "rawType": "object",
         "type": "string"
        },
        {
         "name": "url",
         "rawType": "object",
         "type": "string"
        },
        {
         "name": "publisher",
         "rawType": "object",
         "type": "string"
        },
        {
         "name": "stock",
         "rawType": "object",
         "type": "string"
        },
        {
         "name": "cleaned_headline",
         "rawType": "object",
         "type": "string"
        },
        {
         "name": "sentiment",
         "rawType": "float64",
         "type": "float"
        },
        {
         "name": "l_sentiment",
         "rawType": "object",
         "type": "string"
        }
       ],
       "ref": "0c5a3e59-944d-4a74-b413-9030158d1434",
       "rows": [
        [
         "0",
         "2009-04-27",
         "4.389286041259766",
         "4.464285850524902",
         "4.380713939666748",
         "4.4546427726745605",
         "3.76183557510376",
         "480690000",
         "0.0",
         "0.0",
         "AAPL",
         "0.6698888285194604",
         "522587",
         "Update on the Luxury Sector: 2nd Quarter 2009",
         "https://www.benzinga.com/charles-lewis-sizemore-cfa/2009/4/27/update-on-the-luxury-sector-2nd-quarter-2009",
         "Charles Lewis Sizemore CFA",
         "FT",
         "update luxury sector quarter",
         "0.0",
         "neutral"
        ],
        [
         "1",
         "2009-04-27",
         "4.389286041259766",
         "4.464285850524902",
         "4.380713939666748",
         "4.4546427726745605",
         "3.76183557510376",
         "480690000",
         "0.0",
         "0.0",
         "AAPL",
         "0.6698888285194604",
         "1396488",
         "Update on the Luxury Sector: 2nd Quarter 2009",
         "https://www.benzinga.com/charles-lewis-sizemore-cfa/2009/4/27/update-on-the-luxury-sector-2nd-quarter-2009",
         "Charles Lewis Sizemore CFA",
         "Y",
         "update luxury sector quarter",
         "0.0",
         "neutral"
        ],
        [
         "2",
         "2009-04-29",
         "4.458929061889648",
         "4.5303568840026855",
         "4.422500133514404",
         "4.46928596496582",
         "3.774200677871704",
         "458110800",
         "0.0",
         "0.0",
         "AAPL",
         "1.0008084140580076",
         "1834",
         "Going Against the Herd",
         "https://www.benzinga.com/charles-lewis-sizemore-cfa/2009/4/29/going-against-the-herd",
         "Charles Lewis Sizemore CFA",
         "A",
         "going herd",
         "0.0",
         "neutral"
        ],
        [
         "3",
         "2009-05-22",
         "4.430356979370117",
         "4.434999942779541",
         "4.348214149475098",
         "4.375",
         "3.694579601287842",
         "297998400",
         "0.0",
         "0.0",
         "AAPL",
         "-1.3528735863283292",
         "68387",
         "Charles Sizemore Radio Interview Saturday Morning",
         "https://www.benzinga.com/11218/charles-sizemore-radio-interview-saturday-morning",
         "Charles Lewis Sizemore CFA",
         "AM",
         "charles sizemore radio interview saturday morning",
         "0.0",
         "neutral"
        ],
        [
         "4",
         "2009-05-27",
         "4.7064290046691895",
         "4.820713996887207",
         "4.675356864929199",
         "4.751786231994629",
         "4.012765407562256",
         "646422000",
         "0.0",
         "0.0",
         "AAPL",
         "1.7357588622260556",
         "430147",
         "MRM a $15-$20+ stock - FIT new information - JVA 58% super-trades winner",
         "https://www.benzinga.com/superman/2009/5/27/mrm-15-20-stock-fit-new-information-jva-58-super-trades-winner",
         "superman",
         "EPS",
         "mrm stock fit new information jva supertrades winner",
         "0.2681818181818182",
         "positive"
        ],
        [
         "5",
         "2009-05-27",
         "4.7064290046691895",
         "4.820713996887207",
         "4.675356864929199",
         "4.751786231994629",
         "4.012765407562256",
         "646422000",
         "0.0",
         "0.0",
         "AAPL",
         "1.7357588622260556",
         "430148",
         "JVA perks to 39% gain, SMCG ready, MRM to continue",
         "https://www.benzinga.com/superman/2009/5/27/jva-perks-39-gain-smcg-ready-mrm-continue",
         "superman",
         "EPS",
         "jva perk gain smcg ready mrm continue",
         "0.2",
         "positive"
        ],
        [
         "6",
         "2009-05-27",
         "4.7064290046691895",
         "4.820713996887207",
         "4.675356864929199",
         "4.751786231994629",
         "4.012765407562256",
         "646422000",
         "0.0",
         "0.0",
         "AAPL",
         "1.7357588622260556",
         "561526",
         "JVA perks to 39% gain, SMCG ready, MRM to continue",
         "https://www.benzinga.com/superman/2009/5/27/jva-perks-39-gain-smcg-ready-mrm-continue",
         "superman",
         "GMCR",
         "jva perk gain smcg ready mrm continue",
         "0.2",
         "positive"
        ],
        [
         "7",
         "2009-05-27",
         "4.7064290046691895",
         "4.820713996887207",
         "4.675356864929199",
         "4.751786231994629",
         "4.012765407562256",
         "646422000",
         "0.0",
         "0.0",
         "AAPL",
         "1.7357588622260556",
         "714846",
         "MRM a $15-$20+ stock - FIT new information - JVA 58% super-trades winner",
         "https://www.benzinga.com/superman/2009/5/27/mrm-15-20-stock-fit-new-information-jva-58-super-trades-winner",
         "superman",
         "JVA",
         "mrm stock fit new information jva supertrades winner",
         "0.2681818181818182",
         "positive"
        ],
        [
         "8",
         "2009-05-27",
         "4.7064290046691895",
         "4.820713996887207",
         "4.675356864929199",
         "4.751786231994629",
         "4.012765407562256",
         "646422000",
         "0.0",
         "0.0",
         "AAPL",
         "1.7357588622260556",
         "714847",
         "JVA perks to 39% gain, SMCG ready, MRM to continue",
         "https://www.benzinga.com/superman/2009/5/27/jva-perks-39-gain-smcg-ready-mrm-continue",
         "superman",
         "JVA",
         "jva perk gain smcg ready mrm continue",
         "0.2",
         "positive"
        ],
        [
         "9",
         "2009-05-27",
         "4.7064290046691895",
         "4.820713996887207",
         "4.675356864929199",
         "4.751786231994629",
         "4.012765407562256",
         "646422000",
         "0.0",
         "0.0",
         "AAPL",
         "1.7357588622260556",
         "1081067",
         "MRM a $15-$20+ stock - FIT new information - JVA 58% super-trades winner",
         "https://www.benzinga.com/superman/2009/5/27/mrm-15-20-stock-fit-new-information-jva-58-super-trades-winner",
         "superman",
         "RF",
         "mrm stock fit new information jva supertrades winner",
         "0.2681818181818182",
         "positive"
        ],
        [
         "10",
         "2009-05-29",
         "4.835357189178467",
         "4.853570938110352",
         "4.7803568840026855",
         "4.850357055664063",
         "4.096006870269775",
         "456534400",
         "0.0",
         "0.0",
         "AAPL",
         "0.5478568107268877",
         "430146",
         "In $7.60 UTA - New Chinese Listing - Travel Stock",
         "https://www.benzinga.com/superman/2009/5/29/760-uta-new-chinese-listing-travel-stock",
         "superman",
         "EPS",
         "uta new chinese listing travel stock",
         "0.06818181818181818",
         "positive"
        ],
        [
         "11",
         "2009-05-29",
         "4.835357189178467",
         "4.853570938110352",
         "4.7803568840026855",
         "4.850357055664063",
         "4.096006870269775",
         "456534400",
         "0.0",
         "0.0",
         "AAPL",
         "0.5478568107268877",
         "1048384",
         "In $7.60 UTA - New Chinese Listing - Travel Stock",
         "https://www.benzinga.com/superman/2009/5/29/760-uta-new-chinese-listing-travel-stock",
         "superman",
         "Q",
         "uta new chinese listing travel stock",
         "0.06818181818181818",
         "positive"
        ],
        [
         "12",
         "2009-06-01",
         "4.873929023742676",
         "4.999642848968506",
         "4.857142925262451",
         "4.976786136627197",
         "4.202771186828613",
         "452499600",
         "0.0",
         "0.0",
         "AAPL",
         "2.606593277818492",
         "1833",
         "super-trades - Two 52 week highs and others about to join them",
         "https://www.benzinga.com/superman/2009/6/1/super-trades-two-52-week-highs-and-others-about-to-join-them",
         "superman",
         "A",
         "supertrades two week high others join",
         "0.16",
         "positive"
        ],
        [
         "13",
         "2009-06-01",
         "4.873929023742676",
         "4.999642848968506",
         "4.857142925262451",
         "4.976786136627197",
         "4.202771186828613",
         "452499600",
         "0.0",
         "0.0",
         "AAPL",
         "2.606593277818492",
         "344693",
         "super-trades - Two 52 week highs and others about to join them",
         "https://www.benzinga.com/superman/2009/6/1/super-trades-two-52-week-highs-and-others-about-to-join-them",
         "superman",
         "DD",
         "supertrades two week high others join",
         "0.16",
         "positive"
        ],
        [
         "14",
         "2009-06-01",
         "4.873929023742676",
         "4.999642848968506",
         "4.857142925262451",
         "4.976786136627197",
         "4.202771186828613",
         "452499600",
         "0.0",
         "0.0",
         "AAPL",
         "2.606593277818492",
         "365055",
         "super-trades - Two 52 week highs and others about to join them",
         "https://www.benzinga.com/superman/2009/6/1/super-trades-two-52-week-highs-and-others-about-to-join-them",
         "superman",
         "DIT",
         "supertrades two week high others join",
         "0.16",
         "positive"
        ],
        [
         "15",
         "2009-06-01",
         "4.873929023742676",
         "4.999642848968506",
         "4.857142925262451",
         "4.976786136627197",
         "4.202771186828613",
         "452499600",
         "0.0",
         "0.0",
         "AAPL",
         "2.606593277818492",
         "430144",
         "super-trades - Two 52 week highs and others about to join them",
         "https://www.benzinga.com/superman/2009/6/1/super-trades-two-52-week-highs-and-others-about-to-join-them",
         "superman",
         "EPS",
         "supertrades two week high others join",
         "0.16",
         "positive"
        ],
        [
         "16",
         "2009-06-01",
         "4.873929023742676",
         "4.999642848968506",
         "4.857142925262451",
         "4.976786136627197",
         "4.202771186828613",
         "452499600",
         "0.0",
         "0.0",
         "AAPL",
         "2.606593277818492",
         "522586",
         "A Contrarian's Dream Scenario",
         "https://www.benzinga.com/11216/a-contrarian-s-dream-scenario",
         "Charles Lewis Sizemore CFA",
         "FT",
         "contrarian dream scenario",
         "0.0",
         "neutral"
        ],
        [
         "17",
         "2009-06-02",
         "4.963929176330566",
         "5.04785680770874",
         "4.941071033477783",
         "4.981785774230957",
         "4.20699405670166",
         "456223600",
         "0.0",
         "0.0",
         "AAPL",
         "0.1004591611233785",
         "430143",
         "in EVK $1.85 - Unkown China Retailer 2m Float",
         "https://www.benzinga.com/5342/in-evk-1-85-unkown-china-retailer-2m-float",
         "superman",
         "EPS",
         "evk unkown china retailer float",
         "0.0",
         "neutral"
        ],
        [
         "18",
         "2009-06-02",
         "4.963929176330566",
         "5.04785680770874",
         "4.941071033477783",
         "4.981785774230957",
         "4.20699405670166",
         "456223600",
         "0.0",
         "0.0",
         "AAPL",
         "0.1004591611233785",
         "447434",
         "in EVK $1.85 - Unkown China Retailer 2m Float",
         "https://www.benzinga.com/5342/in-evk-1-85-unkown-china-retailer-2m-float",
         "superman",
         "EVK",
         "evk unkown china retailer float",
         "0.0",
         "neutral"
        ],
        [
         "19",
         "2009-06-05",
         "5.189642906188965",
         "5.228570938110352",
         "5.114643096923828",
         "5.166786193847656",
         "4.363223552703857",
         "632716000",
         "0.0",
         "0.0",
         "AAPL",
         "0.6470163746035151",
         "344692",
         "Last 3 picks all took off this week 67%,62%,30% gainers",
         "https://www.benzinga.com/5341/last-3-picks-all-took-off-this-week-67-62-30-gainers",
         "superman",
         "DD",
         "last pick took week gainer",
         "0.0",
         "neutral"
        ],
        [
         "20",
         "2009-06-05",
         "5.189642906188965",
         "5.228570938110352",
         "5.114643096923828",
         "5.166786193847656",
         "4.363223552703857",
         "632716000",
         "0.0",
         "0.0",
         "AAPL",
         "0.6470163746035151",
         "409773",
         "Is this the Next EFUT? - From the Person who called the First One",
         "https://www.benzinga.com/5340/is-this-the-next-efut-from-the-person-who-called-the-first-one",
         "superman",
         "EFUT",
         "next efut person called first one",
         "0.125",
         "positive"
        ],
        [
         "21",
         "2009-06-05",
         "5.189642906188965",
         "5.228570938110352",
         "5.114643096923828",
         "5.166786193847656",
         "4.363223552703857",
         "632716000",
         "0.0",
         "0.0",
         "AAPL",
         "0.6470163746035151",
         "430142",
         "Is this the Next EFUT? - From the Person who called the First One",
         "https://www.benzinga.com/5340/is-this-the-next-efut-from-the-person-who-called-the-first-one",
         "superman",
         "EPS",
         "next efut person called first one",
         "0.125",
         "positive"
        ],
        [
         "22",
         "2009-06-05",
         "5.189642906188965",
         "5.228570938110352",
         "5.114643096923828",
         "5.166786193847656",
         "4.363223552703857",
         "632716000",
         "0.0",
         "0.0",
         "AAPL",
         "0.6470163746035151",
         "447433",
         "Last 3 picks all took off this week 67%,62%,30% gainers",
         "https://www.benzinga.com/5341/last-3-picks-all-took-off-this-week-67-62-30-gainers",
         "superman",
         "EVK",
         "last pick took week gainer",
         "0.0",
         "neutral"
        ],
        [
         "23",
         "2009-06-05",
         "5.189642906188965",
         "5.228570938110352",
         "5.114643096923828",
         "5.166786193847656",
         "4.363223552703857",
         "632716000",
         "0.0",
         "0.0",
         "AAPL",
         "0.6470163746035151",
         "1144765",
         "Is this the Next EFUT? - From the Person who called the First One",
         "https://www.benzinga.com/5340/is-this-the-next-efut-from-the-person-who-called-the-first-one",
         "superman",
         "SKBI",
         "next efut person called first one",
         "0.125",
         "positive"
        ],
        [
         "24",
         "2009-06-05",
         "5.189642906188965",
         "5.228570938110352",
         "5.114643096923828",
         "5.166786193847656",
         "4.363223552703857",
         "632716000",
         "0.0",
         "0.0",
         "AAPL",
         "0.6470163746035151",
         "1282819",
         "Is this the Next EFUT? - From the Person who called the First One",
         "https://www.benzinga.com/5340/is-this-the-next-efut-from-the-person-who-called-the-first-one",
         "superman",
         "TZOO",
         "next efut person called first one",
         "0.125",
         "positive"
        ],
        [
         "25",
         "2009-06-08",
         "5.1364288330078125",
         "5.151071071624756",
         "4.979642868041992",
         "5.137499809265137",
         "4.338491916656494",
         "931652400",
         "0.0",
         "0.0",
         "AAPL",
         "-0.5668201370010673",
         "344691",
         "105% Gainer , 50% Gainer and a New, Exciting Stock",
         "https://www.benzinga.com/5339/105-gainer-50-gainer-and-a-new-exciting-stock",
         "superman",
         "DD",
         "gainer gainer new exciting stock",
         "0.21818181818181817",
         "positive"
        ],
        [
         "26",
         "2009-06-08",
         "5.1364288330078125",
         "5.151071071624756",
         "4.979642868041992",
         "5.137499809265137",
         "4.338491916656494",
         "931652400",
         "0.0",
         "0.0",
         "AAPL",
         "-0.5668201370010673",
         "409772",
         "105% Gainer , 50% Gainer and a New, Exciting Stock",
         "https://www.benzinga.com/5339/105-gainer-50-gainer-and-a-new-exciting-stock",
         "superman",
         "EFUT",
         "gainer gainer new exciting stock",
         "0.21818181818181817",
         "positive"
        ],
        [
         "27",
         "2009-06-08",
         "5.1364288330078125",
         "5.151071071624756",
         "4.979642868041992",
         "5.137499809265137",
         "4.338491916656494",
         "931652400",
         "0.0",
         "0.0",
         "AAPL",
         "-0.5668201370010673",
         "447432",
         "105% Gainer , 50% Gainer and a New, Exciting Stock",
         "https://www.benzinga.com/5339/105-gainer-50-gainer-and-a-new-exciting-stock",
         "superman",
         "EVK",
         "gainer gainer new exciting stock",
         "0.21818181818181817",
         "positive"
        ],
        [
         "28",
         "2009-06-09",
         "5.13607120513916",
         "5.162857055664063",
         "5.01964282989502",
         "5.097143173217773",
         "4.304409503936768",
         "676964400",
         "0.0",
         "0.0",
         "AAPL",
         "-0.7855306578227528",
         "130984",
         "SKBO.OB Also has Swine Disease Expertise",
         "https://www.benzinga.com/5337/skbo-ob-also-has-swine-disease-expertise",
         "superman",
         "B",
         "skboob also swine disease expertise",
         "0.0",
         "neutral"
        ],
        [
         "29",
         "2009-06-09",
         "5.13607120513916",
         "5.162857055664063",
         "5.01964282989502",
         "5.097143173217773",
         "4.304409503936768",
         "676964400",
         "0.0",
         "0.0",
         "AAPL",
         "-0.7855306578227528",
         "409770",
         "SKBO.OB Also has Swine Disease Expertise",
         "https://www.benzinga.com/5337/skbo-ob-also-has-swine-disease-expertise",
         "superman",
         "EFUT",
         "skboob also swine disease expertise",
         "0.0",
         "neutral"
        ],
        [
         "30",
         "2009-06-09",
         "5.13607120513916",
         "5.162857055664063",
         "5.01964282989502",
         "5.097143173217773",
         "4.304409503936768",
         "676964400",
         "0.0",
         "0.0",
         "AAPL",
         "-0.7855306578227528",
         "409771",
         "SKBO.OB vs. ADY - Compare These Two China Growth Stocks",
         "https://www.benzinga.com/5338/skbo-ob-vs-ady-compare-these-two-china-growth-stocks",
         "superman",
         "EFUT",
         "skboob v ady compare two china growth stock",
         "0.0",
         "neutral"
        ],
        [
         "31",
         "2009-06-09",
         "5.13607120513916",
         "5.162857055664063",
         "5.01964282989502",
         "5.097143173217773",
         "4.304409503936768",
         "676964400",
         "0.0",
         "0.0",
         "AAPL",
         "-0.7855306578227528",
         "430140",
         "SKBO.OB Also has Swine Disease Expertise",
         "https://www.benzinga.com/5337/skbo-ob-also-has-swine-disease-expertise",
         "superman",
         "EPS",
         "skboob also swine disease expertise",
         "0.0",
         "neutral"
        ],
        [
         "32",
         "2009-06-09",
         "5.13607120513916",
         "5.162857055664063",
         "5.01964282989502",
         "5.097143173217773",
         "4.304409503936768",
         "676964400",
         "0.0",
         "0.0",
         "AAPL",
         "-0.7855306578227528",
         "430141",
         "SKBO.OB vs. ADY - Compare These Two China Growth Stocks",
         "https://www.benzinga.com/5338/skbo-ob-vs-ady-compare-these-two-china-growth-stocks",
         "superman",
         "EPS",
         "skboob v ady compare two china growth stock",
         "0.0",
         "neutral"
        ],
        [
         "33",
         "2009-06-09",
         "5.13607120513916",
         "5.162857055664063",
         "5.01964282989502",
         "5.097143173217773",
         "4.304409503936768",
         "676964400",
         "0.0",
         "0.0",
         "AAPL",
         "-0.7855306578227528",
         "943531",
         "SKBO.OB Also has Swine Disease Expertise",
         "https://www.benzinga.com/5337/skbo-ob-also-has-swine-disease-expertise",
         "superman",
         "OB",
         "skboob also swine disease expertise",
         "0.0",
         "neutral"
        ],
        [
         "34",
         "2009-06-09",
         "5.13607120513916",
         "5.162857055664063",
         "5.01964282989502",
         "5.097143173217773",
         "4.304409503936768",
         "676964400",
         "0.0",
         "0.0",
         "AAPL",
         "-0.7855306578227528",
         "992912",
         "SKBO.OB Also has Swine Disease Expertise",
         "https://www.benzinga.com/5337/skbo-ob-also-has-swine-disease-expertise",
         "superman",
         "PDT",
         "skboob also swine disease expertise",
         "0.0",
         "neutral"
        ],
        [
         "35",
         "2009-06-15",
         "4.857500076293945",
         "4.89035701751709",
         "4.817500114440918",
         "4.86035680770874",
         "4.10444974899292",
         "539750400",
         "0.0",
         "0.0",
         "AAPL",
         "-0.6424911093567354",
         "409769",
         "super-trades Momentum Continues With Staying Power",
         "https://www.benzinga.com/5335/super-trades-momentum-continues-with-staying-power",
         "superman",
         "EFUT",
         "supertrades momentum continues staying power",
         "0.0",
         "neutral"
        ],
        [
         "36",
         "2009-06-15",
         "4.857500076293945",
         "4.89035701751709",
         "4.817500114440918",
         "4.86035680770874",
         "4.10444974899292",
         "539750400",
         "0.0",
         "0.0",
         "AAPL",
         "-0.6424911093567354",
         "430138",
         "super-trades Momentum Continues With Staying Power",
         "https://www.benzinga.com/5335/super-trades-momentum-continues-with-staying-power",
         "superman",
         "EPS",
         "supertrades momentum continues staying power",
         "0.0",
         "neutral"
        ],
        [
         "37",
         "2009-06-15",
         "4.857500076293945",
         "4.89035701751709",
         "4.817500114440918",
         "4.86035680770874",
         "4.10444974899292",
         "539750400",
         "0.0",
         "0.0",
         "AAPL",
         "-0.6424911093567354",
         "430139",
         "In AIM $4.20",
         "https://www.benzinga.com/5336/in-aim-4-20",
         "superman",
         "EPS",
         "aim",
         "0.0",
         "neutral"
        ],
        [
         "38",
         "2009-06-16",
         "4.880713939666748",
         "4.945356845855713",
         "4.860713958740234",
         "4.869643211364746",
         "4.112293243408203",
         "514805200",
         "0.0",
         "0.0",
         "AAPL",
         "0.19106423712096365",
         "430136",
         "RINO.OB - Amazing Growth - Compare to Coming DGW IPO",
         "https://www.benzinga.com/5333/rino-ob-amazing-growth-compare-to-coming-dgw-ipo",
         "superman",
         "EPS",
         "rinoob amazing growth compare coming dgw ipo",
         "0.6000000000000001",
         "positive"
        ],
        [
         "39",
         "2009-06-16",
         "4.880713939666748",
         "4.945356845855713",
         "4.860713958740234",
         "4.869643211364746",
         "4.112293243408203",
         "514805200",
         "0.0",
         "0.0",
         "AAPL",
         "0.19106423712096365",
         "430137",
         "AIM Great News the Day After Great Earnings",
         "https://www.benzinga.com/5334/aim-great-news-the-day-after-great-earnings",
         "superman",
         "EPS",
         "aim great news day great earnings",
         "0.8",
         "positive"
        ],
        [
         "40",
         "2009-06-16",
         "4.880713939666748",
         "4.945356845855713",
         "4.860713958740234",
         "4.869643211364746",
         "4.112293243408203",
         "514805200",
         "0.0",
         "0.0",
         "AAPL",
         "0.19106423712096365",
         "794150",
         "AIM Great News the Day After Great Earnings",
         "https://www.benzinga.com/5334/aim-great-news-the-day-after-great-earnings",
         "superman",
         "M",
         "aim great news day great earnings",
         "0.8",
         "positive"
        ],
        [
         "41",
         "2009-06-19",
         "4.931070804595947",
         "4.982142925262451",
         "4.889286041259766",
         "4.981429100036621",
         "4.206693649291992",
         "721856800",
         "0.0",
         "0.0",
         "AAPL",
         "2.6494080530567565",
         "29325",
         "Review of 3 Chinese IPO's- Week of June 22nd",
         "https://www.benzinga.com/5332/review-of-3-chinese-ipo-s-week-of-june-22nd",
         "superman",
         "ADS",
         "review chinese ipo week june",
         "0.0",
         "neutral"
        ],
        [
         "42",
         "2009-06-19",
         "4.931070804595947",
         "4.982142925262451",
         "4.889286041259766",
         "4.981429100036621",
         "4.206693649291992",
         "721856800",
         "0.0",
         "0.0",
         "AAPL",
         "2.6494080530567565",
         "256942",
         "Review of 3 Chinese IPO's- Week of June 22nd",
         "https://www.benzinga.com/5332/review-of-3-chinese-ipo-s-week-of-june-22nd",
         "superman",
         "CLWT",
         "review chinese ipo week june",
         "0.0",
         "neutral"
        ],
        [
         "43",
         "2009-06-19",
         "4.931070804595947",
         "4.982142925262451",
         "4.889286041259766",
         "4.981429100036621",
         "4.206693649291992",
         "721856800",
         "0.0",
         "0.0",
         "AAPL",
         "2.6494080530567565",
         "409768",
         "Review of 3 Chinese IPO's- Week of June 22nd",
         "https://www.benzinga.com/5332/review-of-3-chinese-ipo-s-week-of-june-22nd",
         "superman",
         "EFUT",
         "review chinese ipo week june",
         "0.0",
         "neutral"
        ],
        [
         "44",
         "2009-06-19",
         "4.931070804595947",
         "4.982142925262451",
         "4.889286041259766",
         "4.981429100036621",
         "4.206693649291992",
         "721856800",
         "0.0",
         "0.0",
         "AAPL",
         "2.6494080530567565",
         "430135",
         "Review of 3 Chinese IPO's- Week of June 22nd",
         "https://www.benzinga.com/5332/review-of-3-chinese-ipo-s-week-of-june-22nd",
         "superman",
         "EPS",
         "review chinese ipo week june",
         "0.0",
         "neutral"
        ],
        [
         "45",
         "2009-06-19",
         "4.931070804595947",
         "4.982142925262451",
         "4.889286041259766",
         "4.981429100036621",
         "4.206693649291992",
         "721856800",
         "0.0",
         "0.0",
         "AAPL",
         "2.6494080530567565",
         "1061963",
         "Review of 3 Chinese IPO's- Week of June 22nd",
         "https://www.benzinga.com/5332/review-of-3-chinese-ipo-s-week-of-june-22nd",
         "superman",
         "R",
         "review chinese ipo week june",
         "0.0",
         "neutral"
        ],
        [
         "46",
         "2009-06-22",
         "5.023929119110107",
         "5.055714130401611",
         "4.868928909301758",
         "4.906071186065674",
         "4.143056392669678",
         "634914000",
         "0.0",
         "0.0",
         "AAPL",
         "-1.5127770055061718",
         "737639",
         "guest post - Best Buy's been a 'best buy'",
         "https://www.benzinga.com/23145/guest-post-best-buy-s-been-a-best-buy",
         "themoneygardener",
         "KO",
         "guest post best buy best buy",
         "1.0",
         "positive"
        ],
        [
         "47",
         "2009-06-30",
         "5.092143058776856",
         "5.135714054107666",
         "5.064286231994629",
         "5.086785793304443",
         "4.295664310455322",
         "434224000",
         "0.0",
         "0.0",
         "AAPL",
         "0.3240195502641763",
         "344690",
         "SKBI at Higher End of Range - Free to Scream",
         "https://www.benzinga.com/5330/skbi-at-higher-end-of-range-free-to-scream",
         "superman",
         "DD",
         "skbi higher end range free scream",
         "0.325",
         "positive"
        ],
        [
         "48",
         "2009-06-30",
         "5.092143058776856",
         "5.135714054107666",
         "5.064286231994629",
         "5.086785793304443",
         "4.295664310455322",
         "434224000",
         "0.0",
         "0.0",
         "AAPL",
         "0.3240195502641763",
         "430133",
         "SKBI at Higher End of Range - Free to Scream",
         "https://www.benzinga.com/5330/skbi-at-higher-end-of-range-free-to-scream",
         "superman",
         "EPS",
         "skbi higher end range free scream",
         "0.325",
         "positive"
        ],
        [
         "49",
         "2009-06-30",
         "5.092143058776856",
         "5.135714054107666",
         "5.064286231994629",
         "5.086785793304443",
         "4.295664310455322",
         "434224000",
         "0.0",
         "0.0",
         "AAPL",
         "0.3240195502641763",
         "1144763",
         "SKBI at Higher End of Range - Free to Scream",
         "https://www.benzinga.com/5330/skbi-at-higher-end-of-range-free-to-scream",
         "superman",
         "SKBI",
         "skbi higher end range free scream",
         "0.325",
         "positive"
        ]
       ],
       "shape": {
        "columns": 19,
        "rows": 9287939
       }
      },
      "text/html": [
       "<div>\n",
       "<style scoped>\n",
       "    .dataframe tbody tr th:only-of-type {\n",
       "        vertical-align: middle;\n",
       "    }\n",
       "\n",
       "    .dataframe tbody tr th {\n",
       "        vertical-align: top;\n",
       "    }\n",
       "\n",
       "    .dataframe thead th {\n",
       "        text-align: right;\n",
       "    }\n",
       "</style>\n",
       "<table border=\"1\" class=\"dataframe\">\n",
       "  <thead>\n",
       "    <tr style=\"text-align: right;\">\n",
       "      <th></th>\n",
       "      <th>date</th>\n",
       "      <th>open</th>\n",
       "      <th>high</th>\n",
       "      <th>low</th>\n",
       "      <th>close</th>\n",
       "      <th>adj_close</th>\n",
       "      <th>volume</th>\n",
       "      <th>dividends</th>\n",
       "      <th>stock_splits</th>\n",
       "      <th>ticker</th>\n",
       "      <th>Daily_Return</th>\n",
       "      <th>Unnamed: 0</th>\n",
       "      <th>headline</th>\n",
       "      <th>url</th>\n",
       "      <th>publisher</th>\n",
       "      <th>stock</th>\n",
       "      <th>cleaned_headline</th>\n",
       "      <th>sentiment</th>\n",
       "      <th>l_sentiment</th>\n",
       "    </tr>\n",
       "  </thead>\n",
       "  <tbody>\n",
       "    <tr>\n",
       "      <th>0</th>\n",
       "      <td>2009-04-27</td>\n",
       "      <td>4.389286</td>\n",
       "      <td>4.464286</td>\n",
       "      <td>4.380714</td>\n",
       "      <td>4.454643</td>\n",
       "      <td>3.761836</td>\n",
       "      <td>480690000</td>\n",
       "      <td>0.0</td>\n",
       "      <td>0.0</td>\n",
       "      <td>AAPL</td>\n",
       "      <td>0.669889</td>\n",
       "      <td>522587</td>\n",
       "      <td>Update on the Luxury Sector: 2nd Quarter 2009</td>\n",
       "      <td>https://www.benzinga.com/charles-lewis-sizemor...</td>\n",
       "      <td>Charles Lewis Sizemore CFA</td>\n",
       "      <td>FT</td>\n",
       "      <td>update luxury sector quarter</td>\n",
       "      <td>0.000000</td>\n",
       "      <td>neutral</td>\n",
       "    </tr>\n",
       "    <tr>\n",
       "      <th>1</th>\n",
       "      <td>2009-04-27</td>\n",
       "      <td>4.389286</td>\n",
       "      <td>4.464286</td>\n",
       "      <td>4.380714</td>\n",
       "      <td>4.454643</td>\n",
       "      <td>3.761836</td>\n",
       "      <td>480690000</td>\n",
       "      <td>0.0</td>\n",
       "      <td>0.0</td>\n",
       "      <td>AAPL</td>\n",
       "      <td>0.669889</td>\n",
       "      <td>1396488</td>\n",
       "      <td>Update on the Luxury Sector: 2nd Quarter 2009</td>\n",
       "      <td>https://www.benzinga.com/charles-lewis-sizemor...</td>\n",
       "      <td>Charles Lewis Sizemore CFA</td>\n",
       "      <td>Y</td>\n",
       "      <td>update luxury sector quarter</td>\n",
       "      <td>0.000000</td>\n",
       "      <td>neutral</td>\n",
       "    </tr>\n",
       "    <tr>\n",
       "      <th>2</th>\n",
       "      <td>2009-04-29</td>\n",
       "      <td>4.458929</td>\n",
       "      <td>4.530357</td>\n",
       "      <td>4.422500</td>\n",
       "      <td>4.469286</td>\n",
       "      <td>3.774201</td>\n",
       "      <td>458110800</td>\n",
       "      <td>0.0</td>\n",
       "      <td>0.0</td>\n",
       "      <td>AAPL</td>\n",
       "      <td>1.000808</td>\n",
       "      <td>1834</td>\n",
       "      <td>Going Against the Herd</td>\n",
       "      <td>https://www.benzinga.com/charles-lewis-sizemor...</td>\n",
       "      <td>Charles Lewis Sizemore CFA</td>\n",
       "      <td>A</td>\n",
       "      <td>going herd</td>\n",
       "      <td>0.000000</td>\n",
       "      <td>neutral</td>\n",
       "    </tr>\n",
       "    <tr>\n",
       "      <th>3</th>\n",
       "      <td>2009-05-22</td>\n",
       "      <td>4.430357</td>\n",
       "      <td>4.435000</td>\n",
       "      <td>4.348214</td>\n",
       "      <td>4.375000</td>\n",
       "      <td>3.694580</td>\n",
       "      <td>297998400</td>\n",
       "      <td>0.0</td>\n",
       "      <td>0.0</td>\n",
       "      <td>AAPL</td>\n",
       "      <td>-1.352874</td>\n",
       "      <td>68387</td>\n",
       "      <td>Charles Sizemore Radio Interview Saturday Morning</td>\n",
       "      <td>https://www.benzinga.com/11218/charles-sizemor...</td>\n",
       "      <td>Charles Lewis Sizemore CFA</td>\n",
       "      <td>AM</td>\n",
       "      <td>charles sizemore radio interview saturday morning</td>\n",
       "      <td>0.000000</td>\n",
       "      <td>neutral</td>\n",
       "    </tr>\n",
       "    <tr>\n",
       "      <th>4</th>\n",
       "      <td>2009-05-27</td>\n",
       "      <td>4.706429</td>\n",
       "      <td>4.820714</td>\n",
       "      <td>4.675357</td>\n",
       "      <td>4.751786</td>\n",
       "      <td>4.012765</td>\n",
       "      <td>646422000</td>\n",
       "      <td>0.0</td>\n",
       "      <td>0.0</td>\n",
       "      <td>AAPL</td>\n",
       "      <td>1.735759</td>\n",
       "      <td>430147</td>\n",
       "      <td>MRM a $15-$20+ stock - FIT new information - J...</td>\n",
       "      <td>https://www.benzinga.com/superman/2009/5/27/mr...</td>\n",
       "      <td>superman</td>\n",
       "      <td>EPS</td>\n",
       "      <td>mrm stock fit new information jva supertrades ...</td>\n",
       "      <td>0.268182</td>\n",
       "      <td>positive</td>\n",
       "    </tr>\n",
       "    <tr>\n",
       "      <th>...</th>\n",
       "      <td>...</td>\n",
       "      <td>...</td>\n",
       "      <td>...</td>\n",
       "      <td>...</td>\n",
       "      <td>...</td>\n",
       "      <td>...</td>\n",
       "      <td>...</td>\n",
       "      <td>...</td>\n",
       "      <td>...</td>\n",
       "      <td>...</td>\n",
       "      <td>...</td>\n",
       "      <td>...</td>\n",
       "      <td>...</td>\n",
       "      <td>...</td>\n",
       "      <td>...</td>\n",
       "      <td>...</td>\n",
       "      <td>...</td>\n",
       "      <td>...</td>\n",
       "      <td>...</td>\n",
       "    </tr>\n",
       "    <tr>\n",
       "      <th>9287934</th>\n",
       "      <td>2020-06-11</td>\n",
       "      <td>66.013336</td>\n",
       "      <td>67.930664</td>\n",
       "      <td>64.800003</td>\n",
       "      <td>64.856003</td>\n",
       "      <td>64.856003</td>\n",
       "      <td>238747500</td>\n",
       "      <td>0.0</td>\n",
       "      <td>0.0</td>\n",
       "      <td>TSLA</td>\n",
       "      <td>-5.093410</td>\n",
       "      <td>1402389</td>\n",
       "      <td>Shares of several hotels, restaurants &amp; leisur...</td>\n",
       "      <td>https://www.benzinga.com/wiim/20/06/16233044/s...</td>\n",
       "      <td>Benzinga Newsdesk</td>\n",
       "      <td>YUM</td>\n",
       "      <td>share several hotel restaurant leisure company...</td>\n",
       "      <td>0.000000</td>\n",
       "      <td>neutral</td>\n",
       "    </tr>\n",
       "    <tr>\n",
       "      <th>9287935</th>\n",
       "      <td>2020-06-11</td>\n",
       "      <td>66.013336</td>\n",
       "      <td>67.930664</td>\n",
       "      <td>64.800003</td>\n",
       "      <td>64.856003</td>\n",
       "      <td>64.856003</td>\n",
       "      <td>238747500</td>\n",
       "      <td>0.0</td>\n",
       "      <td>0.0</td>\n",
       "      <td>TSLA</td>\n",
       "      <td>-5.093410</td>\n",
       "      <td>1402390</td>\n",
       "      <td>Morgan Stanley Maintains Overweight on Yum Bra...</td>\n",
       "      <td>https://www.benzinga.com/news/20/06/16231689/m...</td>\n",
       "      <td>Benzinga Newsdesk</td>\n",
       "      <td>YUM</td>\n",
       "      <td>morgan stanley maintains overweight yum brand ...</td>\n",
       "      <td>0.000000</td>\n",
       "      <td>neutral</td>\n",
       "    </tr>\n",
       "    <tr>\n",
       "      <th>9287936</th>\n",
       "      <td>2020-06-11</td>\n",
       "      <td>66.013336</td>\n",
       "      <td>67.930664</td>\n",
       "      <td>64.800003</td>\n",
       "      <td>64.856003</td>\n",
       "      <td>64.856003</td>\n",
       "      <td>238747500</td>\n",
       "      <td>0.0</td>\n",
       "      <td>0.0</td>\n",
       "      <td>TSLA</td>\n",
       "      <td>-5.093410</td>\n",
       "      <td>1402391</td>\n",
       "      <td>Credit Suisse Maintains Neutral on Yum Brands,...</td>\n",
       "      <td>https://www.benzinga.com/news/20/06/16231164/c...</td>\n",
       "      <td>Benzinga Newsdesk</td>\n",
       "      <td>YUM</td>\n",
       "      <td>credit suisse maintains neutral yum brand rais...</td>\n",
       "      <td>0.000000</td>\n",
       "      <td>neutral</td>\n",
       "    </tr>\n",
       "    <tr>\n",
       "      <th>9287937</th>\n",
       "      <td>2020-06-11</td>\n",
       "      <td>66.013336</td>\n",
       "      <td>67.930664</td>\n",
       "      <td>64.800003</td>\n",
       "      <td>64.856003</td>\n",
       "      <td>64.856003</td>\n",
       "      <td>238747500</td>\n",
       "      <td>0.0</td>\n",
       "      <td>0.0</td>\n",
       "      <td>TSLA</td>\n",
       "      <td>-5.093410</td>\n",
       "      <td>1402392</td>\n",
       "      <td>UBS Maintains Buy on Yum Brands, Raises Price ...</td>\n",
       "      <td>https://www.benzinga.com/news/20/06/16230653/u...</td>\n",
       "      <td>Benzinga Newsdesk</td>\n",
       "      <td>YUM</td>\n",
       "      <td>ubs maintains buy yum brand raise price target</td>\n",
       "      <td>0.000000</td>\n",
       "      <td>neutral</td>\n",
       "    </tr>\n",
       "    <tr>\n",
       "      <th>9287938</th>\n",
       "      <td>2020-06-11</td>\n",
       "      <td>66.013336</td>\n",
       "      <td>67.930664</td>\n",
       "      <td>64.800003</td>\n",
       "      <td>64.856003</td>\n",
       "      <td>64.856003</td>\n",
       "      <td>238747500</td>\n",
       "      <td>0.0</td>\n",
       "      <td>0.0</td>\n",
       "      <td>TSLA</td>\n",
       "      <td>-5.093410</td>\n",
       "      <td>1412043</td>\n",
       "      <td>Shares of several healthcare companies are tra...</td>\n",
       "      <td>https://www.benzinga.com/wiim/20/06/16233278/s...</td>\n",
       "      <td>Benzinga Newsdesk</td>\n",
       "      <td>ZTS</td>\n",
       "      <td>share several healthcare company trading lower...</td>\n",
       "      <td>0.000000</td>\n",
       "      <td>neutral</td>\n",
       "    </tr>\n",
       "  </tbody>\n",
       "</table>\n",
       "<p>9287939 rows × 19 columns</p>\n",
       "</div>"
      ],
      "text/plain": [
       "               date       open       high        low      close  adj_close  \\\n",
       "0        2009-04-27   4.389286   4.464286   4.380714   4.454643   3.761836   \n",
       "1        2009-04-27   4.389286   4.464286   4.380714   4.454643   3.761836   \n",
       "2        2009-04-29   4.458929   4.530357   4.422500   4.469286   3.774201   \n",
       "3        2009-05-22   4.430357   4.435000   4.348214   4.375000   3.694580   \n",
       "4        2009-05-27   4.706429   4.820714   4.675357   4.751786   4.012765   \n",
       "...             ...        ...        ...        ...        ...        ...   \n",
       "9287934  2020-06-11  66.013336  67.930664  64.800003  64.856003  64.856003   \n",
       "9287935  2020-06-11  66.013336  67.930664  64.800003  64.856003  64.856003   \n",
       "9287936  2020-06-11  66.013336  67.930664  64.800003  64.856003  64.856003   \n",
       "9287937  2020-06-11  66.013336  67.930664  64.800003  64.856003  64.856003   \n",
       "9287938  2020-06-11  66.013336  67.930664  64.800003  64.856003  64.856003   \n",
       "\n",
       "            volume  dividends  stock_splits ticker  Daily_Return  Unnamed: 0  \\\n",
       "0        480690000        0.0           0.0   AAPL      0.669889      522587   \n",
       "1        480690000        0.0           0.0   AAPL      0.669889     1396488   \n",
       "2        458110800        0.0           0.0   AAPL      1.000808        1834   \n",
       "3        297998400        0.0           0.0   AAPL     -1.352874       68387   \n",
       "4        646422000        0.0           0.0   AAPL      1.735759      430147   \n",
       "...            ...        ...           ...    ...           ...         ...   \n",
       "9287934  238747500        0.0           0.0   TSLA     -5.093410     1402389   \n",
       "9287935  238747500        0.0           0.0   TSLA     -5.093410     1402390   \n",
       "9287936  238747500        0.0           0.0   TSLA     -5.093410     1402391   \n",
       "9287937  238747500        0.0           0.0   TSLA     -5.093410     1402392   \n",
       "9287938  238747500        0.0           0.0   TSLA     -5.093410     1412043   \n",
       "\n",
       "                                                  headline  \\\n",
       "0            Update on the Luxury Sector: 2nd Quarter 2009   \n",
       "1            Update on the Luxury Sector: 2nd Quarter 2009   \n",
       "2                                   Going Against the Herd   \n",
       "3        Charles Sizemore Radio Interview Saturday Morning   \n",
       "4        MRM a $15-$20+ stock - FIT new information - J...   \n",
       "...                                                    ...   \n",
       "9287934  Shares of several hotels, restaurants & leisur...   \n",
       "9287935  Morgan Stanley Maintains Overweight on Yum Bra...   \n",
       "9287936  Credit Suisse Maintains Neutral on Yum Brands,...   \n",
       "9287937  UBS Maintains Buy on Yum Brands, Raises Price ...   \n",
       "9287938  Shares of several healthcare companies are tra...   \n",
       "\n",
       "                                                       url  \\\n",
       "0        https://www.benzinga.com/charles-lewis-sizemor...   \n",
       "1        https://www.benzinga.com/charles-lewis-sizemor...   \n",
       "2        https://www.benzinga.com/charles-lewis-sizemor...   \n",
       "3        https://www.benzinga.com/11218/charles-sizemor...   \n",
       "4        https://www.benzinga.com/superman/2009/5/27/mr...   \n",
       "...                                                    ...   \n",
       "9287934  https://www.benzinga.com/wiim/20/06/16233044/s...   \n",
       "9287935  https://www.benzinga.com/news/20/06/16231689/m...   \n",
       "9287936  https://www.benzinga.com/news/20/06/16231164/c...   \n",
       "9287937  https://www.benzinga.com/news/20/06/16230653/u...   \n",
       "9287938  https://www.benzinga.com/wiim/20/06/16233278/s...   \n",
       "\n",
       "                          publisher stock  \\\n",
       "0        Charles Lewis Sizemore CFA    FT   \n",
       "1        Charles Lewis Sizemore CFA     Y   \n",
       "2        Charles Lewis Sizemore CFA     A   \n",
       "3        Charles Lewis Sizemore CFA    AM   \n",
       "4                          superman   EPS   \n",
       "...                             ...   ...   \n",
       "9287934           Benzinga Newsdesk   YUM   \n",
       "9287935           Benzinga Newsdesk   YUM   \n",
       "9287936           Benzinga Newsdesk   YUM   \n",
       "9287937           Benzinga Newsdesk   YUM   \n",
       "9287938           Benzinga Newsdesk   ZTS   \n",
       "\n",
       "                                          cleaned_headline  sentiment  \\\n",
       "0                             update luxury sector quarter   0.000000   \n",
       "1                             update luxury sector quarter   0.000000   \n",
       "2                                               going herd   0.000000   \n",
       "3        charles sizemore radio interview saturday morning   0.000000   \n",
       "4        mrm stock fit new information jva supertrades ...   0.268182   \n",
       "...                                                    ...        ...   \n",
       "9287934  share several hotel restaurant leisure company...   0.000000   \n",
       "9287935  morgan stanley maintains overweight yum brand ...   0.000000   \n",
       "9287936  credit suisse maintains neutral yum brand rais...   0.000000   \n",
       "9287937     ubs maintains buy yum brand raise price target   0.000000   \n",
       "9287938  share several healthcare company trading lower...   0.000000   \n",
       "\n",
       "        l_sentiment  \n",
       "0           neutral  \n",
       "1           neutral  \n",
       "2           neutral  \n",
       "3           neutral  \n",
       "4          positive  \n",
       "...             ...  \n",
       "9287934     neutral  \n",
       "9287935     neutral  \n",
       "9287936     neutral  \n",
       "9287937     neutral  \n",
       "9287938     neutral  \n",
       "\n",
       "[9287939 rows x 19 columns]"
      ]
     },
     "execution_count": 36,
     "metadata": {},
     "output_type": "execute_result"
    }
   ],
   "source": [
    "# merging news and stock price data or aligning by dates\n",
    "merged_df = analysis.align_datasets(stock_data, news_data)\n",
    "merged_df"
   ]
  },
  {
   "cell_type": "markdown",
   "id": "ead0f42a",
   "metadata": {},
   "source": [
    "#### analysis of publishers with positive sentiments "
   ]
  },
  {
   "cell_type": "code",
   "execution_count": 91,
   "id": "232ad689",
   "metadata": {},
   "outputs": [
    {
     "data": {
      "text/plain": [
       "Index(['date', 'open', 'high', 'low', 'close', 'adj_close', 'volume',\n",
       "       'dividends', 'stock_splits', 'ticker', 'Daily_Return', 'Unnamed: 0',\n",
       "       'headline', 'url', 'publisher', 'stock', 'cleaned_headline',\n",
       "       'sentiment', 'l_sentiment'],\n",
       "      dtype='object')"
      ]
     },
     "execution_count": 91,
     "metadata": {},
     "output_type": "execute_result"
    }
   ],
   "source": [
    "merged_df.columns"
   ]
  },
  {
   "cell_type": "code",
   "execution_count": 97,
   "id": "13d14adf",
   "metadata": {},
   "outputs": [
    {
     "data": {
      "application/vnd.microsoft.datawrangler.viewer.v0+json": {
       "columns": [
        {
         "name": "index",
         "rawType": "int64",
         "type": "integer"
        },
        {
         "name": "publisher",
         "rawType": "object",
         "type": "string"
        },
        {
         "name": "Positive (%)",
         "rawType": "float64",
         "type": "float"
        },
        {
         "name": "Positive Count",
         "rawType": "int64",
         "type": "integer"
        }
       ],
       "ref": "4057408d-5ba5-409e-b67d-8aa29885f46d",
       "rows": [
        [
         "671",
         "pagetraffic",
         "100.0",
         "6"
        ],
        [
         "665",
         "mattzinga",
         "100.0",
         "14"
        ],
        [
         "663",
         "marketresearch",
         "100.0",
         "11"
        ],
        [
         "656",
         "javierhasseandericterbush@benzinga.com",
         "100.0",
         "7"
        ],
        [
         "547",
         "Stephen Bigalow",
         "100.0",
         "18"
        ],
        [
         "22",
         "Allan Farley",
         "100.0",
         "7"
        ],
        [
         "655",
         "janaviktoria",
         "100.0",
         "7"
        ],
        [
         "650",
         "giovannimola",
         "100.0",
         "7"
        ],
        [
         "632",
         "Yoav Helfman",
         "100.0",
         "21"
        ],
        [
         "646",
         "dhiraj.surapaneni@benzinga.com",
         "100.0",
         "7"
        ],
        [
         "649",
         "fnmedia",
         "100.0",
         "21"
        ],
        [
         "629",
         "William Spencer",
         "100.0",
         "20"
        ],
        [
         "625",
         "White Diamond Research",
         "100.0",
         "7"
        ],
        [
         "620",
         "Wall St. Jesus",
         "100.0",
         "14"
        ],
        [
         "38",
         "Anthony Cibotti",
         "100.0",
         "5"
        ],
        [
         "41",
         "Anthony Viola",
         "100.0",
         "84"
        ],
        [
         "627",
         "Will Hubbard",
         "100.0",
         "28"
        ],
        [
         "626",
         "WikiTags",
         "100.0",
         "49"
        ],
        [
         "49",
         "Austrolib",
         "100.0",
         "7"
        ],
        [
         "55",
         "Ben Reynolds",
         "100.0",
         "14"
        ],
        [
         "582",
         "The Professor",
         "100.0",
         "5"
        ],
        [
         "529",
         "Sha'Darian Corona-Green",
         "100.0",
         "21"
        ],
        [
         "517",
         "Samuel J Rae",
         "100.0",
         "14"
        ],
        [
         "560",
         "StockMetrix",
         "100.0",
         "14"
        ],
        [
         "576",
         "The Cannabis Investor",
         "100.0",
         "280"
        ],
        [
         "92",
         "BreakingFinanceNews",
         "100.0",
         "35"
        ],
        [
         "498",
         "Robert Morris",
         "100.0",
         "7"
        ],
        [
         "525",
         "Scout Finance Editorial Team",
         "100.0",
         "7"
        ],
        [
         "14",
         "Alex Roslin",
         "100.0",
         "6"
        ],
        [
         "205",
         "Francis Burr",
         "100.0",
         "6"
        ],
        [
         "204",
         "Forexpros.com",
         "100.0",
         "6"
        ],
        [
         "219",
         "Gavin McMaster",
         "100.0",
         "7"
        ],
        [
         "225",
         "GlenWoods",
         "100.0",
         "21"
        ],
        [
         "227",
         "GlobalCoinReport.com",
         "100.0",
         "14"
        ],
        [
         "239",
         "Hasan Saleem",
         "100.0",
         "7"
        ],
        [
         "237",
         "Happy Trading",
         "100.0",
         "7"
        ],
        [
         "312",
         "John Isige",
         "100.0",
         "14"
        ],
        [
         "303",
         "Jim Woods Investing",
         "100.0",
         "154"
        ],
        [
         "297",
         "Jeremie Capron",
         "100.0",
         "7"
        ],
        [
         "298",
         "Jeremy Biberdorf",
         "100.0",
         "7"
        ],
        [
         "245",
         "IIJGII",
         "100.0",
         "14"
        ],
        [
         "243",
         "Holly Huber - CrowdStreet",
         "100.0",
         "7"
        ],
        [
         "187",
         "Econ Grapher",
         "100.0",
         "12"
        ],
        [
         "393",
         "Marvin Dumont",
         "100.0",
         "7"
        ],
        [
         "329",
         "Junnan Guo",
         "100.0",
         "6"
        ],
        [
         "324",
         "Joule Financial",
         "100.0",
         "28"
        ],
        [
         "159",
         "David Alton Clark",
         "100.0",
         "35"
        ],
        [
         "119",
         "Chart-Caster",
         "100.0",
         "24"
        ],
        [
         "360",
         "Lerone Graham",
         "100.0",
         "7"
        ],
        [
         "331",
         "Justin Triplett",
         "100.0",
         "6"
        ]
       ],
       "shape": {
        "columns": 3,
        "rows": 50
       }
      },
      "text/html": [
       "<div>\n",
       "<style scoped>\n",
       "    .dataframe tbody tr th:only-of-type {\n",
       "        vertical-align: middle;\n",
       "    }\n",
       "\n",
       "    .dataframe tbody tr th {\n",
       "        vertical-align: top;\n",
       "    }\n",
       "\n",
       "    .dataframe thead th {\n",
       "        text-align: right;\n",
       "    }\n",
       "</style>\n",
       "<table border=\"1\" class=\"dataframe\">\n",
       "  <thead>\n",
       "    <tr style=\"text-align: right;\">\n",
       "      <th></th>\n",
       "      <th>publisher</th>\n",
       "      <th>Positive (%)</th>\n",
       "      <th>Positive Count</th>\n",
       "    </tr>\n",
       "  </thead>\n",
       "  <tbody>\n",
       "    <tr>\n",
       "      <th>671</th>\n",
       "      <td>pagetraffic</td>\n",
       "      <td>100.0</td>\n",
       "      <td>6</td>\n",
       "    </tr>\n",
       "    <tr>\n",
       "      <th>665</th>\n",
       "      <td>mattzinga</td>\n",
       "      <td>100.0</td>\n",
       "      <td>14</td>\n",
       "    </tr>\n",
       "    <tr>\n",
       "      <th>663</th>\n",
       "      <td>marketresearch</td>\n",
       "      <td>100.0</td>\n",
       "      <td>11</td>\n",
       "    </tr>\n",
       "    <tr>\n",
       "      <th>656</th>\n",
       "      <td>javierhasseandericterbush@benzinga.com</td>\n",
       "      <td>100.0</td>\n",
       "      <td>7</td>\n",
       "    </tr>\n",
       "    <tr>\n",
       "      <th>547</th>\n",
       "      <td>Stephen Bigalow</td>\n",
       "      <td>100.0</td>\n",
       "      <td>18</td>\n",
       "    </tr>\n",
       "    <tr>\n",
       "      <th>22</th>\n",
       "      <td>Allan Farley</td>\n",
       "      <td>100.0</td>\n",
       "      <td>7</td>\n",
       "    </tr>\n",
       "    <tr>\n",
       "      <th>655</th>\n",
       "      <td>janaviktoria</td>\n",
       "      <td>100.0</td>\n",
       "      <td>7</td>\n",
       "    </tr>\n",
       "    <tr>\n",
       "      <th>650</th>\n",
       "      <td>giovannimola</td>\n",
       "      <td>100.0</td>\n",
       "      <td>7</td>\n",
       "    </tr>\n",
       "    <tr>\n",
       "      <th>632</th>\n",
       "      <td>Yoav Helfman</td>\n",
       "      <td>100.0</td>\n",
       "      <td>21</td>\n",
       "    </tr>\n",
       "    <tr>\n",
       "      <th>646</th>\n",
       "      <td>dhiraj.surapaneni@benzinga.com</td>\n",
       "      <td>100.0</td>\n",
       "      <td>7</td>\n",
       "    </tr>\n",
       "    <tr>\n",
       "      <th>649</th>\n",
       "      <td>fnmedia</td>\n",
       "      <td>100.0</td>\n",
       "      <td>21</td>\n",
       "    </tr>\n",
       "    <tr>\n",
       "      <th>629</th>\n",
       "      <td>William Spencer</td>\n",
       "      <td>100.0</td>\n",
       "      <td>20</td>\n",
       "    </tr>\n",
       "    <tr>\n",
       "      <th>625</th>\n",
       "      <td>White Diamond Research</td>\n",
       "      <td>100.0</td>\n",
       "      <td>7</td>\n",
       "    </tr>\n",
       "    <tr>\n",
       "      <th>620</th>\n",
       "      <td>Wall St. Jesus</td>\n",
       "      <td>100.0</td>\n",
       "      <td>14</td>\n",
       "    </tr>\n",
       "    <tr>\n",
       "      <th>38</th>\n",
       "      <td>Anthony Cibotti</td>\n",
       "      <td>100.0</td>\n",
       "      <td>5</td>\n",
       "    </tr>\n",
       "    <tr>\n",
       "      <th>41</th>\n",
       "      <td>Anthony Viola</td>\n",
       "      <td>100.0</td>\n",
       "      <td>84</td>\n",
       "    </tr>\n",
       "    <tr>\n",
       "      <th>627</th>\n",
       "      <td>Will Hubbard</td>\n",
       "      <td>100.0</td>\n",
       "      <td>28</td>\n",
       "    </tr>\n",
       "    <tr>\n",
       "      <th>626</th>\n",
       "      <td>WikiTags</td>\n",
       "      <td>100.0</td>\n",
       "      <td>49</td>\n",
       "    </tr>\n",
       "    <tr>\n",
       "      <th>49</th>\n",
       "      <td>Austrolib</td>\n",
       "      <td>100.0</td>\n",
       "      <td>7</td>\n",
       "    </tr>\n",
       "    <tr>\n",
       "      <th>55</th>\n",
       "      <td>Ben Reynolds</td>\n",
       "      <td>100.0</td>\n",
       "      <td>14</td>\n",
       "    </tr>\n",
       "    <tr>\n",
       "      <th>582</th>\n",
       "      <td>The Professor</td>\n",
       "      <td>100.0</td>\n",
       "      <td>5</td>\n",
       "    </tr>\n",
       "    <tr>\n",
       "      <th>529</th>\n",
       "      <td>Sha'Darian Corona-Green</td>\n",
       "      <td>100.0</td>\n",
       "      <td>21</td>\n",
       "    </tr>\n",
       "    <tr>\n",
       "      <th>517</th>\n",
       "      <td>Samuel J Rae</td>\n",
       "      <td>100.0</td>\n",
       "      <td>14</td>\n",
       "    </tr>\n",
       "    <tr>\n",
       "      <th>560</th>\n",
       "      <td>StockMetrix</td>\n",
       "      <td>100.0</td>\n",
       "      <td>14</td>\n",
       "    </tr>\n",
       "    <tr>\n",
       "      <th>576</th>\n",
       "      <td>The Cannabis Investor</td>\n",
       "      <td>100.0</td>\n",
       "      <td>280</td>\n",
       "    </tr>\n",
       "    <tr>\n",
       "      <th>92</th>\n",
       "      <td>BreakingFinanceNews</td>\n",
       "      <td>100.0</td>\n",
       "      <td>35</td>\n",
       "    </tr>\n",
       "    <tr>\n",
       "      <th>498</th>\n",
       "      <td>Robert Morris</td>\n",
       "      <td>100.0</td>\n",
       "      <td>7</td>\n",
       "    </tr>\n",
       "    <tr>\n",
       "      <th>525</th>\n",
       "      <td>Scout Finance Editorial Team</td>\n",
       "      <td>100.0</td>\n",
       "      <td>7</td>\n",
       "    </tr>\n",
       "    <tr>\n",
       "      <th>14</th>\n",
       "      <td>Alex Roslin</td>\n",
       "      <td>100.0</td>\n",
       "      <td>6</td>\n",
       "    </tr>\n",
       "    <tr>\n",
       "      <th>205</th>\n",
       "      <td>Francis Burr</td>\n",
       "      <td>100.0</td>\n",
       "      <td>6</td>\n",
       "    </tr>\n",
       "    <tr>\n",
       "      <th>204</th>\n",
       "      <td>Forexpros.com</td>\n",
       "      <td>100.0</td>\n",
       "      <td>6</td>\n",
       "    </tr>\n",
       "    <tr>\n",
       "      <th>219</th>\n",
       "      <td>Gavin McMaster</td>\n",
       "      <td>100.0</td>\n",
       "      <td>7</td>\n",
       "    </tr>\n",
       "    <tr>\n",
       "      <th>225</th>\n",
       "      <td>GlenWoods</td>\n",
       "      <td>100.0</td>\n",
       "      <td>21</td>\n",
       "    </tr>\n",
       "    <tr>\n",
       "      <th>227</th>\n",
       "      <td>GlobalCoinReport.com</td>\n",
       "      <td>100.0</td>\n",
       "      <td>14</td>\n",
       "    </tr>\n",
       "    <tr>\n",
       "      <th>239</th>\n",
       "      <td>Hasan Saleem</td>\n",
       "      <td>100.0</td>\n",
       "      <td>7</td>\n",
       "    </tr>\n",
       "    <tr>\n",
       "      <th>237</th>\n",
       "      <td>Happy Trading</td>\n",
       "      <td>100.0</td>\n",
       "      <td>7</td>\n",
       "    </tr>\n",
       "    <tr>\n",
       "      <th>312</th>\n",
       "      <td>John Isige</td>\n",
       "      <td>100.0</td>\n",
       "      <td>14</td>\n",
       "    </tr>\n",
       "    <tr>\n",
       "      <th>303</th>\n",
       "      <td>Jim Woods Investing</td>\n",
       "      <td>100.0</td>\n",
       "      <td>154</td>\n",
       "    </tr>\n",
       "    <tr>\n",
       "      <th>297</th>\n",
       "      <td>Jeremie Capron</td>\n",
       "      <td>100.0</td>\n",
       "      <td>7</td>\n",
       "    </tr>\n",
       "    <tr>\n",
       "      <th>298</th>\n",
       "      <td>Jeremy Biberdorf</td>\n",
       "      <td>100.0</td>\n",
       "      <td>7</td>\n",
       "    </tr>\n",
       "    <tr>\n",
       "      <th>245</th>\n",
       "      <td>IIJGII</td>\n",
       "      <td>100.0</td>\n",
       "      <td>14</td>\n",
       "    </tr>\n",
       "    <tr>\n",
       "      <th>243</th>\n",
       "      <td>Holly Huber - CrowdStreet</td>\n",
       "      <td>100.0</td>\n",
       "      <td>7</td>\n",
       "    </tr>\n",
       "    <tr>\n",
       "      <th>187</th>\n",
       "      <td>Econ Grapher</td>\n",
       "      <td>100.0</td>\n",
       "      <td>12</td>\n",
       "    </tr>\n",
       "    <tr>\n",
       "      <th>393</th>\n",
       "      <td>Marvin Dumont</td>\n",
       "      <td>100.0</td>\n",
       "      <td>7</td>\n",
       "    </tr>\n",
       "    <tr>\n",
       "      <th>329</th>\n",
       "      <td>Junnan Guo</td>\n",
       "      <td>100.0</td>\n",
       "      <td>6</td>\n",
       "    </tr>\n",
       "    <tr>\n",
       "      <th>324</th>\n",
       "      <td>Joule Financial</td>\n",
       "      <td>100.0</td>\n",
       "      <td>28</td>\n",
       "    </tr>\n",
       "    <tr>\n",
       "      <th>159</th>\n",
       "      <td>David Alton Clark</td>\n",
       "      <td>100.0</td>\n",
       "      <td>35</td>\n",
       "    </tr>\n",
       "    <tr>\n",
       "      <th>119</th>\n",
       "      <td>Chart-Caster</td>\n",
       "      <td>100.0</td>\n",
       "      <td>24</td>\n",
       "    </tr>\n",
       "    <tr>\n",
       "      <th>360</th>\n",
       "      <td>Lerone Graham</td>\n",
       "      <td>100.0</td>\n",
       "      <td>7</td>\n",
       "    </tr>\n",
       "    <tr>\n",
       "      <th>331</th>\n",
       "      <td>Justin Triplett</td>\n",
       "      <td>100.0</td>\n",
       "      <td>6</td>\n",
       "    </tr>\n",
       "  </tbody>\n",
       "</table>\n",
       "</div>"
      ],
      "text/plain": [
       "                                  publisher  Positive (%)  Positive Count\n",
       "671                             pagetraffic         100.0               6\n",
       "665                               mattzinga         100.0              14\n",
       "663                          marketresearch         100.0              11\n",
       "656  javierhasseandericterbush@benzinga.com         100.0               7\n",
       "547                         Stephen Bigalow         100.0              18\n",
       "22                             Allan Farley         100.0               7\n",
       "655                            janaviktoria         100.0               7\n",
       "650                            giovannimola         100.0               7\n",
       "632                            Yoav Helfman         100.0              21\n",
       "646          dhiraj.surapaneni@benzinga.com         100.0               7\n",
       "649                                 fnmedia         100.0              21\n",
       "629                         William Spencer         100.0              20\n",
       "625                  White Diamond Research         100.0               7\n",
       "620                          Wall St. Jesus         100.0              14\n",
       "38                          Anthony Cibotti         100.0               5\n",
       "41                            Anthony Viola         100.0              84\n",
       "627                            Will Hubbard         100.0              28\n",
       "626                                WikiTags         100.0              49\n",
       "49                                Austrolib         100.0               7\n",
       "55                             Ben Reynolds         100.0              14\n",
       "582                           The Professor         100.0               5\n",
       "529                 Sha'Darian Corona-Green         100.0              21\n",
       "517                            Samuel J Rae         100.0              14\n",
       "560                             StockMetrix         100.0              14\n",
       "576                   The Cannabis Investor         100.0             280\n",
       "92                      BreakingFinanceNews         100.0              35\n",
       "498                           Robert Morris         100.0               7\n",
       "525            Scout Finance Editorial Team         100.0               7\n",
       "14                              Alex Roslin         100.0               6\n",
       "205                            Francis Burr         100.0               6\n",
       "204                           Forexpros.com         100.0               6\n",
       "219                          Gavin McMaster         100.0               7\n",
       "225                               GlenWoods         100.0              21\n",
       "227                    GlobalCoinReport.com         100.0              14\n",
       "239                            Hasan Saleem         100.0               7\n",
       "237                           Happy Trading         100.0               7\n",
       "312                              John Isige         100.0              14\n",
       "303                     Jim Woods Investing         100.0             154\n",
       "297                          Jeremie Capron         100.0               7\n",
       "298                        Jeremy Biberdorf         100.0               7\n",
       "245                                  IIJGII         100.0              14\n",
       "243               Holly Huber - CrowdStreet         100.0               7\n",
       "187                            Econ Grapher         100.0              12\n",
       "393                           Marvin Dumont         100.0               7\n",
       "329                              Junnan Guo         100.0               6\n",
       "324                         Joule Financial         100.0              28\n",
       "159                       David Alton Clark         100.0              35\n",
       "119                            Chart-Caster         100.0              24\n",
       "360                           Lerone Graham         100.0               7\n",
       "331                         Justin Triplett         100.0               6"
      ]
     },
     "execution_count": 97,
     "metadata": {},
     "output_type": "execute_result"
    }
   ],
   "source": [
    "# Compute sentiment counts per publisher\n",
    "sentiment_counts = merged_df.groupby('publisher')['l_sentiment'].value_counts().unstack(fill_value=0)\n",
    "\n",
    "# Compute percentage of positive sentiments per publisher\n",
    "sentiment_percentages = merged_df.groupby('publisher')['l_sentiment'].value_counts(normalize=True).unstack(fill_value=0) * 100\n",
    "sentiment_percentages = sentiment_percentages.round(2)\n",
    "sentiment_percentages = sentiment_percentages.get('positive', pd.Series()).rename('Positive (%)')\n",
    "\n",
    "# Filter publishers with positive sentiments (>0%)\n",
    "positive_publishers = sentiment_percentages[sentiment_percentages > 0].dropna().reset_index()\n",
    "positive_publishers.columns = ['publisher', 'Positive (%)']\n",
    "\n",
    "# Add counts of positive sentiments\n",
    "positive_counts = sentiment_counts['positive'].reset_index().rename(columns={'positive': 'Positive Count'})\n",
    "combined_df = pd.merge(positive_publishers, positive_counts, on='publisher')\n",
    "\n",
    "# Sort by Positive (%) in descending order and filter top 10\n",
    "top_10_publishers = combined_df.sort_values(by='Positive (%)', ascending=False).head(50)\n",
    "top_10_publishers\n"
   ]
  },
  {
   "cell_type": "markdown",
   "id": "a5a1cb48",
   "metadata": {},
   "source": [
    "#### analysis of sentiments per tickers "
   ]
  },
  {
   "cell_type": "code",
   "execution_count": null,
   "id": "94c31ca9",
   "metadata": {},
   "outputs": [
    {
     "name": "stdout",
     "output_type": "stream",
     "text": [
      "Sentiment Value Counts and Percentages by Ticker:\n",
      "   ticker sentiment   Count Percentage\n",
      "0    AAPL  negative   89809      6.51%\n",
      "1    AMZN  negative   89809      6.51%\n",
      "2    GOOG  negative   89809      6.51%\n",
      "3    META  negative   67095      6.41%\n",
      "4    MSFT  negative   89809      6.51%\n",
      "5    NVDA  negative   89809      6.51%\n",
      "6    TSLA  negative   87285       6.5%\n",
      "7    AAPL   neutral  962860     69.79%\n",
      "8    AMZN   neutral  962860     69.79%\n",
      "9    GOOG   neutral  962860     69.79%\n",
      "10   META   neutral  727228     69.51%\n",
      "11   MSFT   neutral  962860     69.79%\n",
      "12   NVDA   neutral  962860     69.79%\n",
      "13   TSLA   neutral  939945     69.97%\n",
      "14   AAPL  positive  327013      23.7%\n",
      "15   AMZN  positive  327013      23.7%\n",
      "16   GOOG  positive  327013      23.7%\n",
      "17   META  positive  251839     24.07%\n",
      "18   MSFT  positive  327013      23.7%\n",
      "19   NVDA  positive  327013      23.7%\n",
      "20   TSLA  positive  316137     23.53%\n"
     ]
    },
    {
     "data": {
      "image/png": "[encoded data removed]",
      "text/plain": [
       "<Figure size 1000x600 with 1 Axes>"
      ]
     },
     "metadata": {},
     "output_type": "display_data"
    }
   ],
   "source": [
    "sentiment_counts = merged_df.groupby('ticker')['l_sentiment'].value_counts().unstack(fill_value=0)\n",
    "# Compute percentages of sentiments per ticker\n",
    "sentiment_percentages = merged_df.groupby('ticker')['l_sentiment'].value_counts(normalize=True).unstack(fill_value=0) * 100\n",
    "sentiment_percentages = sentiment_percentages.round(2)\n",
    "sentiment_percentages = sentiment_percentages.add_suffix(' (%)')\n",
    "\n",
    "# Combine counts and percentages into one DataFrame\n",
    "counts_flat = sentiment_counts.reset_index().melt(id_vars='ticker', var_name='sentiment', value_name='Count')\n",
    "percentages_flat = sentiment_percentages.reset_index().melt(id_vars='ticker', var_name='sentiment', value_name='Percentage')\n",
    "percentages_flat['sentiment'] = percentages_flat['sentiment'].str.replace(' (%)', '')\n",
    "combined_df = pd.merge(counts_flat, percentages_flat, on=['ticker', 'sentiment'])\n",
    "combined_df['Percentage'] = combined_df['Percentage'].astype(str) + '%'\n",
    "\n",
    "# Display the combined DataFrame\n",
    "print(\"Sentiment Value Counts and Percentages by Ticker:\")\n",
    "print(combined_df)\n",
    "\n",
    "# Visualize with Seaborn (stacked bar plot)\n",
    "plt.figure(figsize=(10, 6))\n",
    "sns.barplot(data=combined_df, x='ticker', y='Count', hue='sentiment',\n",
    "            palette={'positive': '#4CAF50', 'neutral': '#FFC107', 'negative': '#F44336'})\n",
    "plt.title('Sentiment Distribution by Ticker')\n",
    "plt.xlabel('Ticker')\n",
    "plt.ylabel('Count')\n",
    "plt.legend(title='Sentiment')\n",
    "plt.grid(True)\n",
    "\n",
    "# Add percentage labels on bars\n",
    "for i, row in combined_df.iterrows():\n",
    "    plt.text(i // 3, row['Count'], row['Percentage'], ha='center', va='bottom')\n",
    "\n",
    "plt.show()"
   ]
  },
  {
   "cell_type": "code",
   "execution_count": 80,
   "id": "4f3ce5d5",
   "metadata": {},
   "outputs": [
    {
     "data": {
      "application/vnd.microsoft.datawrangler.viewer.v0+json": {
       "columns": [
        {
         "name": "ticker",
         "rawType": "object",
         "type": "string"
        },
        {
         "name": "negative",
         "rawType": "int64",
         "type": "integer"
        },
        {
         "name": "neutral",
         "rawType": "int64",
         "type": "integer"
        },
        {
         "name": "positive",
         "rawType": "int64",
         "type": "integer"
        }
       ],
       "ref": "8b719366-af61-482c-92b4-6d919a1a996a",
       "rows": [
        [
         "AAPL",
         "89809",
         "962860",
         "327013"
        ],
        [
         "AMZN",
         "89809",
         "962860",
         "327013"
        ],
        [
         "GOOG",
         "89809",
         "962860",
         "327013"
        ],
        [
         "META",
         "67095",
         "727228",
         "251839"
        ],
        [
         "MSFT",
         "89809",
         "962860",
         "327013"
        ],
        [
         "NVDA",
         "89809",
         "962860",
         "327013"
        ],
        [
         "TSLA",
         "87285",
         "939945",
         "316137"
        ]
       ],
       "shape": {
        "columns": 3,
        "rows": 7
       }
      },
      "text/html": [
       "<div>\n",
       "<style scoped>\n",
       "    .dataframe tbody tr th:only-of-type {\n",
       "        vertical-align: middle;\n",
       "    }\n",
       "\n",
       "    .dataframe tbody tr th {\n",
       "        vertical-align: top;\n",
       "    }\n",
       "\n",
       "    .dataframe thead th {\n",
       "        text-align: right;\n",
       "    }\n",
       "</style>\n",
       "<table border=\"1\" class=\"dataframe\">\n",
       "  <thead>\n",
       "    <tr style=\"text-align: right;\">\n",
       "      <th>l_sentiment</th>\n",
       "      <th>negative</th>\n",
       "      <th>neutral</th>\n",
       "      <th>positive</th>\n",
       "    </tr>\n",
       "    <tr>\n",
       "      <th>ticker</th>\n",
       "      <th></th>\n",
       "      <th></th>\n",
       "      <th></th>\n",
       "    </tr>\n",
       "  </thead>\n",
       "  <tbody>\n",
       "    <tr>\n",
       "      <th>AAPL</th>\n",
       "      <td>89809</td>\n",
       "      <td>962860</td>\n",
       "      <td>327013</td>\n",
       "    </tr>\n",
       "    <tr>\n",
       "      <th>AMZN</th>\n",
       "      <td>89809</td>\n",
       "      <td>962860</td>\n",
       "      <td>327013</td>\n",
       "    </tr>\n",
       "    <tr>\n",
       "      <th>GOOG</th>\n",
       "      <td>89809</td>\n",
       "      <td>962860</td>\n",
       "      <td>327013</td>\n",
       "    </tr>\n",
       "    <tr>\n",
       "      <th>META</th>\n",
       "      <td>67095</td>\n",
       "      <td>727228</td>\n",
       "      <td>251839</td>\n",
       "    </tr>\n",
       "    <tr>\n",
       "      <th>MSFT</th>\n",
       "      <td>89809</td>\n",
       "      <td>962860</td>\n",
       "      <td>327013</td>\n",
       "    </tr>\n",
       "    <tr>\n",
       "      <th>NVDA</th>\n",
       "      <td>89809</td>\n",
       "      <td>962860</td>\n",
       "      <td>327013</td>\n",
       "    </tr>\n",
       "    <tr>\n",
       "      <th>TSLA</th>\n",
       "      <td>87285</td>\n",
       "      <td>939945</td>\n",
       "      <td>316137</td>\n",
       "    </tr>\n",
       "  </tbody>\n",
       "</table>\n",
       "</div>"
      ],
      "text/plain": [
       "l_sentiment  negative  neutral  positive\n",
       "ticker                                  \n",
       "AAPL            89809   962860    327013\n",
       "AMZN            89809   962860    327013\n",
       "GOOG            89809   962860    327013\n",
       "META            67095   727228    251839\n",
       "MSFT            89809   962860    327013\n",
       "NVDA            89809   962860    327013\n",
       "TSLA            87285   939945    316137"
      ]
     },
     "execution_count": 80,
     "metadata": {},
     "output_type": "execute_result"
    }
   ],
   "source": [
    "sentiment_counts"
   ]
  },
  {
   "cell_type": "code",
   "execution_count": null,
   "id": "cef654b7",
   "metadata": {},
   "outputs": [
    {
     "data": {
      "application/vnd.microsoft.datawrangler.viewer.v0+json": {
       "columns": [
        {
         "name": "index",
         "rawType": "int64",
         "type": "integer"
        },
        {
         "name": "date",
         "rawType": "object",
         "type": "unknown"
        },
        {
         "name": "l_sentiment",
         "rawType": "object",
         "type": "string"
        }
       ],
       "ref": "20098f06-c055-4563-bacb-25f2ad540ec2",
       "rows": [
        [
         "0",
         "2009-04-27",
         "neutral"
        ],
        [
         "1",
         "2009-04-29",
         "neutral"
        ],
        [
         "2",
         "2009-05-22",
         "neutral"
        ],
        [
         "3",
         "2009-05-27",
         "positive"
        ],
        [
         "4",
         "2009-05-29",
         "positive"
        ],
        [
         "5",
         "2009-06-01",
         "positive"
        ],
        [
         "6",
         "2009-06-02",
         "neutral"
        ],
        [
         "7",
         "2009-06-05",
         "positive"
        ],
        [
         "8",
         "2009-06-08",
         "positive"
        ],
        [
         "9",
         "2009-06-09",
         "neutral"
        ],
        [
         "10",
         "2009-06-15",
         "neutral"
        ],
        [
         "11",
         "2009-06-16",
         "positive"
        ],
        [
         "12",
         "2009-06-19",
         "neutral"
        ],
        [
         "13",
         "2009-06-22",
         "positive"
        ],
        [
         "14",
         "2009-06-30",
         "positive"
        ],
        [
         "15",
         "2009-07-07",
         "neutral"
        ],
        [
         "16",
         "2009-07-08",
         "neutral"
        ],
        [
         "17",
         "2009-07-10",
         "neutral"
        ],
        [
         "18",
         "2009-07-14",
         "neutral"
        ],
        [
         "19",
         "2009-07-15",
         "neutral"
        ],
        [
         "20",
         "2009-07-16",
         "neutral"
        ],
        [
         "21",
         "2009-07-17",
         "neutral"
        ],
        [
         "22",
         "2009-07-21",
         "positive"
        ],
        [
         "23",
         "2009-07-24",
         "neutral"
        ],
        [
         "24",
         "2009-07-27",
         "neutral"
        ],
        [
         "25",
         "2009-07-30",
         "neutral"
        ],
        [
         "26",
         "2009-08-03",
         "positive"
        ],
        [
         "27",
         "2009-08-04",
         "negative"
        ],
        [
         "28",
         "2009-08-06",
         "neutral"
        ],
        [
         "29",
         "2009-08-07",
         "neutral"
        ],
        [
         "30",
         "2009-08-10",
         "neutral"
        ],
        [
         "31",
         "2009-08-11",
         "neutral"
        ],
        [
         "32",
         "2009-08-12",
         "neutral"
        ],
        [
         "33",
         "2009-08-13",
         "neutral"
        ],
        [
         "34",
         "2009-08-17",
         "neutral"
        ],
        [
         "35",
         "2009-08-18",
         "neutral"
        ],
        [
         "36",
         "2009-08-19",
         "neutral"
        ],
        [
         "37",
         "2009-08-21",
         "neutral"
        ],
        [
         "38",
         "2009-08-24",
         "neutral"
        ],
        [
         "39",
         "2009-08-25",
         "neutral"
        ],
        [
         "40",
         "2009-08-26",
         "neutral"
        ],
        [
         "41",
         "2009-08-27",
         "neutral"
        ],
        [
         "42",
         "2009-08-28",
         "negative"
        ],
        [
         "43",
         "2009-08-31",
         "neutral"
        ],
        [
         "44",
         "2009-09-01",
         "neutral"
        ],
        [
         "45",
         "2009-09-02",
         "neutral"
        ],
        [
         "46",
         "2009-09-03",
         "neutral"
        ],
        [
         "47",
         "2009-09-04",
         "neutral"
        ],
        [
         "48",
         "2009-09-08",
         "neutral"
        ],
        [
         "49",
         "2009-09-09",
         "neutral"
        ]
       ],
       "shape": {
        "columns": 2,
        "rows": 2757
       }
      },
      "text/html": [
       "<div>\n",
       "<style scoped>\n",
       "    .dataframe tbody tr th:only-of-type {\n",
       "        vertical-align: middle;\n",
       "    }\n",
       "\n",
       "    .dataframe tbody tr th {\n",
       "        vertical-align: top;\n",
       "    }\n",
       "\n",
       "    .dataframe thead th {\n",
       "        text-align: right;\n",
       "    }\n",
       "</style>\n",
       "<table border=\"1\" class=\"dataframe\">\n",
       "  <thead>\n",
       "    <tr style=\"text-align: right;\">\n",
       "      <th></th>\n",
       "      <th>date</th>\n",
       "      <th>l_sentiment</th>\n",
       "    </tr>\n",
       "  </thead>\n",
       "  <tbody>\n",
       "    <tr>\n",
       "      <th>0</th>\n",
       "      <td>2009-04-27</td>\n",
       "      <td>neutral</td>\n",
       "    </tr>\n",
       "    <tr>\n",
       "      <th>1</th>\n",
       "      <td>2009-04-29</td>\n",
       "      <td>neutral</td>\n",
       "    </tr>\n",
       "    <tr>\n",
       "      <th>2</th>\n",
       "      <td>2009-05-22</td>\n",
       "      <td>neutral</td>\n",
       "    </tr>\n",
       "    <tr>\n",
       "      <th>3</th>\n",
       "      <td>2009-05-27</td>\n",
       "      <td>positive</td>\n",
       "    </tr>\n",
       "    <tr>\n",
       "      <th>4</th>\n",
       "      <td>2009-05-29</td>\n",
       "      <td>positive</td>\n",
       "    </tr>\n",
       "    <tr>\n",
       "      <th>...</th>\n",
       "      <td>...</td>\n",
       "      <td>...</td>\n",
       "    </tr>\n",
       "    <tr>\n",
       "      <th>2752</th>\n",
       "      <td>2020-06-05</td>\n",
       "      <td>positive</td>\n",
       "    </tr>\n",
       "    <tr>\n",
       "      <th>2753</th>\n",
       "      <td>2020-06-08</td>\n",
       "      <td>positive</td>\n",
       "    </tr>\n",
       "    <tr>\n",
       "      <th>2754</th>\n",
       "      <td>2020-06-09</td>\n",
       "      <td>neutral</td>\n",
       "    </tr>\n",
       "    <tr>\n",
       "      <th>2755</th>\n",
       "      <td>2020-06-10</td>\n",
       "      <td>neutral</td>\n",
       "    </tr>\n",
       "    <tr>\n",
       "      <th>2756</th>\n",
       "      <td>2020-06-11</td>\n",
       "      <td>neutral</td>\n",
       "    </tr>\n",
       "  </tbody>\n",
       "</table>\n",
       "<p>2757 rows × 2 columns</p>\n",
       "</div>"
      ],
      "text/plain": [
       "            date l_sentiment\n",
       "0     2009-04-27     neutral\n",
       "1     2009-04-29     neutral\n",
       "2     2009-05-22     neutral\n",
       "3     2009-05-27    positive\n",
       "4     2009-05-29    positive\n",
       "...          ...         ...\n",
       "2752  2020-06-05    positive\n",
       "2753  2020-06-08    positive\n",
       "2754  2020-06-09     neutral\n",
       "2755  2020-06-10     neutral\n",
       "2756  2020-06-11     neutral\n",
       "\n",
       "[2757 rows x 2 columns]"
      ]
     },
     "execution_count": 43,
     "metadata": {},
     "output_type": "execute_result"
    }
   ],
   "source": [
    "# Aggregate labeled sentiments by date \n",
    "daily_sentiment = merged_df.groupby('date')['l_sentiment'].agg(lambda x: x.mode().iloc[0] if not x.empty else None).reset_index()\n",
    "daily_sentiment"
   ]
  },
  {
   "cell_type": "code",
   "execution_count": 47,
   "id": "b8f0ffb9",
   "metadata": {},
   "outputs": [
    {
     "data": {
      "application/vnd.microsoft.datawrangler.viewer.v0+json": {
       "columns": [
        {
         "name": "index",
         "rawType": "int64",
         "type": "integer"
        },
        {
         "name": "date",
         "rawType": "object",
         "type": "unknown"
        },
        {
         "name": "sentiment",
         "rawType": "float64",
         "type": "float"
        }
       ],
       "ref": "c24410d4-7b07-4f8e-bc9e-b90a70de9af1",
       "rows": [
        [
         "0",
         "2009-04-27",
         "0.0"
        ],
        [
         "1",
         "2009-04-29",
         "0.0"
        ],
        [
         "2",
         "2009-05-22",
         "0.0"
        ],
        [
         "3",
         "2009-05-27",
         "0.2340909090909091"
        ],
        [
         "4",
         "2009-05-29",
         "0.06818181818181818"
        ],
        [
         "5",
         "2009-06-01",
         "0.128"
        ],
        [
         "6",
         "2009-06-02",
         "0.0"
        ],
        [
         "7",
         "2009-06-05",
         "0.08333333333333333"
        ],
        [
         "8",
         "2009-06-08",
         "0.21818181818181817"
        ],
        [
         "9",
         "2009-06-09",
         "0.0"
        ],
        [
         "10",
         "2009-06-15",
         "0.0"
        ],
        [
         "11",
         "2009-06-16",
         "0.7333333333333333"
        ],
        [
         "12",
         "2009-06-19",
         "0.0"
        ],
        [
         "13",
         "2009-06-22",
         "1.0"
        ],
        [
         "14",
         "2009-06-30",
         "0.325"
        ],
        [
         "15",
         "2009-07-07",
         "0.0"
        ],
        [
         "16",
         "2009-07-08",
         "0.0"
        ],
        [
         "17",
         "2009-07-10",
         "0.0"
        ],
        [
         "18",
         "2009-07-14",
         "0.0"
        ],
        [
         "19",
         "2009-07-15",
         "0.0"
        ],
        [
         "20",
         "2009-07-16",
         "0.0"
        ],
        [
         "21",
         "2009-07-17",
         "0.0"
        ],
        [
         "22",
         "2009-07-21",
         "0.22857142857142862"
        ],
        [
         "23",
         "2009-07-24",
         "0.0"
        ],
        [
         "24",
         "2009-07-27",
         "0.02072711239377906"
        ],
        [
         "25",
         "2009-07-30",
         "0.0"
        ],
        [
         "26",
         "2009-08-03",
         "0.25"
        ],
        [
         "27",
         "2009-08-04",
         "-0.08571428571428572"
        ],
        [
         "28",
         "2009-08-06",
         "0.023760932944606412"
        ],
        [
         "29",
         "2009-08-07",
         "0.06320697547793822"
        ],
        [
         "30",
         "2009-08-10",
         "0.06683963529096272"
        ],
        [
         "31",
         "2009-08-11",
         "0.11745580808080809"
        ],
        [
         "32",
         "2009-08-12",
         "0.03808653804424481"
        ],
        [
         "33",
         "2009-08-13",
         "0.07537412749394316"
        ],
        [
         "34",
         "2009-08-17",
         "0.10743195974208633"
        ],
        [
         "35",
         "2009-08-18",
         "0.11666666666666667"
        ],
        [
         "36",
         "2009-08-19",
         "0.06666666666666667"
        ],
        [
         "37",
         "2009-08-21",
         "0.11607142857142858"
        ],
        [
         "38",
         "2009-08-24",
         "-0.1042087542087542"
        ],
        [
         "39",
         "2009-08-25",
         "0.029105434039644565"
        ],
        [
         "40",
         "2009-08-26",
         "0.06621212121212122"
        ],
        [
         "41",
         "2009-08-27",
         "0.10163461538461539"
        ],
        [
         "42",
         "2009-08-28",
         "-0.12052380952380953"
        ],
        [
         "43",
         "2009-08-31",
         "-0.007539983164983166"
        ],
        [
         "44",
         "2009-09-01",
         "-0.01086760461760462"
        ],
        [
         "45",
         "2009-09-02",
         "0.08570318570318569"
        ],
        [
         "46",
         "2009-09-03",
         "0.04833333333333333"
        ],
        [
         "47",
         "2009-09-04",
         "0.07233333333333333"
        ],
        [
         "48",
         "2009-09-08",
         "0.05396231219760632"
        ],
        [
         "49",
         "2009-09-09",
         "0.0029143475572046993"
        ]
       ],
       "shape": {
        "columns": 2,
        "rows": 2757
       }
      },
      "text/html": [
       "<div>\n",
       "<style scoped>\n",
       "    .dataframe tbody tr th:only-of-type {\n",
       "        vertical-align: middle;\n",
       "    }\n",
       "\n",
       "    .dataframe tbody tr th {\n",
       "        vertical-align: top;\n",
       "    }\n",
       "\n",
       "    .dataframe thead th {\n",
       "        text-align: right;\n",
       "    }\n",
       "</style>\n",
       "<table border=\"1\" class=\"dataframe\">\n",
       "  <thead>\n",
       "    <tr style=\"text-align: right;\">\n",
       "      <th></th>\n",
       "      <th>date</th>\n",
       "      <th>sentiment</th>\n",
       "    </tr>\n",
       "  </thead>\n",
       "  <tbody>\n",
       "    <tr>\n",
       "      <th>0</th>\n",
       "      <td>2009-04-27</td>\n",
       "      <td>0.000000</td>\n",
       "    </tr>\n",
       "    <tr>\n",
       "      <th>1</th>\n",
       "      <td>2009-04-29</td>\n",
       "      <td>0.000000</td>\n",
       "    </tr>\n",
       "    <tr>\n",
       "      <th>2</th>\n",
       "      <td>2009-05-22</td>\n",
       "      <td>0.000000</td>\n",
       "    </tr>\n",
       "    <tr>\n",
       "      <th>3</th>\n",
       "      <td>2009-05-27</td>\n",
       "      <td>0.234091</td>\n",
       "    </tr>\n",
       "    <tr>\n",
       "      <th>4</th>\n",
       "      <td>2009-05-29</td>\n",
       "      <td>0.068182</td>\n",
       "    </tr>\n",
       "    <tr>\n",
       "      <th>...</th>\n",
       "      <td>...</td>\n",
       "      <td>...</td>\n",
       "    </tr>\n",
       "    <tr>\n",
       "      <th>2752</th>\n",
       "      <td>2020-06-05</td>\n",
       "      <td>0.118396</td>\n",
       "    </tr>\n",
       "    <tr>\n",
       "      <th>2753</th>\n",
       "      <td>2020-06-08</td>\n",
       "      <td>0.069246</td>\n",
       "    </tr>\n",
       "    <tr>\n",
       "      <th>2754</th>\n",
       "      <td>2020-06-09</td>\n",
       "      <td>0.013402</td>\n",
       "    </tr>\n",
       "    <tr>\n",
       "      <th>2755</th>\n",
       "      <td>2020-06-10</td>\n",
       "      <td>-0.010027</td>\n",
       "    </tr>\n",
       "    <tr>\n",
       "      <th>2756</th>\n",
       "      <td>2020-06-11</td>\n",
       "      <td>0.007430</td>\n",
       "    </tr>\n",
       "  </tbody>\n",
       "</table>\n",
       "<p>2757 rows × 2 columns</p>\n",
       "</div>"
      ],
      "text/plain": [
       "            date  sentiment\n",
       "0     2009-04-27   0.000000\n",
       "1     2009-04-29   0.000000\n",
       "2     2009-05-22   0.000000\n",
       "3     2009-05-27   0.234091\n",
       "4     2009-05-29   0.068182\n",
       "...          ...        ...\n",
       "2752  2020-06-05   0.118396\n",
       "2753  2020-06-08   0.069246\n",
       "2754  2020-06-09   0.013402\n",
       "2755  2020-06-10  -0.010027\n",
       "2756  2020-06-11   0.007430\n",
       "\n",
       "[2757 rows x 2 columns]"
      ]
     },
     "execution_count": 47,
     "metadata": {},
     "output_type": "execute_result"
    }
   ],
   "source": [
    "# daily sentiment on numerical sentiment values \n",
    "daily_sentiment_ = merged_df.groupby('date')['sentiment'].mean().reset_index()\n",
    "daily_sentiment_"
   ]
  },
  {
   "cell_type": "code",
   "execution_count": null,
   "id": "8462a80e",
   "metadata": {},
   "outputs": [
    {
     "data": {
      "application/vnd.microsoft.datawrangler.viewer.v0+json": {
       "columns": [
        {
         "name": "index",
         "rawType": "int64",
         "type": "integer"
        },
        {
         "name": "date",
         "rawType": "object",
         "type": "unknown"
        },
        {
         "name": "Daily_Return",
         "rawType": "float64",
         "type": "float"
        }
       ],
       "ref": "ce5ee76c-52dd-4675-b3b2-0c6371e66aa8",
       "rows": [
        [
         "0",
         "2009-04-27",
         "-1.5703246223388456"
        ],
        [
         "1",
         "2009-04-29",
         "-0.015426726549732095"
        ],
        [
         "2",
         "2009-05-22",
         "-0.2665526174185673"
        ],
        [
         "3",
         "2009-05-27",
         "-0.09046269693700593"
        ],
        [
         "4",
         "2009-05-29",
         "0.8080683830435099"
        ],
        [
         "5",
         "2009-06-01",
         "3.732377922841863"
        ],
        [
         "6",
         "2009-06-02",
         "0.39456856537284146"
        ],
        [
         "7",
         "2009-06-05",
         "0.9638223772798372"
        ],
        [
         "8",
         "2009-06-08",
         "-0.8293832759162844"
        ],
        [
         "9",
         "2009-06-09",
         "0.9889017651730226"
        ],
        [
         "10",
         "2009-06-15",
         "-0.9754841321240959"
        ],
        [
         "11",
         "2009-06-16",
         "-0.7684754211627465"
        ],
        [
         "12",
         "2009-06-19",
         "1.8565811202338978"
        ],
        [
         "13",
         "2009-06-22",
         "-3.6110374080348584"
        ],
        [
         "14",
         "2009-06-30",
         "-0.4631380594852974"
        ],
        [
         "15",
         "2009-07-07",
         "-3.1790901310190756"
        ],
        [
         "16",
         "2009-07-08",
         "1.088088510254086"
        ],
        [
         "17",
         "2009-07-10",
         "0.4247521418475886"
        ],
        [
         "18",
         "2009-07-14",
         "0.44251413197784917"
        ],
        [
         "19",
         "2009-07-15",
         "3.613157324517542"
        ],
        [
         "20",
         "2009-07-16",
         "1.96405933575166"
        ],
        [
         "21",
         "2009-07-17",
         "0.41198960697588216"
        ],
        [
         "22",
         "2009-07-21",
         "-0.27641188822923546"
        ],
        [
         "23",
         "2009-07-24",
         "-2.580985887273246"
        ],
        [
         "24",
         "2009-07-27",
         "-0.7898903630063914"
        ],
        [
         "25",
         "2009-07-30",
         "1.35577867865587"
        ],
        [
         "26",
         "2009-08-03",
         "1.9823856521232528"
        ],
        [
         "27",
         "2009-08-04",
         "-0.32845596412200306"
        ],
        [
         "28",
         "2009-08-06",
         "-0.8491329765102695"
        ],
        [
         "29",
         "2009-08-07",
         "1.68043829506356"
        ],
        [
         "30",
         "2009-08-10",
         "-1.0984810825825697"
        ],
        [
         "31",
         "2009-08-11",
         "-1.2700864731910966"
        ],
        [
         "32",
         "2009-08-12",
         "2.1706709472253127"
        ],
        [
         "33",
         "2009-08-13",
         "0.8933793524169453"
        ],
        [
         "34",
         "2009-08-17",
         "-3.3282250412225323"
        ],
        [
         "35",
         "2009-08-18",
         "1.846550152801556"
        ],
        [
         "36",
         "2009-08-19",
         "0.06296811055750418"
        ],
        [
         "37",
         "2009-08-21",
         "1.7347778179090234"
        ],
        [
         "38",
         "2009-08-24",
         "-0.3580236615527199"
        ],
        [
         "39",
         "2009-08-25",
         "0.25674953652027765"
        ],
        [
         "40",
         "2009-08-26",
         "-0.2618628584773064"
        ],
        [
         "41",
         "2009-08-27",
         "0.6236347460820846"
        ],
        [
         "42",
         "2009-08-28",
         "0.6666478580435564"
        ],
        [
         "43",
         "2009-08-31",
         "-1.03780572650356"
        ],
        [
         "44",
         "2009-09-01",
         "-2.30440116818895"
        ],
        [
         "45",
         "2009-09-02",
         "-0.22446304111048085"
        ],
        [
         "46",
         "2009-09-03",
         "1.1343165101628516"
        ],
        [
         "47",
         "2009-09-04",
         "1.885576910723663"
        ],
        [
         "48",
         "2009-09-08",
         "1.4246411101200152"
        ],
        [
         "49",
         "2009-09-09",
         "0.8790991624225364"
        ]
       ],
       "shape": {
        "columns": 2,
        "rows": 2757
       }
      },
      "text/html": [
       "<div>\n",
       "<style scoped>\n",
       "    .dataframe tbody tr th:only-of-type {\n",
       "        vertical-align: middle;\n",
       "    }\n",
       "\n",
       "    .dataframe tbody tr th {\n",
       "        vertical-align: top;\n",
       "    }\n",
       "\n",
       "    .dataframe thead th {\n",
       "        text-align: right;\n",
       "    }\n",
       "</style>\n",
       "<table border=\"1\" class=\"dataframe\">\n",
       "  <thead>\n",
       "    <tr style=\"text-align: right;\">\n",
       "      <th></th>\n",
       "      <th>date</th>\n",
       "      <th>Daily_Return</th>\n",
       "    </tr>\n",
       "  </thead>\n",
       "  <tbody>\n",
       "    <tr>\n",
       "      <th>0</th>\n",
       "      <td>2009-04-27</td>\n",
       "      <td>-1.570325</td>\n",
       "    </tr>\n",
       "    <tr>\n",
       "      <th>1</th>\n",
       "      <td>2009-04-29</td>\n",
       "      <td>-0.015427</td>\n",
       "    </tr>\n",
       "    <tr>\n",
       "      <th>2</th>\n",
       "      <td>2009-05-22</td>\n",
       "      <td>-0.266553</td>\n",
       "    </tr>\n",
       "    <tr>\n",
       "      <th>3</th>\n",
       "      <td>2009-05-27</td>\n",
       "      <td>-0.090463</td>\n",
       "    </tr>\n",
       "    <tr>\n",
       "      <th>4</th>\n",
       "      <td>2009-05-29</td>\n",
       "      <td>0.808068</td>\n",
       "    </tr>\n",
       "    <tr>\n",
       "      <th>...</th>\n",
       "      <td>...</td>\n",
       "      <td>...</td>\n",
       "    </tr>\n",
       "    <tr>\n",
       "      <th>2752</th>\n",
       "      <td>2020-06-05</td>\n",
       "      <td>2.020984</td>\n",
       "    </tr>\n",
       "    <tr>\n",
       "      <th>2753</th>\n",
       "      <td>2020-06-08</td>\n",
       "      <td>1.382198</td>\n",
       "    </tr>\n",
       "    <tr>\n",
       "      <th>2754</th>\n",
       "      <td>2020-06-09</td>\n",
       "      <td>1.790033</td>\n",
       "    </tr>\n",
       "    <tr>\n",
       "      <th>2755</th>\n",
       "      <td>2020-06-10</td>\n",
       "      <td>2.920262</td>\n",
       "    </tr>\n",
       "    <tr>\n",
       "      <th>2756</th>\n",
       "      <td>2020-06-11</td>\n",
       "      <td>-4.880188</td>\n",
       "    </tr>\n",
       "  </tbody>\n",
       "</table>\n",
       "<p>2757 rows × 2 columns</p>\n",
       "</div>"
      ],
      "text/plain": [
       "            date  Daily_Return\n",
       "0     2009-04-27     -1.570325\n",
       "1     2009-04-29     -0.015427\n",
       "2     2009-05-22     -0.266553\n",
       "3     2009-05-27     -0.090463\n",
       "4     2009-05-29      0.808068\n",
       "...          ...           ...\n",
       "2752  2020-06-05      2.020984\n",
       "2753  2020-06-08      1.382198\n",
       "2754  2020-06-09      1.790033\n",
       "2755  2020-06-10      2.920262\n",
       "2756  2020-06-11     -4.880188\n",
       "\n",
       "[2757 rows x 2 columns]"
      ]
     },
     "execution_count": 39,
     "metadata": {},
     "output_type": "execute_result"
    }
   ],
   "source": [
    "# aggregating Daily returns by date\n",
    "daily_Return_ = merged_df.groupby('date')['Daily_Return'].mean().reset_index()\n",
    "daily_Return_"
   ]
  },
  {
   "cell_type": "markdown",
   "id": "2d117391",
   "metadata": {},
   "source": [
    "#### Find the correlation between sentiment and daily return "
   ]
  },
  {
   "cell_type": "code",
   "execution_count": 60,
   "id": "5133be91",
   "metadata": {},
   "outputs": [
    {
     "data": {
      "application/vnd.microsoft.datawrangler.viewer.v0+json": {
       "columns": [
        {
         "name": "index",
         "rawType": "int64",
         "type": "integer"
        },
        {
         "name": "date",
         "rawType": "object",
         "type": "unknown"
        },
        {
         "name": "Daily_Return",
         "rawType": "float64",
         "type": "float"
        },
        {
         "name": "sentiment",
         "rawType": "float64",
         "type": "float"
        },
        {
         "name": "l_sentiment",
         "rawType": "object",
         "type": "string"
        }
       ],
       "ref": "84395363-259d-407c-b358-694f68b37fde",
       "rows": [
        [
         "0",
         "2009-04-27",
         "-1.5703246223388456",
         "0.0",
         "neutral"
        ],
        [
         "1",
         "2009-04-29",
         "-0.015426726549732095",
         "0.0",
         "neutral"
        ],
        [
         "2",
         "2009-05-22",
         "-0.2665526174185673",
         "0.0",
         "neutral"
        ],
        [
         "3",
         "2009-05-27",
         "-0.09046269693700593",
         "0.2340909090909091",
         "positive"
        ],
        [
         "4",
         "2009-05-29",
         "0.8080683830435099",
         "0.06818181818181818",
         "positive"
        ],
        [
         "5",
         "2009-06-01",
         "3.732377922841863",
         "0.128",
         "positive"
        ],
        [
         "6",
         "2009-06-02",
         "0.39456856537284146",
         "0.0",
         "neutral"
        ],
        [
         "7",
         "2009-06-05",
         "0.9638223772798372",
         "0.08333333333333333",
         "positive"
        ],
        [
         "8",
         "2009-06-08",
         "-0.8293832759162844",
         "0.21818181818181817",
         "positive"
        ],
        [
         "9",
         "2009-06-09",
         "0.9889017651730226",
         "0.0",
         "neutral"
        ],
        [
         "10",
         "2009-06-15",
         "-0.9754841321240959",
         "0.0",
         "neutral"
        ],
        [
         "11",
         "2009-06-16",
         "-0.7684754211627465",
         "0.7333333333333333",
         "positive"
        ],
        [
         "12",
         "2009-06-19",
         "1.8565811202338978",
         "0.0",
         "neutral"
        ],
        [
         "13",
         "2009-06-22",
         "-3.6110374080348584",
         "1.0",
         "positive"
        ],
        [
         "14",
         "2009-06-30",
         "-0.4631380594852974",
         "0.325",
         "positive"
        ],
        [
         "15",
         "2009-07-07",
         "-3.1790901310190756",
         "0.0",
         "neutral"
        ],
        [
         "16",
         "2009-07-08",
         "1.088088510254086",
         "0.0",
         "neutral"
        ],
        [
         "17",
         "2009-07-10",
         "0.4247521418475886",
         "0.0",
         "neutral"
        ],
        [
         "18",
         "2009-07-14",
         "0.44251413197784917",
         "0.0",
         "neutral"
        ],
        [
         "19",
         "2009-07-15",
         "3.613157324517542",
         "0.0",
         "neutral"
        ],
        [
         "20",
         "2009-07-16",
         "1.96405933575166",
         "0.0",
         "neutral"
        ],
        [
         "21",
         "2009-07-17",
         "0.41198960697588216",
         "0.0",
         "neutral"
        ],
        [
         "22",
         "2009-07-21",
         "-0.27641188822923546",
         "0.22857142857142862",
         "positive"
        ],
        [
         "23",
         "2009-07-24",
         "-2.580985887273246",
         "0.0",
         "neutral"
        ],
        [
         "24",
         "2009-07-27",
         "-0.7898903630063914",
         "0.02072711239377906",
         "neutral"
        ],
        [
         "25",
         "2009-07-30",
         "1.35577867865587",
         "0.0",
         "neutral"
        ],
        [
         "26",
         "2009-08-03",
         "1.9823856521232528",
         "0.25",
         "positive"
        ],
        [
         "27",
         "2009-08-04",
         "-0.32845596412200306",
         "-0.08571428571428572",
         "negative"
        ],
        [
         "28",
         "2009-08-06",
         "-0.8491329765102695",
         "0.023760932944606412",
         "neutral"
        ],
        [
         "29",
         "2009-08-07",
         "1.68043829506356",
         "0.06320697547793822",
         "neutral"
        ],
        [
         "30",
         "2009-08-10",
         "-1.0984810825825697",
         "0.06683963529096272",
         "neutral"
        ],
        [
         "31",
         "2009-08-11",
         "-1.2700864731910966",
         "0.11745580808080809",
         "neutral"
        ],
        [
         "32",
         "2009-08-12",
         "2.1706709472253127",
         "0.03808653804424481",
         "neutral"
        ],
        [
         "33",
         "2009-08-13",
         "0.8933793524169453",
         "0.07537412749394316",
         "neutral"
        ],
        [
         "34",
         "2009-08-17",
         "-3.3282250412225323",
         "0.10743195974208633",
         "neutral"
        ],
        [
         "35",
         "2009-08-18",
         "1.846550152801556",
         "0.11666666666666667",
         "neutral"
        ],
        [
         "36",
         "2009-08-19",
         "0.06296811055750418",
         "0.06666666666666667",
         "neutral"
        ],
        [
         "37",
         "2009-08-21",
         "1.7347778179090234",
         "0.11607142857142858",
         "neutral"
        ],
        [
         "38",
         "2009-08-24",
         "-0.3580236615527199",
         "-0.1042087542087542",
         "neutral"
        ],
        [
         "39",
         "2009-08-25",
         "0.25674953652027765",
         "0.029105434039644565",
         "neutral"
        ],
        [
         "40",
         "2009-08-26",
         "-0.2618628584773064",
         "0.06621212121212122",
         "neutral"
        ],
        [
         "41",
         "2009-08-27",
         "0.6236347460820846",
         "0.10163461538461539",
         "neutral"
        ],
        [
         "42",
         "2009-08-28",
         "0.6666478580435564",
         "-0.12052380952380953",
         "negative"
        ],
        [
         "43",
         "2009-08-31",
         "-1.03780572650356",
         "-0.007539983164983166",
         "neutral"
        ],
        [
         "44",
         "2009-09-01",
         "-2.30440116818895",
         "-0.01086760461760462",
         "neutral"
        ],
        [
         "45",
         "2009-09-02",
         "-0.22446304111048085",
         "0.08570318570318569",
         "neutral"
        ],
        [
         "46",
         "2009-09-03",
         "1.1343165101628516",
         "0.04833333333333333",
         "neutral"
        ],
        [
         "47",
         "2009-09-04",
         "1.885576910723663",
         "0.07233333333333333",
         "neutral"
        ],
        [
         "48",
         "2009-09-08",
         "1.4246411101200152",
         "0.05396231219760632",
         "neutral"
        ],
        [
         "49",
         "2009-09-09",
         "0.8790991624225364",
         "0.0029143475572046993",
         "neutral"
        ]
       ],
       "shape": {
        "columns": 4,
        "rows": 2757
       }
      },
      "text/html": [
       "<div>\n",
       "<style scoped>\n",
       "    .dataframe tbody tr th:only-of-type {\n",
       "        vertical-align: middle;\n",
       "    }\n",
       "\n",
       "    .dataframe tbody tr th {\n",
       "        vertical-align: top;\n",
       "    }\n",
       "\n",
       "    .dataframe thead th {\n",
       "        text-align: right;\n",
       "    }\n",
       "</style>\n",
       "<table border=\"1\" class=\"dataframe\">\n",
       "  <thead>\n",
       "    <tr style=\"text-align: right;\">\n",
       "      <th></th>\n",
       "      <th>date</th>\n",
       "      <th>Daily_Return</th>\n",
       "      <th>sentiment</th>\n",
       "      <th>l_sentiment</th>\n",
       "    </tr>\n",
       "  </thead>\n",
       "  <tbody>\n",
       "    <tr>\n",
       "      <th>0</th>\n",
       "      <td>2009-04-27</td>\n",
       "      <td>-1.570325</td>\n",
       "      <td>0.000000</td>\n",
       "      <td>neutral</td>\n",
       "    </tr>\n",
       "    <tr>\n",
       "      <th>1</th>\n",
       "      <td>2009-04-29</td>\n",
       "      <td>-0.015427</td>\n",
       "      <td>0.000000</td>\n",
       "      <td>neutral</td>\n",
       "    </tr>\n",
       "    <tr>\n",
       "      <th>2</th>\n",
       "      <td>2009-05-22</td>\n",
       "      <td>-0.266553</td>\n",
       "      <td>0.000000</td>\n",
       "      <td>neutral</td>\n",
       "    </tr>\n",
       "    <tr>\n",
       "      <th>3</th>\n",
       "      <td>2009-05-27</td>\n",
       "      <td>-0.090463</td>\n",
       "      <td>0.234091</td>\n",
       "      <td>positive</td>\n",
       "    </tr>\n",
       "    <tr>\n",
       "      <th>4</th>\n",
       "      <td>2009-05-29</td>\n",
       "      <td>0.808068</td>\n",
       "      <td>0.068182</td>\n",
       "      <td>positive</td>\n",
       "    </tr>\n",
       "    <tr>\n",
       "      <th>...</th>\n",
       "      <td>...</td>\n",
       "      <td>...</td>\n",
       "      <td>...</td>\n",
       "      <td>...</td>\n",
       "    </tr>\n",
       "    <tr>\n",
       "      <th>2752</th>\n",
       "      <td>2020-06-05</td>\n",
       "      <td>2.020984</td>\n",
       "      <td>0.118396</td>\n",
       "      <td>positive</td>\n",
       "    </tr>\n",
       "    <tr>\n",
       "      <th>2753</th>\n",
       "      <td>2020-06-08</td>\n",
       "      <td>1.382198</td>\n",
       "      <td>0.069246</td>\n",
       "      <td>positive</td>\n",
       "    </tr>\n",
       "    <tr>\n",
       "      <th>2754</th>\n",
       "      <td>2020-06-09</td>\n",
       "      <td>1.790033</td>\n",
       "      <td>0.013402</td>\n",
       "      <td>neutral</td>\n",
       "    </tr>\n",
       "    <tr>\n",
       "      <th>2755</th>\n",
       "      <td>2020-06-10</td>\n",
       "      <td>2.920262</td>\n",
       "      <td>-0.010027</td>\n",
       "      <td>neutral</td>\n",
       "    </tr>\n",
       "    <tr>\n",
       "      <th>2756</th>\n",
       "      <td>2020-06-11</td>\n",
       "      <td>-4.880188</td>\n",
       "      <td>0.007430</td>\n",
       "      <td>neutral</td>\n",
       "    </tr>\n",
       "  </tbody>\n",
       "</table>\n",
       "<p>2757 rows × 4 columns</p>\n",
       "</div>"
      ],
      "text/plain": [
       "            date  Daily_Return  sentiment l_sentiment\n",
       "0     2009-04-27     -1.570325   0.000000     neutral\n",
       "1     2009-04-29     -0.015427   0.000000     neutral\n",
       "2     2009-05-22     -0.266553   0.000000     neutral\n",
       "3     2009-05-27     -0.090463   0.234091    positive\n",
       "4     2009-05-29      0.808068   0.068182    positive\n",
       "...          ...           ...        ...         ...\n",
       "2752  2020-06-05      2.020984   0.118396    positive\n",
       "2753  2020-06-08      1.382198   0.069246    positive\n",
       "2754  2020-06-09      1.790033   0.013402     neutral\n",
       "2755  2020-06-10      2.920262  -0.010027     neutral\n",
       "2756  2020-06-11     -4.880188   0.007430     neutral\n",
       "\n",
       "[2757 rows x 4 columns]"
      ]
     },
     "execution_count": 60,
     "metadata": {},
     "output_type": "execute_result"
    }
   ],
   "source": [
    "# Creating correlation dataframe \n",
    "correlation_df = pd.merge(daily_Return_, daily_sentiment_, on='date', how='inner')\n",
    "correlation_df = pd.merge(correlation_df,daily_sentiment, on ='date', how = 'inner')\n",
    "correlation_df"
   ]
  },
  {
   "cell_type": "code",
   "execution_count": 88,
   "id": "1817f517",
   "metadata": {},
   "outputs": [
    {
     "name": "stdout",
     "output_type": "stream",
     "text": [
      "Correlation between daily returns and sentiments: 0.002454098278958313\n"
     ]
    }
   ],
   "source": [
    "# Correlation between\n",
    "from scipy.stats import pearsonr \n",
    "correlation, p_value = pearsonr(correlation_df['Daily_Return'], correlation_df['sentiment'])\n",
    "print(f\"Correlation between daily returns and sentiments: {correlation}\")"
   ]
  },
  {
   "cell_type": "markdown",
   "id": "f5c06b14",
   "metadata": {},
   "source": [
    "- This indicates an extremely weak linear relationship between daily returns and sentiment. \n",
    "  - which means changes in sentiment have almost no linear association with changes in daily returns.\n",
    "  - The positive value suggests a slight positive relationship, meaning that as sentiment becomes more positive, daily returns might increase slightly, but the effect is negligible due to the small magnitude."
   ]
  },
  {
   "cell_type": "code",
   "execution_count": 89,
   "id": "f1680952",
   "metadata": {},
   "outputs": [
    {
     "data": {
      "image/png": "[encoded data removed]",
      "text/plain": [
       "<Figure size 800x600 with 2 Axes>"
      ]
     },
     "metadata": {},
     "output_type": "display_data"
    }
   ],
   "source": [
    "# Create heatmap\n",
    "plt.figure(figsize=(8, 6))\n",
    "sns.heatmap(correlation_df[['Daily_Return','sentiment']].corr(), annot=True, cmap='coolwarm', vmin=-1, vmax=1, center=0,\n",
    "            fmt='.2f', square=True, cbar_kws={'label': 'Correlation'})\n",
    "plt.title('Correlation Heatmap: Daily Returns Across Tickers')\n",
    "plt.show()\n"
   ]
  },
  {
   "cell_type": "code",
   "execution_count": 65,
   "id": "8d474a29",
   "metadata": {},
   "outputs": [
    {
     "name": "stderr",
     "output_type": "stream",
     "text": [
      "C:\\Users\\jonep\\AppData\\Local\\Temp\\ipykernel_4504\\1672143614.py:14: UserWarning:\n",
      "\n",
      "No artists with labels found to put in legend.  Note that artists whose label start with an underscore are ignored when legend() is called with no argument.\n",
      "\n"
     ]
    },
    {
     "data": {
      "image/png": "[encoded data removed]",
      "text/plain": [
       "<Figure size 1000x600 with 1 Axes>"
      ]
     },
     "metadata": {},
     "output_type": "display_data"
    }
   ],
   "source": [
    "import seaborn as sns\n",
    "import matplotlib.pyplot as plt\n",
    "# Set Seaborn style\n",
    "sns.set_style(\"whitegrid\")\n",
    "\n",
    "# Create histogram with sentiment as color\n",
    "plt.figure(figsize=(10, 6))\n",
    "sns.histplot(data=correlation_df, x='Daily_Return', hue='l_sentiment', color='l_sentiment')\n",
    "\n",
    "# Customize layout\n",
    "plt.title('Histogram of Daily Returns by Sentiment')\n",
    "plt.xlabel('Daily Return')\n",
    "plt.ylabel('Count')\n",
    "plt.legend(title='Sentiment')\n",
    "\n",
    "# Show plot\n",
    "plt.show()"
   ]
  },
  {
   "cell_type": "code",
   "execution_count": null,
   "id": "a1d34f86",
   "metadata": {},
   "outputs": [],
   "source": []
  }
 ],
 "metadata": {
  "kernelspec": {
   "display_name": "Python 3",
   "language": "python",
   "name": "python3"
  },
  "language_info": {
   "codemirror_mode": {
    "name": "ipython",
    "version": 3
   },
   "file_extension": ".py",
   "mimetype": "text/x-python",
   "name": "python",
   "nbconvert_exporter": "python",
   "pygments_lexer": "ipython3",
   "version": "3.13.1"
  }
 },
 "nbformat": 4,
 "nbformat_minor": 5
}
